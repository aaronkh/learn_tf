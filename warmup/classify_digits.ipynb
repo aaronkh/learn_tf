{
 "cells": [
  {
   "cell_type": "markdown",
   "metadata": {},
   "source": [
    "# A simple NN classifier\n",
    "## The most basic tensorflow example\n",
    "------\n",
    "Code used: [Basic classification](https://www.tensorflow.org/tutorials/keras/classification)"
   ]
  },
  {
   "cell_type": "markdown",
   "metadata": {},
   "source": [
    "## Step 0: Imports and initialization"
   ]
  },
  {
   "cell_type": "code",
   "execution_count": 1,
   "metadata": {},
   "outputs": [],
   "source": [
    "import tensorflow as tf\n",
    "from tensorflow import keras"
   ]
  },
  {
   "cell_type": "code",
   "execution_count": 2,
   "metadata": {},
   "outputs": [],
   "source": [
    "import numpy as np\n",
    "import matplotlib.pyplot as plt\n",
    "%matplotlib inline"
   ]
  },
  {
   "cell_type": "code",
   "execution_count": 3,
   "metadata": {},
   "outputs": [],
   "source": [
    "# Our dataset\n",
    "fashion_mnist = keras.datasets.fashion_mnist\n",
    "(train_images, train_labels), (test_images, test_labels) = fashion_mnist.load_data()"
   ]
  },
  {
   "cell_type": "markdown",
   "metadata": {},
   "source": [
    "Each image above contains a 28 by 28 2D array of values between 0 and 255. The labels arrays contain a number representing a different category of clothing."
   ]
  },
  {
   "cell_type": "code",
   "execution_count": 4,
   "metadata": {},
   "outputs": [],
   "source": [
    "# For easier labeling, initalize the category names\n",
    "class_names = ['T-shirt/top', 'Trouser', 'Pullover', 'Dress', 'Coat',\n",
    "               'Sandal', 'Shirt', 'Sneaker', 'Bag', 'Ankle boot']"
   ]
  },
  {
   "cell_type": "code",
   "execution_count": 5,
   "metadata": {},
   "outputs": [
    {
     "data": {
      "image/png": "[encoded data removed]",
      "text/plain": [
       "<Figure size 432x288 with 1 Axes>"
      ]
     },
     "metadata": {
      "needs_background": "light"
     },
     "output_type": "display_data"
    }
   ],
   "source": [
    "# An example image\n",
    "plt.imshow(train_images[0])\n",
    "plt.title(class_names[train_labels[0]]);"
   ]
  },
  {
   "cell_type": "code",
   "execution_count": 6,
   "metadata": {},
   "outputs": [],
   "source": [
    "# Pre-process the data by scaling it [0, 255] => [0, 1]\n",
    "# Question: What happens if we don't?\n",
    "train_images = train_images/255.0\n",
    "test_images = test_images/255.0"
   ]
  },
  {
   "cell_type": "markdown",
   "metadata": {},
   "source": [
    "## Step 1: Building the model"
   ]
  },
  {
   "cell_type": "code",
   "execution_count": 7,
   "metadata": {},
   "outputs": [],
   "source": [
    "model = keras.Sequential([\n",
    "    keras.layers.Flatten(input_shape=(28, 28)), # Question: Why do we need to flatten?\n",
    "    keras.layers.Dense(128, activation='relu'), # Experiment with different activation functions!\n",
    "    keras.layers.Dense(10)\n",
    "])"
   ]
  },
  {
   "cell_type": "markdown",
   "metadata": {},
   "source": [
    "`keras.Sequential` describes the model as as series of operations starting with the first array element. For our purposes, we'll use the following CNN model:\n",
    "1. Flatten: This layer transforms our 28x28 image into a single vector of length 28\\*28=784.\n",
    "2. Neural layer: This layer contains `128` neurons. It learns how to classify the image. \n",
    "3. Output layer: This layer contains 10 neurons to activate with one corresponding to each possible category.\n",
    "\n",
    "Note that the `dense` keyword for the last two layers mean that they are *densely connected* to each other (that is, they are fully connected). "
   ]
  },
  {
   "cell_type": "code",
   "execution_count": 8,
   "metadata": {},
   "outputs": [],
   "source": [
    "model.compile(optimizer='adam',\n",
    "              loss=tf.keras.losses.SparseCategoricalCrossentropy(from_logits=True),\n",
    "              metrics=['accuracy'])"
   ]
  },
  {
   "cell_type": "markdown",
   "metadata": {},
   "source": [
    "We need to compile the model before we can use it. This method requires a loss function to be specified at the minimum, but we can also set other parameters as above. Above are the recommended parameters as provided by the TF tutorial, but feel free to experiment with others. "
   ]
  },
  {
   "cell_type": "markdown",
   "metadata": {},
   "source": [
    "## Step 2: Training the model"
   ]
  },
  {
   "cell_type": "code",
   "execution_count": 9,
   "metadata": {},
   "outputs": [
    {
     "name": "stdout",
     "output_type": "stream",
     "text": [
      "Train on 60000 samples\n",
      "Epoch 1/10\n",
      "60000/60000 [==============================] - 6s 107us/sample - loss: 0.4984 - accuracy: 0.8246\n",
      "Epoch 2/10\n",
      "60000/60000 [==============================] - 7s 109us/sample - loss: 0.3760 - accuracy: 0.8637\n",
      "Epoch 3/10\n",
      "60000/60000 [==============================] - 6s 99us/sample - loss: 0.3355 - accuracy: 0.8773\n",
      "Epoch 4/10\n",
      "60000/60000 [==============================] - 7s 120us/sample - loss: 0.3096 - accuracy: 0.8861\n",
      "Epoch 5/10\n",
      "60000/60000 [==============================] - 8s 130us/sample - loss: 0.2933 - accuracy: 0.8912\n",
      "Epoch 6/10\n",
      "60000/60000 [==============================] - 9s 144us/sample - loss: 0.2785 - accuracy: 0.8976\n",
      "Epoch 7/10\n",
      "60000/60000 [==============================] - 8s 127us/sample - loss: 0.2659 - accuracy: 0.9018\n",
      "Epoch 8/10\n",
      "60000/60000 [==============================] - 9s 151us/sample - loss: 0.2569 - accuracy: 0.9038\n",
      "Epoch 9/10\n",
      "60000/60000 [==============================] - 12s 196us/sample - loss: 0.2462 - accuracy: 0.9078\n",
      "Epoch 10/10\n",
      "60000/60000 [==============================] - 12s 195us/sample - loss: 0.2419 - accuracy: 0.9088\n"
     ]
    }
   ],
   "source": [
    "model.fit(train_images, train_labels, epochs=10);"
   ]
  },
  {
   "cell_type": "markdown",
   "metadata": {},
   "source": [
    "Pretty self-explanatory: given a training set and training labels, fit the model to the data. Defaults to 1 epoch (which obviously is not very accurate at all)."
   ]
  },
  {
   "cell_type": "markdown",
   "metadata": {},
   "source": [
    "## Step 3: Testing the model"
   ]
  },
  {
   "cell_type": "markdown",
   "metadata": {},
   "source": [
    "Keras includes the very handy `model.evaluate` method for testing the trained model against a test set. "
   ]
  },
  {
   "cell_type": "code",
   "execution_count": 10,
   "metadata": {},
   "outputs": [
    {
     "name": "stdout",
     "output_type": "stream",
     "text": [
      "10000/1 - 1s - loss: 0.2528 - accuracy: 0.8760\n"
     ]
    }
   ],
   "source": [
    "# The verbose=2 parameter squelches other ouput other than loss and accuracy.\n",
    "test_loss, test_acc = model.evaluate(test_images,  test_labels, verbose=2)"
   ]
  },
  {
   "cell_type": "markdown",
   "metadata": {},
   "source": [
    "The model has a test accuracy that is lower than the training score, suggesting overfitting. \n",
    "\n",
    "In the future, we might consider adding a regularization parameter using the `kernel_regularizer` while building our model layers. Adding dropout to the model is also a valid approach to minimizing overfitting here. We can do this by adding a dropout layer before the output with `layers.Dropout(0.5)`.\n",
    "\n",
    "Of course, combining *both* approaches would usually lead to the best results, and Keras makes it easy to iteratively build our model!"
   ]
  },
  {
   "cell_type": "markdown",
   "metadata": {},
   "source": [
    "## Step 4: Using the model"
   ]
  },
  {
   "cell_type": "code",
   "execution_count": 11,
   "metadata": {},
   "outputs": [
    {
     "data": {
      "text/plain": [
       "9"
      ]
     },
     "execution_count": 11,
     "metadata": {},
     "output_type": "execute_result"
    }
   ],
   "source": [
    "predictions = model.predict(test_images)\n",
    "np.argmax(predictions[0])"
   ]
  },
  {
   "cell_type": "markdown",
   "metadata": {},
   "source": [
    "Simply call `model.predict` to get predictions. This method will return the results of the ouput layer (i.e. a list of porbabilities), so we call `np.argmax` to get the most likely one. \n",
    "\n",
    "Note that `keras` optimizes for *batch prediction*; `model.predict` expects and uses a **list of inputs** not a single data point."
   ]
  },
  {
   "cell_type": "code",
   "execution_count": 12,
   "metadata": {},
   "outputs": [
    {
     "data": {
      "text/plain": [
       "array([4.5213996e-10, 8.5948254e-12, 1.3900605e-11, 5.8819807e-12,\n",
       "       3.8728057e-10, 4.3336307e-03, 1.0762592e-08, 4.9579889e-03,\n",
       "       1.8381929e-08, 9.9070835e-01], dtype=float32)"
      ]
     },
     "execution_count": 12,
     "metadata": {},
     "output_type": "execute_result"
    }
   ],
   "source": [
    "probability_model = tf.keras.Sequential([model, \n",
    "                                         tf.keras.layers.Softmax()])\n",
    "predictions = probability_model.predict(test_images)\n",
    "predictions[0]"
   ]
  },
  {
   "cell_type": "markdown",
   "metadata": {},
   "source": [
    "It's good practice to apply a final Softmax layer to scale the probabilities between 0 and 1. Calling `argmax` on the results will net the same output as not having the layer (but we don't add it onto our trained model as it messes with the outputs)."
   ]
  },
  {
   "cell_type": "code",
   "execution_count": 15,
   "metadata": {},
   "outputs": [
    {
     "data": {
      "text/plain": [
       "9"
      ]
     },
     "execution_count": 15,
     "metadata": {},
     "output_type": "execute_result"
    }
   ],
   "source": [
    "np.argmax(predictions[0])"
   ]
  },
  {
   "cell_type": "markdown",
   "metadata": {},
   "source": [
    "Try out some of the test images below!"
   ]
  },
  {
   "cell_type": "code",
   "execution_count": 16,
   "metadata": {},
   "outputs": [
    {
     "data": {
      "application/vnd.jupyter.widget-view+json": {
       "model_id": "69616ee6495f4c6da6554a004dd581be",
       "version_major": 2,
       "version_minor": 0
      },
      "text/plain": [
       "interactive(children=(Text(value='1', description='image'), Output()), _dom_classes=('widget-interact',))"
      ]
     },
     "metadata": {},
     "output_type": "display_data"
    }
   ],
   "source": [
    "from ipywidgets.widgets import interact\n",
    "\n",
    "@interact(image='1')\n",
    "def predict_and_display(image):\n",
    "    try:\n",
    "        i = int(image)\n",
    "        plt.imshow(test_images[i])\n",
    "        plt.title(f'This is a {class_names[np.argmax(predictions[i])]}')\n",
    "        plt.xlabel(f'Actually a {class_names[test_labels[i]]}')\n",
    "        print('Probabilities\\n'+'-'*22)\n",
    "        for j in range(len(class_names)):\n",
    "            print(f'{class_names[j]:<12}{str(round(predictions[i][j], 4)):>10}')\n",
    "    except ValueError:\n",
    "        return"
   ]
  }
 ],
 "metadata": {
  "kernelspec": {
   "display_name": "learn_tf",
   "language": "python",
   "name": "learn_tf"
  },
  "language_info": {
   "codemirror_mode": {
    "name": "ipython",
    "version": 3
   },
   "file_extension": ".py",
   "mimetype": "text/x-python",
   "name": "python",
   "nbconvert_exporter": "python",
   "pygments_lexer": "ipython3",
   "version": "3.6.7"
  }
 },
 "nbformat": 4,
 "nbformat_minor": 4
}
