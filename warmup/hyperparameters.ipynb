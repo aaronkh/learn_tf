{
 "cells": [
  {
   "cell_type": "markdown",
   "metadata": {},
   "source": [
    "# Hyperparameterization with Keras\n",
    "## A Hyperparameterized \"Digit Classifier\"\n",
    "-----\n",
    "Adapted from [Keras Tuner](https://www.tensorflow.org/tutorials/keras/keras_tuner)    \n",
    "For more info on the steps taken here, read over the classify digits example."
   ]
  },
  {
   "cell_type": "markdown",
   "metadata": {},
   "source": [
    "## Step 0: Imports and Initialization"
   ]
  },
  {
   "cell_type": "markdown",
   "metadata": {},
   "source": [
    "We'll use the exact same dataset and imports as our more basic example..."
   ]
  },
  {
   "cell_type": "code",
   "execution_count": 1,
   "metadata": {},
   "outputs": [],
   "source": [
    "import tensorflow as tf\n",
    "from tensorflow import keras\n",
    "import IPython"
   ]
  },
  {
   "cell_type": "code",
   "execution_count": 2,
   "metadata": {},
   "outputs": [],
   "source": [
    "import numpy as np\n",
    "import matplotlib.pyplot as plt\n",
    "%matplotlib inline"
   ]
  },
  {
   "cell_type": "markdown",
   "metadata": {},
   "source": [
    "...with one exception: the keras tuner"
   ]
  },
  {
   "cell_type": "code",
   "execution_count": 3,
   "metadata": {},
   "outputs": [],
   "source": [
    "import kerastuner as kt"
   ]
  },
  {
   "cell_type": "markdown",
   "metadata": {},
   "source": [
    "Take a look at our dataset first and make sure everything's OK. Then split it up into training and test sets."
   ]
  },
  {
   "cell_type": "code",
   "execution_count": 4,
   "metadata": {},
   "outputs": [],
   "source": [
    "# Our dataset\n",
    "fashion_mnist = keras.datasets.fashion_mnist\n",
    "(train_images, train_labels), (test_images, test_labels) = fashion_mnist.load_data()"
   ]
  },
  {
   "cell_type": "code",
   "execution_count": 5,
   "metadata": {},
   "outputs": [],
   "source": [
    "# For easier labeling, initalize the category names\n",
    "class_names = ['T-shirt/top', 'Trouser', 'Pullover', 'Dress', 'Coat',\n",
    "               'Sandal', 'Shirt', 'Sneaker', 'Bag', 'Ankle boot']"
   ]
  },
  {
   "cell_type": "code",
   "execution_count": 6,
   "metadata": {},
   "outputs": [
    {
     "data": {
      "image/png": "[encoded data removed]",
      "text/plain": [
       "<Figure size 432x288 with 1 Axes>"
      ]
     },
     "metadata": {
      "needs_background": "light"
     },
     "output_type": "display_data"
    }
   ],
   "source": [
    "# An example image\n",
    "plt.imshow(train_images[0])\n",
    "plt.title(class_names[train_labels[0]]);"
   ]
  },
  {
   "cell_type": "code",
   "execution_count": 7,
   "metadata": {},
   "outputs": [],
   "source": [
    "train_images = train_images/255.0\n",
    "test_images = test_images/255.0"
   ]
  },
  {
   "cell_type": "markdown",
   "metadata": {},
   "source": [
    "## Step 1: Building the Model"
   ]
  },
  {
   "cell_type": "markdown",
   "metadata": {},
   "source": [
    "The Keras function for hyperparameters takes our model as a function, so we'll structure and compile the model in a function."
   ]
  },
  {
   "cell_type": "code",
   "execution_count": 8,
   "metadata": {},
   "outputs": [],
   "source": [
    "def create_model(hp):\n",
    "    hp_units = hp.Int('units', min_value = 32, max_value = 512, step = 32)\n",
    "    model = keras.Sequential([\n",
    "        keras.layers.Flatten(input_shape=(28, 28)),\n",
    "        keras.layers.Dense(activation='relu', units=hp_units),\n",
    "        keras.layers.Dense(10)\n",
    "    ])\n",
    "    hp_learning_rate = hp.Choice('learning_rate', values = [1e-2, 1e-3, 1e-4]) \n",
    "    model.compile(optimizer=keras.optimizers.Adam(learning_rate=hp_learning_rate),\n",
    "              loss=tf.keras.losses.SparseCategoricalCrossentropy(from_logits=True),\n",
    "              metrics=['accuracy'])\n",
    "    return model"
   ]
  },
  {
   "cell_type": "markdown",
   "metadata": {},
   "source": [
    "In the function above, we use the exact same model as our basic example. Here, we tune our **units (layer size)** and  **learning rate**. Though you could tune other parameters, these two provide a good example of using some of our available hyperparameter options. Each one is given a name as the first parameter, which we'll refer to later.\n",
    "\n",
    "Finally, we create the complete model, hyperparameters included, with the `Hyperband` method."
   ]
  },
  {
   "cell_type": "code",
   "execution_count": 9,
   "metadata": {},
   "outputs": [],
   "source": [
    "tuner = kt.Hyperband(create_model,\n",
    "                     objective = 'val_accuracy', \n",
    "                     max_epochs = 10,\n",
    "                     factor = 3)   "
   ]
  },
  {
   "cell_type": "markdown",
   "metadata": {},
   "source": [
    "## Step 2: Training the Model"
   ]
  },
  {
   "cell_type": "markdown",
   "metadata": {},
   "source": [
    "Even though we have our model set up, we still need to train it. Unsurprisingly, this process takes way longer than without hyperparameters. Feel free to watch a movie and come back to this step, it's going to take a while.\n",
    "\n",
    "Note that there's a training callback to clear the notebook cell. Though it isn't necessary, it does prevent the cell output from getting too long. For more information about custon callbacks, see [the documentation](https://keras.io/guides/writing_your_own_callbacks/).\n",
    "\n",
    "`tuner.search` has optional parameter `directory` in which it saves and resumes checkpoints. By default, it is `untitled_project`. If you find that your hyperparameter search is exiting early, it might be because Keras detects an existing directory of the same name and is attempting to resume from there. You may have to specify a different directory or deleting any previous checkpoints and try again."
   ]
  },
  {
   "cell_type": "code",
   "execution_count": 10,
   "metadata": {},
   "outputs": [
    {
     "name": "stdout",
     "output_type": "stream",
     "text": []
    },
    {
     "name": "stdout",
     "output_type": "stream",
     "text": [
      "1875/1875 [==============================] - 6s 3ms/step - loss: 0.3027 - accuracy: 0.8924 - val_loss: 0.3602 - val_accuracy: 0.8738\n"
     ]
    },
    {
     "data": {
      "text/html": [
       "<span style=\"color:#4527A0\"><h1 style=\"font-size:18px\">Trial complete</h1></span>"
      ],
      "text/plain": [
       "<IPython.core.display.HTML object>"
      ]
     },
     "metadata": {},
     "output_type": "display_data"
    },
    {
     "data": {
      "text/html": [
       "<span style=\"color:#4527A0\"><h1 style=\"font-size:18px\">Trial summary</h1></span>"
      ],
      "text/plain": [
       "<IPython.core.display.HTML object>"
      ]
     },
     "metadata": {},
     "output_type": "display_data"
    },
    {
     "data": {
      "text/html": [
       "<span style=\"color:cyan\"> |-Trial ID: 55042c9807d335aa98f11f4632cb0c78</span>"
      ],
      "text/plain": [
       "<IPython.core.display.HTML object>"
      ]
     },
     "metadata": {},
     "output_type": "display_data"
    },
    {
     "data": {
      "text/html": [
       "<span style=\"color:cyan\"> |-Score: 0.8737999796867371</span>"
      ],
      "text/plain": [
       "<IPython.core.display.HTML object>"
      ]
     },
     "metadata": {},
     "output_type": "display_data"
    },
    {
     "data": {
      "text/html": [
       "<span style=\"color:cyan\"> |-Best step: 0</span>"
      ],
      "text/plain": [
       "<IPython.core.display.HTML object>"
      ]
     },
     "metadata": {},
     "output_type": "display_data"
    },
    {
     "data": {
      "text/html": [
       "<span style=\"color:#7E57C2\"><h2 style=\"font-size:16px\">Hyperparameters:</h2></span>"
      ],
      "text/plain": [
       "<IPython.core.display.HTML object>"
      ]
     },
     "metadata": {},
     "output_type": "display_data"
    },
    {
     "data": {
      "text/html": [
       "<span style=\"color:cyan\"> |-learning_rate: 0.0001</span>"
      ],
      "text/plain": [
       "<IPython.core.display.HTML object>"
      ]
     },
     "metadata": {},
     "output_type": "display_data"
    },
    {
     "data": {
      "text/html": [
       "<span style=\"color:blue\"> |-tuner/bracket: 0</span>"
      ],
      "text/plain": [
       "<IPython.core.display.HTML object>"
      ]
     },
     "metadata": {},
     "output_type": "display_data"
    },
    {
     "data": {
      "text/html": [
       "<span style=\"color:cyan\"> |-tuner/epochs: 10</span>"
      ],
      "text/plain": [
       "<IPython.core.display.HTML object>"
      ]
     },
     "metadata": {},
     "output_type": "display_data"
    },
    {
     "data": {
      "text/html": [
       "<span style=\"color:blue\"> |-tuner/initial_epoch: 0</span>"
      ],
      "text/plain": [
       "<IPython.core.display.HTML object>"
      ]
     },
     "metadata": {},
     "output_type": "display_data"
    },
    {
     "data": {
      "text/html": [
       "<span style=\"color:cyan\"> |-tuner/round: 0</span>"
      ],
      "text/plain": [
       "<IPython.core.display.HTML object>"
      ]
     },
     "metadata": {},
     "output_type": "display_data"
    },
    {
     "data": {
      "text/html": [
       "<span style=\"color:blue\"> |-units: 288</span>"
      ],
      "text/plain": [
       "<IPython.core.display.HTML object>"
      ]
     },
     "metadata": {},
     "output_type": "display_data"
    },
    {
     "name": "stdout",
     "output_type": "stream",
     "text": [
      "INFO:tensorflow:Oracle triggered exit\n"
     ]
    }
   ],
   "source": [
    "clear_output = tf.keras.callbacks.Callback()\n",
    "clear_output.on_epoch_end = lambda _, __: IPython.display.clear_output(wait=True)\n",
    "tuner.search(train_images, train_labels, epochs = 10, validation_data = (test_images, test_labels), callbacks=[clear_output])"
   ]
  },
  {
   "cell_type": "markdown",
   "metadata": {},
   "source": [
    "We can view the results using the `get_best_hyperparameters` method. It returns an array of Hyperparameter objects, from which you can access your hyperpararmeters individually with their respective getters."
   ]
  },
  {
   "cell_type": "code",
   "execution_count": 11,
   "metadata": {},
   "outputs": [
    {
     "data": {
      "text/plain": [
       "(416, 0.001)"
      ]
     },
     "execution_count": 11,
     "metadata": {},
     "output_type": "execute_result"
    }
   ],
   "source": [
    "best_hps = tuner.get_best_hyperparameters()[0]\n",
    "best_hps.get('units'), best_hps.get('learning_rate')"
   ]
  },
  {
   "cell_type": "markdown",
   "metadata": {},
   "source": [
    "Now that we have our hyperparameterized model, we still need to train it.     \n",
    "Simply call build on the `hypermodel` with the hyperparameters found above. Then train it per the basic example."
   ]
  },
  {
   "cell_type": "code",
   "execution_count": 12,
   "metadata": {},
   "outputs": [
    {
     "name": "stdout",
     "output_type": "stream",
     "text": [
      "Epoch 1/10\n",
      "1875/1875 [==============================] - ETA: 0s - loss: 2.4009 - accuracy: 0.03 - ETA: 6s - loss: 1.5696 - accuracy: 0.45 - ETA: 7s - loss: 1.3107 - accuracy: 0.53 - ETA: 7s - loss: 1.1735 - accuracy: 0.57 - ETA: 7s - loss: 1.0947 - accuracy: 0.60 - ETA: 7s - loss: 1.0430 - accuracy: 0.62 - ETA: 7s - loss: 0.9677 - accuracy: 0.65 - ETA: 7s - loss: 0.9249 - accuracy: 0.66 - ETA: 7s - loss: 0.8866 - accuracy: 0.68 - ETA: 7s - loss: 0.8674 - accuracy: 0.69 - ETA: 7s - loss: 0.8490 - accuracy: 0.69 - ETA: 7s - loss: 0.8299 - accuracy: 0.70 - ETA: 7s - loss: 0.8149 - accuracy: 0.71 - ETA: 7s - loss: 0.8041 - accuracy: 0.71 - ETA: 7s - loss: 0.7907 - accuracy: 0.72 - ETA: 7s - loss: 0.7798 - accuracy: 0.72 - ETA: 7s - loss: 0.7728 - accuracy: 0.72 - ETA: 7s - loss: 0.7588 - accuracy: 0.73 - ETA: 7s - loss: 0.7461 - accuracy: 0.73 - ETA: 6s - loss: 0.7314 - accuracy: 0.74 - ETA: 6s - loss: 0.7172 - accuracy: 0.74 - ETA: 6s - loss: 0.7018 - accuracy: 0.75 - ETA: 6s - loss: 0.6958 - accuracy: 0.75 - ETA: 6s - loss: 0.6868 - accuracy: 0.75 - ETA: 6s - loss: 0.6779 - accuracy: 0.76 - ETA: 6s - loss: 0.6701 - accuracy: 0.76 - ETA: 6s - loss: 0.6663 - accuracy: 0.76 - ETA: 6s - loss: 0.6579 - accuracy: 0.76 - ETA: 5s - loss: 0.6499 - accuracy: 0.77 - ETA: 5s - loss: 0.6446 - accuracy: 0.77 - ETA: 5s - loss: 0.6372 - accuracy: 0.77 - ETA: 5s - loss: 0.6341 - accuracy: 0.77 - ETA: 5s - loss: 0.6288 - accuracy: 0.77 - ETA: 5s - loss: 0.6264 - accuracy: 0.78 - ETA: 5s - loss: 0.6219 - accuracy: 0.78 - ETA: 5s - loss: 0.6184 - accuracy: 0.78 - ETA: 5s - loss: 0.6161 - accuracy: 0.78 - ETA: 5s - loss: 0.6138 - accuracy: 0.78 - ETA: 5s - loss: 0.6119 - accuracy: 0.78 - ETA: 5s - loss: 0.6109 - accuracy: 0.78 - ETA: 5s - loss: 0.6088 - accuracy: 0.78 - ETA: 5s - loss: 0.6043 - accuracy: 0.78 - ETA: 5s - loss: 0.6020 - accuracy: 0.78 - ETA: 5s - loss: 0.5987 - accuracy: 0.79 - ETA: 4s - loss: 0.5954 - accuracy: 0.79 - ETA: 4s - loss: 0.5927 - accuracy: 0.79 - ETA: 4s - loss: 0.5878 - accuracy: 0.79 - ETA: 4s - loss: 0.5870 - accuracy: 0.79 - ETA: 4s - loss: 0.5869 - accuracy: 0.79 - ETA: 4s - loss: 0.5839 - accuracy: 0.79 - ETA: 4s - loss: 0.5818 - accuracy: 0.79 - ETA: 4s - loss: 0.5802 - accuracy: 0.79 - ETA: 4s - loss: 0.5773 - accuracy: 0.79 - ETA: 4s - loss: 0.5751 - accuracy: 0.79 - ETA: 4s - loss: 0.5722 - accuracy: 0.79 - ETA: 4s - loss: 0.5699 - accuracy: 0.80 - ETA: 4s - loss: 0.5672 - accuracy: 0.80 - ETA: 4s - loss: 0.5668 - accuracy: 0.80 - ETA: 4s - loss: 0.5654 - accuracy: 0.80 - ETA: 4s - loss: 0.5633 - accuracy: 0.80 - ETA: 4s - loss: 0.5620 - accuracy: 0.80 - ETA: 4s - loss: 0.5589 - accuracy: 0.80 - ETA: 4s - loss: 0.5565 - accuracy: 0.80 - ETA: 3s - loss: 0.5547 - accuracy: 0.80 - ETA: 3s - loss: 0.5527 - accuracy: 0.80 - ETA: 3s - loss: 0.5510 - accuracy: 0.80 - ETA: 3s - loss: 0.5490 - accuracy: 0.80 - ETA: 3s - loss: 0.5468 - accuracy: 0.80 - ETA: 3s - loss: 0.5443 - accuracy: 0.80 - ETA: 3s - loss: 0.5437 - accuracy: 0.80 - ETA: 3s - loss: 0.5423 - accuracy: 0.80 - ETA: 3s - loss: 0.5403 - accuracy: 0.80 - ETA: 3s - loss: 0.5392 - accuracy: 0.80 - ETA: 3s - loss: 0.5378 - accuracy: 0.81 - ETA: 3s - loss: 0.5363 - accuracy: 0.81 - ETA: 3s - loss: 0.5354 - accuracy: 0.81 - ETA: 3s - loss: 0.5343 - accuracy: 0.81 - ETA: 3s - loss: 0.5328 - accuracy: 0.81 - ETA: 3s - loss: 0.5311 - accuracy: 0.81 - ETA: 3s - loss: 0.5307 - accuracy: 0.81 - ETA: 3s - loss: 0.5287 - accuracy: 0.81 - ETA: 3s - loss: 0.5285 - accuracy: 0.81 - ETA: 2s - loss: 0.5271 - accuracy: 0.81 - ETA: 2s - loss: 0.5250 - accuracy: 0.81 - ETA: 2s - loss: 0.5244 - accuracy: 0.81 - ETA: 2s - loss: 0.5237 - accuracy: 0.81 - ETA: 2s - loss: 0.5226 - accuracy: 0.81 - ETA: 2s - loss: 0.5217 - accuracy: 0.81 - ETA: 2s - loss: 0.5201 - accuracy: 0.81 - ETA: 2s - loss: 0.5196 - accuracy: 0.81 - ETA: 2s - loss: 0.5192 - accuracy: 0.81 - ETA: 2s - loss: 0.5179 - accuracy: 0.81 - ETA: 2s - loss: 0.5163 - accuracy: 0.81 - ETA: 2s - loss: 0.5161 - accuracy: 0.81 - ETA: 2s - loss: 0.5146 - accuracy: 0.81 - ETA: 2s - loss: 0.5126 - accuracy: 0.81 - ETA: 2s - loss: 0.5111 - accuracy: 0.81 - ETA: 2s - loss: 0.5105 - accuracy: 0.81 - ETA: 2s - loss: 0.5096 - accuracy: 0.81 - ETA: 2s - loss: 0.5082 - accuracy: 0.81 - ETA: 2s - loss: 0.5069 - accuracy: 0.82 - ETA: 2s - loss: 0.5062 - accuracy: 0.82 - ETA: 2s - loss: 0.5059 - accuracy: 0.82 - ETA: 2s - loss: 0.5051 - accuracy: 0.82 - ETA: 2s - loss: 0.5038 - accuracy: 0.82 - ETA: 1s - loss: 0.5031 - accuracy: 0.82 - ETA: 1s - loss: 0.5022 - accuracy: 0.82 - ETA: 1s - loss: 0.5012 - accuracy: 0.82 - ETA: 1s - loss: 0.5003 - accuracy: 0.82 - ETA: 1s - loss: 0.4993 - accuracy: 0.82 - ETA: 1s - loss: 0.4973 - accuracy: 0.82 - ETA: 1s - loss: 0.4967 - accuracy: 0.82 - ETA: 1s - loss: 0.4960 - accuracy: 0.82 - ETA: 1s - loss: 0.4951 - accuracy: 0.82 - ETA: 1s - loss: 0.4949 - accuracy: 0.82 - ETA: 1s - loss: 0.4937 - accuracy: 0.82 - ETA: 1s - loss: 0.4930 - accuracy: 0.82 - ETA: 1s - loss: 0.4922 - accuracy: 0.82 - ETA: 1s - loss: 0.4911 - accuracy: 0.82 - ETA: 1s - loss: 0.4900 - accuracy: 0.82 - ETA: 1s - loss: 0.4893 - accuracy: 0.82 - ETA: 1s - loss: 0.4887 - accuracy: 0.82 - ETA: 1s - loss: 0.4878 - accuracy: 0.82 - ETA: 0s - loss: 0.4875 - accuracy: 0.82 - ETA: 0s - loss: 0.4874 - accuracy: 0.82 - ETA: 0s - loss: 0.4866 - accuracy: 0.82 - ETA: 0s - loss: 0.4853 - accuracy: 0.82 - ETA: 0s - loss: 0.4845 - accuracy: 0.82 - ETA: 0s - loss: 0.4838 - accuracy: 0.82 - ETA: 0s - loss: 0.4834 - accuracy: 0.82 - ETA: 0s - loss: 0.4827 - accuracy: 0.82 - ETA: 0s - loss: 0.4822 - accuracy: 0.82 - ETA: 0s - loss: 0.4815 - accuracy: 0.82 - ETA: 0s - loss: 0.4813 - accuracy: 0.82 - ETA: 0s - loss: 0.4805 - accuracy: 0.82 - ETA: 0s - loss: 0.4796 - accuracy: 0.82 - ETA: 0s - loss: 0.4792 - accuracy: 0.82 - ETA: 0s - loss: 0.4782 - accuracy: 0.83 - ETA: 0s - loss: 0.4782 - accuracy: 0.83 - ETA: 0s - loss: 0.4776 - accuracy: 0.83 - ETA: 0s - loss: 0.4771 - accuracy: 0.83 - ETA: 0s - loss: 0.4762 - accuracy: 0.83 - ETA: 0s - loss: 0.4753 - accuracy: 0.83 - 7s 4ms/step - loss: 0.4749 - accuracy: 0.8314\n",
      "Epoch 2/10\n",
      "1875/1875 [==============================] - ETA: 0s - loss: 0.3121 - accuracy: 0.93 - ETA: 6s - loss: 0.3468 - accuracy: 0.88 - ETA: 6s - loss: 0.3364 - accuracy: 0.88 - ETA: 6s - loss: 0.3511 - accuracy: 0.87 - ETA: 6s - loss: 0.3472 - accuracy: 0.87 - ETA: 6s - loss: 0.3554 - accuracy: 0.87 - ETA: 6s - loss: 0.3606 - accuracy: 0.87 - ETA: 6s - loss: 0.3571 - accuracy: 0.87 - ETA: 6s - loss: 0.3562 - accuracy: 0.87 - ETA: 6s - loss: 0.3626 - accuracy: 0.87 - ETA: 6s - loss: 0.3670 - accuracy: 0.86 - ETA: 6s - loss: 0.3642 - accuracy: 0.86 - ETA: 6s - loss: 0.3670 - accuracy: 0.86 - ETA: 6s - loss: 0.3683 - accuracy: 0.86 - ETA: 6s - loss: 0.3701 - accuracy: 0.86 - ETA: 6s - loss: 0.3697 - accuracy: 0.86 - ETA: 6s - loss: 0.3714 - accuracy: 0.86 - ETA: 6s - loss: 0.3709 - accuracy: 0.86 - ETA: 6s - loss: 0.3755 - accuracy: 0.86 - ETA: 6s - loss: 0.3735 - accuracy: 0.86 - ETA: 6s - loss: 0.3757 - accuracy: 0.86 - ETA: 6s - loss: 0.3717 - accuracy: 0.86 - ETA: 5s - loss: 0.3723 - accuracy: 0.86 - ETA: 5s - loss: 0.3704 - accuracy: 0.86 - ETA: 5s - loss: 0.3707 - accuracy: 0.86 - ETA: 5s - loss: 0.3710 - accuracy: 0.86 - ETA: 5s - loss: 0.3715 - accuracy: 0.86 - ETA: 5s - loss: 0.3706 - accuracy: 0.86 - ETA: 5s - loss: 0.3694 - accuracy: 0.86 - ETA: 5s - loss: 0.3686 - accuracy: 0.86 - ETA: 5s - loss: 0.3669 - accuracy: 0.86 - ETA: 5s - loss: 0.3684 - accuracy: 0.86 - ETA: 5s - loss: 0.3673 - accuracy: 0.86 - ETA: 5s - loss: 0.3674 - accuracy: 0.86 - ETA: 5s - loss: 0.3671 - accuracy: 0.86 - ETA: 5s - loss: 0.3667 - accuracy: 0.86 - ETA: 5s - loss: 0.3660 - accuracy: 0.86 - ETA: 5s - loss: 0.3668 - accuracy: 0.86 - ETA: 5s - loss: 0.3684 - accuracy: 0.86 - ETA: 5s - loss: 0.3678 - accuracy: 0.86 - ETA: 5s - loss: 0.3681 - accuracy: 0.86 - ETA: 5s - loss: 0.3697 - accuracy: 0.86 - ETA: 5s - loss: 0.3692 - accuracy: 0.86 - ETA: 5s - loss: 0.3688 - accuracy: 0.86 - ETA: 5s - loss: 0.3700 - accuracy: 0.86 - ETA: 4s - loss: 0.3702 - accuracy: 0.86 - ETA: 4s - loss: 0.3702 - accuracy: 0.86 - ETA: 4s - loss: 0.3680 - accuracy: 0.86 - ETA: 4s - loss: 0.3669 - accuracy: 0.86 - ETA: 4s - loss: 0.3674 - accuracy: 0.86 - ETA: 4s - loss: 0.3683 - accuracy: 0.86 - ETA: 4s - loss: 0.3686 - accuracy: 0.86 - ETA: 4s - loss: 0.3695 - accuracy: 0.86 - ETA: 4s - loss: 0.3693 - accuracy: 0.86 - ETA: 4s - loss: 0.3687 - accuracy: 0.86 - ETA: 4s - loss: 0.3689 - accuracy: 0.86 - ETA: 4s - loss: 0.3679 - accuracy: 0.86 - ETA: 4s - loss: 0.3659 - accuracy: 0.86 - ETA: 4s - loss: 0.3657 - accuracy: 0.86 - ETA: 4s - loss: 0.3668 - accuracy: 0.86 - ETA: 4s - loss: 0.3671 - accuracy: 0.86 - ETA: 4s - loss: 0.3674 - accuracy: 0.86 - ETA: 4s - loss: 0.3675 - accuracy: 0.86 - ETA: 4s - loss: 0.3681 - accuracy: 0.86 - ETA: 3s - loss: 0.3691 - accuracy: 0.86 - ETA: 3s - loss: 0.3680 - accuracy: 0.86 - ETA: 3s - loss: 0.3679 - accuracy: 0.86 - ETA: 3s - loss: 0.3688 - accuracy: 0.86 - ETA: 3s - loss: 0.3684 - accuracy: 0.86 - ETA: 3s - loss: 0.3677 - accuracy: 0.86 - ETA: 3s - loss: 0.3670 - accuracy: 0.86 - ETA: 3s - loss: 0.3671 - accuracy: 0.86 - ETA: 3s - loss: 0.3675 - accuracy: 0.86 - ETA: 3s - loss: 0.3670 - accuracy: 0.86 - ETA: 3s - loss: 0.3679 - accuracy: 0.86 - ETA: 3s - loss: 0.3676 - accuracy: 0.86 - ETA: 3s - loss: 0.3669 - accuracy: 0.86 - ETA: 3s - loss: 0.3668 - accuracy: 0.86 - ETA: 3s - loss: 0.3654 - accuracy: 0.86 - ETA: 3s - loss: 0.3649 - accuracy: 0.86 - ETA: 3s - loss: 0.3650 - accuracy: 0.86 - ETA: 3s - loss: 0.3663 - accuracy: 0.86 - ETA: 3s - loss: 0.3654 - accuracy: 0.86 - ETA: 2s - loss: 0.3655 - accuracy: 0.86 - ETA: 2s - loss: 0.3658 - accuracy: 0.86 - ETA: 2s - loss: 0.3648 - accuracy: 0.86 - ETA: 2s - loss: 0.3652 - accuracy: 0.86 - ETA: 2s - loss: 0.3660 - accuracy: 0.86 - ETA: 2s - loss: 0.3664 - accuracy: 0.86 - ETA: 2s - loss: 0.3661 - accuracy: 0.86 - ETA: 2s - loss: 0.3663 - accuracy: 0.86 - ETA: 2s - loss: 0.3660 - accuracy: 0.86 - ETA: 2s - loss: 0.3656 - accuracy: 0.86 - ETA: 2s - loss: 0.3649 - accuracy: 0.86 - ETA: 2s - loss: 0.3656 - accuracy: 0.86 - ETA: 2s - loss: 0.3659 - accuracy: 0.86 - ETA: 2s - loss: 0.3656 - accuracy: 0.86 - ETA: 2s - loss: 0.3652 - accuracy: 0.86 - ETA: 2s - loss: 0.3649 - accuracy: 0.86 - ETA: 2s - loss: 0.3649 - accuracy: 0.86 - ETA: 2s - loss: 0.3646 - accuracy: 0.86 - ETA: 2s - loss: 0.3653 - accuracy: 0.86 - ETA: 2s - loss: 0.3652 - accuracy: 0.86 - ETA: 1s - loss: 0.3651 - accuracy: 0.86 - ETA: 1s - loss: 0.3642 - accuracy: 0.86 - ETA: 1s - loss: 0.3633 - accuracy: 0.86 - ETA: 1s - loss: 0.3637 - accuracy: 0.86 - ETA: 1s - loss: 0.3632 - accuracy: 0.86 - ETA: 1s - loss: 0.3637 - accuracy: 0.86 - ETA: 1s - loss: 0.3635 - accuracy: 0.86 - ETA: 1s - loss: 0.3637 - accuracy: 0.86 - ETA: 1s - loss: 0.3636 - accuracy: 0.86 - ETA: 1s - loss: 0.3637 - accuracy: 0.86 - ETA: 1s - loss: 0.3630 - accuracy: 0.86 - ETA: 1s - loss: 0.3631 - accuracy: 0.86 - ETA: 1s - loss: 0.3629 - accuracy: 0.86 - ETA: 1s - loss: 0.3622 - accuracy: 0.86 - ETA: 1s - loss: 0.3626 - accuracy: 0.86 - ETA: 1s - loss: 0.3621 - accuracy: 0.86 - ETA: 1s - loss: 0.3618 - accuracy: 0.86 - ETA: 1s - loss: 0.3616 - accuracy: 0.86 - ETA: 0s - loss: 0.3618 - accuracy: 0.86 - ETA: 0s - loss: 0.3617 - accuracy: 0.86 - ETA: 0s - loss: 0.3615 - accuracy: 0.86 - ETA: 0s - loss: 0.3614 - accuracy: 0.86 - ETA: 0s - loss: 0.3614 - accuracy: 0.86 - ETA: 0s - loss: 0.3613 - accuracy: 0.86 - ETA: 0s - loss: 0.3612 - accuracy: 0.86 - ETA: 0s - loss: 0.3614 - accuracy: 0.86 - ETA: 0s - loss: 0.3612 - accuracy: 0.86 - ETA: 0s - loss: 0.3614 - accuracy: 0.86 - ETA: 0s - loss: 0.3609 - accuracy: 0.86 - ETA: 0s - loss: 0.3605 - accuracy: 0.86 - ETA: 0s - loss: 0.3600 - accuracy: 0.86 - ETA: 0s - loss: 0.3599 - accuracy: 0.86 - ETA: 0s - loss: 0.3602 - accuracy: 0.86 - ETA: 0s - loss: 0.3598 - accuracy: 0.86 - ETA: 0s - loss: 0.3597 - accuracy: 0.86 - ETA: 0s - loss: 0.3593 - accuracy: 0.86 - ETA: 0s - loss: 0.3589 - accuracy: 0.86 - 7s 4ms/step - loss: 0.3586 - accuracy: 0.8698\n",
      "Epoch 3/10\n",
      "1875/1875 [==============================] - ETA: 0s - loss: 0.1449 - accuracy: 0.96 - ETA: 6s - loss: 0.3476 - accuracy: 0.87 - ETA: 7s - loss: 0.3515 - accuracy: 0.87 - ETA: 7s - loss: 0.3738 - accuracy: 0.86 - ETA: 7s - loss: 0.3708 - accuracy: 0.86 - ETA: 7s - loss: 0.3647 - accuracy: 0.86 - ETA: 7s - loss: 0.3534 - accuracy: 0.86 - ETA: 6s - loss: 0.3558 - accuracy: 0.86 - ETA: 6s - loss: 0.3445 - accuracy: 0.87 - ETA: 6s - loss: 0.3374 - accuracy: 0.87 - ETA: 6s - loss: 0.3436 - accuracy: 0.87 - ETA: 6s - loss: 0.3413 - accuracy: 0.87 - ETA: 6s - loss: 0.3385 - accuracy: 0.87 - ETA: 6s - loss: 0.3364 - accuracy: 0.87 - ETA: 6s - loss: 0.3333 - accuracy: 0.87 - ETA: 6s - loss: 0.3337 - accuracy: 0.87 - ETA: 6s - loss: 0.3348 - accuracy: 0.87 - ETA: 6s - loss: 0.3348 - accuracy: 0.87 - ETA: 6s - loss: 0.3318 - accuracy: 0.88 - ETA: 6s - loss: 0.3296 - accuracy: 0.88 - ETA: 6s - loss: 0.3323 - accuracy: 0.88 - ETA: 6s - loss: 0.3313 - accuracy: 0.88 - ETA: 5s - loss: 0.3291 - accuracy: 0.88 - ETA: 5s - loss: 0.3272 - accuracy: 0.88 - ETA: 5s - loss: 0.3305 - accuracy: 0.88 - ETA: 5s - loss: 0.3291 - accuracy: 0.88 - ETA: 5s - loss: 0.3310 - accuracy: 0.88 - ETA: 5s - loss: 0.3297 - accuracy: 0.88 - ETA: 5s - loss: 0.3290 - accuracy: 0.88 - ETA: 5s - loss: 0.3278 - accuracy: 0.88 - ETA: 5s - loss: 0.3285 - accuracy: 0.88 - ETA: 5s - loss: 0.3296 - accuracy: 0.88 - ETA: 5s - loss: 0.3299 - accuracy: 0.88 - ETA: 5s - loss: 0.3311 - accuracy: 0.88 - ETA: 5s - loss: 0.3308 - accuracy: 0.88 - ETA: 5s - loss: 0.3301 - accuracy: 0.88 - ETA: 5s - loss: 0.3283 - accuracy: 0.88 - ETA: 5s - loss: 0.3284 - accuracy: 0.88 - ETA: 5s - loss: 0.3269 - accuracy: 0.88 - ETA: 5s - loss: 0.3275 - accuracy: 0.88 - ETA: 5s - loss: 0.3274 - accuracy: 0.88 - ETA: 4s - loss: 0.3292 - accuracy: 0.88 - ETA: 4s - loss: 0.3312 - accuracy: 0.88 - ETA: 4s - loss: 0.3305 - accuracy: 0.88 - ETA: 4s - loss: 0.3303 - accuracy: 0.88 - ETA: 4s - loss: 0.3306 - accuracy: 0.88 - ETA: 4s - loss: 0.3303 - accuracy: 0.88 - ETA: 4s - loss: 0.3298 - accuracy: 0.88 - ETA: 4s - loss: 0.3285 - accuracy: 0.88 - ETA: 4s - loss: 0.3279 - accuracy: 0.88 - ETA: 4s - loss: 0.3293 - accuracy: 0.88 - ETA: 4s - loss: 0.3294 - accuracy: 0.88 - ETA: 4s - loss: 0.3293 - accuracy: 0.88 - ETA: 4s - loss: 0.3287 - accuracy: 0.88 - ETA: 4s - loss: 0.3286 - accuracy: 0.88 - ETA: 4s - loss: 0.3298 - accuracy: 0.87 - ETA: 4s - loss: 0.3294 - accuracy: 0.88 - ETA: 4s - loss: 0.3295 - accuracy: 0.88 - ETA: 4s - loss: 0.3304 - accuracy: 0.88 - ETA: 4s - loss: 0.3305 - accuracy: 0.88 - ETA: 4s - loss: 0.3307 - accuracy: 0.88 - ETA: 4s - loss: 0.3306 - accuracy: 0.88 - ETA: 4s - loss: 0.3299 - accuracy: 0.88 - ETA: 3s - loss: 0.3295 - accuracy: 0.88 - ETA: 3s - loss: 0.3295 - accuracy: 0.88 - ETA: 3s - loss: 0.3284 - accuracy: 0.88 - ETA: 3s - loss: 0.3283 - accuracy: 0.88 - ETA: 3s - loss: 0.3284 - accuracy: 0.88 - ETA: 3s - loss: 0.3281 - accuracy: 0.88 - ETA: 3s - loss: 0.3282 - accuracy: 0.88 - ETA: 3s - loss: 0.3277 - accuracy: 0.88 - ETA: 3s - loss: 0.3272 - accuracy: 0.88 - ETA: 3s - loss: 0.3270 - accuracy: 0.88 - ETA: 3s - loss: 0.3269 - accuracy: 0.88 - ETA: 3s - loss: 0.3265 - accuracy: 0.88 - ETA: 3s - loss: 0.3266 - accuracy: 0.88 - ETA: 3s - loss: 0.3262 - accuracy: 0.88 - ETA: 3s - loss: 0.3264 - accuracy: 0.88 - ETA: 3s - loss: 0.3266 - accuracy: 0.88 - ETA: 3s - loss: 0.3265 - accuracy: 0.88 - ETA: 3s - loss: 0.3257 - accuracy: 0.88 - ETA: 3s - loss: 0.3252 - accuracy: 0.88 - ETA: 2s - loss: 0.3252 - accuracy: 0.88 - ETA: 2s - loss: 0.3243 - accuracy: 0.88 - ETA: 2s - loss: 0.3246 - accuracy: 0.88 - ETA: 2s - loss: 0.3243 - accuracy: 0.88 - ETA: 2s - loss: 0.3242 - accuracy: 0.88 - ETA: 2s - loss: 0.3246 - accuracy: 0.88 - ETA: 2s - loss: 0.3253 - accuracy: 0.88 - ETA: 2s - loss: 0.3257 - accuracy: 0.88 - ETA: 2s - loss: 0.3253 - accuracy: 0.88 - ETA: 2s - loss: 0.3259 - accuracy: 0.88 - ETA: 2s - loss: 0.3260 - accuracy: 0.88 - ETA: 2s - loss: 0.3262 - accuracy: 0.88 - ETA: 2s - loss: 0.3263 - accuracy: 0.88 - ETA: 2s - loss: 0.3261 - accuracy: 0.88 - ETA: 2s - loss: 0.3259 - accuracy: 0.88 - ETA: 2s - loss: 0.3258 - accuracy: 0.88 - ETA: 2s - loss: 0.3258 - accuracy: 0.88 - ETA: 2s - loss: 0.3249 - accuracy: 0.88 - ETA: 2s - loss: 0.3251 - accuracy: 0.88 - ETA: 1s - loss: 0.3248 - accuracy: 0.88 - ETA: 1s - loss: 0.3242 - accuracy: 0.88 - ETA: 1s - loss: 0.3241 - accuracy: 0.88 - ETA: 1s - loss: 0.3245 - accuracy: 0.88 - ETA: 1s - loss: 0.3245 - accuracy: 0.88 - ETA: 1s - loss: 0.3246 - accuracy: 0.88 - ETA: 1s - loss: 0.3241 - accuracy: 0.88 - ETA: 1s - loss: 0.3241 - accuracy: 0.88 - ETA: 1s - loss: 0.3238 - accuracy: 0.88 - ETA: 1s - loss: 0.3235 - accuracy: 0.88 - ETA: 1s - loss: 0.3237 - accuracy: 0.88 - ETA: 1s - loss: 0.3236 - accuracy: 0.88 - ETA: 1s - loss: 0.3236 - accuracy: 0.88 - ETA: 1s - loss: 0.3233 - accuracy: 0.88 - ETA: 1s - loss: 0.3227 - accuracy: 0.88 - ETA: 1s - loss: 0.3226 - accuracy: 0.88 - ETA: 1s - loss: 0.3226 - accuracy: 0.88 - ETA: 1s - loss: 0.3226 - accuracy: 0.88 - ETA: 1s - loss: 0.3224 - accuracy: 0.88 - ETA: 0s - loss: 0.3223 - accuracy: 0.88 - ETA: 0s - loss: 0.3219 - accuracy: 0.88 - ETA: 0s - loss: 0.3220 - accuracy: 0.88 - ETA: 0s - loss: 0.3222 - accuracy: 0.88 - ETA: 0s - loss: 0.3223 - accuracy: 0.88 - ETA: 0s - loss: 0.3227 - accuracy: 0.88 - ETA: 0s - loss: 0.3231 - accuracy: 0.88 - ETA: 0s - loss: 0.3232 - accuracy: 0.88 - ETA: 0s - loss: 0.3232 - accuracy: 0.88 - ETA: 0s - loss: 0.3234 - accuracy: 0.88 - ETA: 0s - loss: 0.3233 - accuracy: 0.88 - ETA: 0s - loss: 0.3238 - accuracy: 0.88 - ETA: 0s - loss: 0.3238 - accuracy: 0.88 - ETA: 0s - loss: 0.3238 - accuracy: 0.88 - ETA: 0s - loss: 0.3236 - accuracy: 0.88 - ETA: 0s - loss: 0.3239 - accuracy: 0.88 - ETA: 0s - loss: 0.3237 - accuracy: 0.88 - ETA: 0s - loss: 0.3236 - accuracy: 0.88 - ETA: 0s - loss: 0.3234 - accuracy: 0.88 - ETA: 0s - loss: 0.3231 - accuracy: 0.88 - 7s 4ms/step - loss: 0.3230 - accuracy: 0.8811\n",
      "Epoch 4/10\n",
      "1875/1875 [==============================] - ETA: 0s - loss: 0.6228 - accuracy: 0.81 - ETA: 6s - loss: 0.3416 - accuracy: 0.86 - ETA: 6s - loss: 0.2987 - accuracy: 0.87 - ETA: 6s - loss: 0.2990 - accuracy: 0.88 - ETA: 6s - loss: 0.3022 - accuracy: 0.88 - ETA: 7s - loss: 0.3108 - accuracy: 0.88 - ETA: 7s - loss: 0.3015 - accuracy: 0.88 - ETA: 7s - loss: 0.2976 - accuracy: 0.88 - ETA: 7s - loss: 0.2943 - accuracy: 0.88 - ETA: 6s - loss: 0.2985 - accuracy: 0.88 - ETA: 6s - loss: 0.2934 - accuracy: 0.89 - ETA: 6s - loss: 0.2911 - accuracy: 0.89 - ETA: 6s - loss: 0.2917 - accuracy: 0.89 - ETA: 6s - loss: 0.2915 - accuracy: 0.89 - ETA: 6s - loss: 0.2907 - accuracy: 0.89 - ETA: 6s - loss: 0.2921 - accuracy: 0.89 - ETA: 6s - loss: 0.2901 - accuracy: 0.89 - ETA: 6s - loss: 0.2924 - accuracy: 0.89 - ETA: 6s - loss: 0.2954 - accuracy: 0.88 - ETA: 6s - loss: 0.2959 - accuracy: 0.88 - ETA: 6s - loss: 0.2944 - accuracy: 0.89 - ETA: 6s - loss: 0.2958 - accuracy: 0.88 - ETA: 6s - loss: 0.2955 - accuracy: 0.88 - ETA: 6s - loss: 0.2956 - accuracy: 0.88 - ETA: 6s - loss: 0.2970 - accuracy: 0.88 - ETA: 6s - loss: 0.2959 - accuracy: 0.88 - ETA: 5s - loss: 0.2977 - accuracy: 0.88 - ETA: 5s - loss: 0.3017 - accuracy: 0.88 - ETA: 5s - loss: 0.3020 - accuracy: 0.88 - ETA: 5s - loss: 0.3034 - accuracy: 0.88 - ETA: 5s - loss: 0.3022 - accuracy: 0.88 - ETA: 5s - loss: 0.3012 - accuracy: 0.88 - ETA: 5s - loss: 0.3017 - accuracy: 0.88 - ETA: 5s - loss: 0.3020 - accuracy: 0.88 - ETA: 5s - loss: 0.3029 - accuracy: 0.88 - ETA: 5s - loss: 0.3026 - accuracy: 0.88 - ETA: 5s - loss: 0.3008 - accuracy: 0.88 - ETA: 5s - loss: 0.3020 - accuracy: 0.88 - ETA: 5s - loss: 0.3018 - accuracy: 0.88 - ETA: 5s - loss: 0.3018 - accuracy: 0.88 - ETA: 5s - loss: 0.3019 - accuracy: 0.88 - ETA: 5s - loss: 0.3022 - accuracy: 0.88 - ETA: 5s - loss: 0.3014 - accuracy: 0.88 - ETA: 5s - loss: 0.3017 - accuracy: 0.88 - ETA: 5s - loss: 0.3029 - accuracy: 0.88 - ETA: 5s - loss: 0.3032 - accuracy: 0.88 - ETA: 4s - loss: 0.3034 - accuracy: 0.88 - ETA: 4s - loss: 0.3043 - accuracy: 0.88 - ETA: 4s - loss: 0.3052 - accuracy: 0.88 - ETA: 4s - loss: 0.3041 - accuracy: 0.88 - ETA: 4s - loss: 0.3054 - accuracy: 0.88 - ETA: 4s - loss: 0.3051 - accuracy: 0.88 - ETA: 4s - loss: 0.3053 - accuracy: 0.88 - ETA: 4s - loss: 0.3046 - accuracy: 0.88 - ETA: 4s - loss: 0.3052 - accuracy: 0.88 - ETA: 4s - loss: 0.3059 - accuracy: 0.88 - ETA: 4s - loss: 0.3063 - accuracy: 0.88 - ETA: 4s - loss: 0.3059 - accuracy: 0.88 - ETA: 4s - loss: 0.3056 - accuracy: 0.88 - ETA: 4s - loss: 0.3050 - accuracy: 0.88 - ETA: 4s - loss: 0.3039 - accuracy: 0.88 - ETA: 4s - loss: 0.3037 - accuracy: 0.88 - ETA: 4s - loss: 0.3032 - accuracy: 0.88 - ETA: 4s - loss: 0.3033 - accuracy: 0.88 - ETA: 4s - loss: 0.3028 - accuracy: 0.88 - ETA: 3s - loss: 0.3028 - accuracy: 0.88 - ETA: 3s - loss: 0.3023 - accuracy: 0.88 - ETA: 3s - loss: 0.3020 - accuracy: 0.88 - ETA: 3s - loss: 0.3024 - accuracy: 0.88 - ETA: 3s - loss: 0.3021 - accuracy: 0.88 - ETA: 3s - loss: 0.3023 - accuracy: 0.88 - ETA: 3s - loss: 0.3025 - accuracy: 0.88 - ETA: 3s - loss: 0.3026 - accuracy: 0.88 - ETA: 3s - loss: 0.3016 - accuracy: 0.88 - ETA: 3s - loss: 0.3017 - accuracy: 0.88 - ETA: 3s - loss: 0.3013 - accuracy: 0.88 - ETA: 3s - loss: 0.3019 - accuracy: 0.88 - ETA: 3s - loss: 0.3014 - accuracy: 0.88 - ETA: 3s - loss: 0.3010 - accuracy: 0.88 - ETA: 3s - loss: 0.3014 - accuracy: 0.88 - ETA: 3s - loss: 0.3006 - accuracy: 0.88 - ETA: 3s - loss: 0.3003 - accuracy: 0.88 - ETA: 3s - loss: 0.3009 - accuracy: 0.88 - ETA: 3s - loss: 0.3013 - accuracy: 0.88 - ETA: 2s - loss: 0.3012 - accuracy: 0.88 - ETA: 2s - loss: 0.3001 - accuracy: 0.88 - ETA: 2s - loss: 0.3002 - accuracy: 0.88 - ETA: 2s - loss: 0.3000 - accuracy: 0.88 - ETA: 2s - loss: 0.2998 - accuracy: 0.88 - ETA: 2s - loss: 0.2998 - accuracy: 0.88 - ETA: 2s - loss: 0.2999 - accuracy: 0.88 - ETA: 2s - loss: 0.3002 - accuracy: 0.88 - ETA: 2s - loss: 0.3001 - accuracy: 0.88 - ETA: 2s - loss: 0.2996 - accuracy: 0.88 - ETA: 2s - loss: 0.2999 - accuracy: 0.88 - ETA: 2s - loss: 0.3002 - accuracy: 0.88 - ETA: 2s - loss: 0.3010 - accuracy: 0.88 - ETA: 2s - loss: 0.3010 - accuracy: 0.88 - ETA: 2s - loss: 0.3009 - accuracy: 0.88 - ETA: 2s - loss: 0.3013 - accuracy: 0.88 - ETA: 2s - loss: 0.3015 - accuracy: 0.88 - ETA: 2s - loss: 0.3013 - accuracy: 0.88 - ETA: 2s - loss: 0.3014 - accuracy: 0.88 - ETA: 1s - loss: 0.3012 - accuracy: 0.88 - ETA: 1s - loss: 0.3009 - accuracy: 0.88 - ETA: 1s - loss: 0.3009 - accuracy: 0.88 - ETA: 1s - loss: 0.3013 - accuracy: 0.88 - ETA: 1s - loss: 0.3014 - accuracy: 0.88 - ETA: 1s - loss: 0.3014 - accuracy: 0.88 - ETA: 1s - loss: 0.3016 - accuracy: 0.88 - ETA: 1s - loss: 0.3017 - accuracy: 0.88 - ETA: 1s - loss: 0.3012 - accuracy: 0.88 - ETA: 1s - loss: 0.3005 - accuracy: 0.88 - ETA: 1s - loss: 0.3006 - accuracy: 0.88 - ETA: 1s - loss: 0.3007 - accuracy: 0.88 - ETA: 1s - loss: 0.3005 - accuracy: 0.88 - ETA: 1s - loss: 0.3004 - accuracy: 0.88 - ETA: 1s - loss: 0.3003 - accuracy: 0.88 - ETA: 1s - loss: 0.3004 - accuracy: 0.88 - ETA: 1s - loss: 0.3007 - accuracy: 0.88 - ETA: 1s - loss: 0.2998 - accuracy: 0.88 - ETA: 1s - loss: 0.2998 - accuracy: 0.88 - ETA: 0s - loss: 0.2997 - accuracy: 0.88 - ETA: 0s - loss: 0.2998 - accuracy: 0.88 - ETA: 0s - loss: 0.3000 - accuracy: 0.88 - ETA: 0s - loss: 0.2998 - accuracy: 0.88 - ETA: 0s - loss: 0.2996 - accuracy: 0.88 - ETA: 0s - loss: 0.2997 - accuracy: 0.88 - ETA: 0s - loss: 0.2994 - accuracy: 0.88 - ETA: 0s - loss: 0.2991 - accuracy: 0.88 - ETA: 0s - loss: 0.2994 - accuracy: 0.88 - ETA: 0s - loss: 0.2996 - accuracy: 0.88 - ETA: 0s - loss: 0.2995 - accuracy: 0.88 - ETA: 0s - loss: 0.2990 - accuracy: 0.88 - ETA: 0s - loss: 0.2991 - accuracy: 0.88 - ETA: 0s - loss: 0.2997 - accuracy: 0.88 - ETA: 0s - loss: 0.2995 - accuracy: 0.88 - ETA: 0s - loss: 0.2993 - accuracy: 0.88 - ETA: 0s - loss: 0.2994 - accuracy: 0.88 - ETA: 0s - loss: 0.2990 - accuracy: 0.88 - ETA: 0s - loss: 0.2987 - accuracy: 0.88 - 7s 4ms/step - loss: 0.2985 - accuracy: 0.8899\n",
      "Epoch 5/10\n",
      "1875/1875 [==============================] - ETA: 0s - loss: 0.1024 - accuracy: 1.00 - ETA: 7s - loss: 0.1997 - accuracy: 0.93 - ETA: 8s - loss: 0.2376 - accuracy: 0.91 - ETA: 9s - loss: 0.2453 - accuracy: 0.91 - ETA: 9s - loss: 0.2465 - accuracy: 0.91 - ETA: 9s - loss: 0.2474 - accuracy: 0.91 - ETA: 9s - loss: 0.2458 - accuracy: 0.90 - ETA: 9s - loss: 0.2530 - accuracy: 0.90 - ETA: 9s - loss: 0.2556 - accuracy: 0.90 - ETA: 9s - loss: 0.2521 - accuracy: 0.90 - ETA: 8s - loss: 0.2523 - accuracy: 0.90 - ETA: 8s - loss: 0.2496 - accuracy: 0.90 - ETA: 8s - loss: 0.2505 - accuracy: 0.90 - ETA: 8s - loss: 0.2543 - accuracy: 0.90 - ETA: 8s - loss: 0.2623 - accuracy: 0.90 - ETA: 8s - loss: 0.2646 - accuracy: 0.90 - ETA: 8s - loss: 0.2668 - accuracy: 0.90 - ETA: 8s - loss: 0.2711 - accuracy: 0.90 - ETA: 8s - loss: 0.2753 - accuracy: 0.89 - ETA: 8s - loss: 0.2762 - accuracy: 0.89 - ETA: 8s - loss: 0.2797 - accuracy: 0.89 - ETA: 8s - loss: 0.2780 - accuracy: 0.89 - ETA: 8s - loss: 0.2776 - accuracy: 0.89 - ETA: 8s - loss: 0.2781 - accuracy: 0.89 - ETA: 8s - loss: 0.2791 - accuracy: 0.89 - ETA: 8s - loss: 0.2789 - accuracy: 0.89 - ETA: 8s - loss: 0.2770 - accuracy: 0.89 - ETA: 8s - loss: 0.2772 - accuracy: 0.89 - ETA: 8s - loss: 0.2768 - accuracy: 0.89 - ETA: 8s - loss: 0.2772 - accuracy: 0.89 - ETA: 8s - loss: 0.2806 - accuracy: 0.89 - ETA: 7s - loss: 0.2800 - accuracy: 0.89 - ETA: 7s - loss: 0.2806 - accuracy: 0.89 - ETA: 7s - loss: 0.2805 - accuracy: 0.89 - ETA: 7s - loss: 0.2806 - accuracy: 0.89 - ETA: 7s - loss: 0.2796 - accuracy: 0.89 - ETA: 7s - loss: 0.2785 - accuracy: 0.89 - ETA: 7s - loss: 0.2786 - accuracy: 0.89 - ETA: 7s - loss: 0.2792 - accuracy: 0.89 - ETA: 7s - loss: 0.2791 - accuracy: 0.89 - ETA: 7s - loss: 0.2790 - accuracy: 0.89 - ETA: 7s - loss: 0.2793 - accuracy: 0.89 - ETA: 7s - loss: 0.2791 - accuracy: 0.89 - ETA: 7s - loss: 0.2799 - accuracy: 0.89 - ETA: 7s - loss: 0.2802 - accuracy: 0.89 - ETA: 7s - loss: 0.2793 - accuracy: 0.89 - ETA: 7s - loss: 0.2804 - accuracy: 0.89 - ETA: 7s - loss: 0.2809 - accuracy: 0.89 - ETA: 7s - loss: 0.2812 - accuracy: 0.89 - ETA: 6s - loss: 0.2826 - accuracy: 0.89 - ETA: 6s - loss: 0.2828 - accuracy: 0.89 - ETA: 6s - loss: 0.2817 - accuracy: 0.89 - ETA: 6s - loss: 0.2810 - accuracy: 0.89 - ETA: 6s - loss: 0.2806 - accuracy: 0.89 - ETA: 6s - loss: 0.2807 - accuracy: 0.89 - ETA: 6s - loss: 0.2810 - accuracy: 0.89 - ETA: 6s - loss: 0.2817 - accuracy: 0.89 - ETA: 6s - loss: 0.2824 - accuracy: 0.89 - ETA: 6s - loss: 0.2820 - accuracy: 0.89 - ETA: 6s - loss: 0.2819 - accuracy: 0.89 - ETA: 6s - loss: 0.2822 - accuracy: 0.89 - ETA: 6s - loss: 0.2826 - accuracy: 0.89 - ETA: 6s - loss: 0.2838 - accuracy: 0.89 - ETA: 6s - loss: 0.2838 - accuracy: 0.89 - ETA: 6s - loss: 0.2844 - accuracy: 0.89 - ETA: 6s - loss: 0.2844 - accuracy: 0.89 - ETA: 6s - loss: 0.2841 - accuracy: 0.89 - ETA: 5s - loss: 0.2846 - accuracy: 0.89 - ETA: 5s - loss: 0.2844 - accuracy: 0.89 - ETA: 5s - loss: 0.2848 - accuracy: 0.89 - ETA: 5s - loss: 0.2846 - accuracy: 0.89 - ETA: 5s - loss: 0.2844 - accuracy: 0.89 - ETA: 5s - loss: 0.2838 - accuracy: 0.89 - ETA: 5s - loss: 0.2843 - accuracy: 0.89 - ETA: 5s - loss: 0.2838 - accuracy: 0.89 - ETA: 5s - loss: 0.2832 - accuracy: 0.89 - ETA: 5s - loss: 0.2833 - accuracy: 0.89 - ETA: 5s - loss: 0.2836 - accuracy: 0.89 - ETA: 5s - loss: 0.2839 - accuracy: 0.89 - ETA: 5s - loss: 0.2836 - accuracy: 0.89 - ETA: 4s - loss: 0.2840 - accuracy: 0.89 - ETA: 4s - loss: 0.2853 - accuracy: 0.89 - ETA: 4s - loss: 0.2848 - accuracy: 0.89 - ETA: 4s - loss: 0.2849 - accuracy: 0.89 - ETA: 4s - loss: 0.2849 - accuracy: 0.89 - ETA: 4s - loss: 0.2845 - accuracy: 0.89 - ETA: 4s - loss: 0.2843 - accuracy: 0.89 - ETA: 4s - loss: 0.2840 - accuracy: 0.89 - ETA: 4s - loss: 0.2839 - accuracy: 0.89 - ETA: 4s - loss: 0.2834 - accuracy: 0.89 - ETA: 4s - loss: 0.2831 - accuracy: 0.89 - ETA: 4s - loss: 0.2839 - accuracy: 0.89 - ETA: 4s - loss: 0.2833 - accuracy: 0.89 - ETA: 4s - loss: 0.2835 - accuracy: 0.89 - ETA: 3s - loss: 0.2834 - accuracy: 0.89 - ETA: 3s - loss: 0.2836 - accuracy: 0.89 - ETA: 3s - loss: 0.2840 - accuracy: 0.89 - ETA: 3s - loss: 0.2842 - accuracy: 0.89 - ETA: 3s - loss: 0.2840 - accuracy: 0.89 - ETA: 3s - loss: 0.2839 - accuracy: 0.89 - ETA: 3s - loss: 0.2840 - accuracy: 0.89 - ETA: 3s - loss: 0.2843 - accuracy: 0.89 - ETA: 3s - loss: 0.2844 - accuracy: 0.89 - ETA: 3s - loss: 0.2843 - accuracy: 0.89 - ETA: 3s - loss: 0.2845 - accuracy: 0.89 - ETA: 3s - loss: 0.2839 - accuracy: 0.89 - ETA: 3s - loss: 0.2833 - accuracy: 0.89 - ETA: 3s - loss: 0.2832 - accuracy: 0.89 - ETA: 3s - loss: 0.2832 - accuracy: 0.89 - ETA: 2s - loss: 0.2835 - accuracy: 0.89 - ETA: 2s - loss: 0.2837 - accuracy: 0.89 - ETA: 2s - loss: 0.2836 - accuracy: 0.89 - ETA: 2s - loss: 0.2838 - accuracy: 0.89 - ETA: 2s - loss: 0.2837 - accuracy: 0.89 - ETA: 2s - loss: 0.2833 - accuracy: 0.89 - ETA: 2s - loss: 0.2834 - accuracy: 0.89 - ETA: 2s - loss: 0.2834 - accuracy: 0.89 - ETA: 2s - loss: 0.2836 - accuracy: 0.89 - ETA: 2s - loss: 0.2840 - accuracy: 0.89 - ETA: 2s - loss: 0.2838 - accuracy: 0.89 - ETA: 2s - loss: 0.2838 - accuracy: 0.89 - ETA: 2s - loss: 0.2836 - accuracy: 0.89 - ETA: 2s - loss: 0.2833 - accuracy: 0.89 - ETA: 2s - loss: 0.2835 - accuracy: 0.89 - ETA: 2s - loss: 0.2836 - accuracy: 0.89 - ETA: 2s - loss: 0.2835 - accuracy: 0.89 - ETA: 1s - loss: 0.2833 - accuracy: 0.89 - ETA: 1s - loss: 0.2833 - accuracy: 0.89 - ETA: 1s - loss: 0.2838 - accuracy: 0.89 - ETA: 1s - loss: 0.2836 - accuracy: 0.89 - ETA: 1s - loss: 0.2836 - accuracy: 0.89 - ETA: 1s - loss: 0.2838 - accuracy: 0.89 - ETA: 1s - loss: 0.2838 - accuracy: 0.89 - ETA: 1s - loss: 0.2840 - accuracy: 0.89 - ETA: 1s - loss: 0.2834 - accuracy: 0.89 - ETA: 1s - loss: 0.2834 - accuracy: 0.89 - ETA: 1s - loss: 0.2843 - accuracy: 0.89 - ETA: 1s - loss: 0.2844 - accuracy: 0.89 - ETA: 1s - loss: 0.2842 - accuracy: 0.89 - ETA: 1s - loss: 0.2843 - accuracy: 0.89 - ETA: 1s - loss: 0.2838 - accuracy: 0.89 - ETA: 1s - loss: 0.2838 - accuracy: 0.89 - ETA: 1s - loss: 0.2835 - accuracy: 0.89 - ETA: 0s - loss: 0.2831 - accuracy: 0.89 - ETA: 0s - loss: 0.2832 - accuracy: 0.89 - ETA: 0s - loss: 0.2833 - accuracy: 0.89 - ETA: 0s - loss: 0.2829 - accuracy: 0.89 - ETA: 0s - loss: 0.2828 - accuracy: 0.89 - ETA: 0s - loss: 0.2825 - accuracy: 0.89 - ETA: 0s - loss: 0.2824 - accuracy: 0.89 - ETA: 0s - loss: 0.2822 - accuracy: 0.89 - ETA: 0s - loss: 0.2825 - accuracy: 0.89 - ETA: 0s - loss: 0.2821 - accuracy: 0.89 - ETA: 0s - loss: 0.2823 - accuracy: 0.89 - ETA: 0s - loss: 0.2824 - accuracy: 0.89 - ETA: 0s - loss: 0.2829 - accuracy: 0.89 - ETA: 0s - loss: 0.2829 - accuracy: 0.89 - ETA: 0s - loss: 0.2828 - accuracy: 0.89 - ETA: 0s - loss: 0.2828 - accuracy: 0.89 - ETA: 0s - loss: 0.2832 - accuracy: 0.89 - ETA: 0s - loss: 0.2830 - accuracy: 0.89 - 8s 4ms/step - loss: 0.2831 - accuracy: 0.8942\n",
      "Epoch 6/10\n",
      "1875/1875 [==============================] - ETA: 0s - loss: 0.3103 - accuracy: 0.90 - ETA: 6s - loss: 0.2481 - accuracy: 0.90 - ETA: 6s - loss: 0.2668 - accuracy: 0.88 - ETA: 7s - loss: 0.2561 - accuracy: 0.89 - ETA: 7s - loss: 0.2543 - accuracy: 0.89 - ETA: 7s - loss: 0.2764 - accuracy: 0.89 - ETA: 7s - loss: 0.2758 - accuracy: 0.89 - ETA: 7s - loss: 0.2754 - accuracy: 0.89 - ETA: 7s - loss: 0.2683 - accuracy: 0.89 - ETA: 6s - loss: 0.2686 - accuracy: 0.89 - ETA: 6s - loss: 0.2640 - accuracy: 0.89 - ETA: 6s - loss: 0.2605 - accuracy: 0.89 - ETA: 6s - loss: 0.2595 - accuracy: 0.90 - ETA: 6s - loss: 0.2552 - accuracy: 0.90 - ETA: 6s - loss: 0.2532 - accuracy: 0.90 - ETA: 6s - loss: 0.2576 - accuracy: 0.90 - ETA: 6s - loss: 0.2600 - accuracy: 0.90 - ETA: 6s - loss: 0.2620 - accuracy: 0.90 - ETA: 6s - loss: 0.2611 - accuracy: 0.90 - ETA: 6s - loss: 0.2615 - accuracy: 0.90 - ETA: 6s - loss: 0.2615 - accuracy: 0.90 - ETA: 6s - loss: 0.2605 - accuracy: 0.90 - ETA: 6s - loss: 0.2614 - accuracy: 0.90 - ETA: 6s - loss: 0.2629 - accuracy: 0.90 - ETA: 6s - loss: 0.2632 - accuracy: 0.90 - ETA: 6s - loss: 0.2634 - accuracy: 0.90 - ETA: 6s - loss: 0.2626 - accuracy: 0.90 - ETA: 6s - loss: 0.2638 - accuracy: 0.90 - ETA: 6s - loss: 0.2640 - accuracy: 0.90 - ETA: 5s - loss: 0.2653 - accuracy: 0.90 - ETA: 5s - loss: 0.2665 - accuracy: 0.90 - ETA: 5s - loss: 0.2666 - accuracy: 0.90 - ETA: 5s - loss: 0.2659 - accuracy: 0.90 - ETA: 5s - loss: 0.2645 - accuracy: 0.90 - ETA: 5s - loss: 0.2643 - accuracy: 0.90 - ETA: 5s - loss: 0.2651 - accuracy: 0.90 - ETA: 5s - loss: 0.2650 - accuracy: 0.90 - ETA: 5s - loss: 0.2658 - accuracy: 0.90 - ETA: 5s - loss: 0.2671 - accuracy: 0.90 - ETA: 5s - loss: 0.2677 - accuracy: 0.90 - ETA: 5s - loss: 0.2674 - accuracy: 0.90 - ETA: 5s - loss: 0.2662 - accuracy: 0.90 - ETA: 5s - loss: 0.2648 - accuracy: 0.90 - ETA: 5s - loss: 0.2644 - accuracy: 0.90 - ETA: 5s - loss: 0.2642 - accuracy: 0.90 - ETA: 5s - loss: 0.2647 - accuracy: 0.90 - ETA: 5s - loss: 0.2648 - accuracy: 0.90 - ETA: 4s - loss: 0.2646 - accuracy: 0.90 - ETA: 4s - loss: 0.2652 - accuracy: 0.90 - ETA: 4s - loss: 0.2651 - accuracy: 0.90 - ETA: 4s - loss: 0.2653 - accuracy: 0.90 - ETA: 4s - loss: 0.2643 - accuracy: 0.90 - ETA: 4s - loss: 0.2641 - accuracy: 0.90 - ETA: 4s - loss: 0.2641 - accuracy: 0.90 - ETA: 4s - loss: 0.2627 - accuracy: 0.90 - ETA: 4s - loss: 0.2623 - accuracy: 0.90 - ETA: 4s - loss: 0.2627 - accuracy: 0.90 - ETA: 4s - loss: 0.2627 - accuracy: 0.90 - ETA: 4s - loss: 0.2631 - accuracy: 0.90 - ETA: 4s - loss: 0.2626 - accuracy: 0.90 - ETA: 4s - loss: 0.2622 - accuracy: 0.90 - ETA: 4s - loss: 0.2620 - accuracy: 0.90 - ETA: 4s - loss: 0.2628 - accuracy: 0.90 - ETA: 4s - loss: 0.2624 - accuracy: 0.90 - ETA: 4s - loss: 0.2631 - accuracy: 0.90 - ETA: 4s - loss: 0.2633 - accuracy: 0.90 - ETA: 3s - loss: 0.2633 - accuracy: 0.90 - ETA: 3s - loss: 0.2630 - accuracy: 0.90 - ETA: 3s - loss: 0.2630 - accuracy: 0.90 - ETA: 3s - loss: 0.2636 - accuracy: 0.90 - ETA: 3s - loss: 0.2632 - accuracy: 0.90 - ETA: 3s - loss: 0.2628 - accuracy: 0.90 - ETA: 3s - loss: 0.2621 - accuracy: 0.90 - ETA: 3s - loss: 0.2630 - accuracy: 0.90 - ETA: 3s - loss: 0.2634 - accuracy: 0.90 - ETA: 3s - loss: 0.2630 - accuracy: 0.90 - ETA: 3s - loss: 0.2637 - accuracy: 0.90 - ETA: 3s - loss: 0.2635 - accuracy: 0.90 - ETA: 3s - loss: 0.2631 - accuracy: 0.90 - ETA: 3s - loss: 0.2638 - accuracy: 0.90 - ETA: 3s - loss: 0.2640 - accuracy: 0.90 - ETA: 3s - loss: 0.2649 - accuracy: 0.90 - ETA: 3s - loss: 0.2644 - accuracy: 0.90 - ETA: 3s - loss: 0.2645 - accuracy: 0.90 - ETA: 2s - loss: 0.2649 - accuracy: 0.90 - ETA: 2s - loss: 0.2646 - accuracy: 0.90 - ETA: 2s - loss: 0.2639 - accuracy: 0.90 - ETA: 2s - loss: 0.2633 - accuracy: 0.90 - ETA: 2s - loss: 0.2632 - accuracy: 0.90 - ETA: 2s - loss: 0.2625 - accuracy: 0.90 - ETA: 2s - loss: 0.2628 - accuracy: 0.90 - ETA: 2s - loss: 0.2623 - accuracy: 0.90 - ETA: 2s - loss: 0.2626 - accuracy: 0.90 - ETA: 2s - loss: 0.2624 - accuracy: 0.90 - ETA: 2s - loss: 0.2624 - accuracy: 0.90 - ETA: 2s - loss: 0.2625 - accuracy: 0.90 - ETA: 2s - loss: 0.2621 - accuracy: 0.90 - ETA: 2s - loss: 0.2620 - accuracy: 0.90 - ETA: 2s - loss: 0.2622 - accuracy: 0.90 - ETA: 2s - loss: 0.2618 - accuracy: 0.90 - ETA: 2s - loss: 0.2617 - accuracy: 0.90 - ETA: 2s - loss: 0.2621 - accuracy: 0.90 - ETA: 2s - loss: 0.2618 - accuracy: 0.90 - ETA: 1s - loss: 0.2620 - accuracy: 0.90 - ETA: 1s - loss: 0.2623 - accuracy: 0.90 - ETA: 1s - loss: 0.2622 - accuracy: 0.90 - ETA: 1s - loss: 0.2619 - accuracy: 0.90 - ETA: 1s - loss: 0.2622 - accuracy: 0.90 - ETA: 1s - loss: 0.2622 - accuracy: 0.90 - ETA: 1s - loss: 0.2625 - accuracy: 0.90 - ETA: 1s - loss: 0.2629 - accuracy: 0.90 - ETA: 1s - loss: 0.2627 - accuracy: 0.90 - ETA: 1s - loss: 0.2626 - accuracy: 0.90 - ETA: 1s - loss: 0.2621 - accuracy: 0.90 - ETA: 1s - loss: 0.2621 - accuracy: 0.90 - ETA: 1s - loss: 0.2625 - accuracy: 0.90 - ETA: 1s - loss: 0.2629 - accuracy: 0.90 - ETA: 1s - loss: 0.2635 - accuracy: 0.90 - ETA: 1s - loss: 0.2636 - accuracy: 0.90 - ETA: 1s - loss: 0.2633 - accuracy: 0.90 - ETA: 1s - loss: 0.2631 - accuracy: 0.90 - ETA: 1s - loss: 0.2632 - accuracy: 0.90 - ETA: 1s - loss: 0.2628 - accuracy: 0.90 - ETA: 0s - loss: 0.2627 - accuracy: 0.90 - ETA: 0s - loss: 0.2628 - accuracy: 0.90 - ETA: 0s - loss: 0.2629 - accuracy: 0.90 - ETA: 0s - loss: 0.2629 - accuracy: 0.90 - ETA: 0s - loss: 0.2628 - accuracy: 0.90 - ETA: 0s - loss: 0.2629 - accuracy: 0.90 - ETA: 0s - loss: 0.2631 - accuracy: 0.90 - ETA: 0s - loss: 0.2629 - accuracy: 0.90 - ETA: 0s - loss: 0.2629 - accuracy: 0.90 - ETA: 0s - loss: 0.2630 - accuracy: 0.90 - ETA: 0s - loss: 0.2631 - accuracy: 0.90 - ETA: 0s - loss: 0.2639 - accuracy: 0.90 - ETA: 0s - loss: 0.2639 - accuracy: 0.90 - ETA: 0s - loss: 0.2642 - accuracy: 0.90 - ETA: 0s - loss: 0.2637 - accuracy: 0.90 - ETA: 0s - loss: 0.2639 - accuracy: 0.90 - ETA: 0s - loss: 0.2638 - accuracy: 0.90 - ETA: 0s - loss: 0.2639 - accuracy: 0.90 - ETA: 0s - loss: 0.2643 - accuracy: 0.90 - 7s 4ms/step - loss: 0.2646 - accuracy: 0.9019\n",
      "Epoch 7/10\n",
      "1875/1875 [==============================] - ETA: 0s - loss: 0.2899 - accuracy: 0.90 - ETA: 6s - loss: 0.3067 - accuracy: 0.87 - ETA: 6s - loss: 0.2951 - accuracy: 0.88 - ETA: 6s - loss: 0.2744 - accuracy: 0.90 - ETA: 6s - loss: 0.2617 - accuracy: 0.90 - ETA: 6s - loss: 0.2655 - accuracy: 0.89 - ETA: 6s - loss: 0.2573 - accuracy: 0.90 - ETA: 6s - loss: 0.2523 - accuracy: 0.90 - ETA: 6s - loss: 0.2546 - accuracy: 0.90 - ETA: 6s - loss: 0.2539 - accuracy: 0.90 - ETA: 6s - loss: 0.2480 - accuracy: 0.90 - ETA: 6s - loss: 0.2446 - accuracy: 0.90 - ETA: 6s - loss: 0.2444 - accuracy: 0.90 - ETA: 6s - loss: 0.2464 - accuracy: 0.90 - ETA: 6s - loss: 0.2461 - accuracy: 0.90 - ETA: 6s - loss: 0.2448 - accuracy: 0.90 - ETA: 6s - loss: 0.2449 - accuracy: 0.90 - ETA: 6s - loss: 0.2458 - accuracy: 0.90 - ETA: 6s - loss: 0.2445 - accuracy: 0.90 - ETA: 6s - loss: 0.2433 - accuracy: 0.90 - ETA: 6s - loss: 0.2447 - accuracy: 0.90 - ETA: 5s - loss: 0.2438 - accuracy: 0.90 - ETA: 5s - loss: 0.2434 - accuracy: 0.90 - ETA: 5s - loss: 0.2419 - accuracy: 0.90 - ETA: 5s - loss: 0.2413 - accuracy: 0.90 - ETA: 5s - loss: 0.2414 - accuracy: 0.90 - ETA: 5s - loss: 0.2408 - accuracy: 0.90 - ETA: 5s - loss: 0.2419 - accuracy: 0.90 - ETA: 5s - loss: 0.2428 - accuracy: 0.90 - ETA: 5s - loss: 0.2429 - accuracy: 0.90 - ETA: 5s - loss: 0.2435 - accuracy: 0.90 - ETA: 5s - loss: 0.2441 - accuracy: 0.90 - ETA: 5s - loss: 0.2448 - accuracy: 0.90 - ETA: 5s - loss: 0.2454 - accuracy: 0.90 - ETA: 5s - loss: 0.2465 - accuracy: 0.90 - ETA: 5s - loss: 0.2463 - accuracy: 0.90 - ETA: 5s - loss: 0.2480 - accuracy: 0.90 - ETA: 5s - loss: 0.2484 - accuracy: 0.90 - ETA: 5s - loss: 0.2475 - accuracy: 0.90 - ETA: 4s - loss: 0.2485 - accuracy: 0.90 - ETA: 4s - loss: 0.2483 - accuracy: 0.90 - ETA: 4s - loss: 0.2486 - accuracy: 0.90 - ETA: 4s - loss: 0.2482 - accuracy: 0.90 - ETA: 4s - loss: 0.2491 - accuracy: 0.90 - ETA: 4s - loss: 0.2489 - accuracy: 0.90 - ETA: 4s - loss: 0.2488 - accuracy: 0.90 - ETA: 4s - loss: 0.2487 - accuracy: 0.90 - ETA: 4s - loss: 0.2503 - accuracy: 0.90 - ETA: 4s - loss: 0.2504 - accuracy: 0.90 - ETA: 4s - loss: 0.2500 - accuracy: 0.90 - ETA: 4s - loss: 0.2496 - accuracy: 0.90 - ETA: 4s - loss: 0.2503 - accuracy: 0.90 - ETA: 4s - loss: 0.2499 - accuracy: 0.90 - ETA: 4s - loss: 0.2507 - accuracy: 0.90 - ETA: 4s - loss: 0.2512 - accuracy: 0.90 - ETA: 4s - loss: 0.2510 - accuracy: 0.90 - ETA: 4s - loss: 0.2517 - accuracy: 0.90 - ETA: 4s - loss: 0.2508 - accuracy: 0.90 - ETA: 4s - loss: 0.2519 - accuracy: 0.90 - ETA: 4s - loss: 0.2514 - accuracy: 0.90 - ETA: 4s - loss: 0.2521 - accuracy: 0.90 - ETA: 3s - loss: 0.2517 - accuracy: 0.90 - ETA: 3s - loss: 0.2521 - accuracy: 0.90 - ETA: 3s - loss: 0.2518 - accuracy: 0.90 - ETA: 3s - loss: 0.2517 - accuracy: 0.90 - ETA: 3s - loss: 0.2519 - accuracy: 0.90 - ETA: 3s - loss: 0.2521 - accuracy: 0.90 - ETA: 3s - loss: 0.2514 - accuracy: 0.90 - ETA: 3s - loss: 0.2520 - accuracy: 0.90 - ETA: 3s - loss: 0.2516 - accuracy: 0.90 - ETA: 3s - loss: 0.2519 - accuracy: 0.90 - ETA: 3s - loss: 0.2516 - accuracy: 0.90 - ETA: 3s - loss: 0.2508 - accuracy: 0.90 - ETA: 3s - loss: 0.2509 - accuracy: 0.90 - ETA: 3s - loss: 0.2507 - accuracy: 0.90 - ETA: 3s - loss: 0.2508 - accuracy: 0.90 - ETA: 3s - loss: 0.2509 - accuracy: 0.90 - ETA: 3s - loss: 0.2508 - accuracy: 0.90 - ETA: 3s - loss: 0.2505 - accuracy: 0.90 - ETA: 3s - loss: 0.2505 - accuracy: 0.90 - ETA: 3s - loss: 0.2502 - accuracy: 0.90 - ETA: 3s - loss: 0.2501 - accuracy: 0.90 - ETA: 2s - loss: 0.2501 - accuracy: 0.90 - ETA: 2s - loss: 0.2499 - accuracy: 0.90 - ETA: 2s - loss: 0.2500 - accuracy: 0.90 - ETA: 2s - loss: 0.2502 - accuracy: 0.90 - ETA: 2s - loss: 0.2507 - accuracy: 0.90 - ETA: 2s - loss: 0.2507 - accuracy: 0.90 - ETA: 2s - loss: 0.2511 - accuracy: 0.90 - ETA: 2s - loss: 0.2512 - accuracy: 0.90 - ETA: 2s - loss: 0.2511 - accuracy: 0.90 - ETA: 2s - loss: 0.2511 - accuracy: 0.90 - ETA: 2s - loss: 0.2512 - accuracy: 0.90 - ETA: 2s - loss: 0.2512 - accuracy: 0.90 - ETA: 2s - loss: 0.2516 - accuracy: 0.90 - ETA: 2s - loss: 0.2518 - accuracy: 0.90 - ETA: 2s - loss: 0.2521 - accuracy: 0.90 - ETA: 2s - loss: 0.2516 - accuracy: 0.90 - ETA: 2s - loss: 0.2515 - accuracy: 0.90 - ETA: 2s - loss: 0.2514 - accuracy: 0.90 - ETA: 2s - loss: 0.2518 - accuracy: 0.90 - ETA: 2s - loss: 0.2517 - accuracy: 0.90 - ETA: 2s - loss: 0.2515 - accuracy: 0.90 - ETA: 2s - loss: 0.2520 - accuracy: 0.90 - ETA: 2s - loss: 0.2525 - accuracy: 0.90 - ETA: 2s - loss: 0.2528 - accuracy: 0.90 - ETA: 1s - loss: 0.2533 - accuracy: 0.90 - ETA: 1s - loss: 0.2543 - accuracy: 0.90 - ETA: 1s - loss: 0.2540 - accuracy: 0.90 - ETA: 1s - loss: 0.2539 - accuracy: 0.90 - ETA: 1s - loss: 0.2540 - accuracy: 0.90 - ETA: 1s - loss: 0.2542 - accuracy: 0.90 - ETA: 1s - loss: 0.2543 - accuracy: 0.90 - ETA: 1s - loss: 0.2543 - accuracy: 0.90 - ETA: 1s - loss: 0.2542 - accuracy: 0.90 - ETA: 1s - loss: 0.2545 - accuracy: 0.90 - ETA: 1s - loss: 0.2546 - accuracy: 0.90 - ETA: 1s - loss: 0.2545 - accuracy: 0.90 - ETA: 1s - loss: 0.2544 - accuracy: 0.90 - ETA: 1s - loss: 0.2543 - accuracy: 0.90 - ETA: 1s - loss: 0.2542 - accuracy: 0.90 - ETA: 1s - loss: 0.2545 - accuracy: 0.90 - ETA: 1s - loss: 0.2544 - accuracy: 0.90 - ETA: 1s - loss: 0.2543 - accuracy: 0.90 - ETA: 1s - loss: 0.2543 - accuracy: 0.90 - ETA: 0s - loss: 0.2552 - accuracy: 0.90 - ETA: 0s - loss: 0.2556 - accuracy: 0.90 - ETA: 0s - loss: 0.2557 - accuracy: 0.90 - ETA: 0s - loss: 0.2555 - accuracy: 0.90 - ETA: 0s - loss: 0.2555 - accuracy: 0.90 - ETA: 0s - loss: 0.2553 - accuracy: 0.90 - ETA: 0s - loss: 0.2559 - accuracy: 0.90 - ETA: 0s - loss: 0.2555 - accuracy: 0.90 - ETA: 0s - loss: 0.2555 - accuracy: 0.90 - ETA: 0s - loss: 0.2559 - accuracy: 0.90 - ETA: 0s - loss: 0.2558 - accuracy: 0.90 - ETA: 0s - loss: 0.2555 - accuracy: 0.90 - ETA: 0s - loss: 0.2554 - accuracy: 0.90 - ETA: 0s - loss: 0.2553 - accuracy: 0.90 - ETA: 0s - loss: 0.2551 - accuracy: 0.90 - ETA: 0s - loss: 0.2552 - accuracy: 0.90 - ETA: 0s - loss: 0.2553 - accuracy: 0.90 - ETA: 0s - loss: 0.2554 - accuracy: 0.90 - 7s 4ms/step - loss: 0.2554 - accuracy: 0.9039\n",
      "Epoch 8/10\n",
      "1875/1875 [==============================] - ETA: 0s - loss: 0.2899 - accuracy: 0.84 - ETA: 6s - loss: 0.2053 - accuracy: 0.91 - ETA: 6s - loss: 0.2206 - accuracy: 0.91 - ETA: 6s - loss: 0.2330 - accuracy: 0.91 - ETA: 6s - loss: 0.2435 - accuracy: 0.90 - ETA: 6s - loss: 0.2490 - accuracy: 0.90 - ETA: 6s - loss: 0.2448 - accuracy: 0.90 - ETA: 6s - loss: 0.2453 - accuracy: 0.90 - ETA: 6s - loss: 0.2496 - accuracy: 0.90 - ETA: 6s - loss: 0.2441 - accuracy: 0.90 - ETA: 6s - loss: 0.2416 - accuracy: 0.90 - ETA: 6s - loss: 0.2432 - accuracy: 0.90 - ETA: 6s - loss: 0.2398 - accuracy: 0.91 - ETA: 6s - loss: 0.2419 - accuracy: 0.90 - ETA: 6s - loss: 0.2442 - accuracy: 0.90 - ETA: 6s - loss: 0.2411 - accuracy: 0.90 - ETA: 6s - loss: 0.2432 - accuracy: 0.90 - ETA: 6s - loss: 0.2436 - accuracy: 0.90 - ETA: 6s - loss: 0.2437 - accuracy: 0.90 - ETA: 6s - loss: 0.2437 - accuracy: 0.90 - ETA: 6s - loss: 0.2478 - accuracy: 0.90 - ETA: 6s - loss: 0.2478 - accuracy: 0.90 - ETA: 6s - loss: 0.2490 - accuracy: 0.90 - ETA: 6s - loss: 0.2489 - accuracy: 0.90 - ETA: 5s - loss: 0.2475 - accuracy: 0.90 - ETA: 5s - loss: 0.2478 - accuracy: 0.90 - ETA: 5s - loss: 0.2476 - accuracy: 0.90 - ETA: 5s - loss: 0.2473 - accuracy: 0.90 - ETA: 5s - loss: 0.2462 - accuracy: 0.90 - ETA: 5s - loss: 0.2475 - accuracy: 0.90 - ETA: 5s - loss: 0.2478 - accuracy: 0.90 - ETA: 5s - loss: 0.2479 - accuracy: 0.90 - ETA: 5s - loss: 0.2479 - accuracy: 0.90 - ETA: 5s - loss: 0.2479 - accuracy: 0.90 - ETA: 5s - loss: 0.2477 - accuracy: 0.90 - ETA: 5s - loss: 0.2472 - accuracy: 0.90 - ETA: 5s - loss: 0.2473 - accuracy: 0.90 - ETA: 5s - loss: 0.2462 - accuracy: 0.90 - ETA: 5s - loss: 0.2457 - accuracy: 0.90 - ETA: 5s - loss: 0.2451 - accuracy: 0.90 - ETA: 5s - loss: 0.2460 - accuracy: 0.90 - ETA: 5s - loss: 0.2469 - accuracy: 0.90 - ETA: 5s - loss: 0.2457 - accuracy: 0.90 - ETA: 5s - loss: 0.2448 - accuracy: 0.90 - ETA: 4s - loss: 0.2438 - accuracy: 0.90 - ETA: 4s - loss: 0.2435 - accuracy: 0.90 - ETA: 4s - loss: 0.2428 - accuracy: 0.90 - ETA: 4s - loss: 0.2422 - accuracy: 0.90 - ETA: 4s - loss: 0.2423 - accuracy: 0.90 - ETA: 4s - loss: 0.2430 - accuracy: 0.90 - ETA: 4s - loss: 0.2419 - accuracy: 0.90 - ETA: 4s - loss: 0.2418 - accuracy: 0.90 - ETA: 4s - loss: 0.2409 - accuracy: 0.91 - ETA: 4s - loss: 0.2422 - accuracy: 0.90 - ETA: 4s - loss: 0.2421 - accuracy: 0.90 - ETA: 4s - loss: 0.2415 - accuracy: 0.90 - ETA: 4s - loss: 0.2409 - accuracy: 0.90 - ETA: 4s - loss: 0.2401 - accuracy: 0.91 - ETA: 4s - loss: 0.2399 - accuracy: 0.91 - ETA: 4s - loss: 0.2392 - accuracy: 0.91 - ETA: 4s - loss: 0.2401 - accuracy: 0.91 - ETA: 4s - loss: 0.2404 - accuracy: 0.90 - ETA: 3s - loss: 0.2406 - accuracy: 0.90 - ETA: 3s - loss: 0.2393 - accuracy: 0.91 - ETA: 3s - loss: 0.2392 - accuracy: 0.91 - ETA: 3s - loss: 0.2388 - accuracy: 0.91 - ETA: 3s - loss: 0.2398 - accuracy: 0.90 - ETA: 3s - loss: 0.2396 - accuracy: 0.90 - ETA: 3s - loss: 0.2391 - accuracy: 0.90 - ETA: 3s - loss: 0.2386 - accuracy: 0.91 - ETA: 3s - loss: 0.2381 - accuracy: 0.91 - ETA: 3s - loss: 0.2382 - accuracy: 0.91 - ETA: 3s - loss: 0.2383 - accuracy: 0.91 - ETA: 3s - loss: 0.2381 - accuracy: 0.91 - ETA: 3s - loss: 0.2394 - accuracy: 0.90 - ETA: 3s - loss: 0.2388 - accuracy: 0.91 - ETA: 3s - loss: 0.2390 - accuracy: 0.90 - ETA: 3s - loss: 0.2393 - accuracy: 0.90 - ETA: 3s - loss: 0.2398 - accuracy: 0.90 - ETA: 3s - loss: 0.2404 - accuracy: 0.90 - ETA: 3s - loss: 0.2409 - accuracy: 0.90 - ETA: 2s - loss: 0.2402 - accuracy: 0.90 - ETA: 2s - loss: 0.2403 - accuracy: 0.90 - ETA: 2s - loss: 0.2399 - accuracy: 0.90 - ETA: 2s - loss: 0.2403 - accuracy: 0.90 - ETA: 2s - loss: 0.2399 - accuracy: 0.90 - ETA: 2s - loss: 0.2397 - accuracy: 0.90 - ETA: 2s - loss: 0.2394 - accuracy: 0.90 - ETA: 2s - loss: 0.2390 - accuracy: 0.90 - ETA: 2s - loss: 0.2395 - accuracy: 0.90 - ETA: 2s - loss: 0.2390 - accuracy: 0.91 - ETA: 2s - loss: 0.2388 - accuracy: 0.91 - ETA: 2s - loss: 0.2391 - accuracy: 0.91 - ETA: 2s - loss: 0.2395 - accuracy: 0.90 - ETA: 2s - loss: 0.2395 - accuracy: 0.90 - ETA: 2s - loss: 0.2396 - accuracy: 0.90 - ETA: 2s - loss: 0.2392 - accuracy: 0.91 - ETA: 2s - loss: 0.2393 - accuracy: 0.91 - ETA: 2s - loss: 0.2393 - accuracy: 0.91 - ETA: 2s - loss: 0.2396 - accuracy: 0.91 - ETA: 2s - loss: 0.2400 - accuracy: 0.90 - ETA: 1s - loss: 0.2398 - accuracy: 0.91 - ETA: 1s - loss: 0.2391 - accuracy: 0.91 - ETA: 1s - loss: 0.2393 - accuracy: 0.91 - ETA: 1s - loss: 0.2391 - accuracy: 0.91 - ETA: 1s - loss: 0.2396 - accuracy: 0.91 - ETA: 1s - loss: 0.2394 - accuracy: 0.91 - ETA: 1s - loss: 0.2393 - accuracy: 0.91 - ETA: 1s - loss: 0.2394 - accuracy: 0.91 - ETA: 1s - loss: 0.2394 - accuracy: 0.91 - ETA: 1s - loss: 0.2395 - accuracy: 0.91 - ETA: 1s - loss: 0.2394 - accuracy: 0.91 - ETA: 1s - loss: 0.2390 - accuracy: 0.91 - ETA: 1s - loss: 0.2391 - accuracy: 0.91 - ETA: 1s - loss: 0.2395 - accuracy: 0.91 - ETA: 1s - loss: 0.2398 - accuracy: 0.91 - ETA: 1s - loss: 0.2396 - accuracy: 0.91 - ETA: 1s - loss: 0.2394 - accuracy: 0.91 - ETA: 1s - loss: 0.2391 - accuracy: 0.91 - ETA: 1s - loss: 0.2390 - accuracy: 0.91 - ETA: 0s - loss: 0.2390 - accuracy: 0.91 - ETA: 0s - loss: 0.2399 - accuracy: 0.91 - ETA: 0s - loss: 0.2399 - accuracy: 0.91 - ETA: 0s - loss: 0.2405 - accuracy: 0.90 - ETA: 0s - loss: 0.2405 - accuracy: 0.90 - ETA: 0s - loss: 0.2405 - accuracy: 0.90 - ETA: 0s - loss: 0.2408 - accuracy: 0.90 - ETA: 0s - loss: 0.2412 - accuracy: 0.90 - ETA: 0s - loss: 0.2411 - accuracy: 0.90 - ETA: 0s - loss: 0.2413 - accuracy: 0.90 - ETA: 0s - loss: 0.2415 - accuracy: 0.90 - ETA: 0s - loss: 0.2423 - accuracy: 0.90 - ETA: 0s - loss: 0.2428 - accuracy: 0.90 - ETA: 0s - loss: 0.2425 - accuracy: 0.90 - ETA: 0s - loss: 0.2424 - accuracy: 0.90 - ETA: 0s - loss: 0.2426 - accuracy: 0.90 - ETA: 0s - loss: 0.2422 - accuracy: 0.90 - ETA: 0s - loss: 0.2421 - accuracy: 0.90 - ETA: 0s - loss: 0.2420 - accuracy: 0.90 - 7s 4ms/step - loss: 0.2421 - accuracy: 0.9092\n",
      "Epoch 9/10\n",
      "1875/1875 [==============================] - ETA: 0s - loss: 0.1159 - accuracy: 0.96 - ETA: 6s - loss: 0.1894 - accuracy: 0.93 - ETA: 6s - loss: 0.2119 - accuracy: 0.92 - ETA: 6s - loss: 0.2143 - accuracy: 0.91 - ETA: 6s - loss: 0.2257 - accuracy: 0.91 - ETA: 6s - loss: 0.2377 - accuracy: 0.91 - ETA: 6s - loss: 0.2268 - accuracy: 0.91 - ETA: 6s - loss: 0.2286 - accuracy: 0.91 - ETA: 6s - loss: 0.2348 - accuracy: 0.91 - ETA: 6s - loss: 0.2373 - accuracy: 0.91 - ETA: 6s - loss: 0.2373 - accuracy: 0.91 - ETA: 6s - loss: 0.2418 - accuracy: 0.91 - ETA: 6s - loss: 0.2393 - accuracy: 0.91 - ETA: 6s - loss: 0.2383 - accuracy: 0.91 - ETA: 6s - loss: 0.2380 - accuracy: 0.91 - ETA: 6s - loss: 0.2361 - accuracy: 0.91 - ETA: 6s - loss: 0.2334 - accuracy: 0.91 - ETA: 6s - loss: 0.2359 - accuracy: 0.91 - ETA: 6s - loss: 0.2351 - accuracy: 0.91 - ETA: 6s - loss: 0.2329 - accuracy: 0.91 - ETA: 6s - loss: 0.2341 - accuracy: 0.91 - ETA: 6s - loss: 0.2319 - accuracy: 0.91 - ETA: 5s - loss: 0.2302 - accuracy: 0.91 - ETA: 5s - loss: 0.2307 - accuracy: 0.91 - ETA: 5s - loss: 0.2288 - accuracy: 0.91 - ETA: 5s - loss: 0.2285 - accuracy: 0.91 - ETA: 5s - loss: 0.2280 - accuracy: 0.91 - ETA: 5s - loss: 0.2282 - accuracy: 0.91 - ETA: 5s - loss: 0.2277 - accuracy: 0.91 - ETA: 5s - loss: 0.2275 - accuracy: 0.91 - ETA: 5s - loss: 0.2275 - accuracy: 0.91 - ETA: 5s - loss: 0.2290 - accuracy: 0.91 - ETA: 5s - loss: 0.2284 - accuracy: 0.91 - ETA: 5s - loss: 0.2274 - accuracy: 0.91 - ETA: 5s - loss: 0.2262 - accuracy: 0.91 - ETA: 5s - loss: 0.2264 - accuracy: 0.91 - ETA: 5s - loss: 0.2256 - accuracy: 0.91 - ETA: 5s - loss: 0.2263 - accuracy: 0.91 - ETA: 5s - loss: 0.2264 - accuracy: 0.91 - ETA: 5s - loss: 0.2270 - accuracy: 0.91 - ETA: 5s - loss: 0.2264 - accuracy: 0.91 - ETA: 4s - loss: 0.2271 - accuracy: 0.91 - ETA: 4s - loss: 0.2281 - accuracy: 0.91 - ETA: 4s - loss: 0.2285 - accuracy: 0.91 - ETA: 4s - loss: 0.2283 - accuracy: 0.91 - ETA: 4s - loss: 0.2283 - accuracy: 0.91 - ETA: 4s - loss: 0.2276 - accuracy: 0.91 - ETA: 4s - loss: 0.2278 - accuracy: 0.91 - ETA: 4s - loss: 0.2274 - accuracy: 0.91 - ETA: 4s - loss: 0.2287 - accuracy: 0.91 - ETA: 4s - loss: 0.2296 - accuracy: 0.91 - ETA: 4s - loss: 0.2293 - accuracy: 0.91 - ETA: 4s - loss: 0.2291 - accuracy: 0.91 - ETA: 4s - loss: 0.2297 - accuracy: 0.91 - ETA: 4s - loss: 0.2297 - accuracy: 0.91 - ETA: 4s - loss: 0.2295 - accuracy: 0.91 - ETA: 4s - loss: 0.2291 - accuracy: 0.91 - ETA: 4s - loss: 0.2292 - accuracy: 0.91 - ETA: 4s - loss: 0.2288 - accuracy: 0.91 - ETA: 4s - loss: 0.2279 - accuracy: 0.91 - ETA: 3s - loss: 0.2281 - accuracy: 0.91 - ETA: 3s - loss: 0.2280 - accuracy: 0.91 - ETA: 3s - loss: 0.2287 - accuracy: 0.91 - ETA: 3s - loss: 0.2283 - accuracy: 0.91 - ETA: 3s - loss: 0.2281 - accuracy: 0.91 - ETA: 3s - loss: 0.2271 - accuracy: 0.91 - ETA: 3s - loss: 0.2272 - accuracy: 0.91 - ETA: 3s - loss: 0.2276 - accuracy: 0.91 - ETA: 3s - loss: 0.2278 - accuracy: 0.91 - ETA: 3s - loss: 0.2275 - accuracy: 0.91 - ETA: 3s - loss: 0.2277 - accuracy: 0.91 - ETA: 3s - loss: 0.2269 - accuracy: 0.91 - ETA: 3s - loss: 0.2268 - accuracy: 0.91 - ETA: 3s - loss: 0.2274 - accuracy: 0.91 - ETA: 3s - loss: 0.2278 - accuracy: 0.91 - ETA: 3s - loss: 0.2284 - accuracy: 0.91 - ETA: 3s - loss: 0.2282 - accuracy: 0.91 - ETA: 3s - loss: 0.2281 - accuracy: 0.91 - ETA: 3s - loss: 0.2276 - accuracy: 0.91 - ETA: 2s - loss: 0.2277 - accuracy: 0.91 - ETA: 2s - loss: 0.2283 - accuracy: 0.91 - ETA: 2s - loss: 0.2288 - accuracy: 0.91 - ETA: 2s - loss: 0.2289 - accuracy: 0.91 - ETA: 2s - loss: 0.2287 - accuracy: 0.91 - ETA: 2s - loss: 0.2290 - accuracy: 0.91 - ETA: 2s - loss: 0.2289 - accuracy: 0.91 - ETA: 2s - loss: 0.2290 - accuracy: 0.91 - ETA: 2s - loss: 0.2288 - accuracy: 0.91 - ETA: 2s - loss: 0.2290 - accuracy: 0.91 - ETA: 2s - loss: 0.2289 - accuracy: 0.91 - ETA: 2s - loss: 0.2289 - accuracy: 0.91 - ETA: 2s - loss: 0.2294 - accuracy: 0.91 - ETA: 2s - loss: 0.2291 - accuracy: 0.91 - ETA: 2s - loss: 0.2291 - accuracy: 0.91 - ETA: 2s - loss: 0.2296 - accuracy: 0.91 - ETA: 2s - loss: 0.2293 - accuracy: 0.91 - ETA: 2s - loss: 0.2296 - accuracy: 0.91 - ETA: 2s - loss: 0.2296 - accuracy: 0.91 - ETA: 2s - loss: 0.2299 - accuracy: 0.91 - ETA: 1s - loss: 0.2306 - accuracy: 0.91 - ETA: 1s - loss: 0.2305 - accuracy: 0.91 - ETA: 1s - loss: 0.2302 - accuracy: 0.91 - ETA: 1s - loss: 0.2304 - accuracy: 0.91 - ETA: 1s - loss: 0.2305 - accuracy: 0.91 - ETA: 1s - loss: 0.2303 - accuracy: 0.91 - ETA: 1s - loss: 0.2301 - accuracy: 0.91 - ETA: 1s - loss: 0.2302 - accuracy: 0.91 - ETA: 1s - loss: 0.2304 - accuracy: 0.91 - ETA: 1s - loss: 0.2304 - accuracy: 0.91 - ETA: 1s - loss: 0.2306 - accuracy: 0.91 - ETA: 1s - loss: 0.2305 - accuracy: 0.91 - ETA: 1s - loss: 0.2302 - accuracy: 0.91 - ETA: 1s - loss: 0.2301 - accuracy: 0.91 - ETA: 1s - loss: 0.2299 - accuracy: 0.91 - ETA: 1s - loss: 0.2300 - accuracy: 0.91 - ETA: 1s - loss: 0.2307 - accuracy: 0.91 - ETA: 1s - loss: 0.2312 - accuracy: 0.91 - ETA: 1s - loss: 0.2309 - accuracy: 0.91 - ETA: 0s - loss: 0.2309 - accuracy: 0.91 - ETA: 0s - loss: 0.2308 - accuracy: 0.91 - ETA: 0s - loss: 0.2304 - accuracy: 0.91 - ETA: 0s - loss: 0.2303 - accuracy: 0.91 - ETA: 0s - loss: 0.2300 - accuracy: 0.91 - ETA: 0s - loss: 0.2304 - accuracy: 0.91 - ETA: 0s - loss: 0.2305 - accuracy: 0.91 - ETA: 0s - loss: 0.2306 - accuracy: 0.91 - ETA: 0s - loss: 0.2304 - accuracy: 0.91 - ETA: 0s - loss: 0.2305 - accuracy: 0.91 - ETA: 0s - loss: 0.2304 - accuracy: 0.91 - ETA: 0s - loss: 0.2304 - accuracy: 0.91 - ETA: 0s - loss: 0.2309 - accuracy: 0.91 - ETA: 0s - loss: 0.2306 - accuracy: 0.91 - ETA: 0s - loss: 0.2308 - accuracy: 0.91 - ETA: 0s - loss: 0.2308 - accuracy: 0.91 - ETA: 0s - loss: 0.2311 - accuracy: 0.91 - ETA: 0s - loss: 0.2310 - accuracy: 0.91 - ETA: 0s - loss: 0.2309 - accuracy: 0.91 - 7s 4ms/step - loss: 0.2309 - accuracy: 0.9139\n",
      "Epoch 10/10\n",
      "1875/1875 [==============================] - ETA: 0s - loss: 0.1624 - accuracy: 0.93 - ETA: 6s - loss: 0.2532 - accuracy: 0.91 - ETA: 6s - loss: 0.2121 - accuracy: 0.92 - ETA: 6s - loss: 0.2332 - accuracy: 0.91 - ETA: 6s - loss: 0.2287 - accuracy: 0.91 - ETA: 6s - loss: 0.2236 - accuracy: 0.91 - ETA: 6s - loss: 0.2280 - accuracy: 0.91 - ETA: 6s - loss: 0.2268 - accuracy: 0.91 - ETA: 6s - loss: 0.2230 - accuracy: 0.91 - ETA: 6s - loss: 0.2191 - accuracy: 0.91 - ETA: 6s - loss: 0.2211 - accuracy: 0.91 - ETA: 6s - loss: 0.2204 - accuracy: 0.91 - ETA: 6s - loss: 0.2203 - accuracy: 0.91 - ETA: 6s - loss: 0.2257 - accuracy: 0.91 - ETA: 6s - loss: 0.2217 - accuracy: 0.91 - ETA: 6s - loss: 0.2193 - accuracy: 0.91 - ETA: 6s - loss: 0.2213 - accuracy: 0.91 - ETA: 6s - loss: 0.2217 - accuracy: 0.91 - ETA: 6s - loss: 0.2204 - accuracy: 0.91 - ETA: 6s - loss: 0.2204 - accuracy: 0.91 - ETA: 6s - loss: 0.2191 - accuracy: 0.91 - ETA: 6s - loss: 0.2216 - accuracy: 0.91 - ETA: 6s - loss: 0.2234 - accuracy: 0.91 - ETA: 5s - loss: 0.2247 - accuracy: 0.91 - ETA: 5s - loss: 0.2249 - accuracy: 0.91 - ETA: 5s - loss: 0.2246 - accuracy: 0.91 - ETA: 5s - loss: 0.2240 - accuracy: 0.91 - ETA: 5s - loss: 0.2233 - accuracy: 0.91 - ETA: 5s - loss: 0.2234 - accuracy: 0.91 - ETA: 5s - loss: 0.2228 - accuracy: 0.91 - ETA: 5s - loss: 0.2215 - accuracy: 0.91 - ETA: 5s - loss: 0.2223 - accuracy: 0.91 - ETA: 5s - loss: 0.2238 - accuracy: 0.91 - ETA: 5s - loss: 0.2243 - accuracy: 0.91 - ETA: 5s - loss: 0.2233 - accuracy: 0.91 - ETA: 5s - loss: 0.2225 - accuracy: 0.91 - ETA: 5s - loss: 0.2228 - accuracy: 0.91 - ETA: 5s - loss: 0.2225 - accuracy: 0.91 - ETA: 5s - loss: 0.2222 - accuracy: 0.91 - ETA: 5s - loss: 0.2216 - accuracy: 0.91 - ETA: 5s - loss: 0.2223 - accuracy: 0.91 - ETA: 5s - loss: 0.2224 - accuracy: 0.91 - ETA: 4s - loss: 0.2222 - accuracy: 0.91 - ETA: 4s - loss: 0.2215 - accuracy: 0.91 - ETA: 4s - loss: 0.2219 - accuracy: 0.91 - ETA: 4s - loss: 0.2214 - accuracy: 0.91 - ETA: 4s - loss: 0.2208 - accuracy: 0.91 - ETA: 4s - loss: 0.2203 - accuracy: 0.91 - ETA: 4s - loss: 0.2204 - accuracy: 0.91 - ETA: 4s - loss: 0.2207 - accuracy: 0.91 - ETA: 4s - loss: 0.2221 - accuracy: 0.91 - ETA: 4s - loss: 0.2222 - accuracy: 0.91 - ETA: 4s - loss: 0.2222 - accuracy: 0.91 - ETA: 4s - loss: 0.2230 - accuracy: 0.91 - ETA: 4s - loss: 0.2236 - accuracy: 0.91 - ETA: 4s - loss: 0.2237 - accuracy: 0.91 - ETA: 4s - loss: 0.2235 - accuracy: 0.91 - ETA: 4s - loss: 0.2236 - accuracy: 0.91 - ETA: 4s - loss: 0.2238 - accuracy: 0.91 - ETA: 4s - loss: 0.2243 - accuracy: 0.91 - ETA: 4s - loss: 0.2246 - accuracy: 0.91 - ETA: 4s - loss: 0.2252 - accuracy: 0.91 - ETA: 4s - loss: 0.2253 - accuracy: 0.91 - ETA: 4s - loss: 0.2254 - accuracy: 0.91 - ETA: 4s - loss: 0.2261 - accuracy: 0.91 - ETA: 4s - loss: 0.2259 - accuracy: 0.91 - ETA: 4s - loss: 0.2261 - accuracy: 0.91 - ETA: 4s - loss: 0.2271 - accuracy: 0.91 - ETA: 4s - loss: 0.2271 - accuracy: 0.91 - ETA: 4s - loss: 0.2272 - accuracy: 0.91 - ETA: 3s - loss: 0.2274 - accuracy: 0.91 - ETA: 3s - loss: 0.2275 - accuracy: 0.91 - ETA: 3s - loss: 0.2275 - accuracy: 0.91 - ETA: 3s - loss: 0.2272 - accuracy: 0.91 - ETA: 3s - loss: 0.2271 - accuracy: 0.91 - ETA: 3s - loss: 0.2266 - accuracy: 0.91 - ETA: 3s - loss: 0.2265 - accuracy: 0.91 - ETA: 3s - loss: 0.2266 - accuracy: 0.91 - ETA: 3s - loss: 0.2266 - accuracy: 0.91 - ETA: 3s - loss: 0.2267 - accuracy: 0.91 - ETA: 3s - loss: 0.2268 - accuracy: 0.91 - ETA: 3s - loss: 0.2265 - accuracy: 0.91 - ETA: 3s - loss: 0.2262 - accuracy: 0.91 - ETA: 3s - loss: 0.2258 - accuracy: 0.91 - ETA: 3s - loss: 0.2259 - accuracy: 0.91 - ETA: 3s - loss: 0.2264 - accuracy: 0.91 - ETA: 3s - loss: 0.2262 - accuracy: 0.91 - ETA: 3s - loss: 0.2261 - accuracy: 0.91 - ETA: 3s - loss: 0.2262 - accuracy: 0.91 - ETA: 3s - loss: 0.2264 - accuracy: 0.91 - ETA: 3s - loss: 0.2264 - accuracy: 0.91 - ETA: 3s - loss: 0.2270 - accuracy: 0.91 - ETA: 3s - loss: 0.2267 - accuracy: 0.91 - ETA: 3s - loss: 0.2265 - accuracy: 0.91 - ETA: 3s - loss: 0.2269 - accuracy: 0.91 - ETA: 3s - loss: 0.2263 - accuracy: 0.91 - ETA: 3s - loss: 0.2261 - accuracy: 0.91 - ETA: 3s - loss: 0.2258 - accuracy: 0.91 - ETA: 3s - loss: 0.2255 - accuracy: 0.91 - ETA: 3s - loss: 0.2248 - accuracy: 0.91 - ETA: 2s - loss: 0.2254 - accuracy: 0.91 - ETA: 2s - loss: 0.2250 - accuracy: 0.91 - ETA: 2s - loss: 0.2250 - accuracy: 0.91 - ETA: 2s - loss: 0.2249 - accuracy: 0.91 - ETA: 2s - loss: 0.2249 - accuracy: 0.91 - ETA: 2s - loss: 0.2247 - accuracy: 0.91 - ETA: 2s - loss: 0.2247 - accuracy: 0.91 - ETA: 2s - loss: 0.2247 - accuracy: 0.91 - ETA: 2s - loss: 0.2247 - accuracy: 0.91 - ETA: 2s - loss: 0.2248 - accuracy: 0.91 - ETA: 2s - loss: 0.2246 - accuracy: 0.91 - ETA: 2s - loss: 0.2243 - accuracy: 0.91 - ETA: 2s - loss: 0.2239 - accuracy: 0.91 - ETA: 2s - loss: 0.2237 - accuracy: 0.91 - ETA: 2s - loss: 0.2236 - accuracy: 0.91 - ETA: 2s - loss: 0.2236 - accuracy: 0.91 - ETA: 2s - loss: 0.2234 - accuracy: 0.91 - ETA: 1s - loss: 0.2236 - accuracy: 0.91 - ETA: 1s - loss: 0.2234 - accuracy: 0.91 - ETA: 1s - loss: 0.2237 - accuracy: 0.91 - ETA: 1s - loss: 0.2241 - accuracy: 0.91 - ETA: 1s - loss: 0.2242 - accuracy: 0.91 - ETA: 1s - loss: 0.2247 - accuracy: 0.91 - ETA: 1s - loss: 0.2248 - accuracy: 0.91 - ETA: 1s - loss: 0.2247 - accuracy: 0.91 - ETA: 1s - loss: 0.2246 - accuracy: 0.91 - ETA: 1s - loss: 0.2250 - accuracy: 0.91 - ETA: 1s - loss: 0.2249 - accuracy: 0.91 - ETA: 1s - loss: 0.2246 - accuracy: 0.91 - ETA: 1s - loss: 0.2247 - accuracy: 0.91 - ETA: 1s - loss: 0.2245 - accuracy: 0.91 - ETA: 1s - loss: 0.2245 - accuracy: 0.91 - ETA: 1s - loss: 0.2246 - accuracy: 0.91 - ETA: 1s - loss: 0.2245 - accuracy: 0.91 - ETA: 1s - loss: 0.2243 - accuracy: 0.91 - ETA: 0s - loss: 0.2245 - accuracy: 0.91 - ETA: 0s - loss: 0.2243 - accuracy: 0.91 - ETA: 0s - loss: 0.2241 - accuracy: 0.91 - ETA: 0s - loss: 0.2239 - accuracy: 0.91 - ETA: 0s - loss: 0.2237 - accuracy: 0.91 - ETA: 0s - loss: 0.2236 - accuracy: 0.91 - ETA: 0s - loss: 0.2234 - accuracy: 0.91 - ETA: 0s - loss: 0.2233 - accuracy: 0.91 - ETA: 0s - loss: 0.2235 - accuracy: 0.91 - ETA: 0s - loss: 0.2232 - accuracy: 0.91 - ETA: 0s - loss: 0.2228 - accuracy: 0.91 - ETA: 0s - loss: 0.2227 - accuracy: 0.91 - ETA: 0s - loss: 0.2228 - accuracy: 0.91 - ETA: 0s - loss: 0.2224 - accuracy: 0.91 - ETA: 0s - loss: 0.2225 - accuracy: 0.91 - ETA: 0s - loss: 0.2226 - accuracy: 0.91 - ETA: 0s - loss: 0.2227 - accuracy: 0.91 - 8s 4ms/step - loss: 0.2228 - accuracy: 0.9149\n"
     ]
    },
    {
     "data": {
      "text/plain": [
       "<tensorflow.python.keras.callbacks.History at 0x16d68a25e80>"
      ]
     },
     "execution_count": 12,
     "metadata": {},
     "output_type": "execute_result"
    }
   ],
   "source": [
    "model = tuner.hypermodel.build(best_hps)\n",
    "model.fit(train_images, train_labels, epochs = 10)"
   ]
  },
  {
   "cell_type": "markdown",
   "metadata": {},
   "source": [
    "## Step 3: Testing the Model"
   ]
  },
  {
   "cell_type": "code",
   "execution_count": 13,
   "metadata": {},
   "outputs": [
    {
     "name": "stdout",
     "output_type": "stream",
     "text": [
      "313/313 - 1s - loss: 0.3294 - accuracy: 0.8839\n"
     ]
    }
   ],
   "source": [
    "test_loss, test_acc = model.evaluate(test_images,  test_labels, verbose=2)"
   ]
  },
  {
   "cell_type": "markdown",
   "metadata": {},
   "source": [
    "Our accuracy is slightly more than the basic example. There likely wasn't much overfitting in either case, but this notebook demonstrates what modifications need to be made to add hyperparamterization in."
   ]
  }
 ],
 "metadata": {
  "kernelspec": {
   "display_name": "learn_tf",
   "language": "python",
   "name": "learn_tf"
  },
  "language_info": {
   "codemirror_mode": {
    "name": "ipython",
    "version": 3
   },
   "file_extension": ".py",
   "mimetype": "text/x-python",
   "name": "python",
   "nbconvert_exporter": "python",
   "pygments_lexer": "ipython3",
   "version": "3.8.0"
  }
 },
 "nbformat": 4,
 "nbformat_minor": 4
}
