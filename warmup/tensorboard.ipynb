{
 "cells": [
  {
   "cell_type": "markdown",
   "metadata": {},
   "source": [
    "# Tensorboard for visualization\n",
    "## A Hyperparameterized \"Digit Classifier\"\n",
    "-----\n",
    "Adapted from [Tensorboard (Getting Started)](https://www.tensorflow.org/tensorboard/get_started)    \n",
    "For more info on the steps taken here, read over the hyperparameterization example."
   ]
  },
  {
   "cell_type": "markdown",
   "metadata": {},
   "source": [
    "## Initial Setup\n",
    "\n",
    "Tensorboard is simply an add-on that might make visualizing training progress a little bit easier. As a result, most of the steps here are identical. If you're already familiar with tensorflow, skip down to the last three cells to see Tensorboard in action."
   ]
  },
  {
   "cell_type": "code",
   "execution_count": 1,
   "metadata": {},
   "outputs": [
    {
     "data": {
      "image/png": "[encoded data removed]",
      "text/plain": [
       "<Figure size 432x288 with 1 Axes>"
      ]
     },
     "metadata": {
      "needs_background": "light"
     },
     "output_type": "display_data"
    }
   ],
   "source": [
    "import tensorflow as tf\n",
    "from tensorflow import keras\n",
    "import IPython\n",
    "import numpy as np\n",
    "import matplotlib.pyplot as plt\n",
    "%matplotlib inline\n",
    "import kerastuner as kt\n",
    "# Our dataset\n",
    "fashion_mnist = keras.datasets.fashion_mnist\n",
    "(train_images, train_labels), (test_images, test_labels) = fashion_mnist.load_data()\n",
    "# For easier labeling, initalize the category names\n",
    "class_names = ['T-shirt/top', 'Trouser', 'Pullover', 'Dress', 'Coat',\n",
    "               'Sandal', 'Shirt', 'Sneaker', 'Bag', 'Ankle boot']\n",
    "# An example image\n",
    "plt.imshow(train_images[0])\n",
    "plt.title(class_names[train_labels[0]]);"
   ]
  },
  {
   "cell_type": "code",
   "execution_count": 2,
   "metadata": {},
   "outputs": [],
   "source": [
    "train_images = train_images/255.0\n",
    "test_images = test_images/255.0"
   ]
  },
  {
   "cell_type": "code",
   "execution_count": 3,
   "metadata": {},
   "outputs": [
    {
     "name": "stdout",
     "output_type": "stream",
     "text": [
      "INFO:tensorflow:Reloading Oracle from existing project .\\untitled_project\\oracle.json\n",
      "INFO:tensorflow:Reloading Tuner from .\\untitled_project\\tuner0.json\n"
     ]
    }
   ],
   "source": [
    "def create_model(hp):\n",
    "    hp_units = hp.Int('units', min_value = 32, max_value = 512, step = 32)\n",
    "    model = keras.Sequential([\n",
    "        keras.layers.Flatten(input_shape=(28, 28)),\n",
    "        keras.layers.Dense(activation='relu', units=hp_units),\n",
    "        keras.layers.Dense(10)\n",
    "    ])\n",
    "    hp_learning_rate = hp.Choice('learning_rate', values = [1e-2, 1e-3, 1e-4]) \n",
    "    model.compile(optimizer=keras.optimizers.Adam(learning_rate=hp_learning_rate),\n",
    "              loss=tf.keras.losses.SparseCategoricalCrossentropy(from_logits=True),\n",
    "              metrics=['accuracy'])\n",
    "    return model\n",
    "tuner = kt.Hyperband(create_model,\n",
    "                     objective = 'val_accuracy', \n",
    "                     max_epochs = 10,\n",
    "                     factor = 3)   "
   ]
  },
  {
   "cell_type": "markdown",
   "metadata": {},
   "source": [
    "## Tensorboard Usage\n",
    "\n",
    "All it takes to add tensorboard to your workflow is a callback. By default, it saves all your training data to a `logs` directory. It doesn't increase training time all that much, so feel free to add it in wherever you can!"
   ]
  },
  {
   "cell_type": "code",
   "execution_count": 4,
   "metadata": {},
   "outputs": [
    {
     "name": "stdout",
     "output_type": "stream",
     "text": [
      "Epoch 1/2\n",
      "1875/1875 [==============================] - ETA: 0s - loss: 2.2556 - accuracy: 0.12 - ETA: 1:18 - loss: 2.2896 - accuracy: 0.15 - ETA: 9s - loss: 2.1008 - accuracy: 0.2464 - ETA: 6s - loss: 1.9762 - accuracy: 0.34 - ETA: 5s - loss: 1.8454 - accuracy: 0.42 - ETA: 5s - loss: 1.7360 - accuracy: 0.47 - ETA: 4s - loss: 1.6498 - accuracy: 0.50 - ETA: 4s - loss: 1.5693 - accuracy: 0.53 - ETA: 4s - loss: 1.5037 - accuracy: 0.55 - ETA: 4s - loss: 1.4523 - accuracy: 0.56 - ETA: 4s - loss: 1.3989 - accuracy: 0.58 - ETA: 4s - loss: 1.3554 - accuracy: 0.59 - ETA: 3s - loss: 1.3194 - accuracy: 0.60 - ETA: 3s - loss: 1.2903 - accuracy: 0.60 - ETA: 3s - loss: 1.2652 - accuracy: 0.61 - ETA: 3s - loss: 1.2426 - accuracy: 0.62 - ETA: 3s - loss: 1.2231 - accuracy: 0.63 - ETA: 3s - loss: 1.1983 - accuracy: 0.63 - ETA: 3s - loss: 1.1773 - accuracy: 0.64 - ETA: 3s - loss: 1.1552 - accuracy: 0.65 - ETA: 3s - loss: 1.1321 - accuracy: 0.65 - ETA: 3s - loss: 1.1116 - accuracy: 0.66 - ETA: 3s - loss: 1.0891 - accuracy: 0.66 - ETA: 3s - loss: 1.0713 - accuracy: 0.67 - ETA: 3s - loss: 1.0534 - accuracy: 0.67 - ETA: 3s - loss: 1.0380 - accuracy: 0.68 - ETA: 3s - loss: 1.0232 - accuracy: 0.68 - ETA: 2s - loss: 1.0088 - accuracy: 0.69 - ETA: 2s - loss: 0.9967 - accuracy: 0.69 - ETA: 2s - loss: 0.9856 - accuracy: 0.69 - ETA: 2s - loss: 0.9723 - accuracy: 0.70 - ETA: 2s - loss: 0.9636 - accuracy: 0.70 - ETA: 2s - loss: 0.9551 - accuracy: 0.70 - ETA: 2s - loss: 0.9455 - accuracy: 0.70 - ETA: 2s - loss: 0.9372 - accuracy: 0.71 - ETA: 2s - loss: 0.9279 - accuracy: 0.71 - ETA: 2s - loss: 0.9180 - accuracy: 0.71 - ETA: 2s - loss: 0.9113 - accuracy: 0.71 - ETA: 2s - loss: 0.9044 - accuracy: 0.71 - ETA: 2s - loss: 0.8971 - accuracy: 0.72 - ETA: 2s - loss: 0.8910 - accuracy: 0.72 - ETA: 2s - loss: 0.8845 - accuracy: 0.72 - ETA: 1s - loss: 0.8774 - accuracy: 0.72 - ETA: 1s - loss: 0.8719 - accuracy: 0.72 - ETA: 1s - loss: 0.8640 - accuracy: 0.73 - ETA: 1s - loss: 0.8593 - accuracy: 0.73 - ETA: 1s - loss: 0.8549 - accuracy: 0.73 - ETA: 1s - loss: 0.8492 - accuracy: 0.73 - ETA: 1s - loss: 0.8438 - accuracy: 0.73 - ETA: 1s - loss: 0.8393 - accuracy: 0.73 - ETA: 1s - loss: 0.8340 - accuracy: 0.73 - ETA: 1s - loss: 0.8294 - accuracy: 0.74 - ETA: 1s - loss: 0.8239 - accuracy: 0.74 - ETA: 1s - loss: 0.8210 - accuracy: 0.74 - ETA: 1s - loss: 0.8176 - accuracy: 0.74 - ETA: 1s - loss: 0.8123 - accuracy: 0.74 - ETA: 1s - loss: 0.8090 - accuracy: 0.74 - ETA: 1s - loss: 0.8045 - accuracy: 0.74 - ETA: 1s - loss: 0.8004 - accuracy: 0.74 - ETA: 1s - loss: 0.7971 - accuracy: 0.74 - ETA: 1s - loss: 0.7935 - accuracy: 0.75 - ETA: 0s - loss: 0.7899 - accuracy: 0.75 - ETA: 0s - loss: 0.7859 - accuracy: 0.75 - ETA: 0s - loss: 0.7821 - accuracy: 0.75 - ETA: 0s - loss: 0.7784 - accuracy: 0.75 - ETA: 0s - loss: 0.7743 - accuracy: 0.75 - ETA: 0s - loss: 0.7704 - accuracy: 0.75 - ETA: 0s - loss: 0.7656 - accuracy: 0.75 - ETA: 0s - loss: 0.7621 - accuracy: 0.75 - ETA: 0s - loss: 0.7593 - accuracy: 0.76 - ETA: 0s - loss: 0.7560 - accuracy: 0.76 - ETA: 0s - loss: 0.7537 - accuracy: 0.76 - ETA: 0s - loss: 0.7503 - accuracy: 0.76 - ETA: 0s - loss: 0.7470 - accuracy: 0.76 - ETA: 0s - loss: 0.7443 - accuracy: 0.76 - ETA: 0s - loss: 0.7407 - accuracy: 0.76 - ETA: 0s - loss: 0.7376 - accuracy: 0.76 - ETA: 0s - loss: 0.7355 - accuracy: 0.76 - ETA: 0s - loss: 0.7323 - accuracy: 0.76 - ETA: 0s - loss: 0.7292 - accuracy: 0.76 - 6s 3ms/step - loss: 0.7278 - accuracy: 0.7686 - val_loss: 0.5725 - val_accuracy: 0.8063\n",
      "Epoch 2/2\n",
      "1875/1875 [==============================] - ETA: 0s - loss: 0.3710 - accuracy: 0.87 - ETA: 3s - loss: 0.5424 - accuracy: 0.83 - ETA: 3s - loss: 0.5389 - accuracy: 0.82 - ETA: 3s - loss: 0.5291 - accuracy: 0.82 - ETA: 3s - loss: 0.5282 - accuracy: 0.82 - ETA: 3s - loss: 0.5259 - accuracy: 0.82 - ETA: 3s - loss: 0.5293 - accuracy: 0.82 - ETA: 3s - loss: 0.5309 - accuracy: 0.82 - ETA: 3s - loss: 0.5298 - accuracy: 0.82 - ETA: 3s - loss: 0.5322 - accuracy: 0.81 - ETA: 3s - loss: 0.5327 - accuracy: 0.81 - ETA: 3s - loss: 0.5326 - accuracy: 0.81 - ETA: 3s - loss: 0.5310 - accuracy: 0.82 - ETA: 3s - loss: 0.5259 - accuracy: 0.82 - ETA: 3s - loss: 0.5264 - accuracy: 0.82 - ETA: 3s - loss: 0.5233 - accuracy: 0.82 - ETA: 3s - loss: 0.5262 - accuracy: 0.82 - ETA: 3s - loss: 0.5259 - accuracy: 0.82 - ETA: 3s - loss: 0.5259 - accuracy: 0.82 - ETA: 3s - loss: 0.5243 - accuracy: 0.82 - ETA: 3s - loss: 0.5257 - accuracy: 0.82 - ETA: 3s - loss: 0.5236 - accuracy: 0.82 - ETA: 3s - loss: 0.5234 - accuracy: 0.82 - ETA: 3s - loss: 0.5207 - accuracy: 0.82 - ETA: 3s - loss: 0.5189 - accuracy: 0.82 - ETA: 3s - loss: 0.5156 - accuracy: 0.82 - ETA: 2s - loss: 0.5147 - accuracy: 0.82 - ETA: 2s - loss: 0.5135 - accuracy: 0.82 - ETA: 2s - loss: 0.5140 - accuracy: 0.82 - ETA: 2s - loss: 0.5132 - accuracy: 0.82 - ETA: 2s - loss: 0.5124 - accuracy: 0.82 - ETA: 2s - loss: 0.5122 - accuracy: 0.82 - ETA: 2s - loss: 0.5122 - accuracy: 0.82 - ETA: 2s - loss: 0.5124 - accuracy: 0.82 - ETA: 2s - loss: 0.5123 - accuracy: 0.82 - ETA: 2s - loss: 0.5128 - accuracy: 0.82 - ETA: 2s - loss: 0.5125 - accuracy: 0.82 - ETA: 2s - loss: 0.5123 - accuracy: 0.82 - ETA: 2s - loss: 0.5120 - accuracy: 0.82 - ETA: 2s - loss: 0.5105 - accuracy: 0.82 - ETA: 2s - loss: 0.5109 - accuracy: 0.82 - ETA: 1s - loss: 0.5105 - accuracy: 0.82 - ETA: 1s - loss: 0.5099 - accuracy: 0.82 - ETA: 1s - loss: 0.5091 - accuracy: 0.82 - ETA: 1s - loss: 0.5080 - accuracy: 0.82 - ETA: 1s - loss: 0.5065 - accuracy: 0.82 - ETA: 1s - loss: 0.5063 - accuracy: 0.82 - ETA: 1s - loss: 0.5050 - accuracy: 0.82 - ETA: 1s - loss: 0.5055 - accuracy: 0.82 - ETA: 1s - loss: 0.5053 - accuracy: 0.82 - ETA: 1s - loss: 0.5051 - accuracy: 0.82 - ETA: 1s - loss: 0.5052 - accuracy: 0.82 - ETA: 1s - loss: 0.5055 - accuracy: 0.82 - ETA: 1s - loss: 0.5047 - accuracy: 0.82 - ETA: 1s - loss: 0.5053 - accuracy: 0.82 - ETA: 1s - loss: 0.5040 - accuracy: 0.82 - ETA: 1s - loss: 0.5031 - accuracy: 0.82 - ETA: 1s - loss: 0.5024 - accuracy: 0.82 - ETA: 1s - loss: 0.5017 - accuracy: 0.83 - ETA: 0s - loss: 0.5015 - accuracy: 0.83 - ETA: 0s - loss: 0.5013 - accuracy: 0.83 - ETA: 0s - loss: 0.5010 - accuracy: 0.83 - ETA: 0s - loss: 0.5001 - accuracy: 0.83 - ETA: 0s - loss: 0.4994 - accuracy: 0.83 - ETA: 0s - loss: 0.4984 - accuracy: 0.83 - ETA: 0s - loss: 0.4980 - accuracy: 0.83 - ETA: 0s - loss: 0.4983 - accuracy: 0.83 - ETA: 0s - loss: 0.4979 - accuracy: 0.83 - ETA: 0s - loss: 0.4982 - accuracy: 0.83 - ETA: 0s - loss: 0.4975 - accuracy: 0.83 - ETA: 0s - loss: 0.4972 - accuracy: 0.83 - ETA: 0s - loss: 0.4964 - accuracy: 0.83 - ETA: 0s - loss: 0.4958 - accuracy: 0.83 - ETA: 0s - loss: 0.4958 - accuracy: 0.83 - ETA: 0s - loss: 0.4952 - accuracy: 0.83 - ETA: 0s - loss: 0.4953 - accuracy: 0.83 - ETA: 0s - loss: 0.4953 - accuracy: 0.83 - ETA: 0s - loss: 0.4944 - accuracy: 0.83 - ETA: 0s - loss: 0.4939 - accuracy: 0.83 - ETA: 0s - loss: 0.4942 - accuracy: 0.83 - 5s 2ms/step - loss: 0.4942 - accuracy: 0.8325 - val_loss: 0.4956 - val_accuracy: 0.8301\n"
     ]
    },
    {
     "data": {
      "text/html": [
       "<span style=\"color:#4527A0\"><h1 style=\"font-size:18px\">Trial complete</h1></span>"
      ],
      "text/plain": [
       "<IPython.core.display.HTML object>"
      ]
     },
     "metadata": {},
     "output_type": "display_data"
    },
    {
     "data": {
      "text/html": [
       "<span style=\"color:#4527A0\"><h1 style=\"font-size:18px\">Trial summary</h1></span>"
      ],
      "text/plain": [
       "<IPython.core.display.HTML object>"
      ]
     },
     "metadata": {},
     "output_type": "display_data"
    },
    {
     "data": {
      "text/html": [
       "<span style=\"color:cyan\"> |-Trial ID: e776794b7bd949d69ff7d8fd46019dc8</span>"
      ],
      "text/plain": [
       "<IPython.core.display.HTML object>"
      ]
     },
     "metadata": {},
     "output_type": "display_data"
    },
    {
     "data": {
      "text/html": [
       "<span style=\"color:cyan\"> |-Score: 0.8300999999046326</span>"
      ],
      "text/plain": [
       "<IPython.core.display.HTML object>"
      ]
     },
     "metadata": {},
     "output_type": "display_data"
    },
    {
     "data": {
      "text/html": [
       "<span style=\"color:cyan\"> |-Best step: 0</span>"
      ],
      "text/plain": [
       "<IPython.core.display.HTML object>"
      ]
     },
     "metadata": {},
     "output_type": "display_data"
    },
    {
     "data": {
      "text/html": [
       "<span style=\"color:#7E57C2\"><h2 style=\"font-size:16px\">Hyperparameters:</h2></span>"
      ],
      "text/plain": [
       "<IPython.core.display.HTML object>"
      ]
     },
     "metadata": {},
     "output_type": "display_data"
    },
    {
     "data": {
      "text/html": [
       "<span style=\"color:cyan\"> |-learning_rate: 0.0001</span>"
      ],
      "text/plain": [
       "<IPython.core.display.HTML object>"
      ]
     },
     "metadata": {},
     "output_type": "display_data"
    },
    {
     "data": {
      "text/html": [
       "<span style=\"color:blue\"> |-tuner/bracket: 2</span>"
      ],
      "text/plain": [
       "<IPython.core.display.HTML object>"
      ]
     },
     "metadata": {},
     "output_type": "display_data"
    },
    {
     "data": {
      "text/html": [
       "<span style=\"color:cyan\"> |-tuner/epochs: 2</span>"
      ],
      "text/plain": [
       "<IPython.core.display.HTML object>"
      ]
     },
     "metadata": {},
     "output_type": "display_data"
    },
    {
     "data": {
      "text/html": [
       "<span style=\"color:blue\"> |-tuner/initial_epoch: 0</span>"
      ],
      "text/plain": [
       "<IPython.core.display.HTML object>"
      ]
     },
     "metadata": {},
     "output_type": "display_data"
    },
    {
     "data": {
      "text/html": [
       "<span style=\"color:cyan\"> |-tuner/round: 0</span>"
      ],
      "text/plain": [
       "<IPython.core.display.HTML object>"
      ]
     },
     "metadata": {},
     "output_type": "display_data"
    },
    {
     "data": {
      "text/html": [
       "<span style=\"color:blue\"> |-units: 96</span>"
      ],
      "text/plain": [
       "<IPython.core.display.HTML object>"
      ]
     },
     "metadata": {},
     "output_type": "display_data"
    },
    {
     "name": "stdout",
     "output_type": "stream",
     "text": [
      "Epoch 1/2\n",
      "   2/1875 [..............................] - ETA: 0s - loss: 2.8145 - accuracy: 0.06 - ETA: 9:06 - loss: 2.5385 - accuracy: 0.0938WARNING:tensorflow:Method (on_train_batch_end) is slow compared to the batch update (0.295898). Check your callbacks.\n",
      "1875/1875 [==============================] - ETA: 53s - loss: 1.5448 - accuracy: 0.5128 - ETA: 30s - loss: 1.2405 - accuracy: 0.596 - ETA: 22s - loss: 1.1072 - accuracy: 0.635 - ETA: 17s - loss: 0.9970 - accuracy: 0.669 - ETA: 14s - loss: 0.9389 - accuracy: 0.686 - ETA: 12s - loss: 0.8897 - accuracy: 0.703 - ETA: 11s - loss: 0.8558 - accuracy: 0.715 - ETA: 10s - loss: 0.8294 - accuracy: 0.721 - ETA: 9s - loss: 0.8058 - accuracy: 0.729 - ETA: 8s - loss: 0.7820 - accuracy: 0.73 - ETA: 7s - loss: 0.7598 - accuracy: 0.74 - ETA: 7s - loss: 0.7473 - accuracy: 0.74 - ETA: 6s - loss: 0.7308 - accuracy: 0.75 - ETA: 6s - loss: 0.7202 - accuracy: 0.75 - ETA: 5s - loss: 0.7090 - accuracy: 0.75 - ETA: 5s - loss: 0.6951 - accuracy: 0.76 - ETA: 5s - loss: 0.6841 - accuracy: 0.76 - ETA: 5s - loss: 0.6746 - accuracy: 0.77 - ETA: 4s - loss: 0.6678 - accuracy: 0.77 - ETA: 4s - loss: 0.6588 - accuracy: 0.77 - ETA: 4s - loss: 0.6515 - accuracy: 0.77 - ETA: 4s - loss: 0.6429 - accuracy: 0.77 - ETA: 4s - loss: 0.6383 - accuracy: 0.78 - ETA: 4s - loss: 0.6324 - accuracy: 0.78 - ETA: 3s - loss: 0.6254 - accuracy: 0.78 - ETA: 3s - loss: 0.6183 - accuracy: 0.78 - ETA: 3s - loss: 0.6121 - accuracy: 0.78 - ETA: 3s - loss: 0.6065 - accuracy: 0.79 - ETA: 3s - loss: 0.6028 - accuracy: 0.79 - ETA: 3s - loss: 0.5998 - accuracy: 0.79 - ETA: 3s - loss: 0.5959 - accuracy: 0.79 - ETA: 3s - loss: 0.5911 - accuracy: 0.79 - ETA: 3s - loss: 0.5862 - accuracy: 0.79 - ETA: 3s - loss: 0.5829 - accuracy: 0.79 - ETA: 2s - loss: 0.5789 - accuracy: 0.80 - ETA: 2s - loss: 0.5752 - accuracy: 0.80 - ETA: 2s - loss: 0.5732 - accuracy: 0.80 - ETA: 2s - loss: 0.5723 - accuracy: 0.80 - ETA: 2s - loss: 0.5701 - accuracy: 0.80 - ETA: 2s - loss: 0.5677 - accuracy: 0.80 - ETA: 2s - loss: 0.5638 - accuracy: 0.80 - ETA: 2s - loss: 0.5613 - accuracy: 0.80 - ETA: 2s - loss: 0.5590 - accuracy: 0.80 - ETA: 2s - loss: 0.5571 - accuracy: 0.80 - ETA: 2s - loss: 0.5555 - accuracy: 0.80 - ETA: 2s - loss: 0.5532 - accuracy: 0.80 - ETA: 2s - loss: 0.5525 - accuracy: 0.80 - ETA: 2s - loss: 0.5512 - accuracy: 0.80 - ETA: 2s - loss: 0.5496 - accuracy: 0.80 - ETA: 2s - loss: 0.5481 - accuracy: 0.80 - ETA: 2s - loss: 0.5464 - accuracy: 0.81 - ETA: 1s - loss: 0.5445 - accuracy: 0.81 - ETA: 1s - loss: 0.5432 - accuracy: 0.81 - ETA: 1s - loss: 0.5425 - accuracy: 0.81 - ETA: 1s - loss: 0.5402 - accuracy: 0.81 - ETA: 1s - loss: 0.5384 - accuracy: 0.81 - ETA: 1s - loss: 0.5366 - accuracy: 0.81 - ETA: 1s - loss: 0.5350 - accuracy: 0.81 - ETA: 1s - loss: 0.5338 - accuracy: 0.81 - ETA: 1s - loss: 0.5312 - accuracy: 0.81 - ETA: 1s - loss: 0.5306 - accuracy: 0.81 - ETA: 1s - loss: 0.5286 - accuracy: 0.81 - ETA: 1s - loss: 0.5271 - accuracy: 0.81 - ETA: 1s - loss: 0.5255 - accuracy: 0.81 - ETA: 1s - loss: 0.5233 - accuracy: 0.81 - ETA: 1s - loss: 0.5219 - accuracy: 0.81 - ETA: 0s - loss: 0.5204 - accuracy: 0.81 - ETA: 0s - loss: 0.5190 - accuracy: 0.81 - ETA: 0s - loss: 0.5172 - accuracy: 0.81 - ETA: 0s - loss: 0.5159 - accuracy: 0.81 - ETA: 0s - loss: 0.5147 - accuracy: 0.82 - ETA: 0s - loss: 0.5131 - accuracy: 0.82 - ETA: 0s - loss: 0.5110 - accuracy: 0.82 - ETA: 0s - loss: 0.5103 - accuracy: 0.82 - ETA: 0s - loss: 0.5095 - accuracy: 0.82 - ETA: 0s - loss: 0.5071 - accuracy: 0.82 - ETA: 0s - loss: 0.5059 - accuracy: 0.82 - ETA: 0s - loss: 0.5044 - accuracy: 0.82 - ETA: 0s - loss: 0.5029 - accuracy: 0.82 - ETA: 0s - loss: 0.5024 - accuracy: 0.82 - ETA: 0s - loss: 0.5013 - accuracy: 0.82 - 5s 3ms/step - loss: 0.5001 - accuracy: 0.8251 - val_loss: 0.4350 - val_accuracy: 0.8475\n",
      "Epoch 2/2\n",
      "1875/1875 [==============================] - ETA: 0s - loss: 0.4528 - accuracy: 0.87 - ETA: 4s - loss: 0.4123 - accuracy: 0.85 - ETA: 4s - loss: 0.4137 - accuracy: 0.85 - ETA: 4s - loss: 0.4014 - accuracy: 0.85 - ETA: 4s - loss: 0.3896 - accuracy: 0.85 - ETA: 4s - loss: 0.3862 - accuracy: 0.86 - ETA: 4s - loss: 0.3956 - accuracy: 0.85 - ETA: 4s - loss: 0.3917 - accuracy: 0.85 - ETA: 4s - loss: 0.3886 - accuracy: 0.85 - ETA: 4s - loss: 0.3833 - accuracy: 0.85 - ETA: 4s - loss: 0.3852 - accuracy: 0.85 - ETA: 4s - loss: 0.3819 - accuracy: 0.85 - ETA: 4s - loss: 0.3815 - accuracy: 0.86 - ETA: 3s - loss: 0.3857 - accuracy: 0.85 - ETA: 3s - loss: 0.3864 - accuracy: 0.85 - ETA: 3s - loss: 0.3850 - accuracy: 0.85 - ETA: 3s - loss: 0.3871 - accuracy: 0.85 - ETA: 3s - loss: 0.3831 - accuracy: 0.85 - ETA: 3s - loss: 0.3836 - accuracy: 0.85 - ETA: 3s - loss: 0.3834 - accuracy: 0.85 - ETA: 3s - loss: 0.3822 - accuracy: 0.86 - ETA: 3s - loss: 0.3836 - accuracy: 0.86 - ETA: 3s - loss: 0.3826 - accuracy: 0.86 - ETA: 3s - loss: 0.3840 - accuracy: 0.86 - ETA: 3s - loss: 0.3829 - accuracy: 0.86 - ETA: 3s - loss: 0.3846 - accuracy: 0.86 - ETA: 3s - loss: 0.3848 - accuracy: 0.86 - ETA: 3s - loss: 0.3840 - accuracy: 0.86 - ETA: 3s - loss: 0.3815 - accuracy: 0.86 - ETA: 3s - loss: 0.3814 - accuracy: 0.86 - ETA: 3s - loss: 0.3815 - accuracy: 0.86 - ETA: 3s - loss: 0.3824 - accuracy: 0.86 - ETA: 3s - loss: 0.3793 - accuracy: 0.86 - ETA: 3s - loss: 0.3781 - accuracy: 0.86 - ETA: 3s - loss: 0.3785 - accuracy: 0.86 - ETA: 3s - loss: 0.3791 - accuracy: 0.86 - ETA: 2s - loss: 0.3781 - accuracy: 0.86 - ETA: 2s - loss: 0.3779 - accuracy: 0.86 - ETA: 2s - loss: 0.3781 - accuracy: 0.86 - ETA: 2s - loss: 0.3800 - accuracy: 0.86 - ETA: 2s - loss: 0.3801 - accuracy: 0.86 - ETA: 2s - loss: 0.3820 - accuracy: 0.86 - ETA: 2s - loss: 0.3847 - accuracy: 0.86 - ETA: 2s - loss: 0.3852 - accuracy: 0.86 - ETA: 2s - loss: 0.3859 - accuracy: 0.86 - ETA: 2s - loss: 0.3874 - accuracy: 0.86 - ETA: 2s - loss: 0.3859 - accuracy: 0.86 - ETA: 2s - loss: 0.3859 - accuracy: 0.86 - ETA: 2s - loss: 0.3847 - accuracy: 0.86 - ETA: 1s - loss: 0.3837 - accuracy: 0.86 - ETA: 1s - loss: 0.3841 - accuracy: 0.86 - ETA: 1s - loss: 0.3848 - accuracy: 0.86 - ETA: 1s - loss: 0.3835 - accuracy: 0.86 - ETA: 1s - loss: 0.3831 - accuracy: 0.86 - ETA: 1s - loss: 0.3821 - accuracy: 0.86 - ETA: 1s - loss: 0.3826 - accuracy: 0.86 - ETA: 1s - loss: 0.3820 - accuracy: 0.86 - ETA: 1s - loss: 0.3824 - accuracy: 0.86 - ETA: 1s - loss: 0.3817 - accuracy: 0.86 - ETA: 1s - loss: 0.3811 - accuracy: 0.86 - ETA: 1s - loss: 0.3802 - accuracy: 0.86 - ETA: 1s - loss: 0.3800 - accuracy: 0.86 - ETA: 1s - loss: 0.3794 - accuracy: 0.86 - ETA: 1s - loss: 0.3794 - accuracy: 0.86 - ETA: 1s - loss: 0.3792 - accuracy: 0.86 - ETA: 0s - loss: 0.3789 - accuracy: 0.86 - ETA: 0s - loss: 0.3783 - accuracy: 0.86 - ETA: 0s - loss: 0.3777 - accuracy: 0.86 - ETA: 0s - loss: 0.3778 - accuracy: 0.86 - ETA: 0s - loss: 0.3777 - accuracy: 0.86 - ETA: 0s - loss: 0.3767 - accuracy: 0.86 - ETA: 0s - loss: 0.3758 - accuracy: 0.86 - ETA: 0s - loss: 0.3766 - accuracy: 0.86 - ETA: 0s - loss: 0.3765 - accuracy: 0.86 - ETA: 0s - loss: 0.3765 - accuracy: 0.86 - ETA: 0s - loss: 0.3758 - accuracy: 0.86 - ETA: 0s - loss: 0.3753 - accuracy: 0.86 - ETA: 0s - loss: 0.3746 - accuracy: 0.86 - ETA: 0s - loss: 0.3743 - accuracy: 0.86 - ETA: 0s - loss: 0.3735 - accuracy: 0.86 - ETA: 0s - loss: 0.3733 - accuracy: 0.86 - ETA: 0s - loss: 0.3729 - accuracy: 0.86 - ETA: 0s - loss: 0.3726 - accuracy: 0.86 - 5s 3ms/step - loss: 0.3723 - accuracy: 0.8655 - val_loss: 0.3878 - val_accuracy: 0.8618\n"
     ]
    },
    {
     "data": {
      "text/html": [
       "<span style=\"color:#4527A0\"><h1 style=\"font-size:18px\">Trial complete</h1></span>"
      ],
      "text/plain": [
       "<IPython.core.display.HTML object>"
      ]
     },
     "metadata": {},
     "output_type": "display_data"
    },
    {
     "data": {
      "text/html": [
       "<span style=\"color:#4527A0\"><h1 style=\"font-size:18px\">Trial summary</h1></span>"
      ],
      "text/plain": [
       "<IPython.core.display.HTML object>"
      ]
     },
     "metadata": {},
     "output_type": "display_data"
    },
    {
     "data": {
      "text/html": [
       "<span style=\"color:cyan\"> |-Trial ID: d877750ebf57a8eab0f72d052386bd27</span>"
      ],
      "text/plain": [
       "<IPython.core.display.HTML object>"
      ]
     },
     "metadata": {},
     "output_type": "display_data"
    },
    {
     "data": {
      "text/html": [
       "<span style=\"color:cyan\"> |-Score: 0.8618000149726868</span>"
      ],
      "text/plain": [
       "<IPython.core.display.HTML object>"
      ]
     },
     "metadata": {},
     "output_type": "display_data"
    },
    {
     "data": {
      "text/html": [
       "<span style=\"color:cyan\"> |-Best step: 0</span>"
      ],
      "text/plain": [
       "<IPython.core.display.HTML object>"
      ]
     },
     "metadata": {},
     "output_type": "display_data"
    },
    {
     "data": {
      "text/html": [
       "<span style=\"color:#7E57C2\"><h2 style=\"font-size:16px\">Hyperparameters:</h2></span>"
      ],
      "text/plain": [
       "<IPython.core.display.HTML object>"
      ]
     },
     "metadata": {},
     "output_type": "display_data"
    },
    {
     "data": {
      "text/html": [
       "<span style=\"color:cyan\"> |-learning_rate: 0.001</span>"
      ],
      "text/plain": [
       "<IPython.core.display.HTML object>"
      ]
     },
     "metadata": {},
     "output_type": "display_data"
    },
    {
     "data": {
      "text/html": [
       "<span style=\"color:blue\"> |-tuner/bracket: 2</span>"
      ],
      "text/plain": [
       "<IPython.core.display.HTML object>"
      ]
     },
     "metadata": {},
     "output_type": "display_data"
    },
    {
     "data": {
      "text/html": [
       "<span style=\"color:cyan\"> |-tuner/epochs: 2</span>"
      ],
      "text/plain": [
       "<IPython.core.display.HTML object>"
      ]
     },
     "metadata": {},
     "output_type": "display_data"
    },
    {
     "data": {
      "text/html": [
       "<span style=\"color:blue\"> |-tuner/initial_epoch: 0</span>"
      ],
      "text/plain": [
       "<IPython.core.display.HTML object>"
      ]
     },
     "metadata": {},
     "output_type": "display_data"
    },
    {
     "data": {
      "text/html": [
       "<span style=\"color:cyan\"> |-tuner/round: 0</span>"
      ],
      "text/plain": [
       "<IPython.core.display.HTML object>"
      ]
     },
     "metadata": {},
     "output_type": "display_data"
    },
    {
     "data": {
      "text/html": [
       "<span style=\"color:blue\"> |-units: 128</span>"
      ],
      "text/plain": [
       "<IPython.core.display.HTML object>"
      ]
     },
     "metadata": {},
     "output_type": "display_data"
    },
    {
     "name": "stdout",
     "output_type": "stream",
     "text": [
      "Epoch 1/2\n",
      "   2/1875 [..............................] - ETA: 0s - loss: 2.2497 - accuracy: 0.21 - ETA: 8:41 - loss: 3.1672 - accuracy: 0.2344WARNING:tensorflow:Method (on_train_batch_end) is slow compared to the batch update (0.281247). Check your callbacks.\n",
      "1875/1875 [==============================] - ETA: 46s - loss: 1.7671 - accuracy: 0.5104 - ETA: 26s - loss: 1.3243 - accuracy: 0.595 - ETA: 18s - loss: 1.1245 - accuracy: 0.644 - ETA: 14s - loss: 1.0027 - accuracy: 0.673 - ETA: 12s - loss: 0.9355 - accuracy: 0.690 - ETA: 10s - loss: 0.8910 - accuracy: 0.702 - ETA: 9s - loss: 0.8490 - accuracy: 0.715 - ETA: 8s - loss: 0.8304 - accuracy: 0.71 - ETA: 8s - loss: 0.8062 - accuracy: 0.72 - ETA: 7s - loss: 0.7826 - accuracy: 0.73 - ETA: 7s - loss: 0.7682 - accuracy: 0.73 - ETA: 6s - loss: 0.7498 - accuracy: 0.74 - ETA: 6s - loss: 0.7337 - accuracy: 0.74 - ETA: 5s - loss: 0.7166 - accuracy: 0.74 - ETA: 5s - loss: 0.7031 - accuracy: 0.75 - ETA: 5s - loss: 0.6883 - accuracy: 0.75 - ETA: 4s - loss: 0.6779 - accuracy: 0.76 - ETA: 4s - loss: 0.6733 - accuracy: 0.76 - ETA: 4s - loss: 0.6657 - accuracy: 0.76 - ETA: 4s - loss: 0.6606 - accuracy: 0.76 - ETA: 4s - loss: 0.6529 - accuracy: 0.77 - ETA: 4s - loss: 0.6473 - accuracy: 0.77 - ETA: 3s - loss: 0.6424 - accuracy: 0.77 - ETA: 3s - loss: 0.6353 - accuracy: 0.77 - ETA: 3s - loss: 0.6300 - accuracy: 0.77 - ETA: 3s - loss: 0.6235 - accuracy: 0.77 - ETA: 3s - loss: 0.6205 - accuracy: 0.77 - ETA: 3s - loss: 0.6180 - accuracy: 0.78 - ETA: 3s - loss: 0.6154 - accuracy: 0.78 - ETA: 3s - loss: 0.6112 - accuracy: 0.78 - ETA: 3s - loss: 0.6086 - accuracy: 0.78 - ETA: 2s - loss: 0.6061 - accuracy: 0.78 - ETA: 2s - loss: 0.6003 - accuracy: 0.78 - ETA: 2s - loss: 0.5971 - accuracy: 0.78 - ETA: 2s - loss: 0.5948 - accuracy: 0.78 - ETA: 2s - loss: 0.5924 - accuracy: 0.79 - ETA: 2s - loss: 0.5919 - accuracy: 0.79 - ETA: 2s - loss: 0.5896 - accuracy: 0.79 - ETA: 2s - loss: 0.5867 - accuracy: 0.79 - ETA: 2s - loss: 0.5831 - accuracy: 0.79 - ETA: 2s - loss: 0.5824 - accuracy: 0.79 - ETA: 2s - loss: 0.5819 - accuracy: 0.79 - ETA: 2s - loss: 0.5800 - accuracy: 0.79 - ETA: 2s - loss: 0.5761 - accuracy: 0.79 - ETA: 1s - loss: 0.5752 - accuracy: 0.79 - ETA: 1s - loss: 0.5732 - accuracy: 0.79 - ETA: 1s - loss: 0.5711 - accuracy: 0.79 - ETA: 1s - loss: 0.5686 - accuracy: 0.79 - ETA: 1s - loss: 0.5671 - accuracy: 0.79 - ETA: 1s - loss: 0.5655 - accuracy: 0.79 - ETA: 1s - loss: 0.5632 - accuracy: 0.80 - ETA: 1s - loss: 0.5617 - accuracy: 0.80 - ETA: 1s - loss: 0.5594 - accuracy: 0.80 - ETA: 1s - loss: 0.5584 - accuracy: 0.80 - ETA: 1s - loss: 0.5578 - accuracy: 0.80 - ETA: 1s - loss: 0.5574 - accuracy: 0.80 - ETA: 1s - loss: 0.5565 - accuracy: 0.80 - ETA: 1s - loss: 0.5555 - accuracy: 0.80 - ETA: 1s - loss: 0.5553 - accuracy: 0.80 - ETA: 1s - loss: 0.5543 - accuracy: 0.80 - ETA: 1s - loss: 0.5529 - accuracy: 0.80 - ETA: 1s - loss: 0.5512 - accuracy: 0.80 - ETA: 0s - loss: 0.5504 - accuracy: 0.80 - ETA: 0s - loss: 0.5483 - accuracy: 0.80 - ETA: 0s - loss: 0.5459 - accuracy: 0.80 - ETA: 0s - loss: 0.5445 - accuracy: 0.80 - ETA: 0s - loss: 0.5433 - accuracy: 0.80 - ETA: 0s - loss: 0.5413 - accuracy: 0.80 - ETA: 0s - loss: 0.5401 - accuracy: 0.80 - ETA: 0s - loss: 0.5390 - accuracy: 0.80 - ETA: 0s - loss: 0.5384 - accuracy: 0.80 - ETA: 0s - loss: 0.5388 - accuracy: 0.80 - ETA: 0s - loss: 0.5376 - accuracy: 0.80 - ETA: 0s - loss: 0.5359 - accuracy: 0.80 - ETA: 0s - loss: 0.5343 - accuracy: 0.81 - ETA: 0s - loss: 0.5336 - accuracy: 0.81 - ETA: 0s - loss: 0.5318 - accuracy: 0.81 - ETA: 0s - loss: 0.5306 - accuracy: 0.81 - ETA: 0s - loss: 0.5294 - accuracy: 0.81 - 5s 3ms/step - loss: 0.5298 - accuracy: 0.8118 - val_loss: 0.5043 - val_accuracy: 0.8186\n",
      "Epoch 2/2\n",
      "1875/1875 [==============================] - ETA: 0s - loss: 0.2488 - accuracy: 0.93 - ETA: 5s - loss: 0.4386 - accuracy: 0.83 - ETA: 5s - loss: 0.4380 - accuracy: 0.84 - ETA: 5s - loss: 0.4054 - accuracy: 0.85 - ETA: 4s - loss: 0.4142 - accuracy: 0.85 - ETA: 5s - loss: 0.4279 - accuracy: 0.84 - ETA: 4s - loss: 0.4301 - accuracy: 0.84 - ETA: 4s - loss: 0.4330 - accuracy: 0.84 - ETA: 4s - loss: 0.4396 - accuracy: 0.84 - ETA: 4s - loss: 0.4501 - accuracy: 0.83 - ETA: 4s - loss: 0.4466 - accuracy: 0.83 - ETA: 4s - loss: 0.4432 - accuracy: 0.84 - ETA: 4s - loss: 0.4455 - accuracy: 0.83 - ETA: 4s - loss: 0.4485 - accuracy: 0.83 - ETA: 4s - loss: 0.4429 - accuracy: 0.84 - ETA: 4s - loss: 0.4383 - accuracy: 0.84 - ETA: 4s - loss: 0.4418 - accuracy: 0.84 - ETA: 3s - loss: 0.4402 - accuracy: 0.84 - ETA: 3s - loss: 0.4382 - accuracy: 0.84 - ETA: 3s - loss: 0.4388 - accuracy: 0.84 - ETA: 3s - loss: 0.4380 - accuracy: 0.84 - ETA: 3s - loss: 0.4403 - accuracy: 0.84 - ETA: 3s - loss: 0.4423 - accuracy: 0.84 - ETA: 3s - loss: 0.4437 - accuracy: 0.83 - ETA: 3s - loss: 0.4425 - accuracy: 0.84 - ETA: 3s - loss: 0.4410 - accuracy: 0.84 - ETA: 3s - loss: 0.4426 - accuracy: 0.83 - ETA: 3s - loss: 0.4434 - accuracy: 0.83 - ETA: 3s - loss: 0.4455 - accuracy: 0.83 - ETA: 3s - loss: 0.4462 - accuracy: 0.83 - ETA: 3s - loss: 0.4468 - accuracy: 0.83 - ETA: 3s - loss: 0.4495 - accuracy: 0.83 - ETA: 3s - loss: 0.4481 - accuracy: 0.83 - ETA: 3s - loss: 0.4485 - accuracy: 0.83 - ETA: 3s - loss: 0.4476 - accuracy: 0.83 - ETA: 3s - loss: 0.4457 - accuracy: 0.83 - ETA: 3s - loss: 0.4423 - accuracy: 0.84 - ETA: 3s - loss: 0.4426 - accuracy: 0.84 - ETA: 3s - loss: 0.4427 - accuracy: 0.84 - ETA: 2s - loss: 0.4441 - accuracy: 0.84 - ETA: 2s - loss: 0.4442 - accuracy: 0.84 - ETA: 2s - loss: 0.4456 - accuracy: 0.84 - ETA: 2s - loss: 0.4447 - accuracy: 0.84 - ETA: 2s - loss: 0.4462 - accuracy: 0.84 - ETA: 2s - loss: 0.4468 - accuracy: 0.84 - ETA: 2s - loss: 0.4471 - accuracy: 0.84 - ETA: 2s - loss: 0.4473 - accuracy: 0.84 - ETA: 2s - loss: 0.4469 - accuracy: 0.84 - ETA: 2s - loss: 0.4474 - accuracy: 0.83 - ETA: 2s - loss: 0.4475 - accuracy: 0.83 - ETA: 2s - loss: 0.4494 - accuracy: 0.83 - ETA: 2s - loss: 0.4496 - accuracy: 0.83 - ETA: 1s - loss: 0.4490 - accuracy: 0.83 - ETA: 1s - loss: 0.4502 - accuracy: 0.83 - ETA: 1s - loss: 0.4504 - accuracy: 0.83 - ETA: 1s - loss: 0.4490 - accuracy: 0.83 - ETA: 1s - loss: 0.4492 - accuracy: 0.83 - ETA: 1s - loss: 0.4490 - accuracy: 0.83 - ETA: 1s - loss: 0.4497 - accuracy: 0.83 - ETA: 1s - loss: 0.4494 - accuracy: 0.84 - ETA: 1s - loss: 0.4491 - accuracy: 0.84 - ETA: 1s - loss: 0.4486 - accuracy: 0.84 - ETA: 1s - loss: 0.4483 - accuracy: 0.84 - ETA: 1s - loss: 0.4475 - accuracy: 0.84 - ETA: 1s - loss: 0.4478 - accuracy: 0.84 - ETA: 1s - loss: 0.4476 - accuracy: 0.84 - ETA: 1s - loss: 0.4487 - accuracy: 0.84 - ETA: 1s - loss: 0.4492 - accuracy: 0.84 - ETA: 1s - loss: 0.4500 - accuracy: 0.84 - ETA: 1s - loss: 0.4492 - accuracy: 0.84 - ETA: 1s - loss: 0.4489 - accuracy: 0.84 - ETA: 1s - loss: 0.4487 - accuracy: 0.84 - ETA: 1s - loss: 0.4482 - accuracy: 0.84 - ETA: 1s - loss: 0.4483 - accuracy: 0.84 - ETA: 0s - loss: 0.4487 - accuracy: 0.84 - ETA: 0s - loss: 0.4483 - accuracy: 0.84 - ETA: 0s - loss: 0.4475 - accuracy: 0.84 - ETA: 0s - loss: 0.4473 - accuracy: 0.84 - ETA: 0s - loss: 0.4473 - accuracy: 0.84 - ETA: 0s - loss: 0.4466 - accuracy: 0.84 - ETA: 0s - loss: 0.4464 - accuracy: 0.84 - ETA: 0s - loss: 0.4463 - accuracy: 0.84 - ETA: 0s - loss: 0.4460 - accuracy: 0.84 - ETA: 0s - loss: 0.4459 - accuracy: 0.84 - ETA: 0s - loss: 0.4457 - accuracy: 0.84 - ETA: 0s - loss: 0.4460 - accuracy: 0.84 - ETA: 0s - loss: 0.4461 - accuracy: 0.84 - ETA: 0s - loss: 0.4461 - accuracy: 0.84 - ETA: 0s - loss: 0.4461 - accuracy: 0.84 - ETA: 0s - loss: 0.4463 - accuracy: 0.84 - ETA: 0s - loss: 0.4468 - accuracy: 0.84 - ETA: 0s - loss: 0.4469 - accuracy: 0.84 - ETA: 0s - loss: 0.4463 - accuracy: 0.84 - ETA: 0s - loss: 0.4463 - accuracy: 0.84 - ETA: 0s - loss: 0.4459 - accuracy: 0.84 - ETA: 0s - loss: 0.4469 - accuracy: 0.84 - 5s 3ms/step - loss: 0.4468 - accuracy: 0.8416 - val_loss: 0.4836 - val_accuracy: 0.8322\n"
     ]
    },
    {
     "data": {
      "text/html": [
       "<span style=\"color:#4527A0\"><h1 style=\"font-size:18px\">Trial complete</h1></span>"
      ],
      "text/plain": [
       "<IPython.core.display.HTML object>"
      ]
     },
     "metadata": {},
     "output_type": "display_data"
    },
    {
     "data": {
      "text/html": [
       "<span style=\"color:#4527A0\"><h1 style=\"font-size:18px\">Trial summary</h1></span>"
      ],
      "text/plain": [
       "<IPython.core.display.HTML object>"
      ]
     },
     "metadata": {},
     "output_type": "display_data"
    },
    {
     "data": {
      "text/html": [
       "<span style=\"color:cyan\"> |-Trial ID: c0805e6663638353d7f3ad934da21f13</span>"
      ],
      "text/plain": [
       "<IPython.core.display.HTML object>"
      ]
     },
     "metadata": {},
     "output_type": "display_data"
    },
    {
     "data": {
      "text/html": [
       "<span style=\"color:cyan\"> |-Score: 0.8321999907493591</span>"
      ],
      "text/plain": [
       "<IPython.core.display.HTML object>"
      ]
     },
     "metadata": {},
     "output_type": "display_data"
    },
    {
     "data": {
      "text/html": [
       "<span style=\"color:cyan\"> |-Best step: 0</span>"
      ],
      "text/plain": [
       "<IPython.core.display.HTML object>"
      ]
     },
     "metadata": {},
     "output_type": "display_data"
    },
    {
     "data": {
      "text/html": [
       "<span style=\"color:#7E57C2\"><h2 style=\"font-size:16px\">Hyperparameters:</h2></span>"
      ],
      "text/plain": [
       "<IPython.core.display.HTML object>"
      ]
     },
     "metadata": {},
     "output_type": "display_data"
    },
    {
     "data": {
      "text/html": [
       "<span style=\"color:cyan\"> |-learning_rate: 0.01</span>"
      ],
      "text/plain": [
       "<IPython.core.display.HTML object>"
      ]
     },
     "metadata": {},
     "output_type": "display_data"
    },
    {
     "data": {
      "text/html": [
       "<span style=\"color:blue\"> |-tuner/bracket: 2</span>"
      ],
      "text/plain": [
       "<IPython.core.display.HTML object>"
      ]
     },
     "metadata": {},
     "output_type": "display_data"
    },
    {
     "data": {
      "text/html": [
       "<span style=\"color:cyan\"> |-tuner/epochs: 2</span>"
      ],
      "text/plain": [
       "<IPython.core.display.HTML object>"
      ]
     },
     "metadata": {},
     "output_type": "display_data"
    },
    {
     "data": {
      "text/html": [
       "<span style=\"color:blue\"> |-tuner/initial_epoch: 0</span>"
      ],
      "text/plain": [
       "<IPython.core.display.HTML object>"
      ]
     },
     "metadata": {},
     "output_type": "display_data"
    },
    {
     "data": {
      "text/html": [
       "<span style=\"color:cyan\"> |-tuner/round: 0</span>"
      ],
      "text/plain": [
       "<IPython.core.display.HTML object>"
      ]
     },
     "metadata": {},
     "output_type": "display_data"
    },
    {
     "data": {
      "text/html": [
       "<span style=\"color:blue\"> |-units: 160</span>"
      ],
      "text/plain": [
       "<IPython.core.display.HTML object>"
      ]
     },
     "metadata": {},
     "output_type": "display_data"
    },
    {
     "name": "stdout",
     "output_type": "stream",
     "text": [
      "Epoch 1/2\n",
      "   2/1875 [..............................] - ETA: 0s - loss: 2.3185 - accuracy: 0.09 - ETA: 17:52 - loss: 2.2744 - accuracy: 0.1406WARNING:tensorflow:Method (on_train_batch_end) is slow compared to the batch update (0.578210). Check your callbacks.\n",
      "1875/1875 [==============================] - ETA: 2:39 - loss: 1.7938 - accuracy: 0.379 - ETA: 1:05 - loss: 1.3444 - accuracy: 0.54 - ETA: 40s - loss: 1.1129 - accuracy: 0.6255 - ETA: 28s - loss: 1.0004 - accuracy: 0.661 - ETA: 22s - loss: 0.9274 - accuracy: 0.684 - ETA: 19s - loss: 0.8803 - accuracy: 0.701 - ETA: 17s - loss: 0.8459 - accuracy: 0.713 - ETA: 15s - loss: 0.8310 - accuracy: 0.717 - ETA: 13s - loss: 0.8078 - accuracy: 0.725 - ETA: 12s - loss: 0.7905 - accuracy: 0.730 - ETA: 11s - loss: 0.7773 - accuracy: 0.735 - ETA: 10s - loss: 0.7532 - accuracy: 0.744 - ETA: 9s - loss: 0.7284 - accuracy: 0.752 - ETA: 9s - loss: 0.7125 - accuracy: 0.75 - ETA: 8s - loss: 0.7011 - accuracy: 0.76 - ETA: 8s - loss: 0.6898 - accuracy: 0.76 - ETA: 7s - loss: 0.6780 - accuracy: 0.76 - ETA: 7s - loss: 0.6683 - accuracy: 0.77 - ETA: 7s - loss: 0.6594 - accuracy: 0.77 - ETA: 6s - loss: 0.6504 - accuracy: 0.77 - ETA: 6s - loss: 0.6456 - accuracy: 0.78 - ETA: 6s - loss: 0.6394 - accuracy: 0.78 - ETA: 6s - loss: 0.6334 - accuracy: 0.78 - ETA: 5s - loss: 0.6301 - accuracy: 0.78 - ETA: 5s - loss: 0.6271 - accuracy: 0.78 - ETA: 5s - loss: 0.6224 - accuracy: 0.78 - ETA: 5s - loss: 0.6175 - accuracy: 0.78 - ETA: 4s - loss: 0.6131 - accuracy: 0.78 - ETA: 4s - loss: 0.6069 - accuracy: 0.79 - ETA: 4s - loss: 0.6023 - accuracy: 0.79 - ETA: 4s - loss: 0.5977 - accuracy: 0.79 - ETA: 4s - loss: 0.5931 - accuracy: 0.79 - ETA: 4s - loss: 0.5910 - accuracy: 0.79 - ETA: 4s - loss: 0.5884 - accuracy: 0.79 - ETA: 3s - loss: 0.5858 - accuracy: 0.79 - ETA: 3s - loss: 0.5854 - accuracy: 0.79 - ETA: 3s - loss: 0.5822 - accuracy: 0.79 - ETA: 3s - loss: 0.5798 - accuracy: 0.80 - ETA: 3s - loss: 0.5774 - accuracy: 0.80 - ETA: 3s - loss: 0.5773 - accuracy: 0.80 - ETA: 3s - loss: 0.5751 - accuracy: 0.80 - ETA: 3s - loss: 0.5725 - accuracy: 0.80 - ETA: 3s - loss: 0.5705 - accuracy: 0.80 - ETA: 3s - loss: 0.5681 - accuracy: 0.80 - ETA: 3s - loss: 0.5655 - accuracy: 0.80 - ETA: 3s - loss: 0.5640 - accuracy: 0.80 - ETA: 3s - loss: 0.5626 - accuracy: 0.80 - ETA: 3s - loss: 0.5614 - accuracy: 0.80 - ETA: 2s - loss: 0.5590 - accuracy: 0.80 - ETA: 2s - loss: 0.5568 - accuracy: 0.80 - ETA: 2s - loss: 0.5543 - accuracy: 0.80 - ETA: 2s - loss: 0.5538 - accuracy: 0.80 - ETA: 2s - loss: 0.5522 - accuracy: 0.81 - ETA: 2s - loss: 0.5503 - accuracy: 0.81 - ETA: 2s - loss: 0.5487 - accuracy: 0.81 - ETA: 2s - loss: 0.5483 - accuracy: 0.81 - ETA: 2s - loss: 0.5472 - accuracy: 0.81 - ETA: 2s - loss: 0.5458 - accuracy: 0.81 - ETA: 2s - loss: 0.5451 - accuracy: 0.81 - ETA: 2s - loss: 0.5440 - accuracy: 0.81 - ETA: 2s - loss: 0.5440 - accuracy: 0.81 - ETA: 2s - loss: 0.5424 - accuracy: 0.81 - ETA: 2s - loss: 0.5410 - accuracy: 0.81 - ETA: 2s - loss: 0.5402 - accuracy: 0.81 - ETA: 2s - loss: 0.5391 - accuracy: 0.81 - ETA: 2s - loss: 0.5390 - accuracy: 0.81 - ETA: 2s - loss: 0.5390 - accuracy: 0.81 - ETA: 1s - loss: 0.5375 - accuracy: 0.81 - ETA: 1s - loss: 0.5362 - accuracy: 0.81 - ETA: 1s - loss: 0.5354 - accuracy: 0.81 - ETA: 1s - loss: 0.5354 - accuracy: 0.81 - ETA: 1s - loss: 0.5345 - accuracy: 0.81 - ETA: 1s - loss: 0.5334 - accuracy: 0.81 - ETA: 1s - loss: 0.5319 - accuracy: 0.81 - ETA: 1s - loss: 0.5307 - accuracy: 0.81 - ETA: 1s - loss: 0.5290 - accuracy: 0.81 - ETA: 1s - loss: 0.5277 - accuracy: 0.81 - ETA: 1s - loss: 0.5263 - accuracy: 0.81 - ETA: 1s - loss: 0.5253 - accuracy: 0.81 - ETA: 1s - loss: 0.5234 - accuracy: 0.81 - ETA: 0s - loss: 0.5225 - accuracy: 0.81 - ETA: 0s - loss: 0.5217 - accuracy: 0.81 - ETA: 0s - loss: 0.5205 - accuracy: 0.81 - ETA: 0s - loss: 0.5189 - accuracy: 0.82 - ETA: 0s - loss: 0.5176 - accuracy: 0.82 - ETA: 0s - loss: 0.5158 - accuracy: 0.82 - ETA: 0s - loss: 0.5138 - accuracy: 0.82 - ETA: 0s - loss: 0.5129 - accuracy: 0.82 - ETA: 0s - loss: 0.5111 - accuracy: 0.82 - ETA: 0s - loss: 0.5101 - accuracy: 0.82 - ETA: 0s - loss: 0.5095 - accuracy: 0.82 - ETA: 0s - loss: 0.5083 - accuracy: 0.82 - ETA: 0s - loss: 0.5077 - accuracy: 0.82 - 7s 4ms/step - loss: 0.5070 - accuracy: 0.8231 - val_loss: 0.4441 - val_accuracy: 0.8430\n",
      "Epoch 2/2\n"
     ]
    },
    {
     "name": "stdout",
     "output_type": "stream",
     "text": [
      "1875/1875 [==============================] - ETA: 0s - loss: 0.3361 - accuracy: 0.90 - ETA: 5s - loss: 0.3937 - accuracy: 0.85 - ETA: 5s - loss: 0.4238 - accuracy: 0.85 - ETA: 5s - loss: 0.4379 - accuracy: 0.85 - ETA: 4s - loss: 0.4353 - accuracy: 0.85 - ETA: 4s - loss: 0.4272 - accuracy: 0.85 - ETA: 4s - loss: 0.4147 - accuracy: 0.85 - ETA: 4s - loss: 0.4090 - accuracy: 0.85 - ETA: 4s - loss: 0.4006 - accuracy: 0.85 - ETA: 4s - loss: 0.3931 - accuracy: 0.86 - ETA: 4s - loss: 0.3886 - accuracy: 0.86 - ETA: 4s - loss: 0.3850 - accuracy: 0.86 - ETA: 4s - loss: 0.3857 - accuracy: 0.86 - ETA: 4s - loss: 0.3876 - accuracy: 0.86 - ETA: 4s - loss: 0.3894 - accuracy: 0.86 - ETA: 4s - loss: 0.3931 - accuracy: 0.86 - ETA: 4s - loss: 0.3933 - accuracy: 0.86 - ETA: 3s - loss: 0.3929 - accuracy: 0.86 - ETA: 3s - loss: 0.3925 - accuracy: 0.86 - ETA: 3s - loss: 0.3913 - accuracy: 0.86 - ETA: 3s - loss: 0.3930 - accuracy: 0.86 - ETA: 3s - loss: 0.3915 - accuracy: 0.86 - ETA: 3s - loss: 0.3918 - accuracy: 0.86 - ETA: 3s - loss: 0.3903 - accuracy: 0.86 - ETA: 3s - loss: 0.3898 - accuracy: 0.86 - ETA: 3s - loss: 0.3913 - accuracy: 0.86 - ETA: 3s - loss: 0.3911 - accuracy: 0.86 - ETA: 3s - loss: 0.3914 - accuracy: 0.86 - ETA: 3s - loss: 0.3910 - accuracy: 0.86 - ETA: 3s - loss: 0.3907 - accuracy: 0.86 - ETA: 3s - loss: 0.3916 - accuracy: 0.86 - ETA: 3s - loss: 0.3911 - accuracy: 0.86 - ETA: 3s - loss: 0.3900 - accuracy: 0.86 - ETA: 3s - loss: 0.3916 - accuracy: 0.86 - ETA: 3s - loss: 0.3905 - accuracy: 0.86 - ETA: 3s - loss: 0.3907 - accuracy: 0.86 - ETA: 3s - loss: 0.3908 - accuracy: 0.86 - ETA: 3s - loss: 0.3893 - accuracy: 0.86 - ETA: 2s - loss: 0.3897 - accuracy: 0.86 - ETA: 2s - loss: 0.3892 - accuracy: 0.86 - ETA: 2s - loss: 0.3890 - accuracy: 0.86 - ETA: 2s - loss: 0.3872 - accuracy: 0.86 - ETA: 2s - loss: 0.3866 - accuracy: 0.86 - ETA: 2s - loss: 0.3861 - accuracy: 0.86 - ETA: 2s - loss: 0.3869 - accuracy: 0.86 - ETA: 2s - loss: 0.3871 - accuracy: 0.86 - ETA: 2s - loss: 0.3880 - accuracy: 0.86 - ETA: 2s - loss: 0.3882 - accuracy: 0.86 - ETA: 2s - loss: 0.3879 - accuracy: 0.86 - ETA: 2s - loss: 0.3874 - accuracy: 0.86 - ETA: 2s - loss: 0.3866 - accuracy: 0.86 - ETA: 1s - loss: 0.3867 - accuracy: 0.86 - ETA: 1s - loss: 0.3871 - accuracy: 0.86 - ETA: 1s - loss: 0.3860 - accuracy: 0.86 - ETA: 1s - loss: 0.3851 - accuracy: 0.86 - ETA: 1s - loss: 0.3847 - accuracy: 0.86 - ETA: 1s - loss: 0.3857 - accuracy: 0.86 - ETA: 1s - loss: 0.3860 - accuracy: 0.86 - ETA: 1s - loss: 0.3866 - accuracy: 0.86 - ETA: 1s - loss: 0.3869 - accuracy: 0.86 - ETA: 1s - loss: 0.3875 - accuracy: 0.86 - ETA: 1s - loss: 0.3872 - accuracy: 0.86 - ETA: 1s - loss: 0.3863 - accuracy: 0.86 - ETA: 1s - loss: 0.3866 - accuracy: 0.86 - ETA: 1s - loss: 0.3863 - accuracy: 0.86 - ETA: 1s - loss: 0.3861 - accuracy: 0.86 - ETA: 1s - loss: 0.3859 - accuracy: 0.86 - ETA: 0s - loss: 0.3860 - accuracy: 0.86 - ETA: 0s - loss: 0.3851 - accuracy: 0.86 - ETA: 0s - loss: 0.3855 - accuracy: 0.86 - ETA: 0s - loss: 0.3850 - accuracy: 0.86 - ETA: 0s - loss: 0.3842 - accuracy: 0.86 - ETA: 0s - loss: 0.3839 - accuracy: 0.86 - ETA: 0s - loss: 0.3840 - accuracy: 0.86 - ETA: 0s - loss: 0.3842 - accuracy: 0.86 - ETA: 0s - loss: 0.3834 - accuracy: 0.86 - ETA: 0s - loss: 0.3836 - accuracy: 0.86 - ETA: 0s - loss: 0.3836 - accuracy: 0.86 - ETA: 0s - loss: 0.3839 - accuracy: 0.86 - ETA: 0s - loss: 0.3839 - accuracy: 0.86 - ETA: 0s - loss: 0.3837 - accuracy: 0.86 - ETA: 0s - loss: 0.3830 - accuracy: 0.86 - ETA: 0s - loss: 0.3832 - accuracy: 0.86 - ETA: 0s - loss: 0.3833 - accuracy: 0.86 - ETA: 0s - loss: 0.3832 - accuracy: 0.86 - ETA: 0s - loss: 0.3831 - accuracy: 0.86 - ETA: 0s - loss: 0.3825 - accuracy: 0.86 - ETA: 0s - loss: 0.3826 - accuracy: 0.86 - ETA: 0s - loss: 0.3830 - accuracy: 0.86 - ETA: 0s - loss: 0.3828 - accuracy: 0.86 - ETA: 0s - loss: 0.3830 - accuracy: 0.86 - ETA: 0s - loss: 0.3827 - accuracy: 0.86 - ETA: 0s - loss: 0.3822 - accuracy: 0.86 - ETA: 0s - loss: 0.3820 - accuracy: 0.86 - ETA: 0s - loss: 0.3816 - accuracy: 0.86 - ETA: 0s - loss: 0.3816 - accuracy: 0.86 - 6s 3ms/step - loss: 0.3818 - accuracy: 0.8633 - val_loss: 0.3957 - val_accuracy: 0.8600\n"
     ]
    },
    {
     "data": {
      "text/html": [
       "<span style=\"color:#4527A0\"><h1 style=\"font-size:18px\">Trial complete</h1></span>"
      ],
      "text/plain": [
       "<IPython.core.display.HTML object>"
      ]
     },
     "metadata": {},
     "output_type": "display_data"
    },
    {
     "data": {
      "text/html": [
       "<span style=\"color:#4527A0\"><h1 style=\"font-size:18px\">Trial summary</h1></span>"
      ],
      "text/plain": [
       "<IPython.core.display.HTML object>"
      ]
     },
     "metadata": {},
     "output_type": "display_data"
    },
    {
     "data": {
      "text/html": [
       "<span style=\"color:cyan\"> |-Trial ID: ab59c8efa4bd32e22bf9df8f87b26ac0</span>"
      ],
      "text/plain": [
       "<IPython.core.display.HTML object>"
      ]
     },
     "metadata": {},
     "output_type": "display_data"
    },
    {
     "data": {
      "text/html": [
       "<span style=\"color:cyan\"> |-Score: 0.8600000143051147</span>"
      ],
      "text/plain": [
       "<IPython.core.display.HTML object>"
      ]
     },
     "metadata": {},
     "output_type": "display_data"
    },
    {
     "data": {
      "text/html": [
       "<span style=\"color:cyan\"> |-Best step: 0</span>"
      ],
      "text/plain": [
       "<IPython.core.display.HTML object>"
      ]
     },
     "metadata": {},
     "output_type": "display_data"
    },
    {
     "data": {
      "text/html": [
       "<span style=\"color:#7E57C2\"><h2 style=\"font-size:16px\">Hyperparameters:</h2></span>"
      ],
      "text/plain": [
       "<IPython.core.display.HTML object>"
      ]
     },
     "metadata": {},
     "output_type": "display_data"
    },
    {
     "data": {
      "text/html": [
       "<span style=\"color:cyan\"> |-learning_rate: 0.001</span>"
      ],
      "text/plain": [
       "<IPython.core.display.HTML object>"
      ]
     },
     "metadata": {},
     "output_type": "display_data"
    },
    {
     "data": {
      "text/html": [
       "<span style=\"color:blue\"> |-tuner/bracket: 2</span>"
      ],
      "text/plain": [
       "<IPython.core.display.HTML object>"
      ]
     },
     "metadata": {},
     "output_type": "display_data"
    },
    {
     "data": {
      "text/html": [
       "<span style=\"color:cyan\"> |-tuner/epochs: 2</span>"
      ],
      "text/plain": [
       "<IPython.core.display.HTML object>"
      ]
     },
     "metadata": {},
     "output_type": "display_data"
    },
    {
     "data": {
      "text/html": [
       "<span style=\"color:blue\"> |-tuner/initial_epoch: 0</span>"
      ],
      "text/plain": [
       "<IPython.core.display.HTML object>"
      ]
     },
     "metadata": {},
     "output_type": "display_data"
    },
    {
     "data": {
      "text/html": [
       "<span style=\"color:cyan\"> |-tuner/round: 0</span>"
      ],
      "text/plain": [
       "<IPython.core.display.HTML object>"
      ]
     },
     "metadata": {},
     "output_type": "display_data"
    },
    {
     "data": {
      "text/html": [
       "<span style=\"color:blue\"> |-units: 96</span>"
      ],
      "text/plain": [
       "<IPython.core.display.HTML object>"
      ]
     },
     "metadata": {},
     "output_type": "display_data"
    },
    {
     "name": "stdout",
     "output_type": "stream",
     "text": [
      "Epoch 1/2\n",
      "   2/1875 [..............................] - ETA: 0s - loss: 2.6315 - accuracy: 0.0000e+ - ETA: 13:11 - loss: 3.9862 - accuracy: 0.1250 WARNING:tensorflow:Method (on_train_batch_end) is slow compared to the batch update (0.427608). Check your callbacks.\n",
      "1875/1875 [==============================] - ETA: 1:51 - loss: 2.6683 - accuracy: 0.439 - ETA: 58s - loss: 1.7534 - accuracy: 0.5646 - ETA: 42s - loss: 1.4324 - accuracy: 0.626 - ETA: 38s - loss: 1.3583 - accuracy: 0.636 - ETA: 33s - loss: 1.2652 - accuracy: 0.653 - ETA: 29s - loss: 1.1695 - accuracy: 0.670 - ETA: 25s - loss: 1.0918 - accuracy: 0.683 - ETA: 24s - loss: 1.0470 - accuracy: 0.691 - ETA: 22s - loss: 1.0146 - accuracy: 0.699 - ETA: 20s - loss: 0.9884 - accuracy: 0.705 - ETA: 19s - loss: 0.9584 - accuracy: 0.710 - ETA: 18s - loss: 0.9314 - accuracy: 0.713 - ETA: 17s - loss: 0.9170 - accuracy: 0.716 - ETA: 17s - loss: 0.8990 - accuracy: 0.719 - ETA: 16s - loss: 0.8859 - accuracy: 0.722 - ETA: 16s - loss: 0.8689 - accuracy: 0.725 - ETA: 15s - loss: 0.8500 - accuracy: 0.729 - ETA: 14s - loss: 0.8404 - accuracy: 0.730 - ETA: 14s - loss: 0.8320 - accuracy: 0.732 - ETA: 13s - loss: 0.8204 - accuracy: 0.733 - ETA: 12s - loss: 0.8057 - accuracy: 0.736 - ETA: 12s - loss: 0.7985 - accuracy: 0.737 - ETA: 11s - loss: 0.7875 - accuracy: 0.739 - ETA: 11s - loss: 0.7765 - accuracy: 0.741 - ETA: 11s - loss: 0.7670 - accuracy: 0.743 - ETA: 10s - loss: 0.7557 - accuracy: 0.746 - ETA: 10s - loss: 0.7485 - accuracy: 0.747 - ETA: 10s - loss: 0.7451 - accuracy: 0.747 - ETA: 10s - loss: 0.7404 - accuracy: 0.749 - ETA: 10s - loss: 0.7361 - accuracy: 0.750 - ETA: 9s - loss: 0.7276 - accuracy: 0.752 - ETA: 9s - loss: 0.7235 - accuracy: 0.75 - ETA: 9s - loss: 0.7183 - accuracy: 0.75 - ETA: 9s - loss: 0.7124 - accuracy: 0.75 - ETA: 8s - loss: 0.7061 - accuracy: 0.75 - ETA: 8s - loss: 0.7011 - accuracy: 0.75 - ETA: 8s - loss: 0.6942 - accuracy: 0.76 - ETA: 8s - loss: 0.6878 - accuracy: 0.76 - ETA: 8s - loss: 0.6859 - accuracy: 0.76 - ETA: 7s - loss: 0.6833 - accuracy: 0.76 - ETA: 7s - loss: 0.6791 - accuracy: 0.76 - ETA: 7s - loss: 0.6759 - accuracy: 0.76 - ETA: 7s - loss: 0.6718 - accuracy: 0.76 - ETA: 7s - loss: 0.6689 - accuracy: 0.76 - ETA: 7s - loss: 0.6661 - accuracy: 0.76 - ETA: 6s - loss: 0.6599 - accuracy: 0.77 - ETA: 6s - loss: 0.6558 - accuracy: 0.77 - ETA: 6s - loss: 0.6539 - accuracy: 0.77 - ETA: 6s - loss: 0.6505 - accuracy: 0.77 - ETA: 6s - loss: 0.6457 - accuracy: 0.77 - ETA: 6s - loss: 0.6428 - accuracy: 0.77 - ETA: 6s - loss: 0.6393 - accuracy: 0.77 - ETA: 5s - loss: 0.6362 - accuracy: 0.77 - ETA: 5s - loss: 0.6324 - accuracy: 0.77 - ETA: 5s - loss: 0.6283 - accuracy: 0.78 - ETA: 5s - loss: 0.6269 - accuracy: 0.78 - ETA: 5s - loss: 0.6254 - accuracy: 0.78 - ETA: 5s - loss: 0.6230 - accuracy: 0.78 - ETA: 5s - loss: 0.6204 - accuracy: 0.78 - ETA: 4s - loss: 0.6178 - accuracy: 0.78 - ETA: 4s - loss: 0.6144 - accuracy: 0.78 - ETA: 4s - loss: 0.6109 - accuracy: 0.78 - ETA: 4s - loss: 0.6081 - accuracy: 0.78 - ETA: 4s - loss: 0.6057 - accuracy: 0.78 - ETA: 4s - loss: 0.6028 - accuracy: 0.78 - ETA: 4s - loss: 0.6008 - accuracy: 0.79 - ETA: 4s - loss: 0.5969 - accuracy: 0.79 - ETA: 3s - loss: 0.5936 - accuracy: 0.79 - ETA: 3s - loss: 0.5904 - accuracy: 0.79 - ETA: 3s - loss: 0.5881 - accuracy: 0.79 - ETA: 3s - loss: 0.5868 - accuracy: 0.79 - ETA: 3s - loss: 0.5857 - accuracy: 0.79 - ETA: 3s - loss: 0.5841 - accuracy: 0.79 - ETA: 3s - loss: 0.5820 - accuracy: 0.79 - ETA: 3s - loss: 0.5806 - accuracy: 0.79 - ETA: 3s - loss: 0.5793 - accuracy: 0.79 - ETA: 3s - loss: 0.5769 - accuracy: 0.79 - ETA: 2s - loss: 0.5749 - accuracy: 0.79 - ETA: 2s - loss: 0.5736 - accuracy: 0.79 - ETA: 2s - loss: 0.5721 - accuracy: 0.79 - ETA: 2s - loss: 0.5703 - accuracy: 0.79 - ETA: 2s - loss: 0.5705 - accuracy: 0.79 - ETA: 2s - loss: 0.5689 - accuracy: 0.80 - ETA: 2s - loss: 0.5672 - accuracy: 0.80 - ETA: 2s - loss: 0.5665 - accuracy: 0.80 - ETA: 2s - loss: 0.5646 - accuracy: 0.80 - ETA: 2s - loss: 0.5628 - accuracy: 0.80 - ETA: 1s - loss: 0.5613 - accuracy: 0.80 - ETA: 1s - loss: 0.5596 - accuracy: 0.80 - ETA: 1s - loss: 0.5585 - accuracy: 0.80 - ETA: 1s - loss: 0.5569 - accuracy: 0.80 - ETA: 1s - loss: 0.5554 - accuracy: 0.80 - ETA: 1s - loss: 0.5541 - accuracy: 0.80 - ETA: 1s - loss: 0.5526 - accuracy: 0.80 - ETA: 1s - loss: 0.5510 - accuracy: 0.80 - ETA: 1s - loss: 0.5494 - accuracy: 0.80 - ETA: 1s - loss: 0.5487 - accuracy: 0.80 - ETA: 1s - loss: 0.5482 - accuracy: 0.80 - ETA: 1s - loss: 0.5469 - accuracy: 0.80 - ETA: 1s - loss: 0.5468 - accuracy: 0.80 - ETA: 0s - loss: 0.5455 - accuracy: 0.80 - ETA: 0s - loss: 0.5440 - accuracy: 0.80 - ETA: 0s - loss: 0.5432 - accuracy: 0.80 - ETA: 0s - loss: 0.5433 - accuracy: 0.80 - ETA: 0s - loss: 0.5423 - accuracy: 0.80 - ETA: 0s - loss: 0.5415 - accuracy: 0.80 - ETA: 0s - loss: 0.5409 - accuracy: 0.80 - ETA: 0s - loss: 0.5408 - accuracy: 0.80 - ETA: 0s - loss: 0.5390 - accuracy: 0.81 - ETA: 0s - loss: 0.5386 - accuracy: 0.81 - ETA: 0s - loss: 0.5374 - accuracy: 0.81 - ETA: 0s - loss: 0.5374 - accuracy: 0.81 - ETA: 0s - loss: 0.5358 - accuracy: 0.81 - ETA: 0s - loss: 0.5345 - accuracy: 0.81 - ETA: 0s - loss: 0.5341 - accuracy: 0.81 - 8s 4ms/step - loss: 0.5338 - accuracy: 0.8115 - val_loss: 0.5100 - val_accuracy: 0.8184\n",
      "Epoch 2/2\n"
     ]
    },
    {
     "name": "stdout",
     "output_type": "stream",
     "text": [
      "1875/1875 [==============================] - ETA: 0s - loss: 0.3590 - accuracy: 0.84 - ETA: 6s - loss: 0.4571 - accuracy: 0.84 - ETA: 6s - loss: 0.4758 - accuracy: 0.82 - ETA: 6s - loss: 0.4797 - accuracy: 0.82 - ETA: 6s - loss: 0.4650 - accuracy: 0.83 - ETA: 6s - loss: 0.4646 - accuracy: 0.83 - ETA: 6s - loss: 0.4571 - accuracy: 0.83 - ETA: 6s - loss: 0.4541 - accuracy: 0.83 - ETA: 6s - loss: 0.4537 - accuracy: 0.83 - ETA: 5s - loss: 0.4477 - accuracy: 0.83 - ETA: 5s - loss: 0.4459 - accuracy: 0.83 - ETA: 5s - loss: 0.4418 - accuracy: 0.83 - ETA: 5s - loss: 0.4378 - accuracy: 0.83 - ETA: 5s - loss: 0.4341 - accuracy: 0.84 - ETA: 5s - loss: 0.4373 - accuracy: 0.84 - ETA: 5s - loss: 0.4353 - accuracy: 0.84 - ETA: 5s - loss: 0.4334 - accuracy: 0.84 - ETA: 5s - loss: 0.4314 - accuracy: 0.84 - ETA: 5s - loss: 0.4334 - accuracy: 0.84 - ETA: 5s - loss: 0.4295 - accuracy: 0.84 - ETA: 5s - loss: 0.4282 - accuracy: 0.84 - ETA: 5s - loss: 0.4245 - accuracy: 0.84 - ETA: 5s - loss: 0.4253 - accuracy: 0.84 - ETA: 4s - loss: 0.4244 - accuracy: 0.84 - ETA: 4s - loss: 0.4218 - accuracy: 0.84 - ETA: 4s - loss: 0.4239 - accuracy: 0.84 - ETA: 4s - loss: 0.4240 - accuracy: 0.84 - ETA: 4s - loss: 0.4237 - accuracy: 0.84 - ETA: 4s - loss: 0.4225 - accuracy: 0.84 - ETA: 4s - loss: 0.4242 - accuracy: 0.84 - ETA: 4s - loss: 0.4257 - accuracy: 0.84 - ETA: 4s - loss: 0.4240 - accuracy: 0.84 - ETA: 4s - loss: 0.4282 - accuracy: 0.84 - ETA: 4s - loss: 0.4279 - accuracy: 0.84 - ETA: 4s - loss: 0.4283 - accuracy: 0.84 - ETA: 4s - loss: 0.4279 - accuracy: 0.84 - ETA: 4s - loss: 0.4271 - accuracy: 0.84 - ETA: 4s - loss: 0.4266 - accuracy: 0.84 - ETA: 4s - loss: 0.4264 - accuracy: 0.84 - ETA: 4s - loss: 0.4291 - accuracy: 0.84 - ETA: 4s - loss: 0.4288 - accuracy: 0.84 - ETA: 4s - loss: 0.4290 - accuracy: 0.84 - ETA: 3s - loss: 0.4286 - accuracy: 0.84 - ETA: 3s - loss: 0.4273 - accuracy: 0.84 - ETA: 3s - loss: 0.4283 - accuracy: 0.84 - ETA: 3s - loss: 0.4296 - accuracy: 0.84 - ETA: 3s - loss: 0.4287 - accuracy: 0.84 - ETA: 3s - loss: 0.4271 - accuracy: 0.84 - ETA: 3s - loss: 0.4241 - accuracy: 0.84 - ETA: 3s - loss: 0.4258 - accuracy: 0.84 - ETA: 3s - loss: 0.4274 - accuracy: 0.84 - ETA: 3s - loss: 0.4279 - accuracy: 0.84 - ETA: 2s - loss: 0.4284 - accuracy: 0.84 - ETA: 2s - loss: 0.4285 - accuracy: 0.84 - ETA: 2s - loss: 0.4278 - accuracy: 0.84 - ETA: 2s - loss: 0.4285 - accuracy: 0.84 - ETA: 2s - loss: 0.4286 - accuracy: 0.84 - ETA: 2s - loss: 0.4283 - accuracy: 0.84 - ETA: 2s - loss: 0.4285 - accuracy: 0.84 - ETA: 2s - loss: 0.4276 - accuracy: 0.84 - ETA: 2s - loss: 0.4278 - accuracy: 0.84 - ETA: 2s - loss: 0.4281 - accuracy: 0.84 - ETA: 2s - loss: 0.4273 - accuracy: 0.84 - ETA: 2s - loss: 0.4272 - accuracy: 0.84 - ETA: 2s - loss: 0.4270 - accuracy: 0.84 - ETA: 2s - loss: 0.4262 - accuracy: 0.84 - ETA: 2s - loss: 0.4256 - accuracy: 0.84 - ETA: 2s - loss: 0.4265 - accuracy: 0.84 - ETA: 2s - loss: 0.4270 - accuracy: 0.84 - ETA: 2s - loss: 0.4269 - accuracy: 0.84 - ETA: 2s - loss: 0.4271 - accuracy: 0.84 - ETA: 2s - loss: 0.4260 - accuracy: 0.84 - ETA: 2s - loss: 0.4261 - accuracy: 0.84 - ETA: 2s - loss: 0.4251 - accuracy: 0.84 - ETA: 2s - loss: 0.4243 - accuracy: 0.84 - ETA: 2s - loss: 0.4244 - accuracy: 0.84 - ETA: 2s - loss: 0.4245 - accuracy: 0.84 - ETA: 2s - loss: 0.4242 - accuracy: 0.84 - ETA: 2s - loss: 0.4242 - accuracy: 0.84 - ETA: 1s - loss: 0.4243 - accuracy: 0.84 - ETA: 1s - loss: 0.4246 - accuracy: 0.84 - ETA: 1s - loss: 0.4254 - accuracy: 0.84 - ETA: 1s - loss: 0.4257 - accuracy: 0.84 - ETA: 1s - loss: 0.4258 - accuracy: 0.84 - ETA: 1s - loss: 0.4255 - accuracy: 0.84 - ETA: 1s - loss: 0.4255 - accuracy: 0.84 - ETA: 1s - loss: 0.4258 - accuracy: 0.84 - ETA: 1s - loss: 0.4254 - accuracy: 0.84 - ETA: 1s - loss: 0.4257 - accuracy: 0.84 - ETA: 1s - loss: 0.4263 - accuracy: 0.84 - ETA: 1s - loss: 0.4264 - accuracy: 0.84 - ETA: 1s - loss: 0.4266 - accuracy: 0.84 - ETA: 1s - loss: 0.4261 - accuracy: 0.84 - ETA: 1s - loss: 0.4258 - accuracy: 0.84 - ETA: 1s - loss: 0.4252 - accuracy: 0.84 - ETA: 1s - loss: 0.4256 - accuracy: 0.84 - ETA: 1s - loss: 0.4253 - accuracy: 0.84 - ETA: 1s - loss: 0.4262 - accuracy: 0.84 - ETA: 1s - loss: 0.4258 - accuracy: 0.84 - ETA: 1s - loss: 0.4258 - accuracy: 0.84 - ETA: 1s - loss: 0.4262 - accuracy: 0.84 - ETA: 1s - loss: 0.4259 - accuracy: 0.84 - ETA: 1s - loss: 0.4258 - accuracy: 0.84 - ETA: 1s - loss: 0.4259 - accuracy: 0.84 - ETA: 1s - loss: 0.4254 - accuracy: 0.84 - ETA: 1s - loss: 0.4254 - accuracy: 0.84 - ETA: 1s - loss: 0.4258 - accuracy: 0.84 - ETA: 0s - loss: 0.4257 - accuracy: 0.84 - ETA: 0s - loss: 0.4251 - accuracy: 0.84 - ETA: 0s - loss: 0.4246 - accuracy: 0.84 - ETA: 0s - loss: 0.4248 - accuracy: 0.84 - ETA: 0s - loss: 0.4257 - accuracy: 0.84 - ETA: 0s - loss: 0.4257 - accuracy: 0.84 - ETA: 0s - loss: 0.4252 - accuracy: 0.84 - ETA: 0s - loss: 0.4254 - accuracy: 0.84 - ETA: 0s - loss: 0.4252 - accuracy: 0.84 - ETA: 0s - loss: 0.4252 - accuracy: 0.84 - ETA: 0s - loss: 0.4249 - accuracy: 0.84 - ETA: 0s - loss: 0.4259 - accuracy: 0.84 - ETA: 0s - loss: 0.4260 - accuracy: 0.84 - ETA: 0s - loss: 0.4255 - accuracy: 0.84 - ETA: 0s - loss: 0.4261 - accuracy: 0.84 - ETA: 0s - loss: 0.4259 - accuracy: 0.84 - ETA: 0s - loss: 0.4262 - accuracy: 0.84 - 7s 4ms/step - loss: 0.4259 - accuracy: 0.8462 - val_loss: 0.4360 - val_accuracy: 0.8490\n"
     ]
    },
    {
     "data": {
      "text/html": [
       "<span style=\"color:#4527A0\"><h1 style=\"font-size:18px\">Trial complete</h1></span>"
      ],
      "text/plain": [
       "<IPython.core.display.HTML object>"
      ]
     },
     "metadata": {},
     "output_type": "display_data"
    },
    {
     "data": {
      "text/html": [
       "<span style=\"color:#4527A0\"><h1 style=\"font-size:18px\">Trial summary</h1></span>"
      ],
      "text/plain": [
       "<IPython.core.display.HTML object>"
      ]
     },
     "metadata": {},
     "output_type": "display_data"
    },
    {
     "data": {
      "text/html": [
       "<span style=\"color:cyan\"> |-Trial ID: 1ae807303c08c0405210f4f75d5caefc</span>"
      ],
      "text/plain": [
       "<IPython.core.display.HTML object>"
      ]
     },
     "metadata": {},
     "output_type": "display_data"
    },
    {
     "data": {
      "text/html": [
       "<span style=\"color:cyan\"> |-Score: 0.8489999771118164</span>"
      ],
      "text/plain": [
       "<IPython.core.display.HTML object>"
      ]
     },
     "metadata": {},
     "output_type": "display_data"
    },
    {
     "data": {
      "text/html": [
       "<span style=\"color:cyan\"> |-Best step: 0</span>"
      ],
      "text/plain": [
       "<IPython.core.display.HTML object>"
      ]
     },
     "metadata": {},
     "output_type": "display_data"
    },
    {
     "data": {
      "text/html": [
       "<span style=\"color:#7E57C2\"><h2 style=\"font-size:16px\">Hyperparameters:</h2></span>"
      ],
      "text/plain": [
       "<IPython.core.display.HTML object>"
      ]
     },
     "metadata": {},
     "output_type": "display_data"
    },
    {
     "data": {
      "text/html": [
       "<span style=\"color:cyan\"> |-learning_rate: 0.01</span>"
      ],
      "text/plain": [
       "<IPython.core.display.HTML object>"
      ]
     },
     "metadata": {},
     "output_type": "display_data"
    },
    {
     "data": {
      "text/html": [
       "<span style=\"color:blue\"> |-tuner/bracket: 2</span>"
      ],
      "text/plain": [
       "<IPython.core.display.HTML object>"
      ]
     },
     "metadata": {},
     "output_type": "display_data"
    },
    {
     "data": {
      "text/html": [
       "<span style=\"color:cyan\"> |-tuner/epochs: 2</span>"
      ],
      "text/plain": [
       "<IPython.core.display.HTML object>"
      ]
     },
     "metadata": {},
     "output_type": "display_data"
    },
    {
     "data": {
      "text/html": [
       "<span style=\"color:blue\"> |-tuner/initial_epoch: 0</span>"
      ],
      "text/plain": [
       "<IPython.core.display.HTML object>"
      ]
     },
     "metadata": {},
     "output_type": "display_data"
    },
    {
     "data": {
      "text/html": [
       "<span style=\"color:cyan\"> |-tuner/round: 0</span>"
      ],
      "text/plain": [
       "<IPython.core.display.HTML object>"
      ]
     },
     "metadata": {},
     "output_type": "display_data"
    },
    {
     "data": {
      "text/html": [
       "<span style=\"color:blue\"> |-units: 288</span>"
      ],
      "text/plain": [
       "<IPython.core.display.HTML object>"
      ]
     },
     "metadata": {},
     "output_type": "display_data"
    },
    {
     "name": "stdout",
     "output_type": "stream",
     "text": [
      "Epoch 1/2\n",
      "   2/1875 [..............................] - ETA: 0s - loss: 2.3370 - accuracy: 0.18 - ETA: 13:35 - loss: 2.2834 - accuracy: 0.2188WARNING:tensorflow:Method (on_train_batch_end) is slow compared to the batch update (0.439140). Check your callbacks.\n",
      "1875/1875 [==============================] - ETA: 2:12 - loss: 2.0969 - accuracy: 0.271 - ETA: 1:12 - loss: 1.9354 - accuracy: 0.38 - ETA: 52s - loss: 1.8160 - accuracy: 0.4627 - ETA: 41s - loss: 1.7148 - accuracy: 0.500 - ETA: 34s - loss: 1.6341 - accuracy: 0.530 - ETA: 30s - loss: 1.5649 - accuracy: 0.550 - ETA: 26s - loss: 1.4892 - accuracy: 0.571 - ETA: 23s - loss: 1.4277 - accuracy: 0.590 - ETA: 21s - loss: 1.3804 - accuracy: 0.602 - ETA: 20s - loss: 1.3345 - accuracy: 0.610 - ETA: 18s - loss: 1.2928 - accuracy: 0.621 - ETA: 17s - loss: 1.2546 - accuracy: 0.632 - ETA: 16s - loss: 1.2151 - accuracy: 0.640 - ETA: 15s - loss: 1.1864 - accuracy: 0.649 - ETA: 14s - loss: 1.1556 - accuracy: 0.657 - ETA: 14s - loss: 1.1309 - accuracy: 0.663 - ETA: 13s - loss: 1.1107 - accuracy: 0.667 - ETA: 13s - loss: 1.0942 - accuracy: 0.671 - ETA: 12s - loss: 1.0769 - accuracy: 0.676 - ETA: 12s - loss: 1.0641 - accuracy: 0.679 - ETA: 12s - loss: 1.0490 - accuracy: 0.682 - ETA: 11s - loss: 1.0351 - accuracy: 0.686 - ETA: 11s - loss: 1.0195 - accuracy: 0.691 - ETA: 11s - loss: 1.0119 - accuracy: 0.693 - ETA: 11s - loss: 1.0023 - accuracy: 0.695 - ETA: 10s - loss: 0.9927 - accuracy: 0.697 - ETA: 10s - loss: 0.9867 - accuracy: 0.698 - ETA: 10s - loss: 0.9795 - accuracy: 0.700 - ETA: 10s - loss: 0.9729 - accuracy: 0.702 - ETA: 10s - loss: 0.9650 - accuracy: 0.703 - ETA: 10s - loss: 0.9550 - accuracy: 0.706 - ETA: 10s - loss: 0.9467 - accuracy: 0.709 - ETA: 10s - loss: 0.9386 - accuracy: 0.711 - ETA: 9s - loss: 0.9292 - accuracy: 0.714 - ETA: 9s - loss: 0.9194 - accuracy: 0.71 - ETA: 9s - loss: 0.9100 - accuracy: 0.71 - ETA: 9s - loss: 0.9016 - accuracy: 0.72 - ETA: 9s - loss: 0.8910 - accuracy: 0.72 - ETA: 8s - loss: 0.8836 - accuracy: 0.72 - ETA: 8s - loss: 0.8762 - accuracy: 0.72 - ETA: 8s - loss: 0.8699 - accuracy: 0.73 - ETA: 8s - loss: 0.8619 - accuracy: 0.73 - ETA: 8s - loss: 0.8548 - accuracy: 0.73 - ETA: 8s - loss: 0.8474 - accuracy: 0.73 - ETA: 7s - loss: 0.8401 - accuracy: 0.73 - ETA: 7s - loss: 0.8336 - accuracy: 0.74 - ETA: 7s - loss: 0.8273 - accuracy: 0.74 - ETA: 7s - loss: 0.8217 - accuracy: 0.74 - ETA: 7s - loss: 0.8168 - accuracy: 0.74 - ETA: 7s - loss: 0.8110 - accuracy: 0.74 - ETA: 7s - loss: 0.8058 - accuracy: 0.74 - ETA: 7s - loss: 0.8019 - accuracy: 0.74 - ETA: 6s - loss: 0.7974 - accuracy: 0.74 - ETA: 6s - loss: 0.7935 - accuracy: 0.75 - ETA: 6s - loss: 0.7886 - accuracy: 0.75 - ETA: 6s - loss: 0.7856 - accuracy: 0.75 - ETA: 6s - loss: 0.7820 - accuracy: 0.75 - ETA: 6s - loss: 0.7791 - accuracy: 0.75 - ETA: 6s - loss: 0.7761 - accuracy: 0.75 - ETA: 6s - loss: 0.7732 - accuracy: 0.75 - ETA: 6s - loss: 0.7699 - accuracy: 0.75 - ETA: 6s - loss: 0.7654 - accuracy: 0.75 - ETA: 6s - loss: 0.7613 - accuracy: 0.76 - ETA: 5s - loss: 0.7582 - accuracy: 0.76 - ETA: 5s - loss: 0.7555 - accuracy: 0.76 - ETA: 5s - loss: 0.7522 - accuracy: 0.76 - ETA: 5s - loss: 0.7491 - accuracy: 0.76 - ETA: 5s - loss: 0.7458 - accuracy: 0.76 - ETA: 5s - loss: 0.7424 - accuracy: 0.76 - ETA: 5s - loss: 0.7401 - accuracy: 0.76 - ETA: 5s - loss: 0.7384 - accuracy: 0.76 - ETA: 5s - loss: 0.7354 - accuracy: 0.76 - ETA: 5s - loss: 0.7327 - accuracy: 0.76 - ETA: 5s - loss: 0.7294 - accuracy: 0.77 - ETA: 5s - loss: 0.7272 - accuracy: 0.77 - ETA: 5s - loss: 0.7256 - accuracy: 0.77 - ETA: 4s - loss: 0.7228 - accuracy: 0.77 - ETA: 4s - loss: 0.7213 - accuracy: 0.77 - ETA: 4s - loss: 0.7201 - accuracy: 0.77 - ETA: 4s - loss: 0.7169 - accuracy: 0.77 - ETA: 4s - loss: 0.7146 - accuracy: 0.77 - ETA: 4s - loss: 0.7114 - accuracy: 0.77 - ETA: 4s - loss: 0.7099 - accuracy: 0.77 - ETA: 4s - loss: 0.7072 - accuracy: 0.77 - ETA: 4s - loss: 0.7054 - accuracy: 0.77 - ETA: 4s - loss: 0.7036 - accuracy: 0.77 - ETA: 4s - loss: 0.7011 - accuracy: 0.77 - ETA: 4s - loss: 0.6989 - accuracy: 0.77 - ETA: 3s - loss: 0.6965 - accuracy: 0.77 - ETA: 3s - loss: 0.6948 - accuracy: 0.77 - ETA: 3s - loss: 0.6922 - accuracy: 0.77 - ETA: 3s - loss: 0.6905 - accuracy: 0.77 - ETA: 3s - loss: 0.6882 - accuracy: 0.78 - ETA: 3s - loss: 0.6859 - accuracy: 0.78 - ETA: 3s - loss: 0.6838 - accuracy: 0.78 - ETA: 3s - loss: 0.6821 - accuracy: 0.78 - ETA: 3s - loss: 0.6808 - accuracy: 0.78 - ETA: 3s - loss: 0.6790 - accuracy: 0.78 - ETA: 3s - loss: 0.6775 - accuracy: 0.78 - ETA: 3s - loss: 0.6759 - accuracy: 0.78 - ETA: 3s - loss: 0.6743 - accuracy: 0.78 - ETA: 3s - loss: 0.6721 - accuracy: 0.78 - ETA: 3s - loss: 0.6702 - accuracy: 0.78 - ETA: 2s - loss: 0.6691 - accuracy: 0.78 - ETA: 2s - loss: 0.6678 - accuracy: 0.78 - ETA: 2s - loss: 0.6668 - accuracy: 0.78 - ETA: 2s - loss: 0.6654 - accuracy: 0.78 - ETA: 2s - loss: 0.6646 - accuracy: 0.78 - ETA: 2s - loss: 0.6633 - accuracy: 0.78 - ETA: 2s - loss: 0.6620 - accuracy: 0.78 - ETA: 2s - loss: 0.6610 - accuracy: 0.78 - ETA: 2s - loss: 0.6594 - accuracy: 0.78 - ETA: 2s - loss: 0.6585 - accuracy: 0.78 - ETA: 2s - loss: 0.6571 - accuracy: 0.78 - ETA: 2s - loss: 0.6554 - accuracy: 0.78 - ETA: 2s - loss: 0.6536 - accuracy: 0.79 - ETA: 2s - loss: 0.6523 - accuracy: 0.79 - ETA: 2s - loss: 0.6508 - accuracy: 0.79 - ETA: 2s - loss: 0.6499 - accuracy: 0.79 - ETA: 2s - loss: 0.6481 - accuracy: 0.79 - ETA: 2s - loss: 0.6471 - accuracy: 0.79 - ETA: 2s - loss: 0.6457 - accuracy: 0.79 - ETA: 1s - loss: 0.6444 - accuracy: 0.79 - ETA: 1s - loss: 0.6431 - accuracy: 0.79 - ETA: 1s - loss: 0.6425 - accuracy: 0.79 - ETA: 1s - loss: 0.6418 - accuracy: 0.79 - ETA: 1s - loss: 0.6409 - accuracy: 0.79 - ETA: 1s - loss: 0.6399 - accuracy: 0.79 - ETA: 1s - loss: 0.6384 - accuracy: 0.79 - ETA: 1s - loss: 0.6373 - accuracy: 0.79 - ETA: 1s - loss: 0.6361 - accuracy: 0.79 - ETA: 1s - loss: 0.6355 - accuracy: 0.79 - ETA: 1s - loss: 0.6345 - accuracy: 0.79 - ETA: 1s - loss: 0.6334 - accuracy: 0.79 - ETA: 1s - loss: 0.6327 - accuracy: 0.79 - ETA: 1s - loss: 0.6320 - accuracy: 0.79 - ETA: 1s - loss: 0.6310 - accuracy: 0.79 - ETA: 1s - loss: 0.6299 - accuracy: 0.79 - ETA: 1s - loss: 0.6290 - accuracy: 0.79 - ETA: 1s - loss: 0.6274 - accuracy: 0.79 - ETA: 1s - loss: 0.6261 - accuracy: 0.79 - ETA: 0s - loss: 0.6249 - accuracy: 0.79 - ETA: 0s - loss: 0.6237 - accuracy: 0.79 - ETA: 0s - loss: 0.6224 - accuracy: 0.79 - ETA: 0s - loss: 0.6221 - accuracy: 0.79 - ETA: 0s - loss: 0.6214 - accuracy: 0.79 - ETA: 0s - loss: 0.6207 - accuracy: 0.79 - ETA: 0s - loss: 0.6199 - accuracy: 0.79 - ETA: 0s - loss: 0.6189 - accuracy: 0.79 - ETA: 0s - loss: 0.6179 - accuracy: 0.79 - ETA: 0s - loss: 0.6168 - accuracy: 0.79 - ETA: 0s - loss: 0.6161 - accuracy: 0.79 - ETA: 0s - loss: 0.6152 - accuracy: 0.80 - ETA: 0s - loss: 0.6148 - accuracy: 0.80 - ETA: 0s - loss: 0.6139 - accuracy: 0.80 - ETA: 0s - loss: 0.6134 - accuracy: 0.80 - ETA: 0s - loss: 0.6123 - accuracy: 0.80 - ETA: 0s - loss: 0.6115 - accuracy: 0.80 - ETA: 0s - loss: 0.6106 - accuracy: 0.80 - ETA: 0s - loss: 0.6098 - accuracy: 0.80 - ETA: 0s - loss: 0.6089 - accuracy: 0.80 - ETA: 0s - loss: 0.6078 - accuracy: 0.80 - 11s 6ms/step - loss: 0.6076 - accuracy: 0.8025 - val_loss: 0.4801 - val_accuracy: 0.8381\n",
      "Epoch 2/2\n"
     ]
    },
    {
     "name": "stdout",
     "output_type": "stream",
     "text": [
      "1385/1875 [=====================>........] - ETA: 0s - loss: 0.5584 - accuracy: 0.81 - ETA: 22s - loss: 0.4694 - accuracy: 0.848 - ETA: 23s - loss: 0.4545 - accuracy: 0.835 - ETA: 27s - loss: 0.4524 - accuracy: 0.843 - ETA: 29s - loss: 0.4431 - accuracy: 0.851 - ETA: 28s - loss: 0.4528 - accuracy: 0.845 - ETA: 25s - loss: 0.4503 - accuracy: 0.842 - ETA: 23s - loss: 0.4608 - accuracy: 0.841 - ETA: 23s - loss: 0.4642 - accuracy: 0.842 - ETA: 22s - loss: 0.4613 - accuracy: 0.846 - ETA: 22s - loss: 0.4706 - accuracy: 0.840 - ETA: 22s - loss: 0.4742 - accuracy: 0.837 - ETA: 21s - loss: 0.4747 - accuracy: 0.837 - ETA: 20s - loss: 0.4752 - accuracy: 0.838 - ETA: 20s - loss: 0.4736 - accuracy: 0.839 - ETA: 20s - loss: 0.4684 - accuracy: 0.842 - ETA: 19s - loss: 0.4650 - accuracy: 0.842 - ETA: 19s - loss: 0.4643 - accuracy: 0.842 - ETA: 19s - loss: 0.4602 - accuracy: 0.843 - ETA: 18s - loss: 0.4573 - accuracy: 0.843 - ETA: 18s - loss: 0.4569 - accuracy: 0.844 - ETA: 18s - loss: 0.4597 - accuracy: 0.842 - ETA: 18s - loss: 0.4571 - accuracy: 0.843 - ETA: 18s - loss: 0.4544 - accuracy: 0.844 - ETA: 18s - loss: 0.4559 - accuracy: 0.844 - ETA: 18s - loss: 0.4560 - accuracy: 0.843 - ETA: 18s - loss: 0.4540 - accuracy: 0.844 - ETA: 18s - loss: 0.4542 - accuracy: 0.844 - ETA: 18s - loss: 0.4530 - accuracy: 0.845 - ETA: 18s - loss: 0.4522 - accuracy: 0.846 - ETA: 18s - loss: 0.4525 - accuracy: 0.846 - ETA: 18s - loss: 0.4517 - accuracy: 0.846 - ETA: 18s - loss: 0.4516 - accuracy: 0.846 - ETA: 18s - loss: 0.4523 - accuracy: 0.846 - ETA: 18s - loss: 0.4511 - accuracy: 0.846 - ETA: 18s - loss: 0.4484 - accuracy: 0.847 - ETA: 18s - loss: 0.4495 - accuracy: 0.847 - ETA: 18s - loss: 0.4545 - accuracy: 0.846 - ETA: 17s - loss: 0.4525 - accuracy: 0.846 - ETA: 17s - loss: 0.4548 - accuracy: 0.845 - ETA: 17s - loss: 0.4571 - accuracy: 0.844 - ETA: 16s - loss: 0.4585 - accuracy: 0.843 - ETA: 16s - loss: 0.4590 - accuracy: 0.843 - ETA: 16s - loss: 0.4587 - accuracy: 0.843 - ETA: 15s - loss: 0.4576 - accuracy: 0.844 - ETA: 15s - loss: 0.4580 - accuracy: 0.844 - ETA: 15s - loss: 0.4597 - accuracy: 0.844 - ETA: 15s - loss: 0.4604 - accuracy: 0.844 - ETA: 14s - loss: 0.4618 - accuracy: 0.843 - ETA: 14s - loss: 0.4603 - accuracy: 0.844 - ETA: 14s - loss: 0.4585 - accuracy: 0.845 - ETA: 14s - loss: 0.4576 - accuracy: 0.845 - ETA: 14s - loss: 0.4579 - accuracy: 0.844 - ETA: 13s - loss: 0.4581 - accuracy: 0.845 - ETA: 13s - loss: 0.4580 - accuracy: 0.845 - ETA: 13s - loss: 0.4582 - accuracy: 0.844 - ETA: 13s - loss: 0.4579 - accuracy: 0.844 - ETA: 13s - loss: 0.4540 - accuracy: 0.846 - ETA: 13s - loss: 0.4547 - accuracy: 0.845 - ETA: 12s - loss: 0.4540 - accuracy: 0.845 - ETA: 12s - loss: 0.4536 - accuracy: 0.845 - ETA: 12s - loss: 0.4527 - accuracy: 0.845 - ETA: 12s - loss: 0.4532 - accuracy: 0.845 - ETA: 12s - loss: 0.4530 - accuracy: 0.844 - ETA: 12s - loss: 0.4529 - accuracy: 0.845 - ETA: 12s - loss: 0.4526 - accuracy: 0.844 - ETA: 12s - loss: 0.4516 - accuracy: 0.845 - ETA: 12s - loss: 0.4509 - accuracy: 0.845 - ETA: 12s - loss: 0.4513 - accuracy: 0.845 - ETA: 12s - loss: 0.4517 - accuracy: 0.844 - ETA: 11s - loss: 0.4514 - accuracy: 0.844 - ETA: 11s - loss: 0.4497 - accuracy: 0.845 - ETA: 11s - loss: 0.4495 - accuracy: 0.845 - ETA: 11s - loss: 0.4494 - accuracy: 0.846 - ETA: 11s - loss: 0.4509 - accuracy: 0.845 - ETA: 11s - loss: 0.4503 - accuracy: 0.846 - ETA: 11s - loss: 0.4494 - accuracy: 0.846 - ETA: 11s - loss: 0.4499 - accuracy: 0.845 - ETA: 11s - loss: 0.4501 - accuracy: 0.845 - ETA: 11s - loss: 0.4495 - accuracy: 0.845 - ETA: 11s - loss: 0.4492 - accuracy: 0.846 - ETA: 10s - loss: 0.4485 - accuracy: 0.846 - ETA: 10s - loss: 0.4476 - accuracy: 0.846 - ETA: 10s - loss: 0.4471 - accuracy: 0.846 - ETA: 10s - loss: 0.4469 - accuracy: 0.847 - ETA: 10s - loss: 0.4475 - accuracy: 0.846 - ETA: 10s - loss: 0.4476 - accuracy: 0.846 - ETA: 10s - loss: 0.4461 - accuracy: 0.847 - ETA: 10s - loss: 0.4457 - accuracy: 0.847 - ETA: 10s - loss: 0.4448 - accuracy: 0.847 - ETA: 10s - loss: 0.4451 - accuracy: 0.847 - ETA: 9s - loss: 0.4451 - accuracy: 0.847 - ETA: 9s - loss: 0.4446 - accuracy: 0.84 - ETA: 9s - loss: 0.4440 - accuracy: 0.84 - ETA: 9s - loss: 0.4441 - accuracy: 0.84 - ETA: 9s - loss: 0.4440 - accuracy: 0.84 - ETA: 9s - loss: 0.4449 - accuracy: 0.84 - ETA: 9s - loss: 0.4451 - accuracy: 0.84 - ETA: 9s - loss: 0.4462 - accuracy: 0.84 - ETA: 9s - loss: 0.4461 - accuracy: 0.84 - ETA: 9s - loss: 0.4455 - accuracy: 0.84 - ETA: 9s - loss: 0.4454 - accuracy: 0.84 - ETA: 9s - loss: 0.4450 - accuracy: 0.84 - ETA: 8s - loss: 0.4453 - accuracy: 0.84 - ETA: 8s - loss: 0.4448 - accuracy: 0.84 - ETA: 8s - loss: 0.4442 - accuracy: 0.84 - ETA: 8s - loss: 0.4456 - accuracy: 0.84 - ETA: 8s - loss: 0.4454 - accuracy: 0.84 - ETA: 8s - loss: 0.4458 - accuracy: 0.84 - ETA: 8s - loss: 0.4460 - accuracy: 0.84 - ETA: 8s - loss: 0.4470 - accuracy: 0.84 - ETA: 8s - loss: 0.4467 - accuracy: 0.84 - ETA: 8s - loss: 0.4462 - accuracy: 0.84 - ETA: 7s - loss: 0.4467 - accuracy: 0.84 - ETA: 7s - loss: 0.4479 - accuracy: 0.84 - ETA: 7s - loss: 0.4478 - accuracy: 0.84 - ETA: 7s - loss: 0.4471 - accuracy: 0.84 - ETA: 7s - loss: 0.4468 - accuracy: 0.84 - ETA: 7s - loss: 0.4462 - accuracy: 0.84 - ETA: 7s - loss: 0.4459 - accuracy: 0.84 - ETA: 7s - loss: 0.4458 - accuracy: 0.84 - ETA: 7s - loss: 0.4453 - accuracy: 0.84 - ETA: 7s - loss: 0.4456 - accuracy: 0.84 - ETA: 7s - loss: 0.4450 - accuracy: 0.84 - ETA: 7s - loss: 0.4455 - accuracy: 0.84 - ETA: 7s - loss: 0.4446 - accuracy: 0.84 - ETA: 7s - loss: 0.4446 - accuracy: 0.84 - ETA: 7s - loss: 0.4445 - accuracy: 0.84 - ETA: 7s - loss: 0.4441 - accuracy: 0.84 - ETA: 7s - loss: 0.4440 - accuracy: 0.84 - ETA: 7s - loss: 0.4440 - accuracy: 0.84 - ETA: 7s - loss: 0.4439 - accuracy: 0.84 - ETA: 7s - loss: 0.4437 - accuracy: 0.84 - ETA: 6s - loss: 0.4440 - accuracy: 0.84 - ETA: 6s - loss: 0.4439 - accuracy: 0.84 - ETA: 6s - loss: 0.4438 - accuracy: 0.84 - ETA: 6s - loss: 0.4433 - accuracy: 0.84 - ETA: 6s - loss: 0.4430 - accuracy: 0.84 - ETA: 6s - loss: 0.4435 - accuracy: 0.84 - ETA: 6s - loss: 0.4428 - accuracy: 0.84 - ETA: 6s - loss: 0.4424 - accuracy: 0.84 - ETA: 6s - loss: 0.4419 - accuracy: 0.84 - ETA: 6s - loss: 0.4419 - accuracy: 0.84 - ETA: 6s - loss: 0.4417 - accuracy: 0.84 - ETA: 6s - loss: 0.4414 - accuracy: 0.84 - ETA: 6s - loss: 0.4416 - accuracy: 0.84 - ETA: 6s - loss: 0.4418 - accuracy: 0.84 - ETA: 6s - loss: 0.4422 - accuracy: 0.84 - ETA: 6s - loss: 0.4415 - accuracy: 0.84 - ETA: 6s - loss: 0.4415 - accuracy: 0.84 - ETA: 6s - loss: 0.4409 - accuracy: 0.84 - ETA: 6s - loss: 0.4410 - accuracy: 0.84 - ETA: 6s - loss: 0.4420 - accuracy: 0.84 - ETA: 6s - loss: 0.4421 - accuracy: 0.84 - ETA: 6s - loss: 0.4420 - accuracy: 0.84 - ETA: 5s - loss: 0.4424 - accuracy: 0.84 - ETA: 5s - loss: 0.4422 - accuracy: 0.84 - ETA: 5s - loss: 0.4419 - accuracy: 0.84 - ETA: 5s - loss: 0.4418 - accuracy: 0.84 - ETA: 5s - loss: 0.4418 - accuracy: 0.84 - ETA: 5s - loss: 0.4421 - accuracy: 0.84 - ETA: 5s - loss: 0.4421 - accuracy: 0.84 - ETA: 5s - loss: 0.4415 - accuracy: 0.84 - ETA: 5s - loss: 0.4413 - accuracy: 0.84 - ETA: 5s - loss: 0.4414 - accuracy: 0.84 - ETA: 5s - loss: 0.4406 - accuracy: 0.84 - ETA: 5s - loss: 0.4404 - accuracy: 0.84 - ETA: 5s - loss: 0.4408 - accuracy: 0.84 - ETA: 5s - loss: 0.4406 - accuracy: 0.84 - ETA: 4s - loss: 0.4408 - accuracy: 0.84 - ETA: 4s - loss: 0.4407 - accuracy: 0.84 - ETA: 4s - loss: 0.4404 - accuracy: 0.84 - ETA: 4s - loss: 0.4405 - accuracy: 0.84 - ETA: 4s - loss: 0.4403 - accuracy: 0.84 - ETA: 4s - loss: 0.4397 - accuracy: 0.84 - ETA: 4s - loss: 0.4396 - accuracy: 0.84 - ETA: 4s - loss: 0.4397 - accuracy: 0.84 - ETA: 4s - loss: 0.4402 - accuracy: 0.84 - ETA: 4s - loss: 0.4395 - accuracy: 0.84 - ETA: 4s - loss: 0.4392 - accuracy: 0.84 - ETA: 4s - loss: 0.4391 - accuracy: 0.84 - ETA: 4s - loss: 0.4392 - accuracy: 0.84 - ETA: 4s - loss: 0.4393 - accuracy: 0.84 - ETA: 4s - loss: 0.4391 - accuracy: 0.84 - ETA: 3s - loss: 0.4392 - accuracy: 0.84 - ETA: 3s - loss: 0.4393 - accuracy: 0.84 - ETA: 3s - loss: 0.4393 - accuracy: 0.84 - ETA: 3s - loss: 0.4393 - accuracy: 0.84 - ETA: 3s - loss: 0.4388 - accuracy: 0.84 - ETA: 3s - loss: 0.4387 - accuracy: 0.8496"
     ]
    },
    {
     "name": "stdout",
     "output_type": "stream",
     "text": [
      "1875/1875 [==============================] - ETA: 3s - loss: 0.4390 - accuracy: 0.84 - ETA: 3s - loss: 0.4385 - accuracy: 0.84 - ETA: 3s - loss: 0.4384 - accuracy: 0.84 - ETA: 3s - loss: 0.4384 - accuracy: 0.84 - ETA: 3s - loss: 0.4382 - accuracy: 0.84 - ETA: 3s - loss: 0.4381 - accuracy: 0.84 - ETA: 3s - loss: 0.4378 - accuracy: 0.85 - ETA: 3s - loss: 0.4376 - accuracy: 0.85 - ETA: 3s - loss: 0.4373 - accuracy: 0.85 - ETA: 2s - loss: 0.4372 - accuracy: 0.85 - ETA: 2s - loss: 0.4368 - accuracy: 0.85 - ETA: 2s - loss: 0.4362 - accuracy: 0.85 - ETA: 2s - loss: 0.4359 - accuracy: 0.85 - ETA: 2s - loss: 0.4362 - accuracy: 0.85 - ETA: 2s - loss: 0.4356 - accuracy: 0.85 - ETA: 2s - loss: 0.4357 - accuracy: 0.85 - ETA: 2s - loss: 0.4359 - accuracy: 0.85 - ETA: 2s - loss: 0.4356 - accuracy: 0.85 - ETA: 2s - loss: 0.4355 - accuracy: 0.85 - ETA: 2s - loss: 0.4353 - accuracy: 0.85 - ETA: 2s - loss: 0.4350 - accuracy: 0.85 - ETA: 2s - loss: 0.4353 - accuracy: 0.85 - ETA: 2s - loss: 0.4348 - accuracy: 0.85 - ETA: 1s - loss: 0.4347 - accuracy: 0.85 - ETA: 1s - loss: 0.4342 - accuracy: 0.85 - ETA: 1s - loss: 0.4342 - accuracy: 0.85 - ETA: 1s - loss: 0.4344 - accuracy: 0.85 - ETA: 1s - loss: 0.4346 - accuracy: 0.85 - ETA: 1s - loss: 0.4346 - accuracy: 0.85 - ETA: 1s - loss: 0.4343 - accuracy: 0.85 - ETA: 1s - loss: 0.4341 - accuracy: 0.85 - ETA: 1s - loss: 0.4337 - accuracy: 0.85 - ETA: 1s - loss: 0.4337 - accuracy: 0.85 - ETA: 1s - loss: 0.4335 - accuracy: 0.85 - ETA: 1s - loss: 0.4333 - accuracy: 0.85 - ETA: 1s - loss: 0.4331 - accuracy: 0.85 - ETA: 1s - loss: 0.4330 - accuracy: 0.85 - ETA: 1s - loss: 0.4332 - accuracy: 0.85 - ETA: 1s - loss: 0.4330 - accuracy: 0.85 - ETA: 0s - loss: 0.4324 - accuracy: 0.85 - ETA: 0s - loss: 0.4322 - accuracy: 0.85 - ETA: 0s - loss: 0.4320 - accuracy: 0.85 - ETA: 0s - loss: 0.4321 - accuracy: 0.85 - ETA: 0s - loss: 0.4323 - accuracy: 0.85 - ETA: 0s - loss: 0.4327 - accuracy: 0.85 - ETA: 0s - loss: 0.4325 - accuracy: 0.85 - ETA: 0s - loss: 0.4324 - accuracy: 0.85 - ETA: 0s - loss: 0.4322 - accuracy: 0.85 - ETA: 0s - loss: 0.4321 - accuracy: 0.85 - ETA: 0s - loss: 0.4324 - accuracy: 0.85 - ETA: 0s - loss: 0.4320 - accuracy: 0.85 - ETA: 0s - loss: 0.4318 - accuracy: 0.85 - ETA: 0s - loss: 0.4318 - accuracy: 0.85 - ETA: 0s - loss: 0.4318 - accuracy: 0.85 - ETA: 0s - loss: 0.4318 - accuracy: 0.85 - 14s 7ms/step - loss: 0.4317 - accuracy: 0.8520 - val_loss: 0.4340 - val_accuracy: 0.8493\n"
     ]
    },
    {
     "data": {
      "text/html": [
       "<span style=\"color:#4527A0\"><h1 style=\"font-size:18px\">Trial complete</h1></span>"
      ],
      "text/plain": [
       "<IPython.core.display.HTML object>"
      ]
     },
     "metadata": {},
     "output_type": "display_data"
    },
    {
     "data": {
      "text/html": [
       "<span style=\"color:#4527A0\"><h1 style=\"font-size:18px\">Trial summary</h1></span>"
      ],
      "text/plain": [
       "<IPython.core.display.HTML object>"
      ]
     },
     "metadata": {},
     "output_type": "display_data"
    },
    {
     "data": {
      "text/html": [
       "<span style=\"color:cyan\"> |-Trial ID: 40ff066adfd2352ec6a8a843f227b2bb</span>"
      ],
      "text/plain": [
       "<IPython.core.display.HTML object>"
      ]
     },
     "metadata": {},
     "output_type": "display_data"
    },
    {
     "data": {
      "text/html": [
       "<span style=\"color:cyan\"> |-Score: 0.8493000268936157</span>"
      ],
      "text/plain": [
       "<IPython.core.display.HTML object>"
      ]
     },
     "metadata": {},
     "output_type": "display_data"
    },
    {
     "data": {
      "text/html": [
       "<span style=\"color:cyan\"> |-Best step: 0</span>"
      ],
      "text/plain": [
       "<IPython.core.display.HTML object>"
      ]
     },
     "metadata": {},
     "output_type": "display_data"
    },
    {
     "data": {
      "text/html": [
       "<span style=\"color:#7E57C2\"><h2 style=\"font-size:16px\">Hyperparameters:</h2></span>"
      ],
      "text/plain": [
       "<IPython.core.display.HTML object>"
      ]
     },
     "metadata": {},
     "output_type": "display_data"
    },
    {
     "data": {
      "text/html": [
       "<span style=\"color:cyan\"> |-learning_rate: 0.0001</span>"
      ],
      "text/plain": [
       "<IPython.core.display.HTML object>"
      ]
     },
     "metadata": {},
     "output_type": "display_data"
    },
    {
     "data": {
      "text/html": [
       "<span style=\"color:blue\"> |-tuner/bracket: 2</span>"
      ],
      "text/plain": [
       "<IPython.core.display.HTML object>"
      ]
     },
     "metadata": {},
     "output_type": "display_data"
    },
    {
     "data": {
      "text/html": [
       "<span style=\"color:cyan\"> |-tuner/epochs: 2</span>"
      ],
      "text/plain": [
       "<IPython.core.display.HTML object>"
      ]
     },
     "metadata": {},
     "output_type": "display_data"
    },
    {
     "data": {
      "text/html": [
       "<span style=\"color:blue\"> |-tuner/initial_epoch: 0</span>"
      ],
      "text/plain": [
       "<IPython.core.display.HTML object>"
      ]
     },
     "metadata": {},
     "output_type": "display_data"
    },
    {
     "data": {
      "text/html": [
       "<span style=\"color:cyan\"> |-tuner/round: 0</span>"
      ],
      "text/plain": [
       "<IPython.core.display.HTML object>"
      ]
     },
     "metadata": {},
     "output_type": "display_data"
    },
    {
     "data": {
      "text/html": [
       "<span style=\"color:blue\"> |-units: 384</span>"
      ],
      "text/plain": [
       "<IPython.core.display.HTML object>"
      ]
     },
     "metadata": {},
     "output_type": "display_data"
    },
    {
     "name": "stdout",
     "output_type": "stream",
     "text": [
      "Epoch 1/2\n",
      "   2/1875 [..............................] - ETA: 0s - loss: 2.6655 - accuracy: 0.09 - ETA: 12:58 - loss: 2.4967 - accuracy: 0.1094WARNING:tensorflow:Method (on_train_batch_end) is slow compared to the batch update (0.420996). Check your callbacks.\n",
      "1875/1875 [==============================] - ETA: 1:31 - loss: 2.4113 - accuracy: 0.145 - ETA: 49s - loss: 2.3022 - accuracy: 0.1937 - ETA: 35s - loss: 2.2222 - accuracy: 0.221 - ETA: 28s - loss: 2.1411 - accuracy: 0.261 - ETA: 23s - loss: 2.0714 - accuracy: 0.294 - ETA: 20s - loss: 2.0087 - accuracy: 0.324 - ETA: 18s - loss: 1.9403 - accuracy: 0.361 - ETA: 17s - loss: 1.8886 - accuracy: 0.388 - ETA: 16s - loss: 1.8381 - accuracy: 0.407 - ETA: 14s - loss: 1.7816 - accuracy: 0.433 - ETA: 13s - loss: 1.7306 - accuracy: 0.455 - ETA: 12s - loss: 1.6809 - accuracy: 0.477 - ETA: 12s - loss: 1.6363 - accuracy: 0.494 - ETA: 11s - loss: 1.5973 - accuracy: 0.507 - ETA: 10s - loss: 1.5605 - accuracy: 0.519 - ETA: 10s - loss: 1.5329 - accuracy: 0.530 - ETA: 10s - loss: 1.5041 - accuracy: 0.540 - ETA: 9s - loss: 1.4798 - accuracy: 0.549 - ETA: 9s - loss: 1.4584 - accuracy: 0.55 - ETA: 9s - loss: 1.4476 - accuracy: 0.55 - ETA: 9s - loss: 1.4365 - accuracy: 0.56 - ETA: 9s - loss: 1.4192 - accuracy: 0.56 - ETA: 9s - loss: 1.3977 - accuracy: 0.57 - ETA: 8s - loss: 1.3786 - accuracy: 0.58 - ETA: 8s - loss: 1.3641 - accuracy: 0.58 - ETA: 8s - loss: 1.3488 - accuracy: 0.58 - ETA: 8s - loss: 1.3360 - accuracy: 0.59 - ETA: 8s - loss: 1.3203 - accuracy: 0.59 - ETA: 7s - loss: 1.3041 - accuracy: 0.60 - ETA: 7s - loss: 1.2871 - accuracy: 0.60 - ETA: 7s - loss: 1.2714 - accuracy: 0.61 - ETA: 7s - loss: 1.2555 - accuracy: 0.61 - ETA: 7s - loss: 1.2431 - accuracy: 0.61 - ETA: 7s - loss: 1.2316 - accuracy: 0.62 - ETA: 6s - loss: 1.2187 - accuracy: 0.62 - ETA: 6s - loss: 1.2074 - accuracy: 0.63 - ETA: 6s - loss: 1.1976 - accuracy: 0.63 - ETA: 6s - loss: 1.1894 - accuracy: 0.63 - ETA: 6s - loss: 1.1797 - accuracy: 0.63 - ETA: 6s - loss: 1.1721 - accuracy: 0.64 - ETA: 6s - loss: 1.1633 - accuracy: 0.64 - ETA: 6s - loss: 1.1537 - accuracy: 0.64 - ETA: 6s - loss: 1.1436 - accuracy: 0.64 - ETA: 6s - loss: 1.1364 - accuracy: 0.65 - ETA: 6s - loss: 1.1291 - accuracy: 0.65 - ETA: 5s - loss: 1.1204 - accuracy: 0.65 - ETA: 5s - loss: 1.1148 - accuracy: 0.65 - ETA: 5s - loss: 1.1062 - accuracy: 0.65 - ETA: 5s - loss: 1.0987 - accuracy: 0.66 - ETA: 5s - loss: 1.0923 - accuracy: 0.66 - ETA: 5s - loss: 1.0855 - accuracy: 0.66 - ETA: 5s - loss: 1.0787 - accuracy: 0.66 - ETA: 5s - loss: 1.0720 - accuracy: 0.66 - ETA: 5s - loss: 1.0653 - accuracy: 0.66 - ETA: 5s - loss: 1.0586 - accuracy: 0.67 - ETA: 5s - loss: 1.0566 - accuracy: 0.67 - ETA: 5s - loss: 1.0506 - accuracy: 0.67 - ETA: 5s - loss: 1.0452 - accuracy: 0.67 - ETA: 4s - loss: 1.0411 - accuracy: 0.67 - ETA: 4s - loss: 1.0352 - accuracy: 0.67 - ETA: 4s - loss: 1.0299 - accuracy: 0.67 - ETA: 4s - loss: 1.0245 - accuracy: 0.68 - ETA: 4s - loss: 1.0192 - accuracy: 0.68 - ETA: 4s - loss: 1.0139 - accuracy: 0.68 - ETA: 4s - loss: 1.0084 - accuracy: 0.68 - ETA: 4s - loss: 1.0030 - accuracy: 0.68 - ETA: 4s - loss: 0.9982 - accuracy: 0.68 - ETA: 4s - loss: 0.9929 - accuracy: 0.68 - ETA: 4s - loss: 0.9886 - accuracy: 0.69 - ETA: 4s - loss: 0.9844 - accuracy: 0.69 - ETA: 4s - loss: 0.9802 - accuracy: 0.69 - ETA: 3s - loss: 0.9763 - accuracy: 0.69 - ETA: 3s - loss: 0.9722 - accuracy: 0.69 - ETA: 3s - loss: 0.9668 - accuracy: 0.69 - ETA: 3s - loss: 0.9628 - accuracy: 0.69 - ETA: 3s - loss: 0.9588 - accuracy: 0.69 - ETA: 3s - loss: 0.9547 - accuracy: 0.69 - ETA: 3s - loss: 0.9504 - accuracy: 0.70 - ETA: 3s - loss: 0.9457 - accuracy: 0.70 - ETA: 3s - loss: 0.9425 - accuracy: 0.70 - ETA: 3s - loss: 0.9390 - accuracy: 0.70 - ETA: 3s - loss: 0.9362 - accuracy: 0.70 - ETA: 3s - loss: 0.9327 - accuracy: 0.70 - ETA: 3s - loss: 0.9282 - accuracy: 0.70 - ETA: 3s - loss: 0.9238 - accuracy: 0.70 - ETA: 2s - loss: 0.9196 - accuracy: 0.71 - ETA: 2s - loss: 0.9165 - accuracy: 0.71 - ETA: 2s - loss: 0.9130 - accuracy: 0.71 - ETA: 2s - loss: 0.9095 - accuracy: 0.71 - ETA: 2s - loss: 0.9062 - accuracy: 0.71 - ETA: 2s - loss: 0.9033 - accuracy: 0.71 - ETA: 2s - loss: 0.9008 - accuracy: 0.71 - ETA: 2s - loss: 0.8974 - accuracy: 0.71 - ETA: 2s - loss: 0.8939 - accuracy: 0.71 - ETA: 2s - loss: 0.8904 - accuracy: 0.71 - ETA: 2s - loss: 0.8877 - accuracy: 0.72 - ETA: 2s - loss: 0.8838 - accuracy: 0.72 - ETA: 2s - loss: 0.8801 - accuracy: 0.72 - ETA: 1s - loss: 0.8764 - accuracy: 0.72 - ETA: 1s - loss: 0.8728 - accuracy: 0.72 - ETA: 1s - loss: 0.8696 - accuracy: 0.72 - ETA: 1s - loss: 0.8665 - accuracy: 0.72 - ETA: 1s - loss: 0.8632 - accuracy: 0.72 - ETA: 1s - loss: 0.8593 - accuracy: 0.72 - ETA: 1s - loss: 0.8563 - accuracy: 0.72 - ETA: 1s - loss: 0.8530 - accuracy: 0.73 - ETA: 1s - loss: 0.8501 - accuracy: 0.73 - ETA: 1s - loss: 0.8467 - accuracy: 0.73 - ETA: 1s - loss: 0.8445 - accuracy: 0.73 - ETA: 1s - loss: 0.8413 - accuracy: 0.73 - ETA: 1s - loss: 0.8385 - accuracy: 0.73 - ETA: 0s - loss: 0.8359 - accuracy: 0.73 - ETA: 0s - loss: 0.8335 - accuracy: 0.73 - ETA: 0s - loss: 0.8308 - accuracy: 0.73 - ETA: 0s - loss: 0.8280 - accuracy: 0.73 - ETA: 0s - loss: 0.8250 - accuracy: 0.73 - ETA: 0s - loss: 0.8225 - accuracy: 0.73 - ETA: 0s - loss: 0.8201 - accuracy: 0.73 - ETA: 0s - loss: 0.8179 - accuracy: 0.74 - ETA: 0s - loss: 0.8151 - accuracy: 0.74 - ETA: 0s - loss: 0.8123 - accuracy: 0.74 - ETA: 0s - loss: 0.8101 - accuracy: 0.74 - ETA: 0s - loss: 0.8074 - accuracy: 0.74 - ETA: 0s - loss: 0.8051 - accuracy: 0.74 - 8s 4ms/step - loss: 0.8027 - accuracy: 0.7446 - val_loss: 0.5779 - val_accuracy: 0.8089\n",
      "Epoch 2/2\n"
     ]
    },
    {
     "name": "stdout",
     "output_type": "stream",
     "text": [
      "1875/1875 [==============================] - ETA: 0s - loss: 0.5195 - accuracy: 0.84 - ETA: 6s - loss: 0.5322 - accuracy: 0.83 - ETA: 6s - loss: 0.5576 - accuracy: 0.81 - ETA: 6s - loss: 0.5452 - accuracy: 0.81 - ETA: 6s - loss: 0.5308 - accuracy: 0.82 - ETA: 6s - loss: 0.5416 - accuracy: 0.81 - ETA: 6s - loss: 0.5489 - accuracy: 0.81 - ETA: 6s - loss: 0.5516 - accuracy: 0.81 - ETA: 6s - loss: 0.5515 - accuracy: 0.81 - ETA: 6s - loss: 0.5586 - accuracy: 0.81 - ETA: 6s - loss: 0.5569 - accuracy: 0.81 - ETA: 5s - loss: 0.5531 - accuracy: 0.81 - ETA: 5s - loss: 0.5536 - accuracy: 0.81 - ETA: 5s - loss: 0.5518 - accuracy: 0.81 - ETA: 5s - loss: 0.5530 - accuracy: 0.81 - ETA: 5s - loss: 0.5511 - accuracy: 0.81 - ETA: 5s - loss: 0.5529 - accuracy: 0.81 - ETA: 5s - loss: 0.5542 - accuracy: 0.81 - ETA: 5s - loss: 0.5543 - accuracy: 0.81 - ETA: 5s - loss: 0.5531 - accuracy: 0.81 - ETA: 5s - loss: 0.5511 - accuracy: 0.81 - ETA: 5s - loss: 0.5525 - accuracy: 0.81 - ETA: 5s - loss: 0.5529 - accuracy: 0.81 - ETA: 5s - loss: 0.5510 - accuracy: 0.81 - ETA: 5s - loss: 0.5512 - accuracy: 0.81 - ETA: 5s - loss: 0.5511 - accuracy: 0.81 - ETA: 5s - loss: 0.5505 - accuracy: 0.81 - ETA: 5s - loss: 0.5501 - accuracy: 0.81 - ETA: 5s - loss: 0.5494 - accuracy: 0.81 - ETA: 5s - loss: 0.5498 - accuracy: 0.81 - ETA: 5s - loss: 0.5486 - accuracy: 0.81 - ETA: 5s - loss: 0.5494 - accuracy: 0.81 - ETA: 5s - loss: 0.5482 - accuracy: 0.81 - ETA: 5s - loss: 0.5480 - accuracy: 0.81 - ETA: 5s - loss: 0.5455 - accuracy: 0.81 - ETA: 5s - loss: 0.5464 - accuracy: 0.81 - ETA: 5s - loss: 0.5467 - accuracy: 0.81 - ETA: 5s - loss: 0.5449 - accuracy: 0.81 - ETA: 5s - loss: 0.5441 - accuracy: 0.81 - ETA: 5s - loss: 0.5421 - accuracy: 0.82 - ETA: 5s - loss: 0.5416 - accuracy: 0.82 - ETA: 5s - loss: 0.5417 - accuracy: 0.82 - ETA: 5s - loss: 0.5400 - accuracy: 0.82 - ETA: 5s - loss: 0.5399 - accuracy: 0.82 - ETA: 5s - loss: 0.5392 - accuracy: 0.82 - ETA: 5s - loss: 0.5363 - accuracy: 0.82 - ETA: 5s - loss: 0.5365 - accuracy: 0.82 - ETA: 5s - loss: 0.5357 - accuracy: 0.82 - ETA: 5s - loss: 0.5345 - accuracy: 0.82 - ETA: 4s - loss: 0.5345 - accuracy: 0.82 - ETA: 4s - loss: 0.5363 - accuracy: 0.82 - ETA: 4s - loss: 0.5357 - accuracy: 0.82 - ETA: 4s - loss: 0.5353 - accuracy: 0.82 - ETA: 4s - loss: 0.5350 - accuracy: 0.82 - ETA: 4s - loss: 0.5348 - accuracy: 0.82 - ETA: 4s - loss: 0.5336 - accuracy: 0.82 - ETA: 4s - loss: 0.5334 - accuracy: 0.82 - ETA: 4s - loss: 0.5345 - accuracy: 0.82 - ETA: 4s - loss: 0.5339 - accuracy: 0.82 - ETA: 4s - loss: 0.5332 - accuracy: 0.82 - ETA: 4s - loss: 0.5320 - accuracy: 0.82 - ETA: 4s - loss: 0.5315 - accuracy: 0.82 - ETA: 4s - loss: 0.5309 - accuracy: 0.82 - ETA: 4s - loss: 0.5303 - accuracy: 0.82 - ETA: 4s - loss: 0.5305 - accuracy: 0.82 - ETA: 4s - loss: 0.5299 - accuracy: 0.82 - ETA: 4s - loss: 0.5296 - accuracy: 0.82 - ETA: 4s - loss: 0.5294 - accuracy: 0.82 - ETA: 4s - loss: 0.5293 - accuracy: 0.82 - ETA: 4s - loss: 0.5303 - accuracy: 0.82 - ETA: 4s - loss: 0.5294 - accuracy: 0.82 - ETA: 4s - loss: 0.5286 - accuracy: 0.82 - ETA: 4s - loss: 0.5283 - accuracy: 0.82 - ETA: 4s - loss: 0.5283 - accuracy: 0.82 - ETA: 4s - loss: 0.5288 - accuracy: 0.82 - ETA: 4s - loss: 0.5281 - accuracy: 0.82 - ETA: 4s - loss: 0.5275 - accuracy: 0.82 - ETA: 4s - loss: 0.5268 - accuracy: 0.82 - ETA: 4s - loss: 0.5273 - accuracy: 0.82 - ETA: 4s - loss: 0.5266 - accuracy: 0.82 - ETA: 3s - loss: 0.5272 - accuracy: 0.82 - ETA: 3s - loss: 0.5268 - accuracy: 0.82 - ETA: 3s - loss: 0.5266 - accuracy: 0.82 - ETA: 3s - loss: 0.5252 - accuracy: 0.82 - ETA: 3s - loss: 0.5248 - accuracy: 0.82 - ETA: 3s - loss: 0.5253 - accuracy: 0.82 - ETA: 3s - loss: 0.5250 - accuracy: 0.82 - ETA: 3s - loss: 0.5247 - accuracy: 0.82 - ETA: 3s - loss: 0.5241 - accuracy: 0.82 - ETA: 3s - loss: 0.5243 - accuracy: 0.82 - ETA: 3s - loss: 0.5251 - accuracy: 0.82 - ETA: 3s - loss: 0.5243 - accuracy: 0.82 - ETA: 3s - loss: 0.5244 - accuracy: 0.82 - ETA: 3s - loss: 0.5242 - accuracy: 0.82 - ETA: 3s - loss: 0.5242 - accuracy: 0.82 - ETA: 3s - loss: 0.5243 - accuracy: 0.82 - ETA: 3s - loss: 0.5234 - accuracy: 0.82 - ETA: 3s - loss: 0.5229 - accuracy: 0.82 - ETA: 3s - loss: 0.5224 - accuracy: 0.82 - ETA: 3s - loss: 0.5216 - accuracy: 0.82 - ETA: 3s - loss: 0.5220 - accuracy: 0.82 - ETA: 2s - loss: 0.5222 - accuracy: 0.82 - ETA: 2s - loss: 0.5220 - accuracy: 0.82 - ETA: 2s - loss: 0.5228 - accuracy: 0.82 - ETA: 2s - loss: 0.5226 - accuracy: 0.82 - ETA: 2s - loss: 0.5228 - accuracy: 0.82 - ETA: 2s - loss: 0.5222 - accuracy: 0.82 - ETA: 2s - loss: 0.5217 - accuracy: 0.82 - ETA: 2s - loss: 0.5215 - accuracy: 0.82 - ETA: 2s - loss: 0.5206 - accuracy: 0.82 - ETA: 2s - loss: 0.5207 - accuracy: 0.82 - ETA: 2s - loss: 0.5201 - accuracy: 0.82 - ETA: 2s - loss: 0.5203 - accuracy: 0.82 - ETA: 2s - loss: 0.5199 - accuracy: 0.82 - ETA: 2s - loss: 0.5191 - accuracy: 0.82 - ETA: 1s - loss: 0.5184 - accuracy: 0.82 - ETA: 1s - loss: 0.5180 - accuracy: 0.82 - ETA: 1s - loss: 0.5177 - accuracy: 0.82 - ETA: 1s - loss: 0.5179 - accuracy: 0.82 - ETA: 1s - loss: 0.5176 - accuracy: 0.82 - ETA: 1s - loss: 0.5172 - accuracy: 0.82 - ETA: 1s - loss: 0.5172 - accuracy: 0.82 - ETA: 1s - loss: 0.5176 - accuracy: 0.82 - ETA: 1s - loss: 0.5172 - accuracy: 0.82 - ETA: 1s - loss: 0.5167 - accuracy: 0.82 - ETA: 1s - loss: 0.5169 - accuracy: 0.82 - ETA: 1s - loss: 0.5173 - accuracy: 0.82 - ETA: 1s - loss: 0.5174 - accuracy: 0.82 - ETA: 1s - loss: 0.5177 - accuracy: 0.82 - ETA: 1s - loss: 0.5172 - accuracy: 0.82 - ETA: 1s - loss: 0.5170 - accuracy: 0.82 - ETA: 1s - loss: 0.5166 - accuracy: 0.82 - ETA: 1s - loss: 0.5167 - accuracy: 0.82 - ETA: 0s - loss: 0.5171 - accuracy: 0.82 - ETA: 0s - loss: 0.5166 - accuracy: 0.82 - ETA: 0s - loss: 0.5159 - accuracy: 0.82 - ETA: 0s - loss: 0.5152 - accuracy: 0.82 - ETA: 0s - loss: 0.5146 - accuracy: 0.82 - ETA: 0s - loss: 0.5142 - accuracy: 0.82 - ETA: 0s - loss: 0.5140 - accuracy: 0.82 - ETA: 0s - loss: 0.5139 - accuracy: 0.82 - ETA: 0s - loss: 0.5134 - accuracy: 0.82 - ETA: 0s - loss: 0.5134 - accuracy: 0.82 - ETA: 0s - loss: 0.5131 - accuracy: 0.82 - ETA: 0s - loss: 0.5126 - accuracy: 0.82 - ETA: 0s - loss: 0.5122 - accuracy: 0.82 - ETA: 0s - loss: 0.5117 - accuracy: 0.82 - ETA: 0s - loss: 0.5112 - accuracy: 0.82 - ETA: 0s - loss: 0.5109 - accuracy: 0.82 - 9s 5ms/step - loss: 0.5109 - accuracy: 0.8282 - val_loss: 0.5035 - val_accuracy: 0.8295\n"
     ]
    },
    {
     "data": {
      "text/html": [
       "<span style=\"color:#4527A0\"><h1 style=\"font-size:18px\">Trial complete</h1></span>"
      ],
      "text/plain": [
       "<IPython.core.display.HTML object>"
      ]
     },
     "metadata": {},
     "output_type": "display_data"
    },
    {
     "data": {
      "text/html": [
       "<span style=\"color:#4527A0\"><h1 style=\"font-size:18px\">Trial summary</h1></span>"
      ],
      "text/plain": [
       "<IPython.core.display.HTML object>"
      ]
     },
     "metadata": {},
     "output_type": "display_data"
    },
    {
     "data": {
      "text/html": [
       "<span style=\"color:cyan\"> |-Trial ID: 376c123eb3b6de2ae9d641673cb5f897</span>"
      ],
      "text/plain": [
       "<IPython.core.display.HTML object>"
      ]
     },
     "metadata": {},
     "output_type": "display_data"
    },
    {
     "data": {
      "text/html": [
       "<span style=\"color:cyan\"> |-Score: 0.8295000195503235</span>"
      ],
      "text/plain": [
       "<IPython.core.display.HTML object>"
      ]
     },
     "metadata": {},
     "output_type": "display_data"
    },
    {
     "data": {
      "text/html": [
       "<span style=\"color:cyan\"> |-Best step: 0</span>"
      ],
      "text/plain": [
       "<IPython.core.display.HTML object>"
      ]
     },
     "metadata": {},
     "output_type": "display_data"
    },
    {
     "data": {
      "text/html": [
       "<span style=\"color:#7E57C2\"><h2 style=\"font-size:16px\">Hyperparameters:</h2></span>"
      ],
      "text/plain": [
       "<IPython.core.display.HTML object>"
      ]
     },
     "metadata": {},
     "output_type": "display_data"
    },
    {
     "data": {
      "text/html": [
       "<span style=\"color:cyan\"> |-learning_rate: 0.0001</span>"
      ],
      "text/plain": [
       "<IPython.core.display.HTML object>"
      ]
     },
     "metadata": {},
     "output_type": "display_data"
    },
    {
     "data": {
      "text/html": [
       "<span style=\"color:blue\"> |-tuner/bracket: 2</span>"
      ],
      "text/plain": [
       "<IPython.core.display.HTML object>"
      ]
     },
     "metadata": {},
     "output_type": "display_data"
    },
    {
     "data": {
      "text/html": [
       "<span style=\"color:cyan\"> |-tuner/epochs: 2</span>"
      ],
      "text/plain": [
       "<IPython.core.display.HTML object>"
      ]
     },
     "metadata": {},
     "output_type": "display_data"
    },
    {
     "data": {
      "text/html": [
       "<span style=\"color:blue\"> |-tuner/initial_epoch: 0</span>"
      ],
      "text/plain": [
       "<IPython.core.display.HTML object>"
      ]
     },
     "metadata": {},
     "output_type": "display_data"
    },
    {
     "data": {
      "text/html": [
       "<span style=\"color:cyan\"> |-tuner/round: 0</span>"
      ],
      "text/plain": [
       "<IPython.core.display.HTML object>"
      ]
     },
     "metadata": {},
     "output_type": "display_data"
    },
    {
     "data": {
      "text/html": [
       "<span style=\"color:blue\"> |-units: 64</span>"
      ],
      "text/plain": [
       "<IPython.core.display.HTML object>"
      ]
     },
     "metadata": {},
     "output_type": "display_data"
    },
    {
     "name": "stdout",
     "output_type": "stream",
     "text": [
      "Epoch 3/4\n",
      "   2/1875 [..............................] - ETA: 0s - loss: 2.3357 - accuracy: 0.12 - ETA: 15:34 - loss: 2.3103 - accuracy: 0.1719WARNING:tensorflow:Method (on_train_batch_end) is slow compared to the batch update (0.501159). Check your callbacks.\n"
     ]
    },
    {
     "name": "stdout",
     "output_type": "stream",
     "text": [
      "1632/1875 [=========================>....] - ETA: 3:38 - loss: 1.6471 - accuracy: 0.451 - ETA: 2:00 - loss: 1.4946 - accuracy: 0.50 - ETA: 1:29 - loss: 1.3666 - accuracy: 0.54 - ETA: 1:14 - loss: 1.2716 - accuracy: 0.56 - ETA: 1:06 - loss: 1.2068 - accuracy: 0.58 - ETA: 59s - loss: 1.1358 - accuracy: 0.5998 - ETA: 53s - loss: 1.0893 - accuracy: 0.613 - ETA: 49s - loss: 1.0341 - accuracy: 0.631 - ETA: 45s - loss: 1.0004 - accuracy: 0.644 - ETA: 42s - loss: 0.9655 - accuracy: 0.658 - ETA: 40s - loss: 0.9387 - accuracy: 0.669 - ETA: 38s - loss: 0.9264 - accuracy: 0.674 - ETA: 37s - loss: 0.9153 - accuracy: 0.676 - ETA: 35s - loss: 0.8986 - accuracy: 0.682 - ETA: 34s - loss: 0.8916 - accuracy: 0.687 - ETA: 33s - loss: 0.8731 - accuracy: 0.693 - ETA: 33s - loss: 0.8640 - accuracy: 0.697 - ETA: 34s - loss: 0.8608 - accuracy: 0.699 - ETA: 34s - loss: 0.8573 - accuracy: 0.700 - ETA: 34s - loss: 0.8512 - accuracy: 0.703 - ETA: 34s - loss: 0.8444 - accuracy: 0.706 - ETA: 34s - loss: 0.8392 - accuracy: 0.705 - ETA: 33s - loss: 0.8278 - accuracy: 0.710 - ETA: 32s - loss: 0.8152 - accuracy: 0.715 - ETA: 31s - loss: 0.8107 - accuracy: 0.717 - ETA: 31s - loss: 0.8043 - accuracy: 0.719 - ETA: 30s - loss: 0.8028 - accuracy: 0.720 - ETA: 30s - loss: 0.7880 - accuracy: 0.725 - ETA: 29s - loss: 0.7846 - accuracy: 0.726 - ETA: 29s - loss: 0.7807 - accuracy: 0.727 - ETA: 28s - loss: 0.7745 - accuracy: 0.729 - ETA: 27s - loss: 0.7664 - accuracy: 0.732 - ETA: 27s - loss: 0.7610 - accuracy: 0.735 - ETA: 26s - loss: 0.7567 - accuracy: 0.736 - ETA: 26s - loss: 0.7475 - accuracy: 0.738 - ETA: 25s - loss: 0.7443 - accuracy: 0.740 - ETA: 25s - loss: 0.7395 - accuracy: 0.742 - ETA: 25s - loss: 0.7364 - accuracy: 0.742 - ETA: 24s - loss: 0.7325 - accuracy: 0.743 - ETA: 24s - loss: 0.7309 - accuracy: 0.744 - ETA: 24s - loss: 0.7261 - accuracy: 0.746 - ETA: 23s - loss: 0.7209 - accuracy: 0.748 - ETA: 23s - loss: 0.7153 - accuracy: 0.750 - ETA: 22s - loss: 0.7110 - accuracy: 0.752 - ETA: 22s - loss: 0.7035 - accuracy: 0.755 - ETA: 22s - loss: 0.6983 - accuracy: 0.758 - ETA: 21s - loss: 0.6973 - accuracy: 0.757 - ETA: 21s - loss: 0.6943 - accuracy: 0.759 - ETA: 20s - loss: 0.6891 - accuracy: 0.760 - ETA: 20s - loss: 0.6851 - accuracy: 0.761 - ETA: 20s - loss: 0.6815 - accuracy: 0.762 - ETA: 19s - loss: 0.6773 - accuracy: 0.764 - ETA: 19s - loss: 0.6751 - accuracy: 0.764 - ETA: 19s - loss: 0.6738 - accuracy: 0.765 - ETA: 19s - loss: 0.6729 - accuracy: 0.765 - ETA: 18s - loss: 0.6709 - accuracy: 0.765 - ETA: 18s - loss: 0.6678 - accuracy: 0.766 - ETA: 18s - loss: 0.6647 - accuracy: 0.767 - ETA: 17s - loss: 0.6641 - accuracy: 0.768 - ETA: 17s - loss: 0.6586 - accuracy: 0.770 - ETA: 17s - loss: 0.6551 - accuracy: 0.771 - ETA: 17s - loss: 0.6517 - accuracy: 0.772 - ETA: 17s - loss: 0.6475 - accuracy: 0.773 - ETA: 16s - loss: 0.6444 - accuracy: 0.774 - ETA: 16s - loss: 0.6428 - accuracy: 0.774 - ETA: 16s - loss: 0.6401 - accuracy: 0.775 - ETA: 16s - loss: 0.6378 - accuracy: 0.776 - ETA: 15s - loss: 0.6369 - accuracy: 0.777 - ETA: 15s - loss: 0.6336 - accuracy: 0.778 - ETA: 15s - loss: 0.6303 - accuracy: 0.780 - ETA: 15s - loss: 0.6279 - accuracy: 0.781 - ETA: 15s - loss: 0.6254 - accuracy: 0.782 - ETA: 14s - loss: 0.6229 - accuracy: 0.783 - ETA: 14s - loss: 0.6222 - accuracy: 0.783 - ETA: 14s - loss: 0.6206 - accuracy: 0.783 - ETA: 14s - loss: 0.6195 - accuracy: 0.784 - ETA: 14s - loss: 0.6161 - accuracy: 0.785 - ETA: 13s - loss: 0.6135 - accuracy: 0.785 - ETA: 13s - loss: 0.6112 - accuracy: 0.786 - ETA: 13s - loss: 0.6081 - accuracy: 0.787 - ETA: 13s - loss: 0.6067 - accuracy: 0.788 - ETA: 13s - loss: 0.6038 - accuracy: 0.788 - ETA: 13s - loss: 0.6034 - accuracy: 0.788 - ETA: 12s - loss: 0.6023 - accuracy: 0.788 - ETA: 12s - loss: 0.5999 - accuracy: 0.789 - ETA: 12s - loss: 0.5973 - accuracy: 0.790 - ETA: 12s - loss: 0.5964 - accuracy: 0.790 - ETA: 12s - loss: 0.5948 - accuracy: 0.790 - ETA: 12s - loss: 0.5938 - accuracy: 0.791 - ETA: 12s - loss: 0.5915 - accuracy: 0.792 - ETA: 11s - loss: 0.5911 - accuracy: 0.792 - ETA: 11s - loss: 0.5898 - accuracy: 0.792 - ETA: 11s - loss: 0.5870 - accuracy: 0.793 - ETA: 11s - loss: 0.5857 - accuracy: 0.794 - ETA: 11s - loss: 0.5847 - accuracy: 0.794 - ETA: 11s - loss: 0.5835 - accuracy: 0.795 - ETA: 11s - loss: 0.5808 - accuracy: 0.796 - ETA: 11s - loss: 0.5799 - accuracy: 0.796 - ETA: 10s - loss: 0.5785 - accuracy: 0.796 - ETA: 10s - loss: 0.5769 - accuracy: 0.796 - ETA: 10s - loss: 0.5745 - accuracy: 0.797 - ETA: 10s - loss: 0.5724 - accuracy: 0.798 - ETA: 10s - loss: 0.5707 - accuracy: 0.798 - ETA: 10s - loss: 0.5680 - accuracy: 0.799 - ETA: 10s - loss: 0.5669 - accuracy: 0.799 - ETA: 10s - loss: 0.5661 - accuracy: 0.799 - ETA: 9s - loss: 0.5646 - accuracy: 0.800 - ETA: 9s - loss: 0.5640 - accuracy: 0.80 - ETA: 9s - loss: 0.5626 - accuracy: 0.80 - ETA: 9s - loss: 0.5606 - accuracy: 0.80 - ETA: 9s - loss: 0.5598 - accuracy: 0.80 - ETA: 9s - loss: 0.5589 - accuracy: 0.80 - ETA: 9s - loss: 0.5579 - accuracy: 0.80 - ETA: 9s - loss: 0.5577 - accuracy: 0.80 - ETA: 9s - loss: 0.5558 - accuracy: 0.80 - ETA: 9s - loss: 0.5541 - accuracy: 0.80 - ETA: 8s - loss: 0.5528 - accuracy: 0.80 - ETA: 8s - loss: 0.5503 - accuracy: 0.80 - ETA: 8s - loss: 0.5492 - accuracy: 0.80 - ETA: 8s - loss: 0.5488 - accuracy: 0.80 - ETA: 8s - loss: 0.5489 - accuracy: 0.80 - ETA: 8s - loss: 0.5478 - accuracy: 0.80 - ETA: 8s - loss: 0.5476 - accuracy: 0.80 - ETA: 8s - loss: 0.5465 - accuracy: 0.80 - ETA: 8s - loss: 0.5452 - accuracy: 0.80 - ETA: 8s - loss: 0.5440 - accuracy: 0.80 - ETA: 7s - loss: 0.5424 - accuracy: 0.80 - ETA: 7s - loss: 0.5417 - accuracy: 0.80 - ETA: 7s - loss: 0.5405 - accuracy: 0.80 - ETA: 7s - loss: 0.5399 - accuracy: 0.80 - ETA: 7s - loss: 0.5392 - accuracy: 0.80 - ETA: 7s - loss: 0.5376 - accuracy: 0.80 - ETA: 7s - loss: 0.5378 - accuracy: 0.80 - ETA: 7s - loss: 0.5368 - accuracy: 0.80 - ETA: 7s - loss: 0.5362 - accuracy: 0.80 - ETA: 7s - loss: 0.5360 - accuracy: 0.80 - ETA: 7s - loss: 0.5351 - accuracy: 0.80 - ETA: 6s - loss: 0.5338 - accuracy: 0.80 - ETA: 6s - loss: 0.5329 - accuracy: 0.81 - ETA: 6s - loss: 0.5319 - accuracy: 0.81 - ETA: 6s - loss: 0.5315 - accuracy: 0.81 - ETA: 6s - loss: 0.5310 - accuracy: 0.81 - ETA: 6s - loss: 0.5307 - accuracy: 0.81 - ETA: 6s - loss: 0.5304 - accuracy: 0.81 - ETA: 6s - loss: 0.5297 - accuracy: 0.81 - ETA: 6s - loss: 0.5287 - accuracy: 0.81 - ETA: 6s - loss: 0.5278 - accuracy: 0.81 - ETA: 6s - loss: 0.5272 - accuracy: 0.81 - ETA: 6s - loss: 0.5269 - accuracy: 0.81 - ETA: 6s - loss: 0.5261 - accuracy: 0.81 - ETA: 5s - loss: 0.5248 - accuracy: 0.81 - ETA: 5s - loss: 0.5239 - accuracy: 0.81 - ETA: 5s - loss: 0.5228 - accuracy: 0.81 - ETA: 5s - loss: 0.5211 - accuracy: 0.81 - ETA: 5s - loss: 0.5202 - accuracy: 0.81 - ETA: 5s - loss: 0.5194 - accuracy: 0.81 - ETA: 5s - loss: 0.5184 - accuracy: 0.81 - ETA: 5s - loss: 0.5178 - accuracy: 0.81 - ETA: 4s - loss: 0.5171 - accuracy: 0.81 - ETA: 4s - loss: 0.5157 - accuracy: 0.81 - ETA: 4s - loss: 0.5149 - accuracy: 0.81 - ETA: 4s - loss: 0.5144 - accuracy: 0.81 - ETA: 4s - loss: 0.5134 - accuracy: 0.81 - ETA: 4s - loss: 0.5127 - accuracy: 0.81 - ETA: 4s - loss: 0.5114 - accuracy: 0.81 - ETA: 4s - loss: 0.5111 - accuracy: 0.81 - ETA: 3s - loss: 0.5099 - accuracy: 0.81 - ETA: 3s - loss: 0.5086 - accuracy: 0.81 - ETA: 3s - loss: 0.5074 - accuracy: 0.81 - ETA: 3s - loss: 0.5064 - accuracy: 0.81 - ETA: 3s - loss: 0.5051 - accuracy: 0.81 - ETA: 3s - loss: 0.5038 - accuracy: 0.81 - ETA: 3s - loss: 0.5027 - accuracy: 0.81 - ETA: 3s - loss: 0.5022 - accuracy: 0.81 - ETA: 3s - loss: 0.5021 - accuracy: 0.81 - ETA: 2s - loss: 0.5014 - accuracy: 0.81 - ETA: 2s - loss: 0.5001 - accuracy: 0.82 - ETA: 2s - loss: 0.4994 - accuracy: 0.82 - ETA: 2s - loss: 0.4984 - accuracy: 0.82 - ETA: 2s - loss: 0.4973 - accuracy: 0.82 - ETA: 2s - loss: 0.4962 - accuracy: 0.82 - ETA: 2s - loss: 0.4957 - accuracy: 0.82 - ETA: 2s - loss: 0.4948 - accuracy: 0.82 - ETA: 2s - loss: 0.4944 - accuracy: 0.82 - ETA: 2s - loss: 0.4933 - accuracy: 0.82 - ETA: 1s - loss: 0.4921 - accuracy: 0.82 - ETA: 1s - loss: 0.4912 - accuracy: 0.82 - ETA: 1s - loss: 0.4901 - accuracy: 0.82 - ETA: 1s - loss: 0.4892 - accuracy: 0.8243"
     ]
    },
    {
     "name": "stdout",
     "output_type": "stream",
     "text": [
      "1875/1875 [==============================] - ETA: 1s - loss: 0.4889 - accuracy: 0.82 - ETA: 1s - loss: 0.4888 - accuracy: 0.82 - ETA: 1s - loss: 0.4875 - accuracy: 0.82 - ETA: 1s - loss: 0.4869 - accuracy: 0.82 - ETA: 1s - loss: 0.4864 - accuracy: 0.82 - ETA: 1s - loss: 0.4855 - accuracy: 0.82 - ETA: 0s - loss: 0.4852 - accuracy: 0.82 - ETA: 0s - loss: 0.4842 - accuracy: 0.82 - ETA: 0s - loss: 0.4832 - accuracy: 0.82 - ETA: 0s - loss: 0.4825 - accuracy: 0.82 - ETA: 0s - loss: 0.4818 - accuracy: 0.82 - ETA: 0s - loss: 0.4808 - accuracy: 0.82 - ETA: 0s - loss: 0.4801 - accuracy: 0.82 - ETA: 0s - loss: 0.4790 - accuracy: 0.82 - ETA: 0s - loss: 0.4790 - accuracy: 0.82 - ETA: 0s - loss: 0.4789 - accuracy: 0.82 - ETA: 0s - loss: 0.4782 - accuracy: 0.82 - 13s 7ms/step - loss: 0.4778 - accuracy: 0.8289 - val_loss: 0.4023 - val_accuracy: 0.8547\n",
      "Epoch 4/4\n"
     ]
    },
    {
     "name": "stdout",
     "output_type": "stream",
     "text": [
      "1597/1875 [========================>.....] - ETA: 0s - loss: 0.4072 - accuracy: 0.90 - ETA: 10s - loss: 0.3251 - accuracy: 0.884 - ETA: 11s - loss: 0.3366 - accuracy: 0.887 - ETA: 11s - loss: 0.3185 - accuracy: 0.895 - ETA: 10s - loss: 0.3309 - accuracy: 0.880 - ETA: 11s - loss: 0.3317 - accuracy: 0.880 - ETA: 11s - loss: 0.3286 - accuracy: 0.883 - ETA: 11s - loss: 0.3369 - accuracy: 0.878 - ETA: 10s - loss: 0.3399 - accuracy: 0.874 - ETA: 10s - loss: 0.3434 - accuracy: 0.874 - ETA: 10s - loss: 0.3468 - accuracy: 0.874 - ETA: 10s - loss: 0.3463 - accuracy: 0.873 - ETA: 10s - loss: 0.3463 - accuracy: 0.871 - ETA: 10s - loss: 0.3519 - accuracy: 0.871 - ETA: 10s - loss: 0.3512 - accuracy: 0.872 - ETA: 9s - loss: 0.3534 - accuracy: 0.871 - ETA: 10s - loss: 0.3550 - accuracy: 0.871 - ETA: 9s - loss: 0.3607 - accuracy: 0.870 - ETA: 9s - loss: 0.3588 - accuracy: 0.87 - ETA: 9s - loss: 0.3599 - accuracy: 0.86 - ETA: 9s - loss: 0.3619 - accuracy: 0.86 - ETA: 9s - loss: 0.3619 - accuracy: 0.86 - ETA: 10s - loss: 0.3620 - accuracy: 0.868 - ETA: 10s - loss: 0.3629 - accuracy: 0.867 - ETA: 10s - loss: 0.3647 - accuracy: 0.867 - ETA: 11s - loss: 0.3612 - accuracy: 0.868 - ETA: 10s - loss: 0.3609 - accuracy: 0.868 - ETA: 10s - loss: 0.3612 - accuracy: 0.868 - ETA: 11s - loss: 0.3617 - accuracy: 0.868 - ETA: 11s - loss: 0.3611 - accuracy: 0.867 - ETA: 11s - loss: 0.3622 - accuracy: 0.867 - ETA: 11s - loss: 0.3617 - accuracy: 0.867 - ETA: 12s - loss: 0.3615 - accuracy: 0.867 - ETA: 12s - loss: 0.3600 - accuracy: 0.868 - ETA: 12s - loss: 0.3612 - accuracy: 0.867 - ETA: 12s - loss: 0.3626 - accuracy: 0.867 - ETA: 12s - loss: 0.3633 - accuracy: 0.866 - ETA: 12s - loss: 0.3636 - accuracy: 0.866 - ETA: 12s - loss: 0.3642 - accuracy: 0.866 - ETA: 12s - loss: 0.3651 - accuracy: 0.866 - ETA: 12s - loss: 0.3644 - accuracy: 0.866 - ETA: 12s - loss: 0.3629 - accuracy: 0.866 - ETA: 12s - loss: 0.3646 - accuracy: 0.866 - ETA: 12s - loss: 0.3641 - accuracy: 0.866 - ETA: 12s - loss: 0.3641 - accuracy: 0.866 - ETA: 12s - loss: 0.3634 - accuracy: 0.866 - ETA: 12s - loss: 0.3626 - accuracy: 0.866 - ETA: 12s - loss: 0.3625 - accuracy: 0.867 - ETA: 12s - loss: 0.3624 - accuracy: 0.867 - ETA: 12s - loss: 0.3611 - accuracy: 0.867 - ETA: 12s - loss: 0.3605 - accuracy: 0.868 - ETA: 12s - loss: 0.3591 - accuracy: 0.868 - ETA: 11s - loss: 0.3583 - accuracy: 0.868 - ETA: 11s - loss: 0.3574 - accuracy: 0.869 - ETA: 11s - loss: 0.3571 - accuracy: 0.869 - ETA: 11s - loss: 0.3569 - accuracy: 0.868 - ETA: 11s - loss: 0.3580 - accuracy: 0.868 - ETA: 11s - loss: 0.3582 - accuracy: 0.868 - ETA: 11s - loss: 0.3581 - accuracy: 0.868 - ETA: 11s - loss: 0.3575 - accuracy: 0.868 - ETA: 11s - loss: 0.3583 - accuracy: 0.869 - ETA: 10s - loss: 0.3575 - accuracy: 0.869 - ETA: 10s - loss: 0.3562 - accuracy: 0.869 - ETA: 10s - loss: 0.3554 - accuracy: 0.869 - ETA: 10s - loss: 0.3546 - accuracy: 0.870 - ETA: 10s - loss: 0.3532 - accuracy: 0.870 - ETA: 10s - loss: 0.3549 - accuracy: 0.870 - ETA: 10s - loss: 0.3568 - accuracy: 0.869 - ETA: 10s - loss: 0.3553 - accuracy: 0.870 - ETA: 10s - loss: 0.3555 - accuracy: 0.870 - ETA: 10s - loss: 0.3559 - accuracy: 0.869 - ETA: 10s - loss: 0.3577 - accuracy: 0.869 - ETA: 10s - loss: 0.3580 - accuracy: 0.869 - ETA: 9s - loss: 0.3580 - accuracy: 0.868 - ETA: 9s - loss: 0.3588 - accuracy: 0.86 - ETA: 9s - loss: 0.3584 - accuracy: 0.86 - ETA: 9s - loss: 0.3582 - accuracy: 0.86 - ETA: 9s - loss: 0.3574 - accuracy: 0.86 - ETA: 9s - loss: 0.3581 - accuracy: 0.86 - ETA: 9s - loss: 0.3573 - accuracy: 0.86 - ETA: 9s - loss: 0.3567 - accuracy: 0.86 - ETA: 9s - loss: 0.3570 - accuracy: 0.86 - ETA: 9s - loss: 0.3565 - accuracy: 0.87 - ETA: 9s - loss: 0.3560 - accuracy: 0.87 - ETA: 8s - loss: 0.3558 - accuracy: 0.87 - ETA: 8s - loss: 0.3552 - accuracy: 0.87 - ETA: 8s - loss: 0.3549 - accuracy: 0.87 - ETA: 8s - loss: 0.3550 - accuracy: 0.87 - ETA: 8s - loss: 0.3553 - accuracy: 0.86 - ETA: 8s - loss: 0.3558 - accuracy: 0.86 - ETA: 8s - loss: 0.3563 - accuracy: 0.86 - ETA: 8s - loss: 0.3558 - accuracy: 0.86 - ETA: 8s - loss: 0.3550 - accuracy: 0.86 - ETA: 8s - loss: 0.3553 - accuracy: 0.87 - ETA: 8s - loss: 0.3552 - accuracy: 0.87 - ETA: 8s - loss: 0.3552 - accuracy: 0.87 - ETA: 8s - loss: 0.3558 - accuracy: 0.86 - ETA: 7s - loss: 0.3558 - accuracy: 0.86 - ETA: 7s - loss: 0.3567 - accuracy: 0.86 - ETA: 7s - loss: 0.3573 - accuracy: 0.86 - ETA: 7s - loss: 0.3568 - accuracy: 0.86 - ETA: 7s - loss: 0.3568 - accuracy: 0.86 - ETA: 7s - loss: 0.3569 - accuracy: 0.86 - ETA: 7s - loss: 0.3583 - accuracy: 0.86 - ETA: 7s - loss: 0.3585 - accuracy: 0.86 - ETA: 7s - loss: 0.3585 - accuracy: 0.86 - ETA: 7s - loss: 0.3573 - accuracy: 0.86 - ETA: 6s - loss: 0.3578 - accuracy: 0.86 - ETA: 6s - loss: 0.3576 - accuracy: 0.86 - ETA: 6s - loss: 0.3574 - accuracy: 0.86 - ETA: 6s - loss: 0.3569 - accuracy: 0.86 - ETA: 6s - loss: 0.3563 - accuracy: 0.86 - ETA: 6s - loss: 0.3563 - accuracy: 0.86 - ETA: 6s - loss: 0.3562 - accuracy: 0.86 - ETA: 6s - loss: 0.3557 - accuracy: 0.86 - ETA: 6s - loss: 0.3563 - accuracy: 0.86 - ETA: 6s - loss: 0.3570 - accuracy: 0.86 - ETA: 6s - loss: 0.3574 - accuracy: 0.86 - ETA: 6s - loss: 0.3581 - accuracy: 0.86 - ETA: 6s - loss: 0.3580 - accuracy: 0.86 - ETA: 6s - loss: 0.3580 - accuracy: 0.86 - ETA: 6s - loss: 0.3578 - accuracy: 0.86 - ETA: 6s - loss: 0.3570 - accuracy: 0.86 - ETA: 5s - loss: 0.3570 - accuracy: 0.86 - ETA: 5s - loss: 0.3561 - accuracy: 0.86 - ETA: 5s - loss: 0.3565 - accuracy: 0.86 - ETA: 5s - loss: 0.3563 - accuracy: 0.86 - ETA: 5s - loss: 0.3574 - accuracy: 0.86 - ETA: 5s - loss: 0.3575 - accuracy: 0.86 - ETA: 5s - loss: 0.3577 - accuracy: 0.86 - ETA: 5s - loss: 0.3582 - accuracy: 0.86 - ETA: 5s - loss: 0.3589 - accuracy: 0.86 - ETA: 5s - loss: 0.3597 - accuracy: 0.86 - ETA: 5s - loss: 0.3600 - accuracy: 0.86 - ETA: 5s - loss: 0.3601 - accuracy: 0.86 - ETA: 5s - loss: 0.3602 - accuracy: 0.86 - ETA: 5s - loss: 0.3602 - accuracy: 0.86 - ETA: 5s - loss: 0.3603 - accuracy: 0.86 - ETA: 5s - loss: 0.3596 - accuracy: 0.86 - ETA: 5s - loss: 0.3595 - accuracy: 0.86 - ETA: 4s - loss: 0.3596 - accuracy: 0.86 - ETA: 4s - loss: 0.3595 - accuracy: 0.86 - ETA: 4s - loss: 0.3599 - accuracy: 0.86 - ETA: 4s - loss: 0.3597 - accuracy: 0.86 - ETA: 4s - loss: 0.3596 - accuracy: 0.86 - ETA: 4s - loss: 0.3604 - accuracy: 0.86 - ETA: 4s - loss: 0.3600 - accuracy: 0.86 - ETA: 4s - loss: 0.3601 - accuracy: 0.86 - ETA: 4s - loss: 0.3599 - accuracy: 0.86 - ETA: 4s - loss: 0.3595 - accuracy: 0.86 - ETA: 4s - loss: 0.3598 - accuracy: 0.86 - ETA: 4s - loss: 0.3602 - accuracy: 0.86 - ETA: 4s - loss: 0.3601 - accuracy: 0.86 - ETA: 4s - loss: 0.3603 - accuracy: 0.86 - ETA: 4s - loss: 0.3601 - accuracy: 0.86 - ETA: 4s - loss: 0.3600 - accuracy: 0.86 - ETA: 4s - loss: 0.3598 - accuracy: 0.86 - ETA: 4s - loss: 0.3590 - accuracy: 0.86 - ETA: 4s - loss: 0.3589 - accuracy: 0.86 - ETA: 4s - loss: 0.3584 - accuracy: 0.86 - ETA: 4s - loss: 0.3579 - accuracy: 0.86 - ETA: 3s - loss: 0.3581 - accuracy: 0.86 - ETA: 3s - loss: 0.3577 - accuracy: 0.86 - ETA: 3s - loss: 0.3573 - accuracy: 0.86 - ETA: 3s - loss: 0.3579 - accuracy: 0.86 - ETA: 3s - loss: 0.3576 - accuracy: 0.86 - ETA: 3s - loss: 0.3577 - accuracy: 0.86 - ETA: 3s - loss: 0.3572 - accuracy: 0.86 - ETA: 3s - loss: 0.3576 - accuracy: 0.86 - ETA: 3s - loss: 0.3575 - accuracy: 0.86 - ETA: 3s - loss: 0.3576 - accuracy: 0.86 - ETA: 3s - loss: 0.3573 - accuracy: 0.86 - ETA: 3s - loss: 0.3576 - accuracy: 0.86 - ETA: 3s - loss: 0.3575 - accuracy: 0.86 - ETA: 2s - loss: 0.3587 - accuracy: 0.86 - ETA: 2s - loss: 0.3586 - accuracy: 0.86 - ETA: 2s - loss: 0.3592 - accuracy: 0.86 - ETA: 2s - loss: 0.3593 - accuracy: 0.86 - ETA: 2s - loss: 0.3591 - accuracy: 0.86 - ETA: 2s - loss: 0.3590 - accuracy: 0.86 - ETA: 2s - loss: 0.3586 - accuracy: 0.86 - ETA: 2s - loss: 0.3582 - accuracy: 0.86 - ETA: 2s - loss: 0.3578 - accuracy: 0.86 - ETA: 2s - loss: 0.3577 - accuracy: 0.86 - ETA: 2s - loss: 0.3578 - accuracy: 0.86 - ETA: 2s - loss: 0.3578 - accuracy: 0.86 - ETA: 2s - loss: 0.3581 - accuracy: 0.86 - ETA: 1s - loss: 0.3577 - accuracy: 0.86 - ETA: 1s - loss: 0.3584 - accuracy: 0.86 - ETA: 1s - loss: 0.3580 - accuracy: 0.86 - ETA: 1s - loss: 0.3579 - accuracy: 0.8697"
     ]
    },
    {
     "name": "stdout",
     "output_type": "stream",
     "text": [
      "1875/1875 [==============================] - ETA: 1s - loss: 0.3579 - accuracy: 0.86 - ETA: 1s - loss: 0.3580 - accuracy: 0.86 - ETA: 1s - loss: 0.3575 - accuracy: 0.86 - ETA: 1s - loss: 0.3573 - accuracy: 0.86 - ETA: 1s - loss: 0.3568 - accuracy: 0.86 - ETA: 1s - loss: 0.3566 - accuracy: 0.86 - ETA: 1s - loss: 0.3560 - accuracy: 0.87 - ETA: 1s - loss: 0.3554 - accuracy: 0.87 - ETA: 1s - loss: 0.3554 - accuracy: 0.87 - ETA: 0s - loss: 0.3556 - accuracy: 0.87 - ETA: 0s - loss: 0.3567 - accuracy: 0.87 - ETA: 0s - loss: 0.3566 - accuracy: 0.87 - ETA: 0s - loss: 0.3567 - accuracy: 0.87 - ETA: 0s - loss: 0.3566 - accuracy: 0.87 - ETA: 0s - loss: 0.3562 - accuracy: 0.87 - ETA: 0s - loss: 0.3560 - accuracy: 0.87 - ETA: 0s - loss: 0.3559 - accuracy: 0.87 - ETA: 0s - loss: 0.3558 - accuracy: 0.87 - ETA: 0s - loss: 0.3555 - accuracy: 0.87 - ETA: 0s - loss: 0.3555 - accuracy: 0.87 - ETA: 0s - loss: 0.3552 - accuracy: 0.87 - 12s 6ms/step - loss: 0.3552 - accuracy: 0.8705 - val_loss: 0.3907 - val_accuracy: 0.8599\n"
     ]
    },
    {
     "data": {
      "text/html": [
       "<span style=\"color:#4527A0\"><h1 style=\"font-size:18px\">Trial complete</h1></span>"
      ],
      "text/plain": [
       "<IPython.core.display.HTML object>"
      ]
     },
     "metadata": {},
     "output_type": "display_data"
    },
    {
     "data": {
      "text/html": [
       "<span style=\"color:#4527A0\"><h1 style=\"font-size:18px\">Trial summary</h1></span>"
      ],
      "text/plain": [
       "<IPython.core.display.HTML object>"
      ]
     },
     "metadata": {},
     "output_type": "display_data"
    },
    {
     "data": {
      "text/html": [
       "<span style=\"color:cyan\"> |-Trial ID: db727d177fdf8c0113f7ab4f2ffb4a7f</span>"
      ],
      "text/plain": [
       "<IPython.core.display.HTML object>"
      ]
     },
     "metadata": {},
     "output_type": "display_data"
    },
    {
     "data": {
      "text/html": [
       "<span style=\"color:cyan\"> |-Score: 0.8598999977111816</span>"
      ],
      "text/plain": [
       "<IPython.core.display.HTML object>"
      ]
     },
     "metadata": {},
     "output_type": "display_data"
    },
    {
     "data": {
      "text/html": [
       "<span style=\"color:cyan\"> |-Best step: 0</span>"
      ],
      "text/plain": [
       "<IPython.core.display.HTML object>"
      ]
     },
     "metadata": {},
     "output_type": "display_data"
    },
    {
     "data": {
      "text/html": [
       "<span style=\"color:#7E57C2\"><h2 style=\"font-size:16px\">Hyperparameters:</h2></span>"
      ],
      "text/plain": [
       "<IPython.core.display.HTML object>"
      ]
     },
     "metadata": {},
     "output_type": "display_data"
    },
    {
     "data": {
      "text/html": [
       "<span style=\"color:cyan\"> |-learning_rate: 0.001</span>"
      ],
      "text/plain": [
       "<IPython.core.display.HTML object>"
      ]
     },
     "metadata": {},
     "output_type": "display_data"
    },
    {
     "data": {
      "text/html": [
       "<span style=\"color:blue\"> |-tuner/bracket: 2</span>"
      ],
      "text/plain": [
       "<IPython.core.display.HTML object>"
      ]
     },
     "metadata": {},
     "output_type": "display_data"
    },
    {
     "data": {
      "text/html": [
       "<span style=\"color:cyan\"> |-tuner/epochs: 4</span>"
      ],
      "text/plain": [
       "<IPython.core.display.HTML object>"
      ]
     },
     "metadata": {},
     "output_type": "display_data"
    },
    {
     "data": {
      "text/html": [
       "<span style=\"color:blue\"> |-tuner/initial_epoch: 2</span>"
      ],
      "text/plain": [
       "<IPython.core.display.HTML object>"
      ]
     },
     "metadata": {},
     "output_type": "display_data"
    },
    {
     "data": {
      "text/html": [
       "<span style=\"color:cyan\"> |-tuner/round: 1</span>"
      ],
      "text/plain": [
       "<IPython.core.display.HTML object>"
      ]
     },
     "metadata": {},
     "output_type": "display_data"
    },
    {
     "data": {
      "text/html": [
       "<span style=\"color:blue\"> |-tuner/trial_id: 6d0843f03cde14471ee8f37114339393</span>"
      ],
      "text/plain": [
       "<IPython.core.display.HTML object>"
      ]
     },
     "metadata": {},
     "output_type": "display_data"
    },
    {
     "data": {
      "text/html": [
       "<span style=\"color:cyan\"> |-units: 448</span>"
      ],
      "text/plain": [
       "<IPython.core.display.HTML object>"
      ]
     },
     "metadata": {},
     "output_type": "display_data"
    },
    {
     "name": "stdout",
     "output_type": "stream",
     "text": [
      "Epoch 3/4\n",
      "   2/1875 [..............................] - ETA: 0s - loss: 2.2418 - accuracy: 0.18 - ETA: 12:22 - loss: 2.1747 - accuracy: 0.2344WARNING:tensorflow:Method (on_train_batch_end) is slow compared to the batch update (0.398270). Check your callbacks.\n",
      "1875/1875 [==============================] - ETA: 1:14 - loss: 1.4260 - accuracy: 0.540 - ETA: 38s - loss: 1.1523 - accuracy: 0.6097 - ETA: 28s - loss: 1.0436 - accuracy: 0.639 - ETA: 21s - loss: 0.9654 - accuracy: 0.666 - ETA: 17s - loss: 0.8952 - accuracy: 0.690 - ETA: 15s - loss: 0.8687 - accuracy: 0.700 - ETA: 13s - loss: 0.8319 - accuracy: 0.711 - ETA: 12s - loss: 0.8053 - accuracy: 0.722 - ETA: 11s - loss: 0.7929 - accuracy: 0.726 - ETA: 10s - loss: 0.7717 - accuracy: 0.733 - ETA: 9s - loss: 0.7516 - accuracy: 0.740 - ETA: 9s - loss: 0.7354 - accuracy: 0.74 - ETA: 8s - loss: 0.7165 - accuracy: 0.75 - ETA: 8s - loss: 0.7101 - accuracy: 0.75 - ETA: 8s - loss: 0.7006 - accuracy: 0.75 - ETA: 8s - loss: 0.6940 - accuracy: 0.75 - ETA: 7s - loss: 0.6845 - accuracy: 0.76 - ETA: 7s - loss: 0.6803 - accuracy: 0.76 - ETA: 7s - loss: 0.6786 - accuracy: 0.76 - ETA: 7s - loss: 0.6731 - accuracy: 0.76 - ETA: 7s - loss: 0.6681 - accuracy: 0.76 - ETA: 7s - loss: 0.6652 - accuracy: 0.76 - ETA: 7s - loss: 0.6631 - accuracy: 0.77 - ETA: 7s - loss: 0.6598 - accuracy: 0.77 - ETA: 7s - loss: 0.6571 - accuracy: 0.77 - ETA: 7s - loss: 0.6550 - accuracy: 0.77 - ETA: 7s - loss: 0.6545 - accuracy: 0.77 - ETA: 7s - loss: 0.6517 - accuracy: 0.77 - ETA: 7s - loss: 0.6466 - accuracy: 0.77 - ETA: 7s - loss: 0.6468 - accuracy: 0.77 - ETA: 7s - loss: 0.6439 - accuracy: 0.77 - ETA: 7s - loss: 0.6407 - accuracy: 0.77 - ETA: 6s - loss: 0.6374 - accuracy: 0.77 - ETA: 6s - loss: 0.6364 - accuracy: 0.78 - ETA: 7s - loss: 0.6361 - accuracy: 0.78 - ETA: 7s - loss: 0.6342 - accuracy: 0.78 - ETA: 6s - loss: 0.6315 - accuracy: 0.78 - ETA: 6s - loss: 0.6278 - accuracy: 0.78 - ETA: 6s - loss: 0.6268 - accuracy: 0.78 - ETA: 6s - loss: 0.6262 - accuracy: 0.78 - ETA: 6s - loss: 0.6250 - accuracy: 0.78 - ETA: 6s - loss: 0.6234 - accuracy: 0.78 - ETA: 6s - loss: 0.6229 - accuracy: 0.78 - ETA: 6s - loss: 0.6221 - accuracy: 0.78 - ETA: 6s - loss: 0.6202 - accuracy: 0.78 - ETA: 6s - loss: 0.6191 - accuracy: 0.78 - ETA: 6s - loss: 0.6179 - accuracy: 0.78 - ETA: 6s - loss: 0.6151 - accuracy: 0.78 - ETA: 6s - loss: 0.6128 - accuracy: 0.78 - ETA: 6s - loss: 0.6111 - accuracy: 0.78 - ETA: 6s - loss: 0.6073 - accuracy: 0.79 - ETA: 6s - loss: 0.6046 - accuracy: 0.79 - ETA: 6s - loss: 0.6020 - accuracy: 0.79 - ETA: 6s - loss: 0.5988 - accuracy: 0.79 - ETA: 6s - loss: 0.5977 - accuracy: 0.79 - ETA: 6s - loss: 0.5949 - accuracy: 0.79 - ETA: 6s - loss: 0.5939 - accuracy: 0.79 - ETA: 6s - loss: 0.5930 - accuracy: 0.79 - ETA: 6s - loss: 0.5915 - accuracy: 0.79 - ETA: 6s - loss: 0.5895 - accuracy: 0.79 - ETA: 6s - loss: 0.5889 - accuracy: 0.79 - ETA: 6s - loss: 0.5870 - accuracy: 0.79 - ETA: 5s - loss: 0.5841 - accuracy: 0.79 - ETA: 5s - loss: 0.5828 - accuracy: 0.79 - ETA: 5s - loss: 0.5816 - accuracy: 0.79 - ETA: 5s - loss: 0.5823 - accuracy: 0.79 - ETA: 5s - loss: 0.5816 - accuracy: 0.79 - ETA: 5s - loss: 0.5806 - accuracy: 0.79 - ETA: 5s - loss: 0.5797 - accuracy: 0.79 - ETA: 5s - loss: 0.5791 - accuracy: 0.79 - ETA: 5s - loss: 0.5779 - accuracy: 0.79 - ETA: 5s - loss: 0.5760 - accuracy: 0.79 - ETA: 5s - loss: 0.5749 - accuracy: 0.79 - ETA: 5s - loss: 0.5727 - accuracy: 0.80 - ETA: 5s - loss: 0.5717 - accuracy: 0.80 - ETA: 5s - loss: 0.5696 - accuracy: 0.80 - ETA: 5s - loss: 0.5678 - accuracy: 0.80 - ETA: 5s - loss: 0.5666 - accuracy: 0.80 - ETA: 5s - loss: 0.5654 - accuracy: 0.80 - ETA: 5s - loss: 0.5637 - accuracy: 0.80 - ETA: 5s - loss: 0.5628 - accuracy: 0.80 - ETA: 4s - loss: 0.5615 - accuracy: 0.80 - ETA: 4s - loss: 0.5606 - accuracy: 0.80 - ETA: 4s - loss: 0.5601 - accuracy: 0.80 - ETA: 4s - loss: 0.5587 - accuracy: 0.80 - ETA: 4s - loss: 0.5577 - accuracy: 0.80 - ETA: 4s - loss: 0.5566 - accuracy: 0.80 - ETA: 4s - loss: 0.5554 - accuracy: 0.80 - ETA: 4s - loss: 0.5547 - accuracy: 0.80 - ETA: 4s - loss: 0.5530 - accuracy: 0.80 - ETA: 4s - loss: 0.5525 - accuracy: 0.80 - ETA: 4s - loss: 0.5523 - accuracy: 0.80 - ETA: 4s - loss: 0.5516 - accuracy: 0.80 - ETA: 4s - loss: 0.5517 - accuracy: 0.80 - ETA: 4s - loss: 0.5513 - accuracy: 0.80 - ETA: 4s - loss: 0.5511 - accuracy: 0.80 - ETA: 4s - loss: 0.5505 - accuracy: 0.80 - ETA: 4s - loss: 0.5484 - accuracy: 0.80 - ETA: 4s - loss: 0.5462 - accuracy: 0.80 - ETA: 4s - loss: 0.5446 - accuracy: 0.80 - ETA: 4s - loss: 0.5432 - accuracy: 0.80 - ETA: 4s - loss: 0.5422 - accuracy: 0.80 - ETA: 3s - loss: 0.5419 - accuracy: 0.80 - ETA: 3s - loss: 0.5411 - accuracy: 0.80 - ETA: 3s - loss: 0.5410 - accuracy: 0.80 - ETA: 3s - loss: 0.5397 - accuracy: 0.81 - ETA: 3s - loss: 0.5379 - accuracy: 0.81 - ETA: 3s - loss: 0.5366 - accuracy: 0.81 - ETA: 3s - loss: 0.5358 - accuracy: 0.81 - ETA: 3s - loss: 0.5345 - accuracy: 0.81 - ETA: 3s - loss: 0.5330 - accuracy: 0.81 - ETA: 3s - loss: 0.5324 - accuracy: 0.81 - ETA: 3s - loss: 0.5316 - accuracy: 0.81 - ETA: 3s - loss: 0.5308 - accuracy: 0.81 - ETA: 2s - loss: 0.5297 - accuracy: 0.81 - ETA: 2s - loss: 0.5288 - accuracy: 0.81 - ETA: 2s - loss: 0.5272 - accuracy: 0.81 - ETA: 2s - loss: 0.5255 - accuracy: 0.81 - ETA: 2s - loss: 0.5246 - accuracy: 0.81 - ETA: 2s - loss: 0.5231 - accuracy: 0.81 - ETA: 2s - loss: 0.5222 - accuracy: 0.81 - ETA: 2s - loss: 0.5207 - accuracy: 0.81 - ETA: 2s - loss: 0.5192 - accuracy: 0.81 - ETA: 2s - loss: 0.5184 - accuracy: 0.81 - ETA: 2s - loss: 0.5177 - accuracy: 0.81 - ETA: 2s - loss: 0.5172 - accuracy: 0.81 - ETA: 2s - loss: 0.5167 - accuracy: 0.81 - ETA: 2s - loss: 0.5158 - accuracy: 0.81 - ETA: 2s - loss: 0.5145 - accuracy: 0.81 - ETA: 1s - loss: 0.5145 - accuracy: 0.81 - ETA: 1s - loss: 0.5138 - accuracy: 0.81 - ETA: 1s - loss: 0.5129 - accuracy: 0.81 - ETA: 1s - loss: 0.5120 - accuracy: 0.81 - ETA: 1s - loss: 0.5113 - accuracy: 0.81 - ETA: 1s - loss: 0.5108 - accuracy: 0.81 - ETA: 1s - loss: 0.5099 - accuracy: 0.81 - ETA: 1s - loss: 0.5091 - accuracy: 0.82 - ETA: 1s - loss: 0.5080 - accuracy: 0.82 - ETA: 1s - loss: 0.5071 - accuracy: 0.82 - ETA: 1s - loss: 0.5068 - accuracy: 0.82 - ETA: 1s - loss: 0.5052 - accuracy: 0.82 - ETA: 1s - loss: 0.5049 - accuracy: 0.82 - ETA: 1s - loss: 0.5038 - accuracy: 0.82 - ETA: 0s - loss: 0.5028 - accuracy: 0.82 - ETA: 0s - loss: 0.5016 - accuracy: 0.82 - ETA: 0s - loss: 0.5005 - accuracy: 0.82 - ETA: 0s - loss: 0.4996 - accuracy: 0.82 - ETA: 0s - loss: 0.4989 - accuracy: 0.82 - ETA: 0s - loss: 0.4984 - accuracy: 0.82 - ETA: 0s - loss: 0.4985 - accuracy: 0.82 - ETA: 0s - loss: 0.4982 - accuracy: 0.82 - ETA: 0s - loss: 0.4975 - accuracy: 0.82 - ETA: 0s - loss: 0.4965 - accuracy: 0.82 - ETA: 0s - loss: 0.4955 - accuracy: 0.82 - ETA: 0s - loss: 0.4948 - accuracy: 0.82 - ETA: 0s - loss: 0.4946 - accuracy: 0.82 - ETA: 0s - loss: 0.4942 - accuracy: 0.82 - 10s 5ms/step - loss: 0.4944 - accuracy: 0.8259 - val_loss: 0.4322 - val_accuracy: 0.8498\n",
      "Epoch 4/4\n"
     ]
    },
    {
     "name": "stdout",
     "output_type": "stream",
     "text": [
      "1875/1875 [==============================] - ETA: 0s - loss: 0.3212 - accuracy: 0.90 - ETA: 7s - loss: 0.3696 - accuracy: 0.87 - ETA: 7s - loss: 0.4082 - accuracy: 0.85 - ETA: 8s - loss: 0.3865 - accuracy: 0.85 - ETA: 8s - loss: 0.3878 - accuracy: 0.85 - ETA: 9s - loss: 0.3860 - accuracy: 0.85 - ETA: 9s - loss: 0.3904 - accuracy: 0.85 - ETA: 9s - loss: 0.3947 - accuracy: 0.85 - ETA: 9s - loss: 0.3981 - accuracy: 0.85 - ETA: 9s - loss: 0.3952 - accuracy: 0.85 - ETA: 9s - loss: 0.3956 - accuracy: 0.85 - ETA: 8s - loss: 0.3968 - accuracy: 0.85 - ETA: 8s - loss: 0.3937 - accuracy: 0.85 - ETA: 8s - loss: 0.3970 - accuracy: 0.85 - ETA: 8s - loss: 0.4014 - accuracy: 0.85 - ETA: 8s - loss: 0.3993 - accuracy: 0.85 - ETA: 8s - loss: 0.4013 - accuracy: 0.85 - ETA: 8s - loss: 0.3979 - accuracy: 0.85 - ETA: 8s - loss: 0.4005 - accuracy: 0.85 - ETA: 8s - loss: 0.4007 - accuracy: 0.85 - ETA: 8s - loss: 0.4002 - accuracy: 0.85 - ETA: 8s - loss: 0.4000 - accuracy: 0.85 - ETA: 8s - loss: 0.3993 - accuracy: 0.85 - ETA: 8s - loss: 0.3973 - accuracy: 0.85 - ETA: 8s - loss: 0.3940 - accuracy: 0.86 - ETA: 8s - loss: 0.3962 - accuracy: 0.85 - ETA: 8s - loss: 0.3950 - accuracy: 0.85 - ETA: 8s - loss: 0.3941 - accuracy: 0.86 - ETA: 8s - loss: 0.3929 - accuracy: 0.86 - ETA: 8s - loss: 0.3925 - accuracy: 0.86 - ETA: 8s - loss: 0.3929 - accuracy: 0.86 - ETA: 8s - loss: 0.3932 - accuracy: 0.86 - ETA: 8s - loss: 0.3920 - accuracy: 0.86 - ETA: 8s - loss: 0.3912 - accuracy: 0.86 - ETA: 8s - loss: 0.3897 - accuracy: 0.86 - ETA: 8s - loss: 0.3914 - accuracy: 0.86 - ETA: 8s - loss: 0.3907 - accuracy: 0.86 - ETA: 8s - loss: 0.3918 - accuracy: 0.86 - ETA: 8s - loss: 0.3899 - accuracy: 0.86 - ETA: 8s - loss: 0.3906 - accuracy: 0.86 - ETA: 8s - loss: 0.3900 - accuracy: 0.86 - ETA: 7s - loss: 0.3899 - accuracy: 0.86 - ETA: 7s - loss: 0.3891 - accuracy: 0.86 - ETA: 7s - loss: 0.3886 - accuracy: 0.86 - ETA: 7s - loss: 0.3895 - accuracy: 0.86 - ETA: 7s - loss: 0.3895 - accuracy: 0.86 - ETA: 7s - loss: 0.3894 - accuracy: 0.86 - ETA: 7s - loss: 0.3887 - accuracy: 0.86 - ETA: 7s - loss: 0.3868 - accuracy: 0.86 - ETA: 7s - loss: 0.3847 - accuracy: 0.86 - ETA: 7s - loss: 0.3840 - accuracy: 0.86 - ETA: 6s - loss: 0.3858 - accuracy: 0.86 - ETA: 6s - loss: 0.3857 - accuracy: 0.86 - ETA: 6s - loss: 0.3856 - accuracy: 0.86 - ETA: 6s - loss: 0.3866 - accuracy: 0.86 - ETA: 6s - loss: 0.3858 - accuracy: 0.86 - ETA: 6s - loss: 0.3860 - accuracy: 0.86 - ETA: 6s - loss: 0.3859 - accuracy: 0.86 - ETA: 6s - loss: 0.3853 - accuracy: 0.86 - ETA: 6s - loss: 0.3842 - accuracy: 0.86 - ETA: 5s - loss: 0.3844 - accuracy: 0.86 - ETA: 5s - loss: 0.3831 - accuracy: 0.86 - ETA: 5s - loss: 0.3825 - accuracy: 0.86 - ETA: 5s - loss: 0.3836 - accuracy: 0.86 - ETA: 5s - loss: 0.3834 - accuracy: 0.86 - ETA: 5s - loss: 0.3830 - accuracy: 0.86 - ETA: 5s - loss: 0.3832 - accuracy: 0.86 - ETA: 5s - loss: 0.3834 - accuracy: 0.86 - ETA: 5s - loss: 0.3850 - accuracy: 0.86 - ETA: 5s - loss: 0.3844 - accuracy: 0.86 - ETA: 4s - loss: 0.3849 - accuracy: 0.86 - ETA: 4s - loss: 0.3838 - accuracy: 0.86 - ETA: 4s - loss: 0.3840 - accuracy: 0.86 - ETA: 4s - loss: 0.3833 - accuracy: 0.86 - ETA: 4s - loss: 0.3829 - accuracy: 0.86 - ETA: 4s - loss: 0.3827 - accuracy: 0.86 - ETA: 4s - loss: 0.3820 - accuracy: 0.86 - ETA: 4s - loss: 0.3817 - accuracy: 0.86 - ETA: 4s - loss: 0.3814 - accuracy: 0.86 - ETA: 4s - loss: 0.3810 - accuracy: 0.86 - ETA: 4s - loss: 0.3804 - accuracy: 0.86 - ETA: 4s - loss: 0.3795 - accuracy: 0.86 - ETA: 4s - loss: 0.3790 - accuracy: 0.86 - ETA: 4s - loss: 0.3788 - accuracy: 0.86 - ETA: 4s - loss: 0.3779 - accuracy: 0.86 - ETA: 3s - loss: 0.3780 - accuracy: 0.86 - ETA: 3s - loss: 0.3777 - accuracy: 0.86 - ETA: 3s - loss: 0.3775 - accuracy: 0.86 - ETA: 3s - loss: 0.3772 - accuracy: 0.86 - ETA: 3s - loss: 0.3775 - accuracy: 0.86 - ETA: 3s - loss: 0.3773 - accuracy: 0.86 - ETA: 3s - loss: 0.3780 - accuracy: 0.86 - ETA: 3s - loss: 0.3779 - accuracy: 0.86 - ETA: 3s - loss: 0.3781 - accuracy: 0.86 - ETA: 3s - loss: 0.3780 - accuracy: 0.86 - ETA: 3s - loss: 0.3784 - accuracy: 0.86 - ETA: 3s - loss: 0.3781 - accuracy: 0.86 - ETA: 3s - loss: 0.3777 - accuracy: 0.86 - ETA: 3s - loss: 0.3784 - accuracy: 0.86 - ETA: 3s - loss: 0.3784 - accuracy: 0.86 - ETA: 3s - loss: 0.3785 - accuracy: 0.86 - ETA: 3s - loss: 0.3785 - accuracy: 0.86 - ETA: 3s - loss: 0.3781 - accuracy: 0.86 - ETA: 3s - loss: 0.3777 - accuracy: 0.86 - ETA: 3s - loss: 0.3778 - accuracy: 0.86 - ETA: 3s - loss: 0.3776 - accuracy: 0.86 - ETA: 3s - loss: 0.3781 - accuracy: 0.86 - ETA: 3s - loss: 0.3782 - accuracy: 0.86 - ETA: 3s - loss: 0.3783 - accuracy: 0.86 - ETA: 3s - loss: 0.3786 - accuracy: 0.86 - ETA: 2s - loss: 0.3783 - accuracy: 0.86 - ETA: 2s - loss: 0.3777 - accuracy: 0.86 - ETA: 2s - loss: 0.3780 - accuracy: 0.86 - ETA: 2s - loss: 0.3784 - accuracy: 0.86 - ETA: 2s - loss: 0.3782 - accuracy: 0.86 - ETA: 2s - loss: 0.3781 - accuracy: 0.86 - ETA: 2s - loss: 0.3781 - accuracy: 0.86 - ETA: 2s - loss: 0.3778 - accuracy: 0.86 - ETA: 2s - loss: 0.3776 - accuracy: 0.86 - ETA: 2s - loss: 0.3776 - accuracy: 0.86 - ETA: 2s - loss: 0.3778 - accuracy: 0.86 - ETA: 2s - loss: 0.3776 - accuracy: 0.86 - ETA: 2s - loss: 0.3769 - accuracy: 0.86 - ETA: 2s - loss: 0.3766 - accuracy: 0.86 - ETA: 2s - loss: 0.3760 - accuracy: 0.86 - ETA: 2s - loss: 0.3758 - accuracy: 0.86 - ETA: 2s - loss: 0.3758 - accuracy: 0.86 - ETA: 2s - loss: 0.3756 - accuracy: 0.86 - ETA: 2s - loss: 0.3753 - accuracy: 0.86 - ETA: 1s - loss: 0.3753 - accuracy: 0.86 - ETA: 1s - loss: 0.3746 - accuracy: 0.86 - ETA: 1s - loss: 0.3741 - accuracy: 0.86 - ETA: 1s - loss: 0.3735 - accuracy: 0.86 - ETA: 1s - loss: 0.3740 - accuracy: 0.86 - ETA: 1s - loss: 0.3736 - accuracy: 0.86 - ETA: 1s - loss: 0.3734 - accuracy: 0.86 - ETA: 1s - loss: 0.3731 - accuracy: 0.86 - ETA: 1s - loss: 0.3732 - accuracy: 0.86 - ETA: 1s - loss: 0.3740 - accuracy: 0.86 - ETA: 1s - loss: 0.3747 - accuracy: 0.86 - ETA: 1s - loss: 0.3742 - accuracy: 0.86 - ETA: 1s - loss: 0.3742 - accuracy: 0.86 - ETA: 1s - loss: 0.3738 - accuracy: 0.86 - ETA: 1s - loss: 0.3740 - accuracy: 0.86 - ETA: 1s - loss: 0.3738 - accuracy: 0.86 - ETA: 1s - loss: 0.3732 - accuracy: 0.86 - ETA: 0s - loss: 0.3728 - accuracy: 0.86 - ETA: 0s - loss: 0.3727 - accuracy: 0.86 - ETA: 0s - loss: 0.3721 - accuracy: 0.86 - ETA: 0s - loss: 0.3723 - accuracy: 0.86 - ETA: 0s - loss: 0.3729 - accuracy: 0.86 - ETA: 0s - loss: 0.3728 - accuracy: 0.86 - ETA: 0s - loss: 0.3731 - accuracy: 0.86 - ETA: 0s - loss: 0.3727 - accuracy: 0.86 - ETA: 0s - loss: 0.3726 - accuracy: 0.86 - ETA: 0s - loss: 0.3724 - accuracy: 0.86 - ETA: 0s - loss: 0.3722 - accuracy: 0.86 - ETA: 0s - loss: 0.3727 - accuracy: 0.86 - ETA: 0s - loss: 0.3723 - accuracy: 0.86 - ETA: 0s - loss: 0.3720 - accuracy: 0.86 - ETA: 0s - loss: 0.3719 - accuracy: 0.86 - ETA: 0s - loss: 0.3716 - accuracy: 0.86 - 9s 5ms/step - loss: 0.3715 - accuracy: 0.8666 - val_loss: 0.3793 - val_accuracy: 0.8636\n"
     ]
    },
    {
     "data": {
      "text/html": [
       "<span style=\"color:#4527A0\"><h1 style=\"font-size:18px\">Trial complete</h1></span>"
      ],
      "text/plain": [
       "<IPython.core.display.HTML object>"
      ]
     },
     "metadata": {},
     "output_type": "display_data"
    },
    {
     "data": {
      "text/html": [
       "<span style=\"color:#4527A0\"><h1 style=\"font-size:18px\">Trial summary</h1></span>"
      ],
      "text/plain": [
       "<IPython.core.display.HTML object>"
      ]
     },
     "metadata": {},
     "output_type": "display_data"
    },
    {
     "data": {
      "text/html": [
       "<span style=\"color:cyan\"> |-Trial ID: 38fcde3384333d9b0bb7827240ad5fc5</span>"
      ],
      "text/plain": [
       "<IPython.core.display.HTML object>"
      ]
     },
     "metadata": {},
     "output_type": "display_data"
    },
    {
     "data": {
      "text/html": [
       "<span style=\"color:cyan\"> |-Score: 0.8636000156402588</span>"
      ],
      "text/plain": [
       "<IPython.core.display.HTML object>"
      ]
     },
     "metadata": {},
     "output_type": "display_data"
    },
    {
     "data": {
      "text/html": [
       "<span style=\"color:cyan\"> |-Best step: 0</span>"
      ],
      "text/plain": [
       "<IPython.core.display.HTML object>"
      ]
     },
     "metadata": {},
     "output_type": "display_data"
    },
    {
     "data": {
      "text/html": [
       "<span style=\"color:#7E57C2\"><h2 style=\"font-size:16px\">Hyperparameters:</h2></span>"
      ],
      "text/plain": [
       "<IPython.core.display.HTML object>"
      ]
     },
     "metadata": {},
     "output_type": "display_data"
    },
    {
     "data": {
      "text/html": [
       "<span style=\"color:cyan\"> |-learning_rate: 0.001</span>"
      ],
      "text/plain": [
       "<IPython.core.display.HTML object>"
      ]
     },
     "metadata": {},
     "output_type": "display_data"
    },
    {
     "data": {
      "text/html": [
       "<span style=\"color:blue\"> |-tuner/bracket: 2</span>"
      ],
      "text/plain": [
       "<IPython.core.display.HTML object>"
      ]
     },
     "metadata": {},
     "output_type": "display_data"
    },
    {
     "data": {
      "text/html": [
       "<span style=\"color:cyan\"> |-tuner/epochs: 4</span>"
      ],
      "text/plain": [
       "<IPython.core.display.HTML object>"
      ]
     },
     "metadata": {},
     "output_type": "display_data"
    },
    {
     "data": {
      "text/html": [
       "<span style=\"color:blue\"> |-tuner/initial_epoch: 2</span>"
      ],
      "text/plain": [
       "<IPython.core.display.HTML object>"
      ]
     },
     "metadata": {},
     "output_type": "display_data"
    },
    {
     "data": {
      "text/html": [
       "<span style=\"color:cyan\"> |-tuner/round: 1</span>"
      ],
      "text/plain": [
       "<IPython.core.display.HTML object>"
      ]
     },
     "metadata": {},
     "output_type": "display_data"
    },
    {
     "data": {
      "text/html": [
       "<span style=\"color:blue\"> |-tuner/trial_id: d877750ebf57a8eab0f72d052386bd27</span>"
      ],
      "text/plain": [
       "<IPython.core.display.HTML object>"
      ]
     },
     "metadata": {},
     "output_type": "display_data"
    },
    {
     "data": {
      "text/html": [
       "<span style=\"color:cyan\"> |-units: 128</span>"
      ],
      "text/plain": [
       "<IPython.core.display.HTML object>"
      ]
     },
     "metadata": {},
     "output_type": "display_data"
    },
    {
     "name": "stdout",
     "output_type": "stream",
     "text": [
      "Epoch 3/4\n",
      "   2/1875 [..............................] - ETA: 0s - loss: 2.5629 - accuracy: 0.06 - ETA: 14:36 - loss: 2.3451 - accuracy: 0.1719WARNING:tensorflow:Method (on_train_batch_end) is slow compared to the batch update (0.473746). Check your callbacks.\n",
      "1875/1875 [==============================] - ETA: 2:33 - loss: 1.7830 - accuracy: 0.388 - ETA: 1:20 - loss: 1.4982 - accuracy: 0.46 - ETA: 54s - loss: 1.2859 - accuracy: 0.5557 - ETA: 45s - loss: 1.2194 - accuracy: 0.572 - ETA: 38s - loss: 1.1570 - accuracy: 0.591 - ETA: 33s - loss: 1.0995 - accuracy: 0.611 - ETA: 27s - loss: 1.0260 - accuracy: 0.636 - ETA: 23s - loss: 0.9720 - accuracy: 0.654 - ETA: 21s - loss: 0.9343 - accuracy: 0.667 - ETA: 19s - loss: 0.9048 - accuracy: 0.677 - ETA: 17s - loss: 0.8811 - accuracy: 0.686 - ETA: 15s - loss: 0.8534 - accuracy: 0.697 - ETA: 13s - loss: 0.8286 - accuracy: 0.706 - ETA: 12s - loss: 0.7967 - accuracy: 0.719 - ETA: 11s - loss: 0.7678 - accuracy: 0.730 - ETA: 10s - loss: 0.7543 - accuracy: 0.736 - ETA: 10s - loss: 0.7374 - accuracy: 0.741 - ETA: 9s - loss: 0.7252 - accuracy: 0.745 - ETA: 9s - loss: 0.7139 - accuracy: 0.74 - ETA: 8s - loss: 0.7095 - accuracy: 0.75 - ETA: 8s - loss: 0.7031 - accuracy: 0.75 - ETA: 8s - loss: 0.6985 - accuracy: 0.75 - ETA: 8s - loss: 0.6922 - accuracy: 0.75 - ETA: 7s - loss: 0.6854 - accuracy: 0.76 - ETA: 7s - loss: 0.6801 - accuracy: 0.76 - ETA: 7s - loss: 0.6740 - accuracy: 0.76 - ETA: 7s - loss: 0.6649 - accuracy: 0.76 - ETA: 6s - loss: 0.6586 - accuracy: 0.77 - ETA: 6s - loss: 0.6546 - accuracy: 0.77 - ETA: 6s - loss: 0.6515 - accuracy: 0.77 - ETA: 5s - loss: 0.6486 - accuracy: 0.77 - ETA: 5s - loss: 0.6428 - accuracy: 0.77 - ETA: 5s - loss: 0.6371 - accuracy: 0.77 - ETA: 5s - loss: 0.6334 - accuracy: 0.77 - ETA: 5s - loss: 0.6261 - accuracy: 0.78 - ETA: 4s - loss: 0.6227 - accuracy: 0.78 - ETA: 4s - loss: 0.6166 - accuracy: 0.78 - ETA: 4s - loss: 0.6122 - accuracy: 0.78 - ETA: 4s - loss: 0.6070 - accuracy: 0.78 - ETA: 4s - loss: 0.6033 - accuracy: 0.78 - ETA: 4s - loss: 0.5993 - accuracy: 0.78 - ETA: 3s - loss: 0.5941 - accuracy: 0.79 - ETA: 3s - loss: 0.5894 - accuracy: 0.79 - ETA: 3s - loss: 0.5872 - accuracy: 0.79 - ETA: 3s - loss: 0.5821 - accuracy: 0.79 - ETA: 3s - loss: 0.5806 - accuracy: 0.79 - ETA: 3s - loss: 0.5769 - accuracy: 0.79 - ETA: 2s - loss: 0.5727 - accuracy: 0.79 - ETA: 2s - loss: 0.5702 - accuracy: 0.79 - ETA: 2s - loss: 0.5653 - accuracy: 0.80 - ETA: 2s - loss: 0.5617 - accuracy: 0.80 - ETA: 2s - loss: 0.5592 - accuracy: 0.80 - ETA: 2s - loss: 0.5570 - accuracy: 0.80 - ETA: 2s - loss: 0.5555 - accuracy: 0.80 - ETA: 2s - loss: 0.5526 - accuracy: 0.80 - ETA: 2s - loss: 0.5509 - accuracy: 0.80 - ETA: 2s - loss: 0.5488 - accuracy: 0.80 - ETA: 1s - loss: 0.5463 - accuracy: 0.80 - ETA: 1s - loss: 0.5450 - accuracy: 0.80 - ETA: 1s - loss: 0.5442 - accuracy: 0.80 - ETA: 1s - loss: 0.5428 - accuracy: 0.81 - ETA: 1s - loss: 0.5407 - accuracy: 0.81 - ETA: 1s - loss: 0.5388 - accuracy: 0.81 - ETA: 1s - loss: 0.5366 - accuracy: 0.81 - ETA: 1s - loss: 0.5345 - accuracy: 0.81 - ETA: 1s - loss: 0.5332 - accuracy: 0.81 - ETA: 1s - loss: 0.5312 - accuracy: 0.81 - ETA: 1s - loss: 0.5299 - accuracy: 0.81 - ETA: 1s - loss: 0.5286 - accuracy: 0.81 - ETA: 1s - loss: 0.5285 - accuracy: 0.81 - ETA: 0s - loss: 0.5264 - accuracy: 0.81 - ETA: 0s - loss: 0.5244 - accuracy: 0.81 - ETA: 0s - loss: 0.5231 - accuracy: 0.81 - ETA: 0s - loss: 0.5219 - accuracy: 0.81 - ETA: 0s - loss: 0.5202 - accuracy: 0.81 - ETA: 0s - loss: 0.5186 - accuracy: 0.81 - ETA: 0s - loss: 0.5174 - accuracy: 0.81 - ETA: 0s - loss: 0.5157 - accuracy: 0.81 - ETA: 0s - loss: 0.5146 - accuracy: 0.81 - ETA: 0s - loss: 0.5126 - accuracy: 0.81 - ETA: 0s - loss: 0.5108 - accuracy: 0.82 - ETA: 0s - loss: 0.5091 - accuracy: 0.82 - ETA: 0s - loss: 0.5084 - accuracy: 0.82 - 6s 3ms/step - loss: 0.5073 - accuracy: 0.8207 - val_loss: 0.4445 - val_accuracy: 0.8421\n",
      "Epoch 4/4\n"
     ]
    },
    {
     "name": "stdout",
     "output_type": "stream",
     "text": [
      "1875/1875 [==============================] - ETA: 0s - loss: 0.5361 - accuracy: 0.90 - ETA: 3s - loss: 0.4443 - accuracy: 0.85 - ETA: 3s - loss: 0.4081 - accuracy: 0.86 - ETA: 3s - loss: 0.4138 - accuracy: 0.86 - ETA: 3s - loss: 0.4135 - accuracy: 0.85 - ETA: 3s - loss: 0.4168 - accuracy: 0.85 - ETA: 3s - loss: 0.4099 - accuracy: 0.85 - ETA: 3s - loss: 0.4077 - accuracy: 0.85 - ETA: 3s - loss: 0.4067 - accuracy: 0.85 - ETA: 3s - loss: 0.4091 - accuracy: 0.85 - ETA: 3s - loss: 0.4071 - accuracy: 0.85 - ETA: 3s - loss: 0.4038 - accuracy: 0.85 - ETA: 2s - loss: 0.4024 - accuracy: 0.85 - ETA: 2s - loss: 0.3996 - accuracy: 0.85 - ETA: 2s - loss: 0.3971 - accuracy: 0.85 - ETA: 2s - loss: 0.4000 - accuracy: 0.85 - ETA: 2s - loss: 0.4007 - accuracy: 0.85 - ETA: 2s - loss: 0.4003 - accuracy: 0.85 - ETA: 2s - loss: 0.3998 - accuracy: 0.85 - ETA: 2s - loss: 0.3990 - accuracy: 0.85 - ETA: 2s - loss: 0.3982 - accuracy: 0.85 - ETA: 2s - loss: 0.3981 - accuracy: 0.85 - ETA: 2s - loss: 0.3970 - accuracy: 0.85 - ETA: 2s - loss: 0.3972 - accuracy: 0.85 - ETA: 2s - loss: 0.3974 - accuracy: 0.85 - ETA: 2s - loss: 0.3984 - accuracy: 0.85 - ETA: 2s - loss: 0.3981 - accuracy: 0.85 - ETA: 2s - loss: 0.3968 - accuracy: 0.85 - ETA: 2s - loss: 0.3964 - accuracy: 0.85 - ETA: 2s - loss: 0.3955 - accuracy: 0.85 - ETA: 2s - loss: 0.3956 - accuracy: 0.85 - ETA: 2s - loss: 0.3961 - accuracy: 0.85 - ETA: 2s - loss: 0.3962 - accuracy: 0.85 - ETA: 2s - loss: 0.3971 - accuracy: 0.85 - ETA: 2s - loss: 0.3969 - accuracy: 0.85 - ETA: 2s - loss: 0.3984 - accuracy: 0.85 - ETA: 2s - loss: 0.3980 - accuracy: 0.85 - ETA: 2s - loss: 0.3974 - accuracy: 0.85 - ETA: 2s - loss: 0.3968 - accuracy: 0.85 - ETA: 2s - loss: 0.3973 - accuracy: 0.85 - ETA: 2s - loss: 0.3970 - accuracy: 0.85 - ETA: 2s - loss: 0.3962 - accuracy: 0.85 - ETA: 2s - loss: 0.3952 - accuracy: 0.85 - ETA: 2s - loss: 0.3938 - accuracy: 0.85 - ETA: 2s - loss: 0.3936 - accuracy: 0.85 - ETA: 2s - loss: 0.3932 - accuracy: 0.85 - ETA: 2s - loss: 0.3929 - accuracy: 0.85 - ETA: 2s - loss: 0.3929 - accuracy: 0.85 - ETA: 2s - loss: 0.3926 - accuracy: 0.85 - ETA: 2s - loss: 0.3933 - accuracy: 0.85 - ETA: 2s - loss: 0.3930 - accuracy: 0.85 - ETA: 2s - loss: 0.3937 - accuracy: 0.85 - ETA: 2s - loss: 0.3933 - accuracy: 0.85 - ETA: 2s - loss: 0.3925 - accuracy: 0.86 - ETA: 2s - loss: 0.3923 - accuracy: 0.86 - ETA: 2s - loss: 0.3915 - accuracy: 0.86 - ETA: 2s - loss: 0.3913 - accuracy: 0.86 - ETA: 2s - loss: 0.3920 - accuracy: 0.86 - ETA: 2s - loss: 0.3927 - accuracy: 0.86 - ETA: 2s - loss: 0.3920 - accuracy: 0.86 - ETA: 2s - loss: 0.3917 - accuracy: 0.86 - ETA: 2s - loss: 0.3919 - accuracy: 0.86 - ETA: 2s - loss: 0.3911 - accuracy: 0.86 - ETA: 2s - loss: 0.3922 - accuracy: 0.86 - ETA: 2s - loss: 0.3929 - accuracy: 0.86 - ETA: 2s - loss: 0.3922 - accuracy: 0.86 - ETA: 2s - loss: 0.3916 - accuracy: 0.86 - ETA: 1s - loss: 0.3916 - accuracy: 0.86 - ETA: 1s - loss: 0.3915 - accuracy: 0.86 - ETA: 1s - loss: 0.3910 - accuracy: 0.86 - ETA: 1s - loss: 0.3909 - accuracy: 0.86 - ETA: 1s - loss: 0.3910 - accuracy: 0.86 - ETA: 1s - loss: 0.3906 - accuracy: 0.86 - ETA: 1s - loss: 0.3902 - accuracy: 0.86 - ETA: 1s - loss: 0.3903 - accuracy: 0.86 - ETA: 1s - loss: 0.3902 - accuracy: 0.86 - ETA: 1s - loss: 0.3894 - accuracy: 0.86 - ETA: 1s - loss: 0.3893 - accuracy: 0.86 - ETA: 1s - loss: 0.3885 - accuracy: 0.86 - ETA: 1s - loss: 0.3881 - accuracy: 0.86 - ETA: 1s - loss: 0.3872 - accuracy: 0.86 - ETA: 1s - loss: 0.3872 - accuracy: 0.86 - ETA: 1s - loss: 0.3868 - accuracy: 0.86 - ETA: 1s - loss: 0.3865 - accuracy: 0.86 - ETA: 0s - loss: 0.3866 - accuracy: 0.86 - ETA: 0s - loss: 0.3866 - accuracy: 0.86 - ETA: 0s - loss: 0.3868 - accuracy: 0.86 - ETA: 0s - loss: 0.3862 - accuracy: 0.86 - ETA: 0s - loss: 0.3861 - accuracy: 0.86 - ETA: 0s - loss: 0.3859 - accuracy: 0.86 - ETA: 0s - loss: 0.3855 - accuracy: 0.86 - ETA: 0s - loss: 0.3852 - accuracy: 0.86 - ETA: 0s - loss: 0.3852 - accuracy: 0.86 - ETA: 0s - loss: 0.3848 - accuracy: 0.86 - ETA: 0s - loss: 0.3848 - accuracy: 0.86 - ETA: 0s - loss: 0.3852 - accuracy: 0.86 - ETA: 0s - loss: 0.3847 - accuracy: 0.86 - ETA: 0s - loss: 0.3846 - accuracy: 0.86 - ETA: 0s - loss: 0.3849 - accuracy: 0.86 - ETA: 0s - loss: 0.3844 - accuracy: 0.86 - ETA: 0s - loss: 0.3845 - accuracy: 0.86 - ETA: 0s - loss: 0.3844 - accuracy: 0.86 - ETA: 0s - loss: 0.3846 - accuracy: 0.86 - ETA: 0s - loss: 0.3852 - accuracy: 0.86 - ETA: 0s - loss: 0.3853 - accuracy: 0.86 - ETA: 0s - loss: 0.3846 - accuracy: 0.86 - 6s 3ms/step - loss: 0.3848 - accuracy: 0.8636 - val_loss: 0.4172 - val_accuracy: 0.8545\n"
     ]
    },
    {
     "data": {
      "text/html": [
       "<span style=\"color:#4527A0\"><h1 style=\"font-size:18px\">Trial complete</h1></span>"
      ],
      "text/plain": [
       "<IPython.core.display.HTML object>"
      ]
     },
     "metadata": {},
     "output_type": "display_data"
    },
    {
     "data": {
      "text/html": [
       "<span style=\"color:#4527A0\"><h1 style=\"font-size:18px\">Trial summary</h1></span>"
      ],
      "text/plain": [
       "<IPython.core.display.HTML object>"
      ]
     },
     "metadata": {},
     "output_type": "display_data"
    },
    {
     "data": {
      "text/html": [
       "<span style=\"color:cyan\"> |-Trial ID: 75ed6065b963ede7fbf5ad4ebb740ee1</span>"
      ],
      "text/plain": [
       "<IPython.core.display.HTML object>"
      ]
     },
     "metadata": {},
     "output_type": "display_data"
    },
    {
     "data": {
      "text/html": [
       "<span style=\"color:cyan\"> |-Score: 0.8544999957084656</span>"
      ],
      "text/plain": [
       "<IPython.core.display.HTML object>"
      ]
     },
     "metadata": {},
     "output_type": "display_data"
    },
    {
     "data": {
      "text/html": [
       "<span style=\"color:cyan\"> |-Best step: 0</span>"
      ],
      "text/plain": [
       "<IPython.core.display.HTML object>"
      ]
     },
     "metadata": {},
     "output_type": "display_data"
    },
    {
     "data": {
      "text/html": [
       "<span style=\"color:#7E57C2\"><h2 style=\"font-size:16px\">Hyperparameters:</h2></span>"
      ],
      "text/plain": [
       "<IPython.core.display.HTML object>"
      ]
     },
     "metadata": {},
     "output_type": "display_data"
    },
    {
     "data": {
      "text/html": [
       "<span style=\"color:cyan\"> |-learning_rate: 0.001</span>"
      ],
      "text/plain": [
       "<IPython.core.display.HTML object>"
      ]
     },
     "metadata": {},
     "output_type": "display_data"
    },
    {
     "data": {
      "text/html": [
       "<span style=\"color:blue\"> |-tuner/bracket: 2</span>"
      ],
      "text/plain": [
       "<IPython.core.display.HTML object>"
      ]
     },
     "metadata": {},
     "output_type": "display_data"
    },
    {
     "data": {
      "text/html": [
       "<span style=\"color:cyan\"> |-tuner/epochs: 4</span>"
      ],
      "text/plain": [
       "<IPython.core.display.HTML object>"
      ]
     },
     "metadata": {},
     "output_type": "display_data"
    },
    {
     "data": {
      "text/html": [
       "<span style=\"color:blue\"> |-tuner/initial_epoch: 2</span>"
      ],
      "text/plain": [
       "<IPython.core.display.HTML object>"
      ]
     },
     "metadata": {},
     "output_type": "display_data"
    },
    {
     "data": {
      "text/html": [
       "<span style=\"color:cyan\"> |-tuner/round: 1</span>"
      ],
      "text/plain": [
       "<IPython.core.display.HTML object>"
      ]
     },
     "metadata": {},
     "output_type": "display_data"
    },
    {
     "data": {
      "text/html": [
       "<span style=\"color:blue\"> |-tuner/trial_id: ab59c8efa4bd32e22bf9df8f87b26ac0</span>"
      ],
      "text/plain": [
       "<IPython.core.display.HTML object>"
      ]
     },
     "metadata": {},
     "output_type": "display_data"
    },
    {
     "data": {
      "text/html": [
       "<span style=\"color:cyan\"> |-units: 96</span>"
      ],
      "text/plain": [
       "<IPython.core.display.HTML object>"
      ]
     },
     "metadata": {},
     "output_type": "display_data"
    },
    {
     "name": "stdout",
     "output_type": "stream",
     "text": [
      "Epoch 3/4\n",
      "   2/1875 [..............................] - ETA: 0s - loss: 2.4646 - accuracy: 0.12 - ETA: 9:03 - loss: 2.3625 - accuracy: 0.1719WARNING:tensorflow:Method (on_train_batch_end) is slow compared to the batch update (0.294237). Check your callbacks.\n",
      "1875/1875 [==============================] - ETA: 38s - loss: 1.5075 - accuracy: 0.4552 - ETA: 20s - loss: 1.2135 - accuracy: 0.573 - ETA: 14s - loss: 1.0756 - accuracy: 0.620 - ETA: 11s - loss: 0.9830 - accuracy: 0.656 - ETA: 9s - loss: 0.9281 - accuracy: 0.674 - ETA: 8s - loss: 0.8859 - accuracy: 0.68 - ETA: 7s - loss: 0.8528 - accuracy: 0.69 - ETA: 7s - loss: 0.8226 - accuracy: 0.71 - ETA: 6s - loss: 0.7947 - accuracy: 0.72 - ETA: 5s - loss: 0.7722 - accuracy: 0.72 - ETA: 5s - loss: 0.7538 - accuracy: 0.73 - ETA: 5s - loss: 0.7357 - accuracy: 0.74 - ETA: 5s - loss: 0.7269 - accuracy: 0.74 - ETA: 4s - loss: 0.7110 - accuracy: 0.75 - ETA: 4s - loss: 0.7027 - accuracy: 0.75 - ETA: 4s - loss: 0.6960 - accuracy: 0.75 - ETA: 4s - loss: 0.6865 - accuracy: 0.75 - ETA: 4s - loss: 0.6783 - accuracy: 0.76 - ETA: 3s - loss: 0.6700 - accuracy: 0.76 - ETA: 3s - loss: 0.6627 - accuracy: 0.76 - ETA: 3s - loss: 0.6562 - accuracy: 0.76 - ETA: 3s - loss: 0.6479 - accuracy: 0.77 - ETA: 3s - loss: 0.6450 - accuracy: 0.77 - ETA: 3s - loss: 0.6387 - accuracy: 0.77 - ETA: 3s - loss: 0.6322 - accuracy: 0.77 - ETA: 3s - loss: 0.6276 - accuracy: 0.77 - ETA: 2s - loss: 0.6231 - accuracy: 0.78 - ETA: 2s - loss: 0.6168 - accuracy: 0.78 - ETA: 2s - loss: 0.6119 - accuracy: 0.78 - ETA: 2s - loss: 0.6088 - accuracy: 0.78 - ETA: 2s - loss: 0.6043 - accuracy: 0.78 - ETA: 2s - loss: 0.6018 - accuracy: 0.78 - ETA: 2s - loss: 0.5997 - accuracy: 0.79 - ETA: 2s - loss: 0.5965 - accuracy: 0.79 - ETA: 2s - loss: 0.5940 - accuracy: 0.79 - ETA: 2s - loss: 0.5928 - accuracy: 0.79 - ETA: 2s - loss: 0.5904 - accuracy: 0.79 - ETA: 2s - loss: 0.5889 - accuracy: 0.79 - ETA: 2s - loss: 0.5868 - accuracy: 0.79 - ETA: 2s - loss: 0.5835 - accuracy: 0.79 - ETA: 2s - loss: 0.5812 - accuracy: 0.79 - ETA: 1s - loss: 0.5783 - accuracy: 0.79 - ETA: 1s - loss: 0.5758 - accuracy: 0.79 - ETA: 1s - loss: 0.5730 - accuracy: 0.79 - ETA: 1s - loss: 0.5709 - accuracy: 0.80 - ETA: 1s - loss: 0.5692 - accuracy: 0.80 - ETA: 1s - loss: 0.5686 - accuracy: 0.80 - ETA: 1s - loss: 0.5673 - accuracy: 0.80 - ETA: 1s - loss: 0.5652 - accuracy: 0.80 - ETA: 1s - loss: 0.5613 - accuracy: 0.80 - ETA: 1s - loss: 0.5589 - accuracy: 0.80 - ETA: 1s - loss: 0.5560 - accuracy: 0.80 - ETA: 1s - loss: 0.5539 - accuracy: 0.80 - ETA: 1s - loss: 0.5517 - accuracy: 0.80 - ETA: 1s - loss: 0.5489 - accuracy: 0.80 - ETA: 1s - loss: 0.5471 - accuracy: 0.80 - ETA: 0s - loss: 0.5453 - accuracy: 0.80 - ETA: 0s - loss: 0.5422 - accuracy: 0.80 - ETA: 0s - loss: 0.5417 - accuracy: 0.81 - ETA: 0s - loss: 0.5399 - accuracy: 0.81 - ETA: 0s - loss: 0.5389 - accuracy: 0.81 - ETA: 0s - loss: 0.5370 - accuracy: 0.81 - ETA: 0s - loss: 0.5352 - accuracy: 0.81 - ETA: 0s - loss: 0.5343 - accuracy: 0.81 - ETA: 0s - loss: 0.5324 - accuracy: 0.81 - ETA: 0s - loss: 0.5310 - accuracy: 0.81 - ETA: 0s - loss: 0.5289 - accuracy: 0.81 - ETA: 0s - loss: 0.5273 - accuracy: 0.81 - ETA: 0s - loss: 0.5260 - accuracy: 0.81 - ETA: 0s - loss: 0.5248 - accuracy: 0.81 - 5s 3ms/step - loss: 0.5241 - accuracy: 0.8168 - val_loss: 0.4769 - val_accuracy: 0.8284\n",
      "Epoch 4/4\n",
      "1875/1875 [==============================] - ETA: 0s - loss: 0.6446 - accuracy: 0.65 - ETA: 4s - loss: 0.3767 - accuracy: 0.86 - ETA: 4s - loss: 0.4150 - accuracy: 0.84 - ETA: 4s - loss: 0.4106 - accuracy: 0.84 - ETA: 4s - loss: 0.3934 - accuracy: 0.85 - ETA: 4s - loss: 0.3940 - accuracy: 0.85 - ETA: 4s - loss: 0.3967 - accuracy: 0.85 - ETA: 4s - loss: 0.3994 - accuracy: 0.85 - ETA: 4s - loss: 0.4023 - accuracy: 0.85 - ETA: 3s - loss: 0.3988 - accuracy: 0.85 - ETA: 3s - loss: 0.3984 - accuracy: 0.85 - ETA: 3s - loss: 0.3999 - accuracy: 0.85 - ETA: 3s - loss: 0.4020 - accuracy: 0.85 - ETA: 3s - loss: 0.4037 - accuracy: 0.85 - ETA: 3s - loss: 0.4046 - accuracy: 0.85 - ETA: 3s - loss: 0.4063 - accuracy: 0.85 - ETA: 3s - loss: 0.4077 - accuracy: 0.85 - ETA: 3s - loss: 0.4064 - accuracy: 0.85 - ETA: 3s - loss: 0.4074 - accuracy: 0.85 - ETA: 3s - loss: 0.4078 - accuracy: 0.85 - ETA: 3s - loss: 0.4083 - accuracy: 0.85 - ETA: 3s - loss: 0.4070 - accuracy: 0.85 - ETA: 3s - loss: 0.4069 - accuracy: 0.85 - ETA: 3s - loss: 0.4061 - accuracy: 0.85 - ETA: 3s - loss: 0.4054 - accuracy: 0.85 - ETA: 3s - loss: 0.4066 - accuracy: 0.85 - ETA: 3s - loss: 0.4083 - accuracy: 0.85 - ETA: 3s - loss: 0.4073 - accuracy: 0.85 - ETA: 3s - loss: 0.4074 - accuracy: 0.85 - ETA: 3s - loss: 0.4054 - accuracy: 0.85 - ETA: 3s - loss: 0.4029 - accuracy: 0.85 - ETA: 3s - loss: 0.4037 - accuracy: 0.85 - ETA: 2s - loss: 0.4051 - accuracy: 0.85 - ETA: 2s - loss: 0.4048 - accuracy: 0.85 - ETA: 2s - loss: 0.4053 - accuracy: 0.85 - ETA: 2s - loss: 0.4045 - accuracy: 0.85 - ETA: 2s - loss: 0.4042 - accuracy: 0.85 - ETA: 2s - loss: 0.4059 - accuracy: 0.85 - ETA: 2s - loss: 0.4062 - accuracy: 0.85 - ETA: 2s - loss: 0.4056 - accuracy: 0.85 - ETA: 2s - loss: 0.4058 - accuracy: 0.85 - ETA: 2s - loss: 0.4057 - accuracy: 0.85 - ETA: 2s - loss: 0.4055 - accuracy: 0.85 - ETA: 2s - loss: 0.4059 - accuracy: 0.85 - ETA: 2s - loss: 0.4066 - accuracy: 0.85 - ETA: 2s - loss: 0.4059 - accuracy: 0.85 - ETA: 2s - loss: 0.4055 - accuracy: 0.85 - ETA: 2s - loss: 0.4045 - accuracy: 0.85 - ETA: 1s - loss: 0.4022 - accuracy: 0.85 - ETA: 1s - loss: 0.4029 - accuracy: 0.85 - ETA: 1s - loss: 0.4033 - accuracy: 0.85 - ETA: 1s - loss: 0.4034 - accuracy: 0.85 - ETA: 1s - loss: 0.4030 - accuracy: 0.85 - ETA: 1s - loss: 0.4025 - accuracy: 0.85 - ETA: 1s - loss: 0.4022 - accuracy: 0.85 - ETA: 1s - loss: 0.4015 - accuracy: 0.85 - ETA: 1s - loss: 0.4015 - accuracy: 0.85 - ETA: 1s - loss: 0.4017 - accuracy: 0.85 - ETA: 1s - loss: 0.4007 - accuracy: 0.85 - ETA: 1s - loss: 0.4002 - accuracy: 0.85 - ETA: 1s - loss: 0.3996 - accuracy: 0.85 - ETA: 1s - loss: 0.3996 - accuracy: 0.85 - ETA: 1s - loss: 0.4004 - accuracy: 0.85 - ETA: 1s - loss: 0.3997 - accuracy: 0.85 - ETA: 1s - loss: 0.3995 - accuracy: 0.85 - ETA: 1s - loss: 0.3992 - accuracy: 0.85 - ETA: 1s - loss: 0.3992 - accuracy: 0.85 - ETA: 0s - loss: 0.3992 - accuracy: 0.85 - ETA: 0s - loss: 0.3990 - accuracy: 0.85 - ETA: 0s - loss: 0.3987 - accuracy: 0.85 - ETA: 0s - loss: 0.3981 - accuracy: 0.85 - ETA: 0s - loss: 0.3975 - accuracy: 0.85 - ETA: 0s - loss: 0.3975 - accuracy: 0.85 - ETA: 0s - loss: 0.3978 - accuracy: 0.85 - ETA: 0s - loss: 0.3973 - accuracy: 0.85 - ETA: 0s - loss: 0.3979 - accuracy: 0.85 - ETA: 0s - loss: 0.3983 - accuracy: 0.85 - ETA: 0s - loss: 0.3980 - accuracy: 0.85 - ETA: 0s - loss: 0.3978 - accuracy: 0.85 - ETA: 0s - loss: 0.3981 - accuracy: 0.85 - ETA: 0s - loss: 0.3973 - accuracy: 0.85 - ETA: 0s - loss: 0.3976 - accuracy: 0.85 - ETA: 0s - loss: 0.3978 - accuracy: 0.85 - ETA: 0s - loss: 0.3979 - accuracy: 0.85 - 5s 3ms/step - loss: 0.3981 - accuracy: 0.8581 - val_loss: 0.4036 - val_accuracy: 0.8563\n"
     ]
    },
    {
     "data": {
      "text/html": [
       "<span style=\"color:#4527A0\"><h1 style=\"font-size:18px\">Trial complete</h1></span>"
      ],
      "text/plain": [
       "<IPython.core.display.HTML object>"
      ]
     },
     "metadata": {},
     "output_type": "display_data"
    },
    {
     "data": {
      "text/html": [
       "<span style=\"color:#4527A0\"><h1 style=\"font-size:18px\">Trial summary</h1></span>"
      ],
      "text/plain": [
       "<IPython.core.display.HTML object>"
      ]
     },
     "metadata": {},
     "output_type": "display_data"
    },
    {
     "data": {
      "text/html": [
       "<span style=\"color:cyan\"> |-Trial ID: a1aeb7a40af9d7829692f0e6fb92f13d</span>"
      ],
      "text/plain": [
       "<IPython.core.display.HTML object>"
      ]
     },
     "metadata": {},
     "output_type": "display_data"
    },
    {
     "data": {
      "text/html": [
       "<span style=\"color:cyan\"> |-Score: 0.8562999963760376</span>"
      ],
      "text/plain": [
       "<IPython.core.display.HTML object>"
      ]
     },
     "metadata": {},
     "output_type": "display_data"
    },
    {
     "data": {
      "text/html": [
       "<span style=\"color:cyan\"> |-Best step: 0</span>"
      ],
      "text/plain": [
       "<IPython.core.display.HTML object>"
      ]
     },
     "metadata": {},
     "output_type": "display_data"
    },
    {
     "data": {
      "text/html": [
       "<span style=\"color:#7E57C2\"><h2 style=\"font-size:16px\">Hyperparameters:</h2></span>"
      ],
      "text/plain": [
       "<IPython.core.display.HTML object>"
      ]
     },
     "metadata": {},
     "output_type": "display_data"
    },
    {
     "data": {
      "text/html": [
       "<span style=\"color:cyan\"> |-learning_rate: 0.001</span>"
      ],
      "text/plain": [
       "<IPython.core.display.HTML object>"
      ]
     },
     "metadata": {},
     "output_type": "display_data"
    },
    {
     "data": {
      "text/html": [
       "<span style=\"color:blue\"> |-tuner/bracket: 2</span>"
      ],
      "text/plain": [
       "<IPython.core.display.HTML object>"
      ]
     },
     "metadata": {},
     "output_type": "display_data"
    },
    {
     "data": {
      "text/html": [
       "<span style=\"color:cyan\"> |-tuner/epochs: 4</span>"
      ],
      "text/plain": [
       "<IPython.core.display.HTML object>"
      ]
     },
     "metadata": {},
     "output_type": "display_data"
    },
    {
     "data": {
      "text/html": [
       "<span style=\"color:blue\"> |-tuner/initial_epoch: 2</span>"
      ],
      "text/plain": [
       "<IPython.core.display.HTML object>"
      ]
     },
     "metadata": {},
     "output_type": "display_data"
    },
    {
     "data": {
      "text/html": [
       "<span style=\"color:cyan\"> |-tuner/round: 1</span>"
      ],
      "text/plain": [
       "<IPython.core.display.HTML object>"
      ]
     },
     "metadata": {},
     "output_type": "display_data"
    },
    {
     "data": {
      "text/html": [
       "<span style=\"color:blue\"> |-tuner/trial_id: f367608ce1214e95e4eb0c555e9db5c2</span>"
      ],
      "text/plain": [
       "<IPython.core.display.HTML object>"
      ]
     },
     "metadata": {},
     "output_type": "display_data"
    },
    {
     "data": {
      "text/html": [
       "<span style=\"color:cyan\"> |-units: 64</span>"
      ],
      "text/plain": [
       "<IPython.core.display.HTML object>"
      ]
     },
     "metadata": {},
     "output_type": "display_data"
    },
    {
     "name": "stdout",
     "output_type": "stream",
     "text": [
      "Epoch 5/10\n",
      "   2/1875 [..............................] - ETA: 0s - loss: 2.3316 - accuracy: 0.25 - ETA: 10:10 - loss: 2.2840 - accuracy: 0.2031WARNING:tensorflow:Method (on_train_batch_end) is slow compared to the batch update (0.329707). Check your callbacks.\n",
      "1875/1875 [==============================] - ETA: 54s - loss: 1.3924 - accuracy: 0.5495  - ETA: 29s - loss: 1.1203 - accuracy: 0.623 - ETA: 21s - loss: 0.9815 - accuracy: 0.678 - ETA: 16s - loss: 0.9043 - accuracy: 0.694 - ETA: 14s - loss: 0.8648 - accuracy: 0.708 - ETA: 12s - loss: 0.8114 - accuracy: 0.725 - ETA: 10s - loss: 0.7806 - accuracy: 0.733 - ETA: 9s - loss: 0.7662 - accuracy: 0.739 - ETA: 8s - loss: 0.7401 - accuracy: 0.74 - ETA: 8s - loss: 0.7260 - accuracy: 0.75 - ETA: 7s - loss: 0.7105 - accuracy: 0.75 - ETA: 7s - loss: 0.6947 - accuracy: 0.76 - ETA: 7s - loss: 0.6850 - accuracy: 0.76 - ETA: 6s - loss: 0.6772 - accuracy: 0.76 - ETA: 6s - loss: 0.6751 - accuracy: 0.77 - ETA: 6s - loss: 0.6692 - accuracy: 0.77 - ETA: 5s - loss: 0.6601 - accuracy: 0.77 - ETA: 5s - loss: 0.6515 - accuracy: 0.77 - ETA: 5s - loss: 0.6429 - accuracy: 0.78 - ETA: 5s - loss: 0.6353 - accuracy: 0.78 - ETA: 4s - loss: 0.6275 - accuracy: 0.78 - ETA: 4s - loss: 0.6235 - accuracy: 0.78 - ETA: 4s - loss: 0.6202 - accuracy: 0.78 - ETA: 4s - loss: 0.6171 - accuracy: 0.78 - ETA: 4s - loss: 0.6123 - accuracy: 0.78 - ETA: 4s - loss: 0.6099 - accuracy: 0.79 - ETA: 4s - loss: 0.6059 - accuracy: 0.79 - ETA: 4s - loss: 0.6023 - accuracy: 0.79 - ETA: 4s - loss: 0.5975 - accuracy: 0.79 - ETA: 4s - loss: 0.5944 - accuracy: 0.79 - ETA: 3s - loss: 0.5908 - accuracy: 0.79 - ETA: 3s - loss: 0.5865 - accuracy: 0.79 - ETA: 3s - loss: 0.5839 - accuracy: 0.79 - ETA: 3s - loss: 0.5805 - accuracy: 0.80 - ETA: 3s - loss: 0.5774 - accuracy: 0.80 - ETA: 3s - loss: 0.5753 - accuracy: 0.80 - ETA: 3s - loss: 0.5730 - accuracy: 0.80 - ETA: 3s - loss: 0.5705 - accuracy: 0.80 - ETA: 3s - loss: 0.5675 - accuracy: 0.80 - ETA: 3s - loss: 0.5655 - accuracy: 0.80 - ETA: 3s - loss: 0.5633 - accuracy: 0.80 - ETA: 3s - loss: 0.5619 - accuracy: 0.80 - ETA: 2s - loss: 0.5616 - accuracy: 0.80 - ETA: 2s - loss: 0.5602 - accuracy: 0.80 - ETA: 2s - loss: 0.5587 - accuracy: 0.80 - ETA: 2s - loss: 0.5569 - accuracy: 0.80 - ETA: 2s - loss: 0.5557 - accuracy: 0.80 - ETA: 2s - loss: 0.5548 - accuracy: 0.80 - ETA: 2s - loss: 0.5537 - accuracy: 0.80 - ETA: 2s - loss: 0.5530 - accuracy: 0.80 - ETA: 2s - loss: 0.5510 - accuracy: 0.81 - ETA: 2s - loss: 0.5488 - accuracy: 0.81 - ETA: 2s - loss: 0.5473 - accuracy: 0.81 - ETA: 2s - loss: 0.5464 - accuracy: 0.81 - ETA: 2s - loss: 0.5442 - accuracy: 0.81 - ETA: 2s - loss: 0.5420 - accuracy: 0.81 - ETA: 2s - loss: 0.5386 - accuracy: 0.81 - ETA: 2s - loss: 0.5370 - accuracy: 0.81 - ETA: 2s - loss: 0.5357 - accuracy: 0.81 - ETA: 2s - loss: 0.5341 - accuracy: 0.81 - ETA: 2s - loss: 0.5331 - accuracy: 0.81 - ETA: 2s - loss: 0.5312 - accuracy: 0.81 - ETA: 1s - loss: 0.5294 - accuracy: 0.81 - ETA: 1s - loss: 0.5289 - accuracy: 0.81 - ETA: 1s - loss: 0.5274 - accuracy: 0.81 - ETA: 1s - loss: 0.5252 - accuracy: 0.81 - ETA: 1s - loss: 0.5237 - accuracy: 0.81 - ETA: 1s - loss: 0.5221 - accuracy: 0.81 - ETA: 1s - loss: 0.5205 - accuracy: 0.81 - ETA: 1s - loss: 0.5195 - accuracy: 0.82 - ETA: 1s - loss: 0.5185 - accuracy: 0.82 - ETA: 1s - loss: 0.5176 - accuracy: 0.82 - ETA: 1s - loss: 0.5173 - accuracy: 0.82 - ETA: 1s - loss: 0.5164 - accuracy: 0.82 - ETA: 1s - loss: 0.5152 - accuracy: 0.82 - ETA: 1s - loss: 0.5143 - accuracy: 0.82 - ETA: 1s - loss: 0.5143 - accuracy: 0.82 - ETA: 1s - loss: 0.5135 - accuracy: 0.82 - ETA: 1s - loss: 0.5125 - accuracy: 0.82 - ETA: 1s - loss: 0.5106 - accuracy: 0.82 - ETA: 0s - loss: 0.5099 - accuracy: 0.82 - ETA: 0s - loss: 0.5087 - accuracy: 0.82 - ETA: 0s - loss: 0.5074 - accuracy: 0.82 - ETA: 0s - loss: 0.5069 - accuracy: 0.82 - ETA: 0s - loss: 0.5057 - accuracy: 0.82 - ETA: 0s - loss: 0.5040 - accuracy: 0.82 - ETA: 0s - loss: 0.5037 - accuracy: 0.82 - ETA: 0s - loss: 0.5026 - accuracy: 0.82 - ETA: 0s - loss: 0.5019 - accuracy: 0.82 - ETA: 0s - loss: 0.5009 - accuracy: 0.82 - ETA: 0s - loss: 0.4993 - accuracy: 0.82 - ETA: 0s - loss: 0.4978 - accuracy: 0.82 - ETA: 0s - loss: 0.4969 - accuracy: 0.82 - ETA: 0s - loss: 0.4955 - accuracy: 0.82 - ETA: 0s - loss: 0.4939 - accuracy: 0.82 - 6s 3ms/step - loss: 0.4934 - accuracy: 0.8283 - val_loss: 0.4863 - val_accuracy: 0.8322\n",
      "Epoch 6/10\n"
     ]
    },
    {
     "name": "stdout",
     "output_type": "stream",
     "text": [
      "1875/1875 [==============================] - ETA: 0s - loss: 0.3917 - accuracy: 0.87 - ETA: 4s - loss: 0.4323 - accuracy: 0.82 - ETA: 5s - loss: 0.4142 - accuracy: 0.83 - ETA: 5s - loss: 0.4061 - accuracy: 0.84 - ETA: 5s - loss: 0.3988 - accuracy: 0.84 - ETA: 5s - loss: 0.4034 - accuracy: 0.84 - ETA: 5s - loss: 0.3930 - accuracy: 0.85 - ETA: 4s - loss: 0.3919 - accuracy: 0.86 - ETA: 4s - loss: 0.3865 - accuracy: 0.86 - ETA: 4s - loss: 0.3864 - accuracy: 0.86 - ETA: 5s - loss: 0.3889 - accuracy: 0.85 - ETA: 5s - loss: 0.3882 - accuracy: 0.85 - ETA: 5s - loss: 0.3883 - accuracy: 0.86 - ETA: 5s - loss: 0.3931 - accuracy: 0.85 - ETA: 5s - loss: 0.3913 - accuracy: 0.86 - ETA: 4s - loss: 0.3898 - accuracy: 0.86 - ETA: 4s - loss: 0.3916 - accuracy: 0.85 - ETA: 4s - loss: 0.3899 - accuracy: 0.85 - ETA: 4s - loss: 0.3924 - accuracy: 0.85 - ETA: 4s - loss: 0.3934 - accuracy: 0.85 - ETA: 4s - loss: 0.3909 - accuracy: 0.85 - ETA: 4s - loss: 0.3921 - accuracy: 0.85 - ETA: 4s - loss: 0.3906 - accuracy: 0.85 - ETA: 4s - loss: 0.3909 - accuracy: 0.85 - ETA: 4s - loss: 0.3919 - accuracy: 0.85 - ETA: 4s - loss: 0.3906 - accuracy: 0.85 - ETA: 4s - loss: 0.3913 - accuracy: 0.85 - ETA: 4s - loss: 0.3896 - accuracy: 0.85 - ETA: 4s - loss: 0.3886 - accuracy: 0.85 - ETA: 4s - loss: 0.3892 - accuracy: 0.85 - ETA: 3s - loss: 0.3867 - accuracy: 0.85 - ETA: 3s - loss: 0.3876 - accuracy: 0.85 - ETA: 3s - loss: 0.3882 - accuracy: 0.85 - ETA: 3s - loss: 0.3899 - accuracy: 0.85 - ETA: 3s - loss: 0.3891 - accuracy: 0.85 - ETA: 3s - loss: 0.3893 - accuracy: 0.85 - ETA: 3s - loss: 0.3877 - accuracy: 0.85 - ETA: 3s - loss: 0.3891 - accuracy: 0.85 - ETA: 3s - loss: 0.3886 - accuracy: 0.85 - ETA: 3s - loss: 0.3878 - accuracy: 0.85 - ETA: 3s - loss: 0.3878 - accuracy: 0.85 - ETA: 2s - loss: 0.3885 - accuracy: 0.85 - ETA: 2s - loss: 0.3868 - accuracy: 0.85 - ETA: 2s - loss: 0.3881 - accuracy: 0.85 - ETA: 2s - loss: 0.3886 - accuracy: 0.85 - ETA: 2s - loss: 0.3879 - accuracy: 0.85 - ETA: 2s - loss: 0.3870 - accuracy: 0.85 - ETA: 2s - loss: 0.3870 - accuracy: 0.85 - ETA: 2s - loss: 0.3865 - accuracy: 0.86 - ETA: 2s - loss: 0.3854 - accuracy: 0.86 - ETA: 2s - loss: 0.3844 - accuracy: 0.86 - ETA: 2s - loss: 0.3855 - accuracy: 0.86 - ETA: 2s - loss: 0.3851 - accuracy: 0.86 - ETA: 2s - loss: 0.3845 - accuracy: 0.86 - ETA: 2s - loss: 0.3846 - accuracy: 0.86 - ETA: 2s - loss: 0.3848 - accuracy: 0.86 - ETA: 1s - loss: 0.3854 - accuracy: 0.86 - ETA: 1s - loss: 0.3856 - accuracy: 0.86 - ETA: 1s - loss: 0.3848 - accuracy: 0.86 - ETA: 1s - loss: 0.3839 - accuracy: 0.86 - ETA: 1s - loss: 0.3836 - accuracy: 0.86 - ETA: 1s - loss: 0.3828 - accuracy: 0.86 - ETA: 1s - loss: 0.3828 - accuracy: 0.86 - ETA: 1s - loss: 0.3830 - accuracy: 0.86 - ETA: 1s - loss: 0.3830 - accuracy: 0.86 - ETA: 1s - loss: 0.3826 - accuracy: 0.86 - ETA: 1s - loss: 0.3825 - accuracy: 0.86 - ETA: 1s - loss: 0.3823 - accuracy: 0.86 - ETA: 1s - loss: 0.3819 - accuracy: 0.86 - ETA: 1s - loss: 0.3815 - accuracy: 0.86 - ETA: 1s - loss: 0.3818 - accuracy: 0.86 - ETA: 1s - loss: 0.3821 - accuracy: 0.86 - ETA: 1s - loss: 0.3822 - accuracy: 0.86 - ETA: 1s - loss: 0.3826 - accuracy: 0.86 - ETA: 1s - loss: 0.3818 - accuracy: 0.86 - ETA: 1s - loss: 0.3816 - accuracy: 0.86 - ETA: 1s - loss: 0.3816 - accuracy: 0.86 - ETA: 1s - loss: 0.3810 - accuracy: 0.86 - ETA: 1s - loss: 0.3804 - accuracy: 0.86 - ETA: 1s - loss: 0.3797 - accuracy: 0.86 - ETA: 1s - loss: 0.3796 - accuracy: 0.86 - ETA: 0s - loss: 0.3786 - accuracy: 0.86 - ETA: 0s - loss: 0.3780 - accuracy: 0.86 - ETA: 0s - loss: 0.3779 - accuracy: 0.86 - ETA: 0s - loss: 0.3774 - accuracy: 0.86 - ETA: 0s - loss: 0.3773 - accuracy: 0.86 - ETA: 0s - loss: 0.3769 - accuracy: 0.86 - ETA: 0s - loss: 0.3769 - accuracy: 0.86 - ETA: 0s - loss: 0.3759 - accuracy: 0.86 - ETA: 0s - loss: 0.3754 - accuracy: 0.86 - ETA: 0s - loss: 0.3752 - accuracy: 0.86 - ETA: 0s - loss: 0.3755 - accuracy: 0.86 - ETA: 0s - loss: 0.3757 - accuracy: 0.86 - ETA: 0s - loss: 0.3757 - accuracy: 0.86 - ETA: 0s - loss: 0.3757 - accuracy: 0.86 - ETA: 0s - loss: 0.3755 - accuracy: 0.86 - ETA: 0s - loss: 0.3759 - accuracy: 0.86 - 6s 3ms/step - loss: 0.3757 - accuracy: 0.8641 - val_loss: 0.3769 - val_accuracy: 0.8649\n",
      "Epoch 7/10\n",
      "1875/1875 [==============================] - ETA: 0s - loss: 0.2963 - accuracy: 0.84 - ETA: 5s - loss: 0.3407 - accuracy: 0.87 - ETA: 5s - loss: 0.3485 - accuracy: 0.87 - ETA: 5s - loss: 0.3439 - accuracy: 0.86 - ETA: 5s - loss: 0.3318 - accuracy: 0.87 - ETA: 5s - loss: 0.3248 - accuracy: 0.87 - ETA: 5s - loss: 0.3208 - accuracy: 0.87 - ETA: 5s - loss: 0.3250 - accuracy: 0.87 - ETA: 5s - loss: 0.3326 - accuracy: 0.87 - ETA: 5s - loss: 0.3289 - accuracy: 0.87 - ETA: 5s - loss: 0.3264 - accuracy: 0.87 - ETA: 5s - loss: 0.3316 - accuracy: 0.87 - ETA: 5s - loss: 0.3311 - accuracy: 0.87 - ETA: 5s - loss: 0.3355 - accuracy: 0.87 - ETA: 5s - loss: 0.3399 - accuracy: 0.87 - ETA: 5s - loss: 0.3377 - accuracy: 0.87 - ETA: 5s - loss: 0.3409 - accuracy: 0.87 - ETA: 5s - loss: 0.3365 - accuracy: 0.87 - ETA: 5s - loss: 0.3352 - accuracy: 0.87 - ETA: 5s - loss: 0.3318 - accuracy: 0.87 - ETA: 5s - loss: 0.3310 - accuracy: 0.87 - ETA: 4s - loss: 0.3347 - accuracy: 0.87 - ETA: 4s - loss: 0.3392 - accuracy: 0.87 - ETA: 4s - loss: 0.3390 - accuracy: 0.87 - ETA: 4s - loss: 0.3385 - accuracy: 0.87 - ETA: 4s - loss: 0.3378 - accuracy: 0.87 - ETA: 4s - loss: 0.3372 - accuracy: 0.87 - ETA: 4s - loss: 0.3376 - accuracy: 0.87 - ETA: 4s - loss: 0.3371 - accuracy: 0.87 - ETA: 4s - loss: 0.3364 - accuracy: 0.87 - ETA: 4s - loss: 0.3372 - accuracy: 0.87 - ETA: 4s - loss: 0.3366 - accuracy: 0.87 - ETA: 4s - loss: 0.3390 - accuracy: 0.87 - ETA: 4s - loss: 0.3397 - accuracy: 0.87 - ETA: 4s - loss: 0.3407 - accuracy: 0.87 - ETA: 4s - loss: 0.3403 - accuracy: 0.87 - ETA: 3s - loss: 0.3403 - accuracy: 0.87 - ETA: 3s - loss: 0.3417 - accuracy: 0.87 - ETA: 3s - loss: 0.3421 - accuracy: 0.87 - ETA: 3s - loss: 0.3416 - accuracy: 0.87 - ETA: 3s - loss: 0.3406 - accuracy: 0.87 - ETA: 3s - loss: 0.3388 - accuracy: 0.87 - ETA: 3s - loss: 0.3376 - accuracy: 0.87 - ETA: 3s - loss: 0.3374 - accuracy: 0.87 - ETA: 3s - loss: 0.3357 - accuracy: 0.87 - ETA: 3s - loss: 0.3350 - accuracy: 0.87 - ETA: 2s - loss: 0.3348 - accuracy: 0.87 - ETA: 2s - loss: 0.3356 - accuracy: 0.87 - ETA: 2s - loss: 0.3358 - accuracy: 0.87 - ETA: 2s - loss: 0.3366 - accuracy: 0.87 - ETA: 2s - loss: 0.3360 - accuracy: 0.87 - ETA: 2s - loss: 0.3362 - accuracy: 0.87 - ETA: 2s - loss: 0.3376 - accuracy: 0.87 - ETA: 2s - loss: 0.3382 - accuracy: 0.87 - ETA: 2s - loss: 0.3386 - accuracy: 0.87 - ETA: 2s - loss: 0.3380 - accuracy: 0.87 - ETA: 1s - loss: 0.3381 - accuracy: 0.87 - ETA: 1s - loss: 0.3376 - accuracy: 0.87 - ETA: 1s - loss: 0.3383 - accuracy: 0.87 - ETA: 1s - loss: 0.3378 - accuracy: 0.87 - ETA: 1s - loss: 0.3380 - accuracy: 0.87 - ETA: 1s - loss: 0.3384 - accuracy: 0.87 - ETA: 1s - loss: 0.3376 - accuracy: 0.87 - ETA: 1s - loss: 0.3373 - accuracy: 0.87 - ETA: 1s - loss: 0.3377 - accuracy: 0.87 - ETA: 1s - loss: 0.3376 - accuracy: 0.87 - ETA: 1s - loss: 0.3363 - accuracy: 0.87 - ETA: 1s - loss: 0.3370 - accuracy: 0.87 - ETA: 1s - loss: 0.3369 - accuracy: 0.87 - ETA: 1s - loss: 0.3365 - accuracy: 0.87 - ETA: 1s - loss: 0.3370 - accuracy: 0.87 - ETA: 1s - loss: 0.3365 - accuracy: 0.87 - ETA: 0s - loss: 0.3364 - accuracy: 0.87 - ETA: 0s - loss: 0.3369 - accuracy: 0.87 - ETA: 0s - loss: 0.3364 - accuracy: 0.87 - ETA: 0s - loss: 0.3365 - accuracy: 0.87 - ETA: 0s - loss: 0.3364 - accuracy: 0.87 - ETA: 0s - loss: 0.3363 - accuracy: 0.87 - ETA: 0s - loss: 0.3363 - accuracy: 0.87 - ETA: 0s - loss: 0.3360 - accuracy: 0.87 - ETA: 0s - loss: 0.3354 - accuracy: 0.87 - ETA: 0s - loss: 0.3364 - accuracy: 0.87 - ETA: 0s - loss: 0.3361 - accuracy: 0.87 - ETA: 0s - loss: 0.3365 - accuracy: 0.87 - ETA: 0s - loss: 0.3369 - accuracy: 0.87 - ETA: 0s - loss: 0.3370 - accuracy: 0.87 - ETA: 0s - loss: 0.3376 - accuracy: 0.87 - ETA: 0s - loss: 0.3379 - accuracy: 0.87 - ETA: 0s - loss: 0.3382 - accuracy: 0.87 - ETA: 0s - loss: 0.3387 - accuracy: 0.87 - 5s 3ms/step - loss: 0.3389 - accuracy: 0.8768 - val_loss: 0.3619 - val_accuracy: 0.8687\n",
      "Epoch 8/10\n"
     ]
    },
    {
     "name": "stdout",
     "output_type": "stream",
     "text": [
      "1875/1875 [==============================] - ETA: 0s - loss: 0.3601 - accuracy: 0.84 - ETA: 6s - loss: 0.4016 - accuracy: 0.86 - ETA: 6s - loss: 0.3528 - accuracy: 0.87 - ETA: 6s - loss: 0.3585 - accuracy: 0.87 - ETA: 5s - loss: 0.3272 - accuracy: 0.88 - ETA: 5s - loss: 0.3228 - accuracy: 0.88 - ETA: 5s - loss: 0.3077 - accuracy: 0.89 - ETA: 5s - loss: 0.3066 - accuracy: 0.89 - ETA: 5s - loss: 0.3069 - accuracy: 0.88 - ETA: 5s - loss: 0.3081 - accuracy: 0.88 - ETA: 4s - loss: 0.3029 - accuracy: 0.89 - ETA: 4s - loss: 0.2985 - accuracy: 0.89 - ETA: 4s - loss: 0.2997 - accuracy: 0.89 - ETA: 4s - loss: 0.3006 - accuracy: 0.89 - ETA: 4s - loss: 0.3035 - accuracy: 0.89 - ETA: 4s - loss: 0.3039 - accuracy: 0.89 - ETA: 4s - loss: 0.3061 - accuracy: 0.88 - ETA: 4s - loss: 0.3068 - accuracy: 0.88 - ETA: 3s - loss: 0.3074 - accuracy: 0.88 - ETA: 3s - loss: 0.3093 - accuracy: 0.88 - ETA: 4s - loss: 0.3102 - accuracy: 0.88 - ETA: 4s - loss: 0.3120 - accuracy: 0.88 - ETA: 3s - loss: 0.3131 - accuracy: 0.88 - ETA: 3s - loss: 0.3117 - accuracy: 0.88 - ETA: 3s - loss: 0.3141 - accuracy: 0.88 - ETA: 4s - loss: 0.3156 - accuracy: 0.88 - ETA: 4s - loss: 0.3157 - accuracy: 0.88 - ETA: 4s - loss: 0.3163 - accuracy: 0.88 - ETA: 4s - loss: 0.3148 - accuracy: 0.88 - ETA: 4s - loss: 0.3142 - accuracy: 0.88 - ETA: 4s - loss: 0.3137 - accuracy: 0.88 - ETA: 4s - loss: 0.3121 - accuracy: 0.88 - ETA: 4s - loss: 0.3119 - accuracy: 0.88 - ETA: 3s - loss: 0.3105 - accuracy: 0.88 - ETA: 3s - loss: 0.3097 - accuracy: 0.88 - ETA: 3s - loss: 0.3087 - accuracy: 0.88 - ETA: 3s - loss: 0.3100 - accuracy: 0.88 - ETA: 3s - loss: 0.3098 - accuracy: 0.88 - ETA: 3s - loss: 0.3099 - accuracy: 0.88 - ETA: 3s - loss: 0.3108 - accuracy: 0.88 - ETA: 3s - loss: 0.3106 - accuracy: 0.88 - ETA: 3s - loss: 0.3107 - accuracy: 0.88 - ETA: 3s - loss: 0.3102 - accuracy: 0.88 - ETA: 3s - loss: 0.3097 - accuracy: 0.88 - ETA: 3s - loss: 0.3101 - accuracy: 0.88 - ETA: 3s - loss: 0.3106 - accuracy: 0.88 - ETA: 3s - loss: 0.3109 - accuracy: 0.88 - ETA: 2s - loss: 0.3105 - accuracy: 0.88 - ETA: 2s - loss: 0.3114 - accuracy: 0.88 - ETA: 2s - loss: 0.3117 - accuracy: 0.88 - ETA: 2s - loss: 0.3114 - accuracy: 0.88 - ETA: 2s - loss: 0.3129 - accuracy: 0.88 - ETA: 2s - loss: 0.3137 - accuracy: 0.88 - ETA: 2s - loss: 0.3135 - accuracy: 0.88 - ETA: 2s - loss: 0.3130 - accuracy: 0.88 - ETA: 2s - loss: 0.3125 - accuracy: 0.88 - ETA: 2s - loss: 0.3125 - accuracy: 0.88 - ETA: 2s - loss: 0.3129 - accuracy: 0.88 - ETA: 2s - loss: 0.3132 - accuracy: 0.88 - ETA: 2s - loss: 0.3137 - accuracy: 0.88 - ETA: 2s - loss: 0.3145 - accuracy: 0.88 - ETA: 1s - loss: 0.3147 - accuracy: 0.88 - ETA: 1s - loss: 0.3152 - accuracy: 0.88 - ETA: 1s - loss: 0.3145 - accuracy: 0.88 - ETA: 1s - loss: 0.3144 - accuracy: 0.88 - ETA: 1s - loss: 0.3136 - accuracy: 0.88 - ETA: 1s - loss: 0.3141 - accuracy: 0.88 - ETA: 1s - loss: 0.3140 - accuracy: 0.88 - ETA: 1s - loss: 0.3144 - accuracy: 0.88 - ETA: 1s - loss: 0.3143 - accuracy: 0.88 - ETA: 1s - loss: 0.3147 - accuracy: 0.88 - ETA: 1s - loss: 0.3144 - accuracy: 0.88 - ETA: 1s - loss: 0.3144 - accuracy: 0.88 - ETA: 1s - loss: 0.3146 - accuracy: 0.88 - ETA: 1s - loss: 0.3144 - accuracy: 0.88 - ETA: 1s - loss: 0.3145 - accuracy: 0.88 - ETA: 1s - loss: 0.3146 - accuracy: 0.88 - ETA: 1s - loss: 0.3147 - accuracy: 0.88 - ETA: 0s - loss: 0.3142 - accuracy: 0.88 - ETA: 0s - loss: 0.3144 - accuracy: 0.88 - ETA: 0s - loss: 0.3142 - accuracy: 0.88 - ETA: 0s - loss: 0.3148 - accuracy: 0.88 - ETA: 0s - loss: 0.3143 - accuracy: 0.88 - ETA: 0s - loss: 0.3139 - accuracy: 0.88 - ETA: 0s - loss: 0.3140 - accuracy: 0.88 - ETA: 0s - loss: 0.3146 - accuracy: 0.88 - ETA: 0s - loss: 0.3140 - accuracy: 0.88 - ETA: 0s - loss: 0.3144 - accuracy: 0.88 - ETA: 0s - loss: 0.3144 - accuracy: 0.88 - ETA: 0s - loss: 0.3140 - accuracy: 0.88 - ETA: 0s - loss: 0.3138 - accuracy: 0.88 - ETA: 0s - loss: 0.3136 - accuracy: 0.88 - ETA: 0s - loss: 0.3135 - accuracy: 0.88 - ETA: 0s - loss: 0.3138 - accuracy: 0.88 - ETA: 0s - loss: 0.3134 - accuracy: 0.88 - ETA: 0s - loss: 0.3133 - accuracy: 0.88 - ETA: 0s - loss: 0.3129 - accuracy: 0.88 - ETA: 0s - loss: 0.3130 - accuracy: 0.88 - 6s 3ms/step - loss: 0.3130 - accuracy: 0.8861 - val_loss: 0.3525 - val_accuracy: 0.8735\n",
      "Epoch 9/10\n"
     ]
    },
    {
     "name": "stdout",
     "output_type": "stream",
     "text": [
      "1875/1875 [==============================] - ETA: 0s - loss: 0.2076 - accuracy: 0.96 - ETA: 8s - loss: 0.2395 - accuracy: 0.91 - ETA: 9s - loss: 0.2712 - accuracy: 0.89 - ETA: 8s - loss: 0.2857 - accuracy: 0.89 - ETA: 8s - loss: 0.2767 - accuracy: 0.89 - ETA: 7s - loss: 0.2788 - accuracy: 0.88 - ETA: 7s - loss: 0.2735 - accuracy: 0.89 - ETA: 7s - loss: 0.2745 - accuracy: 0.89 - ETA: 7s - loss: 0.2821 - accuracy: 0.89 - ETA: 7s - loss: 0.2815 - accuracy: 0.89 - ETA: 7s - loss: 0.2774 - accuracy: 0.89 - ETA: 6s - loss: 0.2810 - accuracy: 0.89 - ETA: 6s - loss: 0.2814 - accuracy: 0.89 - ETA: 6s - loss: 0.2897 - accuracy: 0.89 - ETA: 6s - loss: 0.2898 - accuracy: 0.89 - ETA: 5s - loss: 0.2860 - accuracy: 0.89 - ETA: 5s - loss: 0.2855 - accuracy: 0.89 - ETA: 5s - loss: 0.2920 - accuracy: 0.89 - ETA: 5s - loss: 0.2926 - accuracy: 0.89 - ETA: 5s - loss: 0.2914 - accuracy: 0.89 - ETA: 5s - loss: 0.2933 - accuracy: 0.89 - ETA: 5s - loss: 0.2947 - accuracy: 0.89 - ETA: 5s - loss: 0.2944 - accuracy: 0.89 - ETA: 5s - loss: 0.2923 - accuracy: 0.89 - ETA: 5s - loss: 0.2945 - accuracy: 0.89 - ETA: 5s - loss: 0.2940 - accuracy: 0.89 - ETA: 5s - loss: 0.2945 - accuracy: 0.89 - ETA: 5s - loss: 0.2953 - accuracy: 0.89 - ETA: 5s - loss: 0.2970 - accuracy: 0.89 - ETA: 5s - loss: 0.2965 - accuracy: 0.89 - ETA: 5s - loss: 0.2971 - accuracy: 0.89 - ETA: 5s - loss: 0.2969 - accuracy: 0.89 - ETA: 5s - loss: 0.2987 - accuracy: 0.89 - ETA: 5s - loss: 0.2999 - accuracy: 0.89 - ETA: 5s - loss: 0.3014 - accuracy: 0.89 - ETA: 5s - loss: 0.3006 - accuracy: 0.89 - ETA: 4s - loss: 0.3004 - accuracy: 0.89 - ETA: 4s - loss: 0.3009 - accuracy: 0.89 - ETA: 4s - loss: 0.3000 - accuracy: 0.89 - ETA: 4s - loss: 0.3011 - accuracy: 0.89 - ETA: 4s - loss: 0.3008 - accuracy: 0.89 - ETA: 4s - loss: 0.3007 - accuracy: 0.89 - ETA: 4s - loss: 0.3015 - accuracy: 0.89 - ETA: 3s - loss: 0.3015 - accuracy: 0.89 - ETA: 3s - loss: 0.3007 - accuracy: 0.89 - ETA: 3s - loss: 0.3012 - accuracy: 0.89 - ETA: 3s - loss: 0.3002 - accuracy: 0.89 - ETA: 3s - loss: 0.2984 - accuracy: 0.89 - ETA: 3s - loss: 0.2979 - accuracy: 0.89 - ETA: 3s - loss: 0.2984 - accuracy: 0.89 - ETA: 3s - loss: 0.2979 - accuracy: 0.89 - ETA: 3s - loss: 0.2987 - accuracy: 0.89 - ETA: 3s - loss: 0.2989 - accuracy: 0.89 - ETA: 3s - loss: 0.2981 - accuracy: 0.89 - ETA: 2s - loss: 0.2974 - accuracy: 0.89 - ETA: 2s - loss: 0.2968 - accuracy: 0.89 - ETA: 2s - loss: 0.2966 - accuracy: 0.89 - ETA: 2s - loss: 0.2960 - accuracy: 0.89 - ETA: 2s - loss: 0.2970 - accuracy: 0.89 - ETA: 2s - loss: 0.2968 - accuracy: 0.89 - ETA: 2s - loss: 0.2969 - accuracy: 0.89 - ETA: 2s - loss: 0.2968 - accuracy: 0.89 - ETA: 2s - loss: 0.2968 - accuracy: 0.89 - ETA: 2s - loss: 0.2968 - accuracy: 0.89 - ETA: 2s - loss: 0.2968 - accuracy: 0.89 - ETA: 3s - loss: 0.2967 - accuracy: 0.89 - ETA: 3s - loss: 0.2965 - accuracy: 0.89 - ETA: 3s - loss: 0.2968 - accuracy: 0.89 - ETA: 3s - loss: 0.2969 - accuracy: 0.89 - ETA: 3s - loss: 0.2972 - accuracy: 0.89 - ETA: 3s - loss: 0.2972 - accuracy: 0.89 - ETA: 3s - loss: 0.2974 - accuracy: 0.89 - ETA: 3s - loss: 0.2971 - accuracy: 0.89 - ETA: 3s - loss: 0.2970 - accuracy: 0.89 - ETA: 3s - loss: 0.2972 - accuracy: 0.89 - ETA: 3s - loss: 0.2973 - accuracy: 0.89 - ETA: 3s - loss: 0.2978 - accuracy: 0.89 - ETA: 3s - loss: 0.2978 - accuracy: 0.89 - ETA: 3s - loss: 0.2974 - accuracy: 0.89 - ETA: 3s - loss: 0.2976 - accuracy: 0.89 - ETA: 3s - loss: 0.2976 - accuracy: 0.89 - ETA: 3s - loss: 0.2977 - accuracy: 0.89 - ETA: 2s - loss: 0.2978 - accuracy: 0.89 - ETA: 2s - loss: 0.2971 - accuracy: 0.89 - ETA: 2s - loss: 0.2971 - accuracy: 0.89 - ETA: 2s - loss: 0.2973 - accuracy: 0.89 - ETA: 2s - loss: 0.2968 - accuracy: 0.89 - ETA: 2s - loss: 0.2969 - accuracy: 0.89 - ETA: 2s - loss: 0.2968 - accuracy: 0.89 - ETA: 2s - loss: 0.2963 - accuracy: 0.89 - ETA: 2s - loss: 0.2964 - accuracy: 0.89 - ETA: 2s - loss: 0.2969 - accuracy: 0.89 - ETA: 2s - loss: 0.2968 - accuracy: 0.89 - ETA: 2s - loss: 0.2972 - accuracy: 0.89 - ETA: 2s - loss: 0.2979 - accuracy: 0.88 - ETA: 2s - loss: 0.2981 - accuracy: 0.88 - ETA: 2s - loss: 0.2979 - accuracy: 0.89 - ETA: 1s - loss: 0.2981 - accuracy: 0.88 - ETA: 1s - loss: 0.2982 - accuracy: 0.88 - ETA: 1s - loss: 0.2978 - accuracy: 0.89 - ETA: 1s - loss: 0.2980 - accuracy: 0.89 - ETA: 1s - loss: 0.2978 - accuracy: 0.89 - ETA: 1s - loss: 0.2974 - accuracy: 0.89 - ETA: 1s - loss: 0.2972 - accuracy: 0.89 - ETA: 1s - loss: 0.2972 - accuracy: 0.89 - ETA: 1s - loss: 0.2967 - accuracy: 0.89 - ETA: 1s - loss: 0.2960 - accuracy: 0.89 - ETA: 1s - loss: 0.2956 - accuracy: 0.89 - ETA: 1s - loss: 0.2946 - accuracy: 0.89 - ETA: 1s - loss: 0.2943 - accuracy: 0.89 - ETA: 0s - loss: 0.2945 - accuracy: 0.89 - ETA: 0s - loss: 0.2945 - accuracy: 0.89 - ETA: 0s - loss: 0.2947 - accuracy: 0.89 - ETA: 0s - loss: 0.2946 - accuracy: 0.89 - ETA: 0s - loss: 0.2939 - accuracy: 0.89 - ETA: 0s - loss: 0.2942 - accuracy: 0.89 - ETA: 0s - loss: 0.2941 - accuracy: 0.89 - ETA: 0s - loss: 0.2948 - accuracy: 0.89 - ETA: 0s - loss: 0.2955 - accuracy: 0.89 - ETA: 0s - loss: 0.2955 - accuracy: 0.89 - ETA: 0s - loss: 0.2953 - accuracy: 0.89 - ETA: 0s - loss: 0.2957 - accuracy: 0.89 - ETA: 0s - loss: 0.2959 - accuracy: 0.89 - ETA: 0s - loss: 0.2955 - accuracy: 0.89 - 7s 4ms/step - loss: 0.2954 - accuracy: 0.8911 - val_loss: 0.3497 - val_accuracy: 0.8755\n",
      "Epoch 10/10\n"
     ]
    },
    {
     "name": "stdout",
     "output_type": "stream",
     "text": [
      "1875/1875 [==============================] - ETA: 0s - loss: 0.4634 - accuracy: 0.87 - ETA: 6s - loss: 0.2721 - accuracy: 0.89 - ETA: 7s - loss: 0.2735 - accuracy: 0.89 - ETA: 7s - loss: 0.2837 - accuracy: 0.89 - ETA: 7s - loss: 0.2957 - accuracy: 0.89 - ETA: 7s - loss: 0.2892 - accuracy: 0.89 - ETA: 7s - loss: 0.2886 - accuracy: 0.89 - ETA: 8s - loss: 0.2899 - accuracy: 0.89 - ETA: 8s - loss: 0.2907 - accuracy: 0.89 - ETA: 7s - loss: 0.2913 - accuracy: 0.88 - ETA: 7s - loss: 0.2884 - accuracy: 0.89 - ETA: 7s - loss: 0.2841 - accuracy: 0.89 - ETA: 7s - loss: 0.2857 - accuracy: 0.89 - ETA: 7s - loss: 0.2918 - accuracy: 0.88 - ETA: 7s - loss: 0.2912 - accuracy: 0.88 - ETA: 6s - loss: 0.2881 - accuracy: 0.89 - ETA: 6s - loss: 0.2862 - accuracy: 0.89 - ETA: 6s - loss: 0.2819 - accuracy: 0.89 - ETA: 6s - loss: 0.2810 - accuracy: 0.89 - ETA: 6s - loss: 0.2816 - accuracy: 0.89 - ETA: 6s - loss: 0.2837 - accuracy: 0.89 - ETA: 6s - loss: 0.2817 - accuracy: 0.89 - ETA: 6s - loss: 0.2822 - accuracy: 0.89 - ETA: 6s - loss: 0.2809 - accuracy: 0.89 - ETA: 6s - loss: 0.2810 - accuracy: 0.89 - ETA: 6s - loss: 0.2801 - accuracy: 0.89 - ETA: 6s - loss: 0.2796 - accuracy: 0.89 - ETA: 6s - loss: 0.2790 - accuracy: 0.89 - ETA: 6s - loss: 0.2783 - accuracy: 0.89 - ETA: 6s - loss: 0.2781 - accuracy: 0.89 - ETA: 6s - loss: 0.2776 - accuracy: 0.89 - ETA: 7s - loss: 0.2783 - accuracy: 0.89 - ETA: 7s - loss: 0.2785 - accuracy: 0.89 - ETA: 7s - loss: 0.2782 - accuracy: 0.89 - ETA: 7s - loss: 0.2777 - accuracy: 0.89 - ETA: 7s - loss: 0.2778 - accuracy: 0.89 - ETA: 7s - loss: 0.2773 - accuracy: 0.89 - ETA: 7s - loss: 0.2772 - accuracy: 0.89 - ETA: 7s - loss: 0.2775 - accuracy: 0.89 - ETA: 7s - loss: 0.2757 - accuracy: 0.89 - ETA: 7s - loss: 0.2750 - accuracy: 0.89 - ETA: 7s - loss: 0.2762 - accuracy: 0.89 - ETA: 7s - loss: 0.2757 - accuracy: 0.89 - ETA: 7s - loss: 0.2748 - accuracy: 0.89 - ETA: 7s - loss: 0.2768 - accuracy: 0.89 - ETA: 6s - loss: 0.2751 - accuracy: 0.89 - ETA: 6s - loss: 0.2754 - accuracy: 0.89 - ETA: 6s - loss: 0.2752 - accuracy: 0.90 - ETA: 6s - loss: 0.2757 - accuracy: 0.89 - ETA: 6s - loss: 0.2757 - accuracy: 0.89 - ETA: 6s - loss: 0.2752 - accuracy: 0.89 - ETA: 6s - loss: 0.2761 - accuracy: 0.89 - ETA: 6s - loss: 0.2760 - accuracy: 0.89 - ETA: 6s - loss: 0.2761 - accuracy: 0.89 - ETA: 6s - loss: 0.2757 - accuracy: 0.89 - ETA: 6s - loss: 0.2764 - accuracy: 0.89 - ETA: 6s - loss: 0.2783 - accuracy: 0.89 - ETA: 5s - loss: 0.2775 - accuracy: 0.89 - ETA: 5s - loss: 0.2773 - accuracy: 0.89 - ETA: 5s - loss: 0.2765 - accuracy: 0.89 - ETA: 5s - loss: 0.2772 - accuracy: 0.89 - ETA: 5s - loss: 0.2774 - accuracy: 0.89 - ETA: 5s - loss: 0.2779 - accuracy: 0.89 - ETA: 5s - loss: 0.2784 - accuracy: 0.89 - ETA: 4s - loss: 0.2773 - accuracy: 0.89 - ETA: 4s - loss: 0.2772 - accuracy: 0.89 - ETA: 4s - loss: 0.2768 - accuracy: 0.89 - ETA: 4s - loss: 0.2769 - accuracy: 0.89 - ETA: 4s - loss: 0.2777 - accuracy: 0.89 - ETA: 4s - loss: 0.2786 - accuracy: 0.89 - ETA: 3s - loss: 0.2786 - accuracy: 0.89 - ETA: 3s - loss: 0.2781 - accuracy: 0.89 - ETA: 3s - loss: 0.2783 - accuracy: 0.89 - ETA: 3s - loss: 0.2777 - accuracy: 0.89 - ETA: 3s - loss: 0.2778 - accuracy: 0.89 - ETA: 3s - loss: 0.2780 - accuracy: 0.89 - ETA: 3s - loss: 0.2771 - accuracy: 0.89 - ETA: 3s - loss: 0.2777 - accuracy: 0.89 - ETA: 3s - loss: 0.2777 - accuracy: 0.89 - ETA: 3s - loss: 0.2771 - accuracy: 0.89 - ETA: 3s - loss: 0.2776 - accuracy: 0.89 - ETA: 3s - loss: 0.2778 - accuracy: 0.89 - ETA: 3s - loss: 0.2778 - accuracy: 0.89 - ETA: 3s - loss: 0.2778 - accuracy: 0.89 - ETA: 2s - loss: 0.2782 - accuracy: 0.89 - ETA: 2s - loss: 0.2778 - accuracy: 0.89 - ETA: 2s - loss: 0.2777 - accuracy: 0.89 - ETA: 2s - loss: 0.2779 - accuracy: 0.89 - ETA: 2s - loss: 0.2783 - accuracy: 0.89 - ETA: 2s - loss: 0.2786 - accuracy: 0.89 - ETA: 2s - loss: 0.2775 - accuracy: 0.89 - ETA: 2s - loss: 0.2779 - accuracy: 0.89 - ETA: 2s - loss: 0.2786 - accuracy: 0.89 - ETA: 2s - loss: 0.2790 - accuracy: 0.89 - ETA: 2s - loss: 0.2788 - accuracy: 0.89 - ETA: 2s - loss: 0.2792 - accuracy: 0.89 - ETA: 1s - loss: 0.2795 - accuracy: 0.89 - ETA: 1s - loss: 0.2801 - accuracy: 0.89 - ETA: 1s - loss: 0.2798 - accuracy: 0.89 - ETA: 1s - loss: 0.2798 - accuracy: 0.89 - ETA: 1s - loss: 0.2799 - accuracy: 0.89 - ETA: 1s - loss: 0.2803 - accuracy: 0.89 - ETA: 1s - loss: 0.2807 - accuracy: 0.89 - ETA: 1s - loss: 0.2807 - accuracy: 0.89 - ETA: 1s - loss: 0.2809 - accuracy: 0.89 - ETA: 1s - loss: 0.2808 - accuracy: 0.89 - ETA: 1s - loss: 0.2810 - accuracy: 0.89 - ETA: 1s - loss: 0.2812 - accuracy: 0.89 - ETA: 1s - loss: 0.2815 - accuracy: 0.89 - ETA: 1s - loss: 0.2816 - accuracy: 0.89 - ETA: 1s - loss: 0.2813 - accuracy: 0.89 - ETA: 1s - loss: 0.2811 - accuracy: 0.89 - ETA: 1s - loss: 0.2815 - accuracy: 0.89 - ETA: 1s - loss: 0.2820 - accuracy: 0.89 - ETA: 1s - loss: 0.2817 - accuracy: 0.89 - ETA: 1s - loss: 0.2816 - accuracy: 0.89 - ETA: 1s - loss: 0.2814 - accuracy: 0.89 - ETA: 0s - loss: 0.2815 - accuracy: 0.89 - ETA: 0s - loss: 0.2811 - accuracy: 0.89 - ETA: 0s - loss: 0.2811 - accuracy: 0.89 - ETA: 0s - loss: 0.2814 - accuracy: 0.89 - ETA: 0s - loss: 0.2816 - accuracy: 0.89 - ETA: 0s - loss: 0.2819 - accuracy: 0.89 - ETA: 0s - loss: 0.2816 - accuracy: 0.89 - ETA: 0s - loss: 0.2813 - accuracy: 0.89 - ETA: 0s - loss: 0.2813 - accuracy: 0.89 - ETA: 0s - loss: 0.2808 - accuracy: 0.89 - ETA: 0s - loss: 0.2804 - accuracy: 0.89 - ETA: 0s - loss: 0.2803 - accuracy: 0.89 - ETA: 0s - loss: 0.2807 - accuracy: 0.89 - ETA: 0s - loss: 0.2811 - accuracy: 0.89 - ETA: 0s - loss: 0.2812 - accuracy: 0.89 - ETA: 0s - loss: 0.2814 - accuracy: 0.89 - ETA: 0s - loss: 0.2813 - accuracy: 0.89 - ETA: 0s - loss: 0.2813 - accuracy: 0.89 - ETA: 0s - loss: 0.2813 - accuracy: 0.89 - ETA: 0s - loss: 0.2816 - accuracy: 0.89 - ETA: 0s - loss: 0.2815 - accuracy: 0.89 - ETA: 0s - loss: 0.2813 - accuracy: 0.89 - ETA: 0s - loss: 0.2811 - accuracy: 0.89 - 8s 4ms/step - loss: 0.2811 - accuracy: 0.8953 - val_loss: 0.3526 - val_accuracy: 0.8727\n"
     ]
    },
    {
     "data": {
      "text/html": [
       "<span style=\"color:#4527A0\"><h1 style=\"font-size:18px\">Trial complete</h1></span>"
      ],
      "text/plain": [
       "<IPython.core.display.HTML object>"
      ]
     },
     "metadata": {},
     "output_type": "display_data"
    },
    {
     "data": {
      "text/html": [
       "<span style=\"color:#4527A0\"><h1 style=\"font-size:18px\">Trial summary</h1></span>"
      ],
      "text/plain": [
       "<IPython.core.display.HTML object>"
      ]
     },
     "metadata": {},
     "output_type": "display_data"
    },
    {
     "data": {
      "text/html": [
       "<span style=\"color:cyan\"> |-Trial ID: a32f03edfa0622f91bb16e9b43ab230a</span>"
      ],
      "text/plain": [
       "<IPython.core.display.HTML object>"
      ]
     },
     "metadata": {},
     "output_type": "display_data"
    },
    {
     "data": {
      "text/html": [
       "<span style=\"color:cyan\"> |-Score: 0.8755000233650208</span>"
      ],
      "text/plain": [
       "<IPython.core.display.HTML object>"
      ]
     },
     "metadata": {},
     "output_type": "display_data"
    },
    {
     "data": {
      "text/html": [
       "<span style=\"color:cyan\"> |-Best step: 0</span>"
      ],
      "text/plain": [
       "<IPython.core.display.HTML object>"
      ]
     },
     "metadata": {},
     "output_type": "display_data"
    },
    {
     "data": {
      "text/html": [
       "<span style=\"color:#7E57C2\"><h2 style=\"font-size:16px\">Hyperparameters:</h2></span>"
      ],
      "text/plain": [
       "<IPython.core.display.HTML object>"
      ]
     },
     "metadata": {},
     "output_type": "display_data"
    },
    {
     "data": {
      "text/html": [
       "<span style=\"color:cyan\"> |-learning_rate: 0.001</span>"
      ],
      "text/plain": [
       "<IPython.core.display.HTML object>"
      ]
     },
     "metadata": {},
     "output_type": "display_data"
    },
    {
     "data": {
      "text/html": [
       "<span style=\"color:blue\"> |-tuner/bracket: 2</span>"
      ],
      "text/plain": [
       "<IPython.core.display.HTML object>"
      ]
     },
     "metadata": {},
     "output_type": "display_data"
    },
    {
     "data": {
      "text/html": [
       "<span style=\"color:cyan\"> |-tuner/epochs: 10</span>"
      ],
      "text/plain": [
       "<IPython.core.display.HTML object>"
      ]
     },
     "metadata": {},
     "output_type": "display_data"
    },
    {
     "data": {
      "text/html": [
       "<span style=\"color:blue\"> |-tuner/initial_epoch: 4</span>"
      ],
      "text/plain": [
       "<IPython.core.display.HTML object>"
      ]
     },
     "metadata": {},
     "output_type": "display_data"
    },
    {
     "data": {
      "text/html": [
       "<span style=\"color:cyan\"> |-tuner/round: 2</span>"
      ],
      "text/plain": [
       "<IPython.core.display.HTML object>"
      ]
     },
     "metadata": {},
     "output_type": "display_data"
    },
    {
     "data": {
      "text/html": [
       "<span style=\"color:blue\"> |-tuner/trial_id: 38fcde3384333d9b0bb7827240ad5fc5</span>"
      ],
      "text/plain": [
       "<IPython.core.display.HTML object>"
      ]
     },
     "metadata": {},
     "output_type": "display_data"
    },
    {
     "data": {
      "text/html": [
       "<span style=\"color:cyan\"> |-units: 128</span>"
      ],
      "text/plain": [
       "<IPython.core.display.HTML object>"
      ]
     },
     "metadata": {},
     "output_type": "display_data"
    },
    {
     "name": "stdout",
     "output_type": "stream",
     "text": [
      "Epoch 5/10\n",
      "   2/1875 [..............................] - ETA: 0s - loss: 2.3436 - accuracy: 0.03 - ETA: 13:49 - loss: 2.4329 - accuracy: 0.0625WARNING:tensorflow:Method (on_train_batch_end) is slow compared to the batch update (0.445825). Check your callbacks.\n",
      "1875/1875 [==============================] - ETA: 2:14 - loss: 1.5208 - accuracy: 0.437 - ETA: 1:10 - loss: 1.2597 - accuracy: 0.52 - ETA: 47s - loss: 1.1215 - accuracy: 0.5898 - ETA: 36s - loss: 1.0192 - accuracy: 0.625 - ETA: 30s - loss: 0.9666 - accuracy: 0.648 - ETA: 26s - loss: 0.9169 - accuracy: 0.669 - ETA: 23s - loss: 0.8717 - accuracy: 0.683 - ETA: 21s - loss: 0.8451 - accuracy: 0.693 - ETA: 19s - loss: 0.8093 - accuracy: 0.709 - ETA: 17s - loss: 0.7941 - accuracy: 0.717 - ETA: 16s - loss: 0.7678 - accuracy: 0.727 - ETA: 15s - loss: 0.7518 - accuracy: 0.733 - ETA: 14s - loss: 0.7341 - accuracy: 0.740 - ETA: 13s - loss: 0.7285 - accuracy: 0.743 - ETA: 13s - loss: 0.7220 - accuracy: 0.746 - ETA: 12s - loss: 0.7123 - accuracy: 0.749 - ETA: 12s - loss: 0.7025 - accuracy: 0.752 - ETA: 12s - loss: 0.6930 - accuracy: 0.756 - ETA: 11s - loss: 0.6913 - accuracy: 0.756 - ETA: 11s - loss: 0.6904 - accuracy: 0.756 - ETA: 11s - loss: 0.6866 - accuracy: 0.758 - ETA: 11s - loss: 0.6838 - accuracy: 0.758 - ETA: 11s - loss: 0.6822 - accuracy: 0.758 - ETA: 11s - loss: 0.6795 - accuracy: 0.759 - ETA: 11s - loss: 0.6736 - accuracy: 0.760 - ETA: 11s - loss: 0.6731 - accuracy: 0.761 - ETA: 10s - loss: 0.6659 - accuracy: 0.763 - ETA: 10s - loss: 0.6609 - accuracy: 0.764 - ETA: 10s - loss: 0.6574 - accuracy: 0.766 - ETA: 10s - loss: 0.6519 - accuracy: 0.769 - ETA: 10s - loss: 0.6473 - accuracy: 0.770 - ETA: 10s - loss: 0.6421 - accuracy: 0.772 - ETA: 10s - loss: 0.6394 - accuracy: 0.772 - ETA: 9s - loss: 0.6349 - accuracy: 0.773 - ETA: 9s - loss: 0.6285 - accuracy: 0.77 - ETA: 9s - loss: 0.6237 - accuracy: 0.77 - ETA: 9s - loss: 0.6184 - accuracy: 0.77 - ETA: 9s - loss: 0.6159 - accuracy: 0.78 - ETA: 9s - loss: 0.6144 - accuracy: 0.78 - ETA: 9s - loss: 0.6133 - accuracy: 0.78 - ETA: 9s - loss: 0.6149 - accuracy: 0.78 - ETA: 9s - loss: 0.6153 - accuracy: 0.78 - ETA: 9s - loss: 0.6165 - accuracy: 0.78 - ETA: 9s - loss: 0.6160 - accuracy: 0.78 - ETA: 9s - loss: 0.6146 - accuracy: 0.78 - ETA: 9s - loss: 0.6144 - accuracy: 0.78 - ETA: 9s - loss: 0.6116 - accuracy: 0.78 - ETA: 9s - loss: 0.6099 - accuracy: 0.78 - ETA: 9s - loss: 0.6070 - accuracy: 0.78 - ETA: 9s - loss: 0.6062 - accuracy: 0.78 - ETA: 9s - loss: 0.6056 - accuracy: 0.78 - ETA: 9s - loss: 0.6053 - accuracy: 0.78 - ETA: 9s - loss: 0.6044 - accuracy: 0.78 - ETA: 9s - loss: 0.6028 - accuracy: 0.78 - ETA: 9s - loss: 0.6014 - accuracy: 0.78 - ETA: 9s - loss: 0.6026 - accuracy: 0.78 - ETA: 9s - loss: 0.5996 - accuracy: 0.78 - ETA: 9s - loss: 0.5986 - accuracy: 0.78 - ETA: 9s - loss: 0.5980 - accuracy: 0.78 - ETA: 9s - loss: 0.5962 - accuracy: 0.78 - ETA: 9s - loss: 0.5945 - accuracy: 0.78 - ETA: 9s - loss: 0.5930 - accuracy: 0.78 - ETA: 9s - loss: 0.5911 - accuracy: 0.79 - ETA: 8s - loss: 0.5884 - accuracy: 0.79 - ETA: 8s - loss: 0.5864 - accuracy: 0.79 - ETA: 8s - loss: 0.5854 - accuracy: 0.79 - ETA: 8s - loss: 0.5848 - accuracy: 0.79 - ETA: 8s - loss: 0.5843 - accuracy: 0.79 - ETA: 8s - loss: 0.5828 - accuracy: 0.79 - ETA: 8s - loss: 0.5825 - accuracy: 0.79 - ETA: 8s - loss: 0.5817 - accuracy: 0.79 - ETA: 8s - loss: 0.5800 - accuracy: 0.79 - ETA: 8s - loss: 0.5788 - accuracy: 0.79 - ETA: 8s - loss: 0.5771 - accuracy: 0.79 - ETA: 8s - loss: 0.5757 - accuracy: 0.79 - ETA: 8s - loss: 0.5750 - accuracy: 0.79 - ETA: 8s - loss: 0.5747 - accuracy: 0.79 - ETA: 7s - loss: 0.5733 - accuracy: 0.79 - ETA: 7s - loss: 0.5715 - accuracy: 0.79 - ETA: 7s - loss: 0.5708 - accuracy: 0.79 - ETA: 7s - loss: 0.5698 - accuracy: 0.79 - ETA: 7s - loss: 0.5679 - accuracy: 0.79 - ETA: 7s - loss: 0.5656 - accuracy: 0.79 - ETA: 7s - loss: 0.5634 - accuracy: 0.79 - ETA: 7s - loss: 0.5612 - accuracy: 0.80 - ETA: 7s - loss: 0.5581 - accuracy: 0.80 - ETA: 6s - loss: 0.5565 - accuracy: 0.80 - ETA: 6s - loss: 0.5555 - accuracy: 0.80 - ETA: 6s - loss: 0.5542 - accuracy: 0.80 - ETA: 6s - loss: 0.5532 - accuracy: 0.80 - ETA: 6s - loss: 0.5515 - accuracy: 0.80 - ETA: 6s - loss: 0.5502 - accuracy: 0.80 - ETA: 6s - loss: 0.5476 - accuracy: 0.80 - ETA: 6s - loss: 0.5465 - accuracy: 0.80 - ETA: 6s - loss: 0.5465 - accuracy: 0.80 - ETA: 6s - loss: 0.5460 - accuracy: 0.80 - ETA: 5s - loss: 0.5455 - accuracy: 0.80 - ETA: 5s - loss: 0.5443 - accuracy: 0.80 - ETA: 5s - loss: 0.5421 - accuracy: 0.80 - ETA: 5s - loss: 0.5416 - accuracy: 0.80 - ETA: 5s - loss: 0.5406 - accuracy: 0.80 - ETA: 5s - loss: 0.5395 - accuracy: 0.80 - ETA: 5s - loss: 0.5379 - accuracy: 0.80 - ETA: 5s - loss: 0.5369 - accuracy: 0.80 - ETA: 5s - loss: 0.5356 - accuracy: 0.81 - ETA: 5s - loss: 0.5347 - accuracy: 0.81 - ETA: 5s - loss: 0.5341 - accuracy: 0.81 - ETA: 5s - loss: 0.5331 - accuracy: 0.81 - ETA: 4s - loss: 0.5314 - accuracy: 0.81 - ETA: 4s - loss: 0.5298 - accuracy: 0.81 - ETA: 4s - loss: 0.5286 - accuracy: 0.81 - ETA: 4s - loss: 0.5277 - accuracy: 0.81 - ETA: 4s - loss: 0.5265 - accuracy: 0.81 - ETA: 4s - loss: 0.5248 - accuracy: 0.81 - ETA: 4s - loss: 0.5233 - accuracy: 0.81 - ETA: 4s - loss: 0.5221 - accuracy: 0.81 - ETA: 4s - loss: 0.5222 - accuracy: 0.81 - ETA: 4s - loss: 0.5218 - accuracy: 0.81 - ETA: 4s - loss: 0.5206 - accuracy: 0.81 - ETA: 3s - loss: 0.5193 - accuracy: 0.81 - ETA: 3s - loss: 0.5178 - accuracy: 0.81 - ETA: 3s - loss: 0.5167 - accuracy: 0.81 - ETA: 3s - loss: 0.5155 - accuracy: 0.81 - ETA: 3s - loss: 0.5151 - accuracy: 0.81 - ETA: 3s - loss: 0.5144 - accuracy: 0.81 - ETA: 3s - loss: 0.5133 - accuracy: 0.81 - ETA: 3s - loss: 0.5129 - accuracy: 0.81 - ETA: 3s - loss: 0.5123 - accuracy: 0.81 - ETA: 3s - loss: 0.5106 - accuracy: 0.81 - ETA: 3s - loss: 0.5099 - accuracy: 0.81 - ETA: 3s - loss: 0.5093 - accuracy: 0.81 - ETA: 3s - loss: 0.5081 - accuracy: 0.81 - ETA: 3s - loss: 0.5072 - accuracy: 0.81 - ETA: 2s - loss: 0.5067 - accuracy: 0.81 - ETA: 2s - loss: 0.5060 - accuracy: 0.81 - ETA: 2s - loss: 0.5049 - accuracy: 0.81 - ETA: 2s - loss: 0.5044 - accuracy: 0.81 - ETA: 2s - loss: 0.5035 - accuracy: 0.82 - ETA: 2s - loss: 0.5022 - accuracy: 0.82 - ETA: 2s - loss: 0.5013 - accuracy: 0.82 - ETA: 2s - loss: 0.5006 - accuracy: 0.82 - ETA: 2s - loss: 0.4999 - accuracy: 0.82 - ETA: 2s - loss: 0.4993 - accuracy: 0.82 - ETA: 2s - loss: 0.4991 - accuracy: 0.82 - ETA: 2s - loss: 0.4989 - accuracy: 0.82 - ETA: 2s - loss: 0.4986 - accuracy: 0.82 - ETA: 2s - loss: 0.4984 - accuracy: 0.82 - ETA: 2s - loss: 0.4976 - accuracy: 0.82 - ETA: 2s - loss: 0.4973 - accuracy: 0.82 - ETA: 2s - loss: 0.4973 - accuracy: 0.82 - ETA: 2s - loss: 0.4968 - accuracy: 0.82 - ETA: 1s - loss: 0.4960 - accuracy: 0.82 - ETA: 1s - loss: 0.4952 - accuracy: 0.82 - ETA: 1s - loss: 0.4946 - accuracy: 0.82 - ETA: 1s - loss: 0.4938 - accuracy: 0.82 - ETA: 1s - loss: 0.4926 - accuracy: 0.82 - ETA: 1s - loss: 0.4913 - accuracy: 0.82 - ETA: 1s - loss: 0.4915 - accuracy: 0.82 - ETA: 1s - loss: 0.4912 - accuracy: 0.82 - ETA: 1s - loss: 0.4909 - accuracy: 0.82 - ETA: 1s - loss: 0.4903 - accuracy: 0.82 - ETA: 1s - loss: 0.4900 - accuracy: 0.82 - ETA: 1s - loss: 0.4893 - accuracy: 0.82 - ETA: 1s - loss: 0.4887 - accuracy: 0.82 - ETA: 1s - loss: 0.4875 - accuracy: 0.82 - ETA: 0s - loss: 0.4868 - accuracy: 0.82 - ETA: 0s - loss: 0.4864 - accuracy: 0.82 - ETA: 0s - loss: 0.4858 - accuracy: 0.82 - ETA: 0s - loss: 0.4852 - accuracy: 0.82 - ETA: 0s - loss: 0.4845 - accuracy: 0.82 - ETA: 0s - loss: 0.4837 - accuracy: 0.82 - ETA: 0s - loss: 0.4832 - accuracy: 0.82 - ETA: 0s - loss: 0.4827 - accuracy: 0.82 - ETA: 0s - loss: 0.4823 - accuracy: 0.82 - ETA: 0s - loss: 0.4820 - accuracy: 0.82 - ETA: 0s - loss: 0.4814 - accuracy: 0.82 - ETA: 0s - loss: 0.4810 - accuracy: 0.82 - ETA: 0s - loss: 0.4808 - accuracy: 0.82 - ETA: 0s - loss: 0.4804 - accuracy: 0.82 - ETA: 0s - loss: 0.4803 - accuracy: 0.82 - ETA: 0s - loss: 0.4798 - accuracy: 0.82 - ETA: 0s - loss: 0.4796 - accuracy: 0.82 - ETA: 0s - loss: 0.4787 - accuracy: 0.82 - ETA: 0s - loss: 0.4783 - accuracy: 0.82 - 12s 6ms/step - loss: 0.4778 - accuracy: 0.8291 - val_loss: 0.4216 - val_accuracy: 0.8458\n"
     ]
    },
    {
     "name": "stdout",
     "output_type": "stream",
     "text": [
      "Epoch 6/10\n",
      "1875/1875 [==============================] - ETA: 0s - loss: 0.2884 - accuracy: 0.90 - ETA: 11s - loss: 0.3144 - accuracy: 0.899 - ETA: 13s - loss: 0.3247 - accuracy: 0.883 - ETA: 12s - loss: 0.3252 - accuracy: 0.890 - ETA: 11s - loss: 0.3450 - accuracy: 0.876 - ETA: 10s - loss: 0.3637 - accuracy: 0.865 - ETA: 10s - loss: 0.3717 - accuracy: 0.860 - ETA: 9s - loss: 0.3641 - accuracy: 0.865 - ETA: 9s - loss: 0.3692 - accuracy: 0.86 - ETA: 9s - loss: 0.3645 - accuracy: 0.86 - ETA: 9s - loss: 0.3583 - accuracy: 0.86 - ETA: 9s - loss: 0.3574 - accuracy: 0.86 - ETA: 9s - loss: 0.3587 - accuracy: 0.86 - ETA: 10s - loss: 0.3583 - accuracy: 0.868 - ETA: 10s - loss: 0.3588 - accuracy: 0.868 - ETA: 9s - loss: 0.3638 - accuracy: 0.867 - ETA: 9s - loss: 0.3604 - accuracy: 0.86 - ETA: 9s - loss: 0.3586 - accuracy: 0.86 - ETA: 9s - loss: 0.3570 - accuracy: 0.86 - ETA: 9s - loss: 0.3543 - accuracy: 0.87 - ETA: 9s - loss: 0.3616 - accuracy: 0.86 - ETA: 9s - loss: 0.3593 - accuracy: 0.86 - ETA: 9s - loss: 0.3604 - accuracy: 0.86 - ETA: 8s - loss: 0.3586 - accuracy: 0.86 - ETA: 8s - loss: 0.3629 - accuracy: 0.86 - ETA: 8s - loss: 0.3631 - accuracy: 0.86 - ETA: 8s - loss: 0.3620 - accuracy: 0.86 - ETA: 8s - loss: 0.3633 - accuracy: 0.86 - ETA: 8s - loss: 0.3637 - accuracy: 0.86 - ETA: 8s - loss: 0.3626 - accuracy: 0.86 - ETA: 8s - loss: 0.3635 - accuracy: 0.86 - ETA: 8s - loss: 0.3649 - accuracy: 0.86 - ETA: 8s - loss: 0.3673 - accuracy: 0.86 - ETA: 8s - loss: 0.3698 - accuracy: 0.86 - ETA: 8s - loss: 0.3718 - accuracy: 0.86 - ETA: 8s - loss: 0.3712 - accuracy: 0.86 - ETA: 7s - loss: 0.3698 - accuracy: 0.86 - ETA: 7s - loss: 0.3697 - accuracy: 0.86 - ETA: 7s - loss: 0.3686 - accuracy: 0.86 - ETA: 7s - loss: 0.3687 - accuracy: 0.86 - ETA: 7s - loss: 0.3683 - accuracy: 0.86 - ETA: 7s - loss: 0.3667 - accuracy: 0.86 - ETA: 7s - loss: 0.3670 - accuracy: 0.86 - ETA: 6s - loss: 0.3707 - accuracy: 0.86 - ETA: 6s - loss: 0.3717 - accuracy: 0.86 - ETA: 6s - loss: 0.3722 - accuracy: 0.86 - ETA: 6s - loss: 0.3727 - accuracy: 0.86 - ETA: 6s - loss: 0.3725 - accuracy: 0.86 - ETA: 6s - loss: 0.3724 - accuracy: 0.86 - ETA: 6s - loss: 0.3720 - accuracy: 0.86 - ETA: 6s - loss: 0.3709 - accuracy: 0.86 - ETA: 5s - loss: 0.3709 - accuracy: 0.86 - ETA: 5s - loss: 0.3714 - accuracy: 0.86 - ETA: 5s - loss: 0.3719 - accuracy: 0.86 - ETA: 5s - loss: 0.3709 - accuracy: 0.86 - ETA: 5s - loss: 0.3711 - accuracy: 0.86 - ETA: 5s - loss: 0.3706 - accuracy: 0.86 - ETA: 5s - loss: 0.3697 - accuracy: 0.86 - ETA: 5s - loss: 0.3697 - accuracy: 0.86 - ETA: 5s - loss: 0.3697 - accuracy: 0.86 - ETA: 5s - loss: 0.3699 - accuracy: 0.86 - ETA: 5s - loss: 0.3694 - accuracy: 0.86 - ETA: 5s - loss: 0.3688 - accuracy: 0.86 - ETA: 4s - loss: 0.3679 - accuracy: 0.86 - ETA: 4s - loss: 0.3676 - accuracy: 0.86 - ETA: 4s - loss: 0.3679 - accuracy: 0.86 - ETA: 4s - loss: 0.3678 - accuracy: 0.86 - ETA: 4s - loss: 0.3682 - accuracy: 0.86 - ETA: 4s - loss: 0.3686 - accuracy: 0.86 - ETA: 4s - loss: 0.3673 - accuracy: 0.86 - ETA: 4s - loss: 0.3673 - accuracy: 0.86 - ETA: 4s - loss: 0.3665 - accuracy: 0.86 - ETA: 4s - loss: 0.3674 - accuracy: 0.86 - ETA: 4s - loss: 0.3672 - accuracy: 0.86 - ETA: 4s - loss: 0.3673 - accuracy: 0.86 - ETA: 4s - loss: 0.3666 - accuracy: 0.86 - ETA: 4s - loss: 0.3653 - accuracy: 0.86 - ETA: 4s - loss: 0.3654 - accuracy: 0.86 - ETA: 4s - loss: 0.3655 - accuracy: 0.86 - ETA: 4s - loss: 0.3647 - accuracy: 0.86 - ETA: 3s - loss: 0.3645 - accuracy: 0.86 - ETA: 3s - loss: 0.3637 - accuracy: 0.86 - ETA: 3s - loss: 0.3641 - accuracy: 0.86 - ETA: 3s - loss: 0.3648 - accuracy: 0.86 - ETA: 3s - loss: 0.3642 - accuracy: 0.86 - ETA: 3s - loss: 0.3637 - accuracy: 0.86 - ETA: 3s - loss: 0.3631 - accuracy: 0.86 - ETA: 3s - loss: 0.3632 - accuracy: 0.86 - ETA: 3s - loss: 0.3626 - accuracy: 0.86 - ETA: 3s - loss: 0.3622 - accuracy: 0.86 - ETA: 3s - loss: 0.3629 - accuracy: 0.86 - ETA: 3s - loss: 0.3633 - accuracy: 0.86 - ETA: 3s - loss: 0.3637 - accuracy: 0.86 - ETA: 3s - loss: 0.3633 - accuracy: 0.86 - ETA: 3s - loss: 0.3625 - accuracy: 0.86 - ETA: 3s - loss: 0.3631 - accuracy: 0.86 - ETA: 2s - loss: 0.3634 - accuracy: 0.86 - ETA: 2s - loss: 0.3629 - accuracy: 0.86 - ETA: 2s - loss: 0.3625 - accuracy: 0.86 - ETA: 2s - loss: 0.3623 - accuracy: 0.86 - ETA: 2s - loss: 0.3624 - accuracy: 0.86 - ETA: 2s - loss: 0.3628 - accuracy: 0.86 - ETA: 2s - loss: 0.3631 - accuracy: 0.86 - ETA: 2s - loss: 0.3633 - accuracy: 0.86 - ETA: 2s - loss: 0.3635 - accuracy: 0.86 - ETA: 2s - loss: 0.3637 - accuracy: 0.86 - ETA: 2s - loss: 0.3636 - accuracy: 0.86 - ETA: 2s - loss: 0.3635 - accuracy: 0.86 - ETA: 2s - loss: 0.3635 - accuracy: 0.86 - ETA: 2s - loss: 0.3630 - accuracy: 0.86 - ETA: 2s - loss: 0.3628 - accuracy: 0.86 - ETA: 2s - loss: 0.3628 - accuracy: 0.86 - ETA: 1s - loss: 0.3627 - accuracy: 0.86 - ETA: 1s - loss: 0.3625 - accuracy: 0.86 - ETA: 1s - loss: 0.3627 - accuracy: 0.86 - ETA: 1s - loss: 0.3623 - accuracy: 0.86 - ETA: 1s - loss: 0.3622 - accuracy: 0.86 - ETA: 1s - loss: 0.3617 - accuracy: 0.86 - ETA: 1s - loss: 0.3612 - accuracy: 0.86 - ETA: 1s - loss: 0.3615 - accuracy: 0.86 - ETA: 1s - loss: 0.3615 - accuracy: 0.86 - ETA: 1s - loss: 0.3613 - accuracy: 0.86 - ETA: 1s - loss: 0.3615 - accuracy: 0.86 - ETA: 1s - loss: 0.3615 - accuracy: 0.86 - ETA: 1s - loss: 0.3616 - accuracy: 0.86 - ETA: 1s - loss: 0.3614 - accuracy: 0.86 - ETA: 1s - loss: 0.3614 - accuracy: 0.86 - ETA: 1s - loss: 0.3614 - accuracy: 0.86 - ETA: 1s - loss: 0.3614 - accuracy: 0.86 - ETA: 1s - loss: 0.3617 - accuracy: 0.86 - ETA: 1s - loss: 0.3617 - accuracy: 0.86 - ETA: 1s - loss: 0.3617 - accuracy: 0.86 - ETA: 0s - loss: 0.3613 - accuracy: 0.86 - ETA: 0s - loss: 0.3615 - accuracy: 0.86 - ETA: 0s - loss: 0.3613 - accuracy: 0.86 - ETA: 0s - loss: 0.3609 - accuracy: 0.86 - ETA: 0s - loss: 0.3607 - accuracy: 0.86 - ETA: 0s - loss: 0.3602 - accuracy: 0.86 - ETA: 0s - loss: 0.3601 - accuracy: 0.86 - ETA: 0s - loss: 0.3598 - accuracy: 0.86 - ETA: 0s - loss: 0.3598 - accuracy: 0.86 - ETA: 0s - loss: 0.3598 - accuracy: 0.86 - ETA: 0s - loss: 0.3594 - accuracy: 0.86 - ETA: 0s - loss: 0.3593 - accuracy: 0.86 - ETA: 0s - loss: 0.3594 - accuracy: 0.86 - ETA: 0s - loss: 0.3594 - accuracy: 0.86 - ETA: 0s - loss: 0.3590 - accuracy: 0.86 - ETA: 0s - loss: 0.3587 - accuracy: 0.86 - ETA: 0s - loss: 0.3589 - accuracy: 0.86 - ETA: 0s - loss: 0.3584 - accuracy: 0.86 - ETA: 0s - loss: 0.3584 - accuracy: 0.86 - 9s 5ms/step - loss: 0.3582 - accuracy: 0.8697 - val_loss: 0.3731 - val_accuracy: 0.8617\n",
      "Epoch 7/10\n"
     ]
    },
    {
     "name": "stdout",
     "output_type": "stream",
     "text": [
      "1875/1875 [==============================] - ETA: 0s - loss: 0.4526 - accuracy: 0.78 - ETA: 6s - loss: 0.3214 - accuracy: 0.86 - ETA: 6s - loss: 0.3063 - accuracy: 0.88 - ETA: 6s - loss: 0.3117 - accuracy: 0.88 - ETA: 6s - loss: 0.3145 - accuracy: 0.87 - ETA: 6s - loss: 0.3123 - accuracy: 0.88 - ETA: 6s - loss: 0.3117 - accuracy: 0.87 - ETA: 6s - loss: 0.3016 - accuracy: 0.88 - ETA: 6s - loss: 0.3067 - accuracy: 0.88 - ETA: 7s - loss: 0.3158 - accuracy: 0.88 - ETA: 7s - loss: 0.3263 - accuracy: 0.87 - ETA: 7s - loss: 0.3317 - accuracy: 0.87 - ETA: 7s - loss: 0.3337 - accuracy: 0.87 - ETA: 7s - loss: 0.3300 - accuracy: 0.87 - ETA: 7s - loss: 0.3333 - accuracy: 0.87 - ETA: 7s - loss: 0.3284 - accuracy: 0.87 - ETA: 7s - loss: 0.3316 - accuracy: 0.87 - ETA: 7s - loss: 0.3328 - accuracy: 0.87 - ETA: 7s - loss: 0.3319 - accuracy: 0.87 - ETA: 7s - loss: 0.3341 - accuracy: 0.87 - ETA: 7s - loss: 0.3315 - accuracy: 0.87 - ETA: 7s - loss: 0.3347 - accuracy: 0.87 - ETA: 7s - loss: 0.3343 - accuracy: 0.87 - ETA: 7s - loss: 0.3338 - accuracy: 0.87 - ETA: 7s - loss: 0.3345 - accuracy: 0.87 - ETA: 7s - loss: 0.3360 - accuracy: 0.87 - ETA: 7s - loss: 0.3383 - accuracy: 0.87 - ETA: 7s - loss: 0.3376 - accuracy: 0.87 - ETA: 7s - loss: 0.3368 - accuracy: 0.87 - ETA: 7s - loss: 0.3362 - accuracy: 0.87 - ETA: 7s - loss: 0.3354 - accuracy: 0.87 - ETA: 7s - loss: 0.3354 - accuracy: 0.87 - ETA: 7s - loss: 0.3351 - accuracy: 0.87 - ETA: 7s - loss: 0.3367 - accuracy: 0.87 - ETA: 7s - loss: 0.3352 - accuracy: 0.87 - ETA: 6s - loss: 0.3322 - accuracy: 0.87 - ETA: 6s - loss: 0.3312 - accuracy: 0.87 - ETA: 6s - loss: 0.3317 - accuracy: 0.87 - ETA: 6s - loss: 0.3309 - accuracy: 0.87 - ETA: 6s - loss: 0.3319 - accuracy: 0.87 - ETA: 6s - loss: 0.3305 - accuracy: 0.87 - ETA: 6s - loss: 0.3312 - accuracy: 0.87 - ETA: 6s - loss: 0.3309 - accuracy: 0.87 - ETA: 6s - loss: 0.3333 - accuracy: 0.87 - ETA: 6s - loss: 0.3335 - accuracy: 0.87 - ETA: 6s - loss: 0.3330 - accuracy: 0.87 - ETA: 6s - loss: 0.3327 - accuracy: 0.87 - ETA: 6s - loss: 0.3335 - accuracy: 0.87 - ETA: 6s - loss: 0.3327 - accuracy: 0.87 - ETA: 6s - loss: 0.3337 - accuracy: 0.87 - ETA: 6s - loss: 0.3347 - accuracy: 0.87 - ETA: 6s - loss: 0.3356 - accuracy: 0.87 - ETA: 6s - loss: 0.3356 - accuracy: 0.87 - ETA: 5s - loss: 0.3351 - accuracy: 0.87 - ETA: 5s - loss: 0.3339 - accuracy: 0.87 - ETA: 5s - loss: 0.3335 - accuracy: 0.87 - ETA: 5s - loss: 0.3327 - accuracy: 0.87 - ETA: 5s - loss: 0.3326 - accuracy: 0.87 - ETA: 5s - loss: 0.3328 - accuracy: 0.87 - ETA: 5s - loss: 0.3339 - accuracy: 0.87 - ETA: 5s - loss: 0.3332 - accuracy: 0.87 - ETA: 5s - loss: 0.3324 - accuracy: 0.87 - ETA: 5s - loss: 0.3322 - accuracy: 0.87 - ETA: 5s - loss: 0.3318 - accuracy: 0.87 - ETA: 5s - loss: 0.3311 - accuracy: 0.87 - ETA: 5s - loss: 0.3312 - accuracy: 0.87 - ETA: 5s - loss: 0.3321 - accuracy: 0.87 - ETA: 5s - loss: 0.3321 - accuracy: 0.87 - ETA: 5s - loss: 0.3323 - accuracy: 0.87 - ETA: 5s - loss: 0.3316 - accuracy: 0.87 - ETA: 5s - loss: 0.3331 - accuracy: 0.87 - ETA: 5s - loss: 0.3329 - accuracy: 0.87 - ETA: 5s - loss: 0.3330 - accuracy: 0.87 - ETA: 5s - loss: 0.3324 - accuracy: 0.87 - ETA: 5s - loss: 0.3321 - accuracy: 0.87 - ETA: 5s - loss: 0.3321 - accuracy: 0.87 - ETA: 4s - loss: 0.3327 - accuracy: 0.87 - ETA: 4s - loss: 0.3330 - accuracy: 0.87 - ETA: 4s - loss: 0.3333 - accuracy: 0.87 - ETA: 4s - loss: 0.3326 - accuracy: 0.87 - ETA: 4s - loss: 0.3329 - accuracy: 0.87 - ETA: 4s - loss: 0.3326 - accuracy: 0.87 - ETA: 4s - loss: 0.3330 - accuracy: 0.87 - ETA: 4s - loss: 0.3333 - accuracy: 0.87 - ETA: 4s - loss: 0.3328 - accuracy: 0.87 - ETA: 4s - loss: 0.3330 - accuracy: 0.87 - ETA: 4s - loss: 0.3330 - accuracy: 0.87 - ETA: 4s - loss: 0.3326 - accuracy: 0.87 - ETA: 4s - loss: 0.3328 - accuracy: 0.87 - ETA: 4s - loss: 0.3326 - accuracy: 0.87 - ETA: 4s - loss: 0.3331 - accuracy: 0.87 - ETA: 4s - loss: 0.3338 - accuracy: 0.87 - ETA: 4s - loss: 0.3334 - accuracy: 0.87 - ETA: 4s - loss: 0.3337 - accuracy: 0.87 - ETA: 4s - loss: 0.3340 - accuracy: 0.87 - ETA: 4s - loss: 0.3342 - accuracy: 0.87 - ETA: 4s - loss: 0.3342 - accuracy: 0.87 - ETA: 4s - loss: 0.3345 - accuracy: 0.87 - ETA: 3s - loss: 0.3339 - accuracy: 0.87 - ETA: 3s - loss: 0.3336 - accuracy: 0.87 - ETA: 3s - loss: 0.3329 - accuracy: 0.87 - ETA: 3s - loss: 0.3322 - accuracy: 0.87 - ETA: 3s - loss: 0.3325 - accuracy: 0.87 - ETA: 3s - loss: 0.3325 - accuracy: 0.87 - ETA: 3s - loss: 0.3325 - accuracy: 0.87 - ETA: 3s - loss: 0.3334 - accuracy: 0.87 - ETA: 3s - loss: 0.3329 - accuracy: 0.87 - ETA: 3s - loss: 0.3333 - accuracy: 0.87 - ETA: 3s - loss: 0.3329 - accuracy: 0.87 - ETA: 3s - loss: 0.3333 - accuracy: 0.87 - ETA: 3s - loss: 0.3335 - accuracy: 0.87 - ETA: 3s - loss: 0.3326 - accuracy: 0.87 - ETA: 3s - loss: 0.3322 - accuracy: 0.87 - ETA: 3s - loss: 0.3318 - accuracy: 0.87 - ETA: 3s - loss: 0.3315 - accuracy: 0.87 - ETA: 2s - loss: 0.3314 - accuracy: 0.87 - ETA: 2s - loss: 0.3312 - accuracy: 0.87 - ETA: 2s - loss: 0.3310 - accuracy: 0.87 - ETA: 2s - loss: 0.3307 - accuracy: 0.87 - ETA: 2s - loss: 0.3304 - accuracy: 0.87 - ETA: 2s - loss: 0.3303 - accuracy: 0.87 - ETA: 2s - loss: 0.3305 - accuracy: 0.87 - ETA: 2s - loss: 0.3306 - accuracy: 0.87 - ETA: 2s - loss: 0.3309 - accuracy: 0.87 - ETA: 2s - loss: 0.3302 - accuracy: 0.87 - ETA: 2s - loss: 0.3303 - accuracy: 0.87 - ETA: 2s - loss: 0.3298 - accuracy: 0.87 - ETA: 2s - loss: 0.3302 - accuracy: 0.87 - ETA: 2s - loss: 0.3296 - accuracy: 0.87 - ETA: 2s - loss: 0.3292 - accuracy: 0.87 - ETA: 2s - loss: 0.3290 - accuracy: 0.87 - ETA: 2s - loss: 0.3292 - accuracy: 0.87 - ETA: 1s - loss: 0.3288 - accuracy: 0.87 - ETA: 1s - loss: 0.3283 - accuracy: 0.87 - ETA: 1s - loss: 0.3285 - accuracy: 0.87 - ETA: 1s - loss: 0.3287 - accuracy: 0.87 - ETA: 1s - loss: 0.3282 - accuracy: 0.87 - ETA: 1s - loss: 0.3279 - accuracy: 0.87 - ETA: 1s - loss: 0.3286 - accuracy: 0.87 - ETA: 1s - loss: 0.3285 - accuracy: 0.87 - ETA: 1s - loss: 0.3278 - accuracy: 0.87 - ETA: 1s - loss: 0.3272 - accuracy: 0.87 - ETA: 1s - loss: 0.3269 - accuracy: 0.87 - ETA: 1s - loss: 0.3271 - accuracy: 0.87 - ETA: 1s - loss: 0.3268 - accuracy: 0.87 - ETA: 1s - loss: 0.3269 - accuracy: 0.87 - ETA: 1s - loss: 0.3267 - accuracy: 0.87 - ETA: 0s - loss: 0.3264 - accuracy: 0.87 - ETA: 0s - loss: 0.3267 - accuracy: 0.87 - ETA: 0s - loss: 0.3264 - accuracy: 0.87 - ETA: 0s - loss: 0.3266 - accuracy: 0.87 - ETA: 0s - loss: 0.3268 - accuracy: 0.87 - ETA: 0s - loss: 0.3264 - accuracy: 0.87 - ETA: 0s - loss: 0.3262 - accuracy: 0.87 - ETA: 0s - loss: 0.3257 - accuracy: 0.87 - ETA: 0s - loss: 0.3254 - accuracy: 0.87 - ETA: 0s - loss: 0.3257 - accuracy: 0.87 - ETA: 0s - loss: 0.3257 - accuracy: 0.87 - ETA: 0s - loss: 0.3253 - accuracy: 0.87 - ETA: 0s - loss: 0.3250 - accuracy: 0.87 - ETA: 0s - loss: 0.3250 - accuracy: 0.87 - ETA: 0s - loss: 0.3255 - accuracy: 0.87 - ETA: 0s - loss: 0.3255 - accuracy: 0.87 - ETA: 0s - loss: 0.3254 - accuracy: 0.87 - ETA: 0s - loss: 0.3255 - accuracy: 0.87 - 9s 5ms/step - loss: 0.3255 - accuracy: 0.8794 - val_loss: 0.4079 - val_accuracy: 0.8546\n",
      "Epoch 8/10\n"
     ]
    },
    {
     "name": "stdout",
     "output_type": "stream",
     "text": [
      "1875/1875 [==============================] - ETA: 0s - loss: 0.1457 - accuracy: 0.93 - ETA: 6s - loss: 0.3818 - accuracy: 0.84 - ETA: 6s - loss: 0.3366 - accuracy: 0.86 - ETA: 6s - loss: 0.3072 - accuracy: 0.87 - ETA: 6s - loss: 0.3134 - accuracy: 0.88 - ETA: 6s - loss: 0.3244 - accuracy: 0.87 - ETA: 6s - loss: 0.3198 - accuracy: 0.88 - ETA: 6s - loss: 0.3151 - accuracy: 0.88 - ETA: 6s - loss: 0.3099 - accuracy: 0.88 - ETA: 6s - loss: 0.3068 - accuracy: 0.88 - ETA: 6s - loss: 0.3044 - accuracy: 0.88 - ETA: 6s - loss: 0.3041 - accuracy: 0.88 - ETA: 6s - loss: 0.3080 - accuracy: 0.88 - ETA: 6s - loss: 0.3079 - accuracy: 0.88 - ETA: 6s - loss: 0.3054 - accuracy: 0.88 - ETA: 6s - loss: 0.3033 - accuracy: 0.88 - ETA: 6s - loss: 0.3018 - accuracy: 0.88 - ETA: 6s - loss: 0.3041 - accuracy: 0.88 - ETA: 6s - loss: 0.3063 - accuracy: 0.88 - ETA: 5s - loss: 0.3055 - accuracy: 0.88 - ETA: 5s - loss: 0.3090 - accuracy: 0.88 - ETA: 5s - loss: 0.3080 - accuracy: 0.88 - ETA: 5s - loss: 0.3072 - accuracy: 0.88 - ETA: 5s - loss: 0.3059 - accuracy: 0.88 - ETA: 5s - loss: 0.3060 - accuracy: 0.88 - ETA: 5s - loss: 0.3044 - accuracy: 0.88 - ETA: 5s - loss: 0.3048 - accuracy: 0.88 - ETA: 5s - loss: 0.3047 - accuracy: 0.88 - ETA: 5s - loss: 0.3068 - accuracy: 0.88 - ETA: 5s - loss: 0.3062 - accuracy: 0.88 - ETA: 5s - loss: 0.3072 - accuracy: 0.88 - ETA: 5s - loss: 0.3062 - accuracy: 0.88 - ETA: 5s - loss: 0.3055 - accuracy: 0.88 - ETA: 5s - loss: 0.3042 - accuracy: 0.88 - ETA: 5s - loss: 0.3049 - accuracy: 0.88 - ETA: 5s - loss: 0.3048 - accuracy: 0.88 - ETA: 4s - loss: 0.3053 - accuracy: 0.88 - ETA: 4s - loss: 0.3043 - accuracy: 0.88 - ETA: 4s - loss: 0.3043 - accuracy: 0.88 - ETA: 4s - loss: 0.3042 - accuracy: 0.88 - ETA: 4s - loss: 0.3054 - accuracy: 0.88 - ETA: 4s - loss: 0.3045 - accuracy: 0.88 - ETA: 4s - loss: 0.3041 - accuracy: 0.88 - ETA: 4s - loss: 0.3049 - accuracy: 0.88 - ETA: 4s - loss: 0.3047 - accuracy: 0.88 - ETA: 4s - loss: 0.3043 - accuracy: 0.88 - ETA: 4s - loss: 0.3051 - accuracy: 0.88 - ETA: 4s - loss: 0.3053 - accuracy: 0.88 - ETA: 4s - loss: 0.3035 - accuracy: 0.88 - ETA: 4s - loss: 0.3026 - accuracy: 0.88 - ETA: 4s - loss: 0.3023 - accuracy: 0.88 - ETA: 4s - loss: 0.3013 - accuracy: 0.88 - ETA: 4s - loss: 0.3002 - accuracy: 0.88 - ETA: 4s - loss: 0.2999 - accuracy: 0.88 - ETA: 3s - loss: 0.3001 - accuracy: 0.88 - ETA: 3s - loss: 0.3002 - accuracy: 0.88 - ETA: 3s - loss: 0.3009 - accuracy: 0.88 - ETA: 3s - loss: 0.3011 - accuracy: 0.88 - ETA: 3s - loss: 0.3005 - accuracy: 0.88 - ETA: 3s - loss: 0.3004 - accuracy: 0.88 - ETA: 3s - loss: 0.2998 - accuracy: 0.88 - ETA: 3s - loss: 0.2991 - accuracy: 0.88 - ETA: 3s - loss: 0.2987 - accuracy: 0.88 - ETA: 3s - loss: 0.2985 - accuracy: 0.88 - ETA: 3s - loss: 0.2990 - accuracy: 0.88 - ETA: 3s - loss: 0.2990 - accuracy: 0.88 - ETA: 3s - loss: 0.2994 - accuracy: 0.88 - ETA: 3s - loss: 0.2999 - accuracy: 0.88 - ETA: 3s - loss: 0.3000 - accuracy: 0.88 - ETA: 3s - loss: 0.3005 - accuracy: 0.88 - ETA: 3s - loss: 0.2995 - accuracy: 0.88 - ETA: 3s - loss: 0.2998 - accuracy: 0.88 - ETA: 3s - loss: 0.2990 - accuracy: 0.88 - ETA: 3s - loss: 0.2995 - accuracy: 0.88 - ETA: 2s - loss: 0.2998 - accuracy: 0.88 - ETA: 2s - loss: 0.2993 - accuracy: 0.88 - ETA: 2s - loss: 0.2994 - accuracy: 0.88 - ETA: 2s - loss: 0.2987 - accuracy: 0.88 - ETA: 2s - loss: 0.2989 - accuracy: 0.88 - ETA: 2s - loss: 0.2993 - accuracy: 0.88 - ETA: 2s - loss: 0.2994 - accuracy: 0.88 - ETA: 2s - loss: 0.2991 - accuracy: 0.88 - ETA: 2s - loss: 0.2990 - accuracy: 0.88 - ETA: 2s - loss: 0.2996 - accuracy: 0.88 - ETA: 2s - loss: 0.2993 - accuracy: 0.88 - ETA: 2s - loss: 0.2995 - accuracy: 0.88 - ETA: 2s - loss: 0.2991 - accuracy: 0.88 - ETA: 2s - loss: 0.2992 - accuracy: 0.88 - ETA: 2s - loss: 0.3000 - accuracy: 0.88 - ETA: 2s - loss: 0.3006 - accuracy: 0.88 - ETA: 2s - loss: 0.3011 - accuracy: 0.88 - ETA: 2s - loss: 0.3005 - accuracy: 0.88 - ETA: 2s - loss: 0.3004 - accuracy: 0.88 - ETA: 2s - loss: 0.3001 - accuracy: 0.88 - ETA: 2s - loss: 0.3001 - accuracy: 0.88 - ETA: 1s - loss: 0.3005 - accuracy: 0.88 - ETA: 1s - loss: 0.3007 - accuracy: 0.88 - ETA: 1s - loss: 0.3015 - accuracy: 0.88 - ETA: 1s - loss: 0.3013 - accuracy: 0.88 - ETA: 1s - loss: 0.3011 - accuracy: 0.88 - ETA: 1s - loss: 0.3011 - accuracy: 0.88 - ETA: 1s - loss: 0.3015 - accuracy: 0.88 - ETA: 1s - loss: 0.3017 - accuracy: 0.88 - ETA: 1s - loss: 0.3017 - accuracy: 0.88 - ETA: 1s - loss: 0.3017 - accuracy: 0.88 - ETA: 1s - loss: 0.3013 - accuracy: 0.88 - ETA: 1s - loss: 0.3009 - accuracy: 0.88 - ETA: 1s - loss: 0.3012 - accuracy: 0.88 - ETA: 1s - loss: 0.3017 - accuracy: 0.88 - ETA: 1s - loss: 0.3018 - accuracy: 0.88 - ETA: 1s - loss: 0.3023 - accuracy: 0.88 - ETA: 1s - loss: 0.3018 - accuracy: 0.88 - ETA: 1s - loss: 0.3018 - accuracy: 0.88 - ETA: 1s - loss: 0.3013 - accuracy: 0.88 - ETA: 1s - loss: 0.3013 - accuracy: 0.88 - ETA: 1s - loss: 0.3021 - accuracy: 0.88 - ETA: 0s - loss: 0.3024 - accuracy: 0.88 - ETA: 0s - loss: 0.3021 - accuracy: 0.88 - ETA: 0s - loss: 0.3018 - accuracy: 0.88 - ETA: 0s - loss: 0.3023 - accuracy: 0.88 - ETA: 0s - loss: 0.3027 - accuracy: 0.88 - ETA: 0s - loss: 0.3024 - accuracy: 0.88 - ETA: 0s - loss: 0.3023 - accuracy: 0.88 - ETA: 0s - loss: 0.3021 - accuracy: 0.88 - ETA: 0s - loss: 0.3020 - accuracy: 0.88 - ETA: 0s - loss: 0.3017 - accuracy: 0.88 - ETA: 0s - loss: 0.3018 - accuracy: 0.88 - ETA: 0s - loss: 0.3016 - accuracy: 0.88 - ETA: 0s - loss: 0.3016 - accuracy: 0.88 - ETA: 0s - loss: 0.3018 - accuracy: 0.88 - ETA: 0s - loss: 0.3019 - accuracy: 0.88 - ETA: 0s - loss: 0.3024 - accuracy: 0.88 - ETA: 0s - loss: 0.3025 - accuracy: 0.88 - ETA: 0s - loss: 0.3026 - accuracy: 0.88 - ETA: 0s - loss: 0.3031 - accuracy: 0.88 - ETA: 0s - loss: 0.3029 - accuracy: 0.88 - ETA: 0s - loss: 0.3025 - accuracy: 0.88 - ETA: 0s - loss: 0.3027 - accuracy: 0.88 - ETA: 0s - loss: 0.3025 - accuracy: 0.88 - ETA: 0s - loss: 0.3023 - accuracy: 0.88 - 8s 4ms/step - loss: 0.3025 - accuracy: 0.8876 - val_loss: 0.3418 - val_accuracy: 0.8790\n",
      "Epoch 9/10\n"
     ]
    },
    {
     "name": "stdout",
     "output_type": "stream",
     "text": [
      "1875/1875 [==============================] - ETA: 0s - loss: 0.1980 - accuracy: 0.87 - ETA: 7s - loss: 0.2519 - accuracy: 0.89 - ETA: 7s - loss: 0.2573 - accuracy: 0.90 - ETA: 7s - loss: 0.2617 - accuracy: 0.90 - ETA: 7s - loss: 0.2539 - accuracy: 0.90 - ETA: 7s - loss: 0.2517 - accuracy: 0.90 - ETA: 7s - loss: 0.2526 - accuracy: 0.90 - ETA: 7s - loss: 0.2537 - accuracy: 0.90 - ETA: 7s - loss: 0.2564 - accuracy: 0.90 - ETA: 7s - loss: 0.2600 - accuracy: 0.90 - ETA: 7s - loss: 0.2593 - accuracy: 0.90 - ETA: 7s - loss: 0.2622 - accuracy: 0.90 - ETA: 7s - loss: 0.2730 - accuracy: 0.89 - ETA: 7s - loss: 0.2765 - accuracy: 0.89 - ETA: 7s - loss: 0.2747 - accuracy: 0.89 - ETA: 7s - loss: 0.2748 - accuracy: 0.89 - ETA: 7s - loss: 0.2749 - accuracy: 0.89 - ETA: 7s - loss: 0.2741 - accuracy: 0.89 - ETA: 7s - loss: 0.2756 - accuracy: 0.89 - ETA: 7s - loss: 0.2782 - accuracy: 0.89 - ETA: 7s - loss: 0.2770 - accuracy: 0.89 - ETA: 7s - loss: 0.2776 - accuracy: 0.89 - ETA: 7s - loss: 0.2796 - accuracy: 0.89 - ETA: 7s - loss: 0.2799 - accuracy: 0.89 - ETA: 7s - loss: 0.2787 - accuracy: 0.89 - ETA: 7s - loss: 0.2792 - accuracy: 0.89 - ETA: 7s - loss: 0.2781 - accuracy: 0.89 - ETA: 7s - loss: 0.2782 - accuracy: 0.89 - ETA: 7s - loss: 0.2807 - accuracy: 0.89 - ETA: 7s - loss: 0.2805 - accuracy: 0.89 - ETA: 7s - loss: 0.2802 - accuracy: 0.89 - ETA: 7s - loss: 0.2804 - accuracy: 0.89 - ETA: 7s - loss: 0.2816 - accuracy: 0.89 - ETA: 7s - loss: 0.2815 - accuracy: 0.89 - ETA: 7s - loss: 0.2815 - accuracy: 0.89 - ETA: 7s - loss: 0.2810 - accuracy: 0.89 - ETA: 7s - loss: 0.2821 - accuracy: 0.89 - ETA: 7s - loss: 0.2811 - accuracy: 0.89 - ETA: 7s - loss: 0.2817 - accuracy: 0.89 - ETA: 7s - loss: 0.2820 - accuracy: 0.89 - ETA: 7s - loss: 0.2819 - accuracy: 0.89 - ETA: 7s - loss: 0.2808 - accuracy: 0.89 - ETA: 6s - loss: 0.2807 - accuracy: 0.89 - ETA: 6s - loss: 0.2809 - accuracy: 0.89 - ETA: 6s - loss: 0.2815 - accuracy: 0.89 - ETA: 6s - loss: 0.2812 - accuracy: 0.89 - ETA: 6s - loss: 0.2801 - accuracy: 0.89 - ETA: 6s - loss: 0.2797 - accuracy: 0.89 - ETA: 6s - loss: 0.2793 - accuracy: 0.89 - ETA: 6s - loss: 0.2784 - accuracy: 0.89 - ETA: 5s - loss: 0.2784 - accuracy: 0.89 - ETA: 5s - loss: 0.2786 - accuracy: 0.89 - ETA: 5s - loss: 0.2786 - accuracy: 0.89 - ETA: 5s - loss: 0.2784 - accuracy: 0.89 - ETA: 5s - loss: 0.2780 - accuracy: 0.89 - ETA: 5s - loss: 0.2783 - accuracy: 0.89 - ETA: 5s - loss: 0.2779 - accuracy: 0.89 - ETA: 5s - loss: 0.2779 - accuracy: 0.89 - ETA: 5s - loss: 0.2777 - accuracy: 0.89 - ETA: 5s - loss: 0.2778 - accuracy: 0.89 - ETA: 5s - loss: 0.2779 - accuracy: 0.89 - ETA: 5s - loss: 0.2773 - accuracy: 0.89 - ETA: 4s - loss: 0.2779 - accuracy: 0.89 - ETA: 4s - loss: 0.2773 - accuracy: 0.89 - ETA: 4s - loss: 0.2768 - accuracy: 0.89 - ETA: 4s - loss: 0.2768 - accuracy: 0.89 - ETA: 4s - loss: 0.2766 - accuracy: 0.89 - ETA: 4s - loss: 0.2774 - accuracy: 0.89 - ETA: 4s - loss: 0.2759 - accuracy: 0.89 - ETA: 4s - loss: 0.2758 - accuracy: 0.89 - ETA: 4s - loss: 0.2761 - accuracy: 0.89 - ETA: 4s - loss: 0.2763 - accuracy: 0.89 - ETA: 4s - loss: 0.2760 - accuracy: 0.89 - ETA: 4s - loss: 0.2766 - accuracy: 0.89 - ETA: 4s - loss: 0.2776 - accuracy: 0.89 - ETA: 4s - loss: 0.2777 - accuracy: 0.89 - ETA: 4s - loss: 0.2775 - accuracy: 0.89 - ETA: 3s - loss: 0.2777 - accuracy: 0.89 - ETA: 3s - loss: 0.2780 - accuracy: 0.89 - ETA: 3s - loss: 0.2783 - accuracy: 0.89 - ETA: 3s - loss: 0.2782 - accuracy: 0.89 - ETA: 3s - loss: 0.2785 - accuracy: 0.89 - ETA: 3s - loss: 0.2779 - accuracy: 0.89 - ETA: 3s - loss: 0.2778 - accuracy: 0.89 - ETA: 3s - loss: 0.2779 - accuracy: 0.89 - ETA: 3s - loss: 0.2776 - accuracy: 0.89 - ETA: 3s - loss: 0.2774 - accuracy: 0.89 - ETA: 3s - loss: 0.2774 - accuracy: 0.89 - ETA: 3s - loss: 0.2777 - accuracy: 0.89 - ETA: 3s - loss: 0.2777 - accuracy: 0.89 - ETA: 3s - loss: 0.2777 - accuracy: 0.89 - ETA: 3s - loss: 0.2779 - accuracy: 0.89 - ETA: 3s - loss: 0.2784 - accuracy: 0.89 - ETA: 3s - loss: 0.2790 - accuracy: 0.89 - ETA: 3s - loss: 0.2790 - accuracy: 0.89 - ETA: 2s - loss: 0.2791 - accuracy: 0.89 - ETA: 2s - loss: 0.2787 - accuracy: 0.89 - ETA: 2s - loss: 0.2791 - accuracy: 0.89 - ETA: 2s - loss: 0.2787 - accuracy: 0.89 - ETA: 2s - loss: 0.2788 - accuracy: 0.89 - ETA: 2s - loss: 0.2793 - accuracy: 0.89 - ETA: 2s - loss: 0.2791 - accuracy: 0.89 - ETA: 2s - loss: 0.2789 - accuracy: 0.89 - ETA: 2s - loss: 0.2785 - accuracy: 0.89 - ETA: 2s - loss: 0.2783 - accuracy: 0.89 - ETA: 2s - loss: 0.2782 - accuracy: 0.89 - ETA: 2s - loss: 0.2786 - accuracy: 0.89 - ETA: 2s - loss: 0.2788 - accuracy: 0.89 - ETA: 2s - loss: 0.2792 - accuracy: 0.89 - ETA: 2s - loss: 0.2792 - accuracy: 0.89 - ETA: 2s - loss: 0.2792 - accuracy: 0.89 - ETA: 1s - loss: 0.2794 - accuracy: 0.89 - ETA: 1s - loss: 0.2795 - accuracy: 0.89 - ETA: 1s - loss: 0.2791 - accuracy: 0.89 - ETA: 1s - loss: 0.2788 - accuracy: 0.89 - ETA: 1s - loss: 0.2790 - accuracy: 0.89 - ETA: 1s - loss: 0.2784 - accuracy: 0.89 - ETA: 1s - loss: 0.2787 - accuracy: 0.89 - ETA: 1s - loss: 0.2784 - accuracy: 0.89 - ETA: 1s - loss: 0.2791 - accuracy: 0.89 - ETA: 1s - loss: 0.2800 - accuracy: 0.89 - ETA: 1s - loss: 0.2799 - accuracy: 0.89 - ETA: 1s - loss: 0.2802 - accuracy: 0.89 - ETA: 1s - loss: 0.2803 - accuracy: 0.89 - ETA: 1s - loss: 0.2800 - accuracy: 0.89 - ETA: 1s - loss: 0.2801 - accuracy: 0.89 - ETA: 1s - loss: 0.2804 - accuracy: 0.89 - ETA: 1s - loss: 0.2801 - accuracy: 0.89 - ETA: 1s - loss: 0.2800 - accuracy: 0.89 - ETA: 0s - loss: 0.2798 - accuracy: 0.89 - ETA: 0s - loss: 0.2802 - accuracy: 0.89 - ETA: 0s - loss: 0.2801 - accuracy: 0.89 - ETA: 0s - loss: 0.2800 - accuracy: 0.89 - ETA: 0s - loss: 0.2800 - accuracy: 0.89 - ETA: 0s - loss: 0.2800 - accuracy: 0.89 - ETA: 0s - loss: 0.2800 - accuracy: 0.89 - ETA: 0s - loss: 0.2803 - accuracy: 0.89 - ETA: 0s - loss: 0.2802 - accuracy: 0.89 - ETA: 0s - loss: 0.2802 - accuracy: 0.89 - ETA: 0s - loss: 0.2807 - accuracy: 0.89 - ETA: 0s - loss: 0.2810 - accuracy: 0.89 - ETA: 0s - loss: 0.2811 - accuracy: 0.89 - ETA: 0s - loss: 0.2808 - accuracy: 0.89 - ETA: 0s - loss: 0.2808 - accuracy: 0.89 - ETA: 0s - loss: 0.2807 - accuracy: 0.89 - ETA: 0s - loss: 0.2811 - accuracy: 0.89 - ETA: 0s - loss: 0.2809 - accuracy: 0.89 - ETA: 0s - loss: 0.2811 - accuracy: 0.89 - 8s 4ms/step - loss: 0.2811 - accuracy: 0.8944 - val_loss: 0.3457 - val_accuracy: 0.8781\n",
      "Epoch 10/10\n"
     ]
    },
    {
     "name": "stdout",
     "output_type": "stream",
     "text": [
      "1875/1875 [==============================] - ETA: 0s - loss: 0.4542 - accuracy: 0.84 - ETA: 6s - loss: 0.2582 - accuracy: 0.89 - ETA: 6s - loss: 0.2526 - accuracy: 0.90 - ETA: 6s - loss: 0.2410 - accuracy: 0.90 - ETA: 6s - loss: 0.2383 - accuracy: 0.90 - ETA: 6s - loss: 0.2465 - accuracy: 0.90 - ETA: 6s - loss: 0.2581 - accuracy: 0.90 - ETA: 6s - loss: 0.2652 - accuracy: 0.89 - ETA: 6s - loss: 0.2620 - accuracy: 0.90 - ETA: 6s - loss: 0.2667 - accuracy: 0.90 - ETA: 6s - loss: 0.2618 - accuracy: 0.90 - ETA: 6s - loss: 0.2631 - accuracy: 0.90 - ETA: 6s - loss: 0.2648 - accuracy: 0.90 - ETA: 6s - loss: 0.2603 - accuracy: 0.90 - ETA: 6s - loss: 0.2588 - accuracy: 0.90 - ETA: 6s - loss: 0.2601 - accuracy: 0.90 - ETA: 6s - loss: 0.2621 - accuracy: 0.90 - ETA: 6s - loss: 0.2617 - accuracy: 0.90 - ETA: 6s - loss: 0.2624 - accuracy: 0.90 - ETA: 6s - loss: 0.2625 - accuracy: 0.90 - ETA: 6s - loss: 0.2615 - accuracy: 0.90 - ETA: 6s - loss: 0.2632 - accuracy: 0.90 - ETA: 6s - loss: 0.2625 - accuracy: 0.90 - ETA: 6s - loss: 0.2609 - accuracy: 0.90 - ETA: 6s - loss: 0.2625 - accuracy: 0.90 - ETA: 6s - loss: 0.2618 - accuracy: 0.90 - ETA: 6s - loss: 0.2623 - accuracy: 0.90 - ETA: 6s - loss: 0.2622 - accuracy: 0.90 - ETA: 6s - loss: 0.2610 - accuracy: 0.90 - ETA: 6s - loss: 0.2618 - accuracy: 0.90 - ETA: 6s - loss: 0.2629 - accuracy: 0.90 - ETA: 6s - loss: 0.2660 - accuracy: 0.90 - ETA: 6s - loss: 0.2673 - accuracy: 0.90 - ETA: 6s - loss: 0.2688 - accuracy: 0.90 - ETA: 6s - loss: 0.2686 - accuracy: 0.90 - ETA: 6s - loss: 0.2676 - accuracy: 0.90 - ETA: 6s - loss: 0.2681 - accuracy: 0.90 - ETA: 6s - loss: 0.2677 - accuracy: 0.90 - ETA: 6s - loss: 0.2670 - accuracy: 0.90 - ETA: 6s - loss: 0.2677 - accuracy: 0.90 - ETA: 6s - loss: 0.2663 - accuracy: 0.90 - ETA: 6s - loss: 0.2662 - accuracy: 0.90 - ETA: 6s - loss: 0.2650 - accuracy: 0.90 - ETA: 6s - loss: 0.2660 - accuracy: 0.90 - ETA: 6s - loss: 0.2681 - accuracy: 0.90 - ETA: 5s - loss: 0.2677 - accuracy: 0.90 - ETA: 5s - loss: 0.2688 - accuracy: 0.90 - ETA: 5s - loss: 0.2677 - accuracy: 0.90 - ETA: 5s - loss: 0.2677 - accuracy: 0.90 - ETA: 5s - loss: 0.2681 - accuracy: 0.90 - ETA: 5s - loss: 0.2687 - accuracy: 0.90 - ETA: 5s - loss: 0.2689 - accuracy: 0.90 - ETA: 5s - loss: 0.2690 - accuracy: 0.90 - ETA: 5s - loss: 0.2687 - accuracy: 0.90 - ETA: 5s - loss: 0.2688 - accuracy: 0.90 - ETA: 5s - loss: 0.2692 - accuracy: 0.90 - ETA: 5s - loss: 0.2701 - accuracy: 0.90 - ETA: 5s - loss: 0.2706 - accuracy: 0.90 - ETA: 5s - loss: 0.2709 - accuracy: 0.90 - ETA: 5s - loss: 0.2703 - accuracy: 0.90 - ETA: 5s - loss: 0.2698 - accuracy: 0.90 - ETA: 4s - loss: 0.2696 - accuracy: 0.90 - ETA: 4s - loss: 0.2698 - accuracy: 0.90 - ETA: 4s - loss: 0.2697 - accuracy: 0.90 - ETA: 4s - loss: 0.2706 - accuracy: 0.90 - ETA: 4s - loss: 0.2715 - accuracy: 0.89 - ETA: 4s - loss: 0.2712 - accuracy: 0.89 - ETA: 4s - loss: 0.2706 - accuracy: 0.89 - ETA: 4s - loss: 0.2707 - accuracy: 0.89 - ETA: 4s - loss: 0.2709 - accuracy: 0.89 - ETA: 4s - loss: 0.2699 - accuracy: 0.90 - ETA: 4s - loss: 0.2695 - accuracy: 0.90 - ETA: 4s - loss: 0.2692 - accuracy: 0.90 - ETA: 4s - loss: 0.2687 - accuracy: 0.90 - ETA: 4s - loss: 0.2687 - accuracy: 0.90 - ETA: 4s - loss: 0.2695 - accuracy: 0.90 - ETA: 3s - loss: 0.2691 - accuracy: 0.90 - ETA: 3s - loss: 0.2686 - accuracy: 0.90 - ETA: 3s - loss: 0.2684 - accuracy: 0.90 - ETA: 3s - loss: 0.2677 - accuracy: 0.90 - ETA: 3s - loss: 0.2668 - accuracy: 0.90 - ETA: 3s - loss: 0.2669 - accuracy: 0.90 - ETA: 3s - loss: 0.2667 - accuracy: 0.90 - ETA: 3s - loss: 0.2660 - accuracy: 0.90 - ETA: 3s - loss: 0.2657 - accuracy: 0.90 - ETA: 3s - loss: 0.2654 - accuracy: 0.90 - ETA: 3s - loss: 0.2655 - accuracy: 0.90 - ETA: 3s - loss: 0.2652 - accuracy: 0.90 - ETA: 3s - loss: 0.2659 - accuracy: 0.90 - ETA: 3s - loss: 0.2651 - accuracy: 0.90 - ETA: 3s - loss: 0.2652 - accuracy: 0.90 - ETA: 3s - loss: 0.2646 - accuracy: 0.90 - ETA: 2s - loss: 0.2652 - accuracy: 0.90 - ETA: 2s - loss: 0.2648 - accuracy: 0.90 - ETA: 2s - loss: 0.2649 - accuracy: 0.90 - ETA: 2s - loss: 0.2647 - accuracy: 0.90 - ETA: 2s - loss: 0.2639 - accuracy: 0.90 - ETA: 2s - loss: 0.2636 - accuracy: 0.90 - ETA: 2s - loss: 0.2638 - accuracy: 0.90 - ETA: 2s - loss: 0.2635 - accuracy: 0.90 - ETA: 2s - loss: 0.2635 - accuracy: 0.90 - ETA: 2s - loss: 0.2635 - accuracy: 0.90 - ETA: 2s - loss: 0.2637 - accuracy: 0.90 - ETA: 2s - loss: 0.2640 - accuracy: 0.90 - ETA: 2s - loss: 0.2641 - accuracy: 0.90 - ETA: 2s - loss: 0.2637 - accuracy: 0.90 - ETA: 2s - loss: 0.2643 - accuracy: 0.90 - ETA: 2s - loss: 0.2643 - accuracy: 0.90 - ETA: 2s - loss: 0.2642 - accuracy: 0.90 - ETA: 1s - loss: 0.2645 - accuracy: 0.90 - ETA: 1s - loss: 0.2645 - accuracy: 0.90 - ETA: 1s - loss: 0.2641 - accuracy: 0.90 - ETA: 1s - loss: 0.2637 - accuracy: 0.90 - ETA: 1s - loss: 0.2633 - accuracy: 0.90 - ETA: 1s - loss: 0.2632 - accuracy: 0.90 - ETA: 1s - loss: 0.2634 - accuracy: 0.90 - ETA: 1s - loss: 0.2631 - accuracy: 0.90 - ETA: 1s - loss: 0.2635 - accuracy: 0.90 - ETA: 1s - loss: 0.2639 - accuracy: 0.90 - ETA: 1s - loss: 0.2641 - accuracy: 0.90 - ETA: 1s - loss: 0.2641 - accuracy: 0.90 - ETA: 1s - loss: 0.2645 - accuracy: 0.90 - ETA: 1s - loss: 0.2643 - accuracy: 0.90 - ETA: 1s - loss: 0.2642 - accuracy: 0.90 - ETA: 1s - loss: 0.2641 - accuracy: 0.90 - ETA: 1s - loss: 0.2648 - accuracy: 0.90 - ETA: 1s - loss: 0.2649 - accuracy: 0.90 - ETA: 1s - loss: 0.2649 - accuracy: 0.90 - ETA: 1s - loss: 0.2652 - accuracy: 0.90 - ETA: 1s - loss: 0.2653 - accuracy: 0.90 - ETA: 1s - loss: 0.2655 - accuracy: 0.90 - ETA: 1s - loss: 0.2655 - accuracy: 0.90 - ETA: 1s - loss: 0.2653 - accuracy: 0.90 - ETA: 1s - loss: 0.2650 - accuracy: 0.90 - ETA: 0s - loss: 0.2650 - accuracy: 0.90 - ETA: 0s - loss: 0.2651 - accuracy: 0.90 - ETA: 0s - loss: 0.2649 - accuracy: 0.90 - ETA: 0s - loss: 0.2650 - accuracy: 0.90 - ETA: 0s - loss: 0.2653 - accuracy: 0.90 - ETA: 0s - loss: 0.2650 - accuracy: 0.90 - ETA: 0s - loss: 0.2652 - accuracy: 0.90 - ETA: 0s - loss: 0.2656 - accuracy: 0.90 - ETA: 0s - loss: 0.2658 - accuracy: 0.90 - ETA: 0s - loss: 0.2657 - accuracy: 0.90 - ETA: 0s - loss: 0.2657 - accuracy: 0.90 - ETA: 0s - loss: 0.2657 - accuracy: 0.90 - ETA: 0s - loss: 0.2658 - accuracy: 0.90 - ETA: 0s - loss: 0.2660 - accuracy: 0.90 - ETA: 0s - loss: 0.2659 - accuracy: 0.90 - ETA: 0s - loss: 0.2657 - accuracy: 0.90 - ETA: 0s - loss: 0.2659 - accuracy: 0.90 - ETA: 0s - loss: 0.2661 - accuracy: 0.90 - ETA: 0s - loss: 0.2663 - accuracy: 0.90 - ETA: 0s - loss: 0.2669 - accuracy: 0.90 - ETA: 0s - loss: 0.2664 - accuracy: 0.90 - ETA: 0s - loss: 0.2661 - accuracy: 0.90 - ETA: 0s - loss: 0.2664 - accuracy: 0.90 - 9s 5ms/step - loss: 0.2663 - accuracy: 0.9009 - val_loss: 0.3341 - val_accuracy: 0.8822\n"
     ]
    },
    {
     "data": {
      "text/html": [
       "<span style=\"color:#4527A0\"><h1 style=\"font-size:18px\">Trial complete</h1></span>"
      ],
      "text/plain": [
       "<IPython.core.display.HTML object>"
      ]
     },
     "metadata": {},
     "output_type": "display_data"
    },
    {
     "data": {
      "text/html": [
       "<span style=\"color:#4527A0\"><h1 style=\"font-size:18px\">Trial summary</h1></span>"
      ],
      "text/plain": [
       "<IPython.core.display.HTML object>"
      ]
     },
     "metadata": {},
     "output_type": "display_data"
    },
    {
     "data": {
      "text/html": [
       "<span style=\"color:cyan\"> |-Trial ID: 466d3e490071b39be3a73c433143c27b</span>"
      ],
      "text/plain": [
       "<IPython.core.display.HTML object>"
      ]
     },
     "metadata": {},
     "output_type": "display_data"
    },
    {
     "data": {
      "text/html": [
       "<span style=\"color:cyan\"> |-Score: 0.8822000026702881</span>"
      ],
      "text/plain": [
       "<IPython.core.display.HTML object>"
      ]
     },
     "metadata": {},
     "output_type": "display_data"
    },
    {
     "data": {
      "text/html": [
       "<span style=\"color:cyan\"> |-Best step: 0</span>"
      ],
      "text/plain": [
       "<IPython.core.display.HTML object>"
      ]
     },
     "metadata": {},
     "output_type": "display_data"
    },
    {
     "data": {
      "text/html": [
       "<span style=\"color:#7E57C2\"><h2 style=\"font-size:16px\">Hyperparameters:</h2></span>"
      ],
      "text/plain": [
       "<IPython.core.display.HTML object>"
      ]
     },
     "metadata": {},
     "output_type": "display_data"
    },
    {
     "data": {
      "text/html": [
       "<span style=\"color:cyan\"> |-learning_rate: 0.001</span>"
      ],
      "text/plain": [
       "<IPython.core.display.HTML object>"
      ]
     },
     "metadata": {},
     "output_type": "display_data"
    },
    {
     "data": {
      "text/html": [
       "<span style=\"color:blue\"> |-tuner/bracket: 2</span>"
      ],
      "text/plain": [
       "<IPython.core.display.HTML object>"
      ]
     },
     "metadata": {},
     "output_type": "display_data"
    },
    {
     "data": {
      "text/html": [
       "<span style=\"color:cyan\"> |-tuner/epochs: 10</span>"
      ],
      "text/plain": [
       "<IPython.core.display.HTML object>"
      ]
     },
     "metadata": {},
     "output_type": "display_data"
    },
    {
     "data": {
      "text/html": [
       "<span style=\"color:blue\"> |-tuner/initial_epoch: 4</span>"
      ],
      "text/plain": [
       "<IPython.core.display.HTML object>"
      ]
     },
     "metadata": {},
     "output_type": "display_data"
    },
    {
     "data": {
      "text/html": [
       "<span style=\"color:cyan\"> |-tuner/round: 2</span>"
      ],
      "text/plain": [
       "<IPython.core.display.HTML object>"
      ]
     },
     "metadata": {},
     "output_type": "display_data"
    },
    {
     "data": {
      "text/html": [
       "<span style=\"color:blue\"> |-tuner/trial_id: db727d177fdf8c0113f7ab4f2ffb4a7f</span>"
      ],
      "text/plain": [
       "<IPython.core.display.HTML object>"
      ]
     },
     "metadata": {},
     "output_type": "display_data"
    },
    {
     "data": {
      "text/html": [
       "<span style=\"color:cyan\"> |-units: 448</span>"
      ],
      "text/plain": [
       "<IPython.core.display.HTML object>"
      ]
     },
     "metadata": {},
     "output_type": "display_data"
    },
    {
     "name": "stdout",
     "output_type": "stream",
     "text": [
      "Epoch 1/4\n",
      "   2/1875 [..............................] - ETA: 0s - loss: 2.2722 - accuracy: 0.21 - ETA: 11:47 - loss: 2.2426 - accuracy: 0.1562WARNING:tensorflow:Method (on_train_batch_end) is slow compared to the batch update (0.380006). Check your callbacks.\n",
      "1875/1875 [==============================] - ETA: 1:02 - loss: 1.3953 - accuracy: 0.529 - ETA: 32s - loss: 1.1112 - accuracy: 0.6094 - ETA: 22s - loss: 0.9891 - accuracy: 0.648 - ETA: 17s - loss: 0.9149 - accuracy: 0.676 - ETA: 14s - loss: 0.8722 - accuracy: 0.692 - ETA: 12s - loss: 0.8391 - accuracy: 0.706 - ETA: 11s - loss: 0.8137 - accuracy: 0.715 - ETA: 10s - loss: 0.7832 - accuracy: 0.727 - ETA: 9s - loss: 0.7618 - accuracy: 0.736 - ETA: 9s - loss: 0.7460 - accuracy: 0.74 - ETA: 8s - loss: 0.7313 - accuracy: 0.74 - ETA: 8s - loss: 0.7180 - accuracy: 0.75 - ETA: 7s - loss: 0.7051 - accuracy: 0.75 - ETA: 7s - loss: 0.6967 - accuracy: 0.75 - ETA: 7s - loss: 0.6863 - accuracy: 0.76 - ETA: 7s - loss: 0.6804 - accuracy: 0.76 - ETA: 6s - loss: 0.6758 - accuracy: 0.76 - ETA: 6s - loss: 0.6688 - accuracy: 0.76 - ETA: 6s - loss: 0.6613 - accuracy: 0.77 - ETA: 6s - loss: 0.6486 - accuracy: 0.77 - ETA: 6s - loss: 0.6412 - accuracy: 0.77 - ETA: 5s - loss: 0.6361 - accuracy: 0.77 - ETA: 5s - loss: 0.6316 - accuracy: 0.78 - ETA: 5s - loss: 0.6266 - accuracy: 0.78 - ETA: 5s - loss: 0.6196 - accuracy: 0.78 - ETA: 5s - loss: 0.6154 - accuracy: 0.78 - ETA: 4s - loss: 0.6116 - accuracy: 0.78 - ETA: 4s - loss: 0.6076 - accuracy: 0.78 - ETA: 4s - loss: 0.6031 - accuracy: 0.79 - ETA: 4s - loss: 0.5996 - accuracy: 0.79 - ETA: 4s - loss: 0.5958 - accuracy: 0.79 - ETA: 4s - loss: 0.5914 - accuracy: 0.79 - ETA: 4s - loss: 0.5879 - accuracy: 0.79 - ETA: 3s - loss: 0.5829 - accuracy: 0.79 - ETA: 3s - loss: 0.5793 - accuracy: 0.79 - ETA: 3s - loss: 0.5781 - accuracy: 0.79 - ETA: 3s - loss: 0.5769 - accuracy: 0.79 - ETA: 3s - loss: 0.5754 - accuracy: 0.79 - ETA: 3s - loss: 0.5722 - accuracy: 0.80 - ETA: 3s - loss: 0.5696 - accuracy: 0.80 - ETA: 3s - loss: 0.5674 - accuracy: 0.80 - ETA: 3s - loss: 0.5644 - accuracy: 0.80 - ETA: 3s - loss: 0.5599 - accuracy: 0.80 - ETA: 3s - loss: 0.5574 - accuracy: 0.80 - ETA: 3s - loss: 0.5546 - accuracy: 0.80 - ETA: 3s - loss: 0.5533 - accuracy: 0.80 - ETA: 3s - loss: 0.5520 - accuracy: 0.80 - ETA: 2s - loss: 0.5497 - accuracy: 0.80 - ETA: 2s - loss: 0.5468 - accuracy: 0.81 - ETA: 2s - loss: 0.5446 - accuracy: 0.81 - ETA: 2s - loss: 0.5425 - accuracy: 0.81 - ETA: 2s - loss: 0.5410 - accuracy: 0.81 - ETA: 2s - loss: 0.5391 - accuracy: 0.81 - ETA: 2s - loss: 0.5390 - accuracy: 0.81 - ETA: 2s - loss: 0.5377 - accuracy: 0.81 - ETA: 2s - loss: 0.5371 - accuracy: 0.81 - ETA: 2s - loss: 0.5359 - accuracy: 0.81 - ETA: 2s - loss: 0.5349 - accuracy: 0.81 - ETA: 2s - loss: 0.5338 - accuracy: 0.81 - ETA: 2s - loss: 0.5323 - accuracy: 0.81 - ETA: 2s - loss: 0.5323 - accuracy: 0.81 - ETA: 2s - loss: 0.5303 - accuracy: 0.81 - ETA: 1s - loss: 0.5288 - accuracy: 0.81 - ETA: 1s - loss: 0.5269 - accuracy: 0.81 - ETA: 1s - loss: 0.5246 - accuracy: 0.81 - ETA: 1s - loss: 0.5231 - accuracy: 0.81 - ETA: 1s - loss: 0.5210 - accuracy: 0.81 - ETA: 1s - loss: 0.5196 - accuracy: 0.81 - ETA: 1s - loss: 0.5176 - accuracy: 0.81 - ETA: 1s - loss: 0.5166 - accuracy: 0.81 - ETA: 1s - loss: 0.5156 - accuracy: 0.81 - ETA: 1s - loss: 0.5144 - accuracy: 0.81 - ETA: 1s - loss: 0.5133 - accuracy: 0.82 - ETA: 1s - loss: 0.5118 - accuracy: 0.82 - ETA: 1s - loss: 0.5108 - accuracy: 0.82 - ETA: 0s - loss: 0.5099 - accuracy: 0.82 - ETA: 0s - loss: 0.5083 - accuracy: 0.82 - ETA: 0s - loss: 0.5062 - accuracy: 0.82 - ETA: 0s - loss: 0.5050 - accuracy: 0.82 - ETA: 0s - loss: 0.5041 - accuracy: 0.82 - ETA: 0s - loss: 0.5022 - accuracy: 0.82 - ETA: 0s - loss: 0.5001 - accuracy: 0.82 - ETA: 0s - loss: 0.4982 - accuracy: 0.82 - ETA: 0s - loss: 0.4977 - accuracy: 0.82 - ETA: 0s - loss: 0.4971 - accuracy: 0.82 - ETA: 0s - loss: 0.4958 - accuracy: 0.82 - ETA: 0s - loss: 0.4946 - accuracy: 0.82 - ETA: 0s - loss: 0.4936 - accuracy: 0.82 - ETA: 0s - loss: 0.4917 - accuracy: 0.82 - 6s 3ms/step - loss: 0.4910 - accuracy: 0.8269 - val_loss: 0.4133 - val_accuracy: 0.8521\n",
      "Epoch 2/4\n",
      "1875/1875 [==============================] - ETA: 0s - loss: 0.6360 - accuracy: 0.84 - ETA: 5s - loss: 0.4135 - accuracy: 0.85 - ETA: 5s - loss: 0.4006 - accuracy: 0.85 - ETA: 5s - loss: 0.3710 - accuracy: 0.86 - ETA: 5s - loss: 0.3554 - accuracy: 0.87 - ETA: 5s - loss: 0.3585 - accuracy: 0.87 - ETA: 5s - loss: 0.3665 - accuracy: 0.86 - ETA: 5s - loss: 0.3636 - accuracy: 0.86 - ETA: 5s - loss: 0.3706 - accuracy: 0.86 - ETA: 4s - loss: 0.3734 - accuracy: 0.86 - ETA: 4s - loss: 0.3683 - accuracy: 0.86 - ETA: 4s - loss: 0.3682 - accuracy: 0.86 - ETA: 4s - loss: 0.3704 - accuracy: 0.86 - ETA: 4s - loss: 0.3699 - accuracy: 0.86 - ETA: 4s - loss: 0.3703 - accuracy: 0.86 - ETA: 4s - loss: 0.3711 - accuracy: 0.86 - ETA: 4s - loss: 0.3720 - accuracy: 0.86 - ETA: 4s - loss: 0.3739 - accuracy: 0.86 - ETA: 4s - loss: 0.3733 - accuracy: 0.86 - ETA: 4s - loss: 0.3746 - accuracy: 0.86 - ETA: 4s - loss: 0.3788 - accuracy: 0.86 - ETA: 4s - loss: 0.3774 - accuracy: 0.86 - ETA: 3s - loss: 0.3763 - accuracy: 0.86 - ETA: 3s - loss: 0.3770 - accuracy: 0.86 - ETA: 3s - loss: 0.3776 - accuracy: 0.86 - ETA: 4s - loss: 0.3778 - accuracy: 0.86 - ETA: 3s - loss: 0.3777 - accuracy: 0.86 - ETA: 3s - loss: 0.3790 - accuracy: 0.86 - ETA: 3s - loss: 0.3801 - accuracy: 0.86 - ETA: 3s - loss: 0.3802 - accuracy: 0.86 - ETA: 3s - loss: 0.3804 - accuracy: 0.86 - ETA: 3s - loss: 0.3805 - accuracy: 0.86 - ETA: 3s - loss: 0.3803 - accuracy: 0.86 - ETA: 3s - loss: 0.3793 - accuracy: 0.86 - ETA: 3s - loss: 0.3791 - accuracy: 0.86 - ETA: 3s - loss: 0.3784 - accuracy: 0.86 - ETA: 3s - loss: 0.3778 - accuracy: 0.86 - ETA: 3s - loss: 0.3774 - accuracy: 0.86 - ETA: 3s - loss: 0.3766 - accuracy: 0.86 - ETA: 3s - loss: 0.3759 - accuracy: 0.86 - ETA: 3s - loss: 0.3780 - accuracy: 0.86 - ETA: 2s - loss: 0.3782 - accuracy: 0.86 - ETA: 2s - loss: 0.3787 - accuracy: 0.86 - ETA: 2s - loss: 0.3776 - accuracy: 0.86 - ETA: 2s - loss: 0.3781 - accuracy: 0.86 - ETA: 2s - loss: 0.3774 - accuracy: 0.86 - ETA: 2s - loss: 0.3763 - accuracy: 0.86 - ETA: 2s - loss: 0.3778 - accuracy: 0.86 - ETA: 2s - loss: 0.3772 - accuracy: 0.86 - ETA: 2s - loss: 0.3771 - accuracy: 0.86 - ETA: 2s - loss: 0.3765 - accuracy: 0.86 - ETA: 2s - loss: 0.3760 - accuracy: 0.86 - ETA: 2s - loss: 0.3757 - accuracy: 0.86 - ETA: 2s - loss: 0.3765 - accuracy: 0.86 - ETA: 2s - loss: 0.3762 - accuracy: 0.86 - ETA: 2s - loss: 0.3763 - accuracy: 0.86 - ETA: 1s - loss: 0.3757 - accuracy: 0.86 - ETA: 1s - loss: 0.3764 - accuracy: 0.86 - ETA: 1s - loss: 0.3762 - accuracy: 0.86 - ETA: 1s - loss: 0.3759 - accuracy: 0.86 - ETA: 1s - loss: 0.3753 - accuracy: 0.86 - ETA: 1s - loss: 0.3739 - accuracy: 0.86 - ETA: 1s - loss: 0.3735 - accuracy: 0.86 - ETA: 1s - loss: 0.3742 - accuracy: 0.86 - ETA: 1s - loss: 0.3735 - accuracy: 0.86 - ETA: 1s - loss: 0.3733 - accuracy: 0.86 - ETA: 1s - loss: 0.3732 - accuracy: 0.86 - ETA: 1s - loss: 0.3733 - accuracy: 0.86 - ETA: 1s - loss: 0.3726 - accuracy: 0.86 - ETA: 1s - loss: 0.3727 - accuracy: 0.86 - ETA: 0s - loss: 0.3718 - accuracy: 0.86 - ETA: 0s - loss: 0.3730 - accuracy: 0.86 - ETA: 0s - loss: 0.3720 - accuracy: 0.86 - ETA: 0s - loss: 0.3712 - accuracy: 0.86 - ETA: 0s - loss: 0.3707 - accuracy: 0.86 - ETA: 0s - loss: 0.3703 - accuracy: 0.86 - ETA: 0s - loss: 0.3699 - accuracy: 0.86 - ETA: 0s - loss: 0.3696 - accuracy: 0.86 - ETA: 0s - loss: 0.3694 - accuracy: 0.86 - ETA: 0s - loss: 0.3694 - accuracy: 0.86 - ETA: 0s - loss: 0.3691 - accuracy: 0.86 - ETA: 0s - loss: 0.3693 - accuracy: 0.86 - ETA: 0s - loss: 0.3692 - accuracy: 0.86 - ETA: 0s - loss: 0.3684 - accuracy: 0.86 - ETA: 0s - loss: 0.3677 - accuracy: 0.86 - ETA: 0s - loss: 0.3674 - accuracy: 0.86 - ETA: 0s - loss: 0.3673 - accuracy: 0.86 - ETA: 0s - loss: 0.3675 - accuracy: 0.86 - 5s 3ms/step - loss: 0.3676 - accuracy: 0.8665 - val_loss: 0.3741 - val_accuracy: 0.8666\n",
      "Epoch 3/4\n"
     ]
    },
    {
     "name": "stdout",
     "output_type": "stream",
     "text": [
      "1875/1875 [==============================] - ETA: 0s - loss: 0.3810 - accuracy: 0.87 - ETA: 5s - loss: 0.3226 - accuracy: 0.87 - ETA: 5s - loss: 0.3059 - accuracy: 0.88 - ETA: 5s - loss: 0.3061 - accuracy: 0.88 - ETA: 5s - loss: 0.3103 - accuracy: 0.88 - ETA: 5s - loss: 0.3106 - accuracy: 0.89 - ETA: 5s - loss: 0.3160 - accuracy: 0.88 - ETA: 5s - loss: 0.3137 - accuracy: 0.88 - ETA: 5s - loss: 0.3144 - accuracy: 0.88 - ETA: 5s - loss: 0.3135 - accuracy: 0.88 - ETA: 5s - loss: 0.3209 - accuracy: 0.88 - ETA: 5s - loss: 0.3211 - accuracy: 0.88 - ETA: 4s - loss: 0.3225 - accuracy: 0.88 - ETA: 4s - loss: 0.3247 - accuracy: 0.88 - ETA: 4s - loss: 0.3270 - accuracy: 0.88 - ETA: 4s - loss: 0.3245 - accuracy: 0.88 - ETA: 4s - loss: 0.3261 - accuracy: 0.88 - ETA: 4s - loss: 0.3254 - accuracy: 0.88 - ETA: 4s - loss: 0.3255 - accuracy: 0.88 - ETA: 4s - loss: 0.3254 - accuracy: 0.88 - ETA: 4s - loss: 0.3252 - accuracy: 0.88 - ETA: 4s - loss: 0.3284 - accuracy: 0.88 - ETA: 4s - loss: 0.3294 - accuracy: 0.88 - ETA: 4s - loss: 0.3308 - accuracy: 0.88 - ETA: 4s - loss: 0.3318 - accuracy: 0.88 - ETA: 4s - loss: 0.3334 - accuracy: 0.87 - ETA: 4s - loss: 0.3328 - accuracy: 0.87 - ETA: 4s - loss: 0.3327 - accuracy: 0.87 - ETA: 4s - loss: 0.3334 - accuracy: 0.87 - ETA: 4s - loss: 0.3324 - accuracy: 0.88 - ETA: 4s - loss: 0.3326 - accuracy: 0.87 - ETA: 4s - loss: 0.3334 - accuracy: 0.87 - ETA: 4s - loss: 0.3359 - accuracy: 0.87 - ETA: 4s - loss: 0.3368 - accuracy: 0.87 - ETA: 4s - loss: 0.3386 - accuracy: 0.87 - ETA: 4s - loss: 0.3379 - accuracy: 0.87 - ETA: 4s - loss: 0.3371 - accuracy: 0.87 - ETA: 4s - loss: 0.3367 - accuracy: 0.87 - ETA: 4s - loss: 0.3362 - accuracy: 0.87 - ETA: 4s - loss: 0.3353 - accuracy: 0.87 - ETA: 4s - loss: 0.3344 - accuracy: 0.87 - ETA: 4s - loss: 0.3338 - accuracy: 0.87 - ETA: 4s - loss: 0.3355 - accuracy: 0.87 - ETA: 3s - loss: 0.3341 - accuracy: 0.87 - ETA: 3s - loss: 0.3339 - accuracy: 0.87 - ETA: 3s - loss: 0.3339 - accuracy: 0.87 - ETA: 3s - loss: 0.3347 - accuracy: 0.87 - ETA: 3s - loss: 0.3343 - accuracy: 0.87 - ETA: 3s - loss: 0.3337 - accuracy: 0.87 - ETA: 3s - loss: 0.3340 - accuracy: 0.87 - ETA: 3s - loss: 0.3347 - accuracy: 0.87 - ETA: 3s - loss: 0.3343 - accuracy: 0.87 - ETA: 3s - loss: 0.3353 - accuracy: 0.87 - ETA: 3s - loss: 0.3354 - accuracy: 0.87 - ETA: 3s - loss: 0.3340 - accuracy: 0.87 - ETA: 3s - loss: 0.3338 - accuracy: 0.87 - ETA: 3s - loss: 0.3341 - accuracy: 0.87 - ETA: 3s - loss: 0.3340 - accuracy: 0.87 - ETA: 3s - loss: 0.3327 - accuracy: 0.87 - ETA: 2s - loss: 0.3324 - accuracy: 0.87 - ETA: 2s - loss: 0.3315 - accuracy: 0.87 - ETA: 2s - loss: 0.3322 - accuracy: 0.87 - ETA: 2s - loss: 0.3324 - accuracy: 0.87 - ETA: 2s - loss: 0.3319 - accuracy: 0.87 - ETA: 2s - loss: 0.3315 - accuracy: 0.87 - ETA: 2s - loss: 0.3317 - accuracy: 0.87 - ETA: 2s - loss: 0.3317 - accuracy: 0.87 - ETA: 2s - loss: 0.3321 - accuracy: 0.87 - ETA: 2s - loss: 0.3321 - accuracy: 0.87 - ETA: 2s - loss: 0.3318 - accuracy: 0.87 - ETA: 2s - loss: 0.3317 - accuracy: 0.87 - ETA: 2s - loss: 0.3321 - accuracy: 0.87 - ETA: 2s - loss: 0.3325 - accuracy: 0.87 - ETA: 2s - loss: 0.3322 - accuracy: 0.87 - ETA: 1s - loss: 0.3322 - accuracy: 0.87 - ETA: 1s - loss: 0.3321 - accuracy: 0.87 - ETA: 1s - loss: 0.3324 - accuracy: 0.87 - ETA: 1s - loss: 0.3317 - accuracy: 0.87 - ETA: 1s - loss: 0.3326 - accuracy: 0.87 - ETA: 1s - loss: 0.3325 - accuracy: 0.87 - ETA: 1s - loss: 0.3336 - accuracy: 0.87 - ETA: 1s - loss: 0.3337 - accuracy: 0.87 - ETA: 1s - loss: 0.3336 - accuracy: 0.87 - ETA: 1s - loss: 0.3341 - accuracy: 0.87 - ETA: 1s - loss: 0.3335 - accuracy: 0.87 - ETA: 1s - loss: 0.3335 - accuracy: 0.87 - ETA: 1s - loss: 0.3329 - accuracy: 0.87 - ETA: 0s - loss: 0.3329 - accuracy: 0.87 - ETA: 0s - loss: 0.3329 - accuracy: 0.87 - ETA: 0s - loss: 0.3325 - accuracy: 0.87 - ETA: 0s - loss: 0.3320 - accuracy: 0.87 - ETA: 0s - loss: 0.3323 - accuracy: 0.87 - ETA: 0s - loss: 0.3330 - accuracy: 0.87 - ETA: 0s - loss: 0.3327 - accuracy: 0.87 - ETA: 0s - loss: 0.3323 - accuracy: 0.87 - ETA: 0s - loss: 0.3320 - accuracy: 0.87 - ETA: 0s - loss: 0.3319 - accuracy: 0.87 - ETA: 0s - loss: 0.3317 - accuracy: 0.87 - ETA: 0s - loss: 0.3313 - accuracy: 0.87 - ETA: 0s - loss: 0.3314 - accuracy: 0.87 - ETA: 0s - loss: 0.3306 - accuracy: 0.87 - 6s 3ms/step - loss: 0.3307 - accuracy: 0.8798 - val_loss: 0.3725 - val_accuracy: 0.8646\n",
      "Epoch 4/4\n"
     ]
    },
    {
     "name": "stdout",
     "output_type": "stream",
     "text": [
      "1875/1875 [==============================] - ETA: 0s - loss: 0.2668 - accuracy: 0.87 - ETA: 5s - loss: 0.3243 - accuracy: 0.88 - ETA: 5s - loss: 0.3148 - accuracy: 0.87 - ETA: 5s - loss: 0.2929 - accuracy: 0.88 - ETA: 5s - loss: 0.2974 - accuracy: 0.88 - ETA: 5s - loss: 0.2999 - accuracy: 0.88 - ETA: 5s - loss: 0.3075 - accuracy: 0.88 - ETA: 5s - loss: 0.3102 - accuracy: 0.88 - ETA: 5s - loss: 0.3118 - accuracy: 0.88 - ETA: 5s - loss: 0.3095 - accuracy: 0.88 - ETA: 5s - loss: 0.3109 - accuracy: 0.88 - ETA: 5s - loss: 0.3104 - accuracy: 0.88 - ETA: 5s - loss: 0.3108 - accuracy: 0.88 - ETA: 5s - loss: 0.3101 - accuracy: 0.88 - ETA: 4s - loss: 0.3117 - accuracy: 0.88 - ETA: 4s - loss: 0.3150 - accuracy: 0.88 - ETA: 4s - loss: 0.3138 - accuracy: 0.88 - ETA: 4s - loss: 0.3125 - accuracy: 0.88 - ETA: 4s - loss: 0.3105 - accuracy: 0.88 - ETA: 4s - loss: 0.3116 - accuracy: 0.88 - ETA: 4s - loss: 0.3100 - accuracy: 0.88 - ETA: 4s - loss: 0.3077 - accuracy: 0.88 - ETA: 4s - loss: 0.3085 - accuracy: 0.88 - ETA: 4s - loss: 0.3083 - accuracy: 0.88 - ETA: 4s - loss: 0.3088 - accuracy: 0.88 - ETA: 4s - loss: 0.3085 - accuracy: 0.88 - ETA: 4s - loss: 0.3090 - accuracy: 0.88 - ETA: 4s - loss: 0.3093 - accuracy: 0.88 - ETA: 4s - loss: 0.3094 - accuracy: 0.88 - ETA: 4s - loss: 0.3082 - accuracy: 0.88 - ETA: 4s - loss: 0.3083 - accuracy: 0.88 - ETA: 4s - loss: 0.3078 - accuracy: 0.88 - ETA: 4s - loss: 0.3076 - accuracy: 0.88 - ETA: 4s - loss: 0.3062 - accuracy: 0.88 - ETA: 4s - loss: 0.3057 - accuracy: 0.88 - ETA: 4s - loss: 0.3072 - accuracy: 0.88 - ETA: 4s - loss: 0.3084 - accuracy: 0.88 - ETA: 4s - loss: 0.3071 - accuracy: 0.88 - ETA: 4s - loss: 0.3067 - accuracy: 0.88 - ETA: 4s - loss: 0.3078 - accuracy: 0.88 - ETA: 3s - loss: 0.3064 - accuracy: 0.88 - ETA: 3s - loss: 0.3072 - accuracy: 0.88 - ETA: 3s - loss: 0.3061 - accuracy: 0.88 - ETA: 3s - loss: 0.3058 - accuracy: 0.88 - ETA: 3s - loss: 0.3061 - accuracy: 0.88 - ETA: 3s - loss: 0.3068 - accuracy: 0.88 - ETA: 3s - loss: 0.3073 - accuracy: 0.88 - ETA: 3s - loss: 0.3070 - accuracy: 0.88 - ETA: 3s - loss: 0.3089 - accuracy: 0.88 - ETA: 3s - loss: 0.3091 - accuracy: 0.88 - ETA: 3s - loss: 0.3082 - accuracy: 0.88 - ETA: 3s - loss: 0.3066 - accuracy: 0.88 - ETA: 2s - loss: 0.3064 - accuracy: 0.88 - ETA: 2s - loss: 0.3063 - accuracy: 0.88 - ETA: 2s - loss: 0.3072 - accuracy: 0.88 - ETA: 2s - loss: 0.3075 - accuracy: 0.88 - ETA: 2s - loss: 0.3080 - accuracy: 0.88 - ETA: 2s - loss: 0.3081 - accuracy: 0.88 - ETA: 2s - loss: 0.3081 - accuracy: 0.88 - ETA: 2s - loss: 0.3071 - accuracy: 0.88 - ETA: 2s - loss: 0.3073 - accuracy: 0.88 - ETA: 2s - loss: 0.3072 - accuracy: 0.88 - ETA: 2s - loss: 0.3073 - accuracy: 0.88 - ETA: 2s - loss: 0.3065 - accuracy: 0.88 - ETA: 2s - loss: 0.3067 - accuracy: 0.88 - ETA: 2s - loss: 0.3067 - accuracy: 0.88 - ETA: 2s - loss: 0.3067 - accuracy: 0.88 - ETA: 2s - loss: 0.3071 - accuracy: 0.88 - ETA: 2s - loss: 0.3071 - accuracy: 0.88 - ETA: 1s - loss: 0.3071 - accuracy: 0.88 - ETA: 1s - loss: 0.3070 - accuracy: 0.88 - ETA: 1s - loss: 0.3078 - accuracy: 0.88 - ETA: 1s - loss: 0.3077 - accuracy: 0.88 - ETA: 1s - loss: 0.3072 - accuracy: 0.88 - ETA: 1s - loss: 0.3073 - accuracy: 0.88 - ETA: 1s - loss: 0.3069 - accuracy: 0.88 - ETA: 1s - loss: 0.3069 - accuracy: 0.88 - ETA: 1s - loss: 0.3067 - accuracy: 0.88 - ETA: 1s - loss: 0.3071 - accuracy: 0.88 - ETA: 1s - loss: 0.3066 - accuracy: 0.88 - ETA: 1s - loss: 0.3071 - accuracy: 0.88 - ETA: 1s - loss: 0.3073 - accuracy: 0.88 - ETA: 1s - loss: 0.3070 - accuracy: 0.88 - ETA: 1s - loss: 0.3074 - accuracy: 0.88 - ETA: 1s - loss: 0.3077 - accuracy: 0.88 - ETA: 1s - loss: 0.3076 - accuracy: 0.88 - ETA: 1s - loss: 0.3067 - accuracy: 0.88 - ETA: 0s - loss: 0.3068 - accuracy: 0.88 - ETA: 0s - loss: 0.3077 - accuracy: 0.88 - ETA: 0s - loss: 0.3077 - accuracy: 0.88 - ETA: 0s - loss: 0.3072 - accuracy: 0.88 - ETA: 0s - loss: 0.3073 - accuracy: 0.88 - ETA: 0s - loss: 0.3068 - accuracy: 0.88 - ETA: 0s - loss: 0.3069 - accuracy: 0.88 - ETA: 0s - loss: 0.3065 - accuracy: 0.88 - ETA: 0s - loss: 0.3069 - accuracy: 0.88 - ETA: 0s - loss: 0.3069 - accuracy: 0.88 - ETA: 0s - loss: 0.3072 - accuracy: 0.88 - ETA: 0s - loss: 0.3070 - accuracy: 0.88 - ETA: 0s - loss: 0.3063 - accuracy: 0.88 - ETA: 0s - loss: 0.3062 - accuracy: 0.88 - ETA: 0s - loss: 0.3061 - accuracy: 0.88 - ETA: 0s - loss: 0.3066 - accuracy: 0.88 - ETA: 0s - loss: 0.3064 - accuracy: 0.88 - ETA: 0s - loss: 0.3067 - accuracy: 0.88 - ETA: 0s - loss: 0.3064 - accuracy: 0.88 - 6s 3ms/step - loss: 0.3067 - accuracy: 0.8870 - val_loss: 0.3564 - val_accuracy: 0.8724\n"
     ]
    },
    {
     "data": {
      "text/html": [
       "<span style=\"color:#4527A0\"><h1 style=\"font-size:18px\">Trial complete</h1></span>"
      ],
      "text/plain": [
       "<IPython.core.display.HTML object>"
      ]
     },
     "metadata": {},
     "output_type": "display_data"
    },
    {
     "data": {
      "text/html": [
       "<span style=\"color:#4527A0\"><h1 style=\"font-size:18px\">Trial summary</h1></span>"
      ],
      "text/plain": [
       "<IPython.core.display.HTML object>"
      ]
     },
     "metadata": {},
     "output_type": "display_data"
    },
    {
     "data": {
      "text/html": [
       "<span style=\"color:cyan\"> |-Trial ID: 4392d8ea546d508d111c762dba887c38</span>"
      ],
      "text/plain": [
       "<IPython.core.display.HTML object>"
      ]
     },
     "metadata": {},
     "output_type": "display_data"
    },
    {
     "data": {
      "text/html": [
       "<span style=\"color:cyan\"> |-Score: 0.8723999857902527</span>"
      ],
      "text/plain": [
       "<IPython.core.display.HTML object>"
      ]
     },
     "metadata": {},
     "output_type": "display_data"
    },
    {
     "data": {
      "text/html": [
       "<span style=\"color:cyan\"> |-Best step: 0</span>"
      ],
      "text/plain": [
       "<IPython.core.display.HTML object>"
      ]
     },
     "metadata": {},
     "output_type": "display_data"
    },
    {
     "data": {
      "text/html": [
       "<span style=\"color:#7E57C2\"><h2 style=\"font-size:16px\">Hyperparameters:</h2></span>"
      ],
      "text/plain": [
       "<IPython.core.display.HTML object>"
      ]
     },
     "metadata": {},
     "output_type": "display_data"
    },
    {
     "data": {
      "text/html": [
       "<span style=\"color:cyan\"> |-learning_rate: 0.001</span>"
      ],
      "text/plain": [
       "<IPython.core.display.HTML object>"
      ]
     },
     "metadata": {},
     "output_type": "display_data"
    },
    {
     "data": {
      "text/html": [
       "<span style=\"color:blue\"> |-tuner/bracket: 1</span>"
      ],
      "text/plain": [
       "<IPython.core.display.HTML object>"
      ]
     },
     "metadata": {},
     "output_type": "display_data"
    },
    {
     "data": {
      "text/html": [
       "<span style=\"color:cyan\"> |-tuner/epochs: 4</span>"
      ],
      "text/plain": [
       "<IPython.core.display.HTML object>"
      ]
     },
     "metadata": {},
     "output_type": "display_data"
    },
    {
     "data": {
      "text/html": [
       "<span style=\"color:blue\"> |-tuner/initial_epoch: 0</span>"
      ],
      "text/plain": [
       "<IPython.core.display.HTML object>"
      ]
     },
     "metadata": {},
     "output_type": "display_data"
    },
    {
     "data": {
      "text/html": [
       "<span style=\"color:cyan\"> |-tuner/round: 0</span>"
      ],
      "text/plain": [
       "<IPython.core.display.HTML object>"
      ]
     },
     "metadata": {},
     "output_type": "display_data"
    },
    {
     "data": {
      "text/html": [
       "<span style=\"color:blue\"> |-units: 192</span>"
      ],
      "text/plain": [
       "<IPython.core.display.HTML object>"
      ]
     },
     "metadata": {},
     "output_type": "display_data"
    },
    {
     "name": "stdout",
     "output_type": "stream",
     "text": [
      "Epoch 1/4\n",
      "   2/1875 [..............................] - ETA: 0s - loss: 2.4298 - accuracy: 0.15 - ETA: 9:26 - loss: 4.1871 - accuracy: 0.1250WARNING:tensorflow:Method (on_train_batch_end) is slow compared to the batch update (0.304128). Check your callbacks.\n",
      "1875/1875 [==============================] - ETA: 1:21 - loss: 4.2918 - accuracy: 0.36 - ETA: 46s - loss: 2.7723 - accuracy: 0.4978 - ETA: 33s - loss: 2.0979 - accuracy: 0.571 - ETA: 26s - loss: 1.7673 - accuracy: 0.607 - ETA: 22s - loss: 1.5460 - accuracy: 0.633 - ETA: 19s - loss: 1.4112 - accuracy: 0.652 - ETA: 17s - loss: 1.2929 - accuracy: 0.670 - ETA: 15s - loss: 1.1981 - accuracy: 0.683 - ETA: 14s - loss: 1.1331 - accuracy: 0.693 - ETA: 13s - loss: 1.0774 - accuracy: 0.701 - ETA: 12s - loss: 1.0289 - accuracy: 0.711 - ETA: 11s - loss: 0.9889 - accuracy: 0.718 - ETA: 11s - loss: 0.9617 - accuracy: 0.722 - ETA: 10s - loss: 0.9321 - accuracy: 0.727 - ETA: 10s - loss: 0.9062 - accuracy: 0.733 - ETA: 9s - loss: 0.8871 - accuracy: 0.735 - ETA: 9s - loss: 0.8682 - accuracy: 0.73 - ETA: 9s - loss: 0.8538 - accuracy: 0.73 - ETA: 8s - loss: 0.8393 - accuracy: 0.74 - ETA: 8s - loss: 0.8260 - accuracy: 0.74 - ETA: 8s - loss: 0.8188 - accuracy: 0.74 - ETA: 8s - loss: 0.8072 - accuracy: 0.74 - ETA: 7s - loss: 0.7997 - accuracy: 0.74 - ETA: 7s - loss: 0.7893 - accuracy: 0.75 - ETA: 7s - loss: 0.7837 - accuracy: 0.75 - ETA: 7s - loss: 0.7776 - accuracy: 0.75 - ETA: 7s - loss: 0.7670 - accuracy: 0.75 - ETA: 7s - loss: 0.7607 - accuracy: 0.75 - ETA: 7s - loss: 0.7525 - accuracy: 0.75 - ETA: 6s - loss: 0.7476 - accuracy: 0.75 - ETA: 6s - loss: 0.7438 - accuracy: 0.76 - ETA: 6s - loss: 0.7341 - accuracy: 0.76 - ETA: 6s - loss: 0.7271 - accuracy: 0.76 - ETA: 6s - loss: 0.7205 - accuracy: 0.76 - ETA: 6s - loss: 0.7164 - accuracy: 0.76 - ETA: 6s - loss: 0.7127 - accuracy: 0.76 - ETA: 6s - loss: 0.7090 - accuracy: 0.76 - ETA: 6s - loss: 0.7063 - accuracy: 0.76 - ETA: 6s - loss: 0.7041 - accuracy: 0.76 - ETA: 6s - loss: 0.7018 - accuracy: 0.76 - ETA: 6s - loss: 0.6972 - accuracy: 0.77 - ETA: 6s - loss: 0.6918 - accuracy: 0.77 - ETA: 6s - loss: 0.6893 - accuracy: 0.77 - ETA: 6s - loss: 0.6827 - accuracy: 0.77 - ETA: 6s - loss: 0.6796 - accuracy: 0.77 - ETA: 6s - loss: 0.6790 - accuracy: 0.77 - ETA: 6s - loss: 0.6768 - accuracy: 0.77 - ETA: 6s - loss: 0.6746 - accuracy: 0.77 - ETA: 5s - loss: 0.6713 - accuracy: 0.77 - ETA: 5s - loss: 0.6695 - accuracy: 0.77 - ETA: 5s - loss: 0.6662 - accuracy: 0.77 - ETA: 5s - loss: 0.6635 - accuracy: 0.77 - ETA: 5s - loss: 0.6609 - accuracy: 0.78 - ETA: 5s - loss: 0.6583 - accuracy: 0.78 - ETA: 5s - loss: 0.6556 - accuracy: 0.78 - ETA: 5s - loss: 0.6526 - accuracy: 0.78 - ETA: 5s - loss: 0.6498 - accuracy: 0.78 - ETA: 5s - loss: 0.6472 - accuracy: 0.78 - ETA: 5s - loss: 0.6449 - accuracy: 0.78 - ETA: 5s - loss: 0.6419 - accuracy: 0.78 - ETA: 5s - loss: 0.6398 - accuracy: 0.78 - ETA: 5s - loss: 0.6382 - accuracy: 0.78 - ETA: 5s - loss: 0.6371 - accuracy: 0.78 - ETA: 5s - loss: 0.6367 - accuracy: 0.78 - ETA: 5s - loss: 0.6343 - accuracy: 0.78 - ETA: 5s - loss: 0.6324 - accuracy: 0.78 - ETA: 5s - loss: 0.6316 - accuracy: 0.78 - ETA: 4s - loss: 0.6294 - accuracy: 0.78 - ETA: 4s - loss: 0.6280 - accuracy: 0.78 - ETA: 4s - loss: 0.6253 - accuracy: 0.79 - ETA: 4s - loss: 0.6230 - accuracy: 0.79 - ETA: 4s - loss: 0.6220 - accuracy: 0.79 - ETA: 4s - loss: 0.6213 - accuracy: 0.79 - ETA: 4s - loss: 0.6194 - accuracy: 0.79 - ETA: 4s - loss: 0.6172 - accuracy: 0.79 - ETA: 4s - loss: 0.6157 - accuracy: 0.79 - ETA: 4s - loss: 0.6134 - accuracy: 0.79 - ETA: 4s - loss: 0.6129 - accuracy: 0.79 - ETA: 4s - loss: 0.6132 - accuracy: 0.79 - ETA: 4s - loss: 0.6123 - accuracy: 0.79 - ETA: 4s - loss: 0.6117 - accuracy: 0.79 - ETA: 4s - loss: 0.6105 - accuracy: 0.79 - ETA: 4s - loss: 0.6095 - accuracy: 0.79 - ETA: 4s - loss: 0.6088 - accuracy: 0.79 - ETA: 4s - loss: 0.6069 - accuracy: 0.79 - ETA: 4s - loss: 0.6054 - accuracy: 0.79 - ETA: 3s - loss: 0.6041 - accuracy: 0.79 - ETA: 3s - loss: 0.6021 - accuracy: 0.79 - ETA: 3s - loss: 0.6011 - accuracy: 0.79 - ETA: 3s - loss: 0.5996 - accuracy: 0.79 - ETA: 3s - loss: 0.5981 - accuracy: 0.79 - ETA: 3s - loss: 0.5976 - accuracy: 0.79 - ETA: 3s - loss: 0.5961 - accuracy: 0.79 - ETA: 3s - loss: 0.5951 - accuracy: 0.79 - ETA: 3s - loss: 0.5949 - accuracy: 0.79 - ETA: 3s - loss: 0.5951 - accuracy: 0.79 - ETA: 3s - loss: 0.5942 - accuracy: 0.79 - ETA: 3s - loss: 0.5923 - accuracy: 0.79 - ETA: 3s - loss: 0.5919 - accuracy: 0.79 - ETA: 3s - loss: 0.5913 - accuracy: 0.79 - ETA: 3s - loss: 0.5904 - accuracy: 0.79 - ETA: 3s - loss: 0.5893 - accuracy: 0.79 - ETA: 3s - loss: 0.5879 - accuracy: 0.80 - ETA: 3s - loss: 0.5864 - accuracy: 0.80 - ETA: 2s - loss: 0.5857 - accuracy: 0.80 - ETA: 2s - loss: 0.5848 - accuracy: 0.80 - ETA: 2s - loss: 0.5833 - accuracy: 0.80 - ETA: 2s - loss: 0.5826 - accuracy: 0.80 - ETA: 2s - loss: 0.5817 - accuracy: 0.80 - ETA: 2s - loss: 0.5803 - accuracy: 0.80 - ETA: 2s - loss: 0.5799 - accuracy: 0.80 - ETA: 2s - loss: 0.5784 - accuracy: 0.80 - ETA: 2s - loss: 0.5779 - accuracy: 0.80 - ETA: 2s - loss: 0.5785 - accuracy: 0.80 - ETA: 2s - loss: 0.5771 - accuracy: 0.80 - ETA: 2s - loss: 0.5764 - accuracy: 0.80 - ETA: 2s - loss: 0.5754 - accuracy: 0.80 - ETA: 2s - loss: 0.5735 - accuracy: 0.80 - ETA: 2s - loss: 0.5729 - accuracy: 0.80 - ETA: 2s - loss: 0.5718 - accuracy: 0.80 - ETA: 1s - loss: 0.5706 - accuracy: 0.80 - ETA: 1s - loss: 0.5692 - accuracy: 0.80 - ETA: 1s - loss: 0.5684 - accuracy: 0.80 - ETA: 1s - loss: 0.5674 - accuracy: 0.80 - ETA: 1s - loss: 0.5670 - accuracy: 0.80 - ETA: 1s - loss: 0.5663 - accuracy: 0.80 - ETA: 1s - loss: 0.5658 - accuracy: 0.80 - ETA: 1s - loss: 0.5649 - accuracy: 0.80 - ETA: 1s - loss: 0.5640 - accuracy: 0.80 - ETA: 1s - loss: 0.5632 - accuracy: 0.80 - ETA: 1s - loss: 0.5618 - accuracy: 0.80 - ETA: 1s - loss: 0.5609 - accuracy: 0.80 - ETA: 1s - loss: 0.5606 - accuracy: 0.80 - ETA: 1s - loss: 0.5596 - accuracy: 0.80 - ETA: 1s - loss: 0.5586 - accuracy: 0.80 - ETA: 1s - loss: 0.5574 - accuracy: 0.80 - ETA: 1s - loss: 0.5571 - accuracy: 0.80 - ETA: 0s - loss: 0.5560 - accuracy: 0.80 - ETA: 0s - loss: 0.5557 - accuracy: 0.80 - ETA: 0s - loss: 0.5558 - accuracy: 0.80 - ETA: 0s - loss: 0.5548 - accuracy: 0.80 - ETA: 0s - loss: 0.5541 - accuracy: 0.80 - ETA: 0s - loss: 0.5531 - accuracy: 0.80 - ETA: 0s - loss: 0.5523 - accuracy: 0.80 - ETA: 0s - loss: 0.5510 - accuracy: 0.81 - ETA: 0s - loss: 0.5503 - accuracy: 0.81 - ETA: 0s - loss: 0.5498 - accuracy: 0.81 - ETA: 0s - loss: 0.5495 - accuracy: 0.81 - ETA: 0s - loss: 0.5490 - accuracy: 0.81 - ETA: 0s - loss: 0.5490 - accuracy: 0.81 - ETA: 0s - loss: 0.5490 - accuracy: 0.81 - ETA: 0s - loss: 0.5491 - accuracy: 0.81 - ETA: 0s - loss: 0.5488 - accuracy: 0.81 - ETA: 0s - loss: 0.5481 - accuracy: 0.81 - 10s 5ms/step - loss: 0.5477 - accuracy: 0.8108 - val_loss: 0.4869 - val_accuracy: 0.8262\n",
      "Epoch 2/4\n"
     ]
    },
    {
     "name": "stdout",
     "output_type": "stream",
     "text": [
      "1381/1875 [=====================>........] - ETA: 0s - loss: 0.3331 - accuracy: 0.87 - ETA: 14s - loss: 0.3618 - accuracy: 0.857 - ETA: 14s - loss: 0.3700 - accuracy: 0.843 - ETA: 14s - loss: 0.3814 - accuracy: 0.833 - ETA: 14s - loss: 0.4072 - accuracy: 0.823 - ETA: 14s - loss: 0.4504 - accuracy: 0.817 - ETA: 14s - loss: 0.4407 - accuracy: 0.823 - ETA: 15s - loss: 0.4478 - accuracy: 0.819 - ETA: 15s - loss: 0.4495 - accuracy: 0.817 - ETA: 16s - loss: 0.4524 - accuracy: 0.820 - ETA: 16s - loss: 0.4645 - accuracy: 0.822 - ETA: 15s - loss: 0.4655 - accuracy: 0.823 - ETA: 15s - loss: 0.4673 - accuracy: 0.823 - ETA: 14s - loss: 0.4689 - accuracy: 0.824 - ETA: 14s - loss: 0.4723 - accuracy: 0.823 - ETA: 14s - loss: 0.4680 - accuracy: 0.826 - ETA: 14s - loss: 0.4709 - accuracy: 0.825 - ETA: 15s - loss: 0.4709 - accuracy: 0.826 - ETA: 15s - loss: 0.4672 - accuracy: 0.827 - ETA: 15s - loss: 0.4651 - accuracy: 0.829 - ETA: 15s - loss: 0.4600 - accuracy: 0.831 - ETA: 15s - loss: 0.4540 - accuracy: 0.833 - ETA: 15s - loss: 0.4553 - accuracy: 0.832 - ETA: 14s - loss: 0.4511 - accuracy: 0.834 - ETA: 14s - loss: 0.4489 - accuracy: 0.834 - ETA: 14s - loss: 0.4463 - accuracy: 0.835 - ETA: 14s - loss: 0.4433 - accuracy: 0.836 - ETA: 14s - loss: 0.4392 - accuracy: 0.838 - ETA: 14s - loss: 0.4415 - accuracy: 0.838 - ETA: 14s - loss: 0.4439 - accuracy: 0.837 - ETA: 14s - loss: 0.4429 - accuracy: 0.837 - ETA: 14s - loss: 0.4430 - accuracy: 0.837 - ETA: 14s - loss: 0.4442 - accuracy: 0.837 - ETA: 14s - loss: 0.4441 - accuracy: 0.837 - ETA: 14s - loss: 0.4424 - accuracy: 0.838 - ETA: 14s - loss: 0.4441 - accuracy: 0.838 - ETA: 13s - loss: 0.4428 - accuracy: 0.838 - ETA: 13s - loss: 0.4405 - accuracy: 0.839 - ETA: 13s - loss: 0.4442 - accuracy: 0.838 - ETA: 12s - loss: 0.4457 - accuracy: 0.837 - ETA: 12s - loss: 0.4446 - accuracy: 0.838 - ETA: 12s - loss: 0.4458 - accuracy: 0.838 - ETA: 11s - loss: 0.4453 - accuracy: 0.837 - ETA: 11s - loss: 0.4432 - accuracy: 0.838 - ETA: 11s - loss: 0.4440 - accuracy: 0.838 - ETA: 10s - loss: 0.4461 - accuracy: 0.836 - ETA: 10s - loss: 0.4437 - accuracy: 0.838 - ETA: 10s - loss: 0.4467 - accuracy: 0.837 - ETA: 9s - loss: 0.4452 - accuracy: 0.837 - ETA: 9s - loss: 0.4482 - accuracy: 0.83 - ETA: 9s - loss: 0.4487 - accuracy: 0.83 - ETA: 9s - loss: 0.4489 - accuracy: 0.83 - ETA: 8s - loss: 0.4514 - accuracy: 0.83 - ETA: 8s - loss: 0.4485 - accuracy: 0.83 - ETA: 8s - loss: 0.4475 - accuracy: 0.83 - ETA: 8s - loss: 0.4500 - accuracy: 0.83 - ETA: 8s - loss: 0.4492 - accuracy: 0.83 - ETA: 8s - loss: 0.4496 - accuracy: 0.83 - ETA: 8s - loss: 0.4477 - accuracy: 0.83 - ETA: 8s - loss: 0.4501 - accuracy: 0.83 - ETA: 8s - loss: 0.4495 - accuracy: 0.83 - ETA: 8s - loss: 0.4502 - accuracy: 0.83 - ETA: 7s - loss: 0.4500 - accuracy: 0.83 - ETA: 7s - loss: 0.4497 - accuracy: 0.83 - ETA: 7s - loss: 0.4489 - accuracy: 0.83 - ETA: 7s - loss: 0.4482 - accuracy: 0.83 - ETA: 7s - loss: 0.4477 - accuracy: 0.83 - ETA: 7s - loss: 0.4467 - accuracy: 0.83 - ETA: 7s - loss: 0.4463 - accuracy: 0.83 - ETA: 7s - loss: 0.4449 - accuracy: 0.83 - ETA: 7s - loss: 0.4445 - accuracy: 0.83 - ETA: 7s - loss: 0.4441 - accuracy: 0.84 - ETA: 7s - loss: 0.4439 - accuracy: 0.84 - ETA: 7s - loss: 0.4450 - accuracy: 0.84 - ETA: 7s - loss: 0.4446 - accuracy: 0.84 - ETA: 7s - loss: 0.4435 - accuracy: 0.84 - ETA: 7s - loss: 0.4434 - accuracy: 0.84 - ETA: 6s - loss: 0.4433 - accuracy: 0.84 - ETA: 6s - loss: 0.4425 - accuracy: 0.84 - ETA: 6s - loss: 0.4421 - accuracy: 0.84 - ETA: 6s - loss: 0.4405 - accuracy: 0.84 - ETA: 6s - loss: 0.4395 - accuracy: 0.84 - ETA: 6s - loss: 0.4383 - accuracy: 0.84 - ETA: 6s - loss: 0.4381 - accuracy: 0.84 - ETA: 6s - loss: 0.4388 - accuracy: 0.84 - ETA: 6s - loss: 0.4386 - accuracy: 0.84 - ETA: 6s - loss: 0.4387 - accuracy: 0.84 - ETA: 6s - loss: 0.4393 - accuracy: 0.84 - ETA: 6s - loss: 0.4392 - accuracy: 0.84 - ETA: 6s - loss: 0.4395 - accuracy: 0.84 - ETA: 6s - loss: 0.4395 - accuracy: 0.84 - ETA: 6s - loss: 0.4392 - accuracy: 0.84 - ETA: 6s - loss: 0.4389 - accuracy: 0.84 - ETA: 6s - loss: 0.4388 - accuracy: 0.84 - ETA: 6s - loss: 0.4390 - accuracy: 0.84 - ETA: 6s - loss: 0.4394 - accuracy: 0.84 - ETA: 6s - loss: 0.4392 - accuracy: 0.84 - ETA: 6s - loss: 0.4389 - accuracy: 0.84 - ETA: 6s - loss: 0.4383 - accuracy: 0.84 - ETA: 6s - loss: 0.4384 - accuracy: 0.84 - ETA: 6s - loss: 0.4386 - accuracy: 0.84 - ETA: 6s - loss: 0.4379 - accuracy: 0.84 - ETA: 6s - loss: 0.4372 - accuracy: 0.84 - ETA: 6s - loss: 0.4372 - accuracy: 0.84 - ETA: 6s - loss: 0.4371 - accuracy: 0.84 - ETA: 6s - loss: 0.4365 - accuracy: 0.84 - ETA: 6s - loss: 0.4365 - accuracy: 0.84 - ETA: 6s - loss: 0.4369 - accuracy: 0.84 - ETA: 6s - loss: 0.4376 - accuracy: 0.84 - ETA: 6s - loss: 0.4372 - accuracy: 0.84 - ETA: 6s - loss: 0.4370 - accuracy: 0.84 - ETA: 6s - loss: 0.4368 - accuracy: 0.84 - ETA: 6s - loss: 0.4375 - accuracy: 0.84 - ETA: 6s - loss: 0.4375 - accuracy: 0.84 - ETA: 6s - loss: 0.4377 - accuracy: 0.84 - ETA: 6s - loss: 0.4379 - accuracy: 0.84 - ETA: 6s - loss: 0.4386 - accuracy: 0.84 - ETA: 6s - loss: 0.4380 - accuracy: 0.84 - ETA: 6s - loss: 0.4377 - accuracy: 0.84 - ETA: 5s - loss: 0.4377 - accuracy: 0.84 - ETA: 5s - loss: 0.4374 - accuracy: 0.84 - ETA: 5s - loss: 0.4377 - accuracy: 0.84 - ETA: 5s - loss: 0.4376 - accuracy: 0.84 - ETA: 5s - loss: 0.4380 - accuracy: 0.84 - ETA: 5s - loss: 0.4377 - accuracy: 0.84 - ETA: 5s - loss: 0.4374 - accuracy: 0.84 - ETA: 5s - loss: 0.4369 - accuracy: 0.84 - ETA: 5s - loss: 0.4371 - accuracy: 0.84 - ETA: 5s - loss: 0.4365 - accuracy: 0.84 - ETA: 5s - loss: 0.4362 - accuracy: 0.84 - ETA: 5s - loss: 0.4363 - accuracy: 0.84 - ETA: 5s - loss: 0.4361 - accuracy: 0.84 - ETA: 5s - loss: 0.4359 - accuracy: 0.84 - ETA: 5s - loss: 0.4351 - accuracy: 0.84 - ETA: 5s - loss: 0.4350 - accuracy: 0.84 - ETA: 5s - loss: 0.4346 - accuracy: 0.84 - ETA: 5s - loss: 0.4344 - accuracy: 0.84 - ETA: 5s - loss: 0.4342 - accuracy: 0.84 - ETA: 5s - loss: 0.4343 - accuracy: 0.84 - ETA: 5s - loss: 0.4340 - accuracy: 0.84 - ETA: 5s - loss: 0.4347 - accuracy: 0.84 - ETA: 5s - loss: 0.4345 - accuracy: 0.84 - ETA: 5s - loss: 0.4346 - accuracy: 0.84 - ETA: 5s - loss: 0.4343 - accuracy: 0.84 - ETA: 5s - loss: 0.4340 - accuracy: 0.84 - ETA: 5s - loss: 0.4336 - accuracy: 0.84 - ETA: 5s - loss: 0.4333 - accuracy: 0.84 - ETA: 5s - loss: 0.4336 - accuracy: 0.84 - ETA: 5s - loss: 0.4336 - accuracy: 0.84 - ETA: 5s - loss: 0.4336 - accuracy: 0.84 - ETA: 5s - loss: 0.4331 - accuracy: 0.84 - ETA: 5s - loss: 0.4332 - accuracy: 0.84 - ETA: 5s - loss: 0.4337 - accuracy: 0.84 - ETA: 5s - loss: 0.4339 - accuracy: 0.84 - ETA: 4s - loss: 0.4340 - accuracy: 0.84 - ETA: 4s - loss: 0.4338 - accuracy: 0.84 - ETA: 4s - loss: 0.4334 - accuracy: 0.84 - ETA: 4s - loss: 0.4326 - accuracy: 0.84 - ETA: 4s - loss: 0.4327 - accuracy: 0.84 - ETA: 4s - loss: 0.4325 - accuracy: 0.84 - ETA: 4s - loss: 0.4324 - accuracy: 0.84 - ETA: 4s - loss: 0.4326 - accuracy: 0.84 - ETA: 4s - loss: 0.4321 - accuracy: 0.84 - ETA: 4s - loss: 0.4320 - accuracy: 0.84 - ETA: 4s - loss: 0.4319 - accuracy: 0.84 - ETA: 4s - loss: 0.4318 - accuracy: 0.84 - ETA: 4s - loss: 0.4320 - accuracy: 0.84 - ETA: 4s - loss: 0.4318 - accuracy: 0.84 - ETA: 4s - loss: 0.4313 - accuracy: 0.84 - ETA: 4s - loss: 0.4314 - accuracy: 0.84 - ETA: 4s - loss: 0.4315 - accuracy: 0.84 - ETA: 4s - loss: 0.4318 - accuracy: 0.84 - ETA: 4s - loss: 0.4320 - accuracy: 0.84 - ETA: 4s - loss: 0.4319 - accuracy: 0.84 - ETA: 3s - loss: 0.4321 - accuracy: 0.84 - ETA: 3s - loss: 0.4327 - accuracy: 0.84 - ETA: 3s - loss: 0.4329 - accuracy: 0.84 - ETA: 3s - loss: 0.4330 - accuracy: 0.84 - ETA: 3s - loss: 0.4332 - accuracy: 0.84 - ETA: 3s - loss: 0.4330 - accuracy: 0.84 - ETA: 3s - loss: 0.4331 - accuracy: 0.84 - ETA: 3s - loss: 0.4340 - accuracy: 0.84 - ETA: 3s - loss: 0.4336 - accuracy: 0.84 - ETA: 3s - loss: 0.4333 - accuracy: 0.84 - ETA: 3s - loss: 0.4334 - accuracy: 0.84 - ETA: 3s - loss: 0.4337 - accuracy: 0.84 - ETA: 3s - loss: 0.4337 - accuracy: 0.84 - ETA: 3s - loss: 0.4342 - accuracy: 0.84 - ETA: 3s - loss: 0.4342 - accuracy: 0.84 - ETA: 3s - loss: 0.4341 - accuracy: 0.84 - ETA: 3s - loss: 0.4340 - accuracy: 0.84 - ETA: 3s - loss: 0.4339 - accuracy: 0.8441"
     ]
    },
    {
     "name": "stdout",
     "output_type": "stream",
     "text": [
      "1875/1875 [==============================] - ETA: 3s - loss: 0.4339 - accuracy: 0.84 - ETA: 3s - loss: 0.4345 - accuracy: 0.84 - ETA: 3s - loss: 0.4345 - accuracy: 0.84 - ETA: 3s - loss: 0.4347 - accuracy: 0.84 - ETA: 3s - loss: 0.4350 - accuracy: 0.84 - ETA: 3s - loss: 0.4343 - accuracy: 0.84 - ETA: 3s - loss: 0.4348 - accuracy: 0.84 - ETA: 3s - loss: 0.4351 - accuracy: 0.84 - ETA: 3s - loss: 0.4347 - accuracy: 0.84 - ETA: 3s - loss: 0.4353 - accuracy: 0.84 - ETA: 3s - loss: 0.4354 - accuracy: 0.84 - ETA: 3s - loss: 0.4356 - accuracy: 0.84 - ETA: 2s - loss: 0.4354 - accuracy: 0.84 - ETA: 2s - loss: 0.4356 - accuracy: 0.84 - ETA: 2s - loss: 0.4357 - accuracy: 0.84 - ETA: 2s - loss: 0.4357 - accuracy: 0.84 - ETA: 2s - loss: 0.4355 - accuracy: 0.84 - ETA: 2s - loss: 0.4356 - accuracy: 0.84 - ETA: 2s - loss: 0.4353 - accuracy: 0.84 - ETA: 2s - loss: 0.4352 - accuracy: 0.84 - ETA: 2s - loss: 0.4345 - accuracy: 0.84 - ETA: 2s - loss: 0.4347 - accuracy: 0.84 - ETA: 2s - loss: 0.4348 - accuracy: 0.84 - ETA: 2s - loss: 0.4349 - accuracy: 0.84 - ETA: 2s - loss: 0.4341 - accuracy: 0.84 - ETA: 2s - loss: 0.4339 - accuracy: 0.84 - ETA: 2s - loss: 0.4338 - accuracy: 0.84 - ETA: 1s - loss: 0.4338 - accuracy: 0.84 - ETA: 1s - loss: 0.4339 - accuracy: 0.84 - ETA: 1s - loss: 0.4339 - accuracy: 0.84 - ETA: 1s - loss: 0.4339 - accuracy: 0.84 - ETA: 1s - loss: 0.4338 - accuracy: 0.84 - ETA: 1s - loss: 0.4335 - accuracy: 0.84 - ETA: 1s - loss: 0.4335 - accuracy: 0.84 - ETA: 1s - loss: 0.4337 - accuracy: 0.84 - ETA: 1s - loss: 0.4334 - accuracy: 0.84 - ETA: 1s - loss: 0.4330 - accuracy: 0.84 - ETA: 1s - loss: 0.4331 - accuracy: 0.84 - ETA: 1s - loss: 0.4335 - accuracy: 0.84 - ETA: 1s - loss: 0.4337 - accuracy: 0.84 - ETA: 1s - loss: 0.4338 - accuracy: 0.84 - ETA: 1s - loss: 0.4343 - accuracy: 0.84 - ETA: 1s - loss: 0.4348 - accuracy: 0.84 - ETA: 1s - loss: 0.4346 - accuracy: 0.84 - ETA: 0s - loss: 0.4343 - accuracy: 0.84 - ETA: 0s - loss: 0.4348 - accuracy: 0.84 - ETA: 0s - loss: 0.4342 - accuracy: 0.84 - ETA: 0s - loss: 0.4339 - accuracy: 0.84 - ETA: 0s - loss: 0.4337 - accuracy: 0.84 - ETA: 0s - loss: 0.4339 - accuracy: 0.84 - ETA: 0s - loss: 0.4338 - accuracy: 0.84 - ETA: 0s - loss: 0.4343 - accuracy: 0.84 - ETA: 0s - loss: 0.4343 - accuracy: 0.84 - ETA: 0s - loss: 0.4345 - accuracy: 0.84 - ETA: 0s - loss: 0.4347 - accuracy: 0.84 - ETA: 0s - loss: 0.4351 - accuracy: 0.84 - ETA: 0s - loss: 0.4351 - accuracy: 0.84 - ETA: 0s - loss: 0.4351 - accuracy: 0.84 - ETA: 0s - loss: 0.4355 - accuracy: 0.84 - ETA: 0s - loss: 0.4357 - accuracy: 0.84 - ETA: 0s - loss: 0.4354 - accuracy: 0.84 - ETA: 0s - loss: 0.4357 - accuracy: 0.84 - 15s 8ms/step - loss: 0.4356 - accuracy: 0.8435 - val_loss: 0.4379 - val_accuracy: 0.8477\n",
      "Epoch 3/4\n"
     ]
    },
    {
     "name": "stdout",
     "output_type": "stream",
     "text": [
      "1597/1875 [========================>.....] - ETA: 0s - loss: 0.2307 - accuracy: 0.93 - ETA: 19s - loss: 0.3431 - accuracy: 0.881 - ETA: 26s - loss: 0.3537 - accuracy: 0.871 - ETA: 28s - loss: 0.3961 - accuracy: 0.860 - ETA: 27s - loss: 0.3825 - accuracy: 0.864 - ETA: 28s - loss: 0.3841 - accuracy: 0.862 - ETA: 28s - loss: 0.4006 - accuracy: 0.852 - ETA: 27s - loss: 0.4231 - accuracy: 0.843 - ETA: 26s - loss: 0.4107 - accuracy: 0.845 - ETA: 24s - loss: 0.4108 - accuracy: 0.842 - ETA: 22s - loss: 0.3923 - accuracy: 0.852 - ETA: 22s - loss: 0.3930 - accuracy: 0.854 - ETA: 21s - loss: 0.3898 - accuracy: 0.856 - ETA: 20s - loss: 0.3985 - accuracy: 0.853 - ETA: 19s - loss: 0.3957 - accuracy: 0.855 - ETA: 19s - loss: 0.3933 - accuracy: 0.855 - ETA: 18s - loss: 0.3931 - accuracy: 0.856 - ETA: 18s - loss: 0.3914 - accuracy: 0.856 - ETA: 18s - loss: 0.4016 - accuracy: 0.854 - ETA: 17s - loss: 0.4003 - accuracy: 0.856 - ETA: 17s - loss: 0.3988 - accuracy: 0.856 - ETA: 17s - loss: 0.3958 - accuracy: 0.858 - ETA: 17s - loss: 0.3948 - accuracy: 0.859 - ETA: 17s - loss: 0.3951 - accuracy: 0.859 - ETA: 16s - loss: 0.3940 - accuracy: 0.859 - ETA: 16s - loss: 0.3989 - accuracy: 0.857 - ETA: 15s - loss: 0.3990 - accuracy: 0.855 - ETA: 15s - loss: 0.3960 - accuracy: 0.856 - ETA: 15s - loss: 0.3954 - accuracy: 0.856 - ETA: 15s - loss: 0.3918 - accuracy: 0.857 - ETA: 14s - loss: 0.3948 - accuracy: 0.857 - ETA: 14s - loss: 0.3983 - accuracy: 0.854 - ETA: 14s - loss: 0.3991 - accuracy: 0.854 - ETA: 14s - loss: 0.3988 - accuracy: 0.855 - ETA: 14s - loss: 0.3959 - accuracy: 0.855 - ETA: 14s - loss: 0.3966 - accuracy: 0.854 - ETA: 14s - loss: 0.3980 - accuracy: 0.854 - ETA: 13s - loss: 0.4014 - accuracy: 0.854 - ETA: 13s - loss: 0.3984 - accuracy: 0.855 - ETA: 13s - loss: 0.3977 - accuracy: 0.855 - ETA: 13s - loss: 0.3998 - accuracy: 0.854 - ETA: 12s - loss: 0.4004 - accuracy: 0.854 - ETA: 12s - loss: 0.4020 - accuracy: 0.854 - ETA: 12s - loss: 0.4034 - accuracy: 0.854 - ETA: 12s - loss: 0.4037 - accuracy: 0.853 - ETA: 12s - loss: 0.4019 - accuracy: 0.854 - ETA: 12s - loss: 0.4049 - accuracy: 0.853 - ETA: 11s - loss: 0.4057 - accuracy: 0.853 - ETA: 11s - loss: 0.4066 - accuracy: 0.852 - ETA: 11s - loss: 0.4064 - accuracy: 0.852 - ETA: 11s - loss: 0.4040 - accuracy: 0.853 - ETA: 11s - loss: 0.4043 - accuracy: 0.853 - ETA: 11s - loss: 0.4066 - accuracy: 0.852 - ETA: 11s - loss: 0.4080 - accuracy: 0.852 - ETA: 11s - loss: 0.4096 - accuracy: 0.851 - ETA: 11s - loss: 0.4098 - accuracy: 0.851 - ETA: 11s - loss: 0.4104 - accuracy: 0.851 - ETA: 11s - loss: 0.4099 - accuracy: 0.851 - ETA: 10s - loss: 0.4085 - accuracy: 0.851 - ETA: 10s - loss: 0.4094 - accuracy: 0.850 - ETA: 10s - loss: 0.4101 - accuracy: 0.851 - ETA: 10s - loss: 0.4098 - accuracy: 0.850 - ETA: 10s - loss: 0.4090 - accuracy: 0.850 - ETA: 10s - loss: 0.4089 - accuracy: 0.851 - ETA: 10s - loss: 0.4077 - accuracy: 0.851 - ETA: 10s - loss: 0.4058 - accuracy: 0.852 - ETA: 9s - loss: 0.4060 - accuracy: 0.851 - ETA: 9s - loss: 0.4061 - accuracy: 0.85 - ETA: 9s - loss: 0.4065 - accuracy: 0.85 - ETA: 9s - loss: 0.4058 - accuracy: 0.85 - ETA: 9s - loss: 0.4063 - accuracy: 0.85 - ETA: 9s - loss: 0.4084 - accuracy: 0.85 - ETA: 9s - loss: 0.4080 - accuracy: 0.85 - ETA: 9s - loss: 0.4074 - accuracy: 0.85 - ETA: 9s - loss: 0.4089 - accuracy: 0.85 - ETA: 9s - loss: 0.4094 - accuracy: 0.84 - ETA: 9s - loss: 0.4101 - accuracy: 0.84 - ETA: 9s - loss: 0.4126 - accuracy: 0.84 - ETA: 9s - loss: 0.4129 - accuracy: 0.85 - ETA: 9s - loss: 0.4127 - accuracy: 0.85 - ETA: 9s - loss: 0.4118 - accuracy: 0.85 - ETA: 9s - loss: 0.4135 - accuracy: 0.85 - ETA: 9s - loss: 0.4127 - accuracy: 0.85 - ETA: 9s - loss: 0.4137 - accuracy: 0.85 - ETA: 9s - loss: 0.4128 - accuracy: 0.85 - ETA: 9s - loss: 0.4131 - accuracy: 0.85 - ETA: 9s - loss: 0.4132 - accuracy: 0.85 - ETA: 9s - loss: 0.4122 - accuracy: 0.85 - ETA: 8s - loss: 0.4115 - accuracy: 0.85 - ETA: 8s - loss: 0.4108 - accuracy: 0.85 - ETA: 8s - loss: 0.4099 - accuracy: 0.85 - ETA: 8s - loss: 0.4089 - accuracy: 0.85 - ETA: 8s - loss: 0.4087 - accuracy: 0.85 - ETA: 8s - loss: 0.4085 - accuracy: 0.85 - ETA: 8s - loss: 0.4081 - accuracy: 0.85 - ETA: 8s - loss: 0.4084 - accuracy: 0.85 - ETA: 8s - loss: 0.4089 - accuracy: 0.85 - ETA: 8s - loss: 0.4092 - accuracy: 0.85 - ETA: 8s - loss: 0.4084 - accuracy: 0.85 - ETA: 8s - loss: 0.4091 - accuracy: 0.85 - ETA: 8s - loss: 0.4085 - accuracy: 0.85 - ETA: 8s - loss: 0.4090 - accuracy: 0.85 - ETA: 8s - loss: 0.4084 - accuracy: 0.85 - ETA: 8s - loss: 0.4087 - accuracy: 0.85 - ETA: 7s - loss: 0.4089 - accuracy: 0.85 - ETA: 7s - loss: 0.4086 - accuracy: 0.85 - ETA: 7s - loss: 0.4095 - accuracy: 0.85 - ETA: 7s - loss: 0.4094 - accuracy: 0.85 - ETA: 7s - loss: 0.4095 - accuracy: 0.85 - ETA: 7s - loss: 0.4095 - accuracy: 0.85 - ETA: 7s - loss: 0.4102 - accuracy: 0.85 - ETA: 7s - loss: 0.4099 - accuracy: 0.85 - ETA: 7s - loss: 0.4096 - accuracy: 0.85 - ETA: 7s - loss: 0.4103 - accuracy: 0.85 - ETA: 7s - loss: 0.4100 - accuracy: 0.85 - ETA: 7s - loss: 0.4091 - accuracy: 0.85 - ETA: 7s - loss: 0.4089 - accuracy: 0.85 - ETA: 6s - loss: 0.4087 - accuracy: 0.85 - ETA: 6s - loss: 0.4090 - accuracy: 0.85 - ETA: 6s - loss: 0.4090 - accuracy: 0.85 - ETA: 6s - loss: 0.4095 - accuracy: 0.85 - ETA: 6s - loss: 0.4096 - accuracy: 0.85 - ETA: 6s - loss: 0.4105 - accuracy: 0.85 - ETA: 6s - loss: 0.4109 - accuracy: 0.85 - ETA: 6s - loss: 0.4107 - accuracy: 0.85 - ETA: 6s - loss: 0.4108 - accuracy: 0.85 - ETA: 6s - loss: 0.4103 - accuracy: 0.85 - ETA: 6s - loss: 0.4108 - accuracy: 0.85 - ETA: 6s - loss: 0.4110 - accuracy: 0.85 - ETA: 6s - loss: 0.4104 - accuracy: 0.85 - ETA: 6s - loss: 0.4100 - accuracy: 0.85 - ETA: 6s - loss: 0.4107 - accuracy: 0.85 - ETA: 6s - loss: 0.4108 - accuracy: 0.85 - ETA: 5s - loss: 0.4107 - accuracy: 0.85 - ETA: 5s - loss: 0.4119 - accuracy: 0.85 - ETA: 5s - loss: 0.4126 - accuracy: 0.85 - ETA: 5s - loss: 0.4130 - accuracy: 0.85 - ETA: 5s - loss: 0.4134 - accuracy: 0.85 - ETA: 5s - loss: 0.4128 - accuracy: 0.85 - ETA: 5s - loss: 0.4122 - accuracy: 0.85 - ETA: 5s - loss: 0.4120 - accuracy: 0.85 - ETA: 5s - loss: 0.4128 - accuracy: 0.85 - ETA: 5s - loss: 0.4130 - accuracy: 0.85 - ETA: 5s - loss: 0.4131 - accuracy: 0.85 - ETA: 5s - loss: 0.4132 - accuracy: 0.85 - ETA: 5s - loss: 0.4127 - accuracy: 0.85 - ETA: 5s - loss: 0.4128 - accuracy: 0.85 - ETA: 5s - loss: 0.4126 - accuracy: 0.85 - ETA: 4s - loss: 0.4128 - accuracy: 0.85 - ETA: 4s - loss: 0.4126 - accuracy: 0.85 - ETA: 4s - loss: 0.4122 - accuracy: 0.85 - ETA: 4s - loss: 0.4127 - accuracy: 0.85 - ETA: 4s - loss: 0.4129 - accuracy: 0.85 - ETA: 4s - loss: 0.4136 - accuracy: 0.85 - ETA: 4s - loss: 0.4135 - accuracy: 0.85 - ETA: 4s - loss: 0.4132 - accuracy: 0.85 - ETA: 4s - loss: 0.4126 - accuracy: 0.85 - ETA: 4s - loss: 0.4126 - accuracy: 0.85 - ETA: 4s - loss: 0.4131 - accuracy: 0.85 - ETA: 4s - loss: 0.4132 - accuracy: 0.85 - ETA: 4s - loss: 0.4130 - accuracy: 0.85 - ETA: 4s - loss: 0.4130 - accuracy: 0.85 - ETA: 3s - loss: 0.4132 - accuracy: 0.85 - ETA: 3s - loss: 0.4127 - accuracy: 0.85 - ETA: 3s - loss: 0.4127 - accuracy: 0.85 - ETA: 3s - loss: 0.4125 - accuracy: 0.85 - ETA: 3s - loss: 0.4123 - accuracy: 0.85 - ETA: 3s - loss: 0.4124 - accuracy: 0.85 - ETA: 3s - loss: 0.4126 - accuracy: 0.85 - ETA: 3s - loss: 0.4123 - accuracy: 0.85 - ETA: 3s - loss: 0.4131 - accuracy: 0.85 - ETA: 3s - loss: 0.4132 - accuracy: 0.85 - ETA: 3s - loss: 0.4132 - accuracy: 0.85 - ETA: 3s - loss: 0.4132 - accuracy: 0.85 - ETA: 2s - loss: 0.4133 - accuracy: 0.85 - ETA: 2s - loss: 0.4128 - accuracy: 0.85 - ETA: 2s - loss: 0.4129 - accuracy: 0.85 - ETA: 2s - loss: 0.4128 - accuracy: 0.85 - ETA: 2s - loss: 0.4129 - accuracy: 0.85 - ETA: 2s - loss: 0.4125 - accuracy: 0.85 - ETA: 2s - loss: 0.4126 - accuracy: 0.85 - ETA: 2s - loss: 0.4124 - accuracy: 0.85 - ETA: 2s - loss: 0.4125 - accuracy: 0.85 - ETA: 2s - loss: 0.4127 - accuracy: 0.85 - ETA: 2s - loss: 0.4124 - accuracy: 0.85 - ETA: 2s - loss: 0.4122 - accuracy: 0.85 - ETA: 2s - loss: 0.4122 - accuracy: 0.85 - ETA: 1s - loss: 0.4122 - accuracy: 0.85 - ETA: 1s - loss: 0.4127 - accuracy: 0.85 - ETA: 1s - loss: 0.4132 - accuracy: 0.85 - ETA: 1s - loss: 0.4131 - accuracy: 0.8524"
     ]
    },
    {
     "name": "stdout",
     "output_type": "stream",
     "text": [
      "1875/1875 [==============================] - ETA: 1s - loss: 0.4133 - accuracy: 0.85 - ETA: 1s - loss: 0.4133 - accuracy: 0.85 - ETA: 1s - loss: 0.4131 - accuracy: 0.85 - ETA: 1s - loss: 0.4127 - accuracy: 0.85 - ETA: 1s - loss: 0.4129 - accuracy: 0.85 - ETA: 1s - loss: 0.4129 - accuracy: 0.85 - ETA: 1s - loss: 0.4129 - accuracy: 0.85 - ETA: 1s - loss: 0.4129 - accuracy: 0.85 - ETA: 1s - loss: 0.4127 - accuracy: 0.85 - ETA: 1s - loss: 0.4127 - accuracy: 0.85 - ETA: 1s - loss: 0.4129 - accuracy: 0.85 - ETA: 1s - loss: 0.4129 - accuracy: 0.85 - ETA: 1s - loss: 0.4128 - accuracy: 0.85 - ETA: 1s - loss: 0.4125 - accuracy: 0.85 - ETA: 1s - loss: 0.4121 - accuracy: 0.85 - ETA: 0s - loss: 0.4130 - accuracy: 0.85 - ETA: 0s - loss: 0.4129 - accuracy: 0.85 - ETA: 0s - loss: 0.4129 - accuracy: 0.85 - ETA: 0s - loss: 0.4131 - accuracy: 0.85 - ETA: 0s - loss: 0.4132 - accuracy: 0.85 - ETA: 0s - loss: 0.4135 - accuracy: 0.85 - ETA: 0s - loss: 0.4137 - accuracy: 0.85 - ETA: 0s - loss: 0.4138 - accuracy: 0.85 - ETA: 0s - loss: 0.4140 - accuracy: 0.85 - ETA: 0s - loss: 0.4141 - accuracy: 0.85 - ETA: 0s - loss: 0.4142 - accuracy: 0.85 - ETA: 0s - loss: 0.4144 - accuracy: 0.85 - ETA: 0s - loss: 0.4141 - accuracy: 0.85 - ETA: 0s - loss: 0.4137 - accuracy: 0.85 - ETA: 0s - loss: 0.4139 - accuracy: 0.85 - ETA: 0s - loss: 0.4142 - accuracy: 0.85 - ETA: 0s - loss: 0.4142 - accuracy: 0.85 - ETA: 0s - loss: 0.4148 - accuracy: 0.85 - ETA: 0s - loss: 0.4149 - accuracy: 0.85 - ETA: 0s - loss: 0.4150 - accuracy: 0.85 - 13s 7ms/step - loss: 0.4152 - accuracy: 0.8515 - val_loss: 0.4694 - val_accuracy: 0.8345\n",
      "Epoch 4/4\n"
     ]
    },
    {
     "name": "stdout",
     "output_type": "stream",
     "text": [
      "1833/1875 [============================>.] - ETA: 0s - loss: 0.4665 - accuracy: 0.81 - ETA: 8s - loss: 0.3630 - accuracy: 0.87 - ETA: 9s - loss: 0.3917 - accuracy: 0.86 - ETA: 10s - loss: 0.4190 - accuracy: 0.854 - ETA: 9s - loss: 0.3943 - accuracy: 0.863 - ETA: 9s - loss: 0.3906 - accuracy: 0.86 - ETA: 9s - loss: 0.4058 - accuracy: 0.85 - ETA: 9s - loss: 0.4005 - accuracy: 0.85 - ETA: 10s - loss: 0.3901 - accuracy: 0.861 - ETA: 10s - loss: 0.3916 - accuracy: 0.860 - ETA: 10s - loss: 0.3956 - accuracy: 0.860 - ETA: 10s - loss: 0.4024 - accuracy: 0.860 - ETA: 9s - loss: 0.4147 - accuracy: 0.853 - ETA: 9s - loss: 0.4135 - accuracy: 0.85 - ETA: 9s - loss: 0.4085 - accuracy: 0.85 - ETA: 9s - loss: 0.4065 - accuracy: 0.85 - ETA: 9s - loss: 0.4038 - accuracy: 0.85 - ETA: 9s - loss: 0.4003 - accuracy: 0.85 - ETA: 9s - loss: 0.4041 - accuracy: 0.85 - ETA: 9s - loss: 0.4083 - accuracy: 0.85 - ETA: 9s - loss: 0.4084 - accuracy: 0.85 - ETA: 9s - loss: 0.4100 - accuracy: 0.85 - ETA: 9s - loss: 0.4079 - accuracy: 0.85 - ETA: 9s - loss: 0.4077 - accuracy: 0.85 - ETA: 9s - loss: 0.4104 - accuracy: 0.85 - ETA: 9s - loss: 0.4093 - accuracy: 0.85 - ETA: 9s - loss: 0.4085 - accuracy: 0.85 - ETA: 9s - loss: 0.4089 - accuracy: 0.85 - ETA: 9s - loss: 0.4049 - accuracy: 0.85 - ETA: 9s - loss: 0.4054 - accuracy: 0.85 - ETA: 9s - loss: 0.4079 - accuracy: 0.85 - ETA: 9s - loss: 0.4041 - accuracy: 0.85 - ETA: 9s - loss: 0.4048 - accuracy: 0.85 - ETA: 9s - loss: 0.4056 - accuracy: 0.85 - ETA: 9s - loss: 0.4069 - accuracy: 0.85 - ETA: 9s - loss: 0.4065 - accuracy: 0.85 - ETA: 9s - loss: 0.4061 - accuracy: 0.85 - ETA: 9s - loss: 0.4043 - accuracy: 0.85 - ETA: 9s - loss: 0.4048 - accuracy: 0.85 - ETA: 8s - loss: 0.4036 - accuracy: 0.85 - ETA: 8s - loss: 0.4010 - accuracy: 0.85 - ETA: 8s - loss: 0.4021 - accuracy: 0.85 - ETA: 8s - loss: 0.4012 - accuracy: 0.85 - ETA: 8s - loss: 0.4028 - accuracy: 0.85 - ETA: 8s - loss: 0.4048 - accuracy: 0.85 - ETA: 8s - loss: 0.4042 - accuracy: 0.85 - ETA: 8s - loss: 0.4036 - accuracy: 0.85 - ETA: 8s - loss: 0.4026 - accuracy: 0.85 - ETA: 8s - loss: 0.4017 - accuracy: 0.85 - ETA: 8s - loss: 0.4030 - accuracy: 0.85 - ETA: 7s - loss: 0.4031 - accuracy: 0.85 - ETA: 7s - loss: 0.4035 - accuracy: 0.85 - ETA: 7s - loss: 0.4041 - accuracy: 0.85 - ETA: 7s - loss: 0.4032 - accuracy: 0.85 - ETA: 7s - loss: 0.4029 - accuracy: 0.85 - ETA: 7s - loss: 0.4034 - accuracy: 0.85 - ETA: 7s - loss: 0.4041 - accuracy: 0.85 - ETA: 7s - loss: 0.4044 - accuracy: 0.85 - ETA: 7s - loss: 0.4037 - accuracy: 0.85 - ETA: 7s - loss: 0.4042 - accuracy: 0.85 - ETA: 7s - loss: 0.4044 - accuracy: 0.85 - ETA: 7s - loss: 0.4049 - accuracy: 0.85 - ETA: 7s - loss: 0.4046 - accuracy: 0.85 - ETA: 7s - loss: 0.4045 - accuracy: 0.85 - ETA: 7s - loss: 0.4048 - accuracy: 0.85 - ETA: 7s - loss: 0.4049 - accuracy: 0.85 - ETA: 7s - loss: 0.4044 - accuracy: 0.85 - ETA: 7s - loss: 0.4059 - accuracy: 0.85 - ETA: 7s - loss: 0.4059 - accuracy: 0.85 - ETA: 7s - loss: 0.4058 - accuracy: 0.85 - ETA: 7s - loss: 0.4056 - accuracy: 0.85 - ETA: 7s - loss: 0.4055 - accuracy: 0.85 - ETA: 7s - loss: 0.4053 - accuracy: 0.85 - ETA: 7s - loss: 0.4047 - accuracy: 0.85 - ETA: 7s - loss: 0.4050 - accuracy: 0.85 - ETA: 7s - loss: 0.4047 - accuracy: 0.85 - ETA: 7s - loss: 0.4046 - accuracy: 0.85 - ETA: 7s - loss: 0.4040 - accuracy: 0.85 - ETA: 7s - loss: 0.4037 - accuracy: 0.85 - ETA: 7s - loss: 0.4032 - accuracy: 0.85 - ETA: 7s - loss: 0.4037 - accuracy: 0.85 - ETA: 7s - loss: 0.4023 - accuracy: 0.85 - ETA: 7s - loss: 0.4025 - accuracy: 0.85 - ETA: 6s - loss: 0.4026 - accuracy: 0.85 - ETA: 6s - loss: 0.4023 - accuracy: 0.85 - ETA: 6s - loss: 0.4029 - accuracy: 0.85 - ETA: 6s - loss: 0.4035 - accuracy: 0.85 - ETA: 6s - loss: 0.4032 - accuracy: 0.85 - ETA: 6s - loss: 0.4034 - accuracy: 0.85 - ETA: 6s - loss: 0.4032 - accuracy: 0.85 - ETA: 6s - loss: 0.4037 - accuracy: 0.85 - ETA: 6s - loss: 0.4034 - accuracy: 0.85 - ETA: 6s - loss: 0.4032 - accuracy: 0.85 - ETA: 6s - loss: 0.4026 - accuracy: 0.85 - ETA: 6s - loss: 0.4021 - accuracy: 0.85 - ETA: 6s - loss: 0.4029 - accuracy: 0.85 - ETA: 6s - loss: 0.4026 - accuracy: 0.85 - ETA: 6s - loss: 0.4018 - accuracy: 0.85 - ETA: 6s - loss: 0.4010 - accuracy: 0.85 - ETA: 6s - loss: 0.4007 - accuracy: 0.85 - ETA: 6s - loss: 0.4006 - accuracy: 0.85 - ETA: 6s - loss: 0.4007 - accuracy: 0.85 - ETA: 6s - loss: 0.4009 - accuracy: 0.85 - ETA: 6s - loss: 0.4013 - accuracy: 0.85 - ETA: 6s - loss: 0.4017 - accuracy: 0.85 - ETA: 6s - loss: 0.4015 - accuracy: 0.85 - ETA: 6s - loss: 0.4005 - accuracy: 0.85 - ETA: 6s - loss: 0.4013 - accuracy: 0.85 - ETA: 5s - loss: 0.4012 - accuracy: 0.85 - ETA: 5s - loss: 0.4011 - accuracy: 0.85 - ETA: 5s - loss: 0.4014 - accuracy: 0.85 - ETA: 5s - loss: 0.4012 - accuracy: 0.85 - ETA: 5s - loss: 0.4014 - accuracy: 0.85 - ETA: 5s - loss: 0.4018 - accuracy: 0.85 - ETA: 5s - loss: 0.4011 - accuracy: 0.85 - ETA: 5s - loss: 0.4010 - accuracy: 0.85 - ETA: 5s - loss: 0.4013 - accuracy: 0.85 - ETA: 5s - loss: 0.4012 - accuracy: 0.85 - ETA: 5s - loss: 0.4003 - accuracy: 0.85 - ETA: 5s - loss: 0.3996 - accuracy: 0.85 - ETA: 5s - loss: 0.3993 - accuracy: 0.85 - ETA: 5s - loss: 0.3994 - accuracy: 0.85 - ETA: 5s - loss: 0.3996 - accuracy: 0.85 - ETA: 4s - loss: 0.3993 - accuracy: 0.85 - ETA: 4s - loss: 0.3994 - accuracy: 0.85 - ETA: 4s - loss: 0.3986 - accuracy: 0.85 - ETA: 4s - loss: 0.3983 - accuracy: 0.85 - ETA: 4s - loss: 0.3987 - accuracy: 0.85 - ETA: 4s - loss: 0.3986 - accuracy: 0.85 - ETA: 4s - loss: 0.3987 - accuracy: 0.85 - ETA: 4s - loss: 0.3980 - accuracy: 0.85 - ETA: 4s - loss: 0.3984 - accuracy: 0.85 - ETA: 4s - loss: 0.3992 - accuracy: 0.85 - ETA: 4s - loss: 0.3989 - accuracy: 0.85 - ETA: 4s - loss: 0.3996 - accuracy: 0.85 - ETA: 4s - loss: 0.3990 - accuracy: 0.85 - ETA: 4s - loss: 0.3987 - accuracy: 0.85 - ETA: 4s - loss: 0.3993 - accuracy: 0.85 - ETA: 4s - loss: 0.3991 - accuracy: 0.85 - ETA: 3s - loss: 0.3991 - accuracy: 0.85 - ETA: 3s - loss: 0.3995 - accuracy: 0.85 - ETA: 3s - loss: 0.3992 - accuracy: 0.85 - ETA: 3s - loss: 0.4000 - accuracy: 0.85 - ETA: 3s - loss: 0.3997 - accuracy: 0.85 - ETA: 3s - loss: 0.4001 - accuracy: 0.85 - ETA: 3s - loss: 0.4002 - accuracy: 0.85 - ETA: 3s - loss: 0.4003 - accuracy: 0.85 - ETA: 3s - loss: 0.4004 - accuracy: 0.85 - ETA: 3s - loss: 0.3997 - accuracy: 0.85 - ETA: 3s - loss: 0.4003 - accuracy: 0.85 - ETA: 3s - loss: 0.4006 - accuracy: 0.85 - ETA: 3s - loss: 0.4015 - accuracy: 0.85 - ETA: 3s - loss: 0.4014 - accuracy: 0.85 - ETA: 3s - loss: 0.4021 - accuracy: 0.85 - ETA: 3s - loss: 0.4021 - accuracy: 0.85 - ETA: 3s - loss: 0.4020 - accuracy: 0.85 - ETA: 2s - loss: 0.4023 - accuracy: 0.85 - ETA: 2s - loss: 0.4022 - accuracy: 0.85 - ETA: 2s - loss: 0.4022 - accuracy: 0.85 - ETA: 2s - loss: 0.4019 - accuracy: 0.85 - ETA: 2s - loss: 0.4017 - accuracy: 0.85 - ETA: 2s - loss: 0.4016 - accuracy: 0.85 - ETA: 2s - loss: 0.4016 - accuracy: 0.85 - ETA: 2s - loss: 0.4015 - accuracy: 0.85 - ETA: 2s - loss: 0.4014 - accuracy: 0.85 - ETA: 2s - loss: 0.4012 - accuracy: 0.85 - ETA: 2s - loss: 0.4015 - accuracy: 0.85 - ETA: 2s - loss: 0.4009 - accuracy: 0.85 - ETA: 2s - loss: 0.4014 - accuracy: 0.85 - ETA: 2s - loss: 0.4018 - accuracy: 0.85 - ETA: 1s - loss: 0.4013 - accuracy: 0.85 - ETA: 1s - loss: 0.4010 - accuracy: 0.85 - ETA: 1s - loss: 0.4007 - accuracy: 0.85 - ETA: 1s - loss: 0.4009 - accuracy: 0.85 - ETA: 1s - loss: 0.4008 - accuracy: 0.85 - ETA: 1s - loss: 0.4008 - accuracy: 0.85 - ETA: 1s - loss: 0.4011 - accuracy: 0.85 - ETA: 1s - loss: 0.4009 - accuracy: 0.85 - ETA: 1s - loss: 0.4005 - accuracy: 0.85 - ETA: 1s - loss: 0.4004 - accuracy: 0.85 - ETA: 1s - loss: 0.4000 - accuracy: 0.85 - ETA: 1s - loss: 0.3996 - accuracy: 0.85 - ETA: 1s - loss: 0.3992 - accuracy: 0.85 - ETA: 0s - loss: 0.3994 - accuracy: 0.85 - ETA: 0s - loss: 0.3989 - accuracy: 0.85 - ETA: 0s - loss: 0.3990 - accuracy: 0.85 - ETA: 0s - loss: 0.3989 - accuracy: 0.85 - ETA: 0s - loss: 0.3987 - accuracy: 0.85 - ETA: 0s - loss: 0.3987 - accuracy: 0.85 - ETA: 0s - loss: 0.3994 - accuracy: 0.85 - ETA: 0s - loss: 0.3992 - accuracy: 0.85 - ETA: 0s - loss: 0.3991 - accuracy: 0.85 - ETA: 0s - loss: 0.3993 - accuracy: 0.85 - ETA: 0s - loss: 0.3989 - accuracy: 0.8579"
     ]
    },
    {
     "name": "stdout",
     "output_type": "stream",
     "text": [
      "1875/1875 [==============================] - ETA: 0s - loss: 0.3994 - accuracy: 0.85 - ETA: 0s - loss: 0.4003 - accuracy: 0.85 - ETA: 0s - loss: 0.4003 - accuracy: 0.85 - 11s 6ms/step - loss: 0.4002 - accuracy: 0.8582 - val_loss: 0.5178 - val_accuracy: 0.8276\n"
     ]
    },
    {
     "data": {
      "text/html": [
       "<span style=\"color:#4527A0\"><h1 style=\"font-size:18px\">Trial complete</h1></span>"
      ],
      "text/plain": [
       "<IPython.core.display.HTML object>"
      ]
     },
     "metadata": {},
     "output_type": "display_data"
    },
    {
     "data": {
      "text/html": [
       "<span style=\"color:#4527A0\"><h1 style=\"font-size:18px\">Trial summary</h1></span>"
      ],
      "text/plain": [
       "<IPython.core.display.HTML object>"
      ]
     },
     "metadata": {},
     "output_type": "display_data"
    },
    {
     "data": {
      "text/html": [
       "<span style=\"color:cyan\"> |-Trial ID: 1f8337354ec8983ce9bdc127ed8224dd</span>"
      ],
      "text/plain": [
       "<IPython.core.display.HTML object>"
      ]
     },
     "metadata": {},
     "output_type": "display_data"
    },
    {
     "data": {
      "text/html": [
       "<span style=\"color:cyan\"> |-Score: 0.8476999998092651</span>"
      ],
      "text/plain": [
       "<IPython.core.display.HTML object>"
      ]
     },
     "metadata": {},
     "output_type": "display_data"
    },
    {
     "data": {
      "text/html": [
       "<span style=\"color:cyan\"> |-Best step: 0</span>"
      ],
      "text/plain": [
       "<IPython.core.display.HTML object>"
      ]
     },
     "metadata": {},
     "output_type": "display_data"
    },
    {
     "data": {
      "text/html": [
       "<span style=\"color:#7E57C2\"><h2 style=\"font-size:16px\">Hyperparameters:</h2></span>"
      ],
      "text/plain": [
       "<IPython.core.display.HTML object>"
      ]
     },
     "metadata": {},
     "output_type": "display_data"
    },
    {
     "data": {
      "text/html": [
       "<span style=\"color:cyan\"> |-learning_rate: 0.01</span>"
      ],
      "text/plain": [
       "<IPython.core.display.HTML object>"
      ]
     },
     "metadata": {},
     "output_type": "display_data"
    },
    {
     "data": {
      "text/html": [
       "<span style=\"color:blue\"> |-tuner/bracket: 1</span>"
      ],
      "text/plain": [
       "<IPython.core.display.HTML object>"
      ]
     },
     "metadata": {},
     "output_type": "display_data"
    },
    {
     "data": {
      "text/html": [
       "<span style=\"color:cyan\"> |-tuner/epochs: 4</span>"
      ],
      "text/plain": [
       "<IPython.core.display.HTML object>"
      ]
     },
     "metadata": {},
     "output_type": "display_data"
    },
    {
     "data": {
      "text/html": [
       "<span style=\"color:blue\"> |-tuner/initial_epoch: 0</span>"
      ],
      "text/plain": [
       "<IPython.core.display.HTML object>"
      ]
     },
     "metadata": {},
     "output_type": "display_data"
    },
    {
     "data": {
      "text/html": [
       "<span style=\"color:cyan\"> |-tuner/round: 0</span>"
      ],
      "text/plain": [
       "<IPython.core.display.HTML object>"
      ]
     },
     "metadata": {},
     "output_type": "display_data"
    },
    {
     "data": {
      "text/html": [
       "<span style=\"color:blue\"> |-units: 480</span>"
      ],
      "text/plain": [
       "<IPython.core.display.HTML object>"
      ]
     },
     "metadata": {},
     "output_type": "display_data"
    },
    {
     "name": "stdout",
     "output_type": "stream",
     "text": [
      "Epoch 1/4\n",
      "   2/1875 [..............................] - ETA: 0s - loss: 2.5620 - accuracy: 0.0000e+ - ETA: 10:29 - loss: 2.9186 - accuracy: 0.1250 WARNING:tensorflow:Method (on_train_batch_end) is slow compared to the batch update (0.339637). Check your callbacks.\n",
      "1875/1875 [==============================] - ETA: 1:43 - loss: 2.2052 - accuracy: 0.423 - ETA: 51s - loss: 1.5973 - accuracy: 0.5469 - ETA: 36s - loss: 1.3591 - accuracy: 0.590 - ETA: 28s - loss: 1.1968 - accuracy: 0.631 - ETA: 23s - loss: 1.0817 - accuracy: 0.656 - ETA: 20s - loss: 1.0145 - accuracy: 0.678 - ETA: 17s - loss: 0.9729 - accuracy: 0.685 - ETA: 16s - loss: 0.9216 - accuracy: 0.698 - ETA: 14s - loss: 0.8850 - accuracy: 0.705 - ETA: 13s - loss: 0.8554 - accuracy: 0.712 - ETA: 12s - loss: 0.8342 - accuracy: 0.719 - ETA: 11s - loss: 0.8149 - accuracy: 0.724 - ETA: 10s - loss: 0.7891 - accuracy: 0.731 - ETA: 9s - loss: 0.7720 - accuracy: 0.737 - ETA: 9s - loss: 0.7523 - accuracy: 0.74 - ETA: 8s - loss: 0.7394 - accuracy: 0.74 - ETA: 8s - loss: 0.7277 - accuracy: 0.75 - ETA: 7s - loss: 0.7184 - accuracy: 0.75 - ETA: 7s - loss: 0.7065 - accuracy: 0.75 - ETA: 7s - loss: 0.6970 - accuracy: 0.75 - ETA: 6s - loss: 0.6874 - accuracy: 0.76 - ETA: 6s - loss: 0.6783 - accuracy: 0.76 - ETA: 6s - loss: 0.6680 - accuracy: 0.76 - ETA: 6s - loss: 0.6636 - accuracy: 0.76 - ETA: 5s - loss: 0.6578 - accuracy: 0.77 - ETA: 5s - loss: 0.6516 - accuracy: 0.77 - ETA: 5s - loss: 0.6488 - accuracy: 0.77 - ETA: 5s - loss: 0.6453 - accuracy: 0.77 - ETA: 5s - loss: 0.6438 - accuracy: 0.77 - ETA: 5s - loss: 0.6400 - accuracy: 0.77 - ETA: 5s - loss: 0.6384 - accuracy: 0.77 - ETA: 5s - loss: 0.6375 - accuracy: 0.77 - ETA: 4s - loss: 0.6337 - accuracy: 0.77 - ETA: 4s - loss: 0.6321 - accuracy: 0.77 - ETA: 4s - loss: 0.6296 - accuracy: 0.77 - ETA: 4s - loss: 0.6233 - accuracy: 0.78 - ETA: 4s - loss: 0.6173 - accuracy: 0.78 - ETA: 4s - loss: 0.6148 - accuracy: 0.78 - ETA: 4s - loss: 0.6110 - accuracy: 0.78 - ETA: 4s - loss: 0.6091 - accuracy: 0.78 - ETA: 4s - loss: 0.6072 - accuracy: 0.78 - ETA: 4s - loss: 0.6052 - accuracy: 0.78 - ETA: 4s - loss: 0.6036 - accuracy: 0.78 - ETA: 3s - loss: 0.6019 - accuracy: 0.78 - ETA: 3s - loss: 0.6009 - accuracy: 0.78 - ETA: 3s - loss: 0.5997 - accuracy: 0.78 - ETA: 3s - loss: 0.5993 - accuracy: 0.78 - ETA: 3s - loss: 0.5969 - accuracy: 0.78 - ETA: 3s - loss: 0.5948 - accuracy: 0.78 - ETA: 3s - loss: 0.5927 - accuracy: 0.78 - ETA: 3s - loss: 0.5911 - accuracy: 0.78 - ETA: 3s - loss: 0.5892 - accuracy: 0.79 - ETA: 3s - loss: 0.5871 - accuracy: 0.79 - ETA: 3s - loss: 0.5841 - accuracy: 0.79 - ETA: 3s - loss: 0.5823 - accuracy: 0.79 - ETA: 3s - loss: 0.5802 - accuracy: 0.79 - ETA: 3s - loss: 0.5776 - accuracy: 0.79 - ETA: 3s - loss: 0.5762 - accuracy: 0.79 - ETA: 2s - loss: 0.5747 - accuracy: 0.79 - ETA: 2s - loss: 0.5723 - accuracy: 0.79 - ETA: 2s - loss: 0.5706 - accuracy: 0.79 - ETA: 2s - loss: 0.5700 - accuracy: 0.79 - ETA: 2s - loss: 0.5696 - accuracy: 0.79 - ETA: 2s - loss: 0.5682 - accuracy: 0.79 - ETA: 2s - loss: 0.5669 - accuracy: 0.79 - ETA: 2s - loss: 0.5654 - accuracy: 0.79 - ETA: 2s - loss: 0.5635 - accuracy: 0.79 - ETA: 2s - loss: 0.5633 - accuracy: 0.79 - ETA: 2s - loss: 0.5629 - accuracy: 0.79 - ETA: 2s - loss: 0.5609 - accuracy: 0.79 - ETA: 2s - loss: 0.5598 - accuracy: 0.79 - ETA: 2s - loss: 0.5588 - accuracy: 0.79 - ETA: 2s - loss: 0.5581 - accuracy: 0.80 - ETA: 2s - loss: 0.5583 - accuracy: 0.80 - ETA: 2s - loss: 0.5568 - accuracy: 0.80 - ETA: 2s - loss: 0.5554 - accuracy: 0.80 - ETA: 1s - loss: 0.5545 - accuracy: 0.80 - ETA: 1s - loss: 0.5540 - accuracy: 0.80 - ETA: 1s - loss: 0.5527 - accuracy: 0.80 - ETA: 1s - loss: 0.5516 - accuracy: 0.80 - ETA: 1s - loss: 0.5500 - accuracy: 0.80 - ETA: 1s - loss: 0.5497 - accuracy: 0.80 - ETA: 1s - loss: 0.5488 - accuracy: 0.80 - ETA: 1s - loss: 0.5477 - accuracy: 0.80 - ETA: 1s - loss: 0.5456 - accuracy: 0.80 - ETA: 1s - loss: 0.5436 - accuracy: 0.80 - ETA: 1s - loss: 0.5425 - accuracy: 0.80 - ETA: 1s - loss: 0.5423 - accuracy: 0.80 - ETA: 1s - loss: 0.5411 - accuracy: 0.80 - ETA: 1s - loss: 0.5402 - accuracy: 0.80 - ETA: 0s - loss: 0.5386 - accuracy: 0.80 - ETA: 0s - loss: 0.5386 - accuracy: 0.80 - ETA: 0s - loss: 0.5381 - accuracy: 0.80 - ETA: 0s - loss: 0.5375 - accuracy: 0.80 - ETA: 0s - loss: 0.5371 - accuracy: 0.80 - ETA: 0s - loss: 0.5368 - accuracy: 0.80 - ETA: 0s - loss: 0.5359 - accuracy: 0.80 - ETA: 0s - loss: 0.5352 - accuracy: 0.80 - ETA: 0s - loss: 0.5339 - accuracy: 0.80 - ETA: 0s - loss: 0.5331 - accuracy: 0.80 - ETA: 0s - loss: 0.5321 - accuracy: 0.80 - ETA: 0s - loss: 0.5318 - accuracy: 0.80 - ETA: 0s - loss: 0.5312 - accuracy: 0.80 - ETA: 0s - loss: 0.5301 - accuracy: 0.81 - 7s 4ms/step - loss: 0.5299 - accuracy: 0.8105 - val_loss: 0.4862 - val_accuracy: 0.8236\n",
      "Epoch 2/4\n"
     ]
    },
    {
     "name": "stdout",
     "output_type": "stream",
     "text": [
      "1875/1875 [==============================] - ETA: 0s - loss: 0.5248 - accuracy: 0.78 - ETA: 6s - loss: 0.4095 - accuracy: 0.85 - ETA: 6s - loss: 0.4098 - accuracy: 0.85 - ETA: 6s - loss: 0.3817 - accuracy: 0.86 - ETA: 6s - loss: 0.4097 - accuracy: 0.85 - ETA: 7s - loss: 0.4198 - accuracy: 0.84 - ETA: 7s - loss: 0.4225 - accuracy: 0.84 - ETA: 7s - loss: 0.4173 - accuracy: 0.84 - ETA: 6s - loss: 0.4245 - accuracy: 0.84 - ETA: 6s - loss: 0.4322 - accuracy: 0.84 - ETA: 6s - loss: 0.4306 - accuracy: 0.84 - ETA: 6s - loss: 0.4372 - accuracy: 0.84 - ETA: 5s - loss: 0.4324 - accuracy: 0.84 - ETA: 5s - loss: 0.4321 - accuracy: 0.84 - ETA: 5s - loss: 0.4355 - accuracy: 0.84 - ETA: 5s - loss: 0.4396 - accuracy: 0.84 - ETA: 6s - loss: 0.4374 - accuracy: 0.84 - ETA: 6s - loss: 0.4352 - accuracy: 0.84 - ETA: 6s - loss: 0.4345 - accuracy: 0.84 - ETA: 6s - loss: 0.4401 - accuracy: 0.84 - ETA: 6s - loss: 0.4424 - accuracy: 0.84 - ETA: 6s - loss: 0.4429 - accuracy: 0.84 - ETA: 6s - loss: 0.4438 - accuracy: 0.83 - ETA: 6s - loss: 0.4445 - accuracy: 0.83 - ETA: 6s - loss: 0.4425 - accuracy: 0.84 - ETA: 6s - loss: 0.4409 - accuracy: 0.84 - ETA: 5s - loss: 0.4389 - accuracy: 0.84 - ETA: 5s - loss: 0.4392 - accuracy: 0.84 - ETA: 5s - loss: 0.4400 - accuracy: 0.84 - ETA: 5s - loss: 0.4392 - accuracy: 0.84 - ETA: 5s - loss: 0.4378 - accuracy: 0.84 - ETA: 5s - loss: 0.4400 - accuracy: 0.84 - ETA: 5s - loss: 0.4393 - accuracy: 0.84 - ETA: 5s - loss: 0.4392 - accuracy: 0.84 - ETA: 5s - loss: 0.4387 - accuracy: 0.84 - ETA: 5s - loss: 0.4383 - accuracy: 0.84 - ETA: 5s - loss: 0.4374 - accuracy: 0.84 - ETA: 5s - loss: 0.4365 - accuracy: 0.84 - ETA: 5s - loss: 0.4378 - accuracy: 0.84 - ETA: 5s - loss: 0.4366 - accuracy: 0.84 - ETA: 5s - loss: 0.4367 - accuracy: 0.84 - ETA: 4s - loss: 0.4373 - accuracy: 0.84 - ETA: 4s - loss: 0.4396 - accuracy: 0.84 - ETA: 4s - loss: 0.4383 - accuracy: 0.84 - ETA: 4s - loss: 0.4372 - accuracy: 0.84 - ETA: 4s - loss: 0.4364 - accuracy: 0.84 - ETA: 4s - loss: 0.4352 - accuracy: 0.84 - ETA: 4s - loss: 0.4356 - accuracy: 0.84 - ETA: 4s - loss: 0.4375 - accuracy: 0.84 - ETA: 3s - loss: 0.4350 - accuracy: 0.84 - ETA: 3s - loss: 0.4342 - accuracy: 0.84 - ETA: 3s - loss: 0.4344 - accuracy: 0.84 - ETA: 3s - loss: 0.4344 - accuracy: 0.84 - ETA: 3s - loss: 0.4330 - accuracy: 0.84 - ETA: 3s - loss: 0.4324 - accuracy: 0.84 - ETA: 3s - loss: 0.4334 - accuracy: 0.84 - ETA: 3s - loss: 0.4326 - accuracy: 0.84 - ETA: 3s - loss: 0.4327 - accuracy: 0.84 - ETA: 3s - loss: 0.4318 - accuracy: 0.84 - ETA: 3s - loss: 0.4326 - accuracy: 0.84 - ETA: 2s - loss: 0.4328 - accuracy: 0.84 - ETA: 2s - loss: 0.4333 - accuracy: 0.84 - ETA: 2s - loss: 0.4346 - accuracy: 0.84 - ETA: 2s - loss: 0.4357 - accuracy: 0.84 - ETA: 2s - loss: 0.4368 - accuracy: 0.84 - ETA: 2s - loss: 0.4375 - accuracy: 0.84 - ETA: 2s - loss: 0.4376 - accuracy: 0.84 - ETA: 2s - loss: 0.4380 - accuracy: 0.84 - ETA: 2s - loss: 0.4384 - accuracy: 0.84 - ETA: 2s - loss: 0.4394 - accuracy: 0.84 - ETA: 2s - loss: 0.4389 - accuracy: 0.84 - ETA: 2s - loss: 0.4390 - accuracy: 0.84 - ETA: 2s - loss: 0.4406 - accuracy: 0.84 - ETA: 2s - loss: 0.4397 - accuracy: 0.84 - ETA: 1s - loss: 0.4395 - accuracy: 0.84 - ETA: 1s - loss: 0.4389 - accuracy: 0.84 - ETA: 1s - loss: 0.4384 - accuracy: 0.84 - ETA: 1s - loss: 0.4390 - accuracy: 0.84 - ETA: 1s - loss: 0.4385 - accuracy: 0.84 - ETA: 1s - loss: 0.4388 - accuracy: 0.84 - ETA: 1s - loss: 0.4382 - accuracy: 0.84 - ETA: 1s - loss: 0.4384 - accuracy: 0.84 - ETA: 1s - loss: 0.4380 - accuracy: 0.84 - ETA: 1s - loss: 0.4375 - accuracy: 0.84 - ETA: 1s - loss: 0.4365 - accuracy: 0.84 - ETA: 1s - loss: 0.4359 - accuracy: 0.84 - ETA: 1s - loss: 0.4371 - accuracy: 0.84 - ETA: 1s - loss: 0.4362 - accuracy: 0.84 - ETA: 1s - loss: 0.4361 - accuracy: 0.84 - ETA: 1s - loss: 0.4371 - accuracy: 0.84 - ETA: 1s - loss: 0.4371 - accuracy: 0.84 - ETA: 1s - loss: 0.4375 - accuracy: 0.84 - ETA: 0s - loss: 0.4377 - accuracy: 0.84 - ETA: 0s - loss: 0.4370 - accuracy: 0.84 - ETA: 0s - loss: 0.4365 - accuracy: 0.84 - ETA: 0s - loss: 0.4365 - accuracy: 0.84 - ETA: 0s - loss: 0.4362 - accuracy: 0.84 - ETA: 0s - loss: 0.4360 - accuracy: 0.84 - ETA: 0s - loss: 0.4357 - accuracy: 0.84 - ETA: 0s - loss: 0.4360 - accuracy: 0.84 - ETA: 0s - loss: 0.4365 - accuracy: 0.84 - ETA: 0s - loss: 0.4375 - accuracy: 0.84 - ETA: 0s - loss: 0.4370 - accuracy: 0.84 - ETA: 0s - loss: 0.4371 - accuracy: 0.84 - ETA: 0s - loss: 0.4369 - accuracy: 0.84 - ETA: 0s - loss: 0.4373 - accuracy: 0.84 - ETA: 0s - loss: 0.4369 - accuracy: 0.84 - ETA: 0s - loss: 0.4363 - accuracy: 0.84 - 6s 3ms/step - loss: 0.4363 - accuracy: 0.8421 - val_loss: 0.4801 - val_accuracy: 0.8302\n",
      "Epoch 3/4\n"
     ]
    },
    {
     "name": "stdout",
     "output_type": "stream",
     "text": [
      "1875/1875 [==============================] - ETA: 0s - loss: 0.2360 - accuracy: 0.93 - ETA: 7s - loss: 0.4313 - accuracy: 0.85 - ETA: 7s - loss: 0.4310 - accuracy: 0.85 - ETA: 6s - loss: 0.4393 - accuracy: 0.85 - ETA: 6s - loss: 0.4318 - accuracy: 0.84 - ETA: 6s - loss: 0.4213 - accuracy: 0.85 - ETA: 6s - loss: 0.4308 - accuracy: 0.84 - ETA: 5s - loss: 0.4258 - accuracy: 0.85 - ETA: 5s - loss: 0.4369 - accuracy: 0.84 - ETA: 5s - loss: 0.4339 - accuracy: 0.84 - ETA: 5s - loss: 0.4297 - accuracy: 0.84 - ETA: 5s - loss: 0.4246 - accuracy: 0.84 - ETA: 5s - loss: 0.4281 - accuracy: 0.84 - ETA: 5s - loss: 0.4281 - accuracy: 0.84 - ETA: 5s - loss: 0.4310 - accuracy: 0.84 - ETA: 4s - loss: 0.4292 - accuracy: 0.84 - ETA: 4s - loss: 0.4264 - accuracy: 0.84 - ETA: 4s - loss: 0.4279 - accuracy: 0.84 - ETA: 4s - loss: 0.4237 - accuracy: 0.84 - ETA: 4s - loss: 0.4236 - accuracy: 0.84 - ETA: 4s - loss: 0.4213 - accuracy: 0.84 - ETA: 4s - loss: 0.4237 - accuracy: 0.84 - ETA: 4s - loss: 0.4267 - accuracy: 0.84 - ETA: 4s - loss: 0.4256 - accuracy: 0.84 - ETA: 4s - loss: 0.4244 - accuracy: 0.84 - ETA: 4s - loss: 0.4241 - accuracy: 0.84 - ETA: 4s - loss: 0.4261 - accuracy: 0.84 - ETA: 4s - loss: 0.4267 - accuracy: 0.84 - ETA: 4s - loss: 0.4262 - accuracy: 0.84 - ETA: 4s - loss: 0.4283 - accuracy: 0.84 - ETA: 4s - loss: 0.4267 - accuracy: 0.84 - ETA: 4s - loss: 0.4250 - accuracy: 0.84 - ETA: 4s - loss: 0.4229 - accuracy: 0.84 - ETA: 4s - loss: 0.4230 - accuracy: 0.84 - ETA: 4s - loss: 0.4237 - accuracy: 0.84 - ETA: 4s - loss: 0.4234 - accuracy: 0.84 - ETA: 4s - loss: 0.4228 - accuracy: 0.84 - ETA: 3s - loss: 0.4217 - accuracy: 0.84 - ETA: 3s - loss: 0.4223 - accuracy: 0.84 - ETA: 3s - loss: 0.4217 - accuracy: 0.84 - ETA: 3s - loss: 0.4207 - accuracy: 0.84 - ETA: 3s - loss: 0.4198 - accuracy: 0.84 - ETA: 3s - loss: 0.4206 - accuracy: 0.84 - ETA: 3s - loss: 0.4228 - accuracy: 0.84 - ETA: 3s - loss: 0.4218 - accuracy: 0.84 - ETA: 3s - loss: 0.4209 - accuracy: 0.84 - ETA: 3s - loss: 0.4220 - accuracy: 0.84 - ETA: 3s - loss: 0.4220 - accuracy: 0.84 - ETA: 3s - loss: 0.4217 - accuracy: 0.84 - ETA: 2s - loss: 0.4228 - accuracy: 0.84 - ETA: 2s - loss: 0.4224 - accuracy: 0.84 - ETA: 2s - loss: 0.4232 - accuracy: 0.84 - ETA: 2s - loss: 0.4228 - accuracy: 0.84 - ETA: 2s - loss: 0.4211 - accuracy: 0.84 - ETA: 2s - loss: 0.4209 - accuracy: 0.84 - ETA: 2s - loss: 0.4188 - accuracy: 0.84 - ETA: 2s - loss: 0.4176 - accuracy: 0.84 - ETA: 2s - loss: 0.4171 - accuracy: 0.84 - ETA: 2s - loss: 0.4165 - accuracy: 0.84 - ETA: 2s - loss: 0.4152 - accuracy: 0.85 - ETA: 2s - loss: 0.4136 - accuracy: 0.85 - ETA: 2s - loss: 0.4141 - accuracy: 0.85 - ETA: 2s - loss: 0.4148 - accuracy: 0.85 - ETA: 2s - loss: 0.4165 - accuracy: 0.85 - ETA: 2s - loss: 0.4162 - accuracy: 0.85 - ETA: 1s - loss: 0.4159 - accuracy: 0.85 - ETA: 1s - loss: 0.4162 - accuracy: 0.85 - ETA: 1s - loss: 0.4160 - accuracy: 0.85 - ETA: 1s - loss: 0.4164 - accuracy: 0.85 - ETA: 1s - loss: 0.4160 - accuracy: 0.85 - ETA: 1s - loss: 0.4162 - accuracy: 0.85 - ETA: 1s - loss: 0.4161 - accuracy: 0.85 - ETA: 1s - loss: 0.4161 - accuracy: 0.85 - ETA: 1s - loss: 0.4167 - accuracy: 0.85 - ETA: 1s - loss: 0.4171 - accuracy: 0.85 - ETA: 1s - loss: 0.4174 - accuracy: 0.85 - ETA: 1s - loss: 0.4171 - accuracy: 0.85 - ETA: 1s - loss: 0.4165 - accuracy: 0.85 - ETA: 1s - loss: 0.4162 - accuracy: 0.85 - ETA: 1s - loss: 0.4155 - accuracy: 0.85 - ETA: 1s - loss: 0.4155 - accuracy: 0.85 - ETA: 0s - loss: 0.4155 - accuracy: 0.85 - ETA: 0s - loss: 0.4152 - accuracy: 0.85 - ETA: 0s - loss: 0.4148 - accuracy: 0.85 - ETA: 0s - loss: 0.4149 - accuracy: 0.85 - ETA: 0s - loss: 0.4145 - accuracy: 0.85 - ETA: 0s - loss: 0.4140 - accuracy: 0.85 - ETA: 0s - loss: 0.4140 - accuracy: 0.85 - ETA: 0s - loss: 0.4145 - accuracy: 0.85 - ETA: 0s - loss: 0.4141 - accuracy: 0.85 - ETA: 0s - loss: 0.4141 - accuracy: 0.85 - ETA: 0s - loss: 0.4134 - accuracy: 0.85 - ETA: 0s - loss: 0.4133 - accuracy: 0.85 - ETA: 0s - loss: 0.4122 - accuracy: 0.85 - ETA: 0s - loss: 0.4119 - accuracy: 0.85 - ETA: 0s - loss: 0.4114 - accuracy: 0.85 - ETA: 0s - loss: 0.4118 - accuracy: 0.85 - ETA: 0s - loss: 0.4119 - accuracy: 0.85 - ETA: 0s - loss: 0.4117 - accuracy: 0.85 - ETA: 0s - loss: 0.4121 - accuracy: 0.85 - 6s 3ms/step - loss: 0.4121 - accuracy: 0.8517 - val_loss: 0.4516 - val_accuracy: 0.8399\n",
      "Epoch 4/4\n"
     ]
    },
    {
     "name": "stdout",
     "output_type": "stream",
     "text": [
      "1875/1875 [==============================] - ETA: 1s - loss: 0.2595 - accuracy: 0.87 - ETA: 5s - loss: 0.4241 - accuracy: 0.83 - ETA: 5s - loss: 0.4263 - accuracy: 0.83 - ETA: 5s - loss: 0.4238 - accuracy: 0.84 - ETA: 5s - loss: 0.4147 - accuracy: 0.84 - ETA: 5s - loss: 0.3997 - accuracy: 0.84 - ETA: 5s - loss: 0.3937 - accuracy: 0.85 - ETA: 5s - loss: 0.4081 - accuracy: 0.85 - ETA: 4s - loss: 0.4004 - accuracy: 0.85 - ETA: 4s - loss: 0.3972 - accuracy: 0.85 - ETA: 4s - loss: 0.3991 - accuracy: 0.85 - ETA: 4s - loss: 0.4038 - accuracy: 0.84 - ETA: 4s - loss: 0.4021 - accuracy: 0.84 - ETA: 4s - loss: 0.4032 - accuracy: 0.84 - ETA: 4s - loss: 0.4087 - accuracy: 0.84 - ETA: 4s - loss: 0.4053 - accuracy: 0.84 - ETA: 4s - loss: 0.4063 - accuracy: 0.84 - ETA: 4s - loss: 0.4018 - accuracy: 0.84 - ETA: 4s - loss: 0.4038 - accuracy: 0.84 - ETA: 4s - loss: 0.4039 - accuracy: 0.85 - ETA: 4s - loss: 0.4042 - accuracy: 0.85 - ETA: 4s - loss: 0.4036 - accuracy: 0.85 - ETA: 4s - loss: 0.4018 - accuracy: 0.85 - ETA: 4s - loss: 0.4024 - accuracy: 0.85 - ETA: 4s - loss: 0.4010 - accuracy: 0.85 - ETA: 4s - loss: 0.4010 - accuracy: 0.85 - ETA: 4s - loss: 0.3988 - accuracy: 0.85 - ETA: 4s - loss: 0.3995 - accuracy: 0.85 - ETA: 4s - loss: 0.3978 - accuracy: 0.85 - ETA: 4s - loss: 0.3960 - accuracy: 0.85 - ETA: 4s - loss: 0.3977 - accuracy: 0.85 - ETA: 4s - loss: 0.3969 - accuracy: 0.85 - ETA: 4s - loss: 0.3974 - accuracy: 0.85 - ETA: 4s - loss: 0.3981 - accuracy: 0.85 - ETA: 4s - loss: 0.3975 - accuracy: 0.85 - ETA: 4s - loss: 0.3998 - accuracy: 0.85 - ETA: 4s - loss: 0.3997 - accuracy: 0.85 - ETA: 4s - loss: 0.3998 - accuracy: 0.85 - ETA: 4s - loss: 0.4000 - accuracy: 0.85 - ETA: 4s - loss: 0.3991 - accuracy: 0.85 - ETA: 4s - loss: 0.3979 - accuracy: 0.85 - ETA: 3s - loss: 0.3961 - accuracy: 0.85 - ETA: 3s - loss: 0.3945 - accuracy: 0.85 - ETA: 3s - loss: 0.3958 - accuracy: 0.85 - ETA: 3s - loss: 0.3969 - accuracy: 0.85 - ETA: 3s - loss: 0.3969 - accuracy: 0.85 - ETA: 3s - loss: 0.3972 - accuracy: 0.85 - ETA: 3s - loss: 0.3969 - accuracy: 0.85 - ETA: 3s - loss: 0.3964 - accuracy: 0.85 - ETA: 3s - loss: 0.3963 - accuracy: 0.85 - ETA: 3s - loss: 0.3968 - accuracy: 0.85 - ETA: 3s - loss: 0.3968 - accuracy: 0.85 - ETA: 3s - loss: 0.3955 - accuracy: 0.85 - ETA: 3s - loss: 0.3954 - accuracy: 0.85 - ETA: 3s - loss: 0.3949 - accuracy: 0.85 - ETA: 3s - loss: 0.3945 - accuracy: 0.85 - ETA: 3s - loss: 0.3956 - accuracy: 0.85 - ETA: 2s - loss: 0.3959 - accuracy: 0.85 - ETA: 2s - loss: 0.3955 - accuracy: 0.85 - ETA: 2s - loss: 0.3958 - accuracy: 0.85 - ETA: 2s - loss: 0.3949 - accuracy: 0.85 - ETA: 2s - loss: 0.3958 - accuracy: 0.85 - ETA: 2s - loss: 0.3963 - accuracy: 0.85 - ETA: 2s - loss: 0.3974 - accuracy: 0.85 - ETA: 2s - loss: 0.3971 - accuracy: 0.85 - ETA: 2s - loss: 0.3977 - accuracy: 0.85 - ETA: 2s - loss: 0.3980 - accuracy: 0.85 - ETA: 2s - loss: 0.3981 - accuracy: 0.85 - ETA: 2s - loss: 0.3975 - accuracy: 0.85 - ETA: 2s - loss: 0.3973 - accuracy: 0.85 - ETA: 2s - loss: 0.3970 - accuracy: 0.85 - ETA: 2s - loss: 0.3975 - accuracy: 0.85 - ETA: 2s - loss: 0.3983 - accuracy: 0.85 - ETA: 1s - loss: 0.3996 - accuracy: 0.85 - ETA: 1s - loss: 0.3990 - accuracy: 0.85 - ETA: 1s - loss: 0.3987 - accuracy: 0.85 - ETA: 1s - loss: 0.4002 - accuracy: 0.85 - ETA: 1s - loss: 0.4010 - accuracy: 0.85 - ETA: 1s - loss: 0.4019 - accuracy: 0.85 - ETA: 1s - loss: 0.4030 - accuracy: 0.85 - ETA: 1s - loss: 0.4035 - accuracy: 0.85 - ETA: 1s - loss: 0.4043 - accuracy: 0.85 - ETA: 1s - loss: 0.4036 - accuracy: 0.85 - ETA: 1s - loss: 0.4039 - accuracy: 0.85 - ETA: 1s - loss: 0.4038 - accuracy: 0.85 - ETA: 1s - loss: 0.4031 - accuracy: 0.85 - ETA: 1s - loss: 0.4028 - accuracy: 0.85 - ETA: 1s - loss: 0.4030 - accuracy: 0.85 - ETA: 1s - loss: 0.4037 - accuracy: 0.85 - ETA: 1s - loss: 0.4035 - accuracy: 0.85 - ETA: 1s - loss: 0.4034 - accuracy: 0.85 - ETA: 1s - loss: 0.4039 - accuracy: 0.85 - ETA: 1s - loss: 0.4038 - accuracy: 0.85 - ETA: 1s - loss: 0.4038 - accuracy: 0.85 - ETA: 1s - loss: 0.4040 - accuracy: 0.85 - ETA: 1s - loss: 0.4049 - accuracy: 0.85 - ETA: 0s - loss: 0.4041 - accuracy: 0.85 - ETA: 0s - loss: 0.4039 - accuracy: 0.85 - ETA: 0s - loss: 0.4038 - accuracy: 0.85 - ETA: 0s - loss: 0.4043 - accuracy: 0.85 - ETA: 0s - loss: 0.4042 - accuracy: 0.85 - ETA: 0s - loss: 0.4031 - accuracy: 0.85 - ETA: 0s - loss: 0.4034 - accuracy: 0.85 - ETA: 0s - loss: 0.4034 - accuracy: 0.85 - ETA: 0s - loss: 0.4033 - accuracy: 0.85 - ETA: 0s - loss: 0.4040 - accuracy: 0.85 - ETA: 0s - loss: 0.4038 - accuracy: 0.85 - ETA: 0s - loss: 0.4037 - accuracy: 0.85 - ETA: 0s - loss: 0.4033 - accuracy: 0.85 - ETA: 0s - loss: 0.4035 - accuracy: 0.85 - ETA: 0s - loss: 0.4037 - accuracy: 0.85 - ETA: 0s - loss: 0.4035 - accuracy: 0.85 - ETA: 0s - loss: 0.4043 - accuracy: 0.85 - ETA: 0s - loss: 0.4051 - accuracy: 0.85 - ETA: 0s - loss: 0.4053 - accuracy: 0.85 - ETA: 0s - loss: 0.4051 - accuracy: 0.85 - ETA: 0s - loss: 0.4048 - accuracy: 0.85 - ETA: 0s - loss: 0.4051 - accuracy: 0.85 - ETA: 0s - loss: 0.4049 - accuracy: 0.85 - 7s 4ms/step - loss: 0.4054 - accuracy: 0.8540 - val_loss: 0.4802 - val_accuracy: 0.8320\n"
     ]
    },
    {
     "data": {
      "text/html": [
       "<span style=\"color:#4527A0\"><h1 style=\"font-size:18px\">Trial complete</h1></span>"
      ],
      "text/plain": [
       "<IPython.core.display.HTML object>"
      ]
     },
     "metadata": {},
     "output_type": "display_data"
    },
    {
     "data": {
      "text/html": [
       "<span style=\"color:#4527A0\"><h1 style=\"font-size:18px\">Trial summary</h1></span>"
      ],
      "text/plain": [
       "<IPython.core.display.HTML object>"
      ]
     },
     "metadata": {},
     "output_type": "display_data"
    },
    {
     "data": {
      "text/html": [
       "<span style=\"color:cyan\"> |-Trial ID: 8899273b584a98896f262016490d4a50</span>"
      ],
      "text/plain": [
       "<IPython.core.display.HTML object>"
      ]
     },
     "metadata": {},
     "output_type": "display_data"
    },
    {
     "data": {
      "text/html": [
       "<span style=\"color:cyan\"> |-Score: 0.839900016784668</span>"
      ],
      "text/plain": [
       "<IPython.core.display.HTML object>"
      ]
     },
     "metadata": {},
     "output_type": "display_data"
    },
    {
     "data": {
      "text/html": [
       "<span style=\"color:cyan\"> |-Best step: 0</span>"
      ],
      "text/plain": [
       "<IPython.core.display.HTML object>"
      ]
     },
     "metadata": {},
     "output_type": "display_data"
    },
    {
     "data": {
      "text/html": [
       "<span style=\"color:#7E57C2\"><h2 style=\"font-size:16px\">Hyperparameters:</h2></span>"
      ],
      "text/plain": [
       "<IPython.core.display.HTML object>"
      ]
     },
     "metadata": {},
     "output_type": "display_data"
    },
    {
     "data": {
      "text/html": [
       "<span style=\"color:cyan\"> |-learning_rate: 0.01</span>"
      ],
      "text/plain": [
       "<IPython.core.display.HTML object>"
      ]
     },
     "metadata": {},
     "output_type": "display_data"
    },
    {
     "data": {
      "text/html": [
       "<span style=\"color:blue\"> |-tuner/bracket: 1</span>"
      ],
      "text/plain": [
       "<IPython.core.display.HTML object>"
      ]
     },
     "metadata": {},
     "output_type": "display_data"
    },
    {
     "data": {
      "text/html": [
       "<span style=\"color:cyan\"> |-tuner/epochs: 4</span>"
      ],
      "text/plain": [
       "<IPython.core.display.HTML object>"
      ]
     },
     "metadata": {},
     "output_type": "display_data"
    },
    {
     "data": {
      "text/html": [
       "<span style=\"color:blue\"> |-tuner/initial_epoch: 0</span>"
      ],
      "text/plain": [
       "<IPython.core.display.HTML object>"
      ]
     },
     "metadata": {},
     "output_type": "display_data"
    },
    {
     "data": {
      "text/html": [
       "<span style=\"color:cyan\"> |-tuner/round: 0</span>"
      ],
      "text/plain": [
       "<IPython.core.display.HTML object>"
      ]
     },
     "metadata": {},
     "output_type": "display_data"
    },
    {
     "data": {
      "text/html": [
       "<span style=\"color:blue\"> |-units: 224</span>"
      ],
      "text/plain": [
       "<IPython.core.display.HTML object>"
      ]
     },
     "metadata": {},
     "output_type": "display_data"
    },
    {
     "name": "stdout",
     "output_type": "stream",
     "text": [
      "Epoch 1/4\n",
      "   2/1875 [..............................] - ETA: 0s - loss: 2.4777 - accuracy: 0.12 - ETA: 11:56 - loss: 3.1262 - accuracy: 0.1719WARNING:tensorflow:Method (on_train_batch_end) is slow compared to the batch update (0.386723). Check your callbacks.\n"
     ]
    },
    {
     "name": "stdout",
     "output_type": "stream",
     "text": [
      "1800/1875 [===========================>..] - ETA: 1:15 - loss: 1.7306 - accuracy: 0.514 - ETA: 40s - loss: 1.2844 - accuracy: 0.6010 - ETA: 28s - loss: 1.1190 - accuracy: 0.641 - ETA: 22s - loss: 1.0176 - accuracy: 0.665 - ETA: 19s - loss: 0.9458 - accuracy: 0.687 - ETA: 16s - loss: 0.9029 - accuracy: 0.703 - ETA: 15s - loss: 0.8531 - accuracy: 0.717 - ETA: 13s - loss: 0.8220 - accuracy: 0.723 - ETA: 13s - loss: 0.7973 - accuracy: 0.729 - ETA: 12s - loss: 0.7756 - accuracy: 0.735 - ETA: 11s - loss: 0.7634 - accuracy: 0.738 - ETA: 11s - loss: 0.7560 - accuracy: 0.739 - ETA: 10s - loss: 0.7458 - accuracy: 0.742 - ETA: 10s - loss: 0.7347 - accuracy: 0.746 - ETA: 9s - loss: 0.7245 - accuracy: 0.749 - ETA: 9s - loss: 0.7177 - accuracy: 0.75 - ETA: 9s - loss: 0.7137 - accuracy: 0.75 - ETA: 8s - loss: 0.7074 - accuracy: 0.75 - ETA: 8s - loss: 0.7031 - accuracy: 0.75 - ETA: 8s - loss: 0.6935 - accuracy: 0.75 - ETA: 8s - loss: 0.6888 - accuracy: 0.76 - ETA: 8s - loss: 0.6827 - accuracy: 0.76 - ETA: 7s - loss: 0.6785 - accuracy: 0.76 - ETA: 7s - loss: 0.6719 - accuracy: 0.76 - ETA: 7s - loss: 0.6670 - accuracy: 0.76 - ETA: 7s - loss: 0.6646 - accuracy: 0.76 - ETA: 7s - loss: 0.6625 - accuracy: 0.76 - ETA: 7s - loss: 0.6593 - accuracy: 0.76 - ETA: 7s - loss: 0.6557 - accuracy: 0.77 - ETA: 7s - loss: 0.6544 - accuracy: 0.77 - ETA: 7s - loss: 0.6535 - accuracy: 0.77 - ETA: 7s - loss: 0.6514 - accuracy: 0.77 - ETA: 7s - loss: 0.6487 - accuracy: 0.77 - ETA: 7s - loss: 0.6486 - accuracy: 0.77 - ETA: 7s - loss: 0.6444 - accuracy: 0.77 - ETA: 7s - loss: 0.6413 - accuracy: 0.77 - ETA: 7s - loss: 0.6403 - accuracy: 0.77 - ETA: 7s - loss: 0.6391 - accuracy: 0.77 - ETA: 7s - loss: 0.6385 - accuracy: 0.77 - ETA: 7s - loss: 0.6370 - accuracy: 0.77 - ETA: 7s - loss: 0.6356 - accuracy: 0.77 - ETA: 7s - loss: 0.6354 - accuracy: 0.77 - ETA: 7s - loss: 0.6340 - accuracy: 0.77 - ETA: 7s - loss: 0.6342 - accuracy: 0.77 - ETA: 7s - loss: 0.6318 - accuracy: 0.77 - ETA: 7s - loss: 0.6311 - accuracy: 0.77 - ETA: 7s - loss: 0.6302 - accuracy: 0.77 - ETA: 7s - loss: 0.6281 - accuracy: 0.78 - ETA: 7s - loss: 0.6274 - accuracy: 0.78 - ETA: 7s - loss: 0.6254 - accuracy: 0.78 - ETA: 7s - loss: 0.6238 - accuracy: 0.78 - ETA: 7s - loss: 0.6219 - accuracy: 0.78 - ETA: 7s - loss: 0.6212 - accuracy: 0.78 - ETA: 7s - loss: 0.6190 - accuracy: 0.78 - ETA: 7s - loss: 0.6169 - accuracy: 0.78 - ETA: 7s - loss: 0.6147 - accuracy: 0.78 - ETA: 7s - loss: 0.6125 - accuracy: 0.78 - ETA: 7s - loss: 0.6125 - accuracy: 0.78 - ETA: 7s - loss: 0.6101 - accuracy: 0.78 - ETA: 7s - loss: 0.6080 - accuracy: 0.78 - ETA: 7s - loss: 0.6064 - accuracy: 0.78 - ETA: 7s - loss: 0.6066 - accuracy: 0.78 - ETA: 7s - loss: 0.6063 - accuracy: 0.78 - ETA: 7s - loss: 0.6059 - accuracy: 0.78 - ETA: 7s - loss: 0.6044 - accuracy: 0.78 - ETA: 7s - loss: 0.6042 - accuracy: 0.78 - ETA: 7s - loss: 0.6031 - accuracy: 0.78 - ETA: 7s - loss: 0.6021 - accuracy: 0.78 - ETA: 7s - loss: 0.6019 - accuracy: 0.78 - ETA: 7s - loss: 0.6021 - accuracy: 0.78 - ETA: 7s - loss: 0.6019 - accuracy: 0.78 - ETA: 7s - loss: 0.6006 - accuracy: 0.78 - ETA: 7s - loss: 0.6003 - accuracy: 0.78 - ETA: 7s - loss: 0.6001 - accuracy: 0.78 - ETA: 7s - loss: 0.5997 - accuracy: 0.78 - ETA: 7s - loss: 0.5990 - accuracy: 0.78 - ETA: 7s - loss: 0.5981 - accuracy: 0.78 - ETA: 7s - loss: 0.5971 - accuracy: 0.78 - ETA: 7s - loss: 0.5963 - accuracy: 0.78 - ETA: 7s - loss: 0.5956 - accuracy: 0.79 - ETA: 7s - loss: 0.5950 - accuracy: 0.79 - ETA: 7s - loss: 0.5941 - accuracy: 0.79 - ETA: 7s - loss: 0.5935 - accuracy: 0.79 - ETA: 7s - loss: 0.5930 - accuracy: 0.79 - ETA: 7s - loss: 0.5930 - accuracy: 0.79 - ETA: 7s - loss: 0.5928 - accuracy: 0.79 - ETA: 7s - loss: 0.5917 - accuracy: 0.79 - ETA: 7s - loss: 0.5913 - accuracy: 0.79 - ETA: 7s - loss: 0.5906 - accuracy: 0.79 - ETA: 7s - loss: 0.5897 - accuracy: 0.79 - ETA: 7s - loss: 0.5891 - accuracy: 0.79 - ETA: 7s - loss: 0.5877 - accuracy: 0.79 - ETA: 7s - loss: 0.5869 - accuracy: 0.79 - ETA: 7s - loss: 0.5870 - accuracy: 0.79 - ETA: 7s - loss: 0.5870 - accuracy: 0.79 - ETA: 7s - loss: 0.5861 - accuracy: 0.79 - ETA: 7s - loss: 0.5852 - accuracy: 0.79 - ETA: 7s - loss: 0.5840 - accuracy: 0.79 - ETA: 7s - loss: 0.5828 - accuracy: 0.79 - ETA: 7s - loss: 0.5824 - accuracy: 0.79 - ETA: 7s - loss: 0.5815 - accuracy: 0.79 - ETA: 7s - loss: 0.5815 - accuracy: 0.79 - ETA: 7s - loss: 0.5809 - accuracy: 0.79 - ETA: 7s - loss: 0.5806 - accuracy: 0.79 - ETA: 7s - loss: 0.5806 - accuracy: 0.79 - ETA: 7s - loss: 0.5805 - accuracy: 0.79 - ETA: 7s - loss: 0.5800 - accuracy: 0.79 - ETA: 7s - loss: 0.5796 - accuracy: 0.79 - ETA: 7s - loss: 0.5793 - accuracy: 0.79 - ETA: 7s - loss: 0.5787 - accuracy: 0.79 - ETA: 7s - loss: 0.5783 - accuracy: 0.79 - ETA: 8s - loss: 0.5784 - accuracy: 0.79 - ETA: 7s - loss: 0.5775 - accuracy: 0.79 - ETA: 7s - loss: 0.5778 - accuracy: 0.79 - ETA: 7s - loss: 0.5777 - accuracy: 0.79 - ETA: 7s - loss: 0.5766 - accuracy: 0.79 - ETA: 7s - loss: 0.5767 - accuracy: 0.79 - ETA: 7s - loss: 0.5758 - accuracy: 0.79 - ETA: 7s - loss: 0.5748 - accuracy: 0.79 - ETA: 7s - loss: 0.5744 - accuracy: 0.79 - ETA: 7s - loss: 0.5726 - accuracy: 0.79 - ETA: 7s - loss: 0.5715 - accuracy: 0.79 - ETA: 7s - loss: 0.5700 - accuracy: 0.79 - ETA: 7s - loss: 0.5696 - accuracy: 0.79 - ETA: 7s - loss: 0.5691 - accuracy: 0.79 - ETA: 7s - loss: 0.5692 - accuracy: 0.79 - ETA: 6s - loss: 0.5689 - accuracy: 0.79 - ETA: 6s - loss: 0.5683 - accuracy: 0.79 - ETA: 6s - loss: 0.5675 - accuracy: 0.79 - ETA: 6s - loss: 0.5656 - accuracy: 0.79 - ETA: 6s - loss: 0.5638 - accuracy: 0.80 - ETA: 6s - loss: 0.5618 - accuracy: 0.80 - ETA: 6s - loss: 0.5608 - accuracy: 0.80 - ETA: 6s - loss: 0.5608 - accuracy: 0.80 - ETA: 5s - loss: 0.5600 - accuracy: 0.80 - ETA: 5s - loss: 0.5598 - accuracy: 0.80 - ETA: 5s - loss: 0.5599 - accuracy: 0.80 - ETA: 5s - loss: 0.5586 - accuracy: 0.80 - ETA: 5s - loss: 0.5567 - accuracy: 0.80 - ETA: 5s - loss: 0.5557 - accuracy: 0.80 - ETA: 5s - loss: 0.5542 - accuracy: 0.80 - ETA: 5s - loss: 0.5539 - accuracy: 0.80 - ETA: 5s - loss: 0.5528 - accuracy: 0.80 - ETA: 4s - loss: 0.5515 - accuracy: 0.80 - ETA: 4s - loss: 0.5513 - accuracy: 0.80 - ETA: 4s - loss: 0.5502 - accuracy: 0.80 - ETA: 4s - loss: 0.5490 - accuracy: 0.80 - ETA: 4s - loss: 0.5491 - accuracy: 0.80 - ETA: 4s - loss: 0.5489 - accuracy: 0.80 - ETA: 4s - loss: 0.5482 - accuracy: 0.80 - ETA: 4s - loss: 0.5472 - accuracy: 0.80 - ETA: 4s - loss: 0.5466 - accuracy: 0.80 - ETA: 4s - loss: 0.5463 - accuracy: 0.80 - ETA: 4s - loss: 0.5454 - accuracy: 0.80 - ETA: 4s - loss: 0.5445 - accuracy: 0.80 - ETA: 4s - loss: 0.5442 - accuracy: 0.80 - ETA: 4s - loss: 0.5432 - accuracy: 0.80 - ETA: 3s - loss: 0.5423 - accuracy: 0.80 - ETA: 3s - loss: 0.5412 - accuracy: 0.80 - ETA: 3s - loss: 0.5407 - accuracy: 0.80 - ETA: 3s - loss: 0.5401 - accuracy: 0.80 - ETA: 3s - loss: 0.5395 - accuracy: 0.80 - ETA: 3s - loss: 0.5393 - accuracy: 0.80 - ETA: 3s - loss: 0.5395 - accuracy: 0.80 - ETA: 3s - loss: 0.5385 - accuracy: 0.80 - ETA: 3s - loss: 0.5379 - accuracy: 0.80 - ETA: 3s - loss: 0.5374 - accuracy: 0.81 - ETA: 3s - loss: 0.5366 - accuracy: 0.81 - ETA: 2s - loss: 0.5364 - accuracy: 0.81 - ETA: 2s - loss: 0.5355 - accuracy: 0.81 - ETA: 2s - loss: 0.5345 - accuracy: 0.81 - ETA: 2s - loss: 0.5342 - accuracy: 0.81 - ETA: 2s - loss: 0.5334 - accuracy: 0.81 - ETA: 2s - loss: 0.5326 - accuracy: 0.81 - ETA: 2s - loss: 0.5321 - accuracy: 0.81 - ETA: 2s - loss: 0.5314 - accuracy: 0.81 - ETA: 2s - loss: 0.5301 - accuracy: 0.81 - ETA: 2s - loss: 0.5292 - accuracy: 0.81 - ETA: 1s - loss: 0.5296 - accuracy: 0.81 - ETA: 1s - loss: 0.5288 - accuracy: 0.81 - ETA: 1s - loss: 0.5288 - accuracy: 0.81 - ETA: 1s - loss: 0.5282 - accuracy: 0.81 - ETA: 1s - loss: 0.5275 - accuracy: 0.81 - ETA: 1s - loss: 0.5262 - accuracy: 0.81 - ETA: 1s - loss: 0.5256 - accuracy: 0.81 - ETA: 1s - loss: 0.5255 - accuracy: 0.81 - ETA: 1s - loss: 0.5253 - accuracy: 0.81 - ETA: 0s - loss: 0.5247 - accuracy: 0.81 - ETA: 0s - loss: 0.5244 - accuracy: 0.81 - ETA: 0s - loss: 0.5238 - accuracy: 0.81 - ETA: 0s - loss: 0.5231 - accuracy: 0.81 - ETA: 0s - loss: 0.5223 - accuracy: 0.81 - ETA: 0s - loss: 0.5218 - accuracy: 0.81 - ETA: 0s - loss: 0.5217 - accuracy: 0.8157"
     ]
    },
    {
     "name": "stdout",
     "output_type": "stream",
     "text": [
      "1875/1875 [==============================] - ETA: 0s - loss: 0.5214 - accuracy: 0.81 - ETA: 0s - loss: 0.5214 - accuracy: 0.81 - ETA: 0s - loss: 0.5209 - accuracy: 0.81 - ETA: 0s - loss: 0.5209 - accuracy: 0.81 - ETA: 0s - loss: 0.5206 - accuracy: 0.81 - 12s 7ms/step - loss: 0.5203 - accuracy: 0.8159 - val_loss: 0.4915 - val_accuracy: 0.8334\n",
      "Epoch 2/4\n",
      "1875/1875 [==============================] - ETA: 0s - loss: 0.3582 - accuracy: 0.87 - ETA: 5s - loss: 0.5080 - accuracy: 0.83 - ETA: 5s - loss: 0.4463 - accuracy: 0.84 - ETA: 5s - loss: 0.4295 - accuracy: 0.84 - ETA: 5s - loss: 0.4233 - accuracy: 0.84 - ETA: 5s - loss: 0.4379 - accuracy: 0.84 - ETA: 5s - loss: 0.4287 - accuracy: 0.84 - ETA: 5s - loss: 0.4194 - accuracy: 0.84 - ETA: 5s - loss: 0.4143 - accuracy: 0.85 - ETA: 5s - loss: 0.4100 - accuracy: 0.85 - ETA: 5s - loss: 0.4049 - accuracy: 0.85 - ETA: 5s - loss: 0.4085 - accuracy: 0.85 - ETA: 5s - loss: 0.4137 - accuracy: 0.85 - ETA: 5s - loss: 0.4178 - accuracy: 0.85 - ETA: 5s - loss: 0.4236 - accuracy: 0.84 - ETA: 5s - loss: 0.4251 - accuracy: 0.84 - ETA: 5s - loss: 0.4212 - accuracy: 0.84 - ETA: 5s - loss: 0.4184 - accuracy: 0.84 - ETA: 5s - loss: 0.4232 - accuracy: 0.84 - ETA: 5s - loss: 0.4266 - accuracy: 0.84 - ETA: 5s - loss: 0.4288 - accuracy: 0.84 - ETA: 5s - loss: 0.4259 - accuracy: 0.84 - ETA: 5s - loss: 0.4248 - accuracy: 0.84 - ETA: 5s - loss: 0.4261 - accuracy: 0.84 - ETA: 5s - loss: 0.4255 - accuracy: 0.84 - ETA: 5s - loss: 0.4250 - accuracy: 0.84 - ETA: 5s - loss: 0.4249 - accuracy: 0.84 - ETA: 5s - loss: 0.4260 - accuracy: 0.84 - ETA: 5s - loss: 0.4266 - accuracy: 0.84 - ETA: 5s - loss: 0.4264 - accuracy: 0.84 - ETA: 5s - loss: 0.4253 - accuracy: 0.84 - ETA: 5s - loss: 0.4253 - accuracy: 0.84 - ETA: 5s - loss: 0.4247 - accuracy: 0.84 - ETA: 5s - loss: 0.4232 - accuracy: 0.84 - ETA: 5s - loss: 0.4282 - accuracy: 0.84 - ETA: 5s - loss: 0.4285 - accuracy: 0.84 - ETA: 5s - loss: 0.4314 - accuracy: 0.84 - ETA: 5s - loss: 0.4331 - accuracy: 0.84 - ETA: 5s - loss: 0.4332 - accuracy: 0.84 - ETA: 5s - loss: 0.4319 - accuracy: 0.84 - ETA: 5s - loss: 0.4307 - accuracy: 0.84 - ETA: 5s - loss: 0.4304 - accuracy: 0.84 - ETA: 5s - loss: 0.4286 - accuracy: 0.84 - ETA: 5s - loss: 0.4293 - accuracy: 0.84 - ETA: 5s - loss: 0.4305 - accuracy: 0.84 - ETA: 5s - loss: 0.4298 - accuracy: 0.84 - ETA: 5s - loss: 0.4291 - accuracy: 0.84 - ETA: 5s - loss: 0.4281 - accuracy: 0.84 - ETA: 4s - loss: 0.4293 - accuracy: 0.84 - ETA: 4s - loss: 0.4278 - accuracy: 0.84 - ETA: 4s - loss: 0.4281 - accuracy: 0.84 - ETA: 4s - loss: 0.4275 - accuracy: 0.84 - ETA: 4s - loss: 0.4279 - accuracy: 0.84 - ETA: 4s - loss: 0.4281 - accuracy: 0.84 - ETA: 4s - loss: 0.4270 - accuracy: 0.84 - ETA: 4s - loss: 0.4262 - accuracy: 0.84 - ETA: 4s - loss: 0.4271 - accuracy: 0.84 - ETA: 4s - loss: 0.4275 - accuracy: 0.84 - ETA: 4s - loss: 0.4269 - accuracy: 0.84 - ETA: 4s - loss: 0.4284 - accuracy: 0.84 - ETA: 4s - loss: 0.4284 - accuracy: 0.84 - ETA: 4s - loss: 0.4284 - accuracy: 0.84 - ETA: 4s - loss: 0.4277 - accuracy: 0.84 - ETA: 4s - loss: 0.4264 - accuracy: 0.84 - ETA: 4s - loss: 0.4276 - accuracy: 0.84 - ETA: 3s - loss: 0.4262 - accuracy: 0.84 - ETA: 3s - loss: 0.4256 - accuracy: 0.84 - ETA: 3s - loss: 0.4264 - accuracy: 0.84 - ETA: 3s - loss: 0.4266 - accuracy: 0.84 - ETA: 3s - loss: 0.4262 - accuracy: 0.84 - ETA: 3s - loss: 0.4262 - accuracy: 0.84 - ETA: 3s - loss: 0.4256 - accuracy: 0.84 - ETA: 3s - loss: 0.4257 - accuracy: 0.84 - ETA: 3s - loss: 0.4264 - accuracy: 0.84 - ETA: 3s - loss: 0.4277 - accuracy: 0.84 - ETA: 3s - loss: 0.4279 - accuracy: 0.84 - ETA: 3s - loss: 0.4288 - accuracy: 0.84 - ETA: 3s - loss: 0.4282 - accuracy: 0.84 - ETA: 3s - loss: 0.4279 - accuracy: 0.84 - ETA: 3s - loss: 0.4279 - accuracy: 0.84 - ETA: 3s - loss: 0.4285 - accuracy: 0.84 - ETA: 3s - loss: 0.4289 - accuracy: 0.84 - ETA: 3s - loss: 0.4303 - accuracy: 0.84 - ETA: 3s - loss: 0.4303 - accuracy: 0.84 - ETA: 3s - loss: 0.4298 - accuracy: 0.84 - ETA: 3s - loss: 0.4307 - accuracy: 0.84 - ETA: 3s - loss: 0.4303 - accuracy: 0.84 - ETA: 3s - loss: 0.4298 - accuracy: 0.84 - ETA: 3s - loss: 0.4304 - accuracy: 0.84 - ETA: 2s - loss: 0.4317 - accuracy: 0.84 - ETA: 2s - loss: 0.4328 - accuracy: 0.84 - ETA: 2s - loss: 0.4325 - accuracy: 0.84 - ETA: 2s - loss: 0.4327 - accuracy: 0.84 - ETA: 2s - loss: 0.4325 - accuracy: 0.84 - ETA: 2s - loss: 0.4333 - accuracy: 0.84 - ETA: 2s - loss: 0.4333 - accuracy: 0.84 - ETA: 2s - loss: 0.4334 - accuracy: 0.84 - ETA: 2s - loss: 0.4335 - accuracy: 0.84 - ETA: 2s - loss: 0.4339 - accuracy: 0.84 - ETA: 2s - loss: 0.4333 - accuracy: 0.84 - ETA: 2s - loss: 0.4328 - accuracy: 0.84 - ETA: 2s - loss: 0.4327 - accuracy: 0.84 - ETA: 1s - loss: 0.4328 - accuracy: 0.84 - ETA: 1s - loss: 0.4325 - accuracy: 0.84 - ETA: 1s - loss: 0.4324 - accuracy: 0.84 - ETA: 1s - loss: 0.4326 - accuracy: 0.84 - ETA: 1s - loss: 0.4330 - accuracy: 0.84 - ETA: 1s - loss: 0.4329 - accuracy: 0.84 - ETA: 1s - loss: 0.4321 - accuracy: 0.84 - ETA: 1s - loss: 0.4318 - accuracy: 0.84 - ETA: 1s - loss: 0.4312 - accuracy: 0.84 - ETA: 1s - loss: 0.4314 - accuracy: 0.84 - ETA: 1s - loss: 0.4321 - accuracy: 0.84 - ETA: 1s - loss: 0.4317 - accuracy: 0.84 - ETA: 1s - loss: 0.4319 - accuracy: 0.84 - ETA: 1s - loss: 0.4318 - accuracy: 0.84 - ETA: 1s - loss: 0.4317 - accuracy: 0.84 - ETA: 0s - loss: 0.4314 - accuracy: 0.84 - ETA: 0s - loss: 0.4309 - accuracy: 0.84 - ETA: 0s - loss: 0.4305 - accuracy: 0.84 - ETA: 0s - loss: 0.4307 - accuracy: 0.84 - ETA: 0s - loss: 0.4307 - accuracy: 0.84 - ETA: 0s - loss: 0.4308 - accuracy: 0.84 - ETA: 0s - loss: 0.4316 - accuracy: 0.84 - ETA: 0s - loss: 0.4308 - accuracy: 0.84 - ETA: 0s - loss: 0.4303 - accuracy: 0.84 - ETA: 0s - loss: 0.4306 - accuracy: 0.84 - ETA: 0s - loss: 0.4309 - accuracy: 0.84 - 7s 4ms/step - loss: 0.4311 - accuracy: 0.8452 - val_loss: 0.4824 - val_accuracy: 0.8372\n",
      "Epoch 3/4\n"
     ]
    },
    {
     "name": "stdout",
     "output_type": "stream",
     "text": [
      "1875/1875 [==============================] - ETA: 0s - loss: 0.4031 - accuracy: 0.81 - ETA: 4s - loss: 0.4693 - accuracy: 0.83 - ETA: 5s - loss: 0.4349 - accuracy: 0.84 - ETA: 5s - loss: 0.4363 - accuracy: 0.84 - ETA: 5s - loss: 0.4271 - accuracy: 0.84 - ETA: 5s - loss: 0.4292 - accuracy: 0.84 - ETA: 4s - loss: 0.4412 - accuracy: 0.84 - ETA: 4s - loss: 0.4325 - accuracy: 0.84 - ETA: 4s - loss: 0.4296 - accuracy: 0.84 - ETA: 4s - loss: 0.4310 - accuracy: 0.84 - ETA: 4s - loss: 0.4328 - accuracy: 0.84 - ETA: 4s - loss: 0.4276 - accuracy: 0.84 - ETA: 4s - loss: 0.4321 - accuracy: 0.84 - ETA: 4s - loss: 0.4256 - accuracy: 0.84 - ETA: 4s - loss: 0.4288 - accuracy: 0.84 - ETA: 4s - loss: 0.4269 - accuracy: 0.84 - ETA: 4s - loss: 0.4239 - accuracy: 0.84 - ETA: 3s - loss: 0.4241 - accuracy: 0.84 - ETA: 3s - loss: 0.4235 - accuracy: 0.84 - ETA: 3s - loss: 0.4245 - accuracy: 0.84 - ETA: 3s - loss: 0.4220 - accuracy: 0.84 - ETA: 3s - loss: 0.4206 - accuracy: 0.84 - ETA: 3s - loss: 0.4196 - accuracy: 0.84 - ETA: 3s - loss: 0.4195 - accuracy: 0.84 - ETA: 3s - loss: 0.4207 - accuracy: 0.84 - ETA: 3s - loss: 0.4192 - accuracy: 0.84 - ETA: 3s - loss: 0.4203 - accuracy: 0.84 - ETA: 3s - loss: 0.4201 - accuracy: 0.84 - ETA: 3s - loss: 0.4223 - accuracy: 0.84 - ETA: 3s - loss: 0.4207 - accuracy: 0.84 - ETA: 3s - loss: 0.4194 - accuracy: 0.84 - ETA: 3s - loss: 0.4229 - accuracy: 0.84 - ETA: 3s - loss: 0.4216 - accuracy: 0.84 - ETA: 3s - loss: 0.4195 - accuracy: 0.84 - ETA: 3s - loss: 0.4169 - accuracy: 0.84 - ETA: 3s - loss: 0.4148 - accuracy: 0.85 - ETA: 3s - loss: 0.4140 - accuracy: 0.85 - ETA: 3s - loss: 0.4149 - accuracy: 0.85 - ETA: 3s - loss: 0.4142 - accuracy: 0.85 - ETA: 3s - loss: 0.4140 - accuracy: 0.85 - ETA: 2s - loss: 0.4149 - accuracy: 0.85 - ETA: 2s - loss: 0.4159 - accuracy: 0.84 - ETA: 2s - loss: 0.4156 - accuracy: 0.84 - ETA: 2s - loss: 0.4150 - accuracy: 0.85 - ETA: 2s - loss: 0.4145 - accuracy: 0.85 - ETA: 2s - loss: 0.4125 - accuracy: 0.85 - ETA: 2s - loss: 0.4118 - accuracy: 0.85 - ETA: 2s - loss: 0.4113 - accuracy: 0.85 - ETA: 2s - loss: 0.4120 - accuracy: 0.85 - ETA: 2s - loss: 0.4125 - accuracy: 0.85 - ETA: 2s - loss: 0.4133 - accuracy: 0.84 - ETA: 2s - loss: 0.4121 - accuracy: 0.85 - ETA: 2s - loss: 0.4119 - accuracy: 0.85 - ETA: 2s - loss: 0.4117 - accuracy: 0.85 - ETA: 1s - loss: 0.4132 - accuracy: 0.85 - ETA: 1s - loss: 0.4119 - accuracy: 0.85 - ETA: 1s - loss: 0.4120 - accuracy: 0.85 - ETA: 1s - loss: 0.4129 - accuracy: 0.85 - ETA: 1s - loss: 0.4117 - accuracy: 0.85 - ETA: 1s - loss: 0.4123 - accuracy: 0.85 - ETA: 1s - loss: 0.4136 - accuracy: 0.85 - ETA: 1s - loss: 0.4135 - accuracy: 0.85 - ETA: 1s - loss: 0.4138 - accuracy: 0.85 - ETA: 1s - loss: 0.4138 - accuracy: 0.85 - ETA: 1s - loss: 0.4134 - accuracy: 0.85 - ETA: 1s - loss: 0.4135 - accuracy: 0.85 - ETA: 1s - loss: 0.4141 - accuracy: 0.85 - ETA: 1s - loss: 0.4141 - accuracy: 0.85 - ETA: 1s - loss: 0.4139 - accuracy: 0.85 - ETA: 1s - loss: 0.4142 - accuracy: 0.85 - ETA: 1s - loss: 0.4147 - accuracy: 0.85 - ETA: 1s - loss: 0.4141 - accuracy: 0.85 - ETA: 1s - loss: 0.4146 - accuracy: 0.85 - ETA: 0s - loss: 0.4144 - accuracy: 0.85 - ETA: 0s - loss: 0.4139 - accuracy: 0.85 - ETA: 0s - loss: 0.4137 - accuracy: 0.85 - ETA: 0s - loss: 0.4135 - accuracy: 0.85 - ETA: 0s - loss: 0.4138 - accuracy: 0.85 - ETA: 0s - loss: 0.4141 - accuracy: 0.85 - ETA: 0s - loss: 0.4146 - accuracy: 0.85 - ETA: 0s - loss: 0.4150 - accuracy: 0.85 - ETA: 0s - loss: 0.4150 - accuracy: 0.85 - ETA: 0s - loss: 0.4149 - accuracy: 0.85 - ETA: 0s - loss: 0.4149 - accuracy: 0.85 - ETA: 0s - loss: 0.4148 - accuracy: 0.85 - ETA: 0s - loss: 0.4139 - accuracy: 0.85 - ETA: 0s - loss: 0.4135 - accuracy: 0.85 - ETA: 0s - loss: 0.4131 - accuracy: 0.85 - ETA: 0s - loss: 0.4136 - accuracy: 0.85 - ETA: 0s - loss: 0.4141 - accuracy: 0.85 - ETA: 0s - loss: 0.4137 - accuracy: 0.85 - ETA: 0s - loss: 0.4138 - accuracy: 0.85 - ETA: 0s - loss: 0.4144 - accuracy: 0.85 - ETA: 0s - loss: 0.4136 - accuracy: 0.85 - ETA: 0s - loss: 0.4132 - accuracy: 0.85 - ETA: 0s - loss: 0.4129 - accuracy: 0.85 - ETA: 0s - loss: 0.4127 - accuracy: 0.85 - ETA: 0s - loss: 0.4128 - accuracy: 0.85 - ETA: 0s - loss: 0.4119 - accuracy: 0.85 - ETA: 0s - loss: 0.4109 - accuracy: 0.85 - 6s 3ms/step - loss: 0.4109 - accuracy: 0.8518 - val_loss: 0.5115 - val_accuracy: 0.8327\n",
      "Epoch 4/4\n"
     ]
    },
    {
     "name": "stdout",
     "output_type": "stream",
     "text": [
      "1875/1875 [==============================] - ETA: 0s - loss: 0.6913 - accuracy: 0.75 - ETA: 5s - loss: 0.4659 - accuracy: 0.81 - ETA: 5s - loss: 0.4609 - accuracy: 0.82 - ETA: 6s - loss: 0.4555 - accuracy: 0.83 - ETA: 6s - loss: 0.4257 - accuracy: 0.83 - ETA: 5s - loss: 0.4215 - accuracy: 0.84 - ETA: 5s - loss: 0.4212 - accuracy: 0.84 - ETA: 5s - loss: 0.4230 - accuracy: 0.84 - ETA: 5s - loss: 0.4156 - accuracy: 0.84 - ETA: 5s - loss: 0.4115 - accuracy: 0.84 - ETA: 5s - loss: 0.4094 - accuracy: 0.84 - ETA: 5s - loss: 0.4040 - accuracy: 0.85 - ETA: 5s - loss: 0.4066 - accuracy: 0.85 - ETA: 5s - loss: 0.4025 - accuracy: 0.85 - ETA: 5s - loss: 0.4006 - accuracy: 0.85 - ETA: 5s - loss: 0.4030 - accuracy: 0.85 - ETA: 5s - loss: 0.4014 - accuracy: 0.85 - ETA: 5s - loss: 0.4011 - accuracy: 0.85 - ETA: 5s - loss: 0.3984 - accuracy: 0.85 - ETA: 5s - loss: 0.3967 - accuracy: 0.85 - ETA: 5s - loss: 0.3977 - accuracy: 0.85 - ETA: 5s - loss: 0.3949 - accuracy: 0.85 - ETA: 5s - loss: 0.3945 - accuracy: 0.85 - ETA: 5s - loss: 0.3959 - accuracy: 0.85 - ETA: 5s - loss: 0.3980 - accuracy: 0.85 - ETA: 5s - loss: 0.3968 - accuracy: 0.85 - ETA: 5s - loss: 0.3985 - accuracy: 0.85 - ETA: 5s - loss: 0.3992 - accuracy: 0.85 - ETA: 5s - loss: 0.3987 - accuracy: 0.85 - ETA: 5s - loss: 0.3964 - accuracy: 0.85 - ETA: 5s - loss: 0.3941 - accuracy: 0.85 - ETA: 5s - loss: 0.3936 - accuracy: 0.85 - ETA: 5s - loss: 0.3949 - accuracy: 0.85 - ETA: 5s - loss: 0.3950 - accuracy: 0.85 - ETA: 5s - loss: 0.3925 - accuracy: 0.85 - ETA: 5s - loss: 0.3925 - accuracy: 0.85 - ETA: 5s - loss: 0.3928 - accuracy: 0.85 - ETA: 5s - loss: 0.3934 - accuracy: 0.85 - ETA: 5s - loss: 0.3953 - accuracy: 0.85 - ETA: 5s - loss: 0.3961 - accuracy: 0.85 - ETA: 5s - loss: 0.3972 - accuracy: 0.85 - ETA: 5s - loss: 0.3975 - accuracy: 0.85 - ETA: 5s - loss: 0.3976 - accuracy: 0.85 - ETA: 5s - loss: 0.3971 - accuracy: 0.85 - ETA: 5s - loss: 0.3963 - accuracy: 0.85 - ETA: 5s - loss: 0.3971 - accuracy: 0.85 - ETA: 5s - loss: 0.3975 - accuracy: 0.85 - ETA: 5s - loss: 0.3984 - accuracy: 0.85 - ETA: 5s - loss: 0.3979 - accuracy: 0.85 - ETA: 5s - loss: 0.3976 - accuracy: 0.85 - ETA: 5s - loss: 0.3980 - accuracy: 0.85 - ETA: 5s - loss: 0.3971 - accuracy: 0.85 - ETA: 5s - loss: 0.3991 - accuracy: 0.85 - ETA: 5s - loss: 0.3984 - accuracy: 0.85 - ETA: 5s - loss: 0.3988 - accuracy: 0.85 - ETA: 4s - loss: 0.3990 - accuracy: 0.85 - ETA: 4s - loss: 0.3985 - accuracy: 0.85 - ETA: 4s - loss: 0.3984 - accuracy: 0.85 - ETA: 4s - loss: 0.3992 - accuracy: 0.85 - ETA: 4s - loss: 0.3992 - accuracy: 0.85 - ETA: 4s - loss: 0.3998 - accuracy: 0.85 - ETA: 4s - loss: 0.3990 - accuracy: 0.85 - ETA: 4s - loss: 0.3989 - accuracy: 0.85 - ETA: 4s - loss: 0.4001 - accuracy: 0.85 - ETA: 4s - loss: 0.4005 - accuracy: 0.85 - ETA: 4s - loss: 0.4007 - accuracy: 0.85 - ETA: 4s - loss: 0.4004 - accuracy: 0.85 - ETA: 4s - loss: 0.4002 - accuracy: 0.85 - ETA: 4s - loss: 0.4005 - accuracy: 0.85 - ETA: 4s - loss: 0.4018 - accuracy: 0.85 - ETA: 4s - loss: 0.4021 - accuracy: 0.85 - ETA: 4s - loss: 0.4026 - accuracy: 0.85 - ETA: 4s - loss: 0.4018 - accuracy: 0.85 - ETA: 4s - loss: 0.4024 - accuracy: 0.85 - ETA: 4s - loss: 0.4039 - accuracy: 0.85 - ETA: 4s - loss: 0.4035 - accuracy: 0.85 - ETA: 4s - loss: 0.4027 - accuracy: 0.85 - ETA: 4s - loss: 0.4028 - accuracy: 0.85 - ETA: 4s - loss: 0.4031 - accuracy: 0.85 - ETA: 4s - loss: 0.4034 - accuracy: 0.85 - ETA: 4s - loss: 0.4031 - accuracy: 0.85 - ETA: 4s - loss: 0.4046 - accuracy: 0.85 - ETA: 4s - loss: 0.4048 - accuracy: 0.85 - ETA: 4s - loss: 0.4052 - accuracy: 0.85 - ETA: 4s - loss: 0.4042 - accuracy: 0.85 - ETA: 4s - loss: 0.4039 - accuracy: 0.85 - ETA: 4s - loss: 0.4045 - accuracy: 0.85 - ETA: 4s - loss: 0.4052 - accuracy: 0.85 - ETA: 4s - loss: 0.4050 - accuracy: 0.85 - ETA: 4s - loss: 0.4050 - accuracy: 0.85 - ETA: 4s - loss: 0.4044 - accuracy: 0.85 - ETA: 4s - loss: 0.4039 - accuracy: 0.85 - ETA: 3s - loss: 0.4050 - accuracy: 0.85 - ETA: 3s - loss: 0.4055 - accuracy: 0.85 - ETA: 3s - loss: 0.4052 - accuracy: 0.85 - ETA: 3s - loss: 0.4050 - accuracy: 0.85 - ETA: 3s - loss: 0.4053 - accuracy: 0.85 - ETA: 3s - loss: 0.4055 - accuracy: 0.85 - ETA: 3s - loss: 0.4051 - accuracy: 0.85 - ETA: 3s - loss: 0.4057 - accuracy: 0.85 - ETA: 3s - loss: 0.4052 - accuracy: 0.85 - ETA: 3s - loss: 0.4046 - accuracy: 0.85 - ETA: 3s - loss: 0.4048 - accuracy: 0.85 - ETA: 3s - loss: 0.4046 - accuracy: 0.85 - ETA: 3s - loss: 0.4043 - accuracy: 0.85 - ETA: 3s - loss: 0.4034 - accuracy: 0.85 - ETA: 3s - loss: 0.4037 - accuracy: 0.85 - ETA: 3s - loss: 0.4039 - accuracy: 0.85 - ETA: 3s - loss: 0.4039 - accuracy: 0.85 - ETA: 3s - loss: 0.4038 - accuracy: 0.85 - ETA: 3s - loss: 0.4035 - accuracy: 0.85 - ETA: 3s - loss: 0.4036 - accuracy: 0.85 - ETA: 3s - loss: 0.4043 - accuracy: 0.85 - ETA: 3s - loss: 0.4043 - accuracy: 0.85 - ETA: 3s - loss: 0.4040 - accuracy: 0.85 - ETA: 3s - loss: 0.4042 - accuracy: 0.85 - ETA: 3s - loss: 0.4048 - accuracy: 0.85 - ETA: 3s - loss: 0.4053 - accuracy: 0.85 - ETA: 3s - loss: 0.4050 - accuracy: 0.85 - ETA: 3s - loss: 0.4036 - accuracy: 0.85 - ETA: 3s - loss: 0.4033 - accuracy: 0.85 - ETA: 2s - loss: 0.4038 - accuracy: 0.85 - ETA: 2s - loss: 0.4036 - accuracy: 0.85 - ETA: 2s - loss: 0.4041 - accuracy: 0.85 - ETA: 2s - loss: 0.4035 - accuracy: 0.85 - ETA: 2s - loss: 0.4025 - accuracy: 0.85 - ETA: 2s - loss: 0.4028 - accuracy: 0.85 - ETA: 2s - loss: 0.4015 - accuracy: 0.85 - ETA: 2s - loss: 0.4018 - accuracy: 0.85 - ETA: 2s - loss: 0.4017 - accuracy: 0.85 - ETA: 2s - loss: 0.4021 - accuracy: 0.85 - ETA: 2s - loss: 0.4025 - accuracy: 0.85 - ETA: 1s - loss: 0.4020 - accuracy: 0.85 - ETA: 1s - loss: 0.4023 - accuracy: 0.85 - ETA: 1s - loss: 0.4019 - accuracy: 0.85 - ETA: 1s - loss: 0.4018 - accuracy: 0.85 - ETA: 1s - loss: 0.4012 - accuracy: 0.85 - ETA: 1s - loss: 0.4008 - accuracy: 0.85 - ETA: 1s - loss: 0.4004 - accuracy: 0.85 - ETA: 1s - loss: 0.4012 - accuracy: 0.85 - ETA: 1s - loss: 0.4012 - accuracy: 0.85 - ETA: 1s - loss: 0.4014 - accuracy: 0.85 - ETA: 1s - loss: 0.4017 - accuracy: 0.85 - ETA: 1s - loss: 0.4015 - accuracy: 0.85 - ETA: 1s - loss: 0.4019 - accuracy: 0.85 - ETA: 1s - loss: 0.4016 - accuracy: 0.85 - ETA: 0s - loss: 0.4019 - accuracy: 0.85 - ETA: 0s - loss: 0.4023 - accuracy: 0.85 - ETA: 0s - loss: 0.4018 - accuracy: 0.85 - ETA: 0s - loss: 0.4011 - accuracy: 0.85 - ETA: 0s - loss: 0.4011 - accuracy: 0.85 - ETA: 0s - loss: 0.4012 - accuracy: 0.85 - ETA: 0s - loss: 0.4009 - accuracy: 0.85 - ETA: 0s - loss: 0.4011 - accuracy: 0.85 - ETA: 0s - loss: 0.4005 - accuracy: 0.85 - ETA: 0s - loss: 0.4010 - accuracy: 0.85 - ETA: 0s - loss: 0.4004 - accuracy: 0.85 - ETA: 0s - loss: 0.4002 - accuracy: 0.85 - ETA: 0s - loss: 0.4004 - accuracy: 0.85 - 9s 5ms/step - loss: 0.4002 - accuracy: 0.8555 - val_loss: 0.4918 - val_accuracy: 0.8324\n"
     ]
    },
    {
     "data": {
      "text/html": [
       "<span style=\"color:#4527A0\"><h1 style=\"font-size:18px\">Trial complete</h1></span>"
      ],
      "text/plain": [
       "<IPython.core.display.HTML object>"
      ]
     },
     "metadata": {},
     "output_type": "display_data"
    },
    {
     "data": {
      "text/html": [
       "<span style=\"color:#4527A0\"><h1 style=\"font-size:18px\">Trial summary</h1></span>"
      ],
      "text/plain": [
       "<IPython.core.display.HTML object>"
      ]
     },
     "metadata": {},
     "output_type": "display_data"
    },
    {
     "data": {
      "text/html": [
       "<span style=\"color:cyan\"> |-Trial ID: 24e4dc49d317ae056c9de8b326b920d3</span>"
      ],
      "text/plain": [
       "<IPython.core.display.HTML object>"
      ]
     },
     "metadata": {},
     "output_type": "display_data"
    },
    {
     "data": {
      "text/html": [
       "<span style=\"color:cyan\"> |-Score: 0.8371999859809875</span>"
      ],
      "text/plain": [
       "<IPython.core.display.HTML object>"
      ]
     },
     "metadata": {},
     "output_type": "display_data"
    },
    {
     "data": {
      "text/html": [
       "<span style=\"color:cyan\"> |-Best step: 0</span>"
      ],
      "text/plain": [
       "<IPython.core.display.HTML object>"
      ]
     },
     "metadata": {},
     "output_type": "display_data"
    },
    {
     "data": {
      "text/html": [
       "<span style=\"color:#7E57C2\"><h2 style=\"font-size:16px\">Hyperparameters:</h2></span>"
      ],
      "text/plain": [
       "<IPython.core.display.HTML object>"
      ]
     },
     "metadata": {},
     "output_type": "display_data"
    },
    {
     "data": {
      "text/html": [
       "<span style=\"color:cyan\"> |-learning_rate: 0.01</span>"
      ],
      "text/plain": [
       "<IPython.core.display.HTML object>"
      ]
     },
     "metadata": {},
     "output_type": "display_data"
    },
    {
     "data": {
      "text/html": [
       "<span style=\"color:blue\"> |-tuner/bracket: 1</span>"
      ],
      "text/plain": [
       "<IPython.core.display.HTML object>"
      ]
     },
     "metadata": {},
     "output_type": "display_data"
    },
    {
     "data": {
      "text/html": [
       "<span style=\"color:cyan\"> |-tuner/epochs: 4</span>"
      ],
      "text/plain": [
       "<IPython.core.display.HTML object>"
      ]
     },
     "metadata": {},
     "output_type": "display_data"
    },
    {
     "data": {
      "text/html": [
       "<span style=\"color:blue\"> |-tuner/initial_epoch: 0</span>"
      ],
      "text/plain": [
       "<IPython.core.display.HTML object>"
      ]
     },
     "metadata": {},
     "output_type": "display_data"
    },
    {
     "data": {
      "text/html": [
       "<span style=\"color:cyan\"> |-tuner/round: 0</span>"
      ],
      "text/plain": [
       "<IPython.core.display.HTML object>"
      ]
     },
     "metadata": {},
     "output_type": "display_data"
    },
    {
     "data": {
      "text/html": [
       "<span style=\"color:blue\"> |-units: 128</span>"
      ],
      "text/plain": [
       "<IPython.core.display.HTML object>"
      ]
     },
     "metadata": {},
     "output_type": "display_data"
    },
    {
     "name": "stdout",
     "output_type": "stream",
     "text": [
      "Epoch 1/4\n",
      "   2/1875 [..............................] - ETA: 0s - loss: 2.3399 - accuracy: 0.12 - ETA: 21:15 - loss: 2.3966 - accuracy: 0.1250WARNING:tensorflow:Method (on_train_batch_end) is slow compared to the batch update (0.690691). Check your callbacks.\n",
      "1875/1875 [==============================] - ETA: 6:17 - loss: 2.2971 - accuracy: 0.147 - ETA: 3:02 - loss: 2.2220 - accuracy: 0.19 - ETA: 2:08 - loss: 2.1661 - accuracy: 0.20 - ETA: 1:33 - loss: 2.0913 - accuracy: 0.24 - ETA: 1:07 - loss: 1.9944 - accuracy: 0.32 - ETA: 52s - loss: 1.8934 - accuracy: 0.3971 - ETA: 42s - loss: 1.8059 - accuracy: 0.444 - ETA: 36s - loss: 1.7374 - accuracy: 0.474 - ETA: 32s - loss: 1.6751 - accuracy: 0.497 - ETA: 28s - loss: 1.6158 - accuracy: 0.520 - ETA: 26s - loss: 1.5684 - accuracy: 0.535 - ETA: 25s - loss: 1.5382 - accuracy: 0.545 - ETA: 23s - loss: 1.5025 - accuracy: 0.555 - ETA: 23s - loss: 1.4816 - accuracy: 0.561 - ETA: 23s - loss: 1.4747 - accuracy: 0.563 - ETA: 23s - loss: 1.4548 - accuracy: 0.570 - ETA: 21s - loss: 1.4244 - accuracy: 0.576 - ETA: 20s - loss: 1.3883 - accuracy: 0.586 - ETA: 19s - loss: 1.3580 - accuracy: 0.595 - ETA: 18s - loss: 1.3250 - accuracy: 0.603 - ETA: 17s - loss: 1.2982 - accuracy: 0.611 - ETA: 16s - loss: 1.2776 - accuracy: 0.615 - ETA: 16s - loss: 1.2628 - accuracy: 0.620 - ETA: 16s - loss: 1.2464 - accuracy: 0.624 - ETA: 15s - loss: 1.2290 - accuracy: 0.628 - ETA: 15s - loss: 1.2127 - accuracy: 0.632 - ETA: 14s - loss: 1.1952 - accuracy: 0.637 - ETA: 14s - loss: 1.1841 - accuracy: 0.640 - ETA: 14s - loss: 1.1720 - accuracy: 0.642 - ETA: 13s - loss: 1.1578 - accuracy: 0.646 - ETA: 13s - loss: 1.1443 - accuracy: 0.650 - ETA: 12s - loss: 1.1310 - accuracy: 0.653 - ETA: 12s - loss: 1.1185 - accuracy: 0.657 - ETA: 12s - loss: 1.1057 - accuracy: 0.660 - ETA: 11s - loss: 1.0922 - accuracy: 0.664 - ETA: 11s - loss: 1.0755 - accuracy: 0.670 - ETA: 11s - loss: 1.0620 - accuracy: 0.673 - ETA: 10s - loss: 1.0474 - accuracy: 0.676 - ETA: 10s - loss: 1.0367 - accuracy: 0.680 - ETA: 10s - loss: 1.0245 - accuracy: 0.683 - ETA: 9s - loss: 1.0125 - accuracy: 0.686 - ETA: 9s - loss: 1.0019 - accuracy: 0.69 - ETA: 9s - loss: 0.9918 - accuracy: 0.69 - ETA: 8s - loss: 0.9810 - accuracy: 0.69 - ETA: 8s - loss: 0.9698 - accuracy: 0.69 - ETA: 8s - loss: 0.9619 - accuracy: 0.70 - ETA: 8s - loss: 0.9561 - accuracy: 0.70 - ETA: 8s - loss: 0.9494 - accuracy: 0.70 - ETA: 7s - loss: 0.9416 - accuracy: 0.70 - ETA: 7s - loss: 0.9372 - accuracy: 0.70 - ETA: 7s - loss: 0.9316 - accuracy: 0.70 - ETA: 7s - loss: 0.9253 - accuracy: 0.71 - ETA: 7s - loss: 0.9190 - accuracy: 0.71 - ETA: 7s - loss: 0.9153 - accuracy: 0.71 - ETA: 7s - loss: 0.9105 - accuracy: 0.71 - ETA: 7s - loss: 0.9068 - accuracy: 0.71 - ETA: 6s - loss: 0.9024 - accuracy: 0.71 - ETA: 6s - loss: 0.8962 - accuracy: 0.71 - ETA: 6s - loss: 0.8906 - accuracy: 0.71 - ETA: 6s - loss: 0.8868 - accuracy: 0.71 - ETA: 6s - loss: 0.8815 - accuracy: 0.72 - ETA: 6s - loss: 0.8790 - accuracy: 0.72 - ETA: 6s - loss: 0.8754 - accuracy: 0.72 - ETA: 6s - loss: 0.8699 - accuracy: 0.72 - ETA: 6s - loss: 0.8641 - accuracy: 0.72 - ETA: 5s - loss: 0.8604 - accuracy: 0.72 - ETA: 5s - loss: 0.8561 - accuracy: 0.72 - ETA: 5s - loss: 0.8505 - accuracy: 0.72 - ETA: 5s - loss: 0.8468 - accuracy: 0.73 - ETA: 5s - loss: 0.8435 - accuracy: 0.73 - ETA: 5s - loss: 0.8402 - accuracy: 0.73 - ETA: 5s - loss: 0.8357 - accuracy: 0.73 - ETA: 5s - loss: 0.8329 - accuracy: 0.73 - ETA: 5s - loss: 0.8298 - accuracy: 0.73 - ETA: 4s - loss: 0.8271 - accuracy: 0.73 - ETA: 4s - loss: 0.8220 - accuracy: 0.73 - ETA: 4s - loss: 0.8184 - accuracy: 0.73 - ETA: 4s - loss: 0.8144 - accuracy: 0.74 - ETA: 4s - loss: 0.8109 - accuracy: 0.74 - ETA: 4s - loss: 0.8062 - accuracy: 0.74 - ETA: 4s - loss: 0.8040 - accuracy: 0.74 - ETA: 4s - loss: 0.8011 - accuracy: 0.74 - ETA: 4s - loss: 0.7989 - accuracy: 0.74 - ETA: 4s - loss: 0.7960 - accuracy: 0.74 - ETA: 4s - loss: 0.7946 - accuracy: 0.74 - ETA: 3s - loss: 0.7916 - accuracy: 0.74 - ETA: 3s - loss: 0.7878 - accuracy: 0.74 - ETA: 3s - loss: 0.7848 - accuracy: 0.74 - ETA: 3s - loss: 0.7813 - accuracy: 0.74 - ETA: 3s - loss: 0.7781 - accuracy: 0.75 - ETA: 3s - loss: 0.7752 - accuracy: 0.75 - ETA: 3s - loss: 0.7727 - accuracy: 0.75 - ETA: 3s - loss: 0.7699 - accuracy: 0.75 - ETA: 3s - loss: 0.7667 - accuracy: 0.75 - ETA: 2s - loss: 0.7643 - accuracy: 0.75 - ETA: 2s - loss: 0.7620 - accuracy: 0.75 - ETA: 2s - loss: 0.7601 - accuracy: 0.75 - ETA: 2s - loss: 0.7583 - accuracy: 0.75 - ETA: 2s - loss: 0.7574 - accuracy: 0.75 - ETA: 2s - loss: 0.7551 - accuracy: 0.75 - ETA: 2s - loss: 0.7529 - accuracy: 0.75 - ETA: 2s - loss: 0.7495 - accuracy: 0.75 - ETA: 2s - loss: 0.7469 - accuracy: 0.76 - ETA: 2s - loss: 0.7443 - accuracy: 0.76 - ETA: 2s - loss: 0.7416 - accuracy: 0.76 - ETA: 2s - loss: 0.7399 - accuracy: 0.76 - ETA: 2s - loss: 0.7376 - accuracy: 0.76 - ETA: 1s - loss: 0.7343 - accuracy: 0.76 - ETA: 1s - loss: 0.7322 - accuracy: 0.76 - ETA: 1s - loss: 0.7291 - accuracy: 0.76 - ETA: 1s - loss: 0.7260 - accuracy: 0.76 - ETA: 1s - loss: 0.7236 - accuracy: 0.76 - ETA: 1s - loss: 0.7214 - accuracy: 0.76 - ETA: 1s - loss: 0.7198 - accuracy: 0.76 - ETA: 1s - loss: 0.7177 - accuracy: 0.76 - ETA: 1s - loss: 0.7161 - accuracy: 0.76 - ETA: 1s - loss: 0.7140 - accuracy: 0.77 - ETA: 1s - loss: 0.7120 - accuracy: 0.77 - ETA: 1s - loss: 0.7102 - accuracy: 0.77 - ETA: 0s - loss: 0.7083 - accuracy: 0.77 - ETA: 0s - loss: 0.7063 - accuracy: 0.77 - ETA: 0s - loss: 0.7046 - accuracy: 0.77 - ETA: 0s - loss: 0.7035 - accuracy: 0.77 - ETA: 0s - loss: 0.7021 - accuracy: 0.77 - ETA: 0s - loss: 0.7004 - accuracy: 0.77 - ETA: 0s - loss: 0.6985 - accuracy: 0.77 - ETA: 0s - loss: 0.6970 - accuracy: 0.77 - ETA: 0s - loss: 0.6953 - accuracy: 0.77 - ETA: 0s - loss: 0.6939 - accuracy: 0.77 - ETA: 0s - loss: 0.6925 - accuracy: 0.77 - ETA: 0s - loss: 0.6910 - accuracy: 0.77 - ETA: 0s - loss: 0.6894 - accuracy: 0.77 - ETA: 0s - loss: 0.6885 - accuracy: 0.77 - ETA: 0s - loss: 0.6872 - accuracy: 0.77 - ETA: 0s - loss: 0.6859 - accuracy: 0.77 - 9s 5ms/step - loss: 0.6858 - accuracy: 0.7779 - val_loss: 0.5283 - val_accuracy: 0.8179\n",
      "Epoch 2/4\n"
     ]
    },
    {
     "name": "stdout",
     "output_type": "stream",
     "text": [
      "1875/1875 [==============================] - ETA: 0s - loss: 0.4109 - accuracy: 0.81 - ETA: 5s - loss: 0.5043 - accuracy: 0.82 - ETA: 5s - loss: 0.5185 - accuracy: 0.82 - ETA: 5s - loss: 0.5070 - accuracy: 0.82 - ETA: 5s - loss: 0.5153 - accuracy: 0.82 - ETA: 5s - loss: 0.5128 - accuracy: 0.82 - ETA: 5s - loss: 0.5128 - accuracy: 0.82 - ETA: 5s - loss: 0.5046 - accuracy: 0.82 - ETA: 5s - loss: 0.4990 - accuracy: 0.83 - ETA: 5s - loss: 0.4956 - accuracy: 0.83 - ETA: 4s - loss: 0.4905 - accuracy: 0.83 - ETA: 4s - loss: 0.4870 - accuracy: 0.83 - ETA: 4s - loss: 0.4841 - accuracy: 0.83 - ETA: 4s - loss: 0.4875 - accuracy: 0.83 - ETA: 4s - loss: 0.4860 - accuracy: 0.83 - ETA: 4s - loss: 0.4918 - accuracy: 0.83 - ETA: 4s - loss: 0.4908 - accuracy: 0.83 - ETA: 4s - loss: 0.4923 - accuracy: 0.83 - ETA: 4s - loss: 0.4912 - accuracy: 0.83 - ETA: 4s - loss: 0.4922 - accuracy: 0.83 - ETA: 4s - loss: 0.4919 - accuracy: 0.83 - ETA: 4s - loss: 0.4913 - accuracy: 0.83 - ETA: 4s - loss: 0.4931 - accuracy: 0.83 - ETA: 4s - loss: 0.4936 - accuracy: 0.83 - ETA: 4s - loss: 0.4926 - accuracy: 0.83 - ETA: 4s - loss: 0.4919 - accuracy: 0.83 - ETA: 4s - loss: 0.4907 - accuracy: 0.83 - ETA: 4s - loss: 0.4906 - accuracy: 0.83 - ETA: 4s - loss: 0.4892 - accuracy: 0.83 - ETA: 4s - loss: 0.4868 - accuracy: 0.83 - ETA: 4s - loss: 0.4865 - accuracy: 0.83 - ETA: 4s - loss: 0.4860 - accuracy: 0.83 - ETA: 4s - loss: 0.4854 - accuracy: 0.83 - ETA: 4s - loss: 0.4851 - accuracy: 0.83 - ETA: 3s - loss: 0.4829 - accuracy: 0.83 - ETA: 3s - loss: 0.4828 - accuracy: 0.83 - ETA: 3s - loss: 0.4833 - accuracy: 0.83 - ETA: 3s - loss: 0.4827 - accuracy: 0.83 - ETA: 3s - loss: 0.4829 - accuracy: 0.83 - ETA: 3s - loss: 0.4835 - accuracy: 0.83 - ETA: 3s - loss: 0.4845 - accuracy: 0.83 - ETA: 3s - loss: 0.4839 - accuracy: 0.83 - ETA: 3s - loss: 0.4847 - accuracy: 0.83 - ETA: 3s - loss: 0.4850 - accuracy: 0.83 - ETA: 3s - loss: 0.4842 - accuracy: 0.83 - ETA: 2s - loss: 0.4857 - accuracy: 0.83 - ETA: 2s - loss: 0.4844 - accuracy: 0.83 - ETA: 2s - loss: 0.4812 - accuracy: 0.83 - ETA: 2s - loss: 0.4813 - accuracy: 0.83 - ETA: 2s - loss: 0.4814 - accuracy: 0.83 - ETA: 2s - loss: 0.4801 - accuracy: 0.83 - ETA: 2s - loss: 0.4794 - accuracy: 0.83 - ETA: 2s - loss: 0.4795 - accuracy: 0.83 - ETA: 2s - loss: 0.4791 - accuracy: 0.83 - ETA: 2s - loss: 0.4797 - accuracy: 0.83 - ETA: 2s - loss: 0.4787 - accuracy: 0.83 - ETA: 2s - loss: 0.4766 - accuracy: 0.83 - ETA: 2s - loss: 0.4766 - accuracy: 0.83 - ETA: 1s - loss: 0.4755 - accuracy: 0.83 - ETA: 1s - loss: 0.4769 - accuracy: 0.83 - ETA: 1s - loss: 0.4763 - accuracy: 0.83 - ETA: 1s - loss: 0.4753 - accuracy: 0.83 - ETA: 1s - loss: 0.4750 - accuracy: 0.83 - ETA: 1s - loss: 0.4747 - accuracy: 0.83 - ETA: 1s - loss: 0.4741 - accuracy: 0.83 - ETA: 1s - loss: 0.4740 - accuracy: 0.83 - ETA: 1s - loss: 0.4742 - accuracy: 0.83 - ETA: 1s - loss: 0.4741 - accuracy: 0.83 - ETA: 1s - loss: 0.4735 - accuracy: 0.83 - ETA: 1s - loss: 0.4737 - accuracy: 0.83 - ETA: 1s - loss: 0.4728 - accuracy: 0.83 - ETA: 1s - loss: 0.4721 - accuracy: 0.83 - ETA: 1s - loss: 0.4718 - accuracy: 0.83 - ETA: 1s - loss: 0.4717 - accuracy: 0.83 - ETA: 1s - loss: 0.4708 - accuracy: 0.84 - ETA: 1s - loss: 0.4711 - accuracy: 0.84 - ETA: 0s - loss: 0.4712 - accuracy: 0.84 - ETA: 0s - loss: 0.4710 - accuracy: 0.84 - ETA: 0s - loss: 0.4713 - accuracy: 0.83 - ETA: 0s - loss: 0.4706 - accuracy: 0.84 - ETA: 0s - loss: 0.4707 - accuracy: 0.84 - ETA: 0s - loss: 0.4712 - accuracy: 0.83 - ETA: 0s - loss: 0.4705 - accuracy: 0.84 - ETA: 0s - loss: 0.4697 - accuracy: 0.84 - ETA: 0s - loss: 0.4692 - accuracy: 0.84 - ETA: 0s - loss: 0.4695 - accuracy: 0.84 - ETA: 0s - loss: 0.4696 - accuracy: 0.84 - ETA: 0s - loss: 0.4696 - accuracy: 0.84 - ETA: 0s - loss: 0.4692 - accuracy: 0.84 - ETA: 0s - loss: 0.4685 - accuracy: 0.84 - ETA: 0s - loss: 0.4678 - accuracy: 0.84 - ETA: 0s - loss: 0.4674 - accuracy: 0.84 - ETA: 0s - loss: 0.4669 - accuracy: 0.84 - 5s 3ms/step - loss: 0.4666 - accuracy: 0.8415 - val_loss: 0.4709 - val_accuracy: 0.8388\n",
      "Epoch 3/4\n",
      "1875/1875 [==============================] - ETA: 0s - loss: 0.6460 - accuracy: 0.84 - ETA: 5s - loss: 0.4788 - accuracy: 0.84 - ETA: 4s - loss: 0.4649 - accuracy: 0.84 - ETA: 4s - loss: 0.4501 - accuracy: 0.85 - ETA: 4s - loss: 0.4606 - accuracy: 0.84 - ETA: 4s - loss: 0.4452 - accuracy: 0.85 - ETA: 4s - loss: 0.4514 - accuracy: 0.84 - ETA: 4s - loss: 0.4482 - accuracy: 0.85 - ETA: 4s - loss: 0.4461 - accuracy: 0.84 - ETA: 4s - loss: 0.4380 - accuracy: 0.85 - ETA: 4s - loss: 0.4397 - accuracy: 0.84 - ETA: 4s - loss: 0.4324 - accuracy: 0.85 - ETA: 4s - loss: 0.4357 - accuracy: 0.85 - ETA: 4s - loss: 0.4326 - accuracy: 0.85 - ETA: 4s - loss: 0.4292 - accuracy: 0.85 - ETA: 4s - loss: 0.4257 - accuracy: 0.85 - ETA: 4s - loss: 0.4227 - accuracy: 0.85 - ETA: 3s - loss: 0.4251 - accuracy: 0.85 - ETA: 3s - loss: 0.4245 - accuracy: 0.85 - ETA: 3s - loss: 0.4250 - accuracy: 0.85 - ETA: 3s - loss: 0.4229 - accuracy: 0.85 - ETA: 3s - loss: 0.4254 - accuracy: 0.85 - ETA: 3s - loss: 0.4267 - accuracy: 0.85 - ETA: 3s - loss: 0.4284 - accuracy: 0.85 - ETA: 3s - loss: 0.4312 - accuracy: 0.85 - ETA: 3s - loss: 0.4317 - accuracy: 0.85 - ETA: 3s - loss: 0.4338 - accuracy: 0.85 - ETA: 3s - loss: 0.4338 - accuracy: 0.85 - ETA: 3s - loss: 0.4348 - accuracy: 0.85 - ETA: 3s - loss: 0.4341 - accuracy: 0.85 - ETA: 3s - loss: 0.4338 - accuracy: 0.85 - ETA: 3s - loss: 0.4337 - accuracy: 0.85 - ETA: 3s - loss: 0.4325 - accuracy: 0.85 - ETA: 3s - loss: 0.4313 - accuracy: 0.85 - ETA: 3s - loss: 0.4312 - accuracy: 0.85 - ETA: 3s - loss: 0.4317 - accuracy: 0.85 - ETA: 3s - loss: 0.4318 - accuracy: 0.85 - ETA: 3s - loss: 0.4315 - accuracy: 0.85 - ETA: 3s - loss: 0.4309 - accuracy: 0.85 - ETA: 2s - loss: 0.4301 - accuracy: 0.85 - ETA: 2s - loss: 0.4300 - accuracy: 0.85 - ETA: 2s - loss: 0.4301 - accuracy: 0.85 - ETA: 2s - loss: 0.4302 - accuracy: 0.85 - ETA: 2s - loss: 0.4301 - accuracy: 0.85 - ETA: 2s - loss: 0.4292 - accuracy: 0.85 - ETA: 2s - loss: 0.4285 - accuracy: 0.85 - ETA: 2s - loss: 0.4289 - accuracy: 0.85 - ETA: 2s - loss: 0.4284 - accuracy: 0.85 - ETA: 2s - loss: 0.4286 - accuracy: 0.85 - ETA: 2s - loss: 0.4292 - accuracy: 0.85 - ETA: 2s - loss: 0.4286 - accuracy: 0.85 - ETA: 2s - loss: 0.4289 - accuracy: 0.85 - ETA: 2s - loss: 0.4293 - accuracy: 0.85 - ETA: 2s - loss: 0.4292 - accuracy: 0.85 - ETA: 2s - loss: 0.4295 - accuracy: 0.85 - ETA: 2s - loss: 0.4287 - accuracy: 0.85 - ETA: 2s - loss: 0.4292 - accuracy: 0.85 - ETA: 2s - loss: 0.4286 - accuracy: 0.85 - ETA: 2s - loss: 0.4280 - accuracy: 0.85 - ETA: 1s - loss: 0.4284 - accuracy: 0.85 - ETA: 1s - loss: 0.4277 - accuracy: 0.85 - ETA: 1s - loss: 0.4271 - accuracy: 0.85 - ETA: 1s - loss: 0.4258 - accuracy: 0.85 - ETA: 1s - loss: 0.4253 - accuracy: 0.85 - ETA: 1s - loss: 0.4252 - accuracy: 0.85 - ETA: 1s - loss: 0.4261 - accuracy: 0.85 - ETA: 1s - loss: 0.4273 - accuracy: 0.85 - ETA: 1s - loss: 0.4272 - accuracy: 0.85 - ETA: 1s - loss: 0.4270 - accuracy: 0.85 - ETA: 1s - loss: 0.4266 - accuracy: 0.85 - ETA: 1s - loss: 0.4270 - accuracy: 0.85 - ETA: 1s - loss: 0.4262 - accuracy: 0.85 - ETA: 1s - loss: 0.4260 - accuracy: 0.85 - ETA: 1s - loss: 0.4259 - accuracy: 0.85 - ETA: 1s - loss: 0.4263 - accuracy: 0.85 - ETA: 1s - loss: 0.4260 - accuracy: 0.85 - ETA: 1s - loss: 0.4255 - accuracy: 0.85 - ETA: 1s - loss: 0.4253 - accuracy: 0.85 - ETA: 1s - loss: 0.4256 - accuracy: 0.85 - ETA: 1s - loss: 0.4251 - accuracy: 0.85 - ETA: 0s - loss: 0.4247 - accuracy: 0.85 - ETA: 0s - loss: 0.4251 - accuracy: 0.85 - ETA: 0s - loss: 0.4253 - accuracy: 0.85 - ETA: 0s - loss: 0.4255 - accuracy: 0.85 - ETA: 0s - loss: 0.4249 - accuracy: 0.85 - ETA: 0s - loss: 0.4248 - accuracy: 0.85 - ETA: 0s - loss: 0.4249 - accuracy: 0.85 - ETA: 0s - loss: 0.4249 - accuracy: 0.85 - ETA: 0s - loss: 0.4244 - accuracy: 0.85 - ETA: 0s - loss: 0.4241 - accuracy: 0.85 - ETA: 0s - loss: 0.4241 - accuracy: 0.85 - ETA: 0s - loss: 0.4238 - accuracy: 0.85 - ETA: 0s - loss: 0.4239 - accuracy: 0.85 - ETA: 0s - loss: 0.4235 - accuracy: 0.85 - ETA: 0s - loss: 0.4240 - accuracy: 0.85 - ETA: 0s - loss: 0.4241 - accuracy: 0.85 - ETA: 0s - loss: 0.4236 - accuracy: 0.85 - 6s 3ms/step - loss: 0.4237 - accuracy: 0.8559 - val_loss: 0.4417 - val_accuracy: 0.8459\n"
     ]
    },
    {
     "name": "stdout",
     "output_type": "stream",
     "text": [
      "Epoch 4/4\n",
      "1875/1875 [==============================] - ETA: 0s - loss: 0.2428 - accuracy: 0.93 - ETA: 6s - loss: 0.4191 - accuracy: 0.87 - ETA: 6s - loss: 0.4217 - accuracy: 0.86 - ETA: 5s - loss: 0.3931 - accuracy: 0.87 - ETA: 5s - loss: 0.3981 - accuracy: 0.87 - ETA: 5s - loss: 0.3992 - accuracy: 0.87 - ETA: 5s - loss: 0.3992 - accuracy: 0.86 - ETA: 5s - loss: 0.3988 - accuracy: 0.86 - ETA: 5s - loss: 0.3964 - accuracy: 0.86 - ETA: 5s - loss: 0.3940 - accuracy: 0.86 - ETA: 5s - loss: 0.3930 - accuracy: 0.86 - ETA: 5s - loss: 0.3965 - accuracy: 0.86 - ETA: 5s - loss: 0.3987 - accuracy: 0.86 - ETA: 4s - loss: 0.3994 - accuracy: 0.86 - ETA: 4s - loss: 0.4038 - accuracy: 0.86 - ETA: 4s - loss: 0.4037 - accuracy: 0.86 - ETA: 4s - loss: 0.4027 - accuracy: 0.86 - ETA: 4s - loss: 0.4031 - accuracy: 0.86 - ETA: 4s - loss: 0.4011 - accuracy: 0.86 - ETA: 4s - loss: 0.4006 - accuracy: 0.86 - ETA: 4s - loss: 0.3993 - accuracy: 0.86 - ETA: 4s - loss: 0.4023 - accuracy: 0.86 - ETA: 4s - loss: 0.4035 - accuracy: 0.86 - ETA: 4s - loss: 0.4019 - accuracy: 0.86 - ETA: 4s - loss: 0.4007 - accuracy: 0.86 - ETA: 4s - loss: 0.4001 - accuracy: 0.86 - ETA: 4s - loss: 0.3978 - accuracy: 0.86 - ETA: 4s - loss: 0.3985 - accuracy: 0.86 - ETA: 4s - loss: 0.3981 - accuracy: 0.86 - ETA: 4s - loss: 0.3978 - accuracy: 0.86 - ETA: 4s - loss: 0.3975 - accuracy: 0.86 - ETA: 4s - loss: 0.3967 - accuracy: 0.86 - ETA: 4s - loss: 0.3981 - accuracy: 0.86 - ETA: 3s - loss: 0.3985 - accuracy: 0.86 - ETA: 3s - loss: 0.3991 - accuracy: 0.86 - ETA: 3s - loss: 0.3988 - accuracy: 0.86 - ETA: 3s - loss: 0.3986 - accuracy: 0.86 - ETA: 3s - loss: 0.3998 - accuracy: 0.86 - ETA: 3s - loss: 0.3996 - accuracy: 0.86 - ETA: 3s - loss: 0.3999 - accuracy: 0.86 - ETA: 3s - loss: 0.4015 - accuracy: 0.86 - ETA: 3s - loss: 0.4008 - accuracy: 0.86 - ETA: 3s - loss: 0.4009 - accuracy: 0.86 - ETA: 3s - loss: 0.4023 - accuracy: 0.86 - ETA: 3s - loss: 0.4020 - accuracy: 0.86 - ETA: 3s - loss: 0.4013 - accuracy: 0.86 - ETA: 3s - loss: 0.4012 - accuracy: 0.86 - ETA: 3s - loss: 0.4005 - accuracy: 0.86 - ETA: 3s - loss: 0.4006 - accuracy: 0.86 - ETA: 3s - loss: 0.3991 - accuracy: 0.86 - ETA: 3s - loss: 0.3985 - accuracy: 0.86 - ETA: 3s - loss: 0.3987 - accuracy: 0.86 - ETA: 3s - loss: 0.3985 - accuracy: 0.86 - ETA: 2s - loss: 0.3983 - accuracy: 0.86 - ETA: 2s - loss: 0.3980 - accuracy: 0.86 - ETA: 2s - loss: 0.3976 - accuracy: 0.86 - ETA: 2s - loss: 0.3964 - accuracy: 0.86 - ETA: 2s - loss: 0.3964 - accuracy: 0.86 - ETA: 2s - loss: 0.3953 - accuracy: 0.86 - ETA: 2s - loss: 0.3962 - accuracy: 0.86 - ETA: 2s - loss: 0.3959 - accuracy: 0.86 - ETA: 2s - loss: 0.3965 - accuracy: 0.86 - ETA: 2s - loss: 0.3979 - accuracy: 0.86 - ETA: 2s - loss: 0.3979 - accuracy: 0.86 - ETA: 2s - loss: 0.3987 - accuracy: 0.86 - ETA: 2s - loss: 0.3995 - accuracy: 0.86 - ETA: 1s - loss: 0.3985 - accuracy: 0.86 - ETA: 1s - loss: 0.3985 - accuracy: 0.86 - ETA: 1s - loss: 0.3983 - accuracy: 0.86 - ETA: 1s - loss: 0.3989 - accuracy: 0.86 - ETA: 1s - loss: 0.3984 - accuracy: 0.86 - ETA: 1s - loss: 0.3984 - accuracy: 0.86 - ETA: 1s - loss: 0.3983 - accuracy: 0.86 - ETA: 1s - loss: 0.3990 - accuracy: 0.86 - ETA: 1s - loss: 0.3987 - accuracy: 0.86 - ETA: 1s - loss: 0.3989 - accuracy: 0.86 - ETA: 1s - loss: 0.3989 - accuracy: 0.86 - ETA: 1s - loss: 0.3981 - accuracy: 0.86 - ETA: 1s - loss: 0.3979 - accuracy: 0.86 - ETA: 1s - loss: 0.3981 - accuracy: 0.86 - ETA: 1s - loss: 0.3977 - accuracy: 0.86 - ETA: 1s - loss: 0.3980 - accuracy: 0.86 - ETA: 0s - loss: 0.3981 - accuracy: 0.86 - ETA: 0s - loss: 0.3987 - accuracy: 0.86 - ETA: 0s - loss: 0.3985 - accuracy: 0.86 - ETA: 0s - loss: 0.3993 - accuracy: 0.86 - ETA: 0s - loss: 0.3994 - accuracy: 0.86 - ETA: 0s - loss: 0.3990 - accuracy: 0.86 - ETA: 0s - loss: 0.3991 - accuracy: 0.86 - ETA: 0s - loss: 0.3993 - accuracy: 0.86 - ETA: 0s - loss: 0.3995 - accuracy: 0.86 - ETA: 0s - loss: 0.3997 - accuracy: 0.86 - ETA: 0s - loss: 0.3996 - accuracy: 0.86 - ETA: 0s - loss: 0.3994 - accuracy: 0.86 - ETA: 0s - loss: 0.3995 - accuracy: 0.86 - ETA: 0s - loss: 0.3993 - accuracy: 0.86 - ETA: 0s - loss: 0.3993 - accuracy: 0.86 - ETA: 0s - loss: 0.3995 - accuracy: 0.86 - ETA: 0s - loss: 0.3993 - accuracy: 0.86 - 6s 3ms/step - loss: 0.3989 - accuracy: 0.8628 - val_loss: 0.4230 - val_accuracy: 0.8518\n"
     ]
    },
    {
     "data": {
      "text/html": [
       "<span style=\"color:#4527A0\"><h1 style=\"font-size:18px\">Trial complete</h1></span>"
      ],
      "text/plain": [
       "<IPython.core.display.HTML object>"
      ]
     },
     "metadata": {},
     "output_type": "display_data"
    },
    {
     "data": {
      "text/html": [
       "<span style=\"color:#4527A0\"><h1 style=\"font-size:18px\">Trial summary</h1></span>"
      ],
      "text/plain": [
       "<IPython.core.display.HTML object>"
      ]
     },
     "metadata": {},
     "output_type": "display_data"
    },
    {
     "data": {
      "text/html": [
       "<span style=\"color:cyan\"> |-Trial ID: 22b1f2f0194e81ff5184756148e16f56</span>"
      ],
      "text/plain": [
       "<IPython.core.display.HTML object>"
      ]
     },
     "metadata": {},
     "output_type": "display_data"
    },
    {
     "data": {
      "text/html": [
       "<span style=\"color:cyan\"> |-Score: 0.8518000245094299</span>"
      ],
      "text/plain": [
       "<IPython.core.display.HTML object>"
      ]
     },
     "metadata": {},
     "output_type": "display_data"
    },
    {
     "data": {
      "text/html": [
       "<span style=\"color:cyan\"> |-Best step: 0</span>"
      ],
      "text/plain": [
       "<IPython.core.display.HTML object>"
      ]
     },
     "metadata": {},
     "output_type": "display_data"
    },
    {
     "data": {
      "text/html": [
       "<span style=\"color:#7E57C2\"><h2 style=\"font-size:16px\">Hyperparameters:</h2></span>"
      ],
      "text/plain": [
       "<IPython.core.display.HTML object>"
      ]
     },
     "metadata": {},
     "output_type": "display_data"
    },
    {
     "data": {
      "text/html": [
       "<span style=\"color:cyan\"> |-learning_rate: 0.0001</span>"
      ],
      "text/plain": [
       "<IPython.core.display.HTML object>"
      ]
     },
     "metadata": {},
     "output_type": "display_data"
    },
    {
     "data": {
      "text/html": [
       "<span style=\"color:blue\"> |-tuner/bracket: 1</span>"
      ],
      "text/plain": [
       "<IPython.core.display.HTML object>"
      ]
     },
     "metadata": {},
     "output_type": "display_data"
    },
    {
     "data": {
      "text/html": [
       "<span style=\"color:cyan\"> |-tuner/epochs: 4</span>"
      ],
      "text/plain": [
       "<IPython.core.display.HTML object>"
      ]
     },
     "metadata": {},
     "output_type": "display_data"
    },
    {
     "data": {
      "text/html": [
       "<span style=\"color:blue\"> |-tuner/initial_epoch: 0</span>"
      ],
      "text/plain": [
       "<IPython.core.display.HTML object>"
      ]
     },
     "metadata": {},
     "output_type": "display_data"
    },
    {
     "data": {
      "text/html": [
       "<span style=\"color:cyan\"> |-tuner/round: 0</span>"
      ],
      "text/plain": [
       "<IPython.core.display.HTML object>"
      ]
     },
     "metadata": {},
     "output_type": "display_data"
    },
    {
     "data": {
      "text/html": [
       "<span style=\"color:blue\"> |-units: 160</span>"
      ],
      "text/plain": [
       "<IPython.core.display.HTML object>"
      ]
     },
     "metadata": {},
     "output_type": "display_data"
    },
    {
     "name": "stdout",
     "output_type": "stream",
     "text": [
      "Epoch 1/4\n",
      "   2/1875 [..............................] - ETA: 0s - loss: 2.4236 - accuracy: 0.12 - ETA: 9:56 - loss: 5.4620 - accuracy: 0.1562WARNING:tensorflow:Method (on_train_batch_end) is slow compared to the batch update (0.322021). Check your callbacks.\n",
      "1875/1875 [==============================] - ETA: 1:38 - loss: 3.0864 - accuracy: 0.38 - ETA: 52s - loss: 2.1809 - accuracy: 0.4724 - ETA: 36s - loss: 1.6834 - accuracy: 0.566 - ETA: 29s - loss: 1.4318 - accuracy: 0.616 - ETA: 25s - loss: 1.2995 - accuracy: 0.640 - ETA: 22s - loss: 1.2213 - accuracy: 0.654 - ETA: 20s - loss: 1.1293 - accuracy: 0.673 - ETA: 18s - loss: 1.0684 - accuracy: 0.684 - ETA: 16s - loss: 1.0113 - accuracy: 0.693 - ETA: 15s - loss: 0.9723 - accuracy: 0.700 - ETA: 14s - loss: 0.9480 - accuracy: 0.704 - ETA: 13s - loss: 0.9180 - accuracy: 0.710 - ETA: 13s - loss: 0.8993 - accuracy: 0.714 - ETA: 12s - loss: 0.8773 - accuracy: 0.717 - ETA: 12s - loss: 0.8656 - accuracy: 0.718 - ETA: 11s - loss: 0.8473 - accuracy: 0.722 - ETA: 11s - loss: 0.8343 - accuracy: 0.725 - ETA: 10s - loss: 0.8154 - accuracy: 0.730 - ETA: 10s - loss: 0.8028 - accuracy: 0.733 - ETA: 10s - loss: 0.7905 - accuracy: 0.736 - ETA: 9s - loss: 0.7812 - accuracy: 0.738 - ETA: 9s - loss: 0.7752 - accuracy: 0.73 - ETA: 9s - loss: 0.7661 - accuracy: 0.74 - ETA: 9s - loss: 0.7564 - accuracy: 0.74 - ETA: 9s - loss: 0.7502 - accuracy: 0.74 - ETA: 9s - loss: 0.7424 - accuracy: 0.74 - ETA: 9s - loss: 0.7358 - accuracy: 0.74 - ETA: 8s - loss: 0.7315 - accuracy: 0.75 - ETA: 8s - loss: 0.7284 - accuracy: 0.75 - ETA: 8s - loss: 0.7249 - accuracy: 0.75 - ETA: 8s - loss: 0.7209 - accuracy: 0.75 - ETA: 8s - loss: 0.7145 - accuracy: 0.75 - ETA: 8s - loss: 0.7098 - accuracy: 0.75 - ETA: 8s - loss: 0.7064 - accuracy: 0.76 - ETA: 8s - loss: 0.7046 - accuracy: 0.76 - ETA: 8s - loss: 0.7017 - accuracy: 0.76 - ETA: 8s - loss: 0.6996 - accuracy: 0.76 - ETA: 9s - loss: 0.6989 - accuracy: 0.76 - ETA: 9s - loss: 0.6969 - accuracy: 0.76 - ETA: 9s - loss: 0.6941 - accuracy: 0.76 - ETA: 8s - loss: 0.6910 - accuracy: 0.76 - ETA: 8s - loss: 0.6869 - accuracy: 0.76 - ETA: 8s - loss: 0.6843 - accuracy: 0.76 - ETA: 8s - loss: 0.6822 - accuracy: 0.76 - ETA: 8s - loss: 0.6822 - accuracy: 0.76 - ETA: 8s - loss: 0.6802 - accuracy: 0.76 - ETA: 8s - loss: 0.6789 - accuracy: 0.76 - ETA: 8s - loss: 0.6766 - accuracy: 0.76 - ETA: 8s - loss: 0.6747 - accuracy: 0.76 - ETA: 8s - loss: 0.6720 - accuracy: 0.76 - ETA: 8s - loss: 0.6713 - accuracy: 0.76 - ETA: 8s - loss: 0.6691 - accuracy: 0.76 - ETA: 8s - loss: 0.6668 - accuracy: 0.77 - ETA: 8s - loss: 0.6636 - accuracy: 0.77 - ETA: 8s - loss: 0.6597 - accuracy: 0.77 - ETA: 8s - loss: 0.6577 - accuracy: 0.77 - ETA: 8s - loss: 0.6545 - accuracy: 0.77 - ETA: 7s - loss: 0.6501 - accuracy: 0.77 - ETA: 7s - loss: 0.6484 - accuracy: 0.77 - ETA: 7s - loss: 0.6480 - accuracy: 0.77 - ETA: 7s - loss: 0.6468 - accuracy: 0.77 - ETA: 7s - loss: 0.6442 - accuracy: 0.77 - ETA: 7s - loss: 0.6419 - accuracy: 0.77 - ETA: 7s - loss: 0.6409 - accuracy: 0.77 - ETA: 7s - loss: 0.6382 - accuracy: 0.78 - ETA: 7s - loss: 0.6364 - accuracy: 0.78 - ETA: 7s - loss: 0.6344 - accuracy: 0.78 - ETA: 7s - loss: 0.6328 - accuracy: 0.78 - ETA: 7s - loss: 0.6319 - accuracy: 0.78 - ETA: 7s - loss: 0.6302 - accuracy: 0.78 - ETA: 7s - loss: 0.6296 - accuracy: 0.78 - ETA: 6s - loss: 0.6278 - accuracy: 0.78 - ETA: 6s - loss: 0.6265 - accuracy: 0.78 - ETA: 6s - loss: 0.6256 - accuracy: 0.78 - ETA: 6s - loss: 0.6237 - accuracy: 0.78 - ETA: 6s - loss: 0.6213 - accuracy: 0.78 - ETA: 6s - loss: 0.6220 - accuracy: 0.78 - ETA: 6s - loss: 0.6211 - accuracy: 0.78 - ETA: 6s - loss: 0.6186 - accuracy: 0.78 - ETA: 6s - loss: 0.6164 - accuracy: 0.78 - ETA: 6s - loss: 0.6148 - accuracy: 0.78 - ETA: 6s - loss: 0.6130 - accuracy: 0.78 - ETA: 6s - loss: 0.6120 - accuracy: 0.78 - ETA: 6s - loss: 0.6103 - accuracy: 0.78 - ETA: 6s - loss: 0.6096 - accuracy: 0.78 - ETA: 6s - loss: 0.6077 - accuracy: 0.78 - ETA: 6s - loss: 0.6068 - accuracy: 0.78 - ETA: 5s - loss: 0.6057 - accuracy: 0.78 - ETA: 5s - loss: 0.6042 - accuracy: 0.78 - ETA: 5s - loss: 0.6014 - accuracy: 0.78 - ETA: 5s - loss: 0.6001 - accuracy: 0.79 - ETA: 5s - loss: 0.5979 - accuracy: 0.79 - ETA: 5s - loss: 0.5955 - accuracy: 0.79 - ETA: 5s - loss: 0.5955 - accuracy: 0.79 - ETA: 5s - loss: 0.5941 - accuracy: 0.79 - ETA: 5s - loss: 0.5922 - accuracy: 0.79 - ETA: 5s - loss: 0.5914 - accuracy: 0.79 - ETA: 5s - loss: 0.5911 - accuracy: 0.79 - ETA: 5s - loss: 0.5904 - accuracy: 0.79 - ETA: 5s - loss: 0.5904 - accuracy: 0.79 - ETA: 5s - loss: 0.5901 - accuracy: 0.79 - ETA: 4s - loss: 0.5890 - accuracy: 0.79 - ETA: 4s - loss: 0.5886 - accuracy: 0.79 - ETA: 4s - loss: 0.5871 - accuracy: 0.79 - ETA: 4s - loss: 0.5866 - accuracy: 0.79 - ETA: 4s - loss: 0.5873 - accuracy: 0.79 - ETA: 4s - loss: 0.5863 - accuracy: 0.79 - ETA: 4s - loss: 0.5852 - accuracy: 0.79 - ETA: 4s - loss: 0.5837 - accuracy: 0.79 - ETA: 4s - loss: 0.5831 - accuracy: 0.79 - ETA: 4s - loss: 0.5822 - accuracy: 0.79 - ETA: 4s - loss: 0.5815 - accuracy: 0.79 - ETA: 4s - loss: 0.5805 - accuracy: 0.79 - ETA: 4s - loss: 0.5794 - accuracy: 0.79 - ETA: 4s - loss: 0.5786 - accuracy: 0.79 - ETA: 3s - loss: 0.5779 - accuracy: 0.79 - ETA: 3s - loss: 0.5762 - accuracy: 0.79 - ETA: 3s - loss: 0.5754 - accuracy: 0.79 - ETA: 3s - loss: 0.5743 - accuracy: 0.79 - ETA: 3s - loss: 0.5727 - accuracy: 0.79 - ETA: 3s - loss: 0.5706 - accuracy: 0.79 - ETA: 3s - loss: 0.5692 - accuracy: 0.80 - ETA: 3s - loss: 0.5684 - accuracy: 0.80 - ETA: 3s - loss: 0.5672 - accuracy: 0.80 - ETA: 3s - loss: 0.5669 - accuracy: 0.80 - ETA: 3s - loss: 0.5658 - accuracy: 0.80 - ETA: 3s - loss: 0.5651 - accuracy: 0.80 - ETA: 3s - loss: 0.5645 - accuracy: 0.80 - ETA: 3s - loss: 0.5634 - accuracy: 0.80 - ETA: 3s - loss: 0.5621 - accuracy: 0.80 - ETA: 2s - loss: 0.5608 - accuracy: 0.80 - ETA: 2s - loss: 0.5605 - accuracy: 0.80 - ETA: 2s - loss: 0.5590 - accuracy: 0.80 - ETA: 2s - loss: 0.5584 - accuracy: 0.80 - ETA: 2s - loss: 0.5569 - accuracy: 0.80 - ETA: 2s - loss: 0.5556 - accuracy: 0.80 - ETA: 2s - loss: 0.5559 - accuracy: 0.80 - ETA: 2s - loss: 0.5556 - accuracy: 0.80 - ETA: 2s - loss: 0.5549 - accuracy: 0.80 - ETA: 2s - loss: 0.5541 - accuracy: 0.80 - ETA: 2s - loss: 0.5534 - accuracy: 0.80 - ETA: 2s - loss: 0.5518 - accuracy: 0.80 - ETA: 2s - loss: 0.5509 - accuracy: 0.80 - ETA: 1s - loss: 0.5495 - accuracy: 0.80 - ETA: 1s - loss: 0.5494 - accuracy: 0.80 - ETA: 1s - loss: 0.5485 - accuracy: 0.80 - ETA: 1s - loss: 0.5480 - accuracy: 0.80 - ETA: 1s - loss: 0.5471 - accuracy: 0.80 - ETA: 1s - loss: 0.5467 - accuracy: 0.80 - ETA: 1s - loss: 0.5466 - accuracy: 0.80 - ETA: 1s - loss: 0.5465 - accuracy: 0.80 - ETA: 1s - loss: 0.5459 - accuracy: 0.80 - ETA: 1s - loss: 0.5447 - accuracy: 0.80 - ETA: 1s - loss: 0.5444 - accuracy: 0.80 - ETA: 1s - loss: 0.5429 - accuracy: 0.80 - ETA: 1s - loss: 0.5423 - accuracy: 0.80 - ETA: 0s - loss: 0.5418 - accuracy: 0.81 - ETA: 0s - loss: 0.5411 - accuracy: 0.81 - ETA: 0s - loss: 0.5405 - accuracy: 0.81 - ETA: 0s - loss: 0.5399 - accuracy: 0.81 - ETA: 0s - loss: 0.5390 - accuracy: 0.81 - ETA: 0s - loss: 0.5379 - accuracy: 0.81 - ETA: 0s - loss: 0.5368 - accuracy: 0.81 - ETA: 0s - loss: 0.5359 - accuracy: 0.81 - ETA: 0s - loss: 0.5352 - accuracy: 0.81 - ETA: 0s - loss: 0.5344 - accuracy: 0.81 - ETA: 0s - loss: 0.5337 - accuracy: 0.81 - ETA: 0s - loss: 0.5334 - accuracy: 0.81 - 10s 5ms/step - loss: 0.5330 - accuracy: 0.8128 - val_loss: 0.4837 - val_accuracy: 0.8274\n",
      "Epoch 2/4\n"
     ]
    },
    {
     "name": "stdout",
     "output_type": "stream",
     "text": [
      "1875/1875 [==============================] - ETA: 0s - loss: 0.3190 - accuracy: 0.93 - ETA: 7s - loss: 0.5617 - accuracy: 0.82 - ETA: 7s - loss: 0.4732 - accuracy: 0.84 - ETA: 7s - loss: 0.4277 - accuracy: 0.85 - ETA: 7s - loss: 0.4362 - accuracy: 0.85 - ETA: 7s - loss: 0.4418 - accuracy: 0.84 - ETA: 6s - loss: 0.4373 - accuracy: 0.84 - ETA: 6s - loss: 0.4377 - accuracy: 0.84 - ETA: 6s - loss: 0.4342 - accuracy: 0.85 - ETA: 6s - loss: 0.4282 - accuracy: 0.84 - ETA: 6s - loss: 0.4414 - accuracy: 0.84 - ETA: 6s - loss: 0.4428 - accuracy: 0.84 - ETA: 6s - loss: 0.4398 - accuracy: 0.84 - ETA: 6s - loss: 0.4390 - accuracy: 0.84 - ETA: 6s - loss: 0.4394 - accuracy: 0.84 - ETA: 5s - loss: 0.4402 - accuracy: 0.84 - ETA: 5s - loss: 0.4387 - accuracy: 0.84 - ETA: 5s - loss: 0.4371 - accuracy: 0.84 - ETA: 5s - loss: 0.4367 - accuracy: 0.84 - ETA: 5s - loss: 0.4365 - accuracy: 0.84 - ETA: 5s - loss: 0.4406 - accuracy: 0.84 - ETA: 5s - loss: 0.4394 - accuracy: 0.84 - ETA: 5s - loss: 0.4361 - accuracy: 0.84 - ETA: 5s - loss: 0.4370 - accuracy: 0.84 - ETA: 5s - loss: 0.4352 - accuracy: 0.84 - ETA: 5s - loss: 0.4338 - accuracy: 0.84 - ETA: 5s - loss: 0.4341 - accuracy: 0.84 - ETA: 5s - loss: 0.4310 - accuracy: 0.84 - ETA: 5s - loss: 0.4284 - accuracy: 0.84 - ETA: 5s - loss: 0.4274 - accuracy: 0.84 - ETA: 5s - loss: 0.4276 - accuracy: 0.84 - ETA: 5s - loss: 0.4280 - accuracy: 0.84 - ETA: 5s - loss: 0.4286 - accuracy: 0.84 - ETA: 5s - loss: 0.4290 - accuracy: 0.84 - ETA: 5s - loss: 0.4293 - accuracy: 0.84 - ETA: 5s - loss: 0.4287 - accuracy: 0.84 - ETA: 4s - loss: 0.4302 - accuracy: 0.84 - ETA: 4s - loss: 0.4291 - accuracy: 0.84 - ETA: 4s - loss: 0.4284 - accuracy: 0.84 - ETA: 4s - loss: 0.4289 - accuracy: 0.84 - ETA: 4s - loss: 0.4303 - accuracy: 0.84 - ETA: 4s - loss: 0.4302 - accuracy: 0.84 - ETA: 4s - loss: 0.4289 - accuracy: 0.84 - ETA: 4s - loss: 0.4276 - accuracy: 0.84 - ETA: 4s - loss: 0.4279 - accuracy: 0.84 - ETA: 4s - loss: 0.4282 - accuracy: 0.84 - ETA: 4s - loss: 0.4273 - accuracy: 0.84 - ETA: 4s - loss: 0.4284 - accuracy: 0.84 - ETA: 4s - loss: 0.4285 - accuracy: 0.84 - ETA: 4s - loss: 0.4287 - accuracy: 0.84 - ETA: 4s - loss: 0.4285 - accuracy: 0.84 - ETA: 4s - loss: 0.4279 - accuracy: 0.84 - ETA: 4s - loss: 0.4311 - accuracy: 0.84 - ETA: 4s - loss: 0.4321 - accuracy: 0.84 - ETA: 4s - loss: 0.4333 - accuracy: 0.84 - ETA: 4s - loss: 0.4340 - accuracy: 0.84 - ETA: 4s - loss: 0.4338 - accuracy: 0.84 - ETA: 4s - loss: 0.4351 - accuracy: 0.84 - ETA: 3s - loss: 0.4345 - accuracy: 0.84 - ETA: 3s - loss: 0.4342 - accuracy: 0.84 - ETA: 3s - loss: 0.4342 - accuracy: 0.84 - ETA: 3s - loss: 0.4332 - accuracy: 0.84 - ETA: 3s - loss: 0.4334 - accuracy: 0.84 - ETA: 3s - loss: 0.4338 - accuracy: 0.84 - ETA: 3s - loss: 0.4347 - accuracy: 0.84 - ETA: 3s - loss: 0.4348 - accuracy: 0.84 - ETA: 3s - loss: 0.4342 - accuracy: 0.84 - ETA: 3s - loss: 0.4344 - accuracy: 0.84 - ETA: 3s - loss: 0.4338 - accuracy: 0.84 - ETA: 3s - loss: 0.4333 - accuracy: 0.84 - ETA: 3s - loss: 0.4325 - accuracy: 0.84 - ETA: 3s - loss: 0.4324 - accuracy: 0.84 - ETA: 3s - loss: 0.4323 - accuracy: 0.84 - ETA: 3s - loss: 0.4319 - accuracy: 0.84 - ETA: 3s - loss: 0.4315 - accuracy: 0.84 - ETA: 3s - loss: 0.4309 - accuracy: 0.84 - ETA: 3s - loss: 0.4309 - accuracy: 0.84 - ETA: 3s - loss: 0.4310 - accuracy: 0.84 - ETA: 3s - loss: 0.4305 - accuracy: 0.84 - ETA: 3s - loss: 0.4309 - accuracy: 0.84 - ETA: 3s - loss: 0.4307 - accuracy: 0.84 - ETA: 3s - loss: 0.4307 - accuracy: 0.84 - ETA: 3s - loss: 0.4314 - accuracy: 0.84 - ETA: 2s - loss: 0.4315 - accuracy: 0.84 - ETA: 2s - loss: 0.4322 - accuracy: 0.84 - ETA: 2s - loss: 0.4328 - accuracy: 0.84 - ETA: 2s - loss: 0.4336 - accuracy: 0.84 - ETA: 2s - loss: 0.4345 - accuracy: 0.84 - ETA: 2s - loss: 0.4347 - accuracy: 0.84 - ETA: 2s - loss: 0.4344 - accuracy: 0.84 - ETA: 2s - loss: 0.4343 - accuracy: 0.84 - ETA: 2s - loss: 0.4341 - accuracy: 0.84 - ETA: 2s - loss: 0.4344 - accuracy: 0.84 - ETA: 2s - loss: 0.4338 - accuracy: 0.84 - ETA: 2s - loss: 0.4340 - accuracy: 0.84 - ETA: 2s - loss: 0.4336 - accuracy: 0.84 - ETA: 2s - loss: 0.4328 - accuracy: 0.84 - ETA: 2s - loss: 0.4317 - accuracy: 0.84 - ETA: 2s - loss: 0.4310 - accuracy: 0.84 - ETA: 2s - loss: 0.4304 - accuracy: 0.84 - ETA: 2s - loss: 0.4311 - accuracy: 0.84 - ETA: 2s - loss: 0.4317 - accuracy: 0.84 - ETA: 2s - loss: 0.4322 - accuracy: 0.84 - ETA: 2s - loss: 0.4322 - accuracy: 0.84 - ETA: 1s - loss: 0.4320 - accuracy: 0.84 - ETA: 1s - loss: 0.4314 - accuracy: 0.84 - ETA: 1s - loss: 0.4315 - accuracy: 0.84 - ETA: 1s - loss: 0.4316 - accuracy: 0.84 - ETA: 1s - loss: 0.4322 - accuracy: 0.84 - ETA: 1s - loss: 0.4324 - accuracy: 0.84 - ETA: 1s - loss: 0.4321 - accuracy: 0.84 - ETA: 1s - loss: 0.4324 - accuracy: 0.84 - ETA: 1s - loss: 0.4334 - accuracy: 0.84 - ETA: 1s - loss: 0.4328 - accuracy: 0.84 - ETA: 1s - loss: 0.4331 - accuracy: 0.84 - ETA: 1s - loss: 0.4342 - accuracy: 0.84 - ETA: 1s - loss: 0.4341 - accuracy: 0.84 - ETA: 1s - loss: 0.4343 - accuracy: 0.84 - ETA: 0s - loss: 0.4343 - accuracy: 0.84 - ETA: 0s - loss: 0.4342 - accuracy: 0.84 - ETA: 0s - loss: 0.4341 - accuracy: 0.84 - ETA: 0s - loss: 0.4343 - accuracy: 0.84 - ETA: 0s - loss: 0.4342 - accuracy: 0.84 - ETA: 0s - loss: 0.4347 - accuracy: 0.84 - ETA: 0s - loss: 0.4347 - accuracy: 0.84 - ETA: 0s - loss: 0.4339 - accuracy: 0.84 - ETA: 0s - loss: 0.4344 - accuracy: 0.84 - ETA: 0s - loss: 0.4353 - accuracy: 0.84 - ETA: 0s - loss: 0.4356 - accuracy: 0.84 - ETA: 0s - loss: 0.4351 - accuracy: 0.84 - ETA: 0s - loss: 0.4350 - accuracy: 0.84 - ETA: 0s - loss: 0.4351 - accuracy: 0.84 - ETA: 0s - loss: 0.4347 - accuracy: 0.84 - ETA: 0s - loss: 0.4352 - accuracy: 0.84 - ETA: 0s - loss: 0.4346 - accuracy: 0.84 - ETA: 0s - loss: 0.4345 - accuracy: 0.84 - 8s 4ms/step - loss: 0.4343 - accuracy: 0.8453 - val_loss: 0.4881 - val_accuracy: 0.8384\n",
      "Epoch 3/4\n"
     ]
    },
    {
     "name": "stdout",
     "output_type": "stream",
     "text": [
      "1875/1875 [==============================] - ETA: 0s - loss: 0.5967 - accuracy: 0.75 - ETA: 8s - loss: 0.4384 - accuracy: 0.84 - ETA: 8s - loss: 0.4041 - accuracy: 0.85 - ETA: 8s - loss: 0.3699 - accuracy: 0.86 - ETA: 7s - loss: 0.3833 - accuracy: 0.86 - ETA: 7s - loss: 0.3854 - accuracy: 0.86 - ETA: 7s - loss: 0.3813 - accuracy: 0.86 - ETA: 7s - loss: 0.4063 - accuracy: 0.85 - ETA: 7s - loss: 0.4125 - accuracy: 0.85 - ETA: 7s - loss: 0.4171 - accuracy: 0.85 - ETA: 7s - loss: 0.4196 - accuracy: 0.85 - ETA: 7s - loss: 0.4236 - accuracy: 0.84 - ETA: 7s - loss: 0.4224 - accuracy: 0.84 - ETA: 7s - loss: 0.4193 - accuracy: 0.85 - ETA: 6s - loss: 0.4159 - accuracy: 0.85 - ETA: 6s - loss: 0.4189 - accuracy: 0.85 - ETA: 6s - loss: 0.4138 - accuracy: 0.85 - ETA: 6s - loss: 0.4077 - accuracy: 0.85 - ETA: 6s - loss: 0.4060 - accuracy: 0.85 - ETA: 6s - loss: 0.4053 - accuracy: 0.85 - ETA: 6s - loss: 0.4034 - accuracy: 0.85 - ETA: 6s - loss: 0.4006 - accuracy: 0.85 - ETA: 6s - loss: 0.3976 - accuracy: 0.85 - ETA: 6s - loss: 0.3998 - accuracy: 0.85 - ETA: 5s - loss: 0.4003 - accuracy: 0.85 - ETA: 5s - loss: 0.4024 - accuracy: 0.85 - ETA: 5s - loss: 0.4022 - accuracy: 0.85 - ETA: 5s - loss: 0.4016 - accuracy: 0.85 - ETA: 5s - loss: 0.3989 - accuracy: 0.85 - ETA: 5s - loss: 0.3989 - accuracy: 0.85 - ETA: 5s - loss: 0.4019 - accuracy: 0.85 - ETA: 5s - loss: 0.4019 - accuracy: 0.85 - ETA: 5s - loss: 0.4041 - accuracy: 0.85 - ETA: 5s - loss: 0.4039 - accuracy: 0.85 - ETA: 5s - loss: 0.4035 - accuracy: 0.85 - ETA: 5s - loss: 0.4026 - accuracy: 0.85 - ETA: 5s - loss: 0.4033 - accuracy: 0.85 - ETA: 5s - loss: 0.4035 - accuracy: 0.85 - ETA: 4s - loss: 0.4030 - accuracy: 0.85 - ETA: 4s - loss: 0.4046 - accuracy: 0.85 - ETA: 4s - loss: 0.4035 - accuracy: 0.85 - ETA: 4s - loss: 0.4021 - accuracy: 0.85 - ETA: 4s - loss: 0.4007 - accuracy: 0.85 - ETA: 4s - loss: 0.4015 - accuracy: 0.85 - ETA: 4s - loss: 0.4027 - accuracy: 0.85 - ETA: 4s - loss: 0.4043 - accuracy: 0.85 - ETA: 4s - loss: 0.4053 - accuracy: 0.85 - ETA: 4s - loss: 0.4064 - accuracy: 0.85 - ETA: 4s - loss: 0.4062 - accuracy: 0.85 - ETA: 3s - loss: 0.4078 - accuracy: 0.85 - ETA: 3s - loss: 0.4081 - accuracy: 0.85 - ETA: 3s - loss: 0.4085 - accuracy: 0.85 - ETA: 3s - loss: 0.4078 - accuracy: 0.85 - ETA: 3s - loss: 0.4102 - accuracy: 0.85 - ETA: 3s - loss: 0.4105 - accuracy: 0.85 - ETA: 3s - loss: 0.4106 - accuracy: 0.85 - ETA: 3s - loss: 0.4135 - accuracy: 0.85 - ETA: 3s - loss: 0.4149 - accuracy: 0.85 - ETA: 3s - loss: 0.4149 - accuracy: 0.85 - ETA: 3s - loss: 0.4140 - accuracy: 0.85 - ETA: 3s - loss: 0.4134 - accuracy: 0.85 - ETA: 3s - loss: 0.4147 - accuracy: 0.85 - ETA: 3s - loss: 0.4149 - accuracy: 0.85 - ETA: 3s - loss: 0.4162 - accuracy: 0.85 - ETA: 2s - loss: 0.4160 - accuracy: 0.85 - ETA: 2s - loss: 0.4161 - accuracy: 0.85 - ETA: 2s - loss: 0.4144 - accuracy: 0.85 - ETA: 2s - loss: 0.4140 - accuracy: 0.85 - ETA: 2s - loss: 0.4157 - accuracy: 0.85 - ETA: 2s - loss: 0.4159 - accuracy: 0.85 - ETA: 2s - loss: 0.4159 - accuracy: 0.85 - ETA: 2s - loss: 0.4155 - accuracy: 0.85 - ETA: 2s - loss: 0.4149 - accuracy: 0.85 - ETA: 2s - loss: 0.4149 - accuracy: 0.85 - ETA: 2s - loss: 0.4137 - accuracy: 0.85 - ETA: 2s - loss: 0.4129 - accuracy: 0.85 - ETA: 2s - loss: 0.4129 - accuracy: 0.85 - ETA: 2s - loss: 0.4146 - accuracy: 0.85 - ETA: 2s - loss: 0.4148 - accuracy: 0.85 - ETA: 2s - loss: 0.4152 - accuracy: 0.85 - ETA: 2s - loss: 0.4145 - accuracy: 0.85 - ETA: 1s - loss: 0.4145 - accuracy: 0.85 - ETA: 1s - loss: 0.4137 - accuracy: 0.85 - ETA: 1s - loss: 0.4138 - accuracy: 0.85 - ETA: 1s - loss: 0.4137 - accuracy: 0.85 - ETA: 1s - loss: 0.4139 - accuracy: 0.85 - ETA: 1s - loss: 0.4143 - accuracy: 0.85 - ETA: 1s - loss: 0.4143 - accuracy: 0.85 - ETA: 1s - loss: 0.4137 - accuracy: 0.85 - ETA: 1s - loss: 0.4131 - accuracy: 0.85 - ETA: 1s - loss: 0.4130 - accuracy: 0.85 - ETA: 1s - loss: 0.4129 - accuracy: 0.85 - ETA: 1s - loss: 0.4121 - accuracy: 0.85 - ETA: 1s - loss: 0.4123 - accuracy: 0.85 - ETA: 1s - loss: 0.4129 - accuracy: 0.85 - ETA: 1s - loss: 0.4129 - accuracy: 0.85 - ETA: 1s - loss: 0.4127 - accuracy: 0.85 - ETA: 1s - loss: 0.4120 - accuracy: 0.85 - ETA: 1s - loss: 0.4120 - accuracy: 0.85 - ETA: 0s - loss: 0.4123 - accuracy: 0.85 - ETA: 0s - loss: 0.4120 - accuracy: 0.85 - ETA: 0s - loss: 0.4122 - accuracy: 0.85 - ETA: 0s - loss: 0.4127 - accuracy: 0.85 - ETA: 0s - loss: 0.4125 - accuracy: 0.85 - ETA: 0s - loss: 0.4129 - accuracy: 0.85 - ETA: 0s - loss: 0.4122 - accuracy: 0.85 - ETA: 0s - loss: 0.4120 - accuracy: 0.85 - ETA: 0s - loss: 0.4120 - accuracy: 0.85 - ETA: 0s - loss: 0.4121 - accuracy: 0.85 - ETA: 0s - loss: 0.4127 - accuracy: 0.85 - ETA: 0s - loss: 0.4125 - accuracy: 0.85 - ETA: 0s - loss: 0.4129 - accuracy: 0.85 - ETA: 0s - loss: 0.4134 - accuracy: 0.85 - ETA: 0s - loss: 0.4132 - accuracy: 0.85 - ETA: 0s - loss: 0.4131 - accuracy: 0.85 - ETA: 0s - loss: 0.4136 - accuracy: 0.85 - ETA: 0s - loss: 0.4133 - accuracy: 0.85 - ETA: 0s - loss: 0.4136 - accuracy: 0.85 - 7s 4ms/step - loss: 0.4136 - accuracy: 0.8531 - val_loss: 0.4446 - val_accuracy: 0.8456\n",
      "Epoch 4/4\n"
     ]
    },
    {
     "name": "stdout",
     "output_type": "stream",
     "text": [
      "1875/1875 [==============================] - ETA: 0s - loss: 0.4212 - accuracy: 0.81 - ETA: 6s - loss: 0.3920 - accuracy: 0.85 - ETA: 7s - loss: 0.3678 - accuracy: 0.86 - ETA: 6s - loss: 0.3794 - accuracy: 0.86 - ETA: 6s - loss: 0.3923 - accuracy: 0.86 - ETA: 6s - loss: 0.3787 - accuracy: 0.86 - ETA: 6s - loss: 0.3845 - accuracy: 0.86 - ETA: 6s - loss: 0.3842 - accuracy: 0.86 - ETA: 6s - loss: 0.3915 - accuracy: 0.85 - ETA: 6s - loss: 0.3953 - accuracy: 0.85 - ETA: 6s - loss: 0.3912 - accuracy: 0.85 - ETA: 6s - loss: 0.3921 - accuracy: 0.85 - ETA: 6s - loss: 0.3899 - accuracy: 0.85 - ETA: 6s - loss: 0.3834 - accuracy: 0.86 - ETA: 6s - loss: 0.3847 - accuracy: 0.86 - ETA: 5s - loss: 0.3907 - accuracy: 0.86 - ETA: 5s - loss: 0.3928 - accuracy: 0.85 - ETA: 5s - loss: 0.3959 - accuracy: 0.85 - ETA: 5s - loss: 0.3924 - accuracy: 0.85 - ETA: 5s - loss: 0.3885 - accuracy: 0.85 - ETA: 5s - loss: 0.3840 - accuracy: 0.86 - ETA: 5s - loss: 0.3864 - accuracy: 0.85 - ETA: 5s - loss: 0.3887 - accuracy: 0.85 - ETA: 5s - loss: 0.3887 - accuracy: 0.85 - ETA: 5s - loss: 0.3853 - accuracy: 0.86 - ETA: 5s - loss: 0.3864 - accuracy: 0.86 - ETA: 5s - loss: 0.3905 - accuracy: 0.85 - ETA: 5s - loss: 0.3910 - accuracy: 0.86 - ETA: 5s - loss: 0.3919 - accuracy: 0.85 - ETA: 5s - loss: 0.3923 - accuracy: 0.85 - ETA: 5s - loss: 0.3924 - accuracy: 0.85 - ETA: 4s - loss: 0.3946 - accuracy: 0.85 - ETA: 4s - loss: 0.3970 - accuracy: 0.85 - ETA: 4s - loss: 0.3974 - accuracy: 0.85 - ETA: 4s - loss: 0.3979 - accuracy: 0.85 - ETA: 4s - loss: 0.3963 - accuracy: 0.85 - ETA: 4s - loss: 0.3985 - accuracy: 0.85 - ETA: 4s - loss: 0.3996 - accuracy: 0.85 - ETA: 4s - loss: 0.3988 - accuracy: 0.85 - ETA: 4s - loss: 0.3993 - accuracy: 0.85 - ETA: 4s - loss: 0.3972 - accuracy: 0.85 - ETA: 4s - loss: 0.3977 - accuracy: 0.85 - ETA: 4s - loss: 0.3993 - accuracy: 0.85 - ETA: 4s - loss: 0.3971 - accuracy: 0.85 - ETA: 4s - loss: 0.3958 - accuracy: 0.85 - ETA: 4s - loss: 0.3967 - accuracy: 0.85 - ETA: 3s - loss: 0.3961 - accuracy: 0.85 - ETA: 3s - loss: 0.3944 - accuracy: 0.85 - ETA: 3s - loss: 0.3945 - accuracy: 0.85 - ETA: 3s - loss: 0.3954 - accuracy: 0.85 - ETA: 3s - loss: 0.3953 - accuracy: 0.85 - ETA: 3s - loss: 0.3948 - accuracy: 0.86 - ETA: 3s - loss: 0.3942 - accuracy: 0.86 - ETA: 3s - loss: 0.3973 - accuracy: 0.85 - ETA: 3s - loss: 0.3975 - accuracy: 0.85 - ETA: 3s - loss: 0.3980 - accuracy: 0.85 - ETA: 3s - loss: 0.3985 - accuracy: 0.85 - ETA: 3s - loss: 0.3987 - accuracy: 0.85 - ETA: 3s - loss: 0.3980 - accuracy: 0.85 - ETA: 3s - loss: 0.3984 - accuracy: 0.85 - ETA: 2s - loss: 0.3977 - accuracy: 0.85 - ETA: 2s - loss: 0.3984 - accuracy: 0.85 - ETA: 2s - loss: 0.3973 - accuracy: 0.85 - ETA: 2s - loss: 0.3973 - accuracy: 0.85 - ETA: 2s - loss: 0.3975 - accuracy: 0.85 - ETA: 2s - loss: 0.3977 - accuracy: 0.86 - ETA: 2s - loss: 0.3968 - accuracy: 0.86 - ETA: 2s - loss: 0.3962 - accuracy: 0.86 - ETA: 2s - loss: 0.3953 - accuracy: 0.86 - ETA: 2s - loss: 0.3954 - accuracy: 0.86 - ETA: 2s - loss: 0.3952 - accuracy: 0.86 - ETA: 2s - loss: 0.3957 - accuracy: 0.86 - ETA: 2s - loss: 0.3957 - accuracy: 0.86 - ETA: 2s - loss: 0.3955 - accuracy: 0.86 - ETA: 2s - loss: 0.3951 - accuracy: 0.86 - ETA: 2s - loss: 0.3941 - accuracy: 0.86 - ETA: 2s - loss: 0.3943 - accuracy: 0.86 - ETA: 2s - loss: 0.3946 - accuracy: 0.86 - ETA: 1s - loss: 0.3942 - accuracy: 0.86 - ETA: 1s - loss: 0.3951 - accuracy: 0.86 - ETA: 1s - loss: 0.3945 - accuracy: 0.86 - ETA: 1s - loss: 0.3947 - accuracy: 0.86 - ETA: 1s - loss: 0.3947 - accuracy: 0.86 - ETA: 1s - loss: 0.3948 - accuracy: 0.86 - ETA: 1s - loss: 0.3946 - accuracy: 0.86 - ETA: 1s - loss: 0.3952 - accuracy: 0.86 - ETA: 1s - loss: 0.3951 - accuracy: 0.86 - ETA: 1s - loss: 0.3946 - accuracy: 0.86 - ETA: 1s - loss: 0.3948 - accuracy: 0.86 - ETA: 1s - loss: 0.3948 - accuracy: 0.86 - ETA: 1s - loss: 0.3949 - accuracy: 0.86 - ETA: 1s - loss: 0.3948 - accuracy: 0.86 - ETA: 1s - loss: 0.3951 - accuracy: 0.86 - ETA: 1s - loss: 0.3957 - accuracy: 0.86 - ETA: 1s - loss: 0.3959 - accuracy: 0.86 - ETA: 1s - loss: 0.3956 - accuracy: 0.86 - ETA: 0s - loss: 0.3962 - accuracy: 0.85 - ETA: 0s - loss: 0.3964 - accuracy: 0.85 - ETA: 0s - loss: 0.3966 - accuracy: 0.85 - ETA: 0s - loss: 0.3968 - accuracy: 0.85 - ETA: 0s - loss: 0.3971 - accuracy: 0.85 - ETA: 0s - loss: 0.3972 - accuracy: 0.85 - ETA: 0s - loss: 0.3975 - accuracy: 0.85 - ETA: 0s - loss: 0.3977 - accuracy: 0.85 - ETA: 0s - loss: 0.3981 - accuracy: 0.85 - ETA: 0s - loss: 0.3976 - accuracy: 0.85 - ETA: 0s - loss: 0.3967 - accuracy: 0.86 - ETA: 0s - loss: 0.3969 - accuracy: 0.86 - ETA: 0s - loss: 0.3971 - accuracy: 0.85 - ETA: 0s - loss: 0.3968 - accuracy: 0.85 - ETA: 0s - loss: 0.3967 - accuracy: 0.85 - ETA: 0s - loss: 0.3968 - accuracy: 0.85 - ETA: 0s - loss: 0.3969 - accuracy: 0.85 - ETA: 0s - loss: 0.3973 - accuracy: 0.85 - ETA: 0s - loss: 0.3972 - accuracy: 0.85 - 6s 3ms/step - loss: 0.3973 - accuracy: 0.8595 - val_loss: 0.5008 - val_accuracy: 0.8302\n"
     ]
    },
    {
     "data": {
      "text/html": [
       "<span style=\"color:#4527A0\"><h1 style=\"font-size:18px\">Trial complete</h1></span>"
      ],
      "text/plain": [
       "<IPython.core.display.HTML object>"
      ]
     },
     "metadata": {},
     "output_type": "display_data"
    },
    {
     "data": {
      "text/html": [
       "<span style=\"color:#4527A0\"><h1 style=\"font-size:18px\">Trial summary</h1></span>"
      ],
      "text/plain": [
       "<IPython.core.display.HTML object>"
      ]
     },
     "metadata": {},
     "output_type": "display_data"
    },
    {
     "data": {
      "text/html": [
       "<span style=\"color:cyan\"> |-Trial ID: a5d430512d44fdea0271aadf1895924c</span>"
      ],
      "text/plain": [
       "<IPython.core.display.HTML object>"
      ]
     },
     "metadata": {},
     "output_type": "display_data"
    },
    {
     "data": {
      "text/html": [
       "<span style=\"color:cyan\"> |-Score: 0.8456000089645386</span>"
      ],
      "text/plain": [
       "<IPython.core.display.HTML object>"
      ]
     },
     "metadata": {},
     "output_type": "display_data"
    },
    {
     "data": {
      "text/html": [
       "<span style=\"color:cyan\"> |-Best step: 0</span>"
      ],
      "text/plain": [
       "<IPython.core.display.HTML object>"
      ]
     },
     "metadata": {},
     "output_type": "display_data"
    },
    {
     "data": {
      "text/html": [
       "<span style=\"color:#7E57C2\"><h2 style=\"font-size:16px\">Hyperparameters:</h2></span>"
      ],
      "text/plain": [
       "<IPython.core.display.HTML object>"
      ]
     },
     "metadata": {},
     "output_type": "display_data"
    },
    {
     "data": {
      "text/html": [
       "<span style=\"color:cyan\"> |-learning_rate: 0.01</span>"
      ],
      "text/plain": [
       "<IPython.core.display.HTML object>"
      ]
     },
     "metadata": {},
     "output_type": "display_data"
    },
    {
     "data": {
      "text/html": [
       "<span style=\"color:blue\"> |-tuner/bracket: 1</span>"
      ],
      "text/plain": [
       "<IPython.core.display.HTML object>"
      ]
     },
     "metadata": {},
     "output_type": "display_data"
    },
    {
     "data": {
      "text/html": [
       "<span style=\"color:cyan\"> |-tuner/epochs: 4</span>"
      ],
      "text/plain": [
       "<IPython.core.display.HTML object>"
      ]
     },
     "metadata": {},
     "output_type": "display_data"
    },
    {
     "data": {
      "text/html": [
       "<span style=\"color:blue\"> |-tuner/initial_epoch: 0</span>"
      ],
      "text/plain": [
       "<IPython.core.display.HTML object>"
      ]
     },
     "metadata": {},
     "output_type": "display_data"
    },
    {
     "data": {
      "text/html": [
       "<span style=\"color:cyan\"> |-tuner/round: 0</span>"
      ],
      "text/plain": [
       "<IPython.core.display.HTML object>"
      ]
     },
     "metadata": {},
     "output_type": "display_data"
    },
    {
     "data": {
      "text/html": [
       "<span style=\"color:blue\"> |-units: 448</span>"
      ],
      "text/plain": [
       "<IPython.core.display.HTML object>"
      ]
     },
     "metadata": {},
     "output_type": "display_data"
    },
    {
     "name": "stdout",
     "output_type": "stream",
     "text": [
      "Epoch 5/10\n",
      "   2/1875 [..............................] - ETA: 0s - loss: 2.3607 - accuracy: 0.12 - ETA: 5:12 - loss: 2.1801 - accuracy: 0.2812WARNING:tensorflow:Method (on_train_batch_end) is slow compared to the batch update (0.169670). Check your callbacks.\n",
      "1875/1875 [==============================] - ETA: 24s - loss: 1.3124 - accuracy: 0.5668 - ETA: 14s - loss: 1.1079 - accuracy: 0.626 - ETA: 11s - loss: 0.9896 - accuracy: 0.666 - ETA: 9s - loss: 0.9201 - accuracy: 0.684 - ETA: 7s - loss: 0.8591 - accuracy: 0.70 - ETA: 6s - loss: 0.8068 - accuracy: 0.72 - ETA: 5s - loss: 0.7760 - accuracy: 0.72 - ETA: 5s - loss: 0.7495 - accuracy: 0.73 - ETA: 5s - loss: 0.7332 - accuracy: 0.74 - ETA: 4s - loss: 0.7132 - accuracy: 0.75 - ETA: 4s - loss: 0.7029 - accuracy: 0.75 - ETA: 4s - loss: 0.6877 - accuracy: 0.76 - ETA: 3s - loss: 0.6760 - accuracy: 0.76 - ETA: 3s - loss: 0.6655 - accuracy: 0.76 - ETA: 3s - loss: 0.6582 - accuracy: 0.77 - ETA: 3s - loss: 0.6474 - accuracy: 0.77 - ETA: 3s - loss: 0.6361 - accuracy: 0.77 - ETA: 3s - loss: 0.6279 - accuracy: 0.78 - ETA: 3s - loss: 0.6244 - accuracy: 0.78 - ETA: 3s - loss: 0.6189 - accuracy: 0.78 - ETA: 2s - loss: 0.6121 - accuracy: 0.78 - ETA: 2s - loss: 0.6065 - accuracy: 0.78 - ETA: 2s - loss: 0.5996 - accuracy: 0.79 - ETA: 2s - loss: 0.5941 - accuracy: 0.79 - ETA: 2s - loss: 0.5894 - accuracy: 0.79 - ETA: 2s - loss: 0.5849 - accuracy: 0.79 - ETA: 2s - loss: 0.5812 - accuracy: 0.79 - ETA: 2s - loss: 0.5775 - accuracy: 0.79 - ETA: 2s - loss: 0.5742 - accuracy: 0.80 - ETA: 2s - loss: 0.5683 - accuracy: 0.80 - ETA: 2s - loss: 0.5654 - accuracy: 0.80 - ETA: 2s - loss: 0.5623 - accuracy: 0.80 - ETA: 1s - loss: 0.5588 - accuracy: 0.80 - ETA: 1s - loss: 0.5558 - accuracy: 0.80 - ETA: 1s - loss: 0.5517 - accuracy: 0.80 - ETA: 1s - loss: 0.5496 - accuracy: 0.80 - ETA: 1s - loss: 0.5462 - accuracy: 0.80 - ETA: 1s - loss: 0.5430 - accuracy: 0.81 - ETA: 1s - loss: 0.5408 - accuracy: 0.81 - ETA: 1s - loss: 0.5374 - accuracy: 0.81 - ETA: 1s - loss: 0.5354 - accuracy: 0.81 - ETA: 1s - loss: 0.5335 - accuracy: 0.81 - ETA: 1s - loss: 0.5322 - accuracy: 0.81 - ETA: 1s - loss: 0.5304 - accuracy: 0.81 - ETA: 1s - loss: 0.5274 - accuracy: 0.81 - ETA: 1s - loss: 0.5257 - accuracy: 0.81 - ETA: 1s - loss: 0.5229 - accuracy: 0.81 - ETA: 1s - loss: 0.5218 - accuracy: 0.81 - ETA: 0s - loss: 0.5197 - accuracy: 0.81 - ETA: 0s - loss: 0.5176 - accuracy: 0.81 - ETA: 0s - loss: 0.5162 - accuracy: 0.81 - ETA: 0s - loss: 0.5148 - accuracy: 0.81 - ETA: 0s - loss: 0.5131 - accuracy: 0.81 - ETA: 0s - loss: 0.5104 - accuracy: 0.82 - ETA: 0s - loss: 0.5085 - accuracy: 0.82 - ETA: 0s - loss: 0.5072 - accuracy: 0.82 - ETA: 0s - loss: 0.5061 - accuracy: 0.82 - ETA: 0s - loss: 0.5039 - accuracy: 0.82 - ETA: 0s - loss: 0.5025 - accuracy: 0.82 - ETA: 0s - loss: 0.5012 - accuracy: 0.82 - ETA: 0s - loss: 0.5000 - accuracy: 0.82 - ETA: 0s - loss: 0.4977 - accuracy: 0.82 - ETA: 0s - loss: 0.4957 - accuracy: 0.82 - ETA: 0s - loss: 0.4940 - accuracy: 0.82 - ETA: 0s - loss: 0.4923 - accuracy: 0.82 - ETA: 0s - loss: 0.4922 - accuracy: 0.82 - 4s 2ms/step - loss: 0.4920 - accuracy: 0.8264 - val_loss: 0.4577 - val_accuracy: 0.8307\n",
      "Epoch 6/10\n",
      "1875/1875 [==============================] - ETA: 0s - loss: 0.3488 - accuracy: 0.87 - ETA: 4s - loss: 0.3728 - accuracy: 0.87 - ETA: 4s - loss: 0.4109 - accuracy: 0.85 - ETA: 4s - loss: 0.4092 - accuracy: 0.85 - ETA: 3s - loss: 0.4088 - accuracy: 0.85 - ETA: 3s - loss: 0.4069 - accuracy: 0.85 - ETA: 3s - loss: 0.4015 - accuracy: 0.85 - ETA: 3s - loss: 0.4061 - accuracy: 0.85 - ETA: 3s - loss: 0.4040 - accuracy: 0.85 - ETA: 3s - loss: 0.3952 - accuracy: 0.85 - ETA: 3s - loss: 0.3954 - accuracy: 0.85 - ETA: 3s - loss: 0.3992 - accuracy: 0.85 - ETA: 3s - loss: 0.3936 - accuracy: 0.85 - ETA: 3s - loss: 0.3925 - accuracy: 0.85 - ETA: 3s - loss: 0.3954 - accuracy: 0.85 - ETA: 2s - loss: 0.3929 - accuracy: 0.85 - ETA: 2s - loss: 0.3897 - accuracy: 0.86 - ETA: 2s - loss: 0.3891 - accuracy: 0.85 - ETA: 2s - loss: 0.3888 - accuracy: 0.86 - ETA: 2s - loss: 0.3881 - accuracy: 0.86 - ETA: 2s - loss: 0.3860 - accuracy: 0.86 - ETA: 2s - loss: 0.3844 - accuracy: 0.86 - ETA: 2s - loss: 0.3850 - accuracy: 0.86 - ETA: 2s - loss: 0.3843 - accuracy: 0.86 - ETA: 2s - loss: 0.3826 - accuracy: 0.86 - ETA: 2s - loss: 0.3831 - accuracy: 0.86 - ETA: 2s - loss: 0.3825 - accuracy: 0.86 - ETA: 2s - loss: 0.3818 - accuracy: 0.86 - ETA: 2s - loss: 0.3809 - accuracy: 0.86 - ETA: 2s - loss: 0.3806 - accuracy: 0.86 - ETA: 2s - loss: 0.3801 - accuracy: 0.86 - ETA: 2s - loss: 0.3798 - accuracy: 0.86 - ETA: 2s - loss: 0.3802 - accuracy: 0.86 - ETA: 1s - loss: 0.3782 - accuracy: 0.86 - ETA: 1s - loss: 0.3801 - accuracy: 0.86 - ETA: 1s - loss: 0.3792 - accuracy: 0.86 - ETA: 1s - loss: 0.3780 - accuracy: 0.86 - ETA: 1s - loss: 0.3767 - accuracy: 0.86 - ETA: 1s - loss: 0.3770 - accuracy: 0.86 - ETA: 1s - loss: 0.3778 - accuracy: 0.86 - ETA: 1s - loss: 0.3774 - accuracy: 0.86 - ETA: 1s - loss: 0.3769 - accuracy: 0.86 - ETA: 1s - loss: 0.3780 - accuracy: 0.86 - ETA: 1s - loss: 0.3767 - accuracy: 0.86 - ETA: 1s - loss: 0.3764 - accuracy: 0.86 - ETA: 1s - loss: 0.3761 - accuracy: 0.86 - ETA: 1s - loss: 0.3757 - accuracy: 0.86 - ETA: 1s - loss: 0.3752 - accuracy: 0.86 - ETA: 0s - loss: 0.3742 - accuracy: 0.86 - ETA: 0s - loss: 0.3746 - accuracy: 0.86 - ETA: 0s - loss: 0.3754 - accuracy: 0.86 - ETA: 0s - loss: 0.3758 - accuracy: 0.86 - ETA: 0s - loss: 0.3763 - accuracy: 0.86 - ETA: 0s - loss: 0.3754 - accuracy: 0.86 - ETA: 0s - loss: 0.3750 - accuracy: 0.86 - ETA: 0s - loss: 0.3756 - accuracy: 0.86 - ETA: 0s - loss: 0.3758 - accuracy: 0.86 - ETA: 0s - loss: 0.3752 - accuracy: 0.86 - ETA: 0s - loss: 0.3744 - accuracy: 0.86 - ETA: 0s - loss: 0.3735 - accuracy: 0.86 - ETA: 0s - loss: 0.3731 - accuracy: 0.86 - ETA: 0s - loss: 0.3726 - accuracy: 0.86 - ETA: 0s - loss: 0.3712 - accuracy: 0.86 - ETA: 0s - loss: 0.3705 - accuracy: 0.86 - ETA: 0s - loss: 0.3701 - accuracy: 0.86 - ETA: 0s - loss: 0.3698 - accuracy: 0.86 - 4s 2ms/step - loss: 0.3697 - accuracy: 0.8663 - val_loss: 0.3933 - val_accuracy: 0.8543\n",
      "Epoch 7/10\n"
     ]
    },
    {
     "name": "stdout",
     "output_type": "stream",
     "text": [
      "1875/1875 [==============================] - ETA: 0s - loss: 0.2954 - accuracy: 0.84 - ETA: 4s - loss: 0.3074 - accuracy: 0.88 - ETA: 4s - loss: 0.3003 - accuracy: 0.88 - ETA: 4s - loss: 0.3174 - accuracy: 0.88 - ETA: 3s - loss: 0.3264 - accuracy: 0.87 - ETA: 3s - loss: 0.3242 - accuracy: 0.87 - ETA: 3s - loss: 0.3300 - accuracy: 0.87 - ETA: 3s - loss: 0.3306 - accuracy: 0.87 - ETA: 3s - loss: 0.3302 - accuracy: 0.87 - ETA: 3s - loss: 0.3312 - accuracy: 0.87 - ETA: 3s - loss: 0.3318 - accuracy: 0.87 - ETA: 3s - loss: 0.3354 - accuracy: 0.87 - ETA: 3s - loss: 0.3399 - accuracy: 0.87 - ETA: 3s - loss: 0.3401 - accuracy: 0.87 - ETA: 3s - loss: 0.3421 - accuracy: 0.87 - ETA: 3s - loss: 0.3427 - accuracy: 0.87 - ETA: 3s - loss: 0.3397 - accuracy: 0.87 - ETA: 2s - loss: 0.3375 - accuracy: 0.87 - ETA: 2s - loss: 0.3376 - accuracy: 0.87 - ETA: 2s - loss: 0.3367 - accuracy: 0.87 - ETA: 2s - loss: 0.3375 - accuracy: 0.87 - ETA: 2s - loss: 0.3381 - accuracy: 0.87 - ETA: 2s - loss: 0.3356 - accuracy: 0.87 - ETA: 2s - loss: 0.3347 - accuracy: 0.87 - ETA: 2s - loss: 0.3340 - accuracy: 0.87 - ETA: 2s - loss: 0.3331 - accuracy: 0.87 - ETA: 2s - loss: 0.3317 - accuracy: 0.87 - ETA: 2s - loss: 0.3310 - accuracy: 0.87 - ETA: 2s - loss: 0.3320 - accuracy: 0.87 - ETA: 2s - loss: 0.3312 - accuracy: 0.87 - ETA: 2s - loss: 0.3307 - accuracy: 0.87 - ETA: 2s - loss: 0.3319 - accuracy: 0.87 - ETA: 1s - loss: 0.3324 - accuracy: 0.87 - ETA: 1s - loss: 0.3317 - accuracy: 0.87 - ETA: 1s - loss: 0.3306 - accuracy: 0.87 - ETA: 1s - loss: 0.3307 - accuracy: 0.87 - ETA: 1s - loss: 0.3302 - accuracy: 0.87 - ETA: 1s - loss: 0.3301 - accuracy: 0.87 - ETA: 1s - loss: 0.3293 - accuracy: 0.87 - ETA: 1s - loss: 0.3307 - accuracy: 0.87 - ETA: 1s - loss: 0.3316 - accuracy: 0.87 - ETA: 1s - loss: 0.3304 - accuracy: 0.87 - ETA: 1s - loss: 0.3322 - accuracy: 0.87 - ETA: 1s - loss: 0.3314 - accuracy: 0.87 - ETA: 1s - loss: 0.3321 - accuracy: 0.87 - ETA: 1s - loss: 0.3317 - accuracy: 0.87 - ETA: 1s - loss: 0.3325 - accuracy: 0.87 - ETA: 0s - loss: 0.3328 - accuracy: 0.87 - ETA: 0s - loss: 0.3330 - accuracy: 0.87 - ETA: 0s - loss: 0.3326 - accuracy: 0.87 - ETA: 0s - loss: 0.3313 - accuracy: 0.87 - ETA: 0s - loss: 0.3313 - accuracy: 0.87 - ETA: 0s - loss: 0.3307 - accuracy: 0.87 - ETA: 0s - loss: 0.3312 - accuracy: 0.87 - ETA: 0s - loss: 0.3307 - accuracy: 0.87 - ETA: 0s - loss: 0.3308 - accuracy: 0.87 - ETA: 0s - loss: 0.3300 - accuracy: 0.87 - ETA: 0s - loss: 0.3301 - accuracy: 0.87 - ETA: 0s - loss: 0.3296 - accuracy: 0.87 - ETA: 0s - loss: 0.3296 - accuracy: 0.87 - ETA: 0s - loss: 0.3299 - accuracy: 0.87 - ETA: 0s - loss: 0.3300 - accuracy: 0.87 - ETA: 0s - loss: 0.3295 - accuracy: 0.87 - ETA: 0s - loss: 0.3296 - accuracy: 0.87 - 4s 2ms/step - loss: 0.3294 - accuracy: 0.8793 - val_loss: 0.3681 - val_accuracy: 0.8654\n",
      "Epoch 8/10\n",
      "1875/1875 [==============================] - ETA: 0s - loss: 0.7502 - accuracy: 0.68 - ETA: 4s - loss: 0.2774 - accuracy: 0.89 - ETA: 4s - loss: 0.2961 - accuracy: 0.89 - ETA: 4s - loss: 0.3198 - accuracy: 0.88 - ETA: 4s - loss: 0.3270 - accuracy: 0.88 - ETA: 3s - loss: 0.3147 - accuracy: 0.88 - ETA: 3s - loss: 0.3066 - accuracy: 0.88 - ETA: 3s - loss: 0.3110 - accuracy: 0.88 - ETA: 3s - loss: 0.3142 - accuracy: 0.88 - ETA: 3s - loss: 0.3136 - accuracy: 0.88 - ETA: 3s - loss: 0.3061 - accuracy: 0.89 - ETA: 3s - loss: 0.3046 - accuracy: 0.89 - ETA: 3s - loss: 0.3055 - accuracy: 0.89 - ETA: 3s - loss: 0.3064 - accuracy: 0.89 - ETA: 3s - loss: 0.3020 - accuracy: 0.89 - ETA: 3s - loss: 0.3040 - accuracy: 0.89 - ETA: 3s - loss: 0.3054 - accuracy: 0.88 - ETA: 3s - loss: 0.3060 - accuracy: 0.88 - ETA: 2s - loss: 0.3054 - accuracy: 0.88 - ETA: 2s - loss: 0.3046 - accuracy: 0.88 - ETA: 2s - loss: 0.3037 - accuracy: 0.89 - ETA: 2s - loss: 0.3052 - accuracy: 0.88 - ETA: 2s - loss: 0.3058 - accuracy: 0.88 - ETA: 2s - loss: 0.3090 - accuracy: 0.88 - ETA: 2s - loss: 0.3085 - accuracy: 0.88 - ETA: 2s - loss: 0.3081 - accuracy: 0.88 - ETA: 2s - loss: 0.3095 - accuracy: 0.88 - ETA: 2s - loss: 0.3103 - accuracy: 0.88 - ETA: 2s - loss: 0.3103 - accuracy: 0.88 - ETA: 2s - loss: 0.3092 - accuracy: 0.88 - ETA: 2s - loss: 0.3083 - accuracy: 0.88 - ETA: 2s - loss: 0.3072 - accuracy: 0.88 - ETA: 2s - loss: 0.3076 - accuracy: 0.88 - ETA: 2s - loss: 0.3077 - accuracy: 0.88 - ETA: 1s - loss: 0.3083 - accuracy: 0.88 - ETA: 1s - loss: 0.3087 - accuracy: 0.88 - ETA: 1s - loss: 0.3091 - accuracy: 0.88 - ETA: 1s - loss: 0.3087 - accuracy: 0.88 - ETA: 1s - loss: 0.3096 - accuracy: 0.88 - ETA: 1s - loss: 0.3086 - accuracy: 0.88 - ETA: 1s - loss: 0.3087 - accuracy: 0.88 - ETA: 1s - loss: 0.3088 - accuracy: 0.88 - ETA: 1s - loss: 0.3091 - accuracy: 0.88 - ETA: 1s - loss: 0.3093 - accuracy: 0.88 - ETA: 1s - loss: 0.3102 - accuracy: 0.88 - ETA: 1s - loss: 0.3084 - accuracy: 0.88 - ETA: 1s - loss: 0.3078 - accuracy: 0.88 - ETA: 1s - loss: 0.3082 - accuracy: 0.88 - ETA: 1s - loss: 0.3092 - accuracy: 0.88 - ETA: 1s - loss: 0.3087 - accuracy: 0.88 - ETA: 0s - loss: 0.3087 - accuracy: 0.88 - ETA: 0s - loss: 0.3085 - accuracy: 0.88 - ETA: 0s - loss: 0.3078 - accuracy: 0.88 - ETA: 0s - loss: 0.3088 - accuracy: 0.88 - ETA: 0s - loss: 0.3091 - accuracy: 0.88 - ETA: 0s - loss: 0.3096 - accuracy: 0.88 - ETA: 0s - loss: 0.3094 - accuracy: 0.88 - ETA: 0s - loss: 0.3091 - accuracy: 0.88 - ETA: 0s - loss: 0.3082 - accuracy: 0.88 - ETA: 0s - loss: 0.3086 - accuracy: 0.88 - ETA: 0s - loss: 0.3090 - accuracy: 0.88 - ETA: 0s - loss: 0.3093 - accuracy: 0.88 - ETA: 0s - loss: 0.3090 - accuracy: 0.88 - ETA: 0s - loss: 0.3084 - accuracy: 0.88 - ETA: 0s - loss: 0.3082 - accuracy: 0.88 - ETA: 0s - loss: 0.3081 - accuracy: 0.88 - 4s 2ms/step - loss: 0.3079 - accuracy: 0.8862 - val_loss: 0.3522 - val_accuracy: 0.8676\n",
      "Epoch 9/10\n"
     ]
    },
    {
     "name": "stdout",
     "output_type": "stream",
     "text": [
      "1875/1875 [==============================] - ETA: 0s - loss: 0.3019 - accuracy: 0.87 - ETA: 4s - loss: 0.3104 - accuracy: 0.88 - ETA: 4s - loss: 0.3007 - accuracy: 0.88 - ETA: 4s - loss: 0.3077 - accuracy: 0.88 - ETA: 4s - loss: 0.2941 - accuracy: 0.89 - ETA: 4s - loss: 0.2925 - accuracy: 0.89 - ETA: 4s - loss: 0.2870 - accuracy: 0.89 - ETA: 4s - loss: 0.2859 - accuracy: 0.89 - ETA: 4s - loss: 0.2841 - accuracy: 0.89 - ETA: 3s - loss: 0.2879 - accuracy: 0.89 - ETA: 3s - loss: 0.2875 - accuracy: 0.89 - ETA: 3s - loss: 0.2861 - accuracy: 0.89 - ETA: 3s - loss: 0.2887 - accuracy: 0.89 - ETA: 3s - loss: 0.2888 - accuracy: 0.89 - ETA: 3s - loss: 0.2869 - accuracy: 0.89 - ETA: 3s - loss: 0.2866 - accuracy: 0.89 - ETA: 3s - loss: 0.2882 - accuracy: 0.89 - ETA: 3s - loss: 0.2877 - accuracy: 0.89 - ETA: 3s - loss: 0.2861 - accuracy: 0.89 - ETA: 3s - loss: 0.2872 - accuracy: 0.89 - ETA: 2s - loss: 0.2869 - accuracy: 0.89 - ETA: 2s - loss: 0.2872 - accuracy: 0.89 - ETA: 2s - loss: 0.2877 - accuracy: 0.89 - ETA: 2s - loss: 0.2869 - accuracy: 0.89 - ETA: 2s - loss: 0.2877 - accuracy: 0.89 - ETA: 2s - loss: 0.2872 - accuracy: 0.89 - ETA: 2s - loss: 0.2861 - accuracy: 0.89 - ETA: 2s - loss: 0.2862 - accuracy: 0.89 - ETA: 2s - loss: 0.2864 - accuracy: 0.89 - ETA: 2s - loss: 0.2856 - accuracy: 0.89 - ETA: 2s - loss: 0.2855 - accuracy: 0.89 - ETA: 2s - loss: 0.2860 - accuracy: 0.89 - ETA: 2s - loss: 0.2866 - accuracy: 0.89 - ETA: 2s - loss: 0.2882 - accuracy: 0.89 - ETA: 1s - loss: 0.2888 - accuracy: 0.89 - ETA: 1s - loss: 0.2889 - accuracy: 0.89 - ETA: 1s - loss: 0.2890 - accuracy: 0.89 - ETA: 1s - loss: 0.2890 - accuracy: 0.89 - ETA: 1s - loss: 0.2899 - accuracy: 0.89 - ETA: 1s - loss: 0.2896 - accuracy: 0.89 - ETA: 1s - loss: 0.2897 - accuracy: 0.89 - ETA: 1s - loss: 0.2891 - accuracy: 0.89 - ETA: 1s - loss: 0.2897 - accuracy: 0.89 - ETA: 1s - loss: 0.2890 - accuracy: 0.89 - ETA: 1s - loss: 0.2889 - accuracy: 0.89 - ETA: 1s - loss: 0.2891 - accuracy: 0.89 - ETA: 1s - loss: 0.2888 - accuracy: 0.89 - ETA: 1s - loss: 0.2885 - accuracy: 0.89 - ETA: 1s - loss: 0.2887 - accuracy: 0.89 - ETA: 0s - loss: 0.2887 - accuracy: 0.89 - ETA: 0s - loss: 0.2884 - accuracy: 0.89 - ETA: 0s - loss: 0.2881 - accuracy: 0.89 - ETA: 0s - loss: 0.2893 - accuracy: 0.89 - ETA: 0s - loss: 0.2889 - accuracy: 0.89 - ETA: 0s - loss: 0.2899 - accuracy: 0.89 - ETA: 0s - loss: 0.2900 - accuracy: 0.89 - ETA: 0s - loss: 0.2904 - accuracy: 0.89 - ETA: 0s - loss: 0.2911 - accuracy: 0.89 - ETA: 0s - loss: 0.2913 - accuracy: 0.89 - ETA: 0s - loss: 0.2908 - accuracy: 0.89 - ETA: 0s - loss: 0.2913 - accuracy: 0.89 - ETA: 0s - loss: 0.2906 - accuracy: 0.89 - ETA: 0s - loss: 0.2901 - accuracy: 0.89 - ETA: 0s - loss: 0.2905 - accuracy: 0.89 - ETA: 0s - loss: 0.2906 - accuracy: 0.89 - ETA: 0s - loss: 0.2904 - accuracy: 0.89 - 4s 2ms/step - loss: 0.2900 - accuracy: 0.8934 - val_loss: 0.3571 - val_accuracy: 0.8706\n",
      "Epoch 10/10\n",
      "1875/1875 [==============================] - ETA: 0s - loss: 0.3287 - accuracy: 0.87 - ETA: 4s - loss: 0.2403 - accuracy: 0.90 - ETA: 3s - loss: 0.2510 - accuracy: 0.90 - ETA: 3s - loss: 0.2417 - accuracy: 0.90 - ETA: 3s - loss: 0.2493 - accuracy: 0.90 - ETA: 3s - loss: 0.2412 - accuracy: 0.90 - ETA: 3s - loss: 0.2484 - accuracy: 0.90 - ETA: 3s - loss: 0.2492 - accuracy: 0.90 - ETA: 3s - loss: 0.2488 - accuracy: 0.90 - ETA: 3s - loss: 0.2496 - accuracy: 0.90 - ETA: 3s - loss: 0.2510 - accuracy: 0.90 - ETA: 3s - loss: 0.2511 - accuracy: 0.90 - ETA: 3s - loss: 0.2501 - accuracy: 0.90 - ETA: 3s - loss: 0.2492 - accuracy: 0.90 - ETA: 3s - loss: 0.2485 - accuracy: 0.90 - ETA: 2s - loss: 0.2526 - accuracy: 0.90 - ETA: 2s - loss: 0.2559 - accuracy: 0.90 - ETA: 2s - loss: 0.2570 - accuracy: 0.90 - ETA: 2s - loss: 0.2587 - accuracy: 0.90 - ETA: 2s - loss: 0.2622 - accuracy: 0.90 - ETA: 2s - loss: 0.2639 - accuracy: 0.90 - ETA: 2s - loss: 0.2645 - accuracy: 0.90 - ETA: 2s - loss: 0.2654 - accuracy: 0.90 - ETA: 2s - loss: 0.2649 - accuracy: 0.90 - ETA: 2s - loss: 0.2647 - accuracy: 0.90 - ETA: 2s - loss: 0.2649 - accuracy: 0.90 - ETA: 2s - loss: 0.2644 - accuracy: 0.90 - ETA: 2s - loss: 0.2634 - accuracy: 0.90 - ETA: 2s - loss: 0.2641 - accuracy: 0.90 - ETA: 2s - loss: 0.2650 - accuracy: 0.90 - ETA: 2s - loss: 0.2651 - accuracy: 0.90 - ETA: 2s - loss: 0.2657 - accuracy: 0.90 - ETA: 1s - loss: 0.2671 - accuracy: 0.89 - ETA: 1s - loss: 0.2667 - accuracy: 0.90 - ETA: 1s - loss: 0.2665 - accuracy: 0.89 - ETA: 1s - loss: 0.2657 - accuracy: 0.90 - ETA: 1s - loss: 0.2664 - accuracy: 0.90 - ETA: 1s - loss: 0.2676 - accuracy: 0.89 - ETA: 1s - loss: 0.2679 - accuracy: 0.89 - ETA: 1s - loss: 0.2686 - accuracy: 0.89 - ETA: 1s - loss: 0.2690 - accuracy: 0.89 - ETA: 1s - loss: 0.2695 - accuracy: 0.89 - ETA: 1s - loss: 0.2698 - accuracy: 0.89 - ETA: 1s - loss: 0.2702 - accuracy: 0.89 - ETA: 1s - loss: 0.2705 - accuracy: 0.89 - ETA: 1s - loss: 0.2710 - accuracy: 0.89 - ETA: 1s - loss: 0.2699 - accuracy: 0.89 - ETA: 0s - loss: 0.2700 - accuracy: 0.89 - ETA: 0s - loss: 0.2696 - accuracy: 0.89 - ETA: 0s - loss: 0.2699 - accuracy: 0.89 - ETA: 0s - loss: 0.2699 - accuracy: 0.89 - ETA: 0s - loss: 0.2697 - accuracy: 0.89 - ETA: 0s - loss: 0.2697 - accuracy: 0.89 - ETA: 0s - loss: 0.2704 - accuracy: 0.89 - ETA: 0s - loss: 0.2703 - accuracy: 0.89 - ETA: 0s - loss: 0.2704 - accuracy: 0.89 - ETA: 0s - loss: 0.2709 - accuracy: 0.89 - ETA: 0s - loss: 0.2710 - accuracy: 0.89 - ETA: 0s - loss: 0.2710 - accuracy: 0.89 - ETA: 0s - loss: 0.2707 - accuracy: 0.89 - ETA: 0s - loss: 0.2708 - accuracy: 0.89 - ETA: 0s - loss: 0.2718 - accuracy: 0.89 - ETA: 0s - loss: 0.2711 - accuracy: 0.89 - ETA: 0s - loss: 0.2712 - accuracy: 0.89 - ETA: 0s - loss: 0.2719 - accuracy: 0.89 - 4s 2ms/step - loss: 0.2725 - accuracy: 0.8984 - val_loss: 0.3648 - val_accuracy: 0.8661\n"
     ]
    },
    {
     "data": {
      "text/html": [
       "<span style=\"color:#4527A0\"><h1 style=\"font-size:18px\">Trial complete</h1></span>"
      ],
      "text/plain": [
       "<IPython.core.display.HTML object>"
      ]
     },
     "metadata": {},
     "output_type": "display_data"
    },
    {
     "data": {
      "text/html": [
       "<span style=\"color:#4527A0\"><h1 style=\"font-size:18px\">Trial summary</h1></span>"
      ],
      "text/plain": [
       "<IPython.core.display.HTML object>"
      ]
     },
     "metadata": {},
     "output_type": "display_data"
    },
    {
     "data": {
      "text/html": [
       "<span style=\"color:cyan\"> |-Trial ID: e6289372b35642993c1d8ff6d369ec74</span>"
      ],
      "text/plain": [
       "<IPython.core.display.HTML object>"
      ]
     },
     "metadata": {},
     "output_type": "display_data"
    },
    {
     "data": {
      "text/html": [
       "<span style=\"color:cyan\"> |-Score: 0.8705999851226807</span>"
      ],
      "text/plain": [
       "<IPython.core.display.HTML object>"
      ]
     },
     "metadata": {},
     "output_type": "display_data"
    },
    {
     "data": {
      "text/html": [
       "<span style=\"color:cyan\"> |-Best step: 0</span>"
      ],
      "text/plain": [
       "<IPython.core.display.HTML object>"
      ]
     },
     "metadata": {},
     "output_type": "display_data"
    },
    {
     "data": {
      "text/html": [
       "<span style=\"color:#7E57C2\"><h2 style=\"font-size:16px\">Hyperparameters:</h2></span>"
      ],
      "text/plain": [
       "<IPython.core.display.HTML object>"
      ]
     },
     "metadata": {},
     "output_type": "display_data"
    },
    {
     "data": {
      "text/html": [
       "<span style=\"color:cyan\"> |-learning_rate: 0.001</span>"
      ],
      "text/plain": [
       "<IPython.core.display.HTML object>"
      ]
     },
     "metadata": {},
     "output_type": "display_data"
    },
    {
     "data": {
      "text/html": [
       "<span style=\"color:blue\"> |-tuner/bracket: 1</span>"
      ],
      "text/plain": [
       "<IPython.core.display.HTML object>"
      ]
     },
     "metadata": {},
     "output_type": "display_data"
    },
    {
     "data": {
      "text/html": [
       "<span style=\"color:cyan\"> |-tuner/epochs: 10</span>"
      ],
      "text/plain": [
       "<IPython.core.display.HTML object>"
      ]
     },
     "metadata": {},
     "output_type": "display_data"
    },
    {
     "data": {
      "text/html": [
       "<span style=\"color:blue\"> |-tuner/initial_epoch: 4</span>"
      ],
      "text/plain": [
       "<IPython.core.display.HTML object>"
      ]
     },
     "metadata": {},
     "output_type": "display_data"
    },
    {
     "data": {
      "text/html": [
       "<span style=\"color:cyan\"> |-tuner/round: 1</span>"
      ],
      "text/plain": [
       "<IPython.core.display.HTML object>"
      ]
     },
     "metadata": {},
     "output_type": "display_data"
    },
    {
     "data": {
      "text/html": [
       "<span style=\"color:blue\"> |-tuner/trial_id: 4392d8ea546d508d111c762dba887c38</span>"
      ],
      "text/plain": [
       "<IPython.core.display.HTML object>"
      ]
     },
     "metadata": {},
     "output_type": "display_data"
    },
    {
     "data": {
      "text/html": [
       "<span style=\"color:cyan\"> |-units: 192</span>"
      ],
      "text/plain": [
       "<IPython.core.display.HTML object>"
      ]
     },
     "metadata": {},
     "output_type": "display_data"
    },
    {
     "name": "stdout",
     "output_type": "stream",
     "text": [
      "Epoch 5/10\n",
      "   2/1875 [..............................] - ETA: 0s - loss: 2.4743 - accuracy: 0.12 - ETA: 5:46 - loss: 2.4295 - accuracy: 0.1562WARNING:tensorflow:Method (on_train_batch_end) is slow compared to the batch update (0.186911). Check your callbacks.\n",
      "1875/1875 [==============================] - ETA: 23s - loss: 2.1433 - accuracy: 0.2727 - ETA: 13s - loss: 1.9082 - accuracy: 0.413 - ETA: 9s - loss: 1.7261 - accuracy: 0.485 - ETA: 7s - loss: 1.5825 - accuracy: 0.52 - ETA: 6s - loss: 1.4813 - accuracy: 0.55 - ETA: 5s - loss: 1.3883 - accuracy: 0.58 - ETA: 5s - loss: 1.3148 - accuracy: 0.60 - ETA: 5s - loss: 1.2586 - accuracy: 0.61 - ETA: 4s - loss: 1.2107 - accuracy: 0.63 - ETA: 4s - loss: 1.1700 - accuracy: 0.64 - ETA: 4s - loss: 1.1352 - accuracy: 0.64 - ETA: 3s - loss: 1.1066 - accuracy: 0.65 - ETA: 3s - loss: 1.0801 - accuracy: 0.66 - ETA: 3s - loss: 1.0547 - accuracy: 0.67 - ETA: 3s - loss: 1.0319 - accuracy: 0.68 - ETA: 3s - loss: 1.0127 - accuracy: 0.68 - ETA: 3s - loss: 0.9978 - accuracy: 0.68 - ETA: 3s - loss: 0.9799 - accuracy: 0.69 - ETA: 2s - loss: 0.9651 - accuracy: 0.69 - ETA: 2s - loss: 0.9506 - accuracy: 0.70 - ETA: 2s - loss: 0.9386 - accuracy: 0.70 - ETA: 2s - loss: 0.9253 - accuracy: 0.70 - ETA: 2s - loss: 0.9111 - accuracy: 0.71 - ETA: 2s - loss: 0.8996 - accuracy: 0.71 - ETA: 2s - loss: 0.8894 - accuracy: 0.72 - ETA: 2s - loss: 0.8780 - accuracy: 0.72 - ETA: 2s - loss: 0.8690 - accuracy: 0.72 - ETA: 2s - loss: 0.8605 - accuracy: 0.72 - ETA: 2s - loss: 0.8511 - accuracy: 0.73 - ETA: 2s - loss: 0.8431 - accuracy: 0.73 - ETA: 1s - loss: 0.8358 - accuracy: 0.73 - ETA: 1s - loss: 0.8295 - accuracy: 0.73 - ETA: 1s - loss: 0.8221 - accuracy: 0.73 - ETA: 1s - loss: 0.8152 - accuracy: 0.74 - ETA: 1s - loss: 0.8082 - accuracy: 0.74 - ETA: 1s - loss: 0.8003 - accuracy: 0.74 - ETA: 1s - loss: 0.7943 - accuracy: 0.74 - ETA: 1s - loss: 0.7866 - accuracy: 0.75 - ETA: 1s - loss: 0.7818 - accuracy: 0.75 - ETA: 1s - loss: 0.7764 - accuracy: 0.75 - ETA: 1s - loss: 0.7714 - accuracy: 0.75 - ETA: 1s - loss: 0.7667 - accuracy: 0.75 - ETA: 1s - loss: 0.7629 - accuracy: 0.75 - ETA: 1s - loss: 0.7569 - accuracy: 0.75 - ETA: 1s - loss: 0.7527 - accuracy: 0.75 - ETA: 0s - loss: 0.7491 - accuracy: 0.76 - ETA: 0s - loss: 0.7442 - accuracy: 0.76 - ETA: 0s - loss: 0.7398 - accuracy: 0.76 - ETA: 0s - loss: 0.7359 - accuracy: 0.76 - ETA: 0s - loss: 0.7314 - accuracy: 0.76 - ETA: 0s - loss: 0.7271 - accuracy: 0.76 - ETA: 0s - loss: 0.7231 - accuracy: 0.76 - ETA: 0s - loss: 0.7193 - accuracy: 0.76 - ETA: 0s - loss: 0.7154 - accuracy: 0.77 - ETA: 0s - loss: 0.7122 - accuracy: 0.77 - ETA: 0s - loss: 0.7090 - accuracy: 0.77 - ETA: 0s - loss: 0.7056 - accuracy: 0.77 - ETA: 0s - loss: 0.7023 - accuracy: 0.77 - ETA: 0s - loss: 0.6991 - accuracy: 0.77 - ETA: 0s - loss: 0.6965 - accuracy: 0.77 - ETA: 0s - loss: 0.6936 - accuracy: 0.77 - ETA: 0s - loss: 0.6901 - accuracy: 0.77 - ETA: 0s - loss: 0.6864 - accuracy: 0.77 - 4s 2ms/step - loss: 0.6859 - accuracy: 0.7787 - val_loss: 0.5351 - val_accuracy: 0.8209\n",
      "Epoch 6/10\n",
      "1875/1875 [==============================] - ETA: 0s - loss: 0.5248 - accuracy: 0.81 - ETA: 3s - loss: 0.4983 - accuracy: 0.83 - ETA: 3s - loss: 0.5199 - accuracy: 0.82 - ETA: 3s - loss: 0.4968 - accuracy: 0.83 - ETA: 3s - loss: 0.4904 - accuracy: 0.83 - ETA: 3s - loss: 0.4934 - accuracy: 0.83 - ETA: 3s - loss: 0.4969 - accuracy: 0.83 - ETA: 3s - loss: 0.5026 - accuracy: 0.83 - ETA: 3s - loss: 0.5093 - accuracy: 0.82 - ETA: 3s - loss: 0.5055 - accuracy: 0.83 - ETA: 3s - loss: 0.5076 - accuracy: 0.83 - ETA: 3s - loss: 0.5055 - accuracy: 0.82 - ETA: 3s - loss: 0.5038 - accuracy: 0.83 - ETA: 3s - loss: 0.5002 - accuracy: 0.83 - ETA: 3s - loss: 0.5002 - accuracy: 0.83 - ETA: 3s - loss: 0.4986 - accuracy: 0.83 - ETA: 2s - loss: 0.4947 - accuracy: 0.83 - ETA: 2s - loss: 0.4962 - accuracy: 0.83 - ETA: 2s - loss: 0.4970 - accuracy: 0.83 - ETA: 2s - loss: 0.4953 - accuracy: 0.83 - ETA: 2s - loss: 0.4939 - accuracy: 0.83 - ETA: 2s - loss: 0.4952 - accuracy: 0.83 - ETA: 2s - loss: 0.4949 - accuracy: 0.83 - ETA: 2s - loss: 0.4932 - accuracy: 0.83 - ETA: 2s - loss: 0.4931 - accuracy: 0.83 - ETA: 2s - loss: 0.4943 - accuracy: 0.83 - ETA: 2s - loss: 0.4920 - accuracy: 0.83 - ETA: 2s - loss: 0.4923 - accuracy: 0.83 - ETA: 2s - loss: 0.4915 - accuracy: 0.83 - ETA: 2s - loss: 0.4917 - accuracy: 0.83 - ETA: 2s - loss: 0.4921 - accuracy: 0.83 - ETA: 2s - loss: 0.4909 - accuracy: 0.83 - ETA: 2s - loss: 0.4896 - accuracy: 0.83 - ETA: 1s - loss: 0.4879 - accuracy: 0.83 - ETA: 1s - loss: 0.4855 - accuracy: 0.83 - ETA: 1s - loss: 0.4866 - accuracy: 0.83 - ETA: 1s - loss: 0.4862 - accuracy: 0.83 - ETA: 1s - loss: 0.4853 - accuracy: 0.83 - ETA: 1s - loss: 0.4849 - accuracy: 0.83 - ETA: 1s - loss: 0.4842 - accuracy: 0.83 - ETA: 1s - loss: 0.4836 - accuracy: 0.83 - ETA: 1s - loss: 0.4822 - accuracy: 0.83 - ETA: 1s - loss: 0.4823 - accuracy: 0.83 - ETA: 1s - loss: 0.4823 - accuracy: 0.83 - ETA: 1s - loss: 0.4820 - accuracy: 0.83 - ETA: 1s - loss: 0.4813 - accuracy: 0.83 - ETA: 1s - loss: 0.4808 - accuracy: 0.83 - ETA: 0s - loss: 0.4799 - accuracy: 0.84 - ETA: 0s - loss: 0.4792 - accuracy: 0.84 - ETA: 0s - loss: 0.4781 - accuracy: 0.84 - ETA: 0s - loss: 0.4762 - accuracy: 0.84 - ETA: 0s - loss: 0.4764 - accuracy: 0.84 - ETA: 0s - loss: 0.4759 - accuracy: 0.84 - ETA: 0s - loss: 0.4761 - accuracy: 0.84 - ETA: 0s - loss: 0.4748 - accuracy: 0.84 - ETA: 0s - loss: 0.4739 - accuracy: 0.84 - ETA: 0s - loss: 0.4729 - accuracy: 0.84 - ETA: 0s - loss: 0.4722 - accuracy: 0.84 - ETA: 0s - loss: 0.4711 - accuracy: 0.84 - ETA: 0s - loss: 0.4705 - accuracy: 0.84 - ETA: 0s - loss: 0.4701 - accuracy: 0.84 - ETA: 0s - loss: 0.4699 - accuracy: 0.84 - ETA: 0s - loss: 0.4696 - accuracy: 0.84 - ETA: 0s - loss: 0.4694 - accuracy: 0.84 - ETA: 0s - loss: 0.4685 - accuracy: 0.84 - 4s 2ms/step - loss: 0.4682 - accuracy: 0.8430 - val_loss: 0.4767 - val_accuracy: 0.8342\n",
      "Epoch 7/10\n"
     ]
    },
    {
     "name": "stdout",
     "output_type": "stream",
     "text": [
      "1875/1875 [==============================] - ETA: 0s - loss: 0.3621 - accuracy: 0.84 - ETA: 4s - loss: 0.4390 - accuracy: 0.85 - ETA: 4s - loss: 0.4418 - accuracy: 0.85 - ETA: 4s - loss: 0.4435 - accuracy: 0.84 - ETA: 3s - loss: 0.4406 - accuracy: 0.84 - ETA: 3s - loss: 0.4472 - accuracy: 0.84 - ETA: 3s - loss: 0.4437 - accuracy: 0.84 - ETA: 3s - loss: 0.4449 - accuracy: 0.84 - ETA: 3s - loss: 0.4422 - accuracy: 0.85 - ETA: 3s - loss: 0.4442 - accuracy: 0.84 - ETA: 3s - loss: 0.4426 - accuracy: 0.85 - ETA: 3s - loss: 0.4425 - accuracy: 0.85 - ETA: 3s - loss: 0.4431 - accuracy: 0.85 - ETA: 3s - loss: 0.4421 - accuracy: 0.85 - ETA: 3s - loss: 0.4443 - accuracy: 0.85 - ETA: 3s - loss: 0.4462 - accuracy: 0.84 - ETA: 3s - loss: 0.4435 - accuracy: 0.85 - ETA: 3s - loss: 0.4442 - accuracy: 0.85 - ETA: 3s - loss: 0.4429 - accuracy: 0.85 - ETA: 2s - loss: 0.4416 - accuracy: 0.85 - ETA: 2s - loss: 0.4397 - accuracy: 0.85 - ETA: 2s - loss: 0.4411 - accuracy: 0.85 - ETA: 2s - loss: 0.4389 - accuracy: 0.85 - ETA: 2s - loss: 0.4388 - accuracy: 0.85 - ETA: 2s - loss: 0.4392 - accuracy: 0.85 - ETA: 2s - loss: 0.4394 - accuracy: 0.85 - ETA: 2s - loss: 0.4371 - accuracy: 0.85 - ETA: 2s - loss: 0.4369 - accuracy: 0.85 - ETA: 2s - loss: 0.4349 - accuracy: 0.85 - ETA: 2s - loss: 0.4356 - accuracy: 0.85 - ETA: 2s - loss: 0.4353 - accuracy: 0.85 - ETA: 2s - loss: 0.4348 - accuracy: 0.85 - ETA: 2s - loss: 0.4352 - accuracy: 0.85 - ETA: 2s - loss: 0.4346 - accuracy: 0.85 - ETA: 1s - loss: 0.4354 - accuracy: 0.85 - ETA: 1s - loss: 0.4351 - accuracy: 0.85 - ETA: 1s - loss: 0.4356 - accuracy: 0.85 - ETA: 1s - loss: 0.4357 - accuracy: 0.85 - ETA: 1s - loss: 0.4360 - accuracy: 0.85 - ETA: 1s - loss: 0.4361 - accuracy: 0.85 - ETA: 1s - loss: 0.4350 - accuracy: 0.85 - ETA: 1s - loss: 0.4351 - accuracy: 0.85 - ETA: 1s - loss: 0.4345 - accuracy: 0.85 - ETA: 1s - loss: 0.4341 - accuracy: 0.85 - ETA: 1s - loss: 0.4342 - accuracy: 0.85 - ETA: 1s - loss: 0.4337 - accuracy: 0.85 - ETA: 1s - loss: 0.4321 - accuracy: 0.85 - ETA: 1s - loss: 0.4326 - accuracy: 0.85 - ETA: 1s - loss: 0.4324 - accuracy: 0.85 - ETA: 0s - loss: 0.4319 - accuracy: 0.85 - ETA: 0s - loss: 0.4311 - accuracy: 0.85 - ETA: 0s - loss: 0.4302 - accuracy: 0.85 - ETA: 0s - loss: 0.4291 - accuracy: 0.85 - ETA: 0s - loss: 0.4274 - accuracy: 0.85 - ETA: 0s - loss: 0.4279 - accuracy: 0.85 - ETA: 0s - loss: 0.4269 - accuracy: 0.85 - ETA: 0s - loss: 0.4275 - accuracy: 0.85 - ETA: 0s - loss: 0.4272 - accuracy: 0.85 - ETA: 0s - loss: 0.4268 - accuracy: 0.85 - ETA: 0s - loss: 0.4261 - accuracy: 0.85 - ETA: 0s - loss: 0.4264 - accuracy: 0.85 - ETA: 0s - loss: 0.4261 - accuracy: 0.85 - ETA: 0s - loss: 0.4255 - accuracy: 0.85 - ETA: 0s - loss: 0.4252 - accuracy: 0.85 - ETA: 0s - loss: 0.4246 - accuracy: 0.85 - ETA: 0s - loss: 0.4246 - accuracy: 0.85 - ETA: 0s - loss: 0.4240 - accuracy: 0.85 - 4s 2ms/step - loss: 0.4240 - accuracy: 0.8546 - val_loss: 0.4386 - val_accuracy: 0.8491\n",
      "Epoch 8/10\n",
      "1875/1875 [==============================] - ETA: 0s - loss: 0.4634 - accuracy: 0.87 - ETA: 3s - loss: 0.4294 - accuracy: 0.87 - ETA: 3s - loss: 0.4177 - accuracy: 0.87 - ETA: 3s - loss: 0.4043 - accuracy: 0.87 - ETA: 3s - loss: 0.4106 - accuracy: 0.86 - ETA: 3s - loss: 0.4193 - accuracy: 0.86 - ETA: 3s - loss: 0.4188 - accuracy: 0.86 - ETA: 3s - loss: 0.4206 - accuracy: 0.86 - ETA: 3s - loss: 0.4187 - accuracy: 0.86 - ETA: 3s - loss: 0.4201 - accuracy: 0.85 - ETA: 3s - loss: 0.4194 - accuracy: 0.86 - ETA: 3s - loss: 0.4131 - accuracy: 0.86 - ETA: 3s - loss: 0.4104 - accuracy: 0.86 - ETA: 3s - loss: 0.4107 - accuracy: 0.86 - ETA: 3s - loss: 0.4107 - accuracy: 0.86 - ETA: 3s - loss: 0.4108 - accuracy: 0.86 - ETA: 2s - loss: 0.4104 - accuracy: 0.86 - ETA: 2s - loss: 0.4117 - accuracy: 0.86 - ETA: 2s - loss: 0.4093 - accuracy: 0.86 - ETA: 2s - loss: 0.4107 - accuracy: 0.85 - ETA: 2s - loss: 0.4100 - accuracy: 0.86 - ETA: 2s - loss: 0.4084 - accuracy: 0.86 - ETA: 2s - loss: 0.4078 - accuracy: 0.86 - ETA: 2s - loss: 0.4087 - accuracy: 0.86 - ETA: 2s - loss: 0.4072 - accuracy: 0.86 - ETA: 2s - loss: 0.4070 - accuracy: 0.86 - ETA: 2s - loss: 0.4070 - accuracy: 0.86 - ETA: 2s - loss: 0.4063 - accuracy: 0.86 - ETA: 2s - loss: 0.4074 - accuracy: 0.86 - ETA: 2s - loss: 0.4074 - accuracy: 0.86 - ETA: 2s - loss: 0.4092 - accuracy: 0.86 - ETA: 2s - loss: 0.4113 - accuracy: 0.85 - ETA: 2s - loss: 0.4109 - accuracy: 0.85 - ETA: 1s - loss: 0.4112 - accuracy: 0.85 - ETA: 1s - loss: 0.4104 - accuracy: 0.85 - ETA: 1s - loss: 0.4097 - accuracy: 0.86 - ETA: 1s - loss: 0.4091 - accuracy: 0.86 - ETA: 1s - loss: 0.4081 - accuracy: 0.86 - ETA: 1s - loss: 0.4083 - accuracy: 0.86 - ETA: 1s - loss: 0.4078 - accuracy: 0.86 - ETA: 1s - loss: 0.4059 - accuracy: 0.86 - ETA: 1s - loss: 0.4054 - accuracy: 0.86 - ETA: 1s - loss: 0.4050 - accuracy: 0.86 - ETA: 1s - loss: 0.4037 - accuracy: 0.86 - ETA: 1s - loss: 0.4019 - accuracy: 0.86 - ETA: 1s - loss: 0.4011 - accuracy: 0.86 - ETA: 1s - loss: 0.4014 - accuracy: 0.86 - ETA: 1s - loss: 0.4010 - accuracy: 0.86 - ETA: 0s - loss: 0.4003 - accuracy: 0.86 - ETA: 0s - loss: 0.3997 - accuracy: 0.86 - ETA: 0s - loss: 0.3999 - accuracy: 0.86 - ETA: 0s - loss: 0.3997 - accuracy: 0.86 - ETA: 0s - loss: 0.4002 - accuracy: 0.86 - ETA: 0s - loss: 0.4001 - accuracy: 0.86 - ETA: 0s - loss: 0.3991 - accuracy: 0.86 - ETA: 0s - loss: 0.3988 - accuracy: 0.86 - ETA: 0s - loss: 0.3990 - accuracy: 0.86 - ETA: 0s - loss: 0.3990 - accuracy: 0.86 - ETA: 0s - loss: 0.3990 - accuracy: 0.86 - ETA: 0s - loss: 0.3989 - accuracy: 0.86 - ETA: 0s - loss: 0.3989 - accuracy: 0.86 - ETA: 0s - loss: 0.3990 - accuracy: 0.86 - ETA: 0s - loss: 0.3985 - accuracy: 0.86 - ETA: 0s - loss: 0.3984 - accuracy: 0.86 - ETA: 0s - loss: 0.3981 - accuracy: 0.86 - 4s 2ms/step - loss: 0.3981 - accuracy: 0.8633 - val_loss: 0.4237 - val_accuracy: 0.8535\n",
      "Epoch 9/10\n"
     ]
    },
    {
     "name": "stdout",
     "output_type": "stream",
     "text": [
      "1875/1875 [==============================] - ETA: 0s - loss: 0.3453 - accuracy: 0.84 - ETA: 4s - loss: 0.3772 - accuracy: 0.86 - ETA: 4s - loss: 0.4058 - accuracy: 0.85 - ETA: 4s - loss: 0.4095 - accuracy: 0.85 - ETA: 3s - loss: 0.4090 - accuracy: 0.85 - ETA: 3s - loss: 0.4046 - accuracy: 0.86 - ETA: 3s - loss: 0.4030 - accuracy: 0.86 - ETA: 3s - loss: 0.3965 - accuracy: 0.86 - ETA: 3s - loss: 0.3942 - accuracy: 0.86 - ETA: 3s - loss: 0.3981 - accuracy: 0.86 - ETA: 3s - loss: 0.3981 - accuracy: 0.86 - ETA: 3s - loss: 0.4002 - accuracy: 0.86 - ETA: 3s - loss: 0.3990 - accuracy: 0.86 - ETA: 3s - loss: 0.3951 - accuracy: 0.86 - ETA: 3s - loss: 0.3923 - accuracy: 0.86 - ETA: 3s - loss: 0.3921 - accuracy: 0.86 - ETA: 3s - loss: 0.3893 - accuracy: 0.86 - ETA: 3s - loss: 0.3905 - accuracy: 0.86 - ETA: 3s - loss: 0.3905 - accuracy: 0.86 - ETA: 2s - loss: 0.3898 - accuracy: 0.86 - ETA: 2s - loss: 0.3883 - accuracy: 0.86 - ETA: 2s - loss: 0.3879 - accuracy: 0.86 - ETA: 2s - loss: 0.3872 - accuracy: 0.86 - ETA: 2s - loss: 0.3875 - accuracy: 0.86 - ETA: 2s - loss: 0.3877 - accuracy: 0.86 - ETA: 2s - loss: 0.3877 - accuracy: 0.86 - ETA: 2s - loss: 0.3884 - accuracy: 0.86 - ETA: 2s - loss: 0.3876 - accuracy: 0.86 - ETA: 2s - loss: 0.3867 - accuracy: 0.86 - ETA: 2s - loss: 0.3852 - accuracy: 0.86 - ETA: 2s - loss: 0.3835 - accuracy: 0.86 - ETA: 2s - loss: 0.3839 - accuracy: 0.86 - ETA: 2s - loss: 0.3833 - accuracy: 0.86 - ETA: 2s - loss: 0.3829 - accuracy: 0.86 - ETA: 1s - loss: 0.3830 - accuracy: 0.86 - ETA: 1s - loss: 0.3819 - accuracy: 0.86 - ETA: 1s - loss: 0.3823 - accuracy: 0.86 - ETA: 1s - loss: 0.3824 - accuracy: 0.86 - ETA: 1s - loss: 0.3821 - accuracy: 0.86 - ETA: 1s - loss: 0.3833 - accuracy: 0.86 - ETA: 1s - loss: 0.3827 - accuracy: 0.86 - ETA: 1s - loss: 0.3835 - accuracy: 0.86 - ETA: 1s - loss: 0.3829 - accuracy: 0.86 - ETA: 1s - loss: 0.3828 - accuracy: 0.86 - ETA: 1s - loss: 0.3832 - accuracy: 0.86 - ETA: 1s - loss: 0.3834 - accuracy: 0.86 - ETA: 1s - loss: 0.3830 - accuracy: 0.86 - ETA: 1s - loss: 0.3833 - accuracy: 0.86 - ETA: 1s - loss: 0.3832 - accuracy: 0.86 - ETA: 1s - loss: 0.3834 - accuracy: 0.86 - ETA: 1s - loss: 0.3826 - accuracy: 0.86 - ETA: 1s - loss: 0.3831 - accuracy: 0.86 - ETA: 0s - loss: 0.3831 - accuracy: 0.86 - ETA: 0s - loss: 0.3828 - accuracy: 0.86 - ETA: 0s - loss: 0.3829 - accuracy: 0.86 - ETA: 0s - loss: 0.3833 - accuracy: 0.86 - ETA: 0s - loss: 0.3833 - accuracy: 0.86 - ETA: 0s - loss: 0.3827 - accuracy: 0.86 - ETA: 0s - loss: 0.3821 - accuracy: 0.86 - ETA: 0s - loss: 0.3827 - accuracy: 0.86 - ETA: 0s - loss: 0.3830 - accuracy: 0.86 - ETA: 0s - loss: 0.3829 - accuracy: 0.86 - ETA: 0s - loss: 0.3822 - accuracy: 0.86 - ETA: 0s - loss: 0.3814 - accuracy: 0.86 - ETA: 0s - loss: 0.3817 - accuracy: 0.86 - ETA: 0s - loss: 0.3818 - accuracy: 0.86 - ETA: 0s - loss: 0.3811 - accuracy: 0.86 - ETA: 0s - loss: 0.3813 - accuracy: 0.86 - ETA: 0s - loss: 0.3806 - accuracy: 0.86 - ETA: 0s - loss: 0.3803 - accuracy: 0.86 - 4s 2ms/step - loss: 0.3803 - accuracy: 0.8698 - val_loss: 0.4166 - val_accuracy: 0.8534\n",
      "Epoch 10/10\n",
      "1875/1875 [==============================] - ETA: 0s - loss: 0.5206 - accuracy: 0.84 - ETA: 2s - loss: 0.3744 - accuracy: 0.87 - ETA: 2s - loss: 0.3975 - accuracy: 0.86 - ETA: 2s - loss: 0.3912 - accuracy: 0.86 - ETA: 2s - loss: 0.3789 - accuracy: 0.86 - ETA: 2s - loss: 0.3814 - accuracy: 0.86 - ETA: 2s - loss: 0.3788 - accuracy: 0.86 - ETA: 2s - loss: 0.3753 - accuracy: 0.86 - ETA: 2s - loss: 0.3771 - accuracy: 0.86 - ETA: 2s - loss: 0.3767 - accuracy: 0.86 - ETA: 2s - loss: 0.3806 - accuracy: 0.86 - ETA: 2s - loss: 0.3756 - accuracy: 0.86 - ETA: 2s - loss: 0.3717 - accuracy: 0.87 - ETA: 2s - loss: 0.3694 - accuracy: 0.87 - ETA: 2s - loss: 0.3689 - accuracy: 0.87 - ETA: 2s - loss: 0.3677 - accuracy: 0.87 - ETA: 1s - loss: 0.3689 - accuracy: 0.87 - ETA: 1s - loss: 0.3664 - accuracy: 0.87 - ETA: 1s - loss: 0.3678 - accuracy: 0.87 - ETA: 1s - loss: 0.3656 - accuracy: 0.87 - ETA: 1s - loss: 0.3654 - accuracy: 0.87 - ETA: 1s - loss: 0.3644 - accuracy: 0.87 - ETA: 1s - loss: 0.3641 - accuracy: 0.87 - ETA: 1s - loss: 0.3655 - accuracy: 0.87 - ETA: 1s - loss: 0.3654 - accuracy: 0.87 - ETA: 1s - loss: 0.3653 - accuracy: 0.87 - ETA: 1s - loss: 0.3656 - accuracy: 0.87 - ETA: 1s - loss: 0.3667 - accuracy: 0.87 - ETA: 1s - loss: 0.3677 - accuracy: 0.87 - ETA: 1s - loss: 0.3666 - accuracy: 0.87 - ETA: 1s - loss: 0.3668 - accuracy: 0.87 - ETA: 1s - loss: 0.3667 - accuracy: 0.87 - ETA: 1s - loss: 0.3662 - accuracy: 0.87 - ETA: 1s - loss: 0.3667 - accuracy: 0.87 - ETA: 1s - loss: 0.3665 - accuracy: 0.87 - ETA: 1s - loss: 0.3657 - accuracy: 0.87 - ETA: 1s - loss: 0.3652 - accuracy: 0.87 - ETA: 1s - loss: 0.3654 - accuracy: 0.87 - ETA: 1s - loss: 0.3649 - accuracy: 0.87 - ETA: 1s - loss: 0.3645 - accuracy: 0.87 - ETA: 1s - loss: 0.3632 - accuracy: 0.87 - ETA: 1s - loss: 0.3635 - accuracy: 0.87 - ETA: 0s - loss: 0.3630 - accuracy: 0.87 - ETA: 0s - loss: 0.3637 - accuracy: 0.87 - ETA: 0s - loss: 0.3647 - accuracy: 0.87 - ETA: 0s - loss: 0.3652 - accuracy: 0.87 - ETA: 0s - loss: 0.3645 - accuracy: 0.87 - ETA: 0s - loss: 0.3644 - accuracy: 0.87 - ETA: 0s - loss: 0.3641 - accuracy: 0.87 - ETA: 0s - loss: 0.3648 - accuracy: 0.87 - ETA: 0s - loss: 0.3644 - accuracy: 0.87 - ETA: 0s - loss: 0.3641 - accuracy: 0.87 - ETA: 0s - loss: 0.3647 - accuracy: 0.87 - ETA: 0s - loss: 0.3646 - accuracy: 0.87 - ETA: 0s - loss: 0.3645 - accuracy: 0.87 - ETA: 0s - loss: 0.3640 - accuracy: 0.87 - ETA: 0s - loss: 0.3643 - accuracy: 0.87 - ETA: 0s - loss: 0.3644 - accuracy: 0.87 - ETA: 0s - loss: 0.3652 - accuracy: 0.87 - ETA: 0s - loss: 0.3649 - accuracy: 0.87 - ETA: 0s - loss: 0.3651 - accuracy: 0.87 - ETA: 0s - loss: 0.3659 - accuracy: 0.87 - ETA: 0s - loss: 0.3656 - accuracy: 0.87 - 4s 2ms/step - loss: 0.3656 - accuracy: 0.8722 - val_loss: 0.4073 - val_accuracy: 0.8571\n"
     ]
    },
    {
     "data": {
      "text/html": [
       "<span style=\"color:#4527A0\"><h1 style=\"font-size:18px\">Trial complete</h1></span>"
      ],
      "text/plain": [
       "<IPython.core.display.HTML object>"
      ]
     },
     "metadata": {},
     "output_type": "display_data"
    },
    {
     "data": {
      "text/html": [
       "<span style=\"color:#4527A0\"><h1 style=\"font-size:18px\">Trial summary</h1></span>"
      ],
      "text/plain": [
       "<IPython.core.display.HTML object>"
      ]
     },
     "metadata": {},
     "output_type": "display_data"
    },
    {
     "data": {
      "text/html": [
       "<span style=\"color:cyan\"> |-Trial ID: 19dd8073f54c9499853b6cfc482954c1</span>"
      ],
      "text/plain": [
       "<IPython.core.display.HTML object>"
      ]
     },
     "metadata": {},
     "output_type": "display_data"
    },
    {
     "data": {
      "text/html": [
       "<span style=\"color:cyan\"> |-Score: 0.8571000099182129</span>"
      ],
      "text/plain": [
       "<IPython.core.display.HTML object>"
      ]
     },
     "metadata": {},
     "output_type": "display_data"
    },
    {
     "data": {
      "text/html": [
       "<span style=\"color:cyan\"> |-Best step: 0</span>"
      ],
      "text/plain": [
       "<IPython.core.display.HTML object>"
      ]
     },
     "metadata": {},
     "output_type": "display_data"
    },
    {
     "data": {
      "text/html": [
       "<span style=\"color:#7E57C2\"><h2 style=\"font-size:16px\">Hyperparameters:</h2></span>"
      ],
      "text/plain": [
       "<IPython.core.display.HTML object>"
      ]
     },
     "metadata": {},
     "output_type": "display_data"
    },
    {
     "data": {
      "text/html": [
       "<span style=\"color:cyan\"> |-learning_rate: 0.0001</span>"
      ],
      "text/plain": [
       "<IPython.core.display.HTML object>"
      ]
     },
     "metadata": {},
     "output_type": "display_data"
    },
    {
     "data": {
      "text/html": [
       "<span style=\"color:blue\"> |-tuner/bracket: 1</span>"
      ],
      "text/plain": [
       "<IPython.core.display.HTML object>"
      ]
     },
     "metadata": {},
     "output_type": "display_data"
    },
    {
     "data": {
      "text/html": [
       "<span style=\"color:cyan\"> |-tuner/epochs: 10</span>"
      ],
      "text/plain": [
       "<IPython.core.display.HTML object>"
      ]
     },
     "metadata": {},
     "output_type": "display_data"
    },
    {
     "data": {
      "text/html": [
       "<span style=\"color:blue\"> |-tuner/initial_epoch: 4</span>"
      ],
      "text/plain": [
       "<IPython.core.display.HTML object>"
      ]
     },
     "metadata": {},
     "output_type": "display_data"
    },
    {
     "data": {
      "text/html": [
       "<span style=\"color:cyan\"> |-tuner/round: 1</span>"
      ],
      "text/plain": [
       "<IPython.core.display.HTML object>"
      ]
     },
     "metadata": {},
     "output_type": "display_data"
    },
    {
     "data": {
      "text/html": [
       "<span style=\"color:blue\"> |-tuner/trial_id: 22b1f2f0194e81ff5184756148e16f56</span>"
      ],
      "text/plain": [
       "<IPython.core.display.HTML object>"
      ]
     },
     "metadata": {},
     "output_type": "display_data"
    },
    {
     "data": {
      "text/html": [
       "<span style=\"color:cyan\"> |-units: 160</span>"
      ],
      "text/plain": [
       "<IPython.core.display.HTML object>"
      ]
     },
     "metadata": {},
     "output_type": "display_data"
    },
    {
     "name": "stdout",
     "output_type": "stream",
     "text": [
      "Epoch 1/10\n",
      "   2/1875 [..............................] - ETA: 0s - loss: 2.3740 - accuracy: 0.06 - ETA: 6:21 - loss: 2.3911 - accuracy: 0.0625WARNING:tensorflow:Method (on_train_batch_end) is slow compared to the batch update (0.205969). Check your callbacks.\n",
      "1875/1875 [==============================] - ETA: 26s - loss: 2.0970 - accuracy: 0.2852 - ETA: 14s - loss: 1.8772 - accuracy: 0.406 - ETA: 10s - loss: 1.7022 - accuracy: 0.484 - ETA: 8s - loss: 1.5742 - accuracy: 0.535 - ETA: 7s - loss: 1.4717 - accuracy: 0.56 - ETA: 6s - loss: 1.3890 - accuracy: 0.59 - ETA: 5s - loss: 1.3234 - accuracy: 0.61 - ETA: 5s - loss: 1.2728 - accuracy: 0.62 - ETA: 4s - loss: 1.2313 - accuracy: 0.63 - ETA: 4s - loss: 1.1921 - accuracy: 0.64 - ETA: 4s - loss: 1.1563 - accuracy: 0.65 - ETA: 4s - loss: 1.1266 - accuracy: 0.65 - ETA: 3s - loss: 1.0993 - accuracy: 0.66 - ETA: 3s - loss: 1.0755 - accuracy: 0.67 - ETA: 3s - loss: 1.0548 - accuracy: 0.67 - ETA: 3s - loss: 1.0363 - accuracy: 0.67 - ETA: 3s - loss: 1.0163 - accuracy: 0.68 - ETA: 3s - loss: 0.9982 - accuracy: 0.69 - ETA: 2s - loss: 0.9825 - accuracy: 0.69 - ETA: 2s - loss: 0.9689 - accuracy: 0.69 - ETA: 2s - loss: 0.9546 - accuracy: 0.70 - ETA: 2s - loss: 0.9402 - accuracy: 0.70 - ETA: 2s - loss: 0.9288 - accuracy: 0.71 - ETA: 2s - loss: 0.9161 - accuracy: 0.71 - ETA: 2s - loss: 0.9052 - accuracy: 0.71 - ETA: 2s - loss: 0.8939 - accuracy: 0.72 - ETA: 2s - loss: 0.8838 - accuracy: 0.72 - ETA: 2s - loss: 0.8737 - accuracy: 0.72 - ETA: 2s - loss: 0.8650 - accuracy: 0.72 - ETA: 1s - loss: 0.8574 - accuracy: 0.73 - ETA: 1s - loss: 0.8499 - accuracy: 0.73 - ETA: 1s - loss: 0.8428 - accuracy: 0.73 - ETA: 1s - loss: 0.8339 - accuracy: 0.73 - ETA: 1s - loss: 0.8259 - accuracy: 0.74 - ETA: 1s - loss: 0.8180 - accuracy: 0.74 - ETA: 1s - loss: 0.8090 - accuracy: 0.74 - ETA: 1s - loss: 0.8030 - accuracy: 0.74 - ETA: 1s - loss: 0.7962 - accuracy: 0.74 - ETA: 1s - loss: 0.7906 - accuracy: 0.75 - ETA: 1s - loss: 0.7849 - accuracy: 0.75 - ETA: 1s - loss: 0.7806 - accuracy: 0.75 - ETA: 1s - loss: 0.7763 - accuracy: 0.75 - ETA: 1s - loss: 0.7705 - accuracy: 0.75 - ETA: 0s - loss: 0.7659 - accuracy: 0.75 - ETA: 0s - loss: 0.7616 - accuracy: 0.75 - ETA: 0s - loss: 0.7567 - accuracy: 0.76 - ETA: 0s - loss: 0.7512 - accuracy: 0.76 - ETA: 0s - loss: 0.7459 - accuracy: 0.76 - ETA: 0s - loss: 0.7409 - accuracy: 0.76 - ETA: 0s - loss: 0.7360 - accuracy: 0.76 - ETA: 0s - loss: 0.7321 - accuracy: 0.76 - ETA: 0s - loss: 0.7274 - accuracy: 0.76 - ETA: 0s - loss: 0.7224 - accuracy: 0.77 - ETA: 0s - loss: 0.7177 - accuracy: 0.77 - ETA: 0s - loss: 0.7138 - accuracy: 0.77 - ETA: 0s - loss: 0.7099 - accuracy: 0.77 - ETA: 0s - loss: 0.7067 - accuracy: 0.77 - ETA: 0s - loss: 0.7036 - accuracy: 0.77 - 4s 2ms/step - loss: 0.7013 - accuracy: 0.7760 - val_loss: 0.5452 - val_accuracy: 0.8123\n",
      "Epoch 2/10\n",
      "1875/1875 [==============================] - ETA: 0s - loss: 0.3757 - accuracy: 0.90 - ETA: 3s - loss: 0.5178 - accuracy: 0.85 - ETA: 3s - loss: 0.5427 - accuracy: 0.83 - ETA: 3s - loss: 0.5245 - accuracy: 0.83 - ETA: 3s - loss: 0.5210 - accuracy: 0.83 - ETA: 3s - loss: 0.5217 - accuracy: 0.83 - ETA: 3s - loss: 0.5166 - accuracy: 0.83 - ETA: 3s - loss: 0.5150 - accuracy: 0.83 - ETA: 3s - loss: 0.5103 - accuracy: 0.83 - ETA: 3s - loss: 0.5110 - accuracy: 0.83 - ETA: 3s - loss: 0.5093 - accuracy: 0.83 - ETA: 2s - loss: 0.5113 - accuracy: 0.82 - ETA: 2s - loss: 0.5078 - accuracy: 0.83 - ETA: 2s - loss: 0.5086 - accuracy: 0.83 - ETA: 2s - loss: 0.5064 - accuracy: 0.83 - ETA: 2s - loss: 0.5063 - accuracy: 0.83 - ETA: 2s - loss: 0.5042 - accuracy: 0.83 - ETA: 2s - loss: 0.5059 - accuracy: 0.83 - ETA: 2s - loss: 0.5065 - accuracy: 0.83 - ETA: 2s - loss: 0.5028 - accuracy: 0.83 - ETA: 2s - loss: 0.5028 - accuracy: 0.83 - ETA: 2s - loss: 0.5005 - accuracy: 0.83 - ETA: 2s - loss: 0.5000 - accuracy: 0.83 - ETA: 2s - loss: 0.4991 - accuracy: 0.83 - ETA: 2s - loss: 0.4988 - accuracy: 0.83 - ETA: 2s - loss: 0.4980 - accuracy: 0.83 - ETA: 2s - loss: 0.4971 - accuracy: 0.83 - ETA: 2s - loss: 0.4963 - accuracy: 0.83 - ETA: 2s - loss: 0.4970 - accuracy: 0.83 - ETA: 1s - loss: 0.4967 - accuracy: 0.83 - ETA: 1s - loss: 0.4976 - accuracy: 0.83 - ETA: 1s - loss: 0.4960 - accuracy: 0.83 - ETA: 1s - loss: 0.4958 - accuracy: 0.83 - ETA: 1s - loss: 0.4938 - accuracy: 0.83 - ETA: 1s - loss: 0.4935 - accuracy: 0.83 - ETA: 1s - loss: 0.4921 - accuracy: 0.83 - ETA: 1s - loss: 0.4902 - accuracy: 0.83 - ETA: 1s - loss: 0.4895 - accuracy: 0.83 - ETA: 1s - loss: 0.4874 - accuracy: 0.83 - ETA: 1s - loss: 0.4872 - accuracy: 0.83 - ETA: 1s - loss: 0.4860 - accuracy: 0.83 - ETA: 1s - loss: 0.4845 - accuracy: 0.83 - ETA: 1s - loss: 0.4856 - accuracy: 0.83 - ETA: 1s - loss: 0.4852 - accuracy: 0.83 - ETA: 1s - loss: 0.4849 - accuracy: 0.83 - ETA: 0s - loss: 0.4832 - accuracy: 0.83 - ETA: 0s - loss: 0.4827 - accuracy: 0.83 - ETA: 0s - loss: 0.4825 - accuracy: 0.83 - ETA: 0s - loss: 0.4819 - accuracy: 0.83 - ETA: 0s - loss: 0.4827 - accuracy: 0.83 - ETA: 0s - loss: 0.4824 - accuracy: 0.83 - ETA: 0s - loss: 0.4821 - accuracy: 0.83 - ETA: 0s - loss: 0.4814 - accuracy: 0.83 - ETA: 0s - loss: 0.4809 - accuracy: 0.83 - ETA: 0s - loss: 0.4798 - accuracy: 0.83 - ETA: 0s - loss: 0.4797 - accuracy: 0.83 - ETA: 0s - loss: 0.4785 - accuracy: 0.83 - ETA: 0s - loss: 0.4779 - accuracy: 0.83 - ETA: 0s - loss: 0.4774 - accuracy: 0.83 - ETA: 0s - loss: 0.4774 - accuracy: 0.83 - ETA: 0s - loss: 0.4763 - accuracy: 0.83 - ETA: 0s - loss: 0.4756 - accuracy: 0.83 - 4s 2ms/step - loss: 0.4758 - accuracy: 0.8390 - val_loss: 0.4792 - val_accuracy: 0.8318\n",
      "Epoch 3/10\n"
     ]
    },
    {
     "name": "stdout",
     "output_type": "stream",
     "text": [
      "1875/1875 [==============================] - ETA: 0s - loss: 0.3619 - accuracy: 0.84 - ETA: 3s - loss: 0.4818 - accuracy: 0.82 - ETA: 3s - loss: 0.4671 - accuracy: 0.84 - ETA: 3s - loss: 0.4704 - accuracy: 0.83 - ETA: 3s - loss: 0.4530 - accuracy: 0.84 - ETA: 3s - loss: 0.4486 - accuracy: 0.84 - ETA: 3s - loss: 0.4446 - accuracy: 0.84 - ETA: 3s - loss: 0.4421 - accuracy: 0.84 - ETA: 3s - loss: 0.4378 - accuracy: 0.84 - ETA: 3s - loss: 0.4392 - accuracy: 0.84 - ETA: 3s - loss: 0.4337 - accuracy: 0.85 - ETA: 3s - loss: 0.4325 - accuracy: 0.85 - ETA: 3s - loss: 0.4335 - accuracy: 0.85 - ETA: 3s - loss: 0.4348 - accuracy: 0.85 - ETA: 3s - loss: 0.4317 - accuracy: 0.85 - ETA: 3s - loss: 0.4321 - accuracy: 0.85 - ETA: 2s - loss: 0.4332 - accuracy: 0.85 - ETA: 2s - loss: 0.4363 - accuracy: 0.85 - ETA: 2s - loss: 0.4385 - accuracy: 0.84 - ETA: 2s - loss: 0.4399 - accuracy: 0.84 - ETA: 2s - loss: 0.4393 - accuracy: 0.85 - ETA: 2s - loss: 0.4386 - accuracy: 0.84 - ETA: 2s - loss: 0.4373 - accuracy: 0.85 - ETA: 2s - loss: 0.4385 - accuracy: 0.85 - ETA: 2s - loss: 0.4399 - accuracy: 0.84 - ETA: 2s - loss: 0.4397 - accuracy: 0.84 - ETA: 2s - loss: 0.4390 - accuracy: 0.84 - ETA: 2s - loss: 0.4384 - accuracy: 0.84 - ETA: 2s - loss: 0.4389 - accuracy: 0.84 - ETA: 2s - loss: 0.4388 - accuracy: 0.84 - ETA: 1s - loss: 0.4391 - accuracy: 0.84 - ETA: 1s - loss: 0.4400 - accuracy: 0.84 - ETA: 1s - loss: 0.4408 - accuracy: 0.84 - ETA: 1s - loss: 0.4398 - accuracy: 0.84 - ETA: 1s - loss: 0.4388 - accuracy: 0.84 - ETA: 1s - loss: 0.4383 - accuracy: 0.84 - ETA: 1s - loss: 0.4384 - accuracy: 0.84 - ETA: 1s - loss: 0.4379 - accuracy: 0.85 - ETA: 1s - loss: 0.4382 - accuracy: 0.85 - ETA: 1s - loss: 0.4374 - accuracy: 0.84 - ETA: 1s - loss: 0.4382 - accuracy: 0.84 - ETA: 1s - loss: 0.4371 - accuracy: 0.85 - ETA: 1s - loss: 0.4381 - accuracy: 0.84 - ETA: 1s - loss: 0.4386 - accuracy: 0.84 - ETA: 1s - loss: 0.4391 - accuracy: 0.84 - ETA: 1s - loss: 0.4378 - accuracy: 0.84 - ETA: 0s - loss: 0.4370 - accuracy: 0.84 - ETA: 0s - loss: 0.4375 - accuracy: 0.84 - ETA: 0s - loss: 0.4385 - accuracy: 0.84 - ETA: 0s - loss: 0.4373 - accuracy: 0.84 - ETA: 0s - loss: 0.4365 - accuracy: 0.84 - ETA: 0s - loss: 0.4362 - accuracy: 0.84 - ETA: 0s - loss: 0.4356 - accuracy: 0.85 - ETA: 0s - loss: 0.4343 - accuracy: 0.85 - ETA: 0s - loss: 0.4347 - accuracy: 0.85 - ETA: 0s - loss: 0.4347 - accuracy: 0.85 - ETA: 0s - loss: 0.4348 - accuracy: 0.85 - ETA: 0s - loss: 0.4352 - accuracy: 0.85 - ETA: 0s - loss: 0.4347 - accuracy: 0.85 - ETA: 0s - loss: 0.4347 - accuracy: 0.85 - ETA: 0s - loss: 0.4341 - accuracy: 0.85 - ETA: 0s - loss: 0.4343 - accuracy: 0.85 - ETA: 0s - loss: 0.4344 - accuracy: 0.85 - ETA: 0s - loss: 0.4338 - accuracy: 0.85 - ETA: 0s - loss: 0.4337 - accuracy: 0.85 - ETA: 0s - loss: 0.4331 - accuracy: 0.85 - 4s 2ms/step - loss: 0.4330 - accuracy: 0.8517 - val_loss: 0.4512 - val_accuracy: 0.8402\n",
      "Epoch 4/10\n",
      "1875/1875 [==============================] - ETA: 0s - loss: 0.3705 - accuracy: 0.87 - ETA: 3s - loss: 0.3954 - accuracy: 0.85 - ETA: 3s - loss: 0.3970 - accuracy: 0.85 - ETA: 3s - loss: 0.4012 - accuracy: 0.85 - ETA: 3s - loss: 0.3929 - accuracy: 0.86 - ETA: 3s - loss: 0.3980 - accuracy: 0.85 - ETA: 3s - loss: 0.3980 - accuracy: 0.86 - ETA: 3s - loss: 0.4022 - accuracy: 0.85 - ETA: 3s - loss: 0.4053 - accuracy: 0.85 - ETA: 3s - loss: 0.4035 - accuracy: 0.85 - ETA: 3s - loss: 0.4039 - accuracy: 0.85 - ETA: 3s - loss: 0.4077 - accuracy: 0.85 - ETA: 3s - loss: 0.4085 - accuracy: 0.85 - ETA: 3s - loss: 0.4119 - accuracy: 0.85 - ETA: 3s - loss: 0.4150 - accuracy: 0.85 - ETA: 3s - loss: 0.4141 - accuracy: 0.85 - ETA: 2s - loss: 0.4139 - accuracy: 0.85 - ETA: 2s - loss: 0.4154 - accuracy: 0.85 - ETA: 2s - loss: 0.4148 - accuracy: 0.85 - ETA: 2s - loss: 0.4165 - accuracy: 0.85 - ETA: 2s - loss: 0.4152 - accuracy: 0.85 - ETA: 2s - loss: 0.4152 - accuracy: 0.85 - ETA: 2s - loss: 0.4150 - accuracy: 0.85 - ETA: 2s - loss: 0.4150 - accuracy: 0.85 - ETA: 2s - loss: 0.4154 - accuracy: 0.85 - ETA: 2s - loss: 0.4157 - accuracy: 0.85 - ETA: 2s - loss: 0.4147 - accuracy: 0.85 - ETA: 2s - loss: 0.4131 - accuracy: 0.85 - ETA: 2s - loss: 0.4124 - accuracy: 0.85 - ETA: 2s - loss: 0.4108 - accuracy: 0.85 - ETA: 2s - loss: 0.4107 - accuracy: 0.85 - ETA: 2s - loss: 0.4108 - accuracy: 0.85 - ETA: 2s - loss: 0.4107 - accuracy: 0.85 - ETA: 1s - loss: 0.4112 - accuracy: 0.85 - ETA: 1s - loss: 0.4107 - accuracy: 0.85 - ETA: 1s - loss: 0.4097 - accuracy: 0.85 - ETA: 1s - loss: 0.4095 - accuracy: 0.85 - ETA: 1s - loss: 0.4089 - accuracy: 0.85 - ETA: 1s - loss: 0.4101 - accuracy: 0.85 - ETA: 1s - loss: 0.4106 - accuracy: 0.85 - ETA: 1s - loss: 0.4109 - accuracy: 0.85 - ETA: 1s - loss: 0.4109 - accuracy: 0.85 - ETA: 1s - loss: 0.4117 - accuracy: 0.85 - ETA: 1s - loss: 0.4104 - accuracy: 0.85 - ETA: 1s - loss: 0.4099 - accuracy: 0.85 - ETA: 1s - loss: 0.4101 - accuracy: 0.85 - ETA: 1s - loss: 0.4094 - accuracy: 0.85 - ETA: 0s - loss: 0.4092 - accuracy: 0.85 - ETA: 0s - loss: 0.4089 - accuracy: 0.85 - ETA: 0s - loss: 0.4100 - accuracy: 0.85 - ETA: 0s - loss: 0.4099 - accuracy: 0.85 - ETA: 0s - loss: 0.4095 - accuracy: 0.85 - ETA: 0s - loss: 0.4093 - accuracy: 0.85 - ETA: 0s - loss: 0.4088 - accuracy: 0.85 - ETA: 0s - loss: 0.4091 - accuracy: 0.85 - ETA: 0s - loss: 0.4086 - accuracy: 0.85 - ETA: 0s - loss: 0.4083 - accuracy: 0.85 - ETA: 0s - loss: 0.4086 - accuracy: 0.85 - ETA: 0s - loss: 0.4087 - accuracy: 0.85 - ETA: 0s - loss: 0.4082 - accuracy: 0.85 - ETA: 0s - loss: 0.4082 - accuracy: 0.85 - ETA: 0s - loss: 0.4077 - accuracy: 0.85 - ETA: 0s - loss: 0.4074 - accuracy: 0.85 - ETA: 0s - loss: 0.4084 - accuracy: 0.85 - 4s 2ms/step - loss: 0.4086 - accuracy: 0.8595 - val_loss: 0.4350 - val_accuracy: 0.8485\n",
      "Epoch 5/10\n"
     ]
    },
    {
     "name": "stdout",
     "output_type": "stream",
     "text": [
      "1875/1875 [==============================] - ETA: 0s - loss: 0.2367 - accuracy: 0.96 - ETA: 3s - loss: 0.3983 - accuracy: 0.86 - ETA: 3s - loss: 0.4120 - accuracy: 0.86 - ETA: 3s - loss: 0.3920 - accuracy: 0.86 - ETA: 3s - loss: 0.3958 - accuracy: 0.86 - ETA: 3s - loss: 0.3953 - accuracy: 0.86 - ETA: 3s - loss: 0.4031 - accuracy: 0.86 - ETA: 3s - loss: 0.4060 - accuracy: 0.86 - ETA: 3s - loss: 0.4088 - accuracy: 0.85 - ETA: 3s - loss: 0.4013 - accuracy: 0.86 - ETA: 3s - loss: 0.3977 - accuracy: 0.86 - ETA: 3s - loss: 0.3962 - accuracy: 0.86 - ETA: 3s - loss: 0.3978 - accuracy: 0.86 - ETA: 3s - loss: 0.3992 - accuracy: 0.86 - ETA: 3s - loss: 0.3960 - accuracy: 0.86 - ETA: 2s - loss: 0.3930 - accuracy: 0.86 - ETA: 2s - loss: 0.3932 - accuracy: 0.86 - ETA: 2s - loss: 0.3902 - accuracy: 0.86 - ETA: 2s - loss: 0.3878 - accuracy: 0.86 - ETA: 2s - loss: 0.3879 - accuracy: 0.86 - ETA: 2s - loss: 0.3901 - accuracy: 0.86 - ETA: 2s - loss: 0.3928 - accuracy: 0.86 - ETA: 2s - loss: 0.3932 - accuracy: 0.86 - ETA: 2s - loss: 0.3938 - accuracy: 0.86 - ETA: 2s - loss: 0.3952 - accuracy: 0.86 - ETA: 2s - loss: 0.3929 - accuracy: 0.86 - ETA: 2s - loss: 0.3931 - accuracy: 0.86 - ETA: 2s - loss: 0.3920 - accuracy: 0.86 - ETA: 2s - loss: 0.3917 - accuracy: 0.86 - ETA: 1s - loss: 0.3912 - accuracy: 0.86 - ETA: 1s - loss: 0.3909 - accuracy: 0.86 - ETA: 1s - loss: 0.3895 - accuracy: 0.86 - ETA: 1s - loss: 0.3888 - accuracy: 0.86 - ETA: 1s - loss: 0.3901 - accuracy: 0.86 - ETA: 1s - loss: 0.3896 - accuracy: 0.86 - ETA: 1s - loss: 0.3896 - accuracy: 0.86 - ETA: 1s - loss: 0.3889 - accuracy: 0.86 - ETA: 1s - loss: 0.3887 - accuracy: 0.86 - ETA: 1s - loss: 0.3889 - accuracy: 0.86 - ETA: 1s - loss: 0.3882 - accuracy: 0.86 - ETA: 1s - loss: 0.3882 - accuracy: 0.86 - ETA: 1s - loss: 0.3873 - accuracy: 0.86 - ETA: 1s - loss: 0.3878 - accuracy: 0.86 - ETA: 1s - loss: 0.3882 - accuracy: 0.86 - ETA: 1s - loss: 0.3878 - accuracy: 0.86 - ETA: 0s - loss: 0.3884 - accuracy: 0.86 - ETA: 0s - loss: 0.3900 - accuracy: 0.86 - ETA: 0s - loss: 0.3898 - accuracy: 0.86 - ETA: 0s - loss: 0.3896 - accuracy: 0.86 - ETA: 0s - loss: 0.3898 - accuracy: 0.86 - ETA: 0s - loss: 0.3902 - accuracy: 0.86 - ETA: 0s - loss: 0.3909 - accuracy: 0.86 - ETA: 0s - loss: 0.3901 - accuracy: 0.86 - ETA: 0s - loss: 0.3902 - accuracy: 0.86 - ETA: 0s - loss: 0.3913 - accuracy: 0.86 - ETA: 0s - loss: 0.3919 - accuracy: 0.86 - ETA: 0s - loss: 0.3912 - accuracy: 0.86 - ETA: 0s - loss: 0.3904 - accuracy: 0.86 - ETA: 0s - loss: 0.3902 - accuracy: 0.86 - ETA: 0s - loss: 0.3902 - accuracy: 0.86 - ETA: 0s - loss: 0.3898 - accuracy: 0.86 - 4s 2ms/step - loss: 0.3896 - accuracy: 0.8650 - val_loss: 0.4195 - val_accuracy: 0.8510\n",
      "Epoch 6/10\n",
      "1875/1875 [==============================] - ETA: 0s - loss: 0.1612 - accuracy: 0.96 - ETA: 3s - loss: 0.3691 - accuracy: 0.87 - ETA: 3s - loss: 0.4039 - accuracy: 0.86 - ETA: 3s - loss: 0.3956 - accuracy: 0.86 - ETA: 3s - loss: 0.3988 - accuracy: 0.86 - ETA: 3s - loss: 0.3964 - accuracy: 0.86 - ETA: 3s - loss: 0.4003 - accuracy: 0.86 - ETA: 3s - loss: 0.3988 - accuracy: 0.86 - ETA: 3s - loss: 0.3957 - accuracy: 0.86 - ETA: 3s - loss: 0.3979 - accuracy: 0.86 - ETA: 3s - loss: 0.3955 - accuracy: 0.86 - ETA: 3s - loss: 0.3923 - accuracy: 0.86 - ETA: 3s - loss: 0.3884 - accuracy: 0.86 - ETA: 3s - loss: 0.3867 - accuracy: 0.86 - ETA: 2s - loss: 0.3869 - accuracy: 0.86 - ETA: 2s - loss: 0.3868 - accuracy: 0.86 - ETA: 2s - loss: 0.3873 - accuracy: 0.86 - ETA: 2s - loss: 0.3863 - accuracy: 0.86 - ETA: 2s - loss: 0.3827 - accuracy: 0.86 - ETA: 2s - loss: 0.3820 - accuracy: 0.86 - ETA: 2s - loss: 0.3827 - accuracy: 0.86 - ETA: 2s - loss: 0.3841 - accuracy: 0.86 - ETA: 2s - loss: 0.3840 - accuracy: 0.86 - ETA: 2s - loss: 0.3829 - accuracy: 0.86 - ETA: 2s - loss: 0.3827 - accuracy: 0.86 - ETA: 2s - loss: 0.3850 - accuracy: 0.86 - ETA: 2s - loss: 0.3843 - accuracy: 0.86 - ETA: 2s - loss: 0.3834 - accuracy: 0.86 - ETA: 2s - loss: 0.3837 - accuracy: 0.86 - ETA: 2s - loss: 0.3828 - accuracy: 0.86 - ETA: 2s - loss: 0.3829 - accuracy: 0.86 - ETA: 1s - loss: 0.3815 - accuracy: 0.86 - ETA: 1s - loss: 0.3809 - accuracy: 0.86 - ETA: 1s - loss: 0.3802 - accuracy: 0.86 - ETA: 1s - loss: 0.3797 - accuracy: 0.86 - ETA: 1s - loss: 0.3790 - accuracy: 0.86 - ETA: 1s - loss: 0.3774 - accuracy: 0.86 - ETA: 1s - loss: 0.3765 - accuracy: 0.86 - ETA: 1s - loss: 0.3777 - accuracy: 0.86 - ETA: 1s - loss: 0.3776 - accuracy: 0.86 - ETA: 1s - loss: 0.3788 - accuracy: 0.86 - ETA: 1s - loss: 0.3789 - accuracy: 0.86 - ETA: 1s - loss: 0.3789 - accuracy: 0.86 - ETA: 1s - loss: 0.3793 - accuracy: 0.86 - ETA: 1s - loss: 0.3790 - accuracy: 0.86 - ETA: 1s - loss: 0.3798 - accuracy: 0.86 - ETA: 1s - loss: 0.3790 - accuracy: 0.86 - ETA: 0s - loss: 0.3796 - accuracy: 0.86 - ETA: 0s - loss: 0.3798 - accuracy: 0.86 - ETA: 0s - loss: 0.3797 - accuracy: 0.86 - ETA: 0s - loss: 0.3791 - accuracy: 0.86 - ETA: 0s - loss: 0.3789 - accuracy: 0.86 - ETA: 0s - loss: 0.3779 - accuracy: 0.86 - ETA: 0s - loss: 0.3779 - accuracy: 0.86 - ETA: 0s - loss: 0.3774 - accuracy: 0.86 - ETA: 0s - loss: 0.3769 - accuracy: 0.86 - ETA: 0s - loss: 0.3760 - accuracy: 0.86 - ETA: 0s - loss: 0.3764 - accuracy: 0.86 - ETA: 0s - loss: 0.3760 - accuracy: 0.86 - ETA: 0s - loss: 0.3759 - accuracy: 0.86 - ETA: 0s - loss: 0.3757 - accuracy: 0.86 - ETA: 0s - loss: 0.3760 - accuracy: 0.86 - ETA: 0s - loss: 0.3756 - accuracy: 0.86 - 4s 2ms/step - loss: 0.3757 - accuracy: 0.8695 - val_loss: 0.4100 - val_accuracy: 0.8560\n",
      "Epoch 7/10\n"
     ]
    },
    {
     "name": "stdout",
     "output_type": "stream",
     "text": [
      "1875/1875 [==============================] - ETA: 0s - loss: 0.2728 - accuracy: 0.87 - ETA: 4s - loss: 0.3952 - accuracy: 0.85 - ETA: 3s - loss: 0.3799 - accuracy: 0.86 - ETA: 3s - loss: 0.3730 - accuracy: 0.86 - ETA: 3s - loss: 0.3678 - accuracy: 0.87 - ETA: 3s - loss: 0.3761 - accuracy: 0.87 - ETA: 3s - loss: 0.3669 - accuracy: 0.87 - ETA: 3s - loss: 0.3633 - accuracy: 0.87 - ETA: 3s - loss: 0.3648 - accuracy: 0.87 - ETA: 3s - loss: 0.3631 - accuracy: 0.87 - ETA: 3s - loss: 0.3627 - accuracy: 0.87 - ETA: 3s - loss: 0.3667 - accuracy: 0.87 - ETA: 3s - loss: 0.3664 - accuracy: 0.87 - ETA: 3s - loss: 0.3703 - accuracy: 0.87 - ETA: 3s - loss: 0.3734 - accuracy: 0.87 - ETA: 3s - loss: 0.3710 - accuracy: 0.87 - ETA: 2s - loss: 0.3693 - accuracy: 0.87 - ETA: 2s - loss: 0.3678 - accuracy: 0.87 - ETA: 2s - loss: 0.3661 - accuracy: 0.87 - ETA: 2s - loss: 0.3629 - accuracy: 0.87 - ETA: 2s - loss: 0.3645 - accuracy: 0.87 - ETA: 2s - loss: 0.3632 - accuracy: 0.87 - ETA: 2s - loss: 0.3633 - accuracy: 0.87 - ETA: 2s - loss: 0.3642 - accuracy: 0.87 - ETA: 2s - loss: 0.3625 - accuracy: 0.87 - ETA: 2s - loss: 0.3646 - accuracy: 0.87 - ETA: 2s - loss: 0.3631 - accuracy: 0.87 - ETA: 2s - loss: 0.3629 - accuracy: 0.87 - ETA: 2s - loss: 0.3634 - accuracy: 0.87 - ETA: 2s - loss: 0.3636 - accuracy: 0.87 - ETA: 2s - loss: 0.3636 - accuracy: 0.87 - ETA: 2s - loss: 0.3639 - accuracy: 0.87 - ETA: 1s - loss: 0.3647 - accuracy: 0.87 - ETA: 1s - loss: 0.3644 - accuracy: 0.87 - ETA: 1s - loss: 0.3637 - accuracy: 0.87 - ETA: 1s - loss: 0.3633 - accuracy: 0.87 - ETA: 1s - loss: 0.3620 - accuracy: 0.87 - ETA: 1s - loss: 0.3620 - accuracy: 0.87 - ETA: 1s - loss: 0.3617 - accuracy: 0.87 - ETA: 1s - loss: 0.3610 - accuracy: 0.87 - ETA: 1s - loss: 0.3620 - accuracy: 0.87 - ETA: 1s - loss: 0.3623 - accuracy: 0.87 - ETA: 1s - loss: 0.3621 - accuracy: 0.87 - ETA: 1s - loss: 0.3626 - accuracy: 0.87 - ETA: 1s - loss: 0.3629 - accuracy: 0.87 - ETA: 1s - loss: 0.3613 - accuracy: 0.87 - ETA: 1s - loss: 0.3613 - accuracy: 0.87 - ETA: 0s - loss: 0.3613 - accuracy: 0.87 - ETA: 0s - loss: 0.3616 - accuracy: 0.87 - ETA: 0s - loss: 0.3616 - accuracy: 0.87 - ETA: 0s - loss: 0.3607 - accuracy: 0.87 - ETA: 0s - loss: 0.3612 - accuracy: 0.87 - ETA: 0s - loss: 0.3623 - accuracy: 0.87 - ETA: 0s - loss: 0.3621 - accuracy: 0.87 - ETA: 0s - loss: 0.3625 - accuracy: 0.87 - ETA: 0s - loss: 0.3623 - accuracy: 0.87 - ETA: 0s - loss: 0.3628 - accuracy: 0.87 - ETA: 0s - loss: 0.3630 - accuracy: 0.87 - ETA: 0s - loss: 0.3628 - accuracy: 0.87 - ETA: 0s - loss: 0.3631 - accuracy: 0.87 - ETA: 0s - loss: 0.3640 - accuracy: 0.87 - ETA: 0s - loss: 0.3636 - accuracy: 0.87 - ETA: 0s - loss: 0.3633 - accuracy: 0.87 - ETA: 0s - loss: 0.3634 - accuracy: 0.87 - 4s 2ms/step - loss: 0.3634 - accuracy: 0.8734 - val_loss: 0.3983 - val_accuracy: 0.8607\n",
      "Epoch 8/10\n",
      "1875/1875 [==============================] - ETA: 0s - loss: 0.3758 - accuracy: 0.87 - ETA: 3s - loss: 0.3994 - accuracy: 0.85 - ETA: 3s - loss: 0.3900 - accuracy: 0.85 - ETA: 3s - loss: 0.3723 - accuracy: 0.86 - ETA: 3s - loss: 0.3602 - accuracy: 0.86 - ETA: 3s - loss: 0.3588 - accuracy: 0.86 - ETA: 3s - loss: 0.3619 - accuracy: 0.86 - ETA: 3s - loss: 0.3625 - accuracy: 0.86 - ETA: 3s - loss: 0.3642 - accuracy: 0.86 - ETA: 3s - loss: 0.3651 - accuracy: 0.86 - ETA: 3s - loss: 0.3640 - accuracy: 0.86 - ETA: 3s - loss: 0.3604 - accuracy: 0.86 - ETA: 3s - loss: 0.3578 - accuracy: 0.87 - ETA: 2s - loss: 0.3600 - accuracy: 0.87 - ETA: 2s - loss: 0.3600 - accuracy: 0.87 - ETA: 2s - loss: 0.3591 - accuracy: 0.87 - ETA: 2s - loss: 0.3585 - accuracy: 0.87 - ETA: 2s - loss: 0.3574 - accuracy: 0.87 - ETA: 2s - loss: 0.3575 - accuracy: 0.87 - ETA: 2s - loss: 0.3568 - accuracy: 0.87 - ETA: 2s - loss: 0.3562 - accuracy: 0.87 - ETA: 2s - loss: 0.3568 - accuracy: 0.87 - ETA: 2s - loss: 0.3557 - accuracy: 0.87 - ETA: 2s - loss: 0.3562 - accuracy: 0.87 - ETA: 2s - loss: 0.3560 - accuracy: 0.87 - ETA: 2s - loss: 0.3557 - accuracy: 0.87 - ETA: 2s - loss: 0.3553 - accuracy: 0.87 - ETA: 2s - loss: 0.3553 - accuracy: 0.87 - ETA: 2s - loss: 0.3555 - accuracy: 0.87 - ETA: 2s - loss: 0.3561 - accuracy: 0.87 - ETA: 1s - loss: 0.3561 - accuracy: 0.87 - ETA: 1s - loss: 0.3560 - accuracy: 0.87 - ETA: 1s - loss: 0.3569 - accuracy: 0.87 - ETA: 1s - loss: 0.3565 - accuracy: 0.87 - ETA: 1s - loss: 0.3561 - accuracy: 0.87 - ETA: 1s - loss: 0.3554 - accuracy: 0.87 - ETA: 1s - loss: 0.3548 - accuracy: 0.87 - ETA: 1s - loss: 0.3560 - accuracy: 0.87 - ETA: 1s - loss: 0.3562 - accuracy: 0.87 - ETA: 1s - loss: 0.3565 - accuracy: 0.87 - ETA: 1s - loss: 0.3567 - accuracy: 0.87 - ETA: 1s - loss: 0.3564 - accuracy: 0.87 - ETA: 1s - loss: 0.3566 - accuracy: 0.87 - ETA: 1s - loss: 0.3554 - accuracy: 0.87 - ETA: 1s - loss: 0.3552 - accuracy: 0.87 - ETA: 1s - loss: 0.3548 - accuracy: 0.87 - ETA: 1s - loss: 0.3552 - accuracy: 0.87 - ETA: 0s - loss: 0.3545 - accuracy: 0.87 - ETA: 0s - loss: 0.3541 - accuracy: 0.87 - ETA: 0s - loss: 0.3535 - accuracy: 0.87 - ETA: 0s - loss: 0.3537 - accuracy: 0.87 - ETA: 0s - loss: 0.3537 - accuracy: 0.87 - ETA: 0s - loss: 0.3541 - accuracy: 0.87 - ETA: 0s - loss: 0.3535 - accuracy: 0.87 - ETA: 0s - loss: 0.3534 - accuracy: 0.87 - ETA: 0s - loss: 0.3522 - accuracy: 0.87 - ETA: 0s - loss: 0.3524 - accuracy: 0.87 - ETA: 0s - loss: 0.3524 - accuracy: 0.87 - ETA: 0s - loss: 0.3517 - accuracy: 0.87 - ETA: 0s - loss: 0.3518 - accuracy: 0.87 - ETA: 0s - loss: 0.3524 - accuracy: 0.87 - ETA: 0s - loss: 0.3525 - accuracy: 0.87 - ETA: 0s - loss: 0.3528 - accuracy: 0.87 - 4s 2ms/step - loss: 0.3526 - accuracy: 0.8766 - val_loss: 0.3898 - val_accuracy: 0.8622\n",
      "Epoch 9/10\n"
     ]
    },
    {
     "name": "stdout",
     "output_type": "stream",
     "text": [
      "1875/1875 [==============================] - ETA: 0s - loss: 0.4597 - accuracy: 0.87 - ETA: 3s - loss: 0.4030 - accuracy: 0.86 - ETA: 3s - loss: 0.3529 - accuracy: 0.87 - ETA: 3s - loss: 0.3512 - accuracy: 0.87 - ETA: 3s - loss: 0.3488 - accuracy: 0.87 - ETA: 3s - loss: 0.3509 - accuracy: 0.88 - ETA: 3s - loss: 0.3520 - accuracy: 0.88 - ETA: 3s - loss: 0.3510 - accuracy: 0.88 - ETA: 3s - loss: 0.3520 - accuracy: 0.87 - ETA: 3s - loss: 0.3473 - accuracy: 0.88 - ETA: 3s - loss: 0.3471 - accuracy: 0.88 - ETA: 3s - loss: 0.3431 - accuracy: 0.88 - ETA: 3s - loss: 0.3445 - accuracy: 0.88 - ETA: 3s - loss: 0.3472 - accuracy: 0.88 - ETA: 3s - loss: 0.3464 - accuracy: 0.88 - ETA: 2s - loss: 0.3455 - accuracy: 0.88 - ETA: 2s - loss: 0.3462 - accuracy: 0.88 - ETA: 2s - loss: 0.3449 - accuracy: 0.88 - ETA: 2s - loss: 0.3466 - accuracy: 0.88 - ETA: 2s - loss: 0.3473 - accuracy: 0.88 - ETA: 2s - loss: 0.3502 - accuracy: 0.87 - ETA: 2s - loss: 0.3504 - accuracy: 0.87 - ETA: 2s - loss: 0.3495 - accuracy: 0.87 - ETA: 2s - loss: 0.3504 - accuracy: 0.87 - ETA: 2s - loss: 0.3494 - accuracy: 0.87 - ETA: 2s - loss: 0.3476 - accuracy: 0.87 - ETA: 2s - loss: 0.3474 - accuracy: 0.87 - ETA: 2s - loss: 0.3470 - accuracy: 0.87 - ETA: 2s - loss: 0.3459 - accuracy: 0.88 - ETA: 2s - loss: 0.3454 - accuracy: 0.88 - ETA: 1s - loss: 0.3459 - accuracy: 0.88 - ETA: 1s - loss: 0.3470 - accuracy: 0.87 - ETA: 1s - loss: 0.3474 - accuracy: 0.87 - ETA: 1s - loss: 0.3470 - accuracy: 0.87 - ETA: 1s - loss: 0.3470 - accuracy: 0.87 - ETA: 1s - loss: 0.3454 - accuracy: 0.87 - ETA: 1s - loss: 0.3465 - accuracy: 0.87 - ETA: 1s - loss: 0.3458 - accuracy: 0.87 - ETA: 1s - loss: 0.3449 - accuracy: 0.87 - ETA: 1s - loss: 0.3458 - accuracy: 0.87 - ETA: 1s - loss: 0.3460 - accuracy: 0.87 - ETA: 1s - loss: 0.3462 - accuracy: 0.87 - ETA: 1s - loss: 0.3456 - accuracy: 0.88 - ETA: 1s - loss: 0.3451 - accuracy: 0.88 - ETA: 1s - loss: 0.3445 - accuracy: 0.88 - ETA: 1s - loss: 0.3443 - accuracy: 0.88 - ETA: 0s - loss: 0.3439 - accuracy: 0.88 - ETA: 0s - loss: 0.3440 - accuracy: 0.88 - ETA: 0s - loss: 0.3444 - accuracy: 0.88 - ETA: 0s - loss: 0.3433 - accuracy: 0.88 - ETA: 0s - loss: 0.3437 - accuracy: 0.88 - ETA: 0s - loss: 0.3437 - accuracy: 0.88 - ETA: 0s - loss: 0.3437 - accuracy: 0.88 - ETA: 0s - loss: 0.3443 - accuracy: 0.88 - ETA: 0s - loss: 0.3442 - accuracy: 0.88 - ETA: 0s - loss: 0.3444 - accuracy: 0.88 - ETA: 0s - loss: 0.3444 - accuracy: 0.88 - ETA: 0s - loss: 0.3443 - accuracy: 0.88 - ETA: 0s - loss: 0.3447 - accuracy: 0.88 - ETA: 0s - loss: 0.3447 - accuracy: 0.88 - ETA: 0s - loss: 0.3445 - accuracy: 0.88 - ETA: 0s - loss: 0.3446 - accuracy: 0.88 - ETA: 0s - loss: 0.3446 - accuracy: 0.88 - 4s 2ms/step - loss: 0.3442 - accuracy: 0.8809 - val_loss: 0.3830 - val_accuracy: 0.8668\n",
      "Epoch 10/10\n",
      "1875/1875 [==============================] - ETA: 0s - loss: 0.4970 - accuracy: 0.87 - ETA: 3s - loss: 0.3599 - accuracy: 0.87 - ETA: 3s - loss: 0.3287 - accuracy: 0.88 - ETA: 3s - loss: 0.3509 - accuracy: 0.87 - ETA: 3s - loss: 0.3403 - accuracy: 0.87 - ETA: 3s - loss: 0.3436 - accuracy: 0.88 - ETA: 3s - loss: 0.3406 - accuracy: 0.88 - ETA: 3s - loss: 0.3394 - accuracy: 0.88 - ETA: 3s - loss: 0.3390 - accuracy: 0.88 - ETA: 3s - loss: 0.3345 - accuracy: 0.88 - ETA: 3s - loss: 0.3382 - accuracy: 0.87 - ETA: 3s - loss: 0.3360 - accuracy: 0.88 - ETA: 3s - loss: 0.3349 - accuracy: 0.88 - ETA: 2s - loss: 0.3348 - accuracy: 0.88 - ETA: 2s - loss: 0.3369 - accuracy: 0.88 - ETA: 2s - loss: 0.3362 - accuracy: 0.88 - ETA: 2s - loss: 0.3364 - accuracy: 0.88 - ETA: 2s - loss: 0.3375 - accuracy: 0.88 - ETA: 2s - loss: 0.3370 - accuracy: 0.88 - ETA: 2s - loss: 0.3369 - accuracy: 0.88 - ETA: 2s - loss: 0.3360 - accuracy: 0.88 - ETA: 2s - loss: 0.3352 - accuracy: 0.88 - ETA: 2s - loss: 0.3359 - accuracy: 0.88 - ETA: 2s - loss: 0.3352 - accuracy: 0.88 - ETA: 2s - loss: 0.3349 - accuracy: 0.88 - ETA: 2s - loss: 0.3340 - accuracy: 0.88 - ETA: 2s - loss: 0.3330 - accuracy: 0.88 - ETA: 2s - loss: 0.3340 - accuracy: 0.88 - ETA: 2s - loss: 0.3341 - accuracy: 0.88 - ETA: 2s - loss: 0.3334 - accuracy: 0.88 - ETA: 1s - loss: 0.3339 - accuracy: 0.88 - ETA: 1s - loss: 0.3333 - accuracy: 0.88 - ETA: 1s - loss: 0.3335 - accuracy: 0.88 - ETA: 1s - loss: 0.3331 - accuracy: 0.88 - ETA: 1s - loss: 0.3329 - accuracy: 0.88 - ETA: 1s - loss: 0.3344 - accuracy: 0.88 - ETA: 1s - loss: 0.3353 - accuracy: 0.88 - ETA: 1s - loss: 0.3360 - accuracy: 0.88 - ETA: 1s - loss: 0.3362 - accuracy: 0.88 - ETA: 1s - loss: 0.3363 - accuracy: 0.88 - ETA: 1s - loss: 0.3368 - accuracy: 0.88 - ETA: 1s - loss: 0.3356 - accuracy: 0.88 - ETA: 1s - loss: 0.3355 - accuracy: 0.88 - ETA: 1s - loss: 0.3360 - accuracy: 0.88 - ETA: 1s - loss: 0.3353 - accuracy: 0.88 - ETA: 1s - loss: 0.3354 - accuracy: 0.88 - ETA: 1s - loss: 0.3355 - accuracy: 0.88 - ETA: 0s - loss: 0.3364 - accuracy: 0.88 - ETA: 0s - loss: 0.3367 - accuracy: 0.88 - ETA: 0s - loss: 0.3371 - accuracy: 0.88 - ETA: 0s - loss: 0.3366 - accuracy: 0.88 - ETA: 0s - loss: 0.3363 - accuracy: 0.88 - ETA: 0s - loss: 0.3358 - accuracy: 0.88 - ETA: 0s - loss: 0.3359 - accuracy: 0.88 - ETA: 0s - loss: 0.3359 - accuracy: 0.88 - ETA: 0s - loss: 0.3356 - accuracy: 0.88 - ETA: 0s - loss: 0.3354 - accuracy: 0.88 - ETA: 0s - loss: 0.3350 - accuracy: 0.88 - ETA: 0s - loss: 0.3352 - accuracy: 0.88 - ETA: 0s - loss: 0.3348 - accuracy: 0.88 - ETA: 0s - loss: 0.3350 - accuracy: 0.88 - ETA: 0s - loss: 0.3352 - accuracy: 0.88 - ETA: 0s - loss: 0.3357 - accuracy: 0.88 - 4s 2ms/step - loss: 0.3356 - accuracy: 0.8823 - val_loss: 0.3829 - val_accuracy: 0.8642\n"
     ]
    },
    {
     "data": {
      "text/html": [
       "<span style=\"color:#4527A0\"><h1 style=\"font-size:18px\">Trial complete</h1></span>"
      ],
      "text/plain": [
       "<IPython.core.display.HTML object>"
      ]
     },
     "metadata": {},
     "output_type": "display_data"
    },
    {
     "data": {
      "text/html": [
       "<span style=\"color:#4527A0\"><h1 style=\"font-size:18px\">Trial summary</h1></span>"
      ],
      "text/plain": [
       "<IPython.core.display.HTML object>"
      ]
     },
     "metadata": {},
     "output_type": "display_data"
    },
    {
     "data": {
      "text/html": [
       "<span style=\"color:cyan\"> |-Trial ID: 8de0de05cd176259871a5aa364d54552</span>"
      ],
      "text/plain": [
       "<IPython.core.display.HTML object>"
      ]
     },
     "metadata": {},
     "output_type": "display_data"
    },
    {
     "data": {
      "text/html": [
       "<span style=\"color:cyan\"> |-Score: 0.8668000102043152</span>"
      ],
      "text/plain": [
       "<IPython.core.display.HTML object>"
      ]
     },
     "metadata": {},
     "output_type": "display_data"
    },
    {
     "data": {
      "text/html": [
       "<span style=\"color:cyan\"> |-Best step: 0</span>"
      ],
      "text/plain": [
       "<IPython.core.display.HTML object>"
      ]
     },
     "metadata": {},
     "output_type": "display_data"
    },
    {
     "data": {
      "text/html": [
       "<span style=\"color:#7E57C2\"><h2 style=\"font-size:16px\">Hyperparameters:</h2></span>"
      ],
      "text/plain": [
       "<IPython.core.display.HTML object>"
      ]
     },
     "metadata": {},
     "output_type": "display_data"
    },
    {
     "data": {
      "text/html": [
       "<span style=\"color:cyan\"> |-learning_rate: 0.0001</span>"
      ],
      "text/plain": [
       "<IPython.core.display.HTML object>"
      ]
     },
     "metadata": {},
     "output_type": "display_data"
    },
    {
     "data": {
      "text/html": [
       "<span style=\"color:blue\"> |-tuner/bracket: 0</span>"
      ],
      "text/plain": [
       "<IPython.core.display.HTML object>"
      ]
     },
     "metadata": {},
     "output_type": "display_data"
    },
    {
     "data": {
      "text/html": [
       "<span style=\"color:cyan\"> |-tuner/epochs: 10</span>"
      ],
      "text/plain": [
       "<IPython.core.display.HTML object>"
      ]
     },
     "metadata": {},
     "output_type": "display_data"
    },
    {
     "data": {
      "text/html": [
       "<span style=\"color:blue\"> |-tuner/initial_epoch: 0</span>"
      ],
      "text/plain": [
       "<IPython.core.display.HTML object>"
      ]
     },
     "metadata": {},
     "output_type": "display_data"
    },
    {
     "data": {
      "text/html": [
       "<span style=\"color:cyan\"> |-tuner/round: 0</span>"
      ],
      "text/plain": [
       "<IPython.core.display.HTML object>"
      ]
     },
     "metadata": {},
     "output_type": "display_data"
    },
    {
     "data": {
      "text/html": [
       "<span style=\"color:blue\"> |-units: 128</span>"
      ],
      "text/plain": [
       "<IPython.core.display.HTML object>"
      ]
     },
     "metadata": {},
     "output_type": "display_data"
    },
    {
     "name": "stdout",
     "output_type": "stream",
     "text": [
      "Epoch 1/10\n",
      "   2/1875 [..............................] - ETA: 0s - loss: 2.4284 - accuracy: 0.03 - ETA: 5:48 - loss: 3.0202 - accuracy: 0.1562WARNING:tensorflow:Method (on_train_batch_end) is slow compared to the batch update (0.188184). Check your callbacks.\n",
      "1875/1875 [==============================] - ETA: 35s - loss: 2.2238 - accuracy: 0.5398 - ETA: 21s - loss: 1.5375 - accuracy: 0.619 - ETA: 15s - loss: 1.2723 - accuracy: 0.657 - ETA: 13s - loss: 1.1318 - accuracy: 0.686 - ETA: 11s - loss: 1.0489 - accuracy: 0.697 - ETA: 10s - loss: 0.9793 - accuracy: 0.710 - ETA: 9s - loss: 0.9369 - accuracy: 0.719 - ETA: 9s - loss: 0.9009 - accuracy: 0.72 - ETA: 8s - loss: 0.8781 - accuracy: 0.72 - ETA: 8s - loss: 0.8586 - accuracy: 0.73 - ETA: 7s - loss: 0.8416 - accuracy: 0.73 - ETA: 7s - loss: 0.8221 - accuracy: 0.73 - ETA: 7s - loss: 0.8078 - accuracy: 0.74 - ETA: 6s - loss: 0.7930 - accuracy: 0.74 - ETA: 6s - loss: 0.7825 - accuracy: 0.74 - ETA: 6s - loss: 0.7662 - accuracy: 0.75 - ETA: 6s - loss: 0.7525 - accuracy: 0.75 - ETA: 6s - loss: 0.7430 - accuracy: 0.75 - ETA: 6s - loss: 0.7354 - accuracy: 0.75 - ETA: 5s - loss: 0.7241 - accuracy: 0.76 - ETA: 5s - loss: 0.7137 - accuracy: 0.76 - ETA: 5s - loss: 0.7078 - accuracy: 0.76 - ETA: 5s - loss: 0.7039 - accuracy: 0.76 - ETA: 5s - loss: 0.7006 - accuracy: 0.76 - ETA: 5s - loss: 0.6951 - accuracy: 0.76 - ETA: 5s - loss: 0.6877 - accuracy: 0.76 - ETA: 5s - loss: 0.6801 - accuracy: 0.76 - ETA: 5s - loss: 0.6753 - accuracy: 0.77 - ETA: 4s - loss: 0.6705 - accuracy: 0.77 - ETA: 4s - loss: 0.6676 - accuracy: 0.77 - ETA: 4s - loss: 0.6610 - accuracy: 0.77 - ETA: 4s - loss: 0.6561 - accuracy: 0.77 - ETA: 4s - loss: 0.6515 - accuracy: 0.77 - ETA: 4s - loss: 0.6493 - accuracy: 0.77 - ETA: 4s - loss: 0.6450 - accuracy: 0.78 - ETA: 4s - loss: 0.6411 - accuracy: 0.78 - ETA: 4s - loss: 0.6377 - accuracy: 0.78 - ETA: 4s - loss: 0.6338 - accuracy: 0.78 - ETA: 4s - loss: 0.6315 - accuracy: 0.78 - ETA: 4s - loss: 0.6271 - accuracy: 0.78 - ETA: 4s - loss: 0.6259 - accuracy: 0.78 - ETA: 3s - loss: 0.6241 - accuracy: 0.78 - ETA: 3s - loss: 0.6239 - accuracy: 0.78 - ETA: 3s - loss: 0.6232 - accuracy: 0.78 - ETA: 3s - loss: 0.6199 - accuracy: 0.78 - ETA: 3s - loss: 0.6192 - accuracy: 0.78 - ETA: 3s - loss: 0.6177 - accuracy: 0.78 - ETA: 3s - loss: 0.6160 - accuracy: 0.78 - ETA: 3s - loss: 0.6118 - accuracy: 0.79 - ETA: 3s - loss: 0.6095 - accuracy: 0.79 - ETA: 3s - loss: 0.6061 - accuracy: 0.79 - ETA: 3s - loss: 0.6032 - accuracy: 0.79 - ETA: 3s - loss: 0.6013 - accuracy: 0.79 - ETA: 3s - loss: 0.6008 - accuracy: 0.79 - ETA: 3s - loss: 0.5993 - accuracy: 0.79 - ETA: 3s - loss: 0.5965 - accuracy: 0.79 - ETA: 2s - loss: 0.5947 - accuracy: 0.79 - ETA: 2s - loss: 0.5925 - accuracy: 0.79 - ETA: 2s - loss: 0.5901 - accuracy: 0.79 - ETA: 2s - loss: 0.5889 - accuracy: 0.79 - ETA: 2s - loss: 0.5876 - accuracy: 0.79 - ETA: 2s - loss: 0.5868 - accuracy: 0.79 - ETA: 2s - loss: 0.5856 - accuracy: 0.79 - ETA: 2s - loss: 0.5848 - accuracy: 0.79 - ETA: 2s - loss: 0.5833 - accuracy: 0.79 - ETA: 2s - loss: 0.5821 - accuracy: 0.79 - ETA: 2s - loss: 0.5806 - accuracy: 0.79 - ETA: 2s - loss: 0.5804 - accuracy: 0.79 - ETA: 2s - loss: 0.5784 - accuracy: 0.79 - ETA: 2s - loss: 0.5788 - accuracy: 0.79 - ETA: 2s - loss: 0.5783 - accuracy: 0.79 - ETA: 2s - loss: 0.5773 - accuracy: 0.79 - ETA: 2s - loss: 0.5762 - accuracy: 0.80 - ETA: 1s - loss: 0.5749 - accuracy: 0.80 - ETA: 1s - loss: 0.5740 - accuracy: 0.80 - ETA: 1s - loss: 0.5729 - accuracy: 0.80 - ETA: 1s - loss: 0.5713 - accuracy: 0.80 - ETA: 1s - loss: 0.5699 - accuracy: 0.80 - ETA: 1s - loss: 0.5682 - accuracy: 0.80 - ETA: 1s - loss: 0.5677 - accuracy: 0.80 - ETA: 1s - loss: 0.5660 - accuracy: 0.80 - ETA: 1s - loss: 0.5654 - accuracy: 0.80 - ETA: 1s - loss: 0.5637 - accuracy: 0.80 - ETA: 1s - loss: 0.5624 - accuracy: 0.80 - ETA: 1s - loss: 0.5608 - accuracy: 0.80 - ETA: 1s - loss: 0.5606 - accuracy: 0.80 - ETA: 1s - loss: 0.5599 - accuracy: 0.80 - ETA: 1s - loss: 0.5599 - accuracy: 0.80 - ETA: 1s - loss: 0.5591 - accuracy: 0.80 - ETA: 1s - loss: 0.5579 - accuracy: 0.80 - ETA: 0s - loss: 0.5571 - accuracy: 0.80 - ETA: 0s - loss: 0.5566 - accuracy: 0.80 - ETA: 0s - loss: 0.5553 - accuracy: 0.80 - ETA: 0s - loss: 0.5538 - accuracy: 0.80 - ETA: 0s - loss: 0.5530 - accuracy: 0.80 - ETA: 0s - loss: 0.5529 - accuracy: 0.80 - ETA: 0s - loss: 0.5523 - accuracy: 0.80 - ETA: 0s - loss: 0.5508 - accuracy: 0.80 - ETA: 0s - loss: 0.5506 - accuracy: 0.80 - ETA: 0s - loss: 0.5493 - accuracy: 0.80 - ETA: 0s - loss: 0.5479 - accuracy: 0.80 - ETA: 0s - loss: 0.5465 - accuracy: 0.80 - ETA: 0s - loss: 0.5460 - accuracy: 0.80 - ETA: 0s - loss: 0.5447 - accuracy: 0.80 - ETA: 0s - loss: 0.5433 - accuracy: 0.80 - ETA: 0s - loss: 0.5425 - accuracy: 0.80 - ETA: 0s - loss: 0.5416 - accuracy: 0.80 - 7s 3ms/step - loss: 0.5416 - accuracy: 0.8099 - val_loss: 0.4845 - val_accuracy: 0.8281\n",
      "Epoch 2/10\n"
     ]
    },
    {
     "name": "stdout",
     "output_type": "stream",
     "text": [
      "1875/1875 [==============================] - ETA: 0s - loss: 0.5298 - accuracy: 0.87 - ETA: 6s - loss: 0.3927 - accuracy: 0.85 - ETA: 6s - loss: 0.4508 - accuracy: 0.83 - ETA: 6s - loss: 0.4419 - accuracy: 0.83 - ETA: 6s - loss: 0.4508 - accuracy: 0.82 - ETA: 6s - loss: 0.4464 - accuracy: 0.83 - ETA: 6s - loss: 0.4376 - accuracy: 0.83 - ETA: 5s - loss: 0.4324 - accuracy: 0.83 - ETA: 5s - loss: 0.4323 - accuracy: 0.83 - ETA: 5s - loss: 0.4385 - accuracy: 0.83 - ETA: 5s - loss: 0.4354 - accuracy: 0.83 - ETA: 5s - loss: 0.4378 - accuracy: 0.83 - ETA: 5s - loss: 0.4420 - accuracy: 0.83 - ETA: 5s - loss: 0.4449 - accuracy: 0.83 - ETA: 5s - loss: 0.4395 - accuracy: 0.83 - ETA: 5s - loss: 0.4394 - accuracy: 0.83 - ETA: 5s - loss: 0.4369 - accuracy: 0.83 - ETA: 5s - loss: 0.4360 - accuracy: 0.83 - ETA: 5s - loss: 0.4385 - accuracy: 0.83 - ETA: 5s - loss: 0.4366 - accuracy: 0.83 - ETA: 5s - loss: 0.4406 - accuracy: 0.83 - ETA: 4s - loss: 0.4426 - accuracy: 0.83 - ETA: 4s - loss: 0.4467 - accuracy: 0.83 - ETA: 4s - loss: 0.4464 - accuracy: 0.83 - ETA: 4s - loss: 0.4441 - accuracy: 0.83 - ETA: 4s - loss: 0.4432 - accuracy: 0.83 - ETA: 4s - loss: 0.4408 - accuracy: 0.83 - ETA: 4s - loss: 0.4392 - accuracy: 0.83 - ETA: 4s - loss: 0.4405 - accuracy: 0.83 - ETA: 4s - loss: 0.4414 - accuracy: 0.83 - ETA: 4s - loss: 0.4429 - accuracy: 0.83 - ETA: 4s - loss: 0.4466 - accuracy: 0.83 - ETA: 4s - loss: 0.4459 - accuracy: 0.83 - ETA: 4s - loss: 0.4429 - accuracy: 0.83 - ETA: 4s - loss: 0.4417 - accuracy: 0.83 - ETA: 4s - loss: 0.4416 - accuracy: 0.83 - ETA: 4s - loss: 0.4381 - accuracy: 0.83 - ETA: 4s - loss: 0.4378 - accuracy: 0.84 - ETA: 4s - loss: 0.4387 - accuracy: 0.84 - ETA: 3s - loss: 0.4407 - accuracy: 0.84 - ETA: 3s - loss: 0.4418 - accuracy: 0.84 - ETA: 3s - loss: 0.4417 - accuracy: 0.84 - ETA: 3s - loss: 0.4408 - accuracy: 0.84 - ETA: 3s - loss: 0.4421 - accuracy: 0.84 - ETA: 3s - loss: 0.4420 - accuracy: 0.84 - ETA: 3s - loss: 0.4410 - accuracy: 0.84 - ETA: 3s - loss: 0.4413 - accuracy: 0.84 - ETA: 3s - loss: 0.4410 - accuracy: 0.84 - ETA: 3s - loss: 0.4417 - accuracy: 0.84 - ETA: 3s - loss: 0.4420 - accuracy: 0.84 - ETA: 3s - loss: 0.4428 - accuracy: 0.84 - ETA: 3s - loss: 0.4428 - accuracy: 0.84 - ETA: 3s - loss: 0.4431 - accuracy: 0.84 - ETA: 2s - loss: 0.4431 - accuracy: 0.84 - ETA: 2s - loss: 0.4423 - accuracy: 0.84 - ETA: 2s - loss: 0.4427 - accuracy: 0.84 - ETA: 2s - loss: 0.4439 - accuracy: 0.84 - ETA: 2s - loss: 0.4432 - accuracy: 0.84 - ETA: 2s - loss: 0.4421 - accuracy: 0.84 - ETA: 2s - loss: 0.4419 - accuracy: 0.84 - ETA: 2s - loss: 0.4416 - accuracy: 0.84 - ETA: 2s - loss: 0.4412 - accuracy: 0.84 - ETA: 2s - loss: 0.4407 - accuracy: 0.84 - ETA: 2s - loss: 0.4409 - accuracy: 0.84 - ETA: 2s - loss: 0.4405 - accuracy: 0.84 - ETA: 2s - loss: 0.4411 - accuracy: 0.84 - ETA: 2s - loss: 0.4398 - accuracy: 0.84 - ETA: 2s - loss: 0.4406 - accuracy: 0.84 - ETA: 2s - loss: 0.4410 - accuracy: 0.84 - ETA: 2s - loss: 0.4406 - accuracy: 0.84 - ETA: 1s - loss: 0.4406 - accuracy: 0.84 - ETA: 1s - loss: 0.4417 - accuracy: 0.84 - ETA: 1s - loss: 0.4417 - accuracy: 0.84 - ETA: 1s - loss: 0.4413 - accuracy: 0.84 - ETA: 1s - loss: 0.4414 - accuracy: 0.84 - ETA: 1s - loss: 0.4410 - accuracy: 0.84 - ETA: 1s - loss: 0.4403 - accuracy: 0.84 - ETA: 1s - loss: 0.4394 - accuracy: 0.84 - ETA: 1s - loss: 0.4396 - accuracy: 0.84 - ETA: 1s - loss: 0.4397 - accuracy: 0.84 - ETA: 1s - loss: 0.4399 - accuracy: 0.84 - ETA: 1s - loss: 0.4395 - accuracy: 0.84 - ETA: 1s - loss: 0.4389 - accuracy: 0.84 - ETA: 1s - loss: 0.4379 - accuracy: 0.84 - ETA: 1s - loss: 0.4374 - accuracy: 0.84 - ETA: 1s - loss: 0.4375 - accuracy: 0.84 - ETA: 1s - loss: 0.4369 - accuracy: 0.84 - ETA: 1s - loss: 0.4375 - accuracy: 0.84 - ETA: 1s - loss: 0.4375 - accuracy: 0.84 - ETA: 0s - loss: 0.4372 - accuracy: 0.84 - ETA: 0s - loss: 0.4381 - accuracy: 0.84 - ETA: 0s - loss: 0.4376 - accuracy: 0.84 - ETA: 0s - loss: 0.4387 - accuracy: 0.84 - ETA: 0s - loss: 0.4385 - accuracy: 0.84 - ETA: 0s - loss: 0.4381 - accuracy: 0.84 - ETA: 0s - loss: 0.4384 - accuracy: 0.84 - ETA: 0s - loss: 0.4378 - accuracy: 0.84 - ETA: 0s - loss: 0.4385 - accuracy: 0.84 - ETA: 0s - loss: 0.4387 - accuracy: 0.84 - ETA: 0s - loss: 0.4389 - accuracy: 0.84 - ETA: 0s - loss: 0.4379 - accuracy: 0.84 - ETA: 0s - loss: 0.4377 - accuracy: 0.84 - ETA: 0s - loss: 0.4377 - accuracy: 0.84 - ETA: 0s - loss: 0.4371 - accuracy: 0.84 - ETA: 0s - loss: 0.4376 - accuracy: 0.84 - ETA: 0s - loss: 0.4379 - accuracy: 0.84 - ETA: 0s - loss: 0.4382 - accuracy: 0.84 - ETA: 0s - loss: 0.4383 - accuracy: 0.84 - 6s 3ms/step - loss: 0.4388 - accuracy: 0.8447 - val_loss: 0.4372 - val_accuracy: 0.8472\n",
      "Epoch 3/10\n"
     ]
    },
    {
     "name": "stdout",
     "output_type": "stream",
     "text": [
      "1875/1875 [==============================] - ETA: 0s - loss: 0.2020 - accuracy: 0.90 - ETA: 6s - loss: 0.4388 - accuracy: 0.84 - ETA: 6s - loss: 0.3903 - accuracy: 0.85 - ETA: 6s - loss: 0.4147 - accuracy: 0.85 - ETA: 6s - loss: 0.4304 - accuracy: 0.84 - ETA: 6s - loss: 0.4310 - accuracy: 0.84 - ETA: 6s - loss: 0.4318 - accuracy: 0.85 - ETA: 6s - loss: 0.4314 - accuracy: 0.84 - ETA: 5s - loss: 0.4368 - accuracy: 0.84 - ETA: 5s - loss: 0.4406 - accuracy: 0.84 - ETA: 5s - loss: 0.4395 - accuracy: 0.84 - ETA: 5s - loss: 0.4380 - accuracy: 0.84 - ETA: 5s - loss: 0.4391 - accuracy: 0.84 - ETA: 5s - loss: 0.4369 - accuracy: 0.84 - ETA: 5s - loss: 0.4376 - accuracy: 0.84 - ETA: 5s - loss: 0.4406 - accuracy: 0.84 - ETA: 5s - loss: 0.4352 - accuracy: 0.84 - ETA: 5s - loss: 0.4359 - accuracy: 0.84 - ETA: 5s - loss: 0.4339 - accuracy: 0.84 - ETA: 5s - loss: 0.4374 - accuracy: 0.84 - ETA: 5s - loss: 0.4347 - accuracy: 0.84 - ETA: 5s - loss: 0.4329 - accuracy: 0.84 - ETA: 5s - loss: 0.4299 - accuracy: 0.84 - ETA: 4s - loss: 0.4278 - accuracy: 0.85 - ETA: 4s - loss: 0.4278 - accuracy: 0.85 - ETA: 4s - loss: 0.4297 - accuracy: 0.84 - ETA: 4s - loss: 0.4296 - accuracy: 0.85 - ETA: 4s - loss: 0.4266 - accuracy: 0.85 - ETA: 4s - loss: 0.4274 - accuracy: 0.85 - ETA: 4s - loss: 0.4277 - accuracy: 0.85 - ETA: 4s - loss: 0.4277 - accuracy: 0.85 - ETA: 4s - loss: 0.4286 - accuracy: 0.85 - ETA: 4s - loss: 0.4291 - accuracy: 0.85 - ETA: 4s - loss: 0.4276 - accuracy: 0.85 - ETA: 4s - loss: 0.4269 - accuracy: 0.85 - ETA: 4s - loss: 0.4255 - accuracy: 0.85 - ETA: 4s - loss: 0.4226 - accuracy: 0.85 - ETA: 4s - loss: 0.4228 - accuracy: 0.85 - ETA: 4s - loss: 0.4210 - accuracy: 0.85 - ETA: 4s - loss: 0.4235 - accuracy: 0.85 - ETA: 4s - loss: 0.4228 - accuracy: 0.85 - ETA: 3s - loss: 0.4219 - accuracy: 0.85 - ETA: 3s - loss: 0.4235 - accuracy: 0.85 - ETA: 3s - loss: 0.4239 - accuracy: 0.85 - ETA: 3s - loss: 0.4239 - accuracy: 0.85 - ETA: 3s - loss: 0.4240 - accuracy: 0.85 - ETA: 3s - loss: 0.4244 - accuracy: 0.85 - ETA: 3s - loss: 0.4233 - accuracy: 0.85 - ETA: 3s - loss: 0.4210 - accuracy: 0.85 - ETA: 3s - loss: 0.4202 - accuracy: 0.85 - ETA: 3s - loss: 0.4189 - accuracy: 0.85 - ETA: 3s - loss: 0.4184 - accuracy: 0.85 - ETA: 3s - loss: 0.4194 - accuracy: 0.85 - ETA: 3s - loss: 0.4199 - accuracy: 0.85 - ETA: 3s - loss: 0.4212 - accuracy: 0.85 - ETA: 2s - loss: 0.4219 - accuracy: 0.85 - ETA: 2s - loss: 0.4216 - accuracy: 0.85 - ETA: 2s - loss: 0.4210 - accuracy: 0.85 - ETA: 2s - loss: 0.4215 - accuracy: 0.85 - ETA: 2s - loss: 0.4218 - accuracy: 0.85 - ETA: 2s - loss: 0.4210 - accuracy: 0.85 - ETA: 2s - loss: 0.4207 - accuracy: 0.85 - ETA: 2s - loss: 0.4219 - accuracy: 0.85 - ETA: 2s - loss: 0.4214 - accuracy: 0.85 - ETA: 2s - loss: 0.4212 - accuracy: 0.85 - ETA: 2s - loss: 0.4213 - accuracy: 0.85 - ETA: 2s - loss: 0.4215 - accuracy: 0.85 - ETA: 2s - loss: 0.4205 - accuracy: 0.85 - ETA: 2s - loss: 0.4195 - accuracy: 0.85 - ETA: 2s - loss: 0.4203 - accuracy: 0.85 - ETA: 2s - loss: 0.4204 - accuracy: 0.85 - ETA: 2s - loss: 0.4215 - accuracy: 0.85 - ETA: 1s - loss: 0.4214 - accuracy: 0.85 - ETA: 1s - loss: 0.4219 - accuracy: 0.85 - ETA: 1s - loss: 0.4217 - accuracy: 0.85 - ETA: 1s - loss: 0.4212 - accuracy: 0.85 - ETA: 1s - loss: 0.4205 - accuracy: 0.85 - ETA: 1s - loss: 0.4204 - accuracy: 0.85 - ETA: 1s - loss: 0.4197 - accuracy: 0.85 - ETA: 1s - loss: 0.4196 - accuracy: 0.85 - ETA: 1s - loss: 0.4191 - accuracy: 0.85 - ETA: 1s - loss: 0.4190 - accuracy: 0.85 - ETA: 1s - loss: 0.4186 - accuracy: 0.85 - ETA: 1s - loss: 0.4187 - accuracy: 0.85 - ETA: 1s - loss: 0.4189 - accuracy: 0.85 - ETA: 1s - loss: 0.4185 - accuracy: 0.85 - ETA: 1s - loss: 0.4185 - accuracy: 0.85 - ETA: 1s - loss: 0.4187 - accuracy: 0.85 - ETA: 1s - loss: 0.4187 - accuracy: 0.85 - ETA: 1s - loss: 0.4185 - accuracy: 0.85 - ETA: 0s - loss: 0.4180 - accuracy: 0.85 - ETA: 0s - loss: 0.4178 - accuracy: 0.85 - ETA: 0s - loss: 0.4182 - accuracy: 0.85 - ETA: 0s - loss: 0.4185 - accuracy: 0.85 - ETA: 0s - loss: 0.4181 - accuracy: 0.85 - ETA: 0s - loss: 0.4176 - accuracy: 0.85 - ETA: 0s - loss: 0.4176 - accuracy: 0.85 - ETA: 0s - loss: 0.4178 - accuracy: 0.85 - ETA: 0s - loss: 0.4182 - accuracy: 0.85 - ETA: 0s - loss: 0.4179 - accuracy: 0.85 - ETA: 0s - loss: 0.4182 - accuracy: 0.85 - ETA: 0s - loss: 0.4190 - accuracy: 0.85 - ETA: 0s - loss: 0.4190 - accuracy: 0.85 - ETA: 0s - loss: 0.4188 - accuracy: 0.85 - ETA: 0s - loss: 0.4190 - accuracy: 0.85 - ETA: 0s - loss: 0.4188 - accuracy: 0.85 - ETA: 0s - loss: 0.4182 - accuracy: 0.85 - ETA: 0s - loss: 0.4185 - accuracy: 0.85 - ETA: 0s - loss: 0.4180 - accuracy: 0.85 - 6s 3ms/step - loss: 0.4178 - accuracy: 0.8543 - val_loss: 0.4324 - val_accuracy: 0.8485\n",
      "Epoch 4/10\n"
     ]
    },
    {
     "name": "stdout",
     "output_type": "stream",
     "text": [
      "1875/1875 [==============================] - ETA: 0s - loss: 0.3613 - accuracy: 0.87 - ETA: 6s - loss: 0.3298 - accuracy: 0.88 - ETA: 6s - loss: 0.3806 - accuracy: 0.87 - ETA: 6s - loss: 0.4015 - accuracy: 0.86 - ETA: 6s - loss: 0.3750 - accuracy: 0.87 - ETA: 6s - loss: 0.3782 - accuracy: 0.87 - ETA: 6s - loss: 0.3820 - accuracy: 0.87 - ETA: 6s - loss: 0.3852 - accuracy: 0.87 - ETA: 6s - loss: 0.3926 - accuracy: 0.87 - ETA: 5s - loss: 0.3946 - accuracy: 0.86 - ETA: 5s - loss: 0.3887 - accuracy: 0.86 - ETA: 5s - loss: 0.3856 - accuracy: 0.86 - ETA: 5s - loss: 0.3912 - accuracy: 0.86 - ETA: 5s - loss: 0.3892 - accuracy: 0.86 - ETA: 5s - loss: 0.3857 - accuracy: 0.86 - ETA: 5s - loss: 0.3892 - accuracy: 0.86 - ETA: 5s - loss: 0.3924 - accuracy: 0.86 - ETA: 5s - loss: 0.3893 - accuracy: 0.86 - ETA: 5s - loss: 0.3875 - accuracy: 0.86 - ETA: 5s - loss: 0.3878 - accuracy: 0.86 - ETA: 5s - loss: 0.3901 - accuracy: 0.86 - ETA: 5s - loss: 0.3880 - accuracy: 0.86 - ETA: 5s - loss: 0.3865 - accuracy: 0.86 - ETA: 5s - loss: 0.3878 - accuracy: 0.86 - ETA: 5s - loss: 0.3908 - accuracy: 0.86 - ETA: 4s - loss: 0.3915 - accuracy: 0.86 - ETA: 4s - loss: 0.3948 - accuracy: 0.86 - ETA: 4s - loss: 0.3984 - accuracy: 0.86 - ETA: 4s - loss: 0.4012 - accuracy: 0.86 - ETA: 4s - loss: 0.4003 - accuracy: 0.86 - ETA: 4s - loss: 0.4004 - accuracy: 0.86 - ETA: 4s - loss: 0.3993 - accuracy: 0.86 - ETA: 4s - loss: 0.3991 - accuracy: 0.86 - ETA: 4s - loss: 0.3999 - accuracy: 0.86 - ETA: 4s - loss: 0.3993 - accuracy: 0.86 - ETA: 4s - loss: 0.4003 - accuracy: 0.85 - ETA: 4s - loss: 0.4010 - accuracy: 0.85 - ETA: 4s - loss: 0.3997 - accuracy: 0.85 - ETA: 4s - loss: 0.4015 - accuracy: 0.85 - ETA: 4s - loss: 0.4024 - accuracy: 0.85 - ETA: 3s - loss: 0.4029 - accuracy: 0.85 - ETA: 3s - loss: 0.4033 - accuracy: 0.85 - ETA: 3s - loss: 0.4027 - accuracy: 0.85 - ETA: 3s - loss: 0.4030 - accuracy: 0.85 - ETA: 3s - loss: 0.4015 - accuracy: 0.85 - ETA: 3s - loss: 0.4002 - accuracy: 0.85 - ETA: 3s - loss: 0.3988 - accuracy: 0.85 - ETA: 3s - loss: 0.4000 - accuracy: 0.85 - ETA: 3s - loss: 0.4018 - accuracy: 0.85 - ETA: 3s - loss: 0.4011 - accuracy: 0.85 - ETA: 3s - loss: 0.4017 - accuracy: 0.85 - ETA: 3s - loss: 0.4010 - accuracy: 0.85 - ETA: 3s - loss: 0.4009 - accuracy: 0.85 - ETA: 3s - loss: 0.3997 - accuracy: 0.85 - ETA: 3s - loss: 0.3986 - accuracy: 0.85 - ETA: 3s - loss: 0.3987 - accuracy: 0.85 - ETA: 3s - loss: 0.3991 - accuracy: 0.85 - ETA: 2s - loss: 0.3987 - accuracy: 0.85 - ETA: 2s - loss: 0.3982 - accuracy: 0.85 - ETA: 2s - loss: 0.3984 - accuracy: 0.85 - ETA: 2s - loss: 0.3987 - accuracy: 0.85 - ETA: 2s - loss: 0.3997 - accuracy: 0.85 - ETA: 2s - loss: 0.4001 - accuracy: 0.85 - ETA: 2s - loss: 0.4016 - accuracy: 0.85 - ETA: 2s - loss: 0.4015 - accuracy: 0.85 - ETA: 2s - loss: 0.4009 - accuracy: 0.85 - ETA: 2s - loss: 0.4003 - accuracy: 0.85 - ETA: 2s - loss: 0.3992 - accuracy: 0.85 - ETA: 2s - loss: 0.3980 - accuracy: 0.85 - ETA: 2s - loss: 0.3976 - accuracy: 0.85 - ETA: 2s - loss: 0.3967 - accuracy: 0.85 - ETA: 1s - loss: 0.3958 - accuracy: 0.86 - ETA: 1s - loss: 0.3964 - accuracy: 0.86 - ETA: 1s - loss: 0.3966 - accuracy: 0.86 - ETA: 1s - loss: 0.3962 - accuracy: 0.86 - ETA: 1s - loss: 0.3963 - accuracy: 0.86 - ETA: 1s - loss: 0.3956 - accuracy: 0.86 - ETA: 1s - loss: 0.3944 - accuracy: 0.86 - ETA: 1s - loss: 0.3944 - accuracy: 0.86 - ETA: 1s - loss: 0.3950 - accuracy: 0.86 - ETA: 1s - loss: 0.3942 - accuracy: 0.86 - ETA: 1s - loss: 0.3941 - accuracy: 0.86 - ETA: 1s - loss: 0.3946 - accuracy: 0.86 - ETA: 1s - loss: 0.3952 - accuracy: 0.86 - ETA: 1s - loss: 0.3950 - accuracy: 0.86 - ETA: 1s - loss: 0.3943 - accuracy: 0.86 - ETA: 1s - loss: 0.3945 - accuracy: 0.86 - ETA: 1s - loss: 0.3945 - accuracy: 0.86 - ETA: 1s - loss: 0.3952 - accuracy: 0.86 - ETA: 1s - loss: 0.3957 - accuracy: 0.86 - ETA: 0s - loss: 0.3960 - accuracy: 0.86 - ETA: 0s - loss: 0.3968 - accuracy: 0.86 - ETA: 0s - loss: 0.3974 - accuracy: 0.86 - ETA: 0s - loss: 0.3974 - accuracy: 0.86 - ETA: 0s - loss: 0.3978 - accuracy: 0.85 - ETA: 0s - loss: 0.3984 - accuracy: 0.85 - ETA: 0s - loss: 0.3987 - accuracy: 0.85 - ETA: 0s - loss: 0.3992 - accuracy: 0.85 - ETA: 0s - loss: 0.3994 - accuracy: 0.85 - ETA: 0s - loss: 0.4006 - accuracy: 0.85 - ETA: 0s - loss: 0.4001 - accuracy: 0.85 - ETA: 0s - loss: 0.4003 - accuracy: 0.85 - ETA: 0s - loss: 0.4009 - accuracy: 0.85 - ETA: 0s - loss: 0.4009 - accuracy: 0.85 - ETA: 0s - loss: 0.4012 - accuracy: 0.85 - ETA: 0s - loss: 0.4017 - accuracy: 0.85 - ETA: 0s - loss: 0.4018 - accuracy: 0.85 - ETA: 0s - loss: 0.4022 - accuracy: 0.85 - ETA: 0s - loss: 0.4016 - accuracy: 0.85 - 6s 3ms/step - loss: 0.4015 - accuracy: 0.8585 - val_loss: 0.4762 - val_accuracy: 0.8392\n",
      "Epoch 5/10\n"
     ]
    },
    {
     "name": "stdout",
     "output_type": "stream",
     "text": [
      "1875/1875 [==============================] - ETA: 0s - loss: 0.2570 - accuracy: 0.90 - ETA: 5s - loss: 0.3945 - accuracy: 0.83 - ETA: 5s - loss: 0.3931 - accuracy: 0.85 - ETA: 5s - loss: 0.3945 - accuracy: 0.85 - ETA: 5s - loss: 0.3914 - accuracy: 0.85 - ETA: 5s - loss: 0.3895 - accuracy: 0.85 - ETA: 5s - loss: 0.3929 - accuracy: 0.85 - ETA: 5s - loss: 0.3883 - accuracy: 0.85 - ETA: 5s - loss: 0.3984 - accuracy: 0.85 - ETA: 5s - loss: 0.4022 - accuracy: 0.85 - ETA: 4s - loss: 0.3938 - accuracy: 0.85 - ETA: 4s - loss: 0.3901 - accuracy: 0.86 - ETA: 4s - loss: 0.3932 - accuracy: 0.86 - ETA: 4s - loss: 0.3935 - accuracy: 0.86 - ETA: 4s - loss: 0.3931 - accuracy: 0.86 - ETA: 4s - loss: 0.3950 - accuracy: 0.85 - ETA: 4s - loss: 0.3935 - accuracy: 0.86 - ETA: 4s - loss: 0.3967 - accuracy: 0.85 - ETA: 4s - loss: 0.3961 - accuracy: 0.85 - ETA: 4s - loss: 0.3934 - accuracy: 0.85 - ETA: 4s - loss: 0.3931 - accuracy: 0.85 - ETA: 4s - loss: 0.3909 - accuracy: 0.85 - ETA: 4s - loss: 0.3914 - accuracy: 0.85 - ETA: 4s - loss: 0.3938 - accuracy: 0.85 - ETA: 4s - loss: 0.3931 - accuracy: 0.85 - ETA: 4s - loss: 0.3913 - accuracy: 0.85 - ETA: 4s - loss: 0.3926 - accuracy: 0.85 - ETA: 4s - loss: 0.3936 - accuracy: 0.85 - ETA: 4s - loss: 0.3909 - accuracy: 0.85 - ETA: 4s - loss: 0.3917 - accuracy: 0.85 - ETA: 4s - loss: 0.3913 - accuracy: 0.85 - ETA: 3s - loss: 0.3913 - accuracy: 0.85 - ETA: 3s - loss: 0.3932 - accuracy: 0.85 - ETA: 3s - loss: 0.3923 - accuracy: 0.85 - ETA: 3s - loss: 0.3913 - accuracy: 0.85 - ETA: 3s - loss: 0.3919 - accuracy: 0.85 - ETA: 3s - loss: 0.3925 - accuracy: 0.85 - ETA: 3s - loss: 0.3933 - accuracy: 0.85 - ETA: 3s - loss: 0.3925 - accuracy: 0.85 - ETA: 3s - loss: 0.3907 - accuracy: 0.85 - ETA: 3s - loss: 0.3905 - accuracy: 0.85 - ETA: 3s - loss: 0.3914 - accuracy: 0.86 - ETA: 3s - loss: 0.3924 - accuracy: 0.85 - ETA: 3s - loss: 0.3938 - accuracy: 0.85 - ETA: 3s - loss: 0.3944 - accuracy: 0.85 - ETA: 3s - loss: 0.3946 - accuracy: 0.85 - ETA: 3s - loss: 0.3964 - accuracy: 0.85 - ETA: 3s - loss: 0.3960 - accuracy: 0.85 - ETA: 3s - loss: 0.3957 - accuracy: 0.85 - ETA: 3s - loss: 0.3955 - accuracy: 0.85 - ETA: 2s - loss: 0.3962 - accuracy: 0.85 - ETA: 2s - loss: 0.3967 - accuracy: 0.85 - ETA: 2s - loss: 0.3969 - accuracy: 0.85 - ETA: 2s - loss: 0.3980 - accuracy: 0.85 - ETA: 2s - loss: 0.3974 - accuracy: 0.85 - ETA: 2s - loss: 0.3971 - accuracy: 0.85 - ETA: 2s - loss: 0.3967 - accuracy: 0.85 - ETA: 2s - loss: 0.3965 - accuracy: 0.85 - ETA: 2s - loss: 0.3965 - accuracy: 0.85 - ETA: 2s - loss: 0.3957 - accuracy: 0.85 - ETA: 2s - loss: 0.3957 - accuracy: 0.85 - ETA: 2s - loss: 0.3966 - accuracy: 0.85 - ETA: 2s - loss: 0.3970 - accuracy: 0.85 - ETA: 2s - loss: 0.3962 - accuracy: 0.85 - ETA: 2s - loss: 0.3957 - accuracy: 0.85 - ETA: 2s - loss: 0.3954 - accuracy: 0.85 - ETA: 2s - loss: 0.3947 - accuracy: 0.85 - ETA: 2s - loss: 0.3954 - accuracy: 0.85 - ETA: 2s - loss: 0.3945 - accuracy: 0.85 - ETA: 1s - loss: 0.3946 - accuracy: 0.85 - ETA: 1s - loss: 0.3943 - accuracy: 0.85 - ETA: 1s - loss: 0.3941 - accuracy: 0.85 - ETA: 1s - loss: 0.3939 - accuracy: 0.85 - ETA: 1s - loss: 0.3930 - accuracy: 0.85 - ETA: 1s - loss: 0.3927 - accuracy: 0.85 - ETA: 1s - loss: 0.3914 - accuracy: 0.86 - ETA: 1s - loss: 0.3928 - accuracy: 0.85 - ETA: 1s - loss: 0.3925 - accuracy: 0.85 - ETA: 1s - loss: 0.3923 - accuracy: 0.85 - ETA: 1s - loss: 0.3912 - accuracy: 0.86 - ETA: 1s - loss: 0.3912 - accuracy: 0.86 - ETA: 1s - loss: 0.3916 - accuracy: 0.86 - ETA: 1s - loss: 0.3923 - accuracy: 0.86 - ETA: 1s - loss: 0.3919 - accuracy: 0.86 - ETA: 1s - loss: 0.3912 - accuracy: 0.86 - ETA: 1s - loss: 0.3914 - accuracy: 0.86 - ETA: 1s - loss: 0.3922 - accuracy: 0.86 - ETA: 1s - loss: 0.3928 - accuracy: 0.85 - ETA: 1s - loss: 0.3934 - accuracy: 0.85 - ETA: 0s - loss: 0.3934 - accuracy: 0.85 - ETA: 0s - loss: 0.3939 - accuracy: 0.85 - ETA: 0s - loss: 0.3935 - accuracy: 0.85 - ETA: 0s - loss: 0.3944 - accuracy: 0.85 - ETA: 0s - loss: 0.3950 - accuracy: 0.85 - ETA: 0s - loss: 0.3950 - accuracy: 0.85 - ETA: 0s - loss: 0.3949 - accuracy: 0.85 - ETA: 0s - loss: 0.3945 - accuracy: 0.85 - ETA: 0s - loss: 0.3939 - accuracy: 0.85 - ETA: 0s - loss: 0.3942 - accuracy: 0.85 - ETA: 0s - loss: 0.3943 - accuracy: 0.85 - ETA: 0s - loss: 0.3950 - accuracy: 0.85 - ETA: 0s - loss: 0.3952 - accuracy: 0.85 - ETA: 0s - loss: 0.3953 - accuracy: 0.85 - ETA: 0s - loss: 0.3958 - accuracy: 0.85 - ETA: 0s - loss: 0.3956 - accuracy: 0.85 - ETA: 0s - loss: 0.3960 - accuracy: 0.85 - ETA: 0s - loss: 0.3962 - accuracy: 0.85 - ETA: 0s - loss: 0.3961 - accuracy: 0.85 - 6s 3ms/step - loss: 0.3960 - accuracy: 0.8587 - val_loss: 0.4549 - val_accuracy: 0.8427\n",
      "Epoch 6/10\n"
     ]
    },
    {
     "name": "stdout",
     "output_type": "stream",
     "text": [
      "1875/1875 [==============================] - ETA: 0s - loss: 0.3241 - accuracy: 0.90 - ETA: 5s - loss: 0.2732 - accuracy: 0.91 - ETA: 5s - loss: 0.3177 - accuracy: 0.88 - ETA: 5s - loss: 0.3351 - accuracy: 0.87 - ETA: 5s - loss: 0.3541 - accuracy: 0.86 - ETA: 5s - loss: 0.3496 - accuracy: 0.86 - ETA: 5s - loss: 0.3482 - accuracy: 0.87 - ETA: 5s - loss: 0.3498 - accuracy: 0.87 - ETA: 5s - loss: 0.3553 - accuracy: 0.87 - ETA: 5s - loss: 0.3473 - accuracy: 0.87 - ETA: 4s - loss: 0.3436 - accuracy: 0.87 - ETA: 4s - loss: 0.3436 - accuracy: 0.87 - ETA: 4s - loss: 0.3434 - accuracy: 0.87 - ETA: 4s - loss: 0.3494 - accuracy: 0.87 - ETA: 4s - loss: 0.3535 - accuracy: 0.87 - ETA: 4s - loss: 0.3570 - accuracy: 0.87 - ETA: 4s - loss: 0.3597 - accuracy: 0.87 - ETA: 4s - loss: 0.3633 - accuracy: 0.87 - ETA: 4s - loss: 0.3674 - accuracy: 0.86 - ETA: 4s - loss: 0.3723 - accuracy: 0.86 - ETA: 4s - loss: 0.3748 - accuracy: 0.86 - ETA: 4s - loss: 0.3774 - accuracy: 0.86 - ETA: 4s - loss: 0.3770 - accuracy: 0.86 - ETA: 4s - loss: 0.3769 - accuracy: 0.86 - ETA: 4s - loss: 0.3773 - accuracy: 0.86 - ETA: 4s - loss: 0.3781 - accuracy: 0.86 - ETA: 4s - loss: 0.3755 - accuracy: 0.86 - ETA: 4s - loss: 0.3745 - accuracy: 0.86 - ETA: 4s - loss: 0.3756 - accuracy: 0.86 - ETA: 4s - loss: 0.3764 - accuracy: 0.86 - ETA: 3s - loss: 0.3760 - accuracy: 0.86 - ETA: 3s - loss: 0.3755 - accuracy: 0.86 - ETA: 3s - loss: 0.3757 - accuracy: 0.86 - ETA: 3s - loss: 0.3743 - accuracy: 0.86 - ETA: 3s - loss: 0.3752 - accuracy: 0.86 - ETA: 3s - loss: 0.3754 - accuracy: 0.86 - ETA: 3s - loss: 0.3740 - accuracy: 0.86 - ETA: 3s - loss: 0.3726 - accuracy: 0.86 - ETA: 3s - loss: 0.3726 - accuracy: 0.86 - ETA: 3s - loss: 0.3727 - accuracy: 0.86 - ETA: 3s - loss: 0.3728 - accuracy: 0.86 - ETA: 3s - loss: 0.3732 - accuracy: 0.86 - ETA: 3s - loss: 0.3729 - accuracy: 0.86 - ETA: 3s - loss: 0.3734 - accuracy: 0.86 - ETA: 3s - loss: 0.3728 - accuracy: 0.86 - ETA: 3s - loss: 0.3731 - accuracy: 0.86 - ETA: 3s - loss: 0.3737 - accuracy: 0.86 - ETA: 3s - loss: 0.3743 - accuracy: 0.86 - ETA: 3s - loss: 0.3740 - accuracy: 0.86 - ETA: 3s - loss: 0.3733 - accuracy: 0.86 - ETA: 2s - loss: 0.3741 - accuracy: 0.86 - ETA: 2s - loss: 0.3741 - accuracy: 0.86 - ETA: 2s - loss: 0.3739 - accuracy: 0.86 - ETA: 2s - loss: 0.3731 - accuracy: 0.86 - ETA: 2s - loss: 0.3721 - accuracy: 0.86 - ETA: 2s - loss: 0.3726 - accuracy: 0.86 - ETA: 2s - loss: 0.3725 - accuracy: 0.86 - ETA: 2s - loss: 0.3722 - accuracy: 0.86 - ETA: 2s - loss: 0.3726 - accuracy: 0.86 - ETA: 2s - loss: 0.3726 - accuracy: 0.86 - ETA: 2s - loss: 0.3726 - accuracy: 0.86 - ETA: 2s - loss: 0.3731 - accuracy: 0.86 - ETA: 2s - loss: 0.3731 - accuracy: 0.86 - ETA: 2s - loss: 0.3733 - accuracy: 0.86 - ETA: 2s - loss: 0.3731 - accuracy: 0.86 - ETA: 2s - loss: 0.3738 - accuracy: 0.86 - ETA: 2s - loss: 0.3747 - accuracy: 0.86 - ETA: 2s - loss: 0.3748 - accuracy: 0.86 - ETA: 2s - loss: 0.3745 - accuracy: 0.86 - ETA: 2s - loss: 0.3743 - accuracy: 0.86 - ETA: 1s - loss: 0.3752 - accuracy: 0.86 - ETA: 1s - loss: 0.3753 - accuracy: 0.86 - ETA: 1s - loss: 0.3757 - accuracy: 0.86 - ETA: 1s - loss: 0.3760 - accuracy: 0.86 - ETA: 1s - loss: 0.3760 - accuracy: 0.86 - ETA: 1s - loss: 0.3767 - accuracy: 0.86 - ETA: 1s - loss: 0.3767 - accuracy: 0.86 - ETA: 1s - loss: 0.3774 - accuracy: 0.86 - ETA: 1s - loss: 0.3776 - accuracy: 0.86 - ETA: 1s - loss: 0.3777 - accuracy: 0.86 - ETA: 1s - loss: 0.3787 - accuracy: 0.86 - ETA: 1s - loss: 0.3785 - accuracy: 0.86 - ETA: 1s - loss: 0.3785 - accuracy: 0.86 - ETA: 1s - loss: 0.3784 - accuracy: 0.86 - ETA: 1s - loss: 0.3786 - accuracy: 0.86 - ETA: 1s - loss: 0.3782 - accuracy: 0.86 - ETA: 1s - loss: 0.3783 - accuracy: 0.86 - ETA: 1s - loss: 0.3791 - accuracy: 0.86 - ETA: 1s - loss: 0.3795 - accuracy: 0.86 - ETA: 0s - loss: 0.3805 - accuracy: 0.86 - ETA: 0s - loss: 0.3807 - accuracy: 0.86 - ETA: 0s - loss: 0.3805 - accuracy: 0.86 - ETA: 0s - loss: 0.3815 - accuracy: 0.86 - ETA: 0s - loss: 0.3819 - accuracy: 0.86 - ETA: 0s - loss: 0.3823 - accuracy: 0.86 - ETA: 0s - loss: 0.3829 - accuracy: 0.86 - ETA: 0s - loss: 0.3831 - accuracy: 0.86 - ETA: 0s - loss: 0.3833 - accuracy: 0.86 - ETA: 0s - loss: 0.3838 - accuracy: 0.86 - ETA: 0s - loss: 0.3836 - accuracy: 0.86 - ETA: 0s - loss: 0.3840 - accuracy: 0.86 - ETA: 0s - loss: 0.3843 - accuracy: 0.86 - ETA: 0s - loss: 0.3845 - accuracy: 0.86 - ETA: 0s - loss: 0.3846 - accuracy: 0.86 - ETA: 0s - loss: 0.3846 - accuracy: 0.86 - ETA: 0s - loss: 0.3849 - accuracy: 0.86 - ETA: 0s - loss: 0.3848 - accuracy: 0.86 - ETA: 0s - loss: 0.3847 - accuracy: 0.86 - ETA: 0s - loss: 0.3848 - accuracy: 0.86 - 6s 3ms/step - loss: 0.3847 - accuracy: 0.8628 - val_loss: 0.4612 - val_accuracy: 0.8471\n",
      "Epoch 7/10\n"
     ]
    },
    {
     "name": "stdout",
     "output_type": "stream",
     "text": [
      "1875/1875 [==============================] - ETA: 0s - loss: 0.2420 - accuracy: 0.90 - ETA: 4s - loss: 0.3329 - accuracy: 0.88 - ETA: 5s - loss: 0.3640 - accuracy: 0.87 - ETA: 5s - loss: 0.3557 - accuracy: 0.86 - ETA: 5s - loss: 0.3620 - accuracy: 0.85 - ETA: 5s - loss: 0.3570 - accuracy: 0.86 - ETA: 5s - loss: 0.3541 - accuracy: 0.86 - ETA: 5s - loss: 0.3568 - accuracy: 0.86 - ETA: 5s - loss: 0.3578 - accuracy: 0.86 - ETA: 5s - loss: 0.3572 - accuracy: 0.86 - ETA: 5s - loss: 0.3583 - accuracy: 0.86 - ETA: 5s - loss: 0.3622 - accuracy: 0.86 - ETA: 4s - loss: 0.3604 - accuracy: 0.86 - ETA: 4s - loss: 0.3596 - accuracy: 0.86 - ETA: 4s - loss: 0.3558 - accuracy: 0.87 - ETA: 4s - loss: 0.3574 - accuracy: 0.86 - ETA: 4s - loss: 0.3611 - accuracy: 0.86 - ETA: 4s - loss: 0.3622 - accuracy: 0.86 - ETA: 4s - loss: 0.3620 - accuracy: 0.86 - ETA: 4s - loss: 0.3611 - accuracy: 0.86 - ETA: 4s - loss: 0.3617 - accuracy: 0.86 - ETA: 4s - loss: 0.3618 - accuracy: 0.86 - ETA: 4s - loss: 0.3638 - accuracy: 0.86 - ETA: 4s - loss: 0.3625 - accuracy: 0.86 - ETA: 4s - loss: 0.3616 - accuracy: 0.86 - ETA: 4s - loss: 0.3630 - accuracy: 0.86 - ETA: 4s - loss: 0.3639 - accuracy: 0.86 - ETA: 4s - loss: 0.3642 - accuracy: 0.86 - ETA: 4s - loss: 0.3613 - accuracy: 0.86 - ETA: 4s - loss: 0.3633 - accuracy: 0.86 - ETA: 4s - loss: 0.3618 - accuracy: 0.86 - ETA: 4s - loss: 0.3619 - accuracy: 0.86 - ETA: 3s - loss: 0.3636 - accuracy: 0.86 - ETA: 3s - loss: 0.3648 - accuracy: 0.86 - ETA: 3s - loss: 0.3663 - accuracy: 0.86 - ETA: 3s - loss: 0.3672 - accuracy: 0.86 - ETA: 3s - loss: 0.3668 - accuracy: 0.86 - ETA: 3s - loss: 0.3670 - accuracy: 0.86 - ETA: 3s - loss: 0.3675 - accuracy: 0.86 - ETA: 3s - loss: 0.3691 - accuracy: 0.86 - ETA: 3s - loss: 0.3688 - accuracy: 0.86 - ETA: 3s - loss: 0.3687 - accuracy: 0.86 - ETA: 3s - loss: 0.3697 - accuracy: 0.86 - ETA: 3s - loss: 0.3689 - accuracy: 0.86 - ETA: 3s - loss: 0.3690 - accuracy: 0.86 - ETA: 3s - loss: 0.3691 - accuracy: 0.86 - ETA: 3s - loss: 0.3688 - accuracy: 0.86 - ETA: 3s - loss: 0.3709 - accuracy: 0.86 - ETA: 3s - loss: 0.3702 - accuracy: 0.86 - ETA: 3s - loss: 0.3700 - accuracy: 0.86 - ETA: 3s - loss: 0.3702 - accuracy: 0.86 - ETA: 3s - loss: 0.3697 - accuracy: 0.86 - ETA: 2s - loss: 0.3699 - accuracy: 0.86 - ETA: 2s - loss: 0.3702 - accuracy: 0.86 - ETA: 2s - loss: 0.3700 - accuracy: 0.86 - ETA: 2s - loss: 0.3706 - accuracy: 0.86 - ETA: 2s - loss: 0.3712 - accuracy: 0.86 - ETA: 2s - loss: 0.3717 - accuracy: 0.86 - ETA: 2s - loss: 0.3719 - accuracy: 0.86 - ETA: 2s - loss: 0.3730 - accuracy: 0.86 - ETA: 2s - loss: 0.3726 - accuracy: 0.86 - ETA: 2s - loss: 0.3740 - accuracy: 0.86 - ETA: 2s - loss: 0.3743 - accuracy: 0.86 - ETA: 2s - loss: 0.3743 - accuracy: 0.86 - ETA: 2s - loss: 0.3746 - accuracy: 0.86 - ETA: 2s - loss: 0.3744 - accuracy: 0.86 - ETA: 2s - loss: 0.3743 - accuracy: 0.86 - ETA: 2s - loss: 0.3753 - accuracy: 0.86 - ETA: 2s - loss: 0.3758 - accuracy: 0.86 - ETA: 2s - loss: 0.3753 - accuracy: 0.86 - ETA: 2s - loss: 0.3754 - accuracy: 0.86 - ETA: 1s - loss: 0.3750 - accuracy: 0.86 - ETA: 1s - loss: 0.3749 - accuracy: 0.86 - ETA: 1s - loss: 0.3742 - accuracy: 0.86 - ETA: 1s - loss: 0.3751 - accuracy: 0.86 - ETA: 1s - loss: 0.3761 - accuracy: 0.86 - ETA: 1s - loss: 0.3766 - accuracy: 0.86 - ETA: 1s - loss: 0.3762 - accuracy: 0.86 - ETA: 1s - loss: 0.3760 - accuracy: 0.86 - ETA: 1s - loss: 0.3760 - accuracy: 0.86 - ETA: 1s - loss: 0.3759 - accuracy: 0.86 - ETA: 1s - loss: 0.3754 - accuracy: 0.86 - ETA: 1s - loss: 0.3757 - accuracy: 0.86 - ETA: 1s - loss: 0.3760 - accuracy: 0.86 - ETA: 1s - loss: 0.3768 - accuracy: 0.86 - ETA: 1s - loss: 0.3770 - accuracy: 0.86 - ETA: 1s - loss: 0.3764 - accuracy: 0.86 - ETA: 1s - loss: 0.3764 - accuracy: 0.86 - ETA: 1s - loss: 0.3772 - accuracy: 0.86 - ETA: 1s - loss: 0.3776 - accuracy: 0.86 - ETA: 0s - loss: 0.3771 - accuracy: 0.86 - ETA: 0s - loss: 0.3772 - accuracy: 0.86 - ETA: 0s - loss: 0.3769 - accuracy: 0.86 - ETA: 0s - loss: 0.3772 - accuracy: 0.86 - ETA: 0s - loss: 0.3775 - accuracy: 0.86 - ETA: 0s - loss: 0.3778 - accuracy: 0.86 - ETA: 0s - loss: 0.3782 - accuracy: 0.86 - ETA: 0s - loss: 0.3777 - accuracy: 0.86 - ETA: 0s - loss: 0.3784 - accuracy: 0.86 - ETA: 0s - loss: 0.3778 - accuracy: 0.86 - ETA: 0s - loss: 0.3782 - accuracy: 0.86 - ETA: 0s - loss: 0.3791 - accuracy: 0.86 - ETA: 0s - loss: 0.3789 - accuracy: 0.86 - ETA: 0s - loss: 0.3793 - accuracy: 0.86 - ETA: 0s - loss: 0.3798 - accuracy: 0.86 - ETA: 0s - loss: 0.3803 - accuracy: 0.86 - ETA: 0s - loss: 0.3807 - accuracy: 0.86 - ETA: 0s - loss: 0.3810 - accuracy: 0.86 - ETA: 0s - loss: 0.3808 - accuracy: 0.86 - 6s 3ms/step - loss: 0.3807 - accuracy: 0.8630 - val_loss: 0.4641 - val_accuracy: 0.8500\n",
      "Epoch 8/10\n"
     ]
    },
    {
     "name": "stdout",
     "output_type": "stream",
     "text": [
      "1875/1875 [==============================] - ETA: 0s - loss: 0.2918 - accuracy: 0.87 - ETA: 6s - loss: 0.3586 - accuracy: 0.87 - ETA: 6s - loss: 0.3705 - accuracy: 0.86 - ETA: 6s - loss: 0.3910 - accuracy: 0.85 - ETA: 6s - loss: 0.3890 - accuracy: 0.85 - ETA: 6s - loss: 0.3755 - accuracy: 0.86 - ETA: 6s - loss: 0.3662 - accuracy: 0.86 - ETA: 5s - loss: 0.3667 - accuracy: 0.86 - ETA: 5s - loss: 0.3611 - accuracy: 0.86 - ETA: 5s - loss: 0.3626 - accuracy: 0.87 - ETA: 5s - loss: 0.3676 - accuracy: 0.87 - ETA: 5s - loss: 0.3636 - accuracy: 0.87 - ETA: 5s - loss: 0.3633 - accuracy: 0.86 - ETA: 5s - loss: 0.3674 - accuracy: 0.86 - ETA: 5s - loss: 0.3697 - accuracy: 0.86 - ETA: 5s - loss: 0.3724 - accuracy: 0.86 - ETA: 5s - loss: 0.3661 - accuracy: 0.87 - ETA: 5s - loss: 0.3663 - accuracy: 0.87 - ETA: 5s - loss: 0.3635 - accuracy: 0.87 - ETA: 5s - loss: 0.3610 - accuracy: 0.87 - ETA: 5s - loss: 0.3623 - accuracy: 0.87 - ETA: 4s - loss: 0.3628 - accuracy: 0.87 - ETA: 4s - loss: 0.3619 - accuracy: 0.87 - ETA: 4s - loss: 0.3646 - accuracy: 0.87 - ETA: 4s - loss: 0.3667 - accuracy: 0.86 - ETA: 4s - loss: 0.3650 - accuracy: 0.86 - ETA: 4s - loss: 0.3658 - accuracy: 0.86 - ETA: 4s - loss: 0.3660 - accuracy: 0.86 - ETA: 4s - loss: 0.3645 - accuracy: 0.87 - ETA: 4s - loss: 0.3630 - accuracy: 0.87 - ETA: 4s - loss: 0.3627 - accuracy: 0.87 - ETA: 4s - loss: 0.3605 - accuracy: 0.87 - ETA: 4s - loss: 0.3597 - accuracy: 0.87 - ETA: 4s - loss: 0.3603 - accuracy: 0.87 - ETA: 4s - loss: 0.3637 - accuracy: 0.86 - ETA: 4s - loss: 0.3636 - accuracy: 0.86 - ETA: 4s - loss: 0.3635 - accuracy: 0.86 - ETA: 4s - loss: 0.3645 - accuracy: 0.86 - ETA: 4s - loss: 0.3642 - accuracy: 0.86 - ETA: 3s - loss: 0.3640 - accuracy: 0.86 - ETA: 3s - loss: 0.3643 - accuracy: 0.86 - ETA: 3s - loss: 0.3635 - accuracy: 0.86 - ETA: 3s - loss: 0.3638 - accuracy: 0.86 - ETA: 3s - loss: 0.3629 - accuracy: 0.86 - ETA: 3s - loss: 0.3618 - accuracy: 0.86 - ETA: 3s - loss: 0.3601 - accuracy: 0.87 - ETA: 3s - loss: 0.3612 - accuracy: 0.87 - ETA: 3s - loss: 0.3602 - accuracy: 0.87 - ETA: 3s - loss: 0.3609 - accuracy: 0.87 - ETA: 3s - loss: 0.3608 - accuracy: 0.87 - ETA: 3s - loss: 0.3599 - accuracy: 0.87 - ETA: 3s - loss: 0.3607 - accuracy: 0.87 - ETA: 3s - loss: 0.3600 - accuracy: 0.87 - ETA: 3s - loss: 0.3604 - accuracy: 0.86 - ETA: 2s - loss: 0.3608 - accuracy: 0.86 - ETA: 2s - loss: 0.3613 - accuracy: 0.86 - ETA: 2s - loss: 0.3595 - accuracy: 0.86 - ETA: 2s - loss: 0.3601 - accuracy: 0.86 - ETA: 2s - loss: 0.3611 - accuracy: 0.86 - ETA: 2s - loss: 0.3622 - accuracy: 0.86 - ETA: 2s - loss: 0.3620 - accuracy: 0.86 - ETA: 2s - loss: 0.3619 - accuracy: 0.86 - ETA: 2s - loss: 0.3619 - accuracy: 0.86 - ETA: 2s - loss: 0.3615 - accuracy: 0.86 - ETA: 2s - loss: 0.3622 - accuracy: 0.86 - ETA: 2s - loss: 0.3619 - accuracy: 0.86 - ETA: 2s - loss: 0.3614 - accuracy: 0.86 - ETA: 2s - loss: 0.3621 - accuracy: 0.86 - ETA: 2s - loss: 0.3626 - accuracy: 0.86 - ETA: 2s - loss: 0.3630 - accuracy: 0.86 - ETA: 1s - loss: 0.3638 - accuracy: 0.86 - ETA: 1s - loss: 0.3646 - accuracy: 0.86 - ETA: 1s - loss: 0.3649 - accuracy: 0.86 - ETA: 1s - loss: 0.3653 - accuracy: 0.86 - ETA: 1s - loss: 0.3652 - accuracy: 0.86 - ETA: 1s - loss: 0.3651 - accuracy: 0.86 - ETA: 1s - loss: 0.3641 - accuracy: 0.86 - ETA: 1s - loss: 0.3639 - accuracy: 0.86 - ETA: 1s - loss: 0.3639 - accuracy: 0.86 - ETA: 1s - loss: 0.3641 - accuracy: 0.86 - ETA: 1s - loss: 0.3651 - accuracy: 0.86 - ETA: 1s - loss: 0.3654 - accuracy: 0.86 - ETA: 1s - loss: 0.3656 - accuracy: 0.86 - ETA: 1s - loss: 0.3656 - accuracy: 0.86 - ETA: 1s - loss: 0.3653 - accuracy: 0.86 - ETA: 1s - loss: 0.3647 - accuracy: 0.86 - ETA: 1s - loss: 0.3654 - accuracy: 0.86 - ETA: 1s - loss: 0.3644 - accuracy: 0.86 - ETA: 1s - loss: 0.3651 - accuracy: 0.86 - ETA: 0s - loss: 0.3646 - accuracy: 0.86 - ETA: 0s - loss: 0.3653 - accuracy: 0.86 - ETA: 0s - loss: 0.3649 - accuracy: 0.86 - ETA: 0s - loss: 0.3651 - accuracy: 0.86 - ETA: 0s - loss: 0.3673 - accuracy: 0.86 - ETA: 0s - loss: 0.3680 - accuracy: 0.86 - ETA: 0s - loss: 0.3676 - accuracy: 0.86 - ETA: 0s - loss: 0.3676 - accuracy: 0.86 - ETA: 0s - loss: 0.3678 - accuracy: 0.86 - ETA: 0s - loss: 0.3677 - accuracy: 0.86 - ETA: 0s - loss: 0.3676 - accuracy: 0.86 - ETA: 0s - loss: 0.3682 - accuracy: 0.86 - ETA: 0s - loss: 0.3690 - accuracy: 0.86 - ETA: 0s - loss: 0.3694 - accuracy: 0.86 - ETA: 0s - loss: 0.3702 - accuracy: 0.86 - ETA: 0s - loss: 0.3702 - accuracy: 0.86 - ETA: 0s - loss: 0.3703 - accuracy: 0.86 - ETA: 0s - loss: 0.3703 - accuracy: 0.86 - ETA: 0s - loss: 0.3696 - accuracy: 0.86 - 6s 3ms/step - loss: 0.3694 - accuracy: 0.8679 - val_loss: 0.4450 - val_accuracy: 0.8497\n",
      "Epoch 9/10\n"
     ]
    },
    {
     "name": "stdout",
     "output_type": "stream",
     "text": [
      "1875/1875 [==============================] - ETA: 0s - loss: 0.4473 - accuracy: 0.87 - ETA: 5s - loss: 0.3178 - accuracy: 0.87 - ETA: 5s - loss: 0.3190 - accuracy: 0.88 - ETA: 5s - loss: 0.3144 - accuracy: 0.88 - ETA: 5s - loss: 0.3268 - accuracy: 0.88 - ETA: 5s - loss: 0.3236 - accuracy: 0.88 - ETA: 5s - loss: 0.3238 - accuracy: 0.88 - ETA: 5s - loss: 0.3322 - accuracy: 0.87 - ETA: 5s - loss: 0.3360 - accuracy: 0.87 - ETA: 5s - loss: 0.3422 - accuracy: 0.87 - ETA: 5s - loss: 0.3489 - accuracy: 0.87 - ETA: 5s - loss: 0.3497 - accuracy: 0.87 - ETA: 4s - loss: 0.3510 - accuracy: 0.87 - ETA: 4s - loss: 0.3504 - accuracy: 0.87 - ETA: 4s - loss: 0.3576 - accuracy: 0.87 - ETA: 4s - loss: 0.3580 - accuracy: 0.86 - ETA: 4s - loss: 0.3591 - accuracy: 0.86 - ETA: 4s - loss: 0.3592 - accuracy: 0.86 - ETA: 4s - loss: 0.3578 - accuracy: 0.86 - ETA: 4s - loss: 0.3603 - accuracy: 0.86 - ETA: 4s - loss: 0.3631 - accuracy: 0.86 - ETA: 4s - loss: 0.3643 - accuracy: 0.86 - ETA: 4s - loss: 0.3650 - accuracy: 0.86 - ETA: 4s - loss: 0.3662 - accuracy: 0.86 - ETA: 4s - loss: 0.3659 - accuracy: 0.86 - ETA: 4s - loss: 0.3654 - accuracy: 0.86 - ETA: 4s - loss: 0.3656 - accuracy: 0.86 - ETA: 4s - loss: 0.3666 - accuracy: 0.86 - ETA: 4s - loss: 0.3680 - accuracy: 0.86 - ETA: 4s - loss: 0.3659 - accuracy: 0.86 - ETA: 4s - loss: 0.3658 - accuracy: 0.86 - ETA: 4s - loss: 0.3638 - accuracy: 0.86 - ETA: 4s - loss: 0.3634 - accuracy: 0.86 - ETA: 4s - loss: 0.3643 - accuracy: 0.86 - ETA: 4s - loss: 0.3639 - accuracy: 0.86 - ETA: 4s - loss: 0.3639 - accuracy: 0.86 - ETA: 3s - loss: 0.3647 - accuracy: 0.86 - ETA: 3s - loss: 0.3654 - accuracy: 0.86 - ETA: 3s - loss: 0.3675 - accuracy: 0.86 - ETA: 3s - loss: 0.3681 - accuracy: 0.86 - ETA: 3s - loss: 0.3673 - accuracy: 0.86 - ETA: 3s - loss: 0.3677 - accuracy: 0.86 - ETA: 3s - loss: 0.3678 - accuracy: 0.86 - ETA: 3s - loss: 0.3673 - accuracy: 0.86 - ETA: 3s - loss: 0.3677 - accuracy: 0.86 - ETA: 3s - loss: 0.3666 - accuracy: 0.86 - ETA: 3s - loss: 0.3660 - accuracy: 0.86 - ETA: 3s - loss: 0.3667 - accuracy: 0.86 - ETA: 3s - loss: 0.3664 - accuracy: 0.86 - ETA: 3s - loss: 0.3669 - accuracy: 0.86 - ETA: 3s - loss: 0.3679 - accuracy: 0.86 - ETA: 3s - loss: 0.3679 - accuracy: 0.86 - ETA: 3s - loss: 0.3668 - accuracy: 0.86 - ETA: 3s - loss: 0.3667 - accuracy: 0.86 - ETA: 3s - loss: 0.3654 - accuracy: 0.86 - ETA: 3s - loss: 0.3663 - accuracy: 0.86 - ETA: 3s - loss: 0.3660 - accuracy: 0.86 - ETA: 3s - loss: 0.3655 - accuracy: 0.86 - ETA: 3s - loss: 0.3655 - accuracy: 0.86 - ETA: 3s - loss: 0.3649 - accuracy: 0.86 - ETA: 3s - loss: 0.3655 - accuracy: 0.86 - ETA: 3s - loss: 0.3656 - accuracy: 0.86 - ETA: 3s - loss: 0.3651 - accuracy: 0.86 - ETA: 3s - loss: 0.3645 - accuracy: 0.86 - ETA: 3s - loss: 0.3642 - accuracy: 0.86 - ETA: 3s - loss: 0.3642 - accuracy: 0.86 - ETA: 3s - loss: 0.3638 - accuracy: 0.86 - ETA: 3s - loss: 0.3644 - accuracy: 0.86 - ETA: 3s - loss: 0.3651 - accuracy: 0.86 - ETA: 3s - loss: 0.3658 - accuracy: 0.86 - ETA: 3s - loss: 0.3666 - accuracy: 0.86 - ETA: 3s - loss: 0.3659 - accuracy: 0.86 - ETA: 3s - loss: 0.3659 - accuracy: 0.86 - ETA: 3s - loss: 0.3668 - accuracy: 0.86 - ETA: 3s - loss: 0.3671 - accuracy: 0.86 - ETA: 3s - loss: 0.3680 - accuracy: 0.86 - ETA: 3s - loss: 0.3686 - accuracy: 0.86 - ETA: 2s - loss: 0.3684 - accuracy: 0.86 - ETA: 2s - loss: 0.3677 - accuracy: 0.86 - ETA: 2s - loss: 0.3671 - accuracy: 0.86 - ETA: 2s - loss: 0.3664 - accuracy: 0.86 - ETA: 2s - loss: 0.3670 - accuracy: 0.86 - ETA: 2s - loss: 0.3673 - accuracy: 0.86 - ETA: 2s - loss: 0.3678 - accuracy: 0.86 - ETA: 2s - loss: 0.3693 - accuracy: 0.86 - ETA: 2s - loss: 0.3696 - accuracy: 0.86 - ETA: 2s - loss: 0.3698 - accuracy: 0.86 - ETA: 2s - loss: 0.3695 - accuracy: 0.86 - ETA: 2s - loss: 0.3688 - accuracy: 0.86 - ETA: 2s - loss: 0.3689 - accuracy: 0.86 - ETA: 2s - loss: 0.3691 - accuracy: 0.86 - ETA: 2s - loss: 0.3698 - accuracy: 0.86 - ETA: 2s - loss: 0.3693 - accuracy: 0.86 - ETA: 2s - loss: 0.3694 - accuracy: 0.86 - ETA: 2s - loss: 0.3684 - accuracy: 0.86 - ETA: 2s - loss: 0.3690 - accuracy: 0.86 - ETA: 2s - loss: 0.3690 - accuracy: 0.86 - ETA: 2s - loss: 0.3684 - accuracy: 0.86 - ETA: 1s - loss: 0.3693 - accuracy: 0.86 - ETA: 1s - loss: 0.3688 - accuracy: 0.86 - ETA: 1s - loss: 0.3680 - accuracy: 0.86 - ETA: 1s - loss: 0.3678 - accuracy: 0.86 - ETA: 1s - loss: 0.3680 - accuracy: 0.86 - ETA: 1s - loss: 0.3674 - accuracy: 0.86 - ETA: 1s - loss: 0.3678 - accuracy: 0.86 - ETA: 1s - loss: 0.3673 - accuracy: 0.86 - ETA: 1s - loss: 0.3674 - accuracy: 0.86 - ETA: 1s - loss: 0.3675 - accuracy: 0.86 - ETA: 1s - loss: 0.3670 - accuracy: 0.86 - ETA: 1s - loss: 0.3666 - accuracy: 0.86 - ETA: 1s - loss: 0.3665 - accuracy: 0.86 - ETA: 1s - loss: 0.3670 - accuracy: 0.86 - ETA: 1s - loss: 0.3670 - accuracy: 0.86 - ETA: 1s - loss: 0.3676 - accuracy: 0.86 - ETA: 1s - loss: 0.3672 - accuracy: 0.86 - ETA: 1s - loss: 0.3683 - accuracy: 0.86 - ETA: 1s - loss: 0.3679 - accuracy: 0.86 - ETA: 1s - loss: 0.3682 - accuracy: 0.86 - ETA: 1s - loss: 0.3682 - accuracy: 0.86 - ETA: 1s - loss: 0.3680 - accuracy: 0.86 - ETA: 0s - loss: 0.3680 - accuracy: 0.86 - ETA: 0s - loss: 0.3685 - accuracy: 0.86 - ETA: 0s - loss: 0.3686 - accuracy: 0.86 - ETA: 0s - loss: 0.3687 - accuracy: 0.86 - ETA: 0s - loss: 0.3685 - accuracy: 0.86 - ETA: 0s - loss: 0.3684 - accuracy: 0.86 - ETA: 0s - loss: 0.3683 - accuracy: 0.86 - ETA: 0s - loss: 0.3681 - accuracy: 0.86 - ETA: 0s - loss: 0.3680 - accuracy: 0.86 - ETA: 0s - loss: 0.3686 - accuracy: 0.86 - ETA: 0s - loss: 0.3686 - accuracy: 0.86 - ETA: 0s - loss: 0.3684 - accuracy: 0.86 - ETA: 0s - loss: 0.3688 - accuracy: 0.86 - ETA: 0s - loss: 0.3689 - accuracy: 0.86 - ETA: 0s - loss: 0.3690 - accuracy: 0.86 - ETA: 0s - loss: 0.3684 - accuracy: 0.86 - ETA: 0s - loss: 0.3687 - accuracy: 0.86 - ETA: 0s - loss: 0.3685 - accuracy: 0.86 - ETA: 0s - loss: 0.3686 - accuracy: 0.86 - ETA: 0s - loss: 0.3687 - accuracy: 0.86 - ETA: 0s - loss: 0.3691 - accuracy: 0.86 - ETA: 0s - loss: 0.3690 - accuracy: 0.86 - ETA: 0s - loss: 0.3690 - accuracy: 0.86 - ETA: 0s - loss: 0.3687 - accuracy: 0.86 - ETA: 0s - loss: 0.3686 - accuracy: 0.86 - ETA: 0s - loss: 0.3683 - accuracy: 0.86 - ETA: 0s - loss: 0.3680 - accuracy: 0.86 - 8s 4ms/step - loss: 0.3679 - accuracy: 0.8679 - val_loss: 0.4527 - val_accuracy: 0.8509\n",
      "Epoch 10/10\n"
     ]
    },
    {
     "name": "stdout",
     "output_type": "stream",
     "text": [
      "1875/1875 [==============================] - ETA: 1s - loss: 0.2155 - accuracy: 0.87 - ETA: 9s - loss: 0.3327 - accuracy: 0.87 - ETA: 10s - loss: 0.4164 - accuracy: 0.847 - ETA: 10s - loss: 0.3845 - accuracy: 0.853 - ETA: 10s - loss: 0.3802 - accuracy: 0.857 - ETA: 10s - loss: 0.3761 - accuracy: 0.860 - ETA: 10s - loss: 0.3618 - accuracy: 0.864 - ETA: 9s - loss: 0.3803 - accuracy: 0.859 - ETA: 9s - loss: 0.3874 - accuracy: 0.85 - ETA: 9s - loss: 0.3820 - accuracy: 0.85 - ETA: 9s - loss: 0.3910 - accuracy: 0.85 - ETA: 9s - loss: 0.3893 - accuracy: 0.86 - ETA: 9s - loss: 0.3888 - accuracy: 0.86 - ETA: 9s - loss: 0.3924 - accuracy: 0.85 - ETA: 9s - loss: 0.3850 - accuracy: 0.86 - ETA: 9s - loss: 0.3840 - accuracy: 0.86 - ETA: 9s - loss: 0.3819 - accuracy: 0.86 - ETA: 9s - loss: 0.3815 - accuracy: 0.86 - ETA: 8s - loss: 0.3818 - accuracy: 0.85 - ETA: 8s - loss: 0.3780 - accuracy: 0.86 - ETA: 8s - loss: 0.3769 - accuracy: 0.86 - ETA: 8s - loss: 0.3743 - accuracy: 0.86 - ETA: 8s - loss: 0.3754 - accuracy: 0.86 - ETA: 8s - loss: 0.3727 - accuracy: 0.86 - ETA: 8s - loss: 0.3700 - accuracy: 0.86 - ETA: 8s - loss: 0.3690 - accuracy: 0.86 - ETA: 8s - loss: 0.3649 - accuracy: 0.86 - ETA: 8s - loss: 0.3667 - accuracy: 0.86 - ETA: 8s - loss: 0.3706 - accuracy: 0.86 - ETA: 7s - loss: 0.3706 - accuracy: 0.86 - ETA: 7s - loss: 0.3694 - accuracy: 0.86 - ETA: 7s - loss: 0.3674 - accuracy: 0.86 - ETA: 7s - loss: 0.3675 - accuracy: 0.86 - ETA: 7s - loss: 0.3667 - accuracy: 0.86 - ETA: 7s - loss: 0.3669 - accuracy: 0.86 - ETA: 7s - loss: 0.3669 - accuracy: 0.86 - ETA: 7s - loss: 0.3677 - accuracy: 0.86 - ETA: 7s - loss: 0.3697 - accuracy: 0.86 - ETA: 7s - loss: 0.3678 - accuracy: 0.86 - ETA: 7s - loss: 0.3662 - accuracy: 0.86 - ETA: 6s - loss: 0.3661 - accuracy: 0.86 - ETA: 6s - loss: 0.3651 - accuracy: 0.86 - ETA: 6s - loss: 0.3654 - accuracy: 0.86 - ETA: 6s - loss: 0.3655 - accuracy: 0.86 - ETA: 6s - loss: 0.3640 - accuracy: 0.86 - ETA: 6s - loss: 0.3615 - accuracy: 0.86 - ETA: 6s - loss: 0.3620 - accuracy: 0.86 - ETA: 6s - loss: 0.3614 - accuracy: 0.86 - ETA: 6s - loss: 0.3611 - accuracy: 0.86 - ETA: 6s - loss: 0.3589 - accuracy: 0.86 - ETA: 6s - loss: 0.3582 - accuracy: 0.87 - ETA: 5s - loss: 0.3576 - accuracy: 0.86 - ETA: 5s - loss: 0.3567 - accuracy: 0.87 - ETA: 5s - loss: 0.3569 - accuracy: 0.87 - ETA: 5s - loss: 0.3579 - accuracy: 0.86 - ETA: 5s - loss: 0.3586 - accuracy: 0.86 - ETA: 5s - loss: 0.3581 - accuracy: 0.86 - ETA: 5s - loss: 0.3576 - accuracy: 0.87 - ETA: 5s - loss: 0.3593 - accuracy: 0.86 - ETA: 5s - loss: 0.3599 - accuracy: 0.86 - ETA: 5s - loss: 0.3609 - accuracy: 0.86 - ETA: 5s - loss: 0.3610 - accuracy: 0.86 - ETA: 5s - loss: 0.3616 - accuracy: 0.86 - ETA: 4s - loss: 0.3610 - accuracy: 0.86 - ETA: 4s - loss: 0.3606 - accuracy: 0.87 - ETA: 4s - loss: 0.3613 - accuracy: 0.87 - ETA: 4s - loss: 0.3601 - accuracy: 0.87 - ETA: 4s - loss: 0.3599 - accuracy: 0.87 - ETA: 4s - loss: 0.3600 - accuracy: 0.87 - ETA: 4s - loss: 0.3600 - accuracy: 0.87 - ETA: 4s - loss: 0.3604 - accuracy: 0.87 - ETA: 4s - loss: 0.3598 - accuracy: 0.87 - ETA: 4s - loss: 0.3605 - accuracy: 0.87 - ETA: 4s - loss: 0.3601 - accuracy: 0.87 - ETA: 4s - loss: 0.3609 - accuracy: 0.87 - ETA: 4s - loss: 0.3607 - accuracy: 0.87 - ETA: 4s - loss: 0.3628 - accuracy: 0.86 - ETA: 4s - loss: 0.3637 - accuracy: 0.86 - ETA: 4s - loss: 0.3626 - accuracy: 0.87 - ETA: 3s - loss: 0.3620 - accuracy: 0.87 - ETA: 3s - loss: 0.3624 - accuracy: 0.87 - ETA: 3s - loss: 0.3630 - accuracy: 0.87 - ETA: 3s - loss: 0.3635 - accuracy: 0.87 - ETA: 3s - loss: 0.3641 - accuracy: 0.87 - ETA: 3s - loss: 0.3639 - accuracy: 0.87 - ETA: 3s - loss: 0.3630 - accuracy: 0.87 - ETA: 3s - loss: 0.3641 - accuracy: 0.87 - ETA: 3s - loss: 0.3638 - accuracy: 0.86 - ETA: 3s - loss: 0.3644 - accuracy: 0.86 - ETA: 3s - loss: 0.3639 - accuracy: 0.86 - ETA: 3s - loss: 0.3636 - accuracy: 0.86 - ETA: 3s - loss: 0.3636 - accuracy: 0.86 - ETA: 2s - loss: 0.3639 - accuracy: 0.86 - ETA: 2s - loss: 0.3645 - accuracy: 0.86 - ETA: 2s - loss: 0.3652 - accuracy: 0.86 - ETA: 2s - loss: 0.3650 - accuracy: 0.86 - ETA: 2s - loss: 0.3647 - accuracy: 0.86 - ETA: 2s - loss: 0.3642 - accuracy: 0.86 - ETA: 2s - loss: 0.3646 - accuracy: 0.86 - ETA: 2s - loss: 0.3642 - accuracy: 0.86 - ETA: 2s - loss: 0.3646 - accuracy: 0.86 - ETA: 2s - loss: 0.3647 - accuracy: 0.86 - ETA: 2s - loss: 0.3648 - accuracy: 0.86 - ETA: 2s - loss: 0.3639 - accuracy: 0.86 - ETA: 2s - loss: 0.3631 - accuracy: 0.86 - ETA: 2s - loss: 0.3631 - accuracy: 0.87 - ETA: 2s - loss: 0.3634 - accuracy: 0.87 - ETA: 1s - loss: 0.3630 - accuracy: 0.87 - ETA: 1s - loss: 0.3632 - accuracy: 0.87 - ETA: 1s - loss: 0.3635 - accuracy: 0.87 - ETA: 1s - loss: 0.3642 - accuracy: 0.86 - ETA: 1s - loss: 0.3646 - accuracy: 0.86 - ETA: 1s - loss: 0.3657 - accuracy: 0.86 - ETA: 1s - loss: 0.3654 - accuracy: 0.86 - ETA: 1s - loss: 0.3652 - accuracy: 0.86 - ETA: 1s - loss: 0.3650 - accuracy: 0.86 - ETA: 1s - loss: 0.3646 - accuracy: 0.86 - ETA: 1s - loss: 0.3648 - accuracy: 0.86 - ETA: 1s - loss: 0.3647 - accuracy: 0.86 - ETA: 1s - loss: 0.3643 - accuracy: 0.86 - ETA: 1s - loss: 0.3635 - accuracy: 0.87 - ETA: 1s - loss: 0.3641 - accuracy: 0.86 - ETA: 1s - loss: 0.3645 - accuracy: 0.86 - ETA: 0s - loss: 0.3642 - accuracy: 0.86 - ETA: 0s - loss: 0.3643 - accuracy: 0.86 - ETA: 0s - loss: 0.3641 - accuracy: 0.87 - ETA: 0s - loss: 0.3644 - accuracy: 0.86 - ETA: 0s - loss: 0.3648 - accuracy: 0.86 - ETA: 0s - loss: 0.3647 - accuracy: 0.86 - ETA: 0s - loss: 0.3648 - accuracy: 0.86 - ETA: 0s - loss: 0.3647 - accuracy: 0.86 - ETA: 0s - loss: 0.3652 - accuracy: 0.86 - ETA: 0s - loss: 0.3654 - accuracy: 0.86 - ETA: 0s - loss: 0.3656 - accuracy: 0.86 - ETA: 0s - loss: 0.3658 - accuracy: 0.86 - ETA: 0s - loss: 0.3658 - accuracy: 0.86 - ETA: 0s - loss: 0.3661 - accuracy: 0.86 - ETA: 0s - loss: 0.3660 - accuracy: 0.86 - ETA: 0s - loss: 0.3655 - accuracy: 0.86 - 8s 4ms/step - loss: 0.3654 - accuracy: 0.8691 - val_loss: 0.4281 - val_accuracy: 0.8604\n"
     ]
    },
    {
     "data": {
      "text/html": [
       "<span style=\"color:#4527A0\"><h1 style=\"font-size:18px\">Trial complete</h1></span>"
      ],
      "text/plain": [
       "<IPython.core.display.HTML object>"
      ]
     },
     "metadata": {},
     "output_type": "display_data"
    },
    {
     "data": {
      "text/html": [
       "<span style=\"color:#4527A0\"><h1 style=\"font-size:18px\">Trial summary</h1></span>"
      ],
      "text/plain": [
       "<IPython.core.display.HTML object>"
      ]
     },
     "metadata": {},
     "output_type": "display_data"
    },
    {
     "data": {
      "text/html": [
       "<span style=\"color:cyan\"> |-Trial ID: 8286af58c89bc0129bf822a3cc2aaf63</span>"
      ],
      "text/plain": [
       "<IPython.core.display.HTML object>"
      ]
     },
     "metadata": {},
     "output_type": "display_data"
    },
    {
     "data": {
      "text/html": [
       "<span style=\"color:cyan\"> |-Score: 0.8604000210762024</span>"
      ],
      "text/plain": [
       "<IPython.core.display.HTML object>"
      ]
     },
     "metadata": {},
     "output_type": "display_data"
    },
    {
     "data": {
      "text/html": [
       "<span style=\"color:cyan\"> |-Best step: 0</span>"
      ],
      "text/plain": [
       "<IPython.core.display.HTML object>"
      ]
     },
     "metadata": {},
     "output_type": "display_data"
    },
    {
     "data": {
      "text/html": [
       "<span style=\"color:#7E57C2\"><h2 style=\"font-size:16px\">Hyperparameters:</h2></span>"
      ],
      "text/plain": [
       "<IPython.core.display.HTML object>"
      ]
     },
     "metadata": {},
     "output_type": "display_data"
    },
    {
     "data": {
      "text/html": [
       "<span style=\"color:cyan\"> |-learning_rate: 0.01</span>"
      ],
      "text/plain": [
       "<IPython.core.display.HTML object>"
      ]
     },
     "metadata": {},
     "output_type": "display_data"
    },
    {
     "data": {
      "text/html": [
       "<span style=\"color:blue\"> |-tuner/bracket: 0</span>"
      ],
      "text/plain": [
       "<IPython.core.display.HTML object>"
      ]
     },
     "metadata": {},
     "output_type": "display_data"
    },
    {
     "data": {
      "text/html": [
       "<span style=\"color:cyan\"> |-tuner/epochs: 10</span>"
      ],
      "text/plain": [
       "<IPython.core.display.HTML object>"
      ]
     },
     "metadata": {},
     "output_type": "display_data"
    },
    {
     "data": {
      "text/html": [
       "<span style=\"color:blue\"> |-tuner/initial_epoch: 0</span>"
      ],
      "text/plain": [
       "<IPython.core.display.HTML object>"
      ]
     },
     "metadata": {},
     "output_type": "display_data"
    },
    {
     "data": {
      "text/html": [
       "<span style=\"color:cyan\"> |-tuner/round: 0</span>"
      ],
      "text/plain": [
       "<IPython.core.display.HTML object>"
      ]
     },
     "metadata": {},
     "output_type": "display_data"
    },
    {
     "data": {
      "text/html": [
       "<span style=\"color:blue\"> |-units: 416</span>"
      ],
      "text/plain": [
       "<IPython.core.display.HTML object>"
      ]
     },
     "metadata": {},
     "output_type": "display_data"
    },
    {
     "name": "stdout",
     "output_type": "stream",
     "text": [
      "Epoch 1/10\n",
      "   2/1875 [..............................] - ETA: 0s - loss: 2.5985 - accuracy: 0.09 - ETA: 7:58 - loss: 2.4863 - accuracy: 0.0781WARNING:tensorflow:Method (on_train_batch_end) is slow compared to the batch update (0.259662). Check your callbacks.\n",
      "1875/1875 [==============================] - ETA: 45s - loss: 2.1045 - accuracy: 0.2405 - ETA: 24s - loss: 1.8727 - accuracy: 0.384 - ETA: 18s - loss: 1.7118 - accuracy: 0.474 - ETA: 14s - loss: 1.5664 - accuracy: 0.533 - ETA: 12s - loss: 1.4666 - accuracy: 0.566 - ETA: 11s - loss: 1.3821 - accuracy: 0.593 - ETA: 9s - loss: 1.3144 - accuracy: 0.609 - ETA: 9s - loss: 1.2632 - accuracy: 0.62 - ETA: 8s - loss: 1.2092 - accuracy: 0.63 - ETA: 7s - loss: 1.1656 - accuracy: 0.65 - ETA: 7s - loss: 1.1270 - accuracy: 0.66 - ETA: 6s - loss: 1.0892 - accuracy: 0.67 - ETA: 6s - loss: 1.0577 - accuracy: 0.68 - ETA: 6s - loss: 1.0309 - accuracy: 0.68 - ETA: 5s - loss: 1.0010 - accuracy: 0.69 - ETA: 5s - loss: 0.9794 - accuracy: 0.70 - ETA: 5s - loss: 0.9585 - accuracy: 0.70 - ETA: 4s - loss: 0.9429 - accuracy: 0.70 - ETA: 4s - loss: 0.9265 - accuracy: 0.71 - ETA: 4s - loss: 0.9068 - accuracy: 0.71 - ETA: 4s - loss: 0.8924 - accuracy: 0.72 - ETA: 4s - loss: 0.8780 - accuracy: 0.72 - ETA: 3s - loss: 0.8644 - accuracy: 0.73 - ETA: 3s - loss: 0.8539 - accuracy: 0.73 - ETA: 3s - loss: 0.8420 - accuracy: 0.73 - ETA: 3s - loss: 0.8329 - accuracy: 0.74 - ETA: 3s - loss: 0.8235 - accuracy: 0.74 - ETA: 3s - loss: 0.8160 - accuracy: 0.74 - ETA: 3s - loss: 0.8075 - accuracy: 0.74 - ETA: 3s - loss: 0.7988 - accuracy: 0.75 - ETA: 3s - loss: 0.7911 - accuracy: 0.75 - ETA: 2s - loss: 0.7848 - accuracy: 0.75 - ETA: 2s - loss: 0.7781 - accuracy: 0.75 - ETA: 2s - loss: 0.7710 - accuracy: 0.75 - ETA: 2s - loss: 0.7635 - accuracy: 0.75 - ETA: 2s - loss: 0.7596 - accuracy: 0.76 - ETA: 2s - loss: 0.7549 - accuracy: 0.76 - ETA: 2s - loss: 0.7490 - accuracy: 0.76 - ETA: 2s - loss: 0.7440 - accuracy: 0.76 - ETA: 2s - loss: 0.7394 - accuracy: 0.76 - ETA: 2s - loss: 0.7347 - accuracy: 0.76 - ETA: 2s - loss: 0.7314 - accuracy: 0.76 - ETA: 2s - loss: 0.7261 - accuracy: 0.77 - ETA: 2s - loss: 0.7226 - accuracy: 0.77 - ETA: 2s - loss: 0.7169 - accuracy: 0.77 - ETA: 1s - loss: 0.7132 - accuracy: 0.77 - ETA: 1s - loss: 0.7087 - accuracy: 0.77 - ETA: 1s - loss: 0.7050 - accuracy: 0.77 - ETA: 1s - loss: 0.7031 - accuracy: 0.77 - ETA: 1s - loss: 0.6995 - accuracy: 0.77 - ETA: 1s - loss: 0.6966 - accuracy: 0.77 - ETA: 1s - loss: 0.6937 - accuracy: 0.77 - ETA: 1s - loss: 0.6906 - accuracy: 0.77 - ETA: 1s - loss: 0.6884 - accuracy: 0.78 - ETA: 1s - loss: 0.6852 - accuracy: 0.78 - ETA: 1s - loss: 0.6822 - accuracy: 0.78 - ETA: 1s - loss: 0.6794 - accuracy: 0.78 - ETA: 1s - loss: 0.6767 - accuracy: 0.78 - ETA: 1s - loss: 0.6749 - accuracy: 0.78 - ETA: 1s - loss: 0.6729 - accuracy: 0.78 - ETA: 1s - loss: 0.6696 - accuracy: 0.78 - ETA: 1s - loss: 0.6678 - accuracy: 0.78 - ETA: 1s - loss: 0.6655 - accuracy: 0.78 - ETA: 1s - loss: 0.6633 - accuracy: 0.78 - ETA: 1s - loss: 0.6609 - accuracy: 0.78 - ETA: 0s - loss: 0.6582 - accuracy: 0.78 - ETA: 0s - loss: 0.6555 - accuracy: 0.78 - ETA: 0s - loss: 0.6537 - accuracy: 0.78 - ETA: 0s - loss: 0.6512 - accuracy: 0.79 - ETA: 0s - loss: 0.6499 - accuracy: 0.79 - ETA: 0s - loss: 0.6481 - accuracy: 0.79 - ETA: 0s - loss: 0.6466 - accuracy: 0.79 - ETA: 0s - loss: 0.6458 - accuracy: 0.79 - ETA: 0s - loss: 0.6441 - accuracy: 0.79 - ETA: 0s - loss: 0.6422 - accuracy: 0.79 - ETA: 0s - loss: 0.6407 - accuracy: 0.79 - ETA: 0s - loss: 0.6391 - accuracy: 0.79 - ETA: 0s - loss: 0.6379 - accuracy: 0.79 - ETA: 0s - loss: 0.6358 - accuracy: 0.79 - ETA: 0s - loss: 0.6343 - accuracy: 0.79 - ETA: 0s - loss: 0.6320 - accuracy: 0.79 - ETA: 0s - loss: 0.6302 - accuracy: 0.79 - ETA: 0s - loss: 0.6280 - accuracy: 0.79 - ETA: 0s - loss: 0.6261 - accuracy: 0.79 - ETA: 0s - loss: 0.6247 - accuracy: 0.79 - ETA: 0s - loss: 0.6233 - accuracy: 0.79 - ETA: 0s - loss: 0.6223 - accuracy: 0.79 - 6s 3ms/step - loss: 0.6219 - accuracy: 0.7986 - val_loss: 0.5238 - val_accuracy: 0.8125\n",
      "Epoch 2/10\n",
      "1875/1875 [==============================] - ETA: 0s - loss: 0.4072 - accuracy: 0.81 - ETA: 6s - loss: 0.4506 - accuracy: 0.82 - ETA: 6s - loss: 0.4623 - accuracy: 0.82 - ETA: 6s - loss: 0.4552 - accuracy: 0.83 - ETA: 6s - loss: 0.4603 - accuracy: 0.83 - ETA: 6s - loss: 0.4595 - accuracy: 0.83 - ETA: 6s - loss: 0.4567 - accuracy: 0.83 - ETA: 6s - loss: 0.4520 - accuracy: 0.84 - ETA: 5s - loss: 0.4496 - accuracy: 0.84 - ETA: 5s - loss: 0.4484 - accuracy: 0.84 - ETA: 5s - loss: 0.4485 - accuracy: 0.84 - ETA: 5s - loss: 0.4552 - accuracy: 0.84 - ETA: 5s - loss: 0.4544 - accuracy: 0.84 - ETA: 5s - loss: 0.4555 - accuracy: 0.84 - ETA: 5s - loss: 0.4534 - accuracy: 0.84 - ETA: 6s - loss: 0.4519 - accuracy: 0.84 - ETA: 6s - loss: 0.4522 - accuracy: 0.84 - ETA: 6s - loss: 0.4539 - accuracy: 0.84 - ETA: 6s - loss: 0.4563 - accuracy: 0.84 - ETA: 6s - loss: 0.4587 - accuracy: 0.84 - ETA: 5s - loss: 0.4588 - accuracy: 0.84 - ETA: 5s - loss: 0.4584 - accuracy: 0.84 - ETA: 5s - loss: 0.4555 - accuracy: 0.84 - ETA: 5s - loss: 0.4548 - accuracy: 0.84 - ETA: 5s - loss: 0.4538 - accuracy: 0.84 - ETA: 5s - loss: 0.4559 - accuracy: 0.84 - ETA: 5s - loss: 0.4550 - accuracy: 0.84 - ETA: 5s - loss: 0.4550 - accuracy: 0.84 - ETA: 5s - loss: 0.4532 - accuracy: 0.84 - ETA: 5s - loss: 0.4527 - accuracy: 0.84 - ETA: 5s - loss: 0.4520 - accuracy: 0.84 - ETA: 5s - loss: 0.4504 - accuracy: 0.84 - ETA: 5s - loss: 0.4514 - accuracy: 0.84 - ETA: 4s - loss: 0.4511 - accuracy: 0.84 - ETA: 4s - loss: 0.4511 - accuracy: 0.84 - ETA: 4s - loss: 0.4489 - accuracy: 0.84 - ETA: 4s - loss: 0.4485 - accuracy: 0.84 - ETA: 4s - loss: 0.4502 - accuracy: 0.84 - ETA: 4s - loss: 0.4487 - accuracy: 0.84 - ETA: 4s - loss: 0.4482 - accuracy: 0.84 - ETA: 4s - loss: 0.4471 - accuracy: 0.84 - ETA: 3s - loss: 0.4463 - accuracy: 0.84 - ETA: 3s - loss: 0.4468 - accuracy: 0.84 - ETA: 3s - loss: 0.4460 - accuracy: 0.84 - ETA: 3s - loss: 0.4452 - accuracy: 0.84 - ETA: 3s - loss: 0.4450 - accuracy: 0.84 - ETA: 3s - loss: 0.4459 - accuracy: 0.84 - ETA: 3s - loss: 0.4433 - accuracy: 0.84 - ETA: 3s - loss: 0.4447 - accuracy: 0.84 - ETA: 3s - loss: 0.4454 - accuracy: 0.84 - ETA: 2s - loss: 0.4450 - accuracy: 0.84 - ETA: 2s - loss: 0.4450 - accuracy: 0.84 - ETA: 2s - loss: 0.4448 - accuracy: 0.84 - ETA: 2s - loss: 0.4437 - accuracy: 0.84 - ETA: 2s - loss: 0.4448 - accuracy: 0.84 - ETA: 2s - loss: 0.4447 - accuracy: 0.84 - ETA: 2s - loss: 0.4441 - accuracy: 0.84 - ETA: 2s - loss: 0.4434 - accuracy: 0.84 - ETA: 2s - loss: 0.4428 - accuracy: 0.84 - ETA: 1s - loss: 0.4422 - accuracy: 0.84 - ETA: 1s - loss: 0.4429 - accuracy: 0.84 - ETA: 1s - loss: 0.4442 - accuracy: 0.84 - ETA: 1s - loss: 0.4445 - accuracy: 0.84 - ETA: 1s - loss: 0.4434 - accuracy: 0.84 - ETA: 1s - loss: 0.4439 - accuracy: 0.84 - ETA: 1s - loss: 0.4436 - accuracy: 0.84 - ETA: 1s - loss: 0.4438 - accuracy: 0.84 - ETA: 1s - loss: 0.4432 - accuracy: 0.84 - ETA: 1s - loss: 0.4425 - accuracy: 0.84 - ETA: 1s - loss: 0.4422 - accuracy: 0.84 - ETA: 1s - loss: 0.4419 - accuracy: 0.84 - ETA: 1s - loss: 0.4418 - accuracy: 0.84 - ETA: 1s - loss: 0.4416 - accuracy: 0.84 - ETA: 0s - loss: 0.4407 - accuracy: 0.84 - ETA: 0s - loss: 0.4401 - accuracy: 0.84 - ETA: 0s - loss: 0.4396 - accuracy: 0.84 - ETA: 0s - loss: 0.4388 - accuracy: 0.84 - ETA: 0s - loss: 0.4387 - accuracy: 0.85 - ETA: 0s - loss: 0.4383 - accuracy: 0.84 - ETA: 0s - loss: 0.4387 - accuracy: 0.84 - ETA: 0s - loss: 0.4394 - accuracy: 0.84 - ETA: 0s - loss: 0.4391 - accuracy: 0.84 - ETA: 0s - loss: 0.4395 - accuracy: 0.84 - ETA: 0s - loss: 0.4390 - accuracy: 0.84 - ETA: 0s - loss: 0.4387 - accuracy: 0.84 - ETA: 0s - loss: 0.4378 - accuracy: 0.84 - ETA: 0s - loss: 0.4376 - accuracy: 0.85 - ETA: 0s - loss: 0.4372 - accuracy: 0.85 - 5s 3ms/step - loss: 0.4369 - accuracy: 0.8502 - val_loss: 0.4453 - val_accuracy: 0.8415\n",
      "Epoch 3/10\n"
     ]
    },
    {
     "name": "stdout",
     "output_type": "stream",
     "text": [
      "1875/1875 [==============================] - ETA: 0s - loss: 0.3827 - accuracy: 0.90 - ETA: 4s - loss: 0.4156 - accuracy: 0.86 - ETA: 4s - loss: 0.3923 - accuracy: 0.86 - ETA: 4s - loss: 0.4033 - accuracy: 0.86 - ETA: 4s - loss: 0.4092 - accuracy: 0.85 - ETA: 4s - loss: 0.4085 - accuracy: 0.85 - ETA: 4s - loss: 0.4115 - accuracy: 0.85 - ETA: 4s - loss: 0.4111 - accuracy: 0.85 - ETA: 4s - loss: 0.4131 - accuracy: 0.85 - ETA: 4s - loss: 0.4050 - accuracy: 0.86 - ETA: 4s - loss: 0.4019 - accuracy: 0.86 - ETA: 4s - loss: 0.4027 - accuracy: 0.86 - ETA: 3s - loss: 0.4029 - accuracy: 0.86 - ETA: 3s - loss: 0.4074 - accuracy: 0.85 - ETA: 3s - loss: 0.4107 - accuracy: 0.85 - ETA: 3s - loss: 0.4115 - accuracy: 0.85 - ETA: 3s - loss: 0.4117 - accuracy: 0.85 - ETA: 3s - loss: 0.4131 - accuracy: 0.85 - ETA: 3s - loss: 0.4162 - accuracy: 0.85 - ETA: 3s - loss: 0.4148 - accuracy: 0.85 - ETA: 3s - loss: 0.4139 - accuracy: 0.85 - ETA: 3s - loss: 0.4129 - accuracy: 0.85 - ETA: 3s - loss: 0.4120 - accuracy: 0.85 - ETA: 3s - loss: 0.4103 - accuracy: 0.85 - ETA: 3s - loss: 0.4099 - accuracy: 0.85 - ETA: 3s - loss: 0.4101 - accuracy: 0.85 - ETA: 3s - loss: 0.4115 - accuracy: 0.85 - ETA: 3s - loss: 0.4105 - accuracy: 0.85 - ETA: 3s - loss: 0.4089 - accuracy: 0.85 - ETA: 3s - loss: 0.4072 - accuracy: 0.85 - ETA: 3s - loss: 0.4071 - accuracy: 0.85 - ETA: 3s - loss: 0.4069 - accuracy: 0.85 - ETA: 2s - loss: 0.4059 - accuracy: 0.85 - ETA: 2s - loss: 0.4064 - accuracy: 0.85 - ETA: 2s - loss: 0.4053 - accuracy: 0.86 - ETA: 2s - loss: 0.4052 - accuracy: 0.86 - ETA: 2s - loss: 0.4047 - accuracy: 0.86 - ETA: 2s - loss: 0.4052 - accuracy: 0.85 - ETA: 2s - loss: 0.4048 - accuracy: 0.86 - ETA: 2s - loss: 0.4037 - accuracy: 0.86 - ETA: 2s - loss: 0.4036 - accuracy: 0.86 - ETA: 2s - loss: 0.4036 - accuracy: 0.86 - ETA: 2s - loss: 0.4042 - accuracy: 0.86 - ETA: 2s - loss: 0.4048 - accuracy: 0.86 - ETA: 2s - loss: 0.4050 - accuracy: 0.86 - ETA: 2s - loss: 0.4054 - accuracy: 0.86 - ETA: 2s - loss: 0.4058 - accuracy: 0.85 - ETA: 1s - loss: 0.4039 - accuracy: 0.86 - ETA: 1s - loss: 0.4037 - accuracy: 0.86 - ETA: 1s - loss: 0.4041 - accuracy: 0.86 - ETA: 1s - loss: 0.4038 - accuracy: 0.85 - ETA: 1s - loss: 0.4026 - accuracy: 0.86 - ETA: 1s - loss: 0.4031 - accuracy: 0.86 - ETA: 1s - loss: 0.4033 - accuracy: 0.86 - ETA: 1s - loss: 0.4038 - accuracy: 0.86 - ETA: 1s - loss: 0.4032 - accuracy: 0.86 - ETA: 1s - loss: 0.4029 - accuracy: 0.86 - ETA: 1s - loss: 0.4031 - accuracy: 0.86 - ETA: 1s - loss: 0.4016 - accuracy: 0.86 - ETA: 1s - loss: 0.4010 - accuracy: 0.86 - ETA: 1s - loss: 0.4012 - accuracy: 0.86 - ETA: 1s - loss: 0.4007 - accuracy: 0.86 - ETA: 1s - loss: 0.4010 - accuracy: 0.86 - ETA: 0s - loss: 0.4012 - accuracy: 0.86 - ETA: 0s - loss: 0.4017 - accuracy: 0.86 - ETA: 0s - loss: 0.4016 - accuracy: 0.86 - ETA: 0s - loss: 0.4017 - accuracy: 0.86 - ETA: 0s - loss: 0.4005 - accuracy: 0.86 - ETA: 0s - loss: 0.3999 - accuracy: 0.86 - ETA: 0s - loss: 0.4002 - accuracy: 0.86 - ETA: 0s - loss: 0.3995 - accuracy: 0.86 - ETA: 0s - loss: 0.3996 - accuracy: 0.86 - ETA: 0s - loss: 0.3993 - accuracy: 0.86 - ETA: 0s - loss: 0.3999 - accuracy: 0.86 - ETA: 0s - loss: 0.4001 - accuracy: 0.86 - ETA: 0s - loss: 0.3993 - accuracy: 0.86 - ETA: 0s - loss: 0.3988 - accuracy: 0.86 - ETA: 0s - loss: 0.3990 - accuracy: 0.86 - ETA: 0s - loss: 0.3988 - accuracy: 0.86 - ETA: 0s - loss: 0.3979 - accuracy: 0.86 - ETA: 0s - loss: 0.3981 - accuracy: 0.86 - 5s 3ms/step - loss: 0.3981 - accuracy: 0.8629 - val_loss: 0.4207 - val_accuracy: 0.8512\n",
      "Epoch 4/10\n",
      "1875/1875 [==============================] - ETA: 0s - loss: 0.2378 - accuracy: 0.93 - ETA: 9s - loss: 0.2871 - accuracy: 0.89 - ETA: 7s - loss: 0.4053 - accuracy: 0.85 - ETA: 6s - loss: 0.3902 - accuracy: 0.85 - ETA: 6s - loss: 0.3895 - accuracy: 0.86 - ETA: 6s - loss: 0.3968 - accuracy: 0.86 - ETA: 6s - loss: 0.3913 - accuracy: 0.86 - ETA: 6s - loss: 0.3898 - accuracy: 0.86 - ETA: 6s - loss: 0.3790 - accuracy: 0.86 - ETA: 7s - loss: 0.3791 - accuracy: 0.86 - ETA: 7s - loss: 0.3791 - accuracy: 0.86 - ETA: 6s - loss: 0.3809 - accuracy: 0.86 - ETA: 6s - loss: 0.3820 - accuracy: 0.86 - ETA: 6s - loss: 0.3804 - accuracy: 0.86 - ETA: 6s - loss: 0.3847 - accuracy: 0.86 - ETA: 6s - loss: 0.3861 - accuracy: 0.86 - ETA: 6s - loss: 0.3850 - accuracy: 0.86 - ETA: 5s - loss: 0.3846 - accuracy: 0.86 - ETA: 5s - loss: 0.3853 - accuracy: 0.86 - ETA: 5s - loss: 0.3845 - accuracy: 0.86 - ETA: 5s - loss: 0.3851 - accuracy: 0.86 - ETA: 5s - loss: 0.3824 - accuracy: 0.86 - ETA: 5s - loss: 0.3801 - accuracy: 0.86 - ETA: 5s - loss: 0.3803 - accuracy: 0.86 - ETA: 5s - loss: 0.3792 - accuracy: 0.86 - ETA: 5s - loss: 0.3768 - accuracy: 0.86 - ETA: 5s - loss: 0.3756 - accuracy: 0.86 - ETA: 5s - loss: 0.3778 - accuracy: 0.86 - ETA: 4s - loss: 0.3756 - accuracy: 0.86 - ETA: 4s - loss: 0.3764 - accuracy: 0.86 - ETA: 4s - loss: 0.3788 - accuracy: 0.86 - ETA: 4s - loss: 0.3768 - accuracy: 0.86 - ETA: 4s - loss: 0.3773 - accuracy: 0.86 - ETA: 4s - loss: 0.3778 - accuracy: 0.86 - ETA: 4s - loss: 0.3768 - accuracy: 0.86 - ETA: 4s - loss: 0.3791 - accuracy: 0.86 - ETA: 4s - loss: 0.3774 - accuracy: 0.86 - ETA: 3s - loss: 0.3765 - accuracy: 0.86 - ETA: 3s - loss: 0.3755 - accuracy: 0.86 - ETA: 3s - loss: 0.3739 - accuracy: 0.87 - ETA: 3s - loss: 0.3732 - accuracy: 0.87 - ETA: 3s - loss: 0.3753 - accuracy: 0.86 - ETA: 3s - loss: 0.3750 - accuracy: 0.87 - ETA: 3s - loss: 0.3757 - accuracy: 0.87 - ETA: 3s - loss: 0.3757 - accuracy: 0.87 - ETA: 3s - loss: 0.3765 - accuracy: 0.86 - ETA: 3s - loss: 0.3758 - accuracy: 0.86 - ETA: 3s - loss: 0.3761 - accuracy: 0.86 - ETA: 2s - loss: 0.3762 - accuracy: 0.86 - ETA: 2s - loss: 0.3753 - accuracy: 0.87 - ETA: 2s - loss: 0.3748 - accuracy: 0.87 - ETA: 2s - loss: 0.3754 - accuracy: 0.87 - ETA: 2s - loss: 0.3757 - accuracy: 0.87 - ETA: 2s - loss: 0.3755 - accuracy: 0.87 - ETA: 2s - loss: 0.3755 - accuracy: 0.87 - ETA: 2s - loss: 0.3751 - accuracy: 0.87 - ETA: 2s - loss: 0.3743 - accuracy: 0.87 - ETA: 2s - loss: 0.3736 - accuracy: 0.87 - ETA: 2s - loss: 0.3734 - accuracy: 0.87 - ETA: 2s - loss: 0.3741 - accuracy: 0.87 - ETA: 2s - loss: 0.3735 - accuracy: 0.87 - ETA: 2s - loss: 0.3739 - accuracy: 0.87 - ETA: 2s - loss: 0.3748 - accuracy: 0.87 - ETA: 2s - loss: 0.3736 - accuracy: 0.87 - ETA: 2s - loss: 0.3746 - accuracy: 0.87 - ETA: 2s - loss: 0.3749 - accuracy: 0.87 - ETA: 2s - loss: 0.3748 - accuracy: 0.87 - ETA: 1s - loss: 0.3752 - accuracy: 0.86 - ETA: 1s - loss: 0.3750 - accuracy: 0.87 - ETA: 1s - loss: 0.3749 - accuracy: 0.86 - ETA: 1s - loss: 0.3744 - accuracy: 0.86 - ETA: 1s - loss: 0.3748 - accuracy: 0.86 - ETA: 1s - loss: 0.3753 - accuracy: 0.86 - ETA: 1s - loss: 0.3756 - accuracy: 0.86 - ETA: 1s - loss: 0.3749 - accuracy: 0.86 - ETA: 1s - loss: 0.3740 - accuracy: 0.87 - ETA: 1s - loss: 0.3737 - accuracy: 0.87 - ETA: 1s - loss: 0.3738 - accuracy: 0.86 - ETA: 1s - loss: 0.3739 - accuracy: 0.86 - ETA: 1s - loss: 0.3745 - accuracy: 0.86 - ETA: 1s - loss: 0.3745 - accuracy: 0.86 - ETA: 1s - loss: 0.3742 - accuracy: 0.86 - ETA: 1s - loss: 0.3739 - accuracy: 0.86 - ETA: 1s - loss: 0.3745 - accuracy: 0.86 - ETA: 0s - loss: 0.3743 - accuracy: 0.86 - ETA: 0s - loss: 0.3737 - accuracy: 0.86 - ETA: 0s - loss: 0.3735 - accuracy: 0.87 - ETA: 0s - loss: 0.3737 - accuracy: 0.87 - ETA: 0s - loss: 0.3738 - accuracy: 0.87 - ETA: 0s - loss: 0.3737 - accuracy: 0.86 - ETA: 0s - loss: 0.3730 - accuracy: 0.87 - ETA: 0s - loss: 0.3730 - accuracy: 0.87 - ETA: 0s - loss: 0.3723 - accuracy: 0.87 - ETA: 0s - loss: 0.3717 - accuracy: 0.87 - ETA: 0s - loss: 0.3714 - accuracy: 0.87 - ETA: 0s - loss: 0.3717 - accuracy: 0.87 - ETA: 0s - loss: 0.3726 - accuracy: 0.87 - ETA: 0s - loss: 0.3729 - accuracy: 0.87 - ETA: 0s - loss: 0.3732 - accuracy: 0.87 - ETA: 0s - loss: 0.3731 - accuracy: 0.87 - 6s 3ms/step - loss: 0.3729 - accuracy: 0.8706 - val_loss: 0.3995 - val_accuracy: 0.8585\n",
      "Epoch 5/10\n"
     ]
    },
    {
     "name": "stdout",
     "output_type": "stream",
     "text": [
      "1875/1875 [==============================] - ETA: 0s - loss: 0.5000 - accuracy: 0.81 - ETA: 6s - loss: 0.3608 - accuracy: 0.87 - ETA: 5s - loss: 0.3707 - accuracy: 0.86 - ETA: 5s - loss: 0.3975 - accuracy: 0.85 - ETA: 5s - loss: 0.3852 - accuracy: 0.86 - ETA: 5s - loss: 0.3807 - accuracy: 0.86 - ETA: 5s - loss: 0.3780 - accuracy: 0.86 - ETA: 5s - loss: 0.3849 - accuracy: 0.86 - ETA: 5s - loss: 0.3838 - accuracy: 0.85 - ETA: 5s - loss: 0.3797 - accuracy: 0.86 - ETA: 5s - loss: 0.3732 - accuracy: 0.86 - ETA: 5s - loss: 0.3731 - accuracy: 0.86 - ETA: 5s - loss: 0.3735 - accuracy: 0.86 - ETA: 5s - loss: 0.3687 - accuracy: 0.86 - ETA: 5s - loss: 0.3613 - accuracy: 0.87 - ETA: 4s - loss: 0.3614 - accuracy: 0.87 - ETA: 4s - loss: 0.3588 - accuracy: 0.87 - ETA: 4s - loss: 0.3621 - accuracy: 0.87 - ETA: 4s - loss: 0.3590 - accuracy: 0.87 - ETA: 4s - loss: 0.3582 - accuracy: 0.87 - ETA: 4s - loss: 0.3581 - accuracy: 0.87 - ETA: 4s - loss: 0.3577 - accuracy: 0.87 - ETA: 4s - loss: 0.3588 - accuracy: 0.87 - ETA: 4s - loss: 0.3583 - accuracy: 0.87 - ETA: 4s - loss: 0.3585 - accuracy: 0.87 - ETA: 4s - loss: 0.3590 - accuracy: 0.87 - ETA: 4s - loss: 0.3598 - accuracy: 0.87 - ETA: 4s - loss: 0.3600 - accuracy: 0.87 - ETA: 4s - loss: 0.3615 - accuracy: 0.87 - ETA: 4s - loss: 0.3622 - accuracy: 0.87 - ETA: 4s - loss: 0.3618 - accuracy: 0.87 - ETA: 4s - loss: 0.3602 - accuracy: 0.87 - ETA: 4s - loss: 0.3623 - accuracy: 0.87 - ETA: 4s - loss: 0.3624 - accuracy: 0.87 - ETA: 4s - loss: 0.3614 - accuracy: 0.87 - ETA: 4s - loss: 0.3625 - accuracy: 0.87 - ETA: 4s - loss: 0.3625 - accuracy: 0.87 - ETA: 4s - loss: 0.3635 - accuracy: 0.87 - ETA: 4s - loss: 0.3639 - accuracy: 0.87 - ETA: 4s - loss: 0.3634 - accuracy: 0.87 - ETA: 4s - loss: 0.3631 - accuracy: 0.87 - ETA: 3s - loss: 0.3630 - accuracy: 0.87 - ETA: 3s - loss: 0.3628 - accuracy: 0.87 - ETA: 3s - loss: 0.3639 - accuracy: 0.87 - ETA: 3s - loss: 0.3632 - accuracy: 0.87 - ETA: 3s - loss: 0.3626 - accuracy: 0.87 - ETA: 3s - loss: 0.3624 - accuracy: 0.87 - ETA: 3s - loss: 0.3623 - accuracy: 0.87 - ETA: 3s - loss: 0.3617 - accuracy: 0.87 - ETA: 3s - loss: 0.3618 - accuracy: 0.87 - ETA: 3s - loss: 0.3611 - accuracy: 0.87 - ETA: 3s - loss: 0.3602 - accuracy: 0.87 - ETA: 3s - loss: 0.3602 - accuracy: 0.87 - ETA: 2s - loss: 0.3616 - accuracy: 0.87 - ETA: 2s - loss: 0.3621 - accuracy: 0.87 - ETA: 2s - loss: 0.3632 - accuracy: 0.87 - ETA: 2s - loss: 0.3626 - accuracy: 0.87 - ETA: 2s - loss: 0.3626 - accuracy: 0.87 - ETA: 2s - loss: 0.3617 - accuracy: 0.87 - ETA: 2s - loss: 0.3610 - accuracy: 0.87 - ETA: 2s - loss: 0.3607 - accuracy: 0.87 - ETA: 2s - loss: 0.3608 - accuracy: 0.87 - ETA: 2s - loss: 0.3608 - accuracy: 0.87 - ETA: 2s - loss: 0.3613 - accuracy: 0.87 - ETA: 2s - loss: 0.3611 - accuracy: 0.87 - ETA: 1s - loss: 0.3600 - accuracy: 0.87 - ETA: 1s - loss: 0.3591 - accuracy: 0.87 - ETA: 1s - loss: 0.3589 - accuracy: 0.87 - ETA: 1s - loss: 0.3594 - accuracy: 0.87 - ETA: 1s - loss: 0.3580 - accuracy: 0.87 - ETA: 1s - loss: 0.3583 - accuracy: 0.87 - ETA: 1s - loss: 0.3585 - accuracy: 0.87 - ETA: 1s - loss: 0.3585 - accuracy: 0.87 - ETA: 1s - loss: 0.3580 - accuracy: 0.87 - ETA: 1s - loss: 0.3573 - accuracy: 0.87 - ETA: 1s - loss: 0.3579 - accuracy: 0.87 - ETA: 1s - loss: 0.3575 - accuracy: 0.87 - ETA: 1s - loss: 0.3573 - accuracy: 0.87 - ETA: 1s - loss: 0.3569 - accuracy: 0.87 - ETA: 1s - loss: 0.3569 - accuracy: 0.87 - ETA: 1s - loss: 0.3568 - accuracy: 0.87 - ETA: 1s - loss: 0.3577 - accuracy: 0.87 - ETA: 1s - loss: 0.3579 - accuracy: 0.87 - ETA: 1s - loss: 0.3579 - accuracy: 0.87 - ETA: 1s - loss: 0.3584 - accuracy: 0.87 - ETA: 1s - loss: 0.3581 - accuracy: 0.87 - ETA: 1s - loss: 0.3578 - accuracy: 0.87 - ETA: 1s - loss: 0.3572 - accuracy: 0.87 - ETA: 1s - loss: 0.3572 - accuracy: 0.87 - ETA: 1s - loss: 0.3565 - accuracy: 0.87 - ETA: 1s - loss: 0.3564 - accuracy: 0.87 - ETA: 0s - loss: 0.3566 - accuracy: 0.87 - ETA: 0s - loss: 0.3566 - accuracy: 0.87 - ETA: 0s - loss: 0.3570 - accuracy: 0.87 - ETA: 0s - loss: 0.3570 - accuracy: 0.87 - ETA: 0s - loss: 0.3568 - accuracy: 0.87 - ETA: 0s - loss: 0.3568 - accuracy: 0.87 - ETA: 0s - loss: 0.3565 - accuracy: 0.87 - ETA: 0s - loss: 0.3563 - accuracy: 0.87 - ETA: 0s - loss: 0.3564 - accuracy: 0.87 - ETA: 0s - loss: 0.3560 - accuracy: 0.87 - ETA: 0s - loss: 0.3555 - accuracy: 0.87 - ETA: 0s - loss: 0.3555 - accuracy: 0.87 - ETA: 0s - loss: 0.3552 - accuracy: 0.87 - ETA: 0s - loss: 0.3558 - accuracy: 0.87 - ETA: 0s - loss: 0.3557 - accuracy: 0.87 - ETA: 0s - loss: 0.3560 - accuracy: 0.87 - ETA: 0s - loss: 0.3562 - accuracy: 0.87 - ETA: 0s - loss: 0.3558 - accuracy: 0.87 - ETA: 0s - loss: 0.3557 - accuracy: 0.87 - ETA: 0s - loss: 0.3555 - accuracy: 0.87 - ETA: 0s - loss: 0.3554 - accuracy: 0.87 - 6s 3ms/step - loss: 0.3555 - accuracy: 0.8748 - val_loss: 0.3939 - val_accuracy: 0.8604\n",
      "Epoch 6/10\n"
     ]
    },
    {
     "name": "stdout",
     "output_type": "stream",
     "text": [
      "1875/1875 [==============================] - ETA: 1s - loss: 0.4295 - accuracy: 0.84 - ETA: 9s - loss: 0.3063 - accuracy: 0.90 - ETA: 11s - loss: 0.3342 - accuracy: 0.882 - ETA: 12s - loss: 0.3444 - accuracy: 0.877 - ETA: 12s - loss: 0.3566 - accuracy: 0.878 - ETA: 12s - loss: 0.3523 - accuracy: 0.879 - ETA: 11s - loss: 0.3548 - accuracy: 0.879 - ETA: 11s - loss: 0.3535 - accuracy: 0.880 - ETA: 10s - loss: 0.3460 - accuracy: 0.881 - ETA: 10s - loss: 0.3455 - accuracy: 0.877 - ETA: 9s - loss: 0.3441 - accuracy: 0.877 - ETA: 9s - loss: 0.3509 - accuracy: 0.87 - ETA: 9s - loss: 0.3559 - accuracy: 0.87 - ETA: 8s - loss: 0.3623 - accuracy: 0.87 - ETA: 8s - loss: 0.3501 - accuracy: 0.87 - ETA: 8s - loss: 0.3479 - accuracy: 0.87 - ETA: 7s - loss: 0.3496 - accuracy: 0.87 - ETA: 7s - loss: 0.3523 - accuracy: 0.87 - ETA: 7s - loss: 0.3504 - accuracy: 0.87 - ETA: 7s - loss: 0.3494 - accuracy: 0.87 - ETA: 7s - loss: 0.3512 - accuracy: 0.87 - ETA: 7s - loss: 0.3510 - accuracy: 0.87 - ETA: 7s - loss: 0.3511 - accuracy: 0.87 - ETA: 7s - loss: 0.3511 - accuracy: 0.87 - ETA: 7s - loss: 0.3500 - accuracy: 0.87 - ETA: 7s - loss: 0.3516 - accuracy: 0.87 - ETA: 7s - loss: 0.3516 - accuracy: 0.87 - ETA: 7s - loss: 0.3527 - accuracy: 0.87 - ETA: 7s - loss: 0.3518 - accuracy: 0.87 - ETA: 6s - loss: 0.3509 - accuracy: 0.87 - ETA: 6s - loss: 0.3504 - accuracy: 0.87 - ETA: 6s - loss: 0.3504 - accuracy: 0.87 - ETA: 6s - loss: 0.3489 - accuracy: 0.87 - ETA: 6s - loss: 0.3474 - accuracy: 0.87 - ETA: 5s - loss: 0.3464 - accuracy: 0.87 - ETA: 5s - loss: 0.3484 - accuracy: 0.87 - ETA: 5s - loss: 0.3457 - accuracy: 0.87 - ETA: 5s - loss: 0.3468 - accuracy: 0.87 - ETA: 5s - loss: 0.3477 - accuracy: 0.87 - ETA: 4s - loss: 0.3479 - accuracy: 0.87 - ETA: 4s - loss: 0.3478 - accuracy: 0.87 - ETA: 4s - loss: 0.3484 - accuracy: 0.87 - ETA: 4s - loss: 0.3474 - accuracy: 0.87 - ETA: 4s - loss: 0.3458 - accuracy: 0.87 - ETA: 4s - loss: 0.3450 - accuracy: 0.87 - ETA: 4s - loss: 0.3465 - accuracy: 0.87 - ETA: 3s - loss: 0.3455 - accuracy: 0.87 - ETA: 3s - loss: 0.3460 - accuracy: 0.87 - ETA: 3s - loss: 0.3449 - accuracy: 0.87 - ETA: 3s - loss: 0.3444 - accuracy: 0.87 - ETA: 3s - loss: 0.3436 - accuracy: 0.87 - ETA: 3s - loss: 0.3434 - accuracy: 0.87 - ETA: 3s - loss: 0.3427 - accuracy: 0.87 - ETA: 3s - loss: 0.3428 - accuracy: 0.87 - ETA: 2s - loss: 0.3423 - accuracy: 0.88 - ETA: 2s - loss: 0.3424 - accuracy: 0.88 - ETA: 2s - loss: 0.3409 - accuracy: 0.88 - ETA: 2s - loss: 0.3413 - accuracy: 0.88 - ETA: 2s - loss: 0.3403 - accuracy: 0.88 - ETA: 2s - loss: 0.3405 - accuracy: 0.88 - ETA: 2s - loss: 0.3412 - accuracy: 0.88 - ETA: 2s - loss: 0.3395 - accuracy: 0.88 - ETA: 2s - loss: 0.3393 - accuracy: 0.88 - ETA: 2s - loss: 0.3386 - accuracy: 0.88 - ETA: 2s - loss: 0.3385 - accuracy: 0.88 - ETA: 1s - loss: 0.3385 - accuracy: 0.88 - ETA: 1s - loss: 0.3387 - accuracy: 0.88 - ETA: 1s - loss: 0.3389 - accuracy: 0.88 - ETA: 1s - loss: 0.3385 - accuracy: 0.88 - ETA: 1s - loss: 0.3382 - accuracy: 0.88 - ETA: 1s - loss: 0.3381 - accuracy: 0.88 - ETA: 1s - loss: 0.3374 - accuracy: 0.88 - ETA: 1s - loss: 0.3386 - accuracy: 0.88 - ETA: 1s - loss: 0.3387 - accuracy: 0.88 - ETA: 1s - loss: 0.3387 - accuracy: 0.88 - ETA: 1s - loss: 0.3389 - accuracy: 0.88 - ETA: 1s - loss: 0.3393 - accuracy: 0.88 - ETA: 1s - loss: 0.3394 - accuracy: 0.88 - ETA: 1s - loss: 0.3386 - accuracy: 0.88 - ETA: 1s - loss: 0.3385 - accuracy: 0.88 - ETA: 1s - loss: 0.3383 - accuracy: 0.88 - ETA: 1s - loss: 0.3380 - accuracy: 0.88 - ETA: 0s - loss: 0.3384 - accuracy: 0.88 - ETA: 0s - loss: 0.3387 - accuracy: 0.88 - ETA: 0s - loss: 0.3390 - accuracy: 0.88 - ETA: 0s - loss: 0.3395 - accuracy: 0.88 - ETA: 0s - loss: 0.3396 - accuracy: 0.88 - ETA: 0s - loss: 0.3392 - accuracy: 0.88 - ETA: 0s - loss: 0.3389 - accuracy: 0.88 - ETA: 0s - loss: 0.3388 - accuracy: 0.88 - ETA: 0s - loss: 0.3388 - accuracy: 0.88 - ETA: 0s - loss: 0.3390 - accuracy: 0.88 - ETA: 0s - loss: 0.3389 - accuracy: 0.88 - ETA: 0s - loss: 0.3385 - accuracy: 0.88 - ETA: 0s - loss: 0.3385 - accuracy: 0.88 - ETA: 0s - loss: 0.3387 - accuracy: 0.88 - ETA: 0s - loss: 0.3391 - accuracy: 0.88 - ETA: 0s - loss: 0.3391 - accuracy: 0.88 - ETA: 0s - loss: 0.3396 - accuracy: 0.88 - ETA: 0s - loss: 0.3398 - accuracy: 0.88 - ETA: 0s - loss: 0.3396 - accuracy: 0.88 - ETA: 0s - loss: 0.3395 - accuracy: 0.88 - 6s 3ms/step - loss: 0.3394 - accuracy: 0.8805 - val_loss: 0.3814 - val_accuracy: 0.8638\n",
      "Epoch 7/10\n"
     ]
    },
    {
     "name": "stdout",
     "output_type": "stream",
     "text": [
      "1875/1875 [==============================] - ETA: 0s - loss: 0.3002 - accuracy: 0.90 - ETA: 5s - loss: 0.3728 - accuracy: 0.85 - ETA: 5s - loss: 0.3477 - accuracy: 0.86 - ETA: 5s - loss: 0.3609 - accuracy: 0.86 - ETA: 5s - loss: 0.3493 - accuracy: 0.87 - ETA: 5s - loss: 0.3513 - accuracy: 0.87 - ETA: 5s - loss: 0.3536 - accuracy: 0.87 - ETA: 5s - loss: 0.3503 - accuracy: 0.87 - ETA: 5s - loss: 0.3524 - accuracy: 0.87 - ETA: 4s - loss: 0.3562 - accuracy: 0.87 - ETA: 4s - loss: 0.3531 - accuracy: 0.87 - ETA: 4s - loss: 0.3510 - accuracy: 0.87 - ETA: 4s - loss: 0.3487 - accuracy: 0.88 - ETA: 4s - loss: 0.3464 - accuracy: 0.88 - ETA: 4s - loss: 0.3493 - accuracy: 0.88 - ETA: 4s - loss: 0.3500 - accuracy: 0.88 - ETA: 4s - loss: 0.3500 - accuracy: 0.88 - ETA: 4s - loss: 0.3496 - accuracy: 0.88 - ETA: 4s - loss: 0.3482 - accuracy: 0.88 - ETA: 4s - loss: 0.3466 - accuracy: 0.88 - ETA: 4s - loss: 0.3476 - accuracy: 0.88 - ETA: 4s - loss: 0.3502 - accuracy: 0.88 - ETA: 4s - loss: 0.3494 - accuracy: 0.88 - ETA: 3s - loss: 0.3483 - accuracy: 0.88 - ETA: 3s - loss: 0.3489 - accuracy: 0.88 - ETA: 3s - loss: 0.3459 - accuracy: 0.88 - ETA: 3s - loss: 0.3470 - accuracy: 0.88 - ETA: 3s - loss: 0.3462 - accuracy: 0.88 - ETA: 3s - loss: 0.3459 - accuracy: 0.88 - ETA: 3s - loss: 0.3450 - accuracy: 0.88 - ETA: 3s - loss: 0.3440 - accuracy: 0.88 - ETA: 3s - loss: 0.3428 - accuracy: 0.88 - ETA: 3s - loss: 0.3403 - accuracy: 0.88 - ETA: 3s - loss: 0.3408 - accuracy: 0.88 - ETA: 3s - loss: 0.3396 - accuracy: 0.88 - ETA: 3s - loss: 0.3392 - accuracy: 0.88 - ETA: 3s - loss: 0.3369 - accuracy: 0.88 - ETA: 2s - loss: 0.3362 - accuracy: 0.88 - ETA: 2s - loss: 0.3357 - accuracy: 0.88 - ETA: 2s - loss: 0.3351 - accuracy: 0.88 - ETA: 2s - loss: 0.3348 - accuracy: 0.88 - ETA: 2s - loss: 0.3353 - accuracy: 0.88 - ETA: 2s - loss: 0.3343 - accuracy: 0.88 - ETA: 2s - loss: 0.3342 - accuracy: 0.88 - ETA: 2s - loss: 0.3333 - accuracy: 0.88 - ETA: 2s - loss: 0.3343 - accuracy: 0.88 - ETA: 2s - loss: 0.3343 - accuracy: 0.88 - ETA: 2s - loss: 0.3347 - accuracy: 0.88 - ETA: 2s - loss: 0.3357 - accuracy: 0.88 - ETA: 1s - loss: 0.3345 - accuracy: 0.88 - ETA: 1s - loss: 0.3347 - accuracy: 0.88 - ETA: 1s - loss: 0.3339 - accuracy: 0.88 - ETA: 1s - loss: 0.3341 - accuracy: 0.88 - ETA: 1s - loss: 0.3346 - accuracy: 0.88 - ETA: 1s - loss: 0.3342 - accuracy: 0.88 - ETA: 1s - loss: 0.3334 - accuracy: 0.88 - ETA: 1s - loss: 0.3328 - accuracy: 0.88 - ETA: 1s - loss: 0.3328 - accuracy: 0.88 - ETA: 1s - loss: 0.3329 - accuracy: 0.88 - ETA: 1s - loss: 0.3335 - accuracy: 0.88 - ETA: 1s - loss: 0.3328 - accuracy: 0.88 - ETA: 1s - loss: 0.3326 - accuracy: 0.88 - ETA: 1s - loss: 0.3327 - accuracy: 0.88 - ETA: 1s - loss: 0.3320 - accuracy: 0.88 - ETA: 1s - loss: 0.3319 - accuracy: 0.88 - ETA: 1s - loss: 0.3323 - accuracy: 0.88 - ETA: 1s - loss: 0.3312 - accuracy: 0.88 - ETA: 0s - loss: 0.3308 - accuracy: 0.88 - ETA: 0s - loss: 0.3305 - accuracy: 0.88 - ETA: 0s - loss: 0.3301 - accuracy: 0.88 - ETA: 0s - loss: 0.3298 - accuracy: 0.88 - ETA: 0s - loss: 0.3296 - accuracy: 0.88 - ETA: 0s - loss: 0.3297 - accuracy: 0.88 - ETA: 0s - loss: 0.3295 - accuracy: 0.88 - ETA: 0s - loss: 0.3297 - accuracy: 0.88 - ETA: 0s - loss: 0.3292 - accuracy: 0.88 - ETA: 0s - loss: 0.3294 - accuracy: 0.88 - ETA: 0s - loss: 0.3290 - accuracy: 0.88 - ETA: 0s - loss: 0.3285 - accuracy: 0.88 - ETA: 0s - loss: 0.3285 - accuracy: 0.88 - ETA: 0s - loss: 0.3285 - accuracy: 0.88 - ETA: 0s - loss: 0.3285 - accuracy: 0.88 - ETA: 0s - loss: 0.3288 - accuracy: 0.88 - ETA: 0s - loss: 0.3291 - accuracy: 0.88 - ETA: 0s - loss: 0.3291 - accuracy: 0.88 - ETA: 0s - loss: 0.3287 - accuracy: 0.88 - ETA: 0s - loss: 0.3282 - accuracy: 0.88 - ETA: 0s - loss: 0.3282 - accuracy: 0.88 - ETA: 0s - loss: 0.3285 - accuracy: 0.88 - ETA: 0s - loss: 0.3284 - accuracy: 0.88 - ETA: 0s - loss: 0.3284 - accuracy: 0.88 - 5s 3ms/step - loss: 0.3286 - accuracy: 0.8841 - val_loss: 0.3679 - val_accuracy: 0.8700\n",
      "Epoch 8/10\n",
      "1875/1875 [==============================] - ETA: 0s - loss: 0.4768 - accuracy: 0.84 - ETA: 4s - loss: 0.2734 - accuracy: 0.90 - ETA: 4s - loss: 0.2612 - accuracy: 0.91 - ETA: 4s - loss: 0.2777 - accuracy: 0.90 - ETA: 4s - loss: 0.2893 - accuracy: 0.89 - ETA: 4s - loss: 0.3011 - accuracy: 0.89 - ETA: 4s - loss: 0.2960 - accuracy: 0.89 - ETA: 4s - loss: 0.2937 - accuracy: 0.89 - ETA: 4s - loss: 0.2934 - accuracy: 0.89 - ETA: 4s - loss: 0.3025 - accuracy: 0.89 - ETA: 4s - loss: 0.3027 - accuracy: 0.89 - ETA: 4s - loss: 0.3073 - accuracy: 0.89 - ETA: 4s - loss: 0.3121 - accuracy: 0.89 - ETA: 4s - loss: 0.3118 - accuracy: 0.89 - ETA: 4s - loss: 0.3133 - accuracy: 0.88 - ETA: 4s - loss: 0.3198 - accuracy: 0.88 - ETA: 3s - loss: 0.3177 - accuracy: 0.88 - ETA: 3s - loss: 0.3150 - accuracy: 0.88 - ETA: 3s - loss: 0.3162 - accuracy: 0.88 - ETA: 3s - loss: 0.3174 - accuracy: 0.88 - ETA: 3s - loss: 0.3177 - accuracy: 0.88 - ETA: 3s - loss: 0.3166 - accuracy: 0.88 - ETA: 3s - loss: 0.3166 - accuracy: 0.88 - ETA: 3s - loss: 0.3180 - accuracy: 0.88 - ETA: 3s - loss: 0.3182 - accuracy: 0.88 - ETA: 3s - loss: 0.3183 - accuracy: 0.88 - ETA: 3s - loss: 0.3182 - accuracy: 0.88 - ETA: 3s - loss: 0.3189 - accuracy: 0.88 - ETA: 3s - loss: 0.3197 - accuracy: 0.88 - ETA: 3s - loss: 0.3188 - accuracy: 0.88 - ETA: 3s - loss: 0.3192 - accuracy: 0.88 - ETA: 2s - loss: 0.3196 - accuracy: 0.88 - ETA: 2s - loss: 0.3183 - accuracy: 0.88 - ETA: 2s - loss: 0.3192 - accuracy: 0.88 - ETA: 2s - loss: 0.3193 - accuracy: 0.88 - ETA: 2s - loss: 0.3194 - accuracy: 0.88 - ETA: 2s - loss: 0.3188 - accuracy: 0.88 - ETA: 2s - loss: 0.3184 - accuracy: 0.88 - ETA: 2s - loss: 0.3184 - accuracy: 0.88 - ETA: 2s - loss: 0.3184 - accuracy: 0.88 - ETA: 2s - loss: 0.3182 - accuracy: 0.88 - ETA: 2s - loss: 0.3186 - accuracy: 0.88 - ETA: 2s - loss: 0.3191 - accuracy: 0.88 - ETA: 2s - loss: 0.3181 - accuracy: 0.88 - ETA: 2s - loss: 0.3190 - accuracy: 0.88 - ETA: 1s - loss: 0.3186 - accuracy: 0.88 - ETA: 1s - loss: 0.3198 - accuracy: 0.88 - ETA: 1s - loss: 0.3199 - accuracy: 0.88 - ETA: 1s - loss: 0.3204 - accuracy: 0.88 - ETA: 1s - loss: 0.3207 - accuracy: 0.88 - ETA: 1s - loss: 0.3211 - accuracy: 0.88 - ETA: 1s - loss: 0.3212 - accuracy: 0.88 - ETA: 1s - loss: 0.3212 - accuracy: 0.88 - ETA: 1s - loss: 0.3210 - accuracy: 0.88 - ETA: 1s - loss: 0.3209 - accuracy: 0.88 - ETA: 1s - loss: 0.3200 - accuracy: 0.88 - ETA: 1s - loss: 0.3197 - accuracy: 0.88 - ETA: 1s - loss: 0.3185 - accuracy: 0.88 - ETA: 1s - loss: 0.3191 - accuracy: 0.88 - ETA: 1s - loss: 0.3181 - accuracy: 0.88 - ETA: 0s - loss: 0.3186 - accuracy: 0.88 - ETA: 0s - loss: 0.3192 - accuracy: 0.88 - ETA: 0s - loss: 0.3188 - accuracy: 0.88 - ETA: 0s - loss: 0.3199 - accuracy: 0.88 - ETA: 0s - loss: 0.3199 - accuracy: 0.88 - ETA: 0s - loss: 0.3194 - accuracy: 0.88 - ETA: 0s - loss: 0.3188 - accuracy: 0.88 - ETA: 0s - loss: 0.3183 - accuracy: 0.88 - ETA: 0s - loss: 0.3179 - accuracy: 0.88 - ETA: 0s - loss: 0.3184 - accuracy: 0.88 - ETA: 0s - loss: 0.3181 - accuracy: 0.88 - ETA: 0s - loss: 0.3183 - accuracy: 0.88 - ETA: 0s - loss: 0.3186 - accuracy: 0.88 - ETA: 0s - loss: 0.3184 - accuracy: 0.88 - ETA: 0s - loss: 0.3179 - accuracy: 0.88 - ETA: 0s - loss: 0.3185 - accuracy: 0.88 - ETA: 0s - loss: 0.3184 - accuracy: 0.88 - 4s 2ms/step - loss: 0.3178 - accuracy: 0.8873 - val_loss: 0.3680 - val_accuracy: 0.8682\n",
      "Epoch 9/10\n"
     ]
    },
    {
     "name": "stdout",
     "output_type": "stream",
     "text": [
      "1875/1875 [==============================] - ETA: 0s - loss: 0.2571 - accuracy: 0.84 - ETA: 4s - loss: 0.2774 - accuracy: 0.89 - ETA: 4s - loss: 0.3206 - accuracy: 0.88 - ETA: 3s - loss: 0.3266 - accuracy: 0.88 - ETA: 3s - loss: 0.3273 - accuracy: 0.88 - ETA: 3s - loss: 0.3320 - accuracy: 0.88 - ETA: 3s - loss: 0.3219 - accuracy: 0.88 - ETA: 3s - loss: 0.3207 - accuracy: 0.88 - ETA: 3s - loss: 0.3183 - accuracy: 0.88 - ETA: 3s - loss: 0.3197 - accuracy: 0.88 - ETA: 3s - loss: 0.3200 - accuracy: 0.88 - ETA: 3s - loss: 0.3214 - accuracy: 0.88 - ETA: 3s - loss: 0.3219 - accuracy: 0.88 - ETA: 3s - loss: 0.3215 - accuracy: 0.88 - ETA: 3s - loss: 0.3223 - accuracy: 0.88 - ETA: 3s - loss: 0.3217 - accuracy: 0.88 - ETA: 3s - loss: 0.3187 - accuracy: 0.88 - ETA: 3s - loss: 0.3179 - accuracy: 0.88 - ETA: 3s - loss: 0.3158 - accuracy: 0.88 - ETA: 3s - loss: 0.3161 - accuracy: 0.88 - ETA: 3s - loss: 0.3162 - accuracy: 0.88 - ETA: 3s - loss: 0.3164 - accuracy: 0.88 - ETA: 3s - loss: 0.3174 - accuracy: 0.88 - ETA: 3s - loss: 0.3151 - accuracy: 0.88 - ETA: 3s - loss: 0.3133 - accuracy: 0.88 - ETA: 3s - loss: 0.3121 - accuracy: 0.88 - ETA: 3s - loss: 0.3111 - accuracy: 0.88 - ETA: 3s - loss: 0.3114 - accuracy: 0.88 - ETA: 3s - loss: 0.3110 - accuracy: 0.88 - ETA: 3s - loss: 0.3097 - accuracy: 0.88 - ETA: 3s - loss: 0.3098 - accuracy: 0.88 - ETA: 2s - loss: 0.3102 - accuracy: 0.88 - ETA: 2s - loss: 0.3094 - accuracy: 0.88 - ETA: 2s - loss: 0.3092 - accuracy: 0.88 - ETA: 2s - loss: 0.3086 - accuracy: 0.89 - ETA: 2s - loss: 0.3082 - accuracy: 0.89 - ETA: 2s - loss: 0.3091 - accuracy: 0.89 - ETA: 2s - loss: 0.3097 - accuracy: 0.88 - ETA: 2s - loss: 0.3102 - accuracy: 0.89 - ETA: 2s - loss: 0.3113 - accuracy: 0.88 - ETA: 2s - loss: 0.3123 - accuracy: 0.88 - ETA: 2s - loss: 0.3120 - accuracy: 0.88 - ETA: 2s - loss: 0.3125 - accuracy: 0.88 - ETA: 2s - loss: 0.3122 - accuracy: 0.88 - ETA: 2s - loss: 0.3123 - accuracy: 0.88 - ETA: 1s - loss: 0.3120 - accuracy: 0.88 - ETA: 1s - loss: 0.3108 - accuracy: 0.88 - ETA: 1s - loss: 0.3106 - accuracy: 0.88 - ETA: 1s - loss: 0.3102 - accuracy: 0.89 - ETA: 1s - loss: 0.3083 - accuracy: 0.89 - ETA: 1s - loss: 0.3074 - accuracy: 0.89 - ETA: 1s - loss: 0.3075 - accuracy: 0.89 - ETA: 1s - loss: 0.3068 - accuracy: 0.89 - ETA: 1s - loss: 0.3070 - accuracy: 0.89 - ETA: 1s - loss: 0.3073 - accuracy: 0.89 - ETA: 1s - loss: 0.3068 - accuracy: 0.89 - ETA: 1s - loss: 0.3069 - accuracy: 0.89 - ETA: 1s - loss: 0.3078 - accuracy: 0.89 - ETA: 1s - loss: 0.3080 - accuracy: 0.89 - ETA: 1s - loss: 0.3077 - accuracy: 0.89 - ETA: 1s - loss: 0.3075 - accuracy: 0.89 - ETA: 1s - loss: 0.3074 - accuracy: 0.89 - ETA: 1s - loss: 0.3077 - accuracy: 0.89 - ETA: 1s - loss: 0.3079 - accuracy: 0.89 - ETA: 1s - loss: 0.3075 - accuracy: 0.89 - ETA: 0s - loss: 0.3077 - accuracy: 0.89 - ETA: 0s - loss: 0.3086 - accuracy: 0.89 - ETA: 0s - loss: 0.3084 - accuracy: 0.89 - ETA: 0s - loss: 0.3084 - accuracy: 0.89 - ETA: 0s - loss: 0.3085 - accuracy: 0.89 - ETA: 0s - loss: 0.3084 - accuracy: 0.89 - ETA: 0s - loss: 0.3081 - accuracy: 0.89 - ETA: 0s - loss: 0.3080 - accuracy: 0.89 - ETA: 0s - loss: 0.3085 - accuracy: 0.88 - ETA: 0s - loss: 0.3081 - accuracy: 0.89 - ETA: 0s - loss: 0.3077 - accuracy: 0.89 - ETA: 0s - loss: 0.3074 - accuracy: 0.89 - ETA: 0s - loss: 0.3067 - accuracy: 0.89 - ETA: 0s - loss: 0.3069 - accuracy: 0.89 - ETA: 0s - loss: 0.3069 - accuracy: 0.89 - ETA: 0s - loss: 0.3070 - accuracy: 0.89 - ETA: 0s - loss: 0.3073 - accuracy: 0.89 - ETA: 0s - loss: 0.3073 - accuracy: 0.89 - ETA: 0s - loss: 0.3075 - accuracy: 0.89 - 5s 3ms/step - loss: 0.3076 - accuracy: 0.8901 - val_loss: 0.3561 - val_accuracy: 0.8736\n",
      "Epoch 10/10\n",
      "1875/1875 [==============================] - ETA: 0s - loss: 0.2316 - accuracy: 0.90 - ETA: 3s - loss: 0.3094 - accuracy: 0.88 - ETA: 3s - loss: 0.3032 - accuracy: 0.88 - ETA: 3s - loss: 0.3185 - accuracy: 0.88 - ETA: 3s - loss: 0.3070 - accuracy: 0.89 - ETA: 3s - loss: 0.3048 - accuracy: 0.89 - ETA: 3s - loss: 0.3090 - accuracy: 0.88 - ETA: 3s - loss: 0.3084 - accuracy: 0.88 - ETA: 3s - loss: 0.3063 - accuracy: 0.89 - ETA: 3s - loss: 0.3037 - accuracy: 0.89 - ETA: 3s - loss: 0.3049 - accuracy: 0.89 - ETA: 3s - loss: 0.3035 - accuracy: 0.89 - ETA: 3s - loss: 0.3015 - accuracy: 0.89 - ETA: 3s - loss: 0.3005 - accuracy: 0.89 - ETA: 3s - loss: 0.2984 - accuracy: 0.89 - ETA: 2s - loss: 0.2990 - accuracy: 0.89 - ETA: 2s - loss: 0.3018 - accuracy: 0.89 - ETA: 2s - loss: 0.3014 - accuracy: 0.89 - ETA: 2s - loss: 0.3014 - accuracy: 0.89 - ETA: 2s - loss: 0.3006 - accuracy: 0.89 - ETA: 2s - loss: 0.3005 - accuracy: 0.89 - ETA: 2s - loss: 0.3007 - accuracy: 0.89 - ETA: 2s - loss: 0.3006 - accuracy: 0.89 - ETA: 2s - loss: 0.3006 - accuracy: 0.89 - ETA: 2s - loss: 0.3001 - accuracy: 0.89 - ETA: 2s - loss: 0.3010 - accuracy: 0.89 - ETA: 2s - loss: 0.3002 - accuracy: 0.89 - ETA: 2s - loss: 0.2989 - accuracy: 0.89 - ETA: 2s - loss: 0.3009 - accuracy: 0.89 - ETA: 2s - loss: 0.3002 - accuracy: 0.89 - ETA: 2s - loss: 0.2995 - accuracy: 0.89 - ETA: 2s - loss: 0.2994 - accuracy: 0.89 - ETA: 2s - loss: 0.2986 - accuracy: 0.89 - ETA: 2s - loss: 0.2985 - accuracy: 0.89 - ETA: 2s - loss: 0.2991 - accuracy: 0.89 - ETA: 2s - loss: 0.2985 - accuracy: 0.89 - ETA: 2s - loss: 0.2975 - accuracy: 0.89 - ETA: 2s - loss: 0.2971 - accuracy: 0.89 - ETA: 1s - loss: 0.2982 - accuracy: 0.89 - ETA: 1s - loss: 0.2972 - accuracy: 0.89 - ETA: 1s - loss: 0.2968 - accuracy: 0.89 - ETA: 1s - loss: 0.2973 - accuracy: 0.89 - ETA: 1s - loss: 0.2972 - accuracy: 0.89 - ETA: 1s - loss: 0.2970 - accuracy: 0.89 - ETA: 1s - loss: 0.2970 - accuracy: 0.89 - ETA: 1s - loss: 0.2981 - accuracy: 0.89 - ETA: 1s - loss: 0.2983 - accuracy: 0.89 - ETA: 1s - loss: 0.2985 - accuracy: 0.89 - ETA: 1s - loss: 0.2989 - accuracy: 0.89 - ETA: 1s - loss: 0.2990 - accuracy: 0.89 - ETA: 1s - loss: 0.2988 - accuracy: 0.89 - ETA: 1s - loss: 0.2980 - accuracy: 0.89 - ETA: 1s - loss: 0.2976 - accuracy: 0.89 - ETA: 1s - loss: 0.2983 - accuracy: 0.89 - ETA: 1s - loss: 0.2985 - accuracy: 0.89 - ETA: 1s - loss: 0.2994 - accuracy: 0.89 - ETA: 0s - loss: 0.2993 - accuracy: 0.89 - ETA: 0s - loss: 0.2990 - accuracy: 0.89 - ETA: 0s - loss: 0.2985 - accuracy: 0.89 - ETA: 0s - loss: 0.2981 - accuracy: 0.89 - ETA: 0s - loss: 0.2985 - accuracy: 0.89 - ETA: 0s - loss: 0.2987 - accuracy: 0.89 - ETA: 0s - loss: 0.2991 - accuracy: 0.89 - ETA: 0s - loss: 0.2987 - accuracy: 0.89 - ETA: 0s - loss: 0.2989 - accuracy: 0.89 - ETA: 0s - loss: 0.2992 - accuracy: 0.89 - ETA: 0s - loss: 0.2988 - accuracy: 0.89 - ETA: 0s - loss: 0.2992 - accuracy: 0.89 - ETA: 0s - loss: 0.2989 - accuracy: 0.89 - ETA: 0s - loss: 0.2991 - accuracy: 0.89 - ETA: 0s - loss: 0.2987 - accuracy: 0.89 - ETA: 0s - loss: 0.2990 - accuracy: 0.89 - ETA: 0s - loss: 0.2991 - accuracy: 0.89 - ETA: 0s - loss: 0.2993 - accuracy: 0.89 - ETA: 0s - loss: 0.2995 - accuracy: 0.89 - ETA: 0s - loss: 0.2992 - accuracy: 0.89 - 4s 2ms/step - loss: 0.2991 - accuracy: 0.8928 - val_loss: 0.3556 - val_accuracy: 0.8720\n"
     ]
    },
    {
     "data": {
      "text/html": [
       "<span style=\"color:#4527A0\"><h1 style=\"font-size:18px\">Trial complete</h1></span>"
      ],
      "text/plain": [
       "<IPython.core.display.HTML object>"
      ]
     },
     "metadata": {},
     "output_type": "display_data"
    },
    {
     "data": {
      "text/html": [
       "<span style=\"color:#4527A0\"><h1 style=\"font-size:18px\">Trial summary</h1></span>"
      ],
      "text/plain": [
       "<IPython.core.display.HTML object>"
      ]
     },
     "metadata": {},
     "output_type": "display_data"
    },
    {
     "data": {
      "text/html": [
       "<span style=\"color:cyan\"> |-Trial ID: 207bd617d0ad5804bc2549fc1aad4ad1</span>"
      ],
      "text/plain": [
       "<IPython.core.display.HTML object>"
      ]
     },
     "metadata": {},
     "output_type": "display_data"
    },
    {
     "data": {
      "text/html": [
       "<span style=\"color:cyan\"> |-Score: 0.8736000061035156</span>"
      ],
      "text/plain": [
       "<IPython.core.display.HTML object>"
      ]
     },
     "metadata": {},
     "output_type": "display_data"
    },
    {
     "data": {
      "text/html": [
       "<span style=\"color:cyan\"> |-Best step: 0</span>"
      ],
      "text/plain": [
       "<IPython.core.display.HTML object>"
      ]
     },
     "metadata": {},
     "output_type": "display_data"
    },
    {
     "data": {
      "text/html": [
       "<span style=\"color:#7E57C2\"><h2 style=\"font-size:16px\">Hyperparameters:</h2></span>"
      ],
      "text/plain": [
       "<IPython.core.display.HTML object>"
      ]
     },
     "metadata": {},
     "output_type": "display_data"
    },
    {
     "data": {
      "text/html": [
       "<span style=\"color:cyan\"> |-learning_rate: 0.0001</span>"
      ],
      "text/plain": [
       "<IPython.core.display.HTML object>"
      ]
     },
     "metadata": {},
     "output_type": "display_data"
    },
    {
     "data": {
      "text/html": [
       "<span style=\"color:blue\"> |-tuner/bracket: 0</span>"
      ],
      "text/plain": [
       "<IPython.core.display.HTML object>"
      ]
     },
     "metadata": {},
     "output_type": "display_data"
    },
    {
     "data": {
      "text/html": [
       "<span style=\"color:cyan\"> |-tuner/epochs: 10</span>"
      ],
      "text/plain": [
       "<IPython.core.display.HTML object>"
      ]
     },
     "metadata": {},
     "output_type": "display_data"
    },
    {
     "data": {
      "text/html": [
       "<span style=\"color:blue\"> |-tuner/initial_epoch: 0</span>"
      ],
      "text/plain": [
       "<IPython.core.display.HTML object>"
      ]
     },
     "metadata": {},
     "output_type": "display_data"
    },
    {
     "data": {
      "text/html": [
       "<span style=\"color:cyan\"> |-tuner/round: 0</span>"
      ],
      "text/plain": [
       "<IPython.core.display.HTML object>"
      ]
     },
     "metadata": {},
     "output_type": "display_data"
    },
    {
     "data": {
      "text/html": [
       "<span style=\"color:blue\"> |-units: 320</span>"
      ],
      "text/plain": [
       "<IPython.core.display.HTML object>"
      ]
     },
     "metadata": {},
     "output_type": "display_data"
    },
    {
     "name": "stdout",
     "output_type": "stream",
     "text": [
      "Epoch 1/10\n",
      "   2/1875 [..............................] - ETA: 0s - loss: 2.5256 - accuracy: 0.06 - ETA: 5:16 - loss: 2.4327 - accuracy: 0.0938WARNING:tensorflow:Method (on_train_batch_end) is slow compared to the batch update (0.170978). Check your callbacks.\n",
      "1875/1875 [==============================] - ETA: 42s - loss: 2.1313 - accuracy: 0.2316 - ETA: 26s - loss: 1.9392 - accuracy: 0.378 - ETA: 17s - loss: 1.7352 - accuracy: 0.476 - ETA: 14s - loss: 1.5878 - accuracy: 0.524 - ETA: 12s - loss: 1.4732 - accuracy: 0.557 - ETA: 10s - loss: 1.3871 - accuracy: 0.581 - ETA: 9s - loss: 1.3164 - accuracy: 0.603 - ETA: 9s - loss: 1.2588 - accuracy: 0.62 - ETA: 8s - loss: 1.2125 - accuracy: 0.63 - ETA: 8s - loss: 1.1763 - accuracy: 0.63 - ETA: 7s - loss: 1.1430 - accuracy: 0.64 - ETA: 7s - loss: 1.1153 - accuracy: 0.65 - ETA: 7s - loss: 1.0887 - accuracy: 0.66 - ETA: 7s - loss: 1.0634 - accuracy: 0.67 - ETA: 6s - loss: 1.0398 - accuracy: 0.67 - ETA: 6s - loss: 1.0178 - accuracy: 0.68 - ETA: 6s - loss: 0.9987 - accuracy: 0.68 - ETA: 6s - loss: 0.9849 - accuracy: 0.69 - ETA: 6s - loss: 0.9690 - accuracy: 0.69 - ETA: 6s - loss: 0.9529 - accuracy: 0.70 - ETA: 6s - loss: 0.9394 - accuracy: 0.70 - ETA: 5s - loss: 0.9267 - accuracy: 0.70 - ETA: 5s - loss: 0.9131 - accuracy: 0.71 - ETA: 5s - loss: 0.9020 - accuracy: 0.71 - ETA: 5s - loss: 0.8930 - accuracy: 0.71 - ETA: 5s - loss: 0.8831 - accuracy: 0.72 - ETA: 5s - loss: 0.8736 - accuracy: 0.72 - ETA: 5s - loss: 0.8655 - accuracy: 0.72 - ETA: 5s - loss: 0.8573 - accuracy: 0.73 - ETA: 5s - loss: 0.8497 - accuracy: 0.73 - ETA: 5s - loss: 0.8434 - accuracy: 0.73 - ETA: 4s - loss: 0.8360 - accuracy: 0.73 - ETA: 4s - loss: 0.8297 - accuracy: 0.73 - ETA: 4s - loss: 0.8219 - accuracy: 0.74 - ETA: 4s - loss: 0.8154 - accuracy: 0.74 - ETA: 4s - loss: 0.8090 - accuracy: 0.74 - ETA: 4s - loss: 0.8019 - accuracy: 0.74 - ETA: 4s - loss: 0.7961 - accuracy: 0.74 - ETA: 4s - loss: 0.7909 - accuracy: 0.74 - ETA: 4s - loss: 0.7859 - accuracy: 0.75 - ETA: 4s - loss: 0.7815 - accuracy: 0.75 - ETA: 4s - loss: 0.7762 - accuracy: 0.75 - ETA: 4s - loss: 0.7726 - accuracy: 0.75 - ETA: 4s - loss: 0.7694 - accuracy: 0.75 - ETA: 4s - loss: 0.7653 - accuracy: 0.75 - ETA: 3s - loss: 0.7604 - accuracy: 0.75 - ETA: 3s - loss: 0.7559 - accuracy: 0.75 - ETA: 3s - loss: 0.7507 - accuracy: 0.76 - ETA: 3s - loss: 0.7466 - accuracy: 0.76 - ETA: 3s - loss: 0.7424 - accuracy: 0.76 - ETA: 3s - loss: 0.7380 - accuracy: 0.76 - ETA: 3s - loss: 0.7338 - accuracy: 0.76 - ETA: 3s - loss: 0.7298 - accuracy: 0.76 - ETA: 3s - loss: 0.7259 - accuracy: 0.76 - ETA: 3s - loss: 0.7236 - accuracy: 0.76 - ETA: 3s - loss: 0.7206 - accuracy: 0.77 - ETA: 3s - loss: 0.7171 - accuracy: 0.77 - ETA: 3s - loss: 0.7145 - accuracy: 0.77 - ETA: 3s - loss: 0.7126 - accuracy: 0.77 - ETA: 3s - loss: 0.7101 - accuracy: 0.77 - ETA: 3s - loss: 0.7075 - accuracy: 0.77 - ETA: 3s - loss: 0.7053 - accuracy: 0.77 - ETA: 2s - loss: 0.7030 - accuracy: 0.77 - ETA: 2s - loss: 0.6996 - accuracy: 0.77 - ETA: 2s - loss: 0.6959 - accuracy: 0.77 - ETA: 2s - loss: 0.6930 - accuracy: 0.77 - ETA: 2s - loss: 0.6908 - accuracy: 0.77 - ETA: 2s - loss: 0.6882 - accuracy: 0.77 - ETA: 2s - loss: 0.6858 - accuracy: 0.77 - ETA: 2s - loss: 0.6828 - accuracy: 0.78 - ETA: 2s - loss: 0.6804 - accuracy: 0.78 - ETA: 2s - loss: 0.6776 - accuracy: 0.78 - ETA: 2s - loss: 0.6750 - accuracy: 0.78 - ETA: 2s - loss: 0.6727 - accuracy: 0.78 - ETA: 2s - loss: 0.6701 - accuracy: 0.78 - ETA: 2s - loss: 0.6683 - accuracy: 0.78 - ETA: 2s - loss: 0.6656 - accuracy: 0.78 - ETA: 2s - loss: 0.6631 - accuracy: 0.78 - ETA: 2s - loss: 0.6601 - accuracy: 0.78 - ETA: 2s - loss: 0.6586 - accuracy: 0.78 - ETA: 1s - loss: 0.6563 - accuracy: 0.78 - ETA: 1s - loss: 0.6545 - accuracy: 0.78 - ETA: 1s - loss: 0.6524 - accuracy: 0.78 - ETA: 1s - loss: 0.6507 - accuracy: 0.79 - ETA: 1s - loss: 0.6491 - accuracy: 0.79 - ETA: 1s - loss: 0.6479 - accuracy: 0.79 - ETA: 1s - loss: 0.6452 - accuracy: 0.79 - ETA: 1s - loss: 0.6427 - accuracy: 0.79 - ETA: 1s - loss: 0.6407 - accuracy: 0.79 - ETA: 1s - loss: 0.6386 - accuracy: 0.79 - ETA: 1s - loss: 0.6369 - accuracy: 0.79 - ETA: 1s - loss: 0.6355 - accuracy: 0.79 - ETA: 1s - loss: 0.6336 - accuracy: 0.79 - ETA: 1s - loss: 0.6323 - accuracy: 0.79 - ETA: 1s - loss: 0.6309 - accuracy: 0.79 - ETA: 1s - loss: 0.6291 - accuracy: 0.79 - ETA: 1s - loss: 0.6277 - accuracy: 0.79 - ETA: 0s - loss: 0.6255 - accuracy: 0.79 - ETA: 0s - loss: 0.6242 - accuracy: 0.79 - ETA: 0s - loss: 0.6232 - accuracy: 0.79 - ETA: 0s - loss: 0.6211 - accuracy: 0.79 - ETA: 0s - loss: 0.6192 - accuracy: 0.79 - ETA: 0s - loss: 0.6172 - accuracy: 0.79 - ETA: 0s - loss: 0.6155 - accuracy: 0.79 - ETA: 0s - loss: 0.6134 - accuracy: 0.80 - ETA: 0s - loss: 0.6119 - accuracy: 0.80 - ETA: 0s - loss: 0.6103 - accuracy: 0.80 - ETA: 0s - loss: 0.6088 - accuracy: 0.80 - ETA: 0s - loss: 0.6082 - accuracy: 0.80 - ETA: 0s - loss: 0.6070 - accuracy: 0.80 - ETA: 0s - loss: 0.6060 - accuracy: 0.80 - ETA: 0s - loss: 0.6043 - accuracy: 0.80 - ETA: 0s - loss: 0.6036 - accuracy: 0.80 - ETA: 0s - loss: 0.6027 - accuracy: 0.80 - 7s 4ms/step - loss: 0.6017 - accuracy: 0.8028 - val_loss: 0.4819 - val_accuracy: 0.8352\n",
      "Epoch 2/10\n"
     ]
    },
    {
     "name": "stdout",
     "output_type": "stream",
     "text": [
      "1875/1875 [==============================] - ETA: 0s - loss: 0.2161 - accuracy: 0.96 - ETA: 5s - loss: 0.4638 - accuracy: 0.84 - ETA: 5s - loss: 0.4369 - accuracy: 0.85 - ETA: 5s - loss: 0.4321 - accuracy: 0.85 - ETA: 5s - loss: 0.4281 - accuracy: 0.85 - ETA: 5s - loss: 0.4219 - accuracy: 0.85 - ETA: 5s - loss: 0.4234 - accuracy: 0.86 - ETA: 5s - loss: 0.4277 - accuracy: 0.85 - ETA: 5s - loss: 0.4308 - accuracy: 0.85 - ETA: 5s - loss: 0.4378 - accuracy: 0.85 - ETA: 5s - loss: 0.4432 - accuracy: 0.84 - ETA: 5s - loss: 0.4467 - accuracy: 0.84 - ETA: 5s - loss: 0.4432 - accuracy: 0.84 - ETA: 5s - loss: 0.4371 - accuracy: 0.85 - ETA: 5s - loss: 0.4381 - accuracy: 0.85 - ETA: 5s - loss: 0.4391 - accuracy: 0.85 - ETA: 4s - loss: 0.4407 - accuracy: 0.84 - ETA: 4s - loss: 0.4412 - accuracy: 0.84 - ETA: 4s - loss: 0.4425 - accuracy: 0.84 - ETA: 4s - loss: 0.4405 - accuracy: 0.84 - ETA: 4s - loss: 0.4395 - accuracy: 0.84 - ETA: 4s - loss: 0.4426 - accuracy: 0.84 - ETA: 4s - loss: 0.4445 - accuracy: 0.84 - ETA: 4s - loss: 0.4456 - accuracy: 0.84 - ETA: 4s - loss: 0.4446 - accuracy: 0.84 - ETA: 4s - loss: 0.4460 - accuracy: 0.84 - ETA: 4s - loss: 0.4461 - accuracy: 0.84 - ETA: 4s - loss: 0.4463 - accuracy: 0.84 - ETA: 4s - loss: 0.4465 - accuracy: 0.84 - ETA: 4s - loss: 0.4445 - accuracy: 0.84 - ETA: 4s - loss: 0.4432 - accuracy: 0.84 - ETA: 4s - loss: 0.4432 - accuracy: 0.84 - ETA: 4s - loss: 0.4420 - accuracy: 0.84 - ETA: 4s - loss: 0.4406 - accuracy: 0.85 - ETA: 4s - loss: 0.4416 - accuracy: 0.84 - ETA: 4s - loss: 0.4412 - accuracy: 0.84 - ETA: 4s - loss: 0.4410 - accuracy: 0.84 - ETA: 4s - loss: 0.4398 - accuracy: 0.84 - ETA: 4s - loss: 0.4406 - accuracy: 0.84 - ETA: 4s - loss: 0.4404 - accuracy: 0.84 - ETA: 4s - loss: 0.4400 - accuracy: 0.84 - ETA: 4s - loss: 0.4400 - accuracy: 0.84 - ETA: 4s - loss: 0.4385 - accuracy: 0.85 - ETA: 3s - loss: 0.4390 - accuracy: 0.85 - ETA: 3s - loss: 0.4386 - accuracy: 0.85 - ETA: 3s - loss: 0.4387 - accuracy: 0.85 - ETA: 3s - loss: 0.4390 - accuracy: 0.85 - ETA: 3s - loss: 0.4402 - accuracy: 0.85 - ETA: 3s - loss: 0.4389 - accuracy: 0.85 - ETA: 3s - loss: 0.4379 - accuracy: 0.85 - ETA: 3s - loss: 0.4387 - accuracy: 0.85 - ETA: 3s - loss: 0.4385 - accuracy: 0.85 - ETA: 3s - loss: 0.4382 - accuracy: 0.85 - ETA: 3s - loss: 0.4377 - accuracy: 0.85 - ETA: 3s - loss: 0.4379 - accuracy: 0.85 - ETA: 3s - loss: 0.4366 - accuracy: 0.85 - ETA: 3s - loss: 0.4358 - accuracy: 0.85 - ETA: 3s - loss: 0.4353 - accuracy: 0.85 - ETA: 2s - loss: 0.4348 - accuracy: 0.85 - ETA: 2s - loss: 0.4343 - accuracy: 0.85 - ETA: 2s - loss: 0.4349 - accuracy: 0.85 - ETA: 2s - loss: 0.4358 - accuracy: 0.85 - ETA: 2s - loss: 0.4357 - accuracy: 0.85 - ETA: 2s - loss: 0.4353 - accuracy: 0.85 - ETA: 2s - loss: 0.4352 - accuracy: 0.85 - ETA: 2s - loss: 0.4338 - accuracy: 0.85 - ETA: 2s - loss: 0.4345 - accuracy: 0.85 - ETA: 2s - loss: 0.4343 - accuracy: 0.85 - ETA: 2s - loss: 0.4348 - accuracy: 0.85 - ETA: 2s - loss: 0.4344 - accuracy: 0.85 - ETA: 2s - loss: 0.4334 - accuracy: 0.85 - ETA: 2s - loss: 0.4326 - accuracy: 0.85 - ETA: 2s - loss: 0.4325 - accuracy: 0.85 - ETA: 2s - loss: 0.4324 - accuracy: 0.85 - ETA: 2s - loss: 0.4326 - accuracy: 0.85 - ETA: 2s - loss: 0.4326 - accuracy: 0.85 - ETA: 1s - loss: 0.4328 - accuracy: 0.85 - ETA: 1s - loss: 0.4343 - accuracy: 0.85 - ETA: 1s - loss: 0.4329 - accuracy: 0.85 - ETA: 1s - loss: 0.4322 - accuracy: 0.85 - ETA: 1s - loss: 0.4318 - accuracy: 0.85 - ETA: 1s - loss: 0.4325 - accuracy: 0.85 - ETA: 1s - loss: 0.4329 - accuracy: 0.85 - ETA: 1s - loss: 0.4328 - accuracy: 0.85 - ETA: 1s - loss: 0.4330 - accuracy: 0.85 - ETA: 1s - loss: 0.4326 - accuracy: 0.85 - ETA: 1s - loss: 0.4327 - accuracy: 0.85 - ETA: 1s - loss: 0.4323 - accuracy: 0.85 - ETA: 1s - loss: 0.4323 - accuracy: 0.85 - ETA: 1s - loss: 0.4314 - accuracy: 0.85 - ETA: 1s - loss: 0.4308 - accuracy: 0.85 - ETA: 1s - loss: 0.4304 - accuracy: 0.85 - ETA: 1s - loss: 0.4304 - accuracy: 0.85 - ETA: 1s - loss: 0.4300 - accuracy: 0.85 - ETA: 1s - loss: 0.4304 - accuracy: 0.85 - ETA: 1s - loss: 0.4306 - accuracy: 0.85 - ETA: 0s - loss: 0.4313 - accuracy: 0.85 - ETA: 0s - loss: 0.4316 - accuracy: 0.85 - ETA: 0s - loss: 0.4316 - accuracy: 0.85 - ETA: 0s - loss: 0.4314 - accuracy: 0.85 - ETA: 0s - loss: 0.4315 - accuracy: 0.85 - ETA: 0s - loss: 0.4315 - accuracy: 0.85 - ETA: 0s - loss: 0.4316 - accuracy: 0.85 - ETA: 0s - loss: 0.4314 - accuracy: 0.85 - ETA: 0s - loss: 0.4317 - accuracy: 0.85 - ETA: 0s - loss: 0.4314 - accuracy: 0.85 - ETA: 0s - loss: 0.4308 - accuracy: 0.85 - ETA: 0s - loss: 0.4307 - accuracy: 0.85 - ETA: 0s - loss: 0.4308 - accuracy: 0.85 - ETA: 0s - loss: 0.4307 - accuracy: 0.85 - ETA: 0s - loss: 0.4301 - accuracy: 0.85 - ETA: 0s - loss: 0.4296 - accuracy: 0.85 - ETA: 0s - loss: 0.4300 - accuracy: 0.85 - ETA: 0s - loss: 0.4296 - accuracy: 0.85 - 6s 3ms/step - loss: 0.4299 - accuracy: 0.8522 - val_loss: 0.4287 - val_accuracy: 0.8498\n",
      "Epoch 3/10\n"
     ]
    },
    {
     "name": "stdout",
     "output_type": "stream",
     "text": [
      "1875/1875 [==============================] - ETA: 0s - loss: 0.6945 - accuracy: 0.84 - ETA: 6s - loss: 0.4051 - accuracy: 0.88 - ETA: 6s - loss: 0.4014 - accuracy: 0.86 - ETA: 6s - loss: 0.3994 - accuracy: 0.86 - ETA: 6s - loss: 0.4030 - accuracy: 0.86 - ETA: 6s - loss: 0.4013 - accuracy: 0.86 - ETA: 6s - loss: 0.4034 - accuracy: 0.86 - ETA: 6s - loss: 0.4092 - accuracy: 0.85 - ETA: 6s - loss: 0.4141 - accuracy: 0.85 - ETA: 6s - loss: 0.4062 - accuracy: 0.85 - ETA: 6s - loss: 0.4055 - accuracy: 0.85 - ETA: 5s - loss: 0.4038 - accuracy: 0.85 - ETA: 5s - loss: 0.4042 - accuracy: 0.85 - ETA: 5s - loss: 0.3974 - accuracy: 0.86 - ETA: 5s - loss: 0.3974 - accuracy: 0.86 - ETA: 5s - loss: 0.4000 - accuracy: 0.86 - ETA: 5s - loss: 0.3993 - accuracy: 0.86 - ETA: 5s - loss: 0.4040 - accuracy: 0.85 - ETA: 5s - loss: 0.4008 - accuracy: 0.85 - ETA: 5s - loss: 0.3997 - accuracy: 0.86 - ETA: 5s - loss: 0.4008 - accuracy: 0.85 - ETA: 5s - loss: 0.3977 - accuracy: 0.86 - ETA: 5s - loss: 0.3959 - accuracy: 0.86 - ETA: 5s - loss: 0.3930 - accuracy: 0.86 - ETA: 5s - loss: 0.3911 - accuracy: 0.86 - ETA: 5s - loss: 0.3928 - accuracy: 0.86 - ETA: 5s - loss: 0.3927 - accuracy: 0.86 - ETA: 4s - loss: 0.3923 - accuracy: 0.86 - ETA: 4s - loss: 0.3946 - accuracy: 0.86 - ETA: 4s - loss: 0.3937 - accuracy: 0.86 - ETA: 4s - loss: 0.3935 - accuracy: 0.86 - ETA: 4s - loss: 0.3921 - accuracy: 0.86 - ETA: 4s - loss: 0.3926 - accuracy: 0.86 - ETA: 4s - loss: 0.3925 - accuracy: 0.86 - ETA: 4s - loss: 0.3913 - accuracy: 0.86 - ETA: 4s - loss: 0.3910 - accuracy: 0.86 - ETA: 4s - loss: 0.3900 - accuracy: 0.86 - ETA: 4s - loss: 0.3891 - accuracy: 0.86 - ETA: 4s - loss: 0.3891 - accuracy: 0.86 - ETA: 4s - loss: 0.3892 - accuracy: 0.86 - ETA: 4s - loss: 0.3890 - accuracy: 0.86 - ETA: 4s - loss: 0.3885 - accuracy: 0.86 - ETA: 3s - loss: 0.3886 - accuracy: 0.86 - ETA: 3s - loss: 0.3888 - accuracy: 0.86 - ETA: 3s - loss: 0.3889 - accuracy: 0.86 - ETA: 3s - loss: 0.3885 - accuracy: 0.86 - ETA: 3s - loss: 0.3895 - accuracy: 0.86 - ETA: 3s - loss: 0.3892 - accuracy: 0.86 - ETA: 3s - loss: 0.3881 - accuracy: 0.86 - ETA: 3s - loss: 0.3882 - accuracy: 0.86 - ETA: 3s - loss: 0.3891 - accuracy: 0.86 - ETA: 3s - loss: 0.3904 - accuracy: 0.86 - ETA: 3s - loss: 0.3914 - accuracy: 0.86 - ETA: 3s - loss: 0.3915 - accuracy: 0.86 - ETA: 3s - loss: 0.3913 - accuracy: 0.86 - ETA: 3s - loss: 0.3931 - accuracy: 0.86 - ETA: 3s - loss: 0.3935 - accuracy: 0.86 - ETA: 2s - loss: 0.3934 - accuracy: 0.86 - ETA: 2s - loss: 0.3922 - accuracy: 0.86 - ETA: 2s - loss: 0.3924 - accuracy: 0.86 - ETA: 2s - loss: 0.3936 - accuracy: 0.86 - ETA: 2s - loss: 0.3941 - accuracy: 0.86 - ETA: 2s - loss: 0.3934 - accuracy: 0.86 - ETA: 2s - loss: 0.3931 - accuracy: 0.86 - ETA: 2s - loss: 0.3934 - accuracy: 0.86 - ETA: 2s - loss: 0.3939 - accuracy: 0.86 - ETA: 2s - loss: 0.3946 - accuracy: 0.86 - ETA: 2s - loss: 0.3943 - accuracy: 0.86 - ETA: 2s - loss: 0.3935 - accuracy: 0.86 - ETA: 2s - loss: 0.3934 - accuracy: 0.86 - ETA: 2s - loss: 0.3940 - accuracy: 0.86 - ETA: 2s - loss: 0.3935 - accuracy: 0.86 - ETA: 2s - loss: 0.3937 - accuracy: 0.86 - ETA: 1s - loss: 0.3932 - accuracy: 0.86 - ETA: 1s - loss: 0.3926 - accuracy: 0.86 - ETA: 1s - loss: 0.3920 - accuracy: 0.86 - ETA: 1s - loss: 0.3913 - accuracy: 0.86 - ETA: 1s - loss: 0.3904 - accuracy: 0.86 - ETA: 1s - loss: 0.3909 - accuracy: 0.86 - ETA: 1s - loss: 0.3909 - accuracy: 0.86 - ETA: 1s - loss: 0.3911 - accuracy: 0.86 - ETA: 1s - loss: 0.3916 - accuracy: 0.86 - ETA: 1s - loss: 0.3909 - accuracy: 0.86 - ETA: 1s - loss: 0.3901 - accuracy: 0.86 - ETA: 1s - loss: 0.3899 - accuracy: 0.86 - ETA: 1s - loss: 0.3905 - accuracy: 0.86 - ETA: 1s - loss: 0.3898 - accuracy: 0.86 - ETA: 1s - loss: 0.3895 - accuracy: 0.86 - ETA: 1s - loss: 0.3890 - accuracy: 0.86 - ETA: 1s - loss: 0.3891 - accuracy: 0.86 - ETA: 1s - loss: 0.3898 - accuracy: 0.86 - ETA: 1s - loss: 0.3899 - accuracy: 0.86 - ETA: 0s - loss: 0.3900 - accuracy: 0.86 - ETA: 0s - loss: 0.3898 - accuracy: 0.86 - ETA: 0s - loss: 0.3899 - accuracy: 0.86 - ETA: 0s - loss: 0.3893 - accuracy: 0.86 - ETA: 0s - loss: 0.3885 - accuracy: 0.86 - ETA: 0s - loss: 0.3891 - accuracy: 0.86 - ETA: 0s - loss: 0.3893 - accuracy: 0.86 - ETA: 0s - loss: 0.3894 - accuracy: 0.86 - ETA: 0s - loss: 0.3888 - accuracy: 0.86 - ETA: 0s - loss: 0.3889 - accuracy: 0.86 - ETA: 0s - loss: 0.3889 - accuracy: 0.86 - ETA: 0s - loss: 0.3884 - accuracy: 0.86 - ETA: 0s - loss: 0.3884 - accuracy: 0.86 - ETA: 0s - loss: 0.3880 - accuracy: 0.86 - ETA: 0s - loss: 0.3885 - accuracy: 0.86 - ETA: 0s - loss: 0.3884 - accuracy: 0.86 - ETA: 0s - loss: 0.3886 - accuracy: 0.86 - ETA: 0s - loss: 0.3884 - accuracy: 0.86 - ETA: 0s - loss: 0.3882 - accuracy: 0.86 - 6s 3ms/step - loss: 0.3880 - accuracy: 0.8645 - val_loss: 0.4148 - val_accuracy: 0.8535\n",
      "Epoch 4/10\n"
     ]
    },
    {
     "name": "stdout",
     "output_type": "stream",
     "text": [
      "1875/1875 [==============================] - ETA: 0s - loss: 0.2623 - accuracy: 0.87 - ETA: 5s - loss: 0.3806 - accuracy: 0.86 - ETA: 6s - loss: 0.3632 - accuracy: 0.87 - ETA: 5s - loss: 0.3646 - accuracy: 0.87 - ETA: 5s - loss: 0.3638 - accuracy: 0.87 - ETA: 5s - loss: 0.3720 - accuracy: 0.87 - ETA: 5s - loss: 0.3700 - accuracy: 0.87 - ETA: 5s - loss: 0.3676 - accuracy: 0.87 - ETA: 5s - loss: 0.3685 - accuracy: 0.87 - ETA: 5s - loss: 0.3685 - accuracy: 0.87 - ETA: 5s - loss: 0.3649 - accuracy: 0.87 - ETA: 5s - loss: 0.3612 - accuracy: 0.87 - ETA: 5s - loss: 0.3632 - accuracy: 0.87 - ETA: 5s - loss: 0.3661 - accuracy: 0.87 - ETA: 5s - loss: 0.3649 - accuracy: 0.87 - ETA: 5s - loss: 0.3621 - accuracy: 0.87 - ETA: 5s - loss: 0.3636 - accuracy: 0.87 - ETA: 5s - loss: 0.3653 - accuracy: 0.87 - ETA: 5s - loss: 0.3633 - accuracy: 0.87 - ETA: 5s - loss: 0.3646 - accuracy: 0.87 - ETA: 4s - loss: 0.3658 - accuracy: 0.87 - ETA: 4s - loss: 0.3659 - accuracy: 0.87 - ETA: 4s - loss: 0.3669 - accuracy: 0.87 - ETA: 4s - loss: 0.3668 - accuracy: 0.87 - ETA: 4s - loss: 0.3670 - accuracy: 0.87 - ETA: 4s - loss: 0.3691 - accuracy: 0.87 - ETA: 4s - loss: 0.3676 - accuracy: 0.87 - ETA: 4s - loss: 0.3673 - accuracy: 0.87 - ETA: 4s - loss: 0.3686 - accuracy: 0.87 - ETA: 4s - loss: 0.3698 - accuracy: 0.87 - ETA: 4s - loss: 0.3707 - accuracy: 0.86 - ETA: 4s - loss: 0.3724 - accuracy: 0.86 - ETA: 4s - loss: 0.3743 - accuracy: 0.86 - ETA: 4s - loss: 0.3743 - accuracy: 0.86 - ETA: 4s - loss: 0.3758 - accuracy: 0.86 - ETA: 4s - loss: 0.3748 - accuracy: 0.86 - ETA: 4s - loss: 0.3743 - accuracy: 0.86 - ETA: 4s - loss: 0.3734 - accuracy: 0.86 - ETA: 4s - loss: 0.3728 - accuracy: 0.86 - ETA: 3s - loss: 0.3714 - accuracy: 0.86 - ETA: 3s - loss: 0.3699 - accuracy: 0.86 - ETA: 3s - loss: 0.3694 - accuracy: 0.86 - ETA: 3s - loss: 0.3682 - accuracy: 0.86 - ETA: 3s - loss: 0.3680 - accuracy: 0.87 - ETA: 3s - loss: 0.3682 - accuracy: 0.87 - ETA: 3s - loss: 0.3683 - accuracy: 0.87 - ETA: 3s - loss: 0.3676 - accuracy: 0.87 - ETA: 3s - loss: 0.3673 - accuracy: 0.87 - ETA: 3s - loss: 0.3673 - accuracy: 0.87 - ETA: 3s - loss: 0.3683 - accuracy: 0.87 - ETA: 3s - loss: 0.3679 - accuracy: 0.87 - ETA: 3s - loss: 0.3697 - accuracy: 0.87 - ETA: 3s - loss: 0.3696 - accuracy: 0.87 - ETA: 3s - loss: 0.3684 - accuracy: 0.87 - ETA: 3s - loss: 0.3686 - accuracy: 0.87 - ETA: 2s - loss: 0.3684 - accuracy: 0.87 - ETA: 2s - loss: 0.3679 - accuracy: 0.87 - ETA: 2s - loss: 0.3681 - accuracy: 0.87 - ETA: 2s - loss: 0.3671 - accuracy: 0.87 - ETA: 2s - loss: 0.3669 - accuracy: 0.87 - ETA: 2s - loss: 0.3677 - accuracy: 0.87 - ETA: 2s - loss: 0.3680 - accuracy: 0.87 - ETA: 2s - loss: 0.3682 - accuracy: 0.87 - ETA: 2s - loss: 0.3676 - accuracy: 0.87 - ETA: 2s - loss: 0.3685 - accuracy: 0.87 - ETA: 2s - loss: 0.3681 - accuracy: 0.87 - ETA: 2s - loss: 0.3681 - accuracy: 0.87 - ETA: 2s - loss: 0.3672 - accuracy: 0.87 - ETA: 2s - loss: 0.3677 - accuracy: 0.87 - ETA: 2s - loss: 0.3680 - accuracy: 0.87 - ETA: 2s - loss: 0.3672 - accuracy: 0.87 - ETA: 2s - loss: 0.3672 - accuracy: 0.87 - ETA: 1s - loss: 0.3667 - accuracy: 0.87 - ETA: 1s - loss: 0.3662 - accuracy: 0.87 - ETA: 1s - loss: 0.3664 - accuracy: 0.87 - ETA: 1s - loss: 0.3661 - accuracy: 0.87 - ETA: 1s - loss: 0.3667 - accuracy: 0.87 - ETA: 1s - loss: 0.3665 - accuracy: 0.87 - ETA: 1s - loss: 0.3665 - accuracy: 0.87 - ETA: 1s - loss: 0.3663 - accuracy: 0.87 - ETA: 1s - loss: 0.3662 - accuracy: 0.87 - ETA: 1s - loss: 0.3664 - accuracy: 0.87 - ETA: 1s - loss: 0.3669 - accuracy: 0.87 - ETA: 1s - loss: 0.3669 - accuracy: 0.87 - ETA: 1s - loss: 0.3669 - accuracy: 0.87 - ETA: 1s - loss: 0.3668 - accuracy: 0.87 - ETA: 1s - loss: 0.3675 - accuracy: 0.87 - ETA: 1s - loss: 0.3674 - accuracy: 0.87 - ETA: 1s - loss: 0.3674 - accuracy: 0.87 - ETA: 1s - loss: 0.3673 - accuracy: 0.87 - ETA: 0s - loss: 0.3667 - accuracy: 0.87 - ETA: 0s - loss: 0.3663 - accuracy: 0.87 - ETA: 0s - loss: 0.3669 - accuracy: 0.87 - ETA: 0s - loss: 0.3669 - accuracy: 0.87 - ETA: 0s - loss: 0.3665 - accuracy: 0.87 - ETA: 0s - loss: 0.3662 - accuracy: 0.87 - ETA: 0s - loss: 0.3661 - accuracy: 0.87 - ETA: 0s - loss: 0.3657 - accuracy: 0.87 - ETA: 0s - loss: 0.3661 - accuracy: 0.87 - ETA: 0s - loss: 0.3662 - accuracy: 0.87 - ETA: 0s - loss: 0.3665 - accuracy: 0.87 - ETA: 0s - loss: 0.3660 - accuracy: 0.87 - ETA: 0s - loss: 0.3664 - accuracy: 0.87 - ETA: 0s - loss: 0.3661 - accuracy: 0.87 - ETA: 0s - loss: 0.3659 - accuracy: 0.87 - ETA: 0s - loss: 0.3661 - accuracy: 0.87 - ETA: 0s - loss: 0.3661 - accuracy: 0.87 - ETA: 0s - loss: 0.3657 - accuracy: 0.87 - ETA: 0s - loss: 0.3652 - accuracy: 0.87 - 6s 3ms/step - loss: 0.3647 - accuracy: 0.8723 - val_loss: 0.4171 - val_accuracy: 0.8520\n",
      "Epoch 5/10\n"
     ]
    },
    {
     "name": "stdout",
     "output_type": "stream",
     "text": [
      "1875/1875 [==============================] - ETA: 0s - loss: 0.1767 - accuracy: 0.96 - ETA: 5s - loss: 0.3635 - accuracy: 0.86 - ETA: 5s - loss: 0.3557 - accuracy: 0.86 - ETA: 5s - loss: 0.3549 - accuracy: 0.86 - ETA: 5s - loss: 0.3379 - accuracy: 0.87 - ETA: 5s - loss: 0.3338 - accuracy: 0.88 - ETA: 5s - loss: 0.3401 - accuracy: 0.87 - ETA: 5s - loss: 0.3425 - accuracy: 0.87 - ETA: 5s - loss: 0.3478 - accuracy: 0.87 - ETA: 5s - loss: 0.3497 - accuracy: 0.87 - ETA: 5s - loss: 0.3499 - accuracy: 0.87 - ETA: 4s - loss: 0.3522 - accuracy: 0.87 - ETA: 4s - loss: 0.3498 - accuracy: 0.87 - ETA: 4s - loss: 0.3503 - accuracy: 0.87 - ETA: 4s - loss: 0.3525 - accuracy: 0.87 - ETA: 4s - loss: 0.3549 - accuracy: 0.87 - ETA: 4s - loss: 0.3532 - accuracy: 0.87 - ETA: 4s - loss: 0.3512 - accuracy: 0.87 - ETA: 4s - loss: 0.3507 - accuracy: 0.87 - ETA: 4s - loss: 0.3476 - accuracy: 0.87 - ETA: 4s - loss: 0.3494 - accuracy: 0.87 - ETA: 4s - loss: 0.3507 - accuracy: 0.87 - ETA: 4s - loss: 0.3506 - accuracy: 0.87 - ETA: 4s - loss: 0.3491 - accuracy: 0.87 - ETA: 4s - loss: 0.3479 - accuracy: 0.87 - ETA: 4s - loss: 0.3501 - accuracy: 0.87 - ETA: 4s - loss: 0.3506 - accuracy: 0.87 - ETA: 4s - loss: 0.3532 - accuracy: 0.87 - ETA: 4s - loss: 0.3515 - accuracy: 0.87 - ETA: 4s - loss: 0.3513 - accuracy: 0.87 - ETA: 4s - loss: 0.3519 - accuracy: 0.87 - ETA: 4s - loss: 0.3502 - accuracy: 0.87 - ETA: 3s - loss: 0.3510 - accuracy: 0.87 - ETA: 3s - loss: 0.3503 - accuracy: 0.87 - ETA: 3s - loss: 0.3496 - accuracy: 0.87 - ETA: 3s - loss: 0.3496 - accuracy: 0.87 - ETA: 3s - loss: 0.3488 - accuracy: 0.87 - ETA: 3s - loss: 0.3489 - accuracy: 0.87 - ETA: 3s - loss: 0.3491 - accuracy: 0.87 - ETA: 3s - loss: 0.3496 - accuracy: 0.87 - ETA: 3s - loss: 0.3496 - accuracy: 0.87 - ETA: 3s - loss: 0.3498 - accuracy: 0.87 - ETA: 3s - loss: 0.3490 - accuracy: 0.87 - ETA: 3s - loss: 0.3477 - accuracy: 0.87 - ETA: 3s - loss: 0.3473 - accuracy: 0.87 - ETA: 3s - loss: 0.3483 - accuracy: 0.87 - ETA: 3s - loss: 0.3488 - accuracy: 0.87 - ETA: 3s - loss: 0.3485 - accuracy: 0.87 - ETA: 3s - loss: 0.3479 - accuracy: 0.87 - ETA: 3s - loss: 0.3482 - accuracy: 0.87 - ETA: 3s - loss: 0.3493 - accuracy: 0.87 - ETA: 3s - loss: 0.3487 - accuracy: 0.87 - ETA: 2s - loss: 0.3476 - accuracy: 0.87 - ETA: 2s - loss: 0.3464 - accuracy: 0.87 - ETA: 2s - loss: 0.3471 - accuracy: 0.87 - ETA: 2s - loss: 0.3476 - accuracy: 0.87 - ETA: 2s - loss: 0.3463 - accuracy: 0.87 - ETA: 2s - loss: 0.3461 - accuracy: 0.87 - ETA: 2s - loss: 0.3473 - accuracy: 0.87 - ETA: 2s - loss: 0.3464 - accuracy: 0.87 - ETA: 2s - loss: 0.3464 - accuracy: 0.87 - ETA: 2s - loss: 0.3467 - accuracy: 0.87 - ETA: 2s - loss: 0.3468 - accuracy: 0.87 - ETA: 2s - loss: 0.3463 - accuracy: 0.87 - ETA: 2s - loss: 0.3460 - accuracy: 0.87 - ETA: 2s - loss: 0.3462 - accuracy: 0.87 - ETA: 2s - loss: 0.3457 - accuracy: 0.87 - ETA: 2s - loss: 0.3454 - accuracy: 0.87 - ETA: 2s - loss: 0.3448 - accuracy: 0.87 - ETA: 2s - loss: 0.3449 - accuracy: 0.87 - ETA: 2s - loss: 0.3452 - accuracy: 0.87 - ETA: 1s - loss: 0.3453 - accuracy: 0.87 - ETA: 1s - loss: 0.3456 - accuracy: 0.87 - ETA: 1s - loss: 0.3447 - accuracy: 0.87 - ETA: 1s - loss: 0.3443 - accuracy: 0.87 - ETA: 1s - loss: 0.3438 - accuracy: 0.87 - ETA: 1s - loss: 0.3438 - accuracy: 0.87 - ETA: 1s - loss: 0.3441 - accuracy: 0.87 - ETA: 1s - loss: 0.3436 - accuracy: 0.87 - ETA: 1s - loss: 0.3440 - accuracy: 0.87 - ETA: 1s - loss: 0.3434 - accuracy: 0.87 - ETA: 1s - loss: 0.3433 - accuracy: 0.87 - ETA: 1s - loss: 0.3434 - accuracy: 0.87 - ETA: 1s - loss: 0.3438 - accuracy: 0.87 - ETA: 1s - loss: 0.3437 - accuracy: 0.87 - ETA: 1s - loss: 0.3430 - accuracy: 0.87 - ETA: 1s - loss: 0.3434 - accuracy: 0.87 - ETA: 1s - loss: 0.3436 - accuracy: 0.87 - ETA: 1s - loss: 0.3438 - accuracy: 0.87 - ETA: 1s - loss: 0.3438 - accuracy: 0.87 - ETA: 0s - loss: 0.3439 - accuracy: 0.87 - ETA: 0s - loss: 0.3439 - accuracy: 0.87 - ETA: 0s - loss: 0.3443 - accuracy: 0.87 - ETA: 0s - loss: 0.3447 - accuracy: 0.87 - ETA: 0s - loss: 0.3444 - accuracy: 0.87 - ETA: 0s - loss: 0.3443 - accuracy: 0.87 - ETA: 0s - loss: 0.3445 - accuracy: 0.87 - ETA: 0s - loss: 0.3447 - accuracy: 0.87 - ETA: 0s - loss: 0.3449 - accuracy: 0.87 - ETA: 0s - loss: 0.3452 - accuracy: 0.87 - ETA: 0s - loss: 0.3454 - accuracy: 0.87 - ETA: 0s - loss: 0.3455 - accuracy: 0.87 - ETA: 0s - loss: 0.3455 - accuracy: 0.87 - ETA: 0s - loss: 0.3452 - accuracy: 0.87 - ETA: 0s - loss: 0.3452 - accuracy: 0.87 - ETA: 0s - loss: 0.3451 - accuracy: 0.87 - ETA: 0s - loss: 0.3453 - accuracy: 0.87 - ETA: 0s - loss: 0.3452 - accuracy: 0.87 - ETA: 0s - loss: 0.3455 - accuracy: 0.87 - ETA: 0s - loss: 0.3457 - accuracy: 0.87 - 6s 3ms/step - loss: 0.3457 - accuracy: 0.8781 - val_loss: 0.3929 - val_accuracy: 0.8621\n",
      "Epoch 6/10\n"
     ]
    },
    {
     "name": "stdout",
     "output_type": "stream",
     "text": [
      "1875/1875 [==============================] - ETA: 0s - loss: 0.5220 - accuracy: 0.81 - ETA: 6s - loss: 0.3437 - accuracy: 0.87 - ETA: 6s - loss: 0.3180 - accuracy: 0.88 - ETA: 6s - loss: 0.3167 - accuracy: 0.88 - ETA: 6s - loss: 0.3084 - accuracy: 0.88 - ETA: 6s - loss: 0.3176 - accuracy: 0.88 - ETA: 6s - loss: 0.3214 - accuracy: 0.88 - ETA: 6s - loss: 0.3198 - accuracy: 0.88 - ETA: 6s - loss: 0.3235 - accuracy: 0.88 - ETA: 6s - loss: 0.3243 - accuracy: 0.88 - ETA: 5s - loss: 0.3250 - accuracy: 0.88 - ETA: 5s - loss: 0.3255 - accuracy: 0.88 - ETA: 5s - loss: 0.3271 - accuracy: 0.88 - ETA: 5s - loss: 0.3284 - accuracy: 0.88 - ETA: 5s - loss: 0.3264 - accuracy: 0.88 - ETA: 5s - loss: 0.3261 - accuracy: 0.88 - ETA: 5s - loss: 0.3239 - accuracy: 0.88 - ETA: 5s - loss: 0.3259 - accuracy: 0.88 - ETA: 5s - loss: 0.3251 - accuracy: 0.88 - ETA: 5s - loss: 0.3255 - accuracy: 0.88 - ETA: 5s - loss: 0.3270 - accuracy: 0.88 - ETA: 5s - loss: 0.3259 - accuracy: 0.88 - ETA: 5s - loss: 0.3255 - accuracy: 0.88 - ETA: 5s - loss: 0.3262 - accuracy: 0.88 - ETA: 5s - loss: 0.3294 - accuracy: 0.88 - ETA: 5s - loss: 0.3298 - accuracy: 0.88 - ETA: 5s - loss: 0.3289 - accuracy: 0.88 - ETA: 4s - loss: 0.3287 - accuracy: 0.88 - ETA: 4s - loss: 0.3298 - accuracy: 0.88 - ETA: 4s - loss: 0.3319 - accuracy: 0.88 - ETA: 4s - loss: 0.3326 - accuracy: 0.88 - ETA: 4s - loss: 0.3330 - accuracy: 0.88 - ETA: 4s - loss: 0.3328 - accuracy: 0.88 - ETA: 4s - loss: 0.3318 - accuracy: 0.88 - ETA: 4s - loss: 0.3328 - accuracy: 0.88 - ETA: 4s - loss: 0.3322 - accuracy: 0.88 - ETA: 4s - loss: 0.3331 - accuracy: 0.88 - ETA: 4s - loss: 0.3328 - accuracy: 0.88 - ETA: 4s - loss: 0.3323 - accuracy: 0.88 - ETA: 4s - loss: 0.3317 - accuracy: 0.88 - ETA: 4s - loss: 0.3318 - accuracy: 0.88 - ETA: 4s - loss: 0.3309 - accuracy: 0.88 - ETA: 4s - loss: 0.3311 - accuracy: 0.88 - ETA: 3s - loss: 0.3304 - accuracy: 0.88 - ETA: 3s - loss: 0.3307 - accuracy: 0.88 - ETA: 3s - loss: 0.3306 - accuracy: 0.88 - ETA: 3s - loss: 0.3309 - accuracy: 0.88 - ETA: 3s - loss: 0.3306 - accuracy: 0.88 - ETA: 3s - loss: 0.3307 - accuracy: 0.88 - ETA: 3s - loss: 0.3309 - accuracy: 0.88 - ETA: 3s - loss: 0.3308 - accuracy: 0.88 - ETA: 3s - loss: 0.3308 - accuracy: 0.88 - ETA: 3s - loss: 0.3302 - accuracy: 0.88 - ETA: 3s - loss: 0.3304 - accuracy: 0.88 - ETA: 3s - loss: 0.3299 - accuracy: 0.88 - ETA: 3s - loss: 0.3297 - accuracy: 0.88 - ETA: 3s - loss: 0.3296 - accuracy: 0.88 - ETA: 3s - loss: 0.3289 - accuracy: 0.88 - ETA: 2s - loss: 0.3303 - accuracy: 0.88 - ETA: 2s - loss: 0.3296 - accuracy: 0.88 - ETA: 2s - loss: 0.3293 - accuracy: 0.88 - ETA: 2s - loss: 0.3285 - accuracy: 0.88 - ETA: 2s - loss: 0.3275 - accuracy: 0.88 - ETA: 2s - loss: 0.3272 - accuracy: 0.88 - ETA: 2s - loss: 0.3269 - accuracy: 0.88 - ETA: 2s - loss: 0.3263 - accuracy: 0.88 - ETA: 2s - loss: 0.3268 - accuracy: 0.88 - ETA: 2s - loss: 0.3269 - accuracy: 0.88 - ETA: 2s - loss: 0.3271 - accuracy: 0.88 - ETA: 2s - loss: 0.3267 - accuracy: 0.88 - ETA: 2s - loss: 0.3266 - accuracy: 0.88 - ETA: 2s - loss: 0.3269 - accuracy: 0.88 - ETA: 2s - loss: 0.3263 - accuracy: 0.88 - ETA: 2s - loss: 0.3270 - accuracy: 0.88 - ETA: 1s - loss: 0.3274 - accuracy: 0.88 - ETA: 1s - loss: 0.3267 - accuracy: 0.88 - ETA: 1s - loss: 0.3263 - accuracy: 0.88 - ETA: 1s - loss: 0.3266 - accuracy: 0.88 - ETA: 1s - loss: 0.3268 - accuracy: 0.88 - ETA: 1s - loss: 0.3268 - accuracy: 0.88 - ETA: 1s - loss: 0.3269 - accuracy: 0.88 - ETA: 1s - loss: 0.3272 - accuracy: 0.88 - ETA: 1s - loss: 0.3264 - accuracy: 0.88 - ETA: 1s - loss: 0.3257 - accuracy: 0.88 - ETA: 1s - loss: 0.3259 - accuracy: 0.88 - ETA: 1s - loss: 0.3262 - accuracy: 0.88 - ETA: 1s - loss: 0.3259 - accuracy: 0.88 - ETA: 1s - loss: 0.3262 - accuracy: 0.88 - ETA: 1s - loss: 0.3262 - accuracy: 0.88 - ETA: 1s - loss: 0.3261 - accuracy: 0.88 - ETA: 1s - loss: 0.3256 - accuracy: 0.88 - ETA: 1s - loss: 0.3261 - accuracy: 0.88 - ETA: 0s - loss: 0.3256 - accuracy: 0.88 - ETA: 0s - loss: 0.3258 - accuracy: 0.88 - ETA: 0s - loss: 0.3264 - accuracy: 0.88 - ETA: 0s - loss: 0.3269 - accuracy: 0.88 - ETA: 0s - loss: 0.3265 - accuracy: 0.88 - ETA: 0s - loss: 0.3263 - accuracy: 0.88 - ETA: 0s - loss: 0.3256 - accuracy: 0.88 - ETA: 0s - loss: 0.3265 - accuracy: 0.88 - ETA: 0s - loss: 0.3272 - accuracy: 0.88 - ETA: 0s - loss: 0.3273 - accuracy: 0.88 - ETA: 0s - loss: 0.3277 - accuracy: 0.88 - ETA: 0s - loss: 0.3282 - accuracy: 0.88 - ETA: 0s - loss: 0.3282 - accuracy: 0.88 - ETA: 0s - loss: 0.3282 - accuracy: 0.88 - ETA: 0s - loss: 0.3279 - accuracy: 0.88 - ETA: 0s - loss: 0.3278 - accuracy: 0.88 - ETA: 0s - loss: 0.3278 - accuracy: 0.88 - ETA: 0s - loss: 0.3278 - accuracy: 0.88 - ETA: 0s - loss: 0.3274 - accuracy: 0.88 - 6s 3ms/step - loss: 0.3275 - accuracy: 0.8847 - val_loss: 0.3624 - val_accuracy: 0.8721\n",
      "Epoch 7/10\n"
     ]
    },
    {
     "name": "stdout",
     "output_type": "stream",
     "text": [
      "1875/1875 [==============================] - ETA: 0s - loss: 0.3121 - accuracy: 0.90 - ETA: 6s - loss: 0.3212 - accuracy: 0.86 - ETA: 6s - loss: 0.3112 - accuracy: 0.87 - ETA: 6s - loss: 0.3257 - accuracy: 0.87 - ETA: 6s - loss: 0.3247 - accuracy: 0.87 - ETA: 6s - loss: 0.3221 - accuracy: 0.87 - ETA: 6s - loss: 0.3235 - accuracy: 0.87 - ETA: 6s - loss: 0.3139 - accuracy: 0.88 - ETA: 5s - loss: 0.3151 - accuracy: 0.88 - ETA: 5s - loss: 0.3171 - accuracy: 0.88 - ETA: 5s - loss: 0.3184 - accuracy: 0.88 - ETA: 5s - loss: 0.3247 - accuracy: 0.88 - ETA: 5s - loss: 0.3236 - accuracy: 0.88 - ETA: 5s - loss: 0.3241 - accuracy: 0.88 - ETA: 5s - loss: 0.3255 - accuracy: 0.88 - ETA: 5s - loss: 0.3263 - accuracy: 0.88 - ETA: 5s - loss: 0.3249 - accuracy: 0.88 - ETA: 5s - loss: 0.3246 - accuracy: 0.88 - ETA: 5s - loss: 0.3236 - accuracy: 0.88 - ETA: 5s - loss: 0.3244 - accuracy: 0.88 - ETA: 5s - loss: 0.3234 - accuracy: 0.88 - ETA: 4s - loss: 0.3221 - accuracy: 0.88 - ETA: 4s - loss: 0.3236 - accuracy: 0.88 - ETA: 4s - loss: 0.3238 - accuracy: 0.88 - ETA: 4s - loss: 0.3236 - accuracy: 0.88 - ETA: 4s - loss: 0.3246 - accuracy: 0.88 - ETA: 4s - loss: 0.3250 - accuracy: 0.88 - ETA: 4s - loss: 0.3249 - accuracy: 0.88 - ETA: 4s - loss: 0.3236 - accuracy: 0.88 - ETA: 4s - loss: 0.3222 - accuracy: 0.88 - ETA: 4s - loss: 0.3235 - accuracy: 0.88 - ETA: 4s - loss: 0.3242 - accuracy: 0.88 - ETA: 4s - loss: 0.3227 - accuracy: 0.88 - ETA: 4s - loss: 0.3218 - accuracy: 0.88 - ETA: 4s - loss: 0.3204 - accuracy: 0.88 - ETA: 4s - loss: 0.3204 - accuracy: 0.88 - ETA: 4s - loss: 0.3198 - accuracy: 0.88 - ETA: 4s - loss: 0.3195 - accuracy: 0.88 - ETA: 4s - loss: 0.3201 - accuracy: 0.88 - ETA: 4s - loss: 0.3202 - accuracy: 0.88 - ETA: 3s - loss: 0.3200 - accuracy: 0.88 - ETA: 3s - loss: 0.3198 - accuracy: 0.88 - ETA: 3s - loss: 0.3203 - accuracy: 0.88 - ETA: 3s - loss: 0.3204 - accuracy: 0.88 - ETA: 3s - loss: 0.3194 - accuracy: 0.88 - ETA: 3s - loss: 0.3186 - accuracy: 0.88 - ETA: 3s - loss: 0.3205 - accuracy: 0.88 - ETA: 3s - loss: 0.3218 - accuracy: 0.88 - ETA: 3s - loss: 0.3223 - accuracy: 0.88 - ETA: 3s - loss: 0.3220 - accuracy: 0.88 - ETA: 3s - loss: 0.3213 - accuracy: 0.88 - ETA: 3s - loss: 0.3209 - accuracy: 0.88 - ETA: 3s - loss: 0.3205 - accuracy: 0.88 - ETA: 3s - loss: 0.3205 - accuracy: 0.88 - ETA: 3s - loss: 0.3198 - accuracy: 0.88 - ETA: 3s - loss: 0.3189 - accuracy: 0.88 - ETA: 3s - loss: 0.3195 - accuracy: 0.88 - ETA: 2s - loss: 0.3205 - accuracy: 0.88 - ETA: 2s - loss: 0.3201 - accuracy: 0.88 - ETA: 2s - loss: 0.3205 - accuracy: 0.88 - ETA: 2s - loss: 0.3211 - accuracy: 0.88 - ETA: 2s - loss: 0.3216 - accuracy: 0.88 - ETA: 2s - loss: 0.3214 - accuracy: 0.88 - ETA: 2s - loss: 0.3215 - accuracy: 0.88 - ETA: 2s - loss: 0.3205 - accuracy: 0.88 - ETA: 2s - loss: 0.3198 - accuracy: 0.88 - ETA: 2s - loss: 0.3198 - accuracy: 0.88 - ETA: 2s - loss: 0.3203 - accuracy: 0.88 - ETA: 2s - loss: 0.3204 - accuracy: 0.88 - ETA: 2s - loss: 0.3206 - accuracy: 0.88 - ETA: 2s - loss: 0.3215 - accuracy: 0.88 - ETA: 2s - loss: 0.3207 - accuracy: 0.88 - ETA: 2s - loss: 0.3200 - accuracy: 0.88 - ETA: 2s - loss: 0.3199 - accuracy: 0.88 - ETA: 1s - loss: 0.3192 - accuracy: 0.88 - ETA: 1s - loss: 0.3188 - accuracy: 0.88 - ETA: 1s - loss: 0.3190 - accuracy: 0.88 - ETA: 1s - loss: 0.3196 - accuracy: 0.88 - ETA: 1s - loss: 0.3202 - accuracy: 0.88 - ETA: 1s - loss: 0.3195 - accuracy: 0.88 - ETA: 1s - loss: 0.3196 - accuracy: 0.88 - ETA: 1s - loss: 0.3197 - accuracy: 0.88 - ETA: 1s - loss: 0.3195 - accuracy: 0.88 - ETA: 1s - loss: 0.3193 - accuracy: 0.88 - ETA: 1s - loss: 0.3187 - accuracy: 0.88 - ETA: 1s - loss: 0.3189 - accuracy: 0.88 - ETA: 1s - loss: 0.3184 - accuracy: 0.88 - ETA: 1s - loss: 0.3183 - accuracy: 0.88 - ETA: 1s - loss: 0.3176 - accuracy: 0.88 - ETA: 1s - loss: 0.3180 - accuracy: 0.88 - ETA: 1s - loss: 0.3181 - accuracy: 0.88 - ETA: 0s - loss: 0.3180 - accuracy: 0.88 - ETA: 0s - loss: 0.3181 - accuracy: 0.88 - ETA: 0s - loss: 0.3182 - accuracy: 0.88 - ETA: 0s - loss: 0.3184 - accuracy: 0.88 - ETA: 0s - loss: 0.3183 - accuracy: 0.88 - ETA: 0s - loss: 0.3183 - accuracy: 0.88 - ETA: 0s - loss: 0.3179 - accuracy: 0.88 - ETA: 0s - loss: 0.3180 - accuracy: 0.88 - ETA: 0s - loss: 0.3186 - accuracy: 0.88 - ETA: 0s - loss: 0.3188 - accuracy: 0.88 - ETA: 0s - loss: 0.3181 - accuracy: 0.88 - ETA: 0s - loss: 0.3184 - accuracy: 0.88 - ETA: 0s - loss: 0.3182 - accuracy: 0.88 - ETA: 0s - loss: 0.3178 - accuracy: 0.88 - ETA: 0s - loss: 0.3178 - accuracy: 0.88 - ETA: 0s - loss: 0.3180 - accuracy: 0.88 - ETA: 0s - loss: 0.3180 - accuracy: 0.88 - ETA: 0s - loss: 0.3176 - accuracy: 0.88 - 6s 3ms/step - loss: 0.3177 - accuracy: 0.8870 - val_loss: 0.3585 - val_accuracy: 0.8734\n",
      "Epoch 8/10\n"
     ]
    },
    {
     "name": "stdout",
     "output_type": "stream",
     "text": [
      "1875/1875 [==============================] - ETA: 0s - loss: 0.2782 - accuracy: 0.84 - ETA: 6s - loss: 0.2903 - accuracy: 0.87 - ETA: 6s - loss: 0.3004 - accuracy: 0.88 - ETA: 6s - loss: 0.2924 - accuracy: 0.89 - ETA: 6s - loss: 0.3005 - accuracy: 0.88 - ETA: 6s - loss: 0.3081 - accuracy: 0.88 - ETA: 6s - loss: 0.3111 - accuracy: 0.88 - ETA: 6s - loss: 0.3129 - accuracy: 0.88 - ETA: 6s - loss: 0.3150 - accuracy: 0.88 - ETA: 6s - loss: 0.3165 - accuracy: 0.88 - ETA: 5s - loss: 0.3177 - accuracy: 0.88 - ETA: 5s - loss: 0.3181 - accuracy: 0.88 - ETA: 5s - loss: 0.3189 - accuracy: 0.88 - ETA: 5s - loss: 0.3170 - accuracy: 0.88 - ETA: 5s - loss: 0.3164 - accuracy: 0.88 - ETA: 5s - loss: 0.3158 - accuracy: 0.88 - ETA: 5s - loss: 0.3134 - accuracy: 0.88 - ETA: 5s - loss: 0.3114 - accuracy: 0.88 - ETA: 5s - loss: 0.3131 - accuracy: 0.88 - ETA: 5s - loss: 0.3142 - accuracy: 0.88 - ETA: 5s - loss: 0.3170 - accuracy: 0.88 - ETA: 5s - loss: 0.3186 - accuracy: 0.88 - ETA: 5s - loss: 0.3157 - accuracy: 0.88 - ETA: 5s - loss: 0.3156 - accuracy: 0.88 - ETA: 5s - loss: 0.3136 - accuracy: 0.88 - ETA: 4s - loss: 0.3144 - accuracy: 0.88 - ETA: 4s - loss: 0.3138 - accuracy: 0.88 - ETA: 4s - loss: 0.3125 - accuracy: 0.88 - ETA: 4s - loss: 0.3125 - accuracy: 0.88 - ETA: 4s - loss: 0.3122 - accuracy: 0.88 - ETA: 4s - loss: 0.3114 - accuracy: 0.88 - ETA: 4s - loss: 0.3121 - accuracy: 0.88 - ETA: 4s - loss: 0.3115 - accuracy: 0.88 - ETA: 4s - loss: 0.3100 - accuracy: 0.88 - ETA: 4s - loss: 0.3105 - accuracy: 0.88 - ETA: 4s - loss: 0.3108 - accuracy: 0.88 - ETA: 4s - loss: 0.3107 - accuracy: 0.88 - ETA: 4s - loss: 0.3110 - accuracy: 0.88 - ETA: 4s - loss: 0.3094 - accuracy: 0.88 - ETA: 4s - loss: 0.3099 - accuracy: 0.88 - ETA: 4s - loss: 0.3085 - accuracy: 0.88 - ETA: 3s - loss: 0.3093 - accuracy: 0.88 - ETA: 3s - loss: 0.3088 - accuracy: 0.88 - ETA: 3s - loss: 0.3079 - accuracy: 0.88 - ETA: 3s - loss: 0.3071 - accuracy: 0.88 - ETA: 3s - loss: 0.3065 - accuracy: 0.88 - ETA: 3s - loss: 0.3068 - accuracy: 0.88 - ETA: 3s - loss: 0.3075 - accuracy: 0.88 - ETA: 3s - loss: 0.3075 - accuracy: 0.88 - ETA: 3s - loss: 0.3076 - accuracy: 0.88 - ETA: 3s - loss: 0.3074 - accuracy: 0.88 - ETA: 3s - loss: 0.3073 - accuracy: 0.88 - ETA: 3s - loss: 0.3060 - accuracy: 0.88 - ETA: 3s - loss: 0.3065 - accuracy: 0.88 - ETA: 3s - loss: 0.3060 - accuracy: 0.88 - ETA: 3s - loss: 0.3067 - accuracy: 0.88 - ETA: 3s - loss: 0.3072 - accuracy: 0.88 - ETA: 3s - loss: 0.3073 - accuracy: 0.88 - ETA: 2s - loss: 0.3075 - accuracy: 0.88 - ETA: 2s - loss: 0.3074 - accuracy: 0.88 - ETA: 2s - loss: 0.3073 - accuracy: 0.88 - ETA: 2s - loss: 0.3078 - accuracy: 0.88 - ETA: 2s - loss: 0.3071 - accuracy: 0.88 - ETA: 2s - loss: 0.3061 - accuracy: 0.88 - ETA: 2s - loss: 0.3066 - accuracy: 0.88 - ETA: 2s - loss: 0.3067 - accuracy: 0.88 - ETA: 2s - loss: 0.3069 - accuracy: 0.88 - ETA: 2s - loss: 0.3067 - accuracy: 0.88 - ETA: 2s - loss: 0.3070 - accuracy: 0.88 - ETA: 2s - loss: 0.3066 - accuracy: 0.88 - ETA: 2s - loss: 0.3063 - accuracy: 0.88 - ETA: 2s - loss: 0.3059 - accuracy: 0.88 - ETA: 2s - loss: 0.3061 - accuracy: 0.88 - ETA: 2s - loss: 0.3051 - accuracy: 0.88 - ETA: 2s - loss: 0.3051 - accuracy: 0.88 - ETA: 1s - loss: 0.3050 - accuracy: 0.88 - ETA: 1s - loss: 0.3063 - accuracy: 0.88 - ETA: 1s - loss: 0.3063 - accuracy: 0.88 - ETA: 1s - loss: 0.3065 - accuracy: 0.88 - ETA: 1s - loss: 0.3061 - accuracy: 0.88 - ETA: 1s - loss: 0.3057 - accuracy: 0.88 - ETA: 1s - loss: 0.3060 - accuracy: 0.88 - ETA: 1s - loss: 0.3058 - accuracy: 0.88 - ETA: 1s - loss: 0.3059 - accuracy: 0.89 - ETA: 1s - loss: 0.3061 - accuracy: 0.88 - ETA: 1s - loss: 0.3062 - accuracy: 0.88 - ETA: 1s - loss: 0.3057 - accuracy: 0.89 - ETA: 1s - loss: 0.3059 - accuracy: 0.89 - ETA: 1s - loss: 0.3057 - accuracy: 0.89 - ETA: 1s - loss: 0.3058 - accuracy: 0.89 - ETA: 1s - loss: 0.3057 - accuracy: 0.89 - ETA: 1s - loss: 0.3058 - accuracy: 0.89 - ETA: 0s - loss: 0.3059 - accuracy: 0.89 - ETA: 0s - loss: 0.3061 - accuracy: 0.89 - ETA: 0s - loss: 0.3062 - accuracy: 0.89 - ETA: 0s - loss: 0.3064 - accuracy: 0.89 - ETA: 0s - loss: 0.3065 - accuracy: 0.89 - ETA: 0s - loss: 0.3062 - accuracy: 0.89 - ETA: 0s - loss: 0.3062 - accuracy: 0.89 - ETA: 0s - loss: 0.3062 - accuracy: 0.89 - ETA: 0s - loss: 0.3059 - accuracy: 0.89 - ETA: 0s - loss: 0.3054 - accuracy: 0.89 - ETA: 0s - loss: 0.3057 - accuracy: 0.89 - ETA: 0s - loss: 0.3052 - accuracy: 0.89 - ETA: 0s - loss: 0.3050 - accuracy: 0.89 - ETA: 0s - loss: 0.3052 - accuracy: 0.89 - ETA: 0s - loss: 0.3050 - accuracy: 0.89 - ETA: 0s - loss: 0.3050 - accuracy: 0.89 - ETA: 0s - loss: 0.3048 - accuracy: 0.89 - ETA: 0s - loss: 0.3048 - accuracy: 0.89 - 6s 3ms/step - loss: 0.3050 - accuracy: 0.8908 - val_loss: 0.3561 - val_accuracy: 0.8743\n",
      "Epoch 9/10\n"
     ]
    },
    {
     "name": "stdout",
     "output_type": "stream",
     "text": [
      "1875/1875 [==============================] - ETA: 0s - loss: 0.3926 - accuracy: 0.90 - ETA: 6s - loss: 0.3442 - accuracy: 0.86 - ETA: 6s - loss: 0.3123 - accuracy: 0.88 - ETA: 6s - loss: 0.3039 - accuracy: 0.89 - ETA: 6s - loss: 0.2955 - accuracy: 0.89 - ETA: 6s - loss: 0.2960 - accuracy: 0.89 - ETA: 6s - loss: 0.2958 - accuracy: 0.89 - ETA: 6s - loss: 0.2948 - accuracy: 0.89 - ETA: 6s - loss: 0.2973 - accuracy: 0.89 - ETA: 5s - loss: 0.2925 - accuracy: 0.89 - ETA: 5s - loss: 0.2937 - accuracy: 0.89 - ETA: 5s - loss: 0.2992 - accuracy: 0.89 - ETA: 5s - loss: 0.3037 - accuracy: 0.89 - ETA: 5s - loss: 0.3002 - accuracy: 0.89 - ETA: 5s - loss: 0.3002 - accuracy: 0.89 - ETA: 5s - loss: 0.2977 - accuracy: 0.89 - ETA: 5s - loss: 0.2968 - accuracy: 0.89 - ETA: 5s - loss: 0.2980 - accuracy: 0.89 - ETA: 5s - loss: 0.2980 - accuracy: 0.89 - ETA: 5s - loss: 0.2959 - accuracy: 0.89 - ETA: 5s - loss: 0.2958 - accuracy: 0.89 - ETA: 5s - loss: 0.2968 - accuracy: 0.89 - ETA: 5s - loss: 0.2969 - accuracy: 0.89 - ETA: 5s - loss: 0.2952 - accuracy: 0.89 - ETA: 5s - loss: 0.2957 - accuracy: 0.89 - ETA: 5s - loss: 0.2957 - accuracy: 0.89 - ETA: 5s - loss: 0.2952 - accuracy: 0.89 - ETA: 5s - loss: 0.2952 - accuracy: 0.89 - ETA: 5s - loss: 0.2957 - accuracy: 0.89 - ETA: 5s - loss: 0.2958 - accuracy: 0.89 - ETA: 5s - loss: 0.2967 - accuracy: 0.89 - ETA: 5s - loss: 0.2959 - accuracy: 0.89 - ETA: 5s - loss: 0.2972 - accuracy: 0.89 - ETA: 5s - loss: 0.2964 - accuracy: 0.89 - ETA: 5s - loss: 0.2961 - accuracy: 0.89 - ETA: 4s - loss: 0.2965 - accuracy: 0.89 - ETA: 4s - loss: 0.2975 - accuracy: 0.89 - ETA: 4s - loss: 0.2970 - accuracy: 0.89 - ETA: 4s - loss: 0.2976 - accuracy: 0.89 - ETA: 4s - loss: 0.2979 - accuracy: 0.89 - ETA: 4s - loss: 0.2991 - accuracy: 0.89 - ETA: 4s - loss: 0.3012 - accuracy: 0.89 - ETA: 4s - loss: 0.3009 - accuracy: 0.89 - ETA: 4s - loss: 0.3004 - accuracy: 0.89 - ETA: 4s - loss: 0.2995 - accuracy: 0.89 - ETA: 4s - loss: 0.2992 - accuracy: 0.89 - ETA: 4s - loss: 0.2996 - accuracy: 0.89 - ETA: 4s - loss: 0.3001 - accuracy: 0.89 - ETA: 4s - loss: 0.2993 - accuracy: 0.89 - ETA: 3s - loss: 0.2983 - accuracy: 0.89 - ETA: 3s - loss: 0.2982 - accuracy: 0.89 - ETA: 3s - loss: 0.2983 - accuracy: 0.89 - ETA: 3s - loss: 0.2968 - accuracy: 0.89 - ETA: 3s - loss: 0.2963 - accuracy: 0.89 - ETA: 3s - loss: 0.2960 - accuracy: 0.89 - ETA: 3s - loss: 0.2952 - accuracy: 0.89 - ETA: 3s - loss: 0.2943 - accuracy: 0.89 - ETA: 3s - loss: 0.2940 - accuracy: 0.89 - ETA: 3s - loss: 0.2942 - accuracy: 0.89 - ETA: 3s - loss: 0.2944 - accuracy: 0.89 - ETA: 3s - loss: 0.2940 - accuracy: 0.89 - ETA: 3s - loss: 0.2942 - accuracy: 0.89 - ETA: 3s - loss: 0.2941 - accuracy: 0.89 - ETA: 2s - loss: 0.2942 - accuracy: 0.89 - ETA: 2s - loss: 0.2943 - accuracy: 0.89 - ETA: 2s - loss: 0.2946 - accuracy: 0.89 - ETA: 2s - loss: 0.2950 - accuracy: 0.89 - ETA: 2s - loss: 0.2957 - accuracy: 0.89 - ETA: 2s - loss: 0.2961 - accuracy: 0.89 - ETA: 2s - loss: 0.2964 - accuracy: 0.89 - ETA: 2s - loss: 0.2965 - accuracy: 0.89 - ETA: 2s - loss: 0.2967 - accuracy: 0.89 - ETA: 2s - loss: 0.2972 - accuracy: 0.89 - ETA: 2s - loss: 0.2976 - accuracy: 0.89 - ETA: 2s - loss: 0.2979 - accuracy: 0.89 - ETA: 2s - loss: 0.2980 - accuracy: 0.89 - ETA: 2s - loss: 0.2977 - accuracy: 0.89 - ETA: 2s - loss: 0.2975 - accuracy: 0.89 - ETA: 2s - loss: 0.2971 - accuracy: 0.89 - ETA: 2s - loss: 0.2972 - accuracy: 0.89 - ETA: 1s - loss: 0.2964 - accuracy: 0.89 - ETA: 1s - loss: 0.2972 - accuracy: 0.89 - ETA: 1s - loss: 0.2968 - accuracy: 0.89 - ETA: 1s - loss: 0.2968 - accuracy: 0.89 - ETA: 1s - loss: 0.2964 - accuracy: 0.89 - ETA: 1s - loss: 0.2962 - accuracy: 0.89 - ETA: 1s - loss: 0.2957 - accuracy: 0.89 - ETA: 1s - loss: 0.2955 - accuracy: 0.89 - ETA: 1s - loss: 0.2955 - accuracy: 0.89 - ETA: 1s - loss: 0.2956 - accuracy: 0.89 - ETA: 1s - loss: 0.2961 - accuracy: 0.89 - ETA: 1s - loss: 0.2965 - accuracy: 0.89 - ETA: 1s - loss: 0.2962 - accuracy: 0.89 - ETA: 1s - loss: 0.2956 - accuracy: 0.89 - ETA: 1s - loss: 0.2957 - accuracy: 0.89 - ETA: 1s - loss: 0.2952 - accuracy: 0.89 - ETA: 1s - loss: 0.2951 - accuracy: 0.89 - ETA: 1s - loss: 0.2953 - accuracy: 0.89 - ETA: 0s - loss: 0.2958 - accuracy: 0.89 - ETA: 0s - loss: 0.2959 - accuracy: 0.89 - ETA: 0s - loss: 0.2959 - accuracy: 0.89 - ETA: 0s - loss: 0.2962 - accuracy: 0.89 - ETA: 0s - loss: 0.2964 - accuracy: 0.89 - ETA: 0s - loss: 0.2966 - accuracy: 0.89 - ETA: 0s - loss: 0.2963 - accuracy: 0.89 - ETA: 0s - loss: 0.2961 - accuracy: 0.89 - ETA: 0s - loss: 0.2965 - accuracy: 0.89 - ETA: 0s - loss: 0.2972 - accuracy: 0.89 - ETA: 0s - loss: 0.2967 - accuracy: 0.89 - ETA: 0s - loss: 0.2970 - accuracy: 0.89 - ETA: 0s - loss: 0.2972 - accuracy: 0.89 - ETA: 0s - loss: 0.2971 - accuracy: 0.89 - ETA: 0s - loss: 0.2966 - accuracy: 0.89 - ETA: 0s - loss: 0.2963 - accuracy: 0.89 - ETA: 0s - loss: 0.2963 - accuracy: 0.89 - ETA: 0s - loss: 0.2962 - accuracy: 0.89 - 7s 3ms/step - loss: 0.2964 - accuracy: 0.8938 - val_loss: 0.3441 - val_accuracy: 0.8778\n",
      "Epoch 10/10\n"
     ]
    },
    {
     "name": "stdout",
     "output_type": "stream",
     "text": [
      "1875/1875 [==============================] - ETA: 0s - loss: 0.3468 - accuracy: 0.90 - ETA: 6s - loss: 0.3226 - accuracy: 0.88 - ETA: 6s - loss: 0.3049 - accuracy: 0.88 - ETA: 6s - loss: 0.3153 - accuracy: 0.88 - ETA: 6s - loss: 0.3093 - accuracy: 0.88 - ETA: 6s - loss: 0.2958 - accuracy: 0.89 - ETA: 6s - loss: 0.2936 - accuracy: 0.89 - ETA: 6s - loss: 0.2993 - accuracy: 0.89 - ETA: 6s - loss: 0.3016 - accuracy: 0.89 - ETA: 6s - loss: 0.3000 - accuracy: 0.89 - ETA: 5s - loss: 0.2997 - accuracy: 0.89 - ETA: 5s - loss: 0.2937 - accuracy: 0.89 - ETA: 5s - loss: 0.2918 - accuracy: 0.89 - ETA: 5s - loss: 0.2943 - accuracy: 0.89 - ETA: 5s - loss: 0.2907 - accuracy: 0.89 - ETA: 5s - loss: 0.2872 - accuracy: 0.90 - ETA: 5s - loss: 0.2862 - accuracy: 0.90 - ETA: 5s - loss: 0.2871 - accuracy: 0.89 - ETA: 5s - loss: 0.2853 - accuracy: 0.89 - ETA: 5s - loss: 0.2845 - accuracy: 0.90 - ETA: 5s - loss: 0.2838 - accuracy: 0.90 - ETA: 5s - loss: 0.2846 - accuracy: 0.90 - ETA: 5s - loss: 0.2856 - accuracy: 0.90 - ETA: 5s - loss: 0.2837 - accuracy: 0.90 - ETA: 5s - loss: 0.2847 - accuracy: 0.90 - ETA: 5s - loss: 0.2839 - accuracy: 0.90 - ETA: 4s - loss: 0.2846 - accuracy: 0.90 - ETA: 4s - loss: 0.2829 - accuracy: 0.90 - ETA: 4s - loss: 0.2820 - accuracy: 0.90 - ETA: 4s - loss: 0.2812 - accuracy: 0.90 - ETA: 4s - loss: 0.2806 - accuracy: 0.90 - ETA: 4s - loss: 0.2805 - accuracy: 0.90 - ETA: 4s - loss: 0.2808 - accuracy: 0.90 - ETA: 4s - loss: 0.2801 - accuracy: 0.90 - ETA: 4s - loss: 0.2801 - accuracy: 0.90 - ETA: 4s - loss: 0.2819 - accuracy: 0.90 - ETA: 4s - loss: 0.2802 - accuracy: 0.90 - ETA: 4s - loss: 0.2794 - accuracy: 0.90 - ETA: 4s - loss: 0.2783 - accuracy: 0.90 - ETA: 4s - loss: 0.2786 - accuracy: 0.90 - ETA: 4s - loss: 0.2790 - accuracy: 0.90 - ETA: 4s - loss: 0.2798 - accuracy: 0.90 - ETA: 3s - loss: 0.2802 - accuracy: 0.90 - ETA: 3s - loss: 0.2811 - accuracy: 0.90 - ETA: 3s - loss: 0.2811 - accuracy: 0.90 - ETA: 3s - loss: 0.2805 - accuracy: 0.90 - ETA: 3s - loss: 0.2799 - accuracy: 0.90 - ETA: 3s - loss: 0.2803 - accuracy: 0.90 - ETA: 3s - loss: 0.2803 - accuracy: 0.90 - ETA: 3s - loss: 0.2808 - accuracy: 0.90 - ETA: 3s - loss: 0.2805 - accuracy: 0.90 - ETA: 3s - loss: 0.2813 - accuracy: 0.90 - ETA: 3s - loss: 0.2810 - accuracy: 0.90 - ETA: 3s - loss: 0.2820 - accuracy: 0.90 - ETA: 3s - loss: 0.2821 - accuracy: 0.90 - ETA: 3s - loss: 0.2832 - accuracy: 0.90 - ETA: 2s - loss: 0.2829 - accuracy: 0.90 - ETA: 2s - loss: 0.2825 - accuracy: 0.90 - ETA: 2s - loss: 0.2835 - accuracy: 0.89 - ETA: 2s - loss: 0.2846 - accuracy: 0.89 - ETA: 2s - loss: 0.2849 - accuracy: 0.89 - ETA: 2s - loss: 0.2849 - accuracy: 0.89 - ETA: 2s - loss: 0.2862 - accuracy: 0.89 - ETA: 2s - loss: 0.2864 - accuracy: 0.89 - ETA: 2s - loss: 0.2863 - accuracy: 0.89 - ETA: 2s - loss: 0.2869 - accuracy: 0.89 - ETA: 2s - loss: 0.2868 - accuracy: 0.89 - ETA: 2s - loss: 0.2870 - accuracy: 0.89 - ETA: 2s - loss: 0.2870 - accuracy: 0.89 - ETA: 2s - loss: 0.2875 - accuracy: 0.89 - ETA: 2s - loss: 0.2887 - accuracy: 0.89 - ETA: 2s - loss: 0.2886 - accuracy: 0.89 - ETA: 2s - loss: 0.2887 - accuracy: 0.89 - ETA: 2s - loss: 0.2885 - accuracy: 0.89 - ETA: 1s - loss: 0.2891 - accuracy: 0.89 - ETA: 1s - loss: 0.2884 - accuracy: 0.89 - ETA: 1s - loss: 0.2883 - accuracy: 0.89 - ETA: 1s - loss: 0.2886 - accuracy: 0.89 - ETA: 1s - loss: 0.2883 - accuracy: 0.89 - ETA: 1s - loss: 0.2885 - accuracy: 0.89 - ETA: 1s - loss: 0.2888 - accuracy: 0.89 - ETA: 1s - loss: 0.2888 - accuracy: 0.89 - ETA: 1s - loss: 0.2887 - accuracy: 0.89 - ETA: 1s - loss: 0.2886 - accuracy: 0.89 - ETA: 1s - loss: 0.2888 - accuracy: 0.89 - ETA: 1s - loss: 0.2888 - accuracy: 0.89 - ETA: 1s - loss: 0.2890 - accuracy: 0.89 - ETA: 1s - loss: 0.2886 - accuracy: 0.89 - ETA: 1s - loss: 0.2884 - accuracy: 0.89 - ETA: 1s - loss: 0.2882 - accuracy: 0.89 - ETA: 1s - loss: 0.2876 - accuracy: 0.89 - ETA: 0s - loss: 0.2878 - accuracy: 0.89 - ETA: 0s - loss: 0.2877 - accuracy: 0.89 - ETA: 0s - loss: 0.2880 - accuracy: 0.89 - ETA: 0s - loss: 0.2875 - accuracy: 0.89 - ETA: 0s - loss: 0.2875 - accuracy: 0.89 - ETA: 0s - loss: 0.2874 - accuracy: 0.89 - ETA: 0s - loss: 0.2872 - accuracy: 0.89 - ETA: 0s - loss: 0.2868 - accuracy: 0.89 - ETA: 0s - loss: 0.2865 - accuracy: 0.89 - ETA: 0s - loss: 0.2864 - accuracy: 0.89 - ETA: 0s - loss: 0.2863 - accuracy: 0.89 - ETA: 0s - loss: 0.2865 - accuracy: 0.89 - ETA: 0s - loss: 0.2870 - accuracy: 0.89 - ETA: 0s - loss: 0.2869 - accuracy: 0.89 - ETA: 0s - loss: 0.2870 - accuracy: 0.89 - ETA: 0s - loss: 0.2867 - accuracy: 0.89 - ETA: 0s - loss: 0.2869 - accuracy: 0.89 - ETA: 0s - loss: 0.2869 - accuracy: 0.89 - ETA: 0s - loss: 0.2868 - accuracy: 0.89 - 6s 3ms/step - loss: 0.2867 - accuracy: 0.8981 - val_loss: 0.3613 - val_accuracy: 0.8714\n"
     ]
    },
    {
     "data": {
      "text/html": [
       "<span style=\"color:#4527A0\"><h1 style=\"font-size:18px\">Trial complete</h1></span>"
      ],
      "text/plain": [
       "<IPython.core.display.HTML object>"
      ]
     },
     "metadata": {},
     "output_type": "display_data"
    },
    {
     "data": {
      "text/html": [
       "<span style=\"color:#4527A0\"><h1 style=\"font-size:18px\">Trial summary</h1></span>"
      ],
      "text/plain": [
       "<IPython.core.display.HTML object>"
      ]
     },
     "metadata": {},
     "output_type": "display_data"
    },
    {
     "data": {
      "text/html": [
       "<span style=\"color:cyan\"> |-Trial ID: 79c449fa862d2fa3e9cfe1f9eefc25de</span>"
      ],
      "text/plain": [
       "<IPython.core.display.HTML object>"
      ]
     },
     "metadata": {},
     "output_type": "display_data"
    },
    {
     "data": {
      "text/html": [
       "<span style=\"color:cyan\"> |-Score: 0.8777999877929688</span>"
      ],
      "text/plain": [
       "<IPython.core.display.HTML object>"
      ]
     },
     "metadata": {},
     "output_type": "display_data"
    },
    {
     "data": {
      "text/html": [
       "<span style=\"color:cyan\"> |-Best step: 0</span>"
      ],
      "text/plain": [
       "<IPython.core.display.HTML object>"
      ]
     },
     "metadata": {},
     "output_type": "display_data"
    },
    {
     "data": {
      "text/html": [
       "<span style=\"color:#7E57C2\"><h2 style=\"font-size:16px\">Hyperparameters:</h2></span>"
      ],
      "text/plain": [
       "<IPython.core.display.HTML object>"
      ]
     },
     "metadata": {},
     "output_type": "display_data"
    },
    {
     "data": {
      "text/html": [
       "<span style=\"color:cyan\"> |-learning_rate: 0.0001</span>"
      ],
      "text/plain": [
       "<IPython.core.display.HTML object>"
      ]
     },
     "metadata": {},
     "output_type": "display_data"
    },
    {
     "data": {
      "text/html": [
       "<span style=\"color:blue\"> |-tuner/bracket: 0</span>"
      ],
      "text/plain": [
       "<IPython.core.display.HTML object>"
      ]
     },
     "metadata": {},
     "output_type": "display_data"
    },
    {
     "data": {
      "text/html": [
       "<span style=\"color:cyan\"> |-tuner/epochs: 10</span>"
      ],
      "text/plain": [
       "<IPython.core.display.HTML object>"
      ]
     },
     "metadata": {},
     "output_type": "display_data"
    },
    {
     "data": {
      "text/html": [
       "<span style=\"color:blue\"> |-tuner/initial_epoch: 0</span>"
      ],
      "text/plain": [
       "<IPython.core.display.HTML object>"
      ]
     },
     "metadata": {},
     "output_type": "display_data"
    },
    {
     "data": {
      "text/html": [
       "<span style=\"color:cyan\"> |-tuner/round: 0</span>"
      ],
      "text/plain": [
       "<IPython.core.display.HTML object>"
      ]
     },
     "metadata": {},
     "output_type": "display_data"
    },
    {
     "data": {
      "text/html": [
       "<span style=\"color:blue\"> |-units: 448</span>"
      ],
      "text/plain": [
       "<IPython.core.display.HTML object>"
      ]
     },
     "metadata": {},
     "output_type": "display_data"
    },
    {
     "name": "stdout",
     "output_type": "stream",
     "text": [
      "INFO:tensorflow:Oracle triggered exit\n"
     ]
    }
   ],
   "source": [
    "tensorboard_callback = tf.keras.callbacks.TensorBoard()\n",
    "tuner.search(train_images, \n",
    "             train_labels, \n",
    "             epochs = 10, \n",
    "             validation_data = (test_images, test_labels), \n",
    "             callbacks=[tensorboard_callback])\n",
    "IPython.display.clear_output(wait=True)"
   ]
  },
  {
   "cell_type": "code",
   "execution_count": 5,
   "metadata": {},
   "outputs": [
    {
     "name": "stdout",
     "output_type": "stream",
     "text": [
      "Epoch 1/10\n",
      "1875/1875 [==============================] - ETA: 0s - loss: 2.1550 - accuracy: 0.28 - ETA: 4s - loss: 1.2897 - accuracy: 0.57 - ETA: 4s - loss: 1.0443 - accuracy: 0.64 - ETA: 4s - loss: 0.9258 - accuracy: 0.68 - ETA: 4s - loss: 0.8649 - accuracy: 0.70 - ETA: 4s - loss: 0.8270 - accuracy: 0.71 - ETA: 4s - loss: 0.8061 - accuracy: 0.72 - ETA: 4s - loss: 0.7873 - accuracy: 0.73 - ETA: 4s - loss: 0.7715 - accuracy: 0.73 - ETA: 4s - loss: 0.7550 - accuracy: 0.74 - ETA: 4s - loss: 0.7425 - accuracy: 0.74 - ETA: 4s - loss: 0.7255 - accuracy: 0.75 - ETA: 4s - loss: 0.7168 - accuracy: 0.75 - ETA: 4s - loss: 0.7110 - accuracy: 0.75 - ETA: 4s - loss: 0.7005 - accuracy: 0.75 - ETA: 4s - loss: 0.6861 - accuracy: 0.76 - ETA: 4s - loss: 0.6735 - accuracy: 0.76 - ETA: 3s - loss: 0.6622 - accuracy: 0.77 - ETA: 3s - loss: 0.6543 - accuracy: 0.77 - ETA: 3s - loss: 0.6460 - accuracy: 0.77 - ETA: 3s - loss: 0.6363 - accuracy: 0.78 - ETA: 3s - loss: 0.6292 - accuracy: 0.78 - ETA: 3s - loss: 0.6241 - accuracy: 0.78 - ETA: 3s - loss: 0.6178 - accuracy: 0.78 - ETA: 3s - loss: 0.6131 - accuracy: 0.78 - ETA: 3s - loss: 0.6081 - accuracy: 0.78 - ETA: 3s - loss: 0.6047 - accuracy: 0.79 - ETA: 3s - loss: 0.5996 - accuracy: 0.79 - ETA: 3s - loss: 0.5947 - accuracy: 0.79 - ETA: 3s - loss: 0.5936 - accuracy: 0.79 - ETA: 3s - loss: 0.5894 - accuracy: 0.79 - ETA: 3s - loss: 0.5864 - accuracy: 0.79 - ETA: 3s - loss: 0.5842 - accuracy: 0.79 - ETA: 3s - loss: 0.5806 - accuracy: 0.79 - ETA: 3s - loss: 0.5771 - accuracy: 0.79 - ETA: 3s - loss: 0.5734 - accuracy: 0.79 - ETA: 3s - loss: 0.5700 - accuracy: 0.80 - ETA: 3s - loss: 0.5662 - accuracy: 0.80 - ETA: 3s - loss: 0.5622 - accuracy: 0.80 - ETA: 3s - loss: 0.5600 - accuracy: 0.80 - ETA: 3s - loss: 0.5585 - accuracy: 0.80 - ETA: 2s - loss: 0.5548 - accuracy: 0.80 - ETA: 2s - loss: 0.5536 - accuracy: 0.80 - ETA: 2s - loss: 0.5517 - accuracy: 0.80 - ETA: 2s - loss: 0.5488 - accuracy: 0.80 - ETA: 2s - loss: 0.5460 - accuracy: 0.80 - ETA: 2s - loss: 0.5448 - accuracy: 0.80 - ETA: 2s - loss: 0.5431 - accuracy: 0.80 - ETA: 2s - loss: 0.5401 - accuracy: 0.81 - ETA: 2s - loss: 0.5374 - accuracy: 0.81 - ETA: 2s - loss: 0.5373 - accuracy: 0.81 - ETA: 2s - loss: 0.5348 - accuracy: 0.81 - ETA: 2s - loss: 0.5326 - accuracy: 0.81 - ETA: 2s - loss: 0.5310 - accuracy: 0.81 - ETA: 2s - loss: 0.5293 - accuracy: 0.81 - ETA: 2s - loss: 0.5272 - accuracy: 0.81 - ETA: 2s - loss: 0.5248 - accuracy: 0.81 - ETA: 2s - loss: 0.5241 - accuracy: 0.81 - ETA: 2s - loss: 0.5228 - accuracy: 0.81 - ETA: 2s - loss: 0.5205 - accuracy: 0.81 - ETA: 2s - loss: 0.5184 - accuracy: 0.81 - ETA: 1s - loss: 0.5162 - accuracy: 0.81 - ETA: 1s - loss: 0.5151 - accuracy: 0.81 - ETA: 1s - loss: 0.5144 - accuracy: 0.81 - ETA: 1s - loss: 0.5128 - accuracy: 0.81 - ETA: 1s - loss: 0.5111 - accuracy: 0.81 - ETA: 1s - loss: 0.5099 - accuracy: 0.82 - ETA: 1s - loss: 0.5099 - accuracy: 0.82 - ETA: 1s - loss: 0.5085 - accuracy: 0.82 - ETA: 1s - loss: 0.5066 - accuracy: 0.82 - ETA: 1s - loss: 0.5053 - accuracy: 0.82 - ETA: 1s - loss: 0.5046 - accuracy: 0.82 - ETA: 1s - loss: 0.5032 - accuracy: 0.82 - ETA: 1s - loss: 0.5026 - accuracy: 0.82 - ETA: 1s - loss: 0.5013 - accuracy: 0.82 - ETA: 1s - loss: 0.4997 - accuracy: 0.82 - ETA: 1s - loss: 0.4989 - accuracy: 0.82 - ETA: 1s - loss: 0.4968 - accuracy: 0.82 - ETA: 1s - loss: 0.4964 - accuracy: 0.82 - ETA: 1s - loss: 0.4956 - accuracy: 0.82 - ETA: 1s - loss: 0.4946 - accuracy: 0.82 - ETA: 0s - loss: 0.4931 - accuracy: 0.82 - ETA: 0s - loss: 0.4914 - accuracy: 0.82 - ETA: 0s - loss: 0.4904 - accuracy: 0.82 - ETA: 0s - loss: 0.4892 - accuracy: 0.82 - ETA: 0s - loss: 0.4879 - accuracy: 0.82 - ETA: 0s - loss: 0.4872 - accuracy: 0.82 - ETA: 0s - loss: 0.4867 - accuracy: 0.82 - ETA: 0s - loss: 0.4858 - accuracy: 0.82 - ETA: 0s - loss: 0.4848 - accuracy: 0.82 - ETA: 0s - loss: 0.4839 - accuracy: 0.82 - ETA: 0s - loss: 0.4826 - accuracy: 0.82 - ETA: 0s - loss: 0.4819 - accuracy: 0.82 - ETA: 0s - loss: 0.4811 - accuracy: 0.82 - ETA: 0s - loss: 0.4806 - accuracy: 0.82 - ETA: 0s - loss: 0.4794 - accuracy: 0.82 - ETA: 0s - loss: 0.4783 - accuracy: 0.83 - ETA: 0s - loss: 0.4780 - accuracy: 0.83 - ETA: 0s - loss: 0.4771 - accuracy: 0.83 - ETA: 0s - loss: 0.4762 - accuracy: 0.83 - 5s 3ms/step - loss: 0.4757 - accuracy: 0.8306\n",
      "Epoch 2/10\n"
     ]
    },
    {
     "name": "stdout",
     "output_type": "stream",
     "text": [
      "1875/1875 [==============================] - ETA: 0s - loss: 0.3001 - accuracy: 0.87 - ETA: 4s - loss: 0.4240 - accuracy: 0.84 - ETA: 4s - loss: 0.3987 - accuracy: 0.86 - ETA: 4s - loss: 0.3921 - accuracy: 0.86 - ETA: 4s - loss: 0.3837 - accuracy: 0.86 - ETA: 4s - loss: 0.3817 - accuracy: 0.86 - ETA: 4s - loss: 0.3774 - accuracy: 0.86 - ETA: 4s - loss: 0.3695 - accuracy: 0.86 - ETA: 4s - loss: 0.3669 - accuracy: 0.86 - ETA: 4s - loss: 0.3700 - accuracy: 0.86 - ETA: 4s - loss: 0.3723 - accuracy: 0.86 - ETA: 4s - loss: 0.3740 - accuracy: 0.86 - ETA: 4s - loss: 0.3758 - accuracy: 0.86 - ETA: 4s - loss: 0.3752 - accuracy: 0.86 - ETA: 4s - loss: 0.3738 - accuracy: 0.86 - ETA: 4s - loss: 0.3736 - accuracy: 0.86 - ETA: 4s - loss: 0.3745 - accuracy: 0.86 - ETA: 4s - loss: 0.3722 - accuracy: 0.86 - ETA: 4s - loss: 0.3707 - accuracy: 0.86 - ETA: 4s - loss: 0.3732 - accuracy: 0.86 - ETA: 4s - loss: 0.3728 - accuracy: 0.86 - ETA: 3s - loss: 0.3726 - accuracy: 0.86 - ETA: 3s - loss: 0.3735 - accuracy: 0.86 - ETA: 3s - loss: 0.3737 - accuracy: 0.86 - ETA: 3s - loss: 0.3767 - accuracy: 0.86 - ETA: 3s - loss: 0.3772 - accuracy: 0.86 - ETA: 3s - loss: 0.3760 - accuracy: 0.86 - ETA: 3s - loss: 0.3751 - accuracy: 0.86 - ETA: 3s - loss: 0.3763 - accuracy: 0.86 - ETA: 3s - loss: 0.3741 - accuracy: 0.86 - ETA: 3s - loss: 0.3728 - accuracy: 0.86 - ETA: 3s - loss: 0.3713 - accuracy: 0.86 - ETA: 3s - loss: 0.3710 - accuracy: 0.86 - ETA: 3s - loss: 0.3709 - accuracy: 0.86 - ETA: 3s - loss: 0.3712 - accuracy: 0.86 - ETA: 3s - loss: 0.3699 - accuracy: 0.86 - ETA: 3s - loss: 0.3711 - accuracy: 0.86 - ETA: 3s - loss: 0.3713 - accuracy: 0.86 - ETA: 3s - loss: 0.3694 - accuracy: 0.86 - ETA: 3s - loss: 0.3686 - accuracy: 0.86 - ETA: 3s - loss: 0.3676 - accuracy: 0.86 - ETA: 3s - loss: 0.3692 - accuracy: 0.86 - ETA: 2s - loss: 0.3690 - accuracy: 0.86 - ETA: 2s - loss: 0.3695 - accuracy: 0.86 - ETA: 2s - loss: 0.3687 - accuracy: 0.86 - ETA: 2s - loss: 0.3697 - accuracy: 0.86 - ETA: 2s - loss: 0.3697 - accuracy: 0.86 - ETA: 2s - loss: 0.3701 - accuracy: 0.86 - ETA: 2s - loss: 0.3707 - accuracy: 0.86 - ETA: 2s - loss: 0.3708 - accuracy: 0.86 - ETA: 2s - loss: 0.3709 - accuracy: 0.86 - ETA: 2s - loss: 0.3697 - accuracy: 0.86 - ETA: 2s - loss: 0.3698 - accuracy: 0.86 - ETA: 2s - loss: 0.3696 - accuracy: 0.86 - ETA: 2s - loss: 0.3683 - accuracy: 0.86 - ETA: 2s - loss: 0.3686 - accuracy: 0.86 - ETA: 2s - loss: 0.3681 - accuracy: 0.86 - ETA: 2s - loss: 0.3687 - accuracy: 0.86 - ETA: 2s - loss: 0.3681 - accuracy: 0.86 - ETA: 2s - loss: 0.3679 - accuracy: 0.86 - ETA: 2s - loss: 0.3677 - accuracy: 0.86 - ETA: 2s - loss: 0.3663 - accuracy: 0.86 - ETA: 1s - loss: 0.3658 - accuracy: 0.86 - ETA: 1s - loss: 0.3659 - accuracy: 0.86 - ETA: 1s - loss: 0.3661 - accuracy: 0.86 - ETA: 1s - loss: 0.3655 - accuracy: 0.86 - ETA: 1s - loss: 0.3651 - accuracy: 0.86 - ETA: 1s - loss: 0.3647 - accuracy: 0.86 - ETA: 1s - loss: 0.3643 - accuracy: 0.86 - ETA: 1s - loss: 0.3641 - accuracy: 0.86 - ETA: 1s - loss: 0.3646 - accuracy: 0.86 - ETA: 1s - loss: 0.3648 - accuracy: 0.86 - ETA: 1s - loss: 0.3639 - accuracy: 0.86 - ETA: 1s - loss: 0.3638 - accuracy: 0.86 - ETA: 1s - loss: 0.3639 - accuracy: 0.86 - ETA: 1s - loss: 0.3633 - accuracy: 0.86 - ETA: 1s - loss: 0.3637 - accuracy: 0.86 - ETA: 1s - loss: 0.3637 - accuracy: 0.86 - ETA: 1s - loss: 0.3635 - accuracy: 0.86 - ETA: 1s - loss: 0.3630 - accuracy: 0.86 - ETA: 1s - loss: 0.3626 - accuracy: 0.86 - ETA: 1s - loss: 0.3620 - accuracy: 0.86 - ETA: 1s - loss: 0.3620 - accuracy: 0.86 - ETA: 1s - loss: 0.3618 - accuracy: 0.86 - ETA: 0s - loss: 0.3614 - accuracy: 0.86 - ETA: 0s - loss: 0.3604 - accuracy: 0.86 - ETA: 0s - loss: 0.3603 - accuracy: 0.86 - ETA: 0s - loss: 0.3607 - accuracy: 0.86 - ETA: 0s - loss: 0.3600 - accuracy: 0.87 - ETA: 0s - loss: 0.3601 - accuracy: 0.86 - ETA: 0s - loss: 0.3598 - accuracy: 0.87 - ETA: 0s - loss: 0.3604 - accuracy: 0.86 - ETA: 0s - loss: 0.3605 - accuracy: 0.86 - ETA: 0s - loss: 0.3605 - accuracy: 0.86 - ETA: 0s - loss: 0.3601 - accuracy: 0.86 - ETA: 0s - loss: 0.3597 - accuracy: 0.87 - ETA: 0s - loss: 0.3592 - accuracy: 0.87 - ETA: 0s - loss: 0.3594 - accuracy: 0.86 - ETA: 0s - loss: 0.3595 - accuracy: 0.86 - ETA: 0s - loss: 0.3596 - accuracy: 0.86 - ETA: 0s - loss: 0.3594 - accuracy: 0.86 - ETA: 0s - loss: 0.3588 - accuracy: 0.87 - ETA: 0s - loss: 0.3586 - accuracy: 0.87 - 5s 3ms/step - loss: 0.3587 - accuracy: 0.8702\n",
      "Epoch 3/10\n"
     ]
    },
    {
     "name": "stdout",
     "output_type": "stream",
     "text": [
      "1875/1875 [==============================] - ETA: 0s - loss: 0.1359 - accuracy: 0.93 - ETA: 4s - loss: 0.3668 - accuracy: 0.86 - ETA: 4s - loss: 0.3756 - accuracy: 0.85 - ETA: 4s - loss: 0.3672 - accuracy: 0.86 - ETA: 4s - loss: 0.3610 - accuracy: 0.86 - ETA: 4s - loss: 0.3510 - accuracy: 0.86 - ETA: 4s - loss: 0.3443 - accuracy: 0.87 - ETA: 4s - loss: 0.3397 - accuracy: 0.87 - ETA: 4s - loss: 0.3391 - accuracy: 0.87 - ETA: 4s - loss: 0.3350 - accuracy: 0.87 - ETA: 4s - loss: 0.3377 - accuracy: 0.87 - ETA: 4s - loss: 0.3374 - accuracy: 0.87 - ETA: 4s - loss: 0.3373 - accuracy: 0.87 - ETA: 4s - loss: 0.3342 - accuracy: 0.87 - ETA: 4s - loss: 0.3310 - accuracy: 0.87 - ETA: 4s - loss: 0.3300 - accuracy: 0.87 - ETA: 4s - loss: 0.3306 - accuracy: 0.87 - ETA: 4s - loss: 0.3320 - accuracy: 0.87 - ETA: 4s - loss: 0.3315 - accuracy: 0.87 - ETA: 4s - loss: 0.3300 - accuracy: 0.87 - ETA: 4s - loss: 0.3291 - accuracy: 0.87 - ETA: 4s - loss: 0.3287 - accuracy: 0.87 - ETA: 4s - loss: 0.3288 - accuracy: 0.87 - ETA: 4s - loss: 0.3283 - accuracy: 0.87 - ETA: 4s - loss: 0.3290 - accuracy: 0.87 - ETA: 3s - loss: 0.3283 - accuracy: 0.87 - ETA: 3s - loss: 0.3294 - accuracy: 0.87 - ETA: 3s - loss: 0.3283 - accuracy: 0.87 - ETA: 3s - loss: 0.3272 - accuracy: 0.87 - ETA: 3s - loss: 0.3274 - accuracy: 0.87 - ETA: 3s - loss: 0.3281 - accuracy: 0.87 - ETA: 3s - loss: 0.3290 - accuracy: 0.87 - ETA: 3s - loss: 0.3300 - accuracy: 0.87 - ETA: 3s - loss: 0.3302 - accuracy: 0.87 - ETA: 3s - loss: 0.3300 - accuracy: 0.87 - ETA: 3s - loss: 0.3300 - accuracy: 0.87 - ETA: 3s - loss: 0.3291 - accuracy: 0.87 - ETA: 3s - loss: 0.3290 - accuracy: 0.87 - ETA: 3s - loss: 0.3297 - accuracy: 0.87 - ETA: 3s - loss: 0.3298 - accuracy: 0.87 - ETA: 3s - loss: 0.3300 - accuracy: 0.87 - ETA: 3s - loss: 0.3292 - accuracy: 0.87 - ETA: 3s - loss: 0.3295 - accuracy: 0.87 - ETA: 3s - loss: 0.3295 - accuracy: 0.87 - ETA: 3s - loss: 0.3289 - accuracy: 0.87 - ETA: 2s - loss: 0.3276 - accuracy: 0.88 - ETA: 2s - loss: 0.3276 - accuracy: 0.88 - ETA: 2s - loss: 0.3266 - accuracy: 0.88 - ETA: 2s - loss: 0.3273 - accuracy: 0.87 - ETA: 2s - loss: 0.3271 - accuracy: 0.88 - ETA: 2s - loss: 0.3276 - accuracy: 0.88 - ETA: 2s - loss: 0.3276 - accuracy: 0.88 - ETA: 2s - loss: 0.3268 - accuracy: 0.88 - ETA: 2s - loss: 0.3261 - accuracy: 0.88 - ETA: 2s - loss: 0.3259 - accuracy: 0.88 - ETA: 2s - loss: 0.3252 - accuracy: 0.88 - ETA: 2s - loss: 0.3247 - accuracy: 0.88 - ETA: 2s - loss: 0.3248 - accuracy: 0.88 - ETA: 2s - loss: 0.3256 - accuracy: 0.88 - ETA: 2s - loss: 0.3261 - accuracy: 0.88 - ETA: 2s - loss: 0.3257 - accuracy: 0.88 - ETA: 2s - loss: 0.3260 - accuracy: 0.88 - ETA: 2s - loss: 0.3250 - accuracy: 0.88 - ETA: 2s - loss: 0.3246 - accuracy: 0.88 - ETA: 2s - loss: 0.3246 - accuracy: 0.88 - ETA: 1s - loss: 0.3244 - accuracy: 0.88 - ETA: 1s - loss: 0.3244 - accuracy: 0.88 - ETA: 1s - loss: 0.3240 - accuracy: 0.88 - ETA: 1s - loss: 0.3245 - accuracy: 0.88 - ETA: 1s - loss: 0.3244 - accuracy: 0.88 - ETA: 1s - loss: 0.3246 - accuracy: 0.88 - ETA: 1s - loss: 0.3244 - accuracy: 0.88 - ETA: 1s - loss: 0.3242 - accuracy: 0.88 - ETA: 1s - loss: 0.3244 - accuracy: 0.88 - ETA: 1s - loss: 0.3245 - accuracy: 0.88 - ETA: 1s - loss: 0.3244 - accuracy: 0.88 - ETA: 1s - loss: 0.3245 - accuracy: 0.88 - ETA: 1s - loss: 0.3245 - accuracy: 0.88 - ETA: 1s - loss: 0.3241 - accuracy: 0.88 - ETA: 1s - loss: 0.3244 - accuracy: 0.88 - ETA: 1s - loss: 0.3241 - accuracy: 0.88 - ETA: 1s - loss: 0.3241 - accuracy: 0.88 - ETA: 1s - loss: 0.3235 - accuracy: 0.88 - ETA: 1s - loss: 0.3234 - accuracy: 0.88 - ETA: 1s - loss: 0.3232 - accuracy: 0.88 - ETA: 1s - loss: 0.3237 - accuracy: 0.88 - ETA: 1s - loss: 0.3237 - accuracy: 0.88 - ETA: 1s - loss: 0.3235 - accuracy: 0.88 - ETA: 0s - loss: 0.3237 - accuracy: 0.88 - ETA: 0s - loss: 0.3240 - accuracy: 0.88 - ETA: 0s - loss: 0.3243 - accuracy: 0.88 - ETA: 0s - loss: 0.3247 - accuracy: 0.88 - ETA: 0s - loss: 0.3247 - accuracy: 0.88 - ETA: 0s - loss: 0.3247 - accuracy: 0.88 - ETA: 0s - loss: 0.3249 - accuracy: 0.88 - ETA: 0s - loss: 0.3249 - accuracy: 0.88 - ETA: 0s - loss: 0.3250 - accuracy: 0.88 - ETA: 0s - loss: 0.3254 - accuracy: 0.88 - ETA: 0s - loss: 0.3255 - accuracy: 0.88 - ETA: 0s - loss: 0.3252 - accuracy: 0.88 - ETA: 0s - loss: 0.3256 - accuracy: 0.88 - ETA: 0s - loss: 0.3259 - accuracy: 0.88 - ETA: 0s - loss: 0.3256 - accuracy: 0.88 - ETA: 0s - loss: 0.3254 - accuracy: 0.88 - ETA: 0s - loss: 0.3252 - accuracy: 0.88 - ETA: 0s - loss: 0.3248 - accuracy: 0.88 - ETA: 0s - loss: 0.3244 - accuracy: 0.88 - ETA: 0s - loss: 0.3241 - accuracy: 0.88 - ETA: 0s - loss: 0.3238 - accuracy: 0.88 - ETA: 0s - loss: 0.3236 - accuracy: 0.88 - ETA: 0s - loss: 0.3238 - accuracy: 0.88 - ETA: 0s - loss: 0.3239 - accuracy: 0.88 - ETA: 0s - loss: 0.3235 - accuracy: 0.88 - ETA: 0s - loss: 0.3229 - accuracy: 0.88 - 6s 3ms/step - loss: 0.3230 - accuracy: 0.8819\n",
      "Epoch 4/10\n"
     ]
    },
    {
     "name": "stdout",
     "output_type": "stream",
     "text": [
      "1875/1875 [==============================] - ETA: 0s - loss: 0.2217 - accuracy: 0.90 - ETA: 7s - loss: 0.2354 - accuracy: 0.91 - ETA: 7s - loss: 0.2480 - accuracy: 0.91 - ETA: 7s - loss: 0.2623 - accuracy: 0.90 - ETA: 7s - loss: 0.2574 - accuracy: 0.90 - ETA: 7s - loss: 0.2536 - accuracy: 0.90 - ETA: 7s - loss: 0.2682 - accuracy: 0.89 - ETA: 7s - loss: 0.2762 - accuracy: 0.89 - ETA: 7s - loss: 0.2711 - accuracy: 0.89 - ETA: 7s - loss: 0.2766 - accuracy: 0.89 - ETA: 7s - loss: 0.2806 - accuracy: 0.89 - ETA: 7s - loss: 0.2825 - accuracy: 0.89 - ETA: 6s - loss: 0.2847 - accuracy: 0.89 - ETA: 6s - loss: 0.2852 - accuracy: 0.89 - ETA: 6s - loss: 0.2855 - accuracy: 0.89 - ETA: 6s - loss: 0.2860 - accuracy: 0.89 - ETA: 6s - loss: 0.2861 - accuracy: 0.89 - ETA: 6s - loss: 0.2853 - accuracy: 0.89 - ETA: 6s - loss: 0.2864 - accuracy: 0.89 - ETA: 6s - loss: 0.2850 - accuracy: 0.89 - ETA: 6s - loss: 0.2875 - accuracy: 0.89 - ETA: 6s - loss: 0.2867 - accuracy: 0.89 - ETA: 6s - loss: 0.2865 - accuracy: 0.89 - ETA: 6s - loss: 0.2877 - accuracy: 0.89 - ETA: 6s - loss: 0.2863 - accuracy: 0.89 - ETA: 6s - loss: 0.2880 - accuracy: 0.89 - ETA: 5s - loss: 0.2905 - accuracy: 0.89 - ETA: 5s - loss: 0.2910 - accuracy: 0.89 - ETA: 5s - loss: 0.2912 - accuracy: 0.89 - ETA: 5s - loss: 0.2904 - accuracy: 0.89 - ETA: 5s - loss: 0.2930 - accuracy: 0.89 - ETA: 5s - loss: 0.2934 - accuracy: 0.89 - ETA: 5s - loss: 0.2931 - accuracy: 0.89 - ETA: 5s - loss: 0.2930 - accuracy: 0.89 - ETA: 5s - loss: 0.2963 - accuracy: 0.89 - ETA: 5s - loss: 0.2973 - accuracy: 0.89 - ETA: 5s - loss: 0.2966 - accuracy: 0.89 - ETA: 5s - loss: 0.2974 - accuracy: 0.88 - ETA: 4s - loss: 0.2983 - accuracy: 0.88 - ETA: 4s - loss: 0.2986 - accuracy: 0.88 - ETA: 4s - loss: 0.2967 - accuracy: 0.89 - ETA: 4s - loss: 0.2963 - accuracy: 0.89 - ETA: 4s - loss: 0.2960 - accuracy: 0.89 - ETA: 4s - loss: 0.2967 - accuracy: 0.89 - ETA: 4s - loss: 0.2970 - accuracy: 0.89 - ETA: 4s - loss: 0.2961 - accuracy: 0.89 - ETA: 4s - loss: 0.2967 - accuracy: 0.89 - ETA: 4s - loss: 0.2962 - accuracy: 0.89 - ETA: 3s - loss: 0.2969 - accuracy: 0.89 - ETA: 3s - loss: 0.2970 - accuracy: 0.89 - ETA: 3s - loss: 0.2970 - accuracy: 0.89 - ETA: 3s - loss: 0.2967 - accuracy: 0.89 - ETA: 3s - loss: 0.2971 - accuracy: 0.89 - ETA: 3s - loss: 0.2965 - accuracy: 0.89 - ETA: 3s - loss: 0.2966 - accuracy: 0.89 - ETA: 3s - loss: 0.2966 - accuracy: 0.89 - ETA: 3s - loss: 0.2969 - accuracy: 0.89 - ETA: 3s - loss: 0.2964 - accuracy: 0.89 - ETA: 3s - loss: 0.2968 - accuracy: 0.89 - ETA: 2s - loss: 0.2976 - accuracy: 0.89 - ETA: 2s - loss: 0.2976 - accuracy: 0.89 - ETA: 2s - loss: 0.2983 - accuracy: 0.88 - ETA: 2s - loss: 0.2981 - accuracy: 0.88 - ETA: 2s - loss: 0.2982 - accuracy: 0.88 - ETA: 2s - loss: 0.2978 - accuracy: 0.88 - ETA: 2s - loss: 0.2976 - accuracy: 0.88 - ETA: 2s - loss: 0.2970 - accuracy: 0.88 - ETA: 2s - loss: 0.2976 - accuracy: 0.88 - ETA: 2s - loss: 0.2977 - accuracy: 0.88 - ETA: 2s - loss: 0.2977 - accuracy: 0.88 - ETA: 2s - loss: 0.2975 - accuracy: 0.88 - ETA: 2s - loss: 0.2974 - accuracy: 0.88 - ETA: 2s - loss: 0.2975 - accuracy: 0.88 - ETA: 2s - loss: 0.2972 - accuracy: 0.88 - ETA: 1s - loss: 0.2974 - accuracy: 0.88 - ETA: 1s - loss: 0.2967 - accuracy: 0.88 - ETA: 1s - loss: 0.2961 - accuracy: 0.89 - ETA: 1s - loss: 0.2961 - accuracy: 0.89 - ETA: 1s - loss: 0.2964 - accuracy: 0.89 - ETA: 1s - loss: 0.2963 - accuracy: 0.89 - ETA: 1s - loss: 0.2962 - accuracy: 0.89 - ETA: 1s - loss: 0.2957 - accuracy: 0.89 - ETA: 1s - loss: 0.2959 - accuracy: 0.89 - ETA: 1s - loss: 0.2959 - accuracy: 0.89 - ETA: 1s - loss: 0.2952 - accuracy: 0.89 - ETA: 1s - loss: 0.2959 - accuracy: 0.89 - ETA: 1s - loss: 0.2965 - accuracy: 0.88 - ETA: 1s - loss: 0.2966 - accuracy: 0.88 - ETA: 1s - loss: 0.2963 - accuracy: 0.89 - ETA: 1s - loss: 0.2960 - accuracy: 0.88 - ETA: 0s - loss: 0.2959 - accuracy: 0.88 - ETA: 0s - loss: 0.2959 - accuracy: 0.88 - ETA: 0s - loss: 0.2956 - accuracy: 0.89 - ETA: 0s - loss: 0.2960 - accuracy: 0.89 - ETA: 0s - loss: 0.2960 - accuracy: 0.89 - ETA: 0s - loss: 0.2964 - accuracy: 0.89 - ETA: 0s - loss: 0.2971 - accuracy: 0.88 - ETA: 0s - loss: 0.2974 - accuracy: 0.88 - ETA: 0s - loss: 0.2977 - accuracy: 0.88 - ETA: 0s - loss: 0.2977 - accuracy: 0.88 - ETA: 0s - loss: 0.2974 - accuracy: 0.88 - ETA: 0s - loss: 0.2973 - accuracy: 0.88 - ETA: 0s - loss: 0.2970 - accuracy: 0.88 - ETA: 0s - loss: 0.2965 - accuracy: 0.88 - ETA: 0s - loss: 0.2968 - accuracy: 0.88 - ETA: 0s - loss: 0.2968 - accuracy: 0.88 - ETA: 0s - loss: 0.2969 - accuracy: 0.88 - ETA: 0s - loss: 0.2973 - accuracy: 0.88 - 6s 3ms/step - loss: 0.2974 - accuracy: 0.8895\n",
      "Epoch 5/10\n"
     ]
    },
    {
     "name": "stdout",
     "output_type": "stream",
     "text": [
      "1875/1875 [==============================] - ETA: 0s - loss: 0.1533 - accuracy: 0.96 - ETA: 4s - loss: 0.2795 - accuracy: 0.90 - ETA: 4s - loss: 0.2647 - accuracy: 0.90 - ETA: 4s - loss: 0.2751 - accuracy: 0.89 - ETA: 4s - loss: 0.2785 - accuracy: 0.89 - ETA: 4s - loss: 0.2777 - accuracy: 0.89 - ETA: 4s - loss: 0.2765 - accuracy: 0.89 - ETA: 4s - loss: 0.2748 - accuracy: 0.89 - ETA: 4s - loss: 0.2750 - accuracy: 0.89 - ETA: 4s - loss: 0.2792 - accuracy: 0.89 - ETA: 4s - loss: 0.2758 - accuracy: 0.89 - ETA: 4s - loss: 0.2744 - accuracy: 0.89 - ETA: 4s - loss: 0.2788 - accuracy: 0.89 - ETA: 4s - loss: 0.2811 - accuracy: 0.89 - ETA: 4s - loss: 0.2834 - accuracy: 0.89 - ETA: 4s - loss: 0.2843 - accuracy: 0.89 - ETA: 4s - loss: 0.2827 - accuracy: 0.89 - ETA: 4s - loss: 0.2849 - accuracy: 0.89 - ETA: 4s - loss: 0.2843 - accuracy: 0.89 - ETA: 4s - loss: 0.2858 - accuracy: 0.89 - ETA: 4s - loss: 0.2872 - accuracy: 0.89 - ETA: 4s - loss: 0.2874 - accuracy: 0.89 - ETA: 3s - loss: 0.2872 - accuracy: 0.89 - ETA: 3s - loss: 0.2860 - accuracy: 0.89 - ETA: 3s - loss: 0.2855 - accuracy: 0.89 - ETA: 3s - loss: 0.2852 - accuracy: 0.89 - ETA: 3s - loss: 0.2842 - accuracy: 0.89 - ETA: 3s - loss: 0.2836 - accuracy: 0.89 - ETA: 3s - loss: 0.2829 - accuracy: 0.89 - ETA: 3s - loss: 0.2832 - accuracy: 0.89 - ETA: 3s - loss: 0.2825 - accuracy: 0.89 - ETA: 3s - loss: 0.2819 - accuracy: 0.89 - ETA: 3s - loss: 0.2814 - accuracy: 0.89 - ETA: 3s - loss: 0.2805 - accuracy: 0.89 - ETA: 3s - loss: 0.2800 - accuracy: 0.89 - ETA: 3s - loss: 0.2797 - accuracy: 0.89 - ETA: 3s - loss: 0.2800 - accuracy: 0.89 - ETA: 3s - loss: 0.2800 - accuracy: 0.89 - ETA: 3s - loss: 0.2789 - accuracy: 0.89 - ETA: 3s - loss: 0.2782 - accuracy: 0.89 - ETA: 2s - loss: 0.2779 - accuracy: 0.89 - ETA: 2s - loss: 0.2781 - accuracy: 0.89 - ETA: 2s - loss: 0.2783 - accuracy: 0.89 - ETA: 2s - loss: 0.2791 - accuracy: 0.89 - ETA: 2s - loss: 0.2799 - accuracy: 0.89 - ETA: 2s - loss: 0.2808 - accuracy: 0.89 - ETA: 2s - loss: 0.2808 - accuracy: 0.89 - ETA: 2s - loss: 0.2799 - accuracy: 0.89 - ETA: 2s - loss: 0.2790 - accuracy: 0.89 - ETA: 2s - loss: 0.2797 - accuracy: 0.89 - ETA: 2s - loss: 0.2796 - accuracy: 0.89 - ETA: 2s - loss: 0.2795 - accuracy: 0.89 - ETA: 2s - loss: 0.2796 - accuracy: 0.89 - ETA: 2s - loss: 0.2787 - accuracy: 0.89 - ETA: 2s - loss: 0.2793 - accuracy: 0.89 - ETA: 2s - loss: 0.2791 - accuracy: 0.89 - ETA: 2s - loss: 0.2799 - accuracy: 0.89 - ETA: 2s - loss: 0.2803 - accuracy: 0.89 - ETA: 2s - loss: 0.2798 - accuracy: 0.89 - ETA: 2s - loss: 0.2807 - accuracy: 0.89 - ETA: 1s - loss: 0.2804 - accuracy: 0.89 - ETA: 1s - loss: 0.2806 - accuracy: 0.89 - ETA: 1s - loss: 0.2806 - accuracy: 0.89 - ETA: 1s - loss: 0.2799 - accuracy: 0.89 - ETA: 1s - loss: 0.2795 - accuracy: 0.89 - ETA: 1s - loss: 0.2794 - accuracy: 0.89 - ETA: 1s - loss: 0.2787 - accuracy: 0.89 - ETA: 1s - loss: 0.2789 - accuracy: 0.89 - ETA: 1s - loss: 0.2782 - accuracy: 0.89 - ETA: 1s - loss: 0.2784 - accuracy: 0.89 - ETA: 1s - loss: 0.2782 - accuracy: 0.89 - ETA: 1s - loss: 0.2788 - accuracy: 0.89 - ETA: 1s - loss: 0.2786 - accuracy: 0.89 - ETA: 1s - loss: 0.2788 - accuracy: 0.89 - ETA: 1s - loss: 0.2796 - accuracy: 0.89 - ETA: 1s - loss: 0.2805 - accuracy: 0.89 - ETA: 1s - loss: 0.2805 - accuracy: 0.89 - ETA: 1s - loss: 0.2799 - accuracy: 0.89 - ETA: 1s - loss: 0.2804 - accuracy: 0.89 - ETA: 0s - loss: 0.2803 - accuracy: 0.89 - ETA: 0s - loss: 0.2805 - accuracy: 0.89 - ETA: 0s - loss: 0.2811 - accuracy: 0.89 - ETA: 0s - loss: 0.2809 - accuracy: 0.89 - ETA: 0s - loss: 0.2807 - accuracy: 0.89 - ETA: 0s - loss: 0.2805 - accuracy: 0.89 - ETA: 0s - loss: 0.2805 - accuracy: 0.89 - ETA: 0s - loss: 0.2804 - accuracy: 0.89 - ETA: 0s - loss: 0.2807 - accuracy: 0.89 - ETA: 0s - loss: 0.2802 - accuracy: 0.89 - ETA: 0s - loss: 0.2803 - accuracy: 0.89 - ETA: 0s - loss: 0.2800 - accuracy: 0.89 - ETA: 0s - loss: 0.2800 - accuracy: 0.89 - ETA: 0s - loss: 0.2803 - accuracy: 0.89 - ETA: 0s - loss: 0.2801 - accuracy: 0.89 - ETA: 0s - loss: 0.2800 - accuracy: 0.89 - ETA: 0s - loss: 0.2797 - accuracy: 0.89 - ETA: 0s - loss: 0.2797 - accuracy: 0.89 - ETA: 0s - loss: 0.2800 - accuracy: 0.89 - ETA: 0s - loss: 0.2800 - accuracy: 0.89 - 5s 3ms/step - loss: 0.2797 - accuracy: 0.8962\n",
      "Epoch 6/10\n"
     ]
    },
    {
     "name": "stdout",
     "output_type": "stream",
     "text": [
      "1875/1875 [==============================] - ETA: 0s - loss: 0.4021 - accuracy: 0.81 - ETA: 4s - loss: 0.2506 - accuracy: 0.90 - ETA: 4s - loss: 0.2455 - accuracy: 0.90 - ETA: 4s - loss: 0.2524 - accuracy: 0.90 - ETA: 4s - loss: 0.2611 - accuracy: 0.90 - ETA: 4s - loss: 0.2623 - accuracy: 0.90 - ETA: 4s - loss: 0.2706 - accuracy: 0.89 - ETA: 4s - loss: 0.2675 - accuracy: 0.90 - ETA: 4s - loss: 0.2688 - accuracy: 0.90 - ETA: 4s - loss: 0.2655 - accuracy: 0.90 - ETA: 4s - loss: 0.2611 - accuracy: 0.90 - ETA: 4s - loss: 0.2598 - accuracy: 0.90 - ETA: 4s - loss: 0.2585 - accuracy: 0.90 - ETA: 4s - loss: 0.2554 - accuracy: 0.90 - ETA: 4s - loss: 0.2523 - accuracy: 0.90 - ETA: 4s - loss: 0.2535 - accuracy: 0.90 - ETA: 4s - loss: 0.2528 - accuracy: 0.90 - ETA: 4s - loss: 0.2527 - accuracy: 0.90 - ETA: 4s - loss: 0.2518 - accuracy: 0.90 - ETA: 4s - loss: 0.2560 - accuracy: 0.90 - ETA: 4s - loss: 0.2564 - accuracy: 0.90 - ETA: 4s - loss: 0.2576 - accuracy: 0.90 - ETA: 4s - loss: 0.2577 - accuracy: 0.90 - ETA: 4s - loss: 0.2587 - accuracy: 0.90 - ETA: 4s - loss: 0.2605 - accuracy: 0.90 - ETA: 3s - loss: 0.2605 - accuracy: 0.90 - ETA: 3s - loss: 0.2608 - accuracy: 0.90 - ETA: 3s - loss: 0.2597 - accuracy: 0.90 - ETA: 3s - loss: 0.2591 - accuracy: 0.90 - ETA: 3s - loss: 0.2601 - accuracy: 0.90 - ETA: 3s - loss: 0.2600 - accuracy: 0.90 - ETA: 3s - loss: 0.2619 - accuracy: 0.90 - ETA: 3s - loss: 0.2621 - accuracy: 0.90 - ETA: 3s - loss: 0.2621 - accuracy: 0.90 - ETA: 3s - loss: 0.2623 - accuracy: 0.90 - ETA: 3s - loss: 0.2632 - accuracy: 0.90 - ETA: 3s - loss: 0.2628 - accuracy: 0.90 - ETA: 3s - loss: 0.2630 - accuracy: 0.90 - ETA: 3s - loss: 0.2612 - accuracy: 0.90 - ETA: 3s - loss: 0.2625 - accuracy: 0.90 - ETA: 3s - loss: 0.2613 - accuracy: 0.90 - ETA: 2s - loss: 0.2613 - accuracy: 0.90 - ETA: 2s - loss: 0.2614 - accuracy: 0.90 - ETA: 2s - loss: 0.2621 - accuracy: 0.90 - ETA: 2s - loss: 0.2630 - accuracy: 0.90 - ETA: 2s - loss: 0.2628 - accuracy: 0.90 - ETA: 2s - loss: 0.2624 - accuracy: 0.90 - ETA: 2s - loss: 0.2618 - accuracy: 0.90 - ETA: 2s - loss: 0.2614 - accuracy: 0.90 - ETA: 2s - loss: 0.2616 - accuracy: 0.90 - ETA: 2s - loss: 0.2615 - accuracy: 0.90 - ETA: 2s - loss: 0.2625 - accuracy: 0.90 - ETA: 2s - loss: 0.2625 - accuracy: 0.90 - ETA: 2s - loss: 0.2620 - accuracy: 0.90 - ETA: 2s - loss: 0.2618 - accuracy: 0.90 - ETA: 2s - loss: 0.2623 - accuracy: 0.90 - ETA: 2s - loss: 0.2616 - accuracy: 0.90 - ETA: 2s - loss: 0.2610 - accuracy: 0.90 - ETA: 2s - loss: 0.2617 - accuracy: 0.90 - ETA: 1s - loss: 0.2618 - accuracy: 0.90 - ETA: 1s - loss: 0.2622 - accuracy: 0.90 - ETA: 1s - loss: 0.2619 - accuracy: 0.90 - ETA: 1s - loss: 0.2617 - accuracy: 0.90 - ETA: 1s - loss: 0.2623 - accuracy: 0.90 - ETA: 1s - loss: 0.2631 - accuracy: 0.90 - ETA: 1s - loss: 0.2631 - accuracy: 0.90 - ETA: 1s - loss: 0.2628 - accuracy: 0.90 - ETA: 1s - loss: 0.2623 - accuracy: 0.90 - ETA: 1s - loss: 0.2624 - accuracy: 0.90 - ETA: 1s - loss: 0.2622 - accuracy: 0.90 - ETA: 1s - loss: 0.2629 - accuracy: 0.90 - ETA: 1s - loss: 0.2622 - accuracy: 0.90 - ETA: 1s - loss: 0.2623 - accuracy: 0.90 - ETA: 1s - loss: 0.2620 - accuracy: 0.90 - ETA: 1s - loss: 0.2621 - accuracy: 0.90 - ETA: 1s - loss: 0.2621 - accuracy: 0.90 - ETA: 1s - loss: 0.2625 - accuracy: 0.90 - ETA: 1s - loss: 0.2628 - accuracy: 0.90 - ETA: 0s - loss: 0.2627 - accuracy: 0.90 - ETA: 0s - loss: 0.2626 - accuracy: 0.90 - ETA: 0s - loss: 0.2627 - accuracy: 0.90 - ETA: 0s - loss: 0.2623 - accuracy: 0.90 - ETA: 0s - loss: 0.2628 - accuracy: 0.90 - ETA: 0s - loss: 0.2626 - accuracy: 0.90 - ETA: 0s - loss: 0.2626 - accuracy: 0.90 - ETA: 0s - loss: 0.2631 - accuracy: 0.90 - ETA: 0s - loss: 0.2633 - accuracy: 0.90 - ETA: 0s - loss: 0.2640 - accuracy: 0.90 - ETA: 0s - loss: 0.2648 - accuracy: 0.90 - ETA: 0s - loss: 0.2646 - accuracy: 0.90 - ETA: 0s - loss: 0.2647 - accuracy: 0.90 - ETA: 0s - loss: 0.2646 - accuracy: 0.90 - ETA: 0s - loss: 0.2646 - accuracy: 0.90 - ETA: 0s - loss: 0.2644 - accuracy: 0.90 - ETA: 0s - loss: 0.2647 - accuracy: 0.90 - ETA: 0s - loss: 0.2647 - accuracy: 0.90 - ETA: 0s - loss: 0.2648 - accuracy: 0.90 - ETA: 0s - loss: 0.2651 - accuracy: 0.90 - 5s 3ms/step - loss: 0.2652 - accuracy: 0.9006\n",
      "Epoch 7/10\n"
     ]
    },
    {
     "name": "stdout",
     "output_type": "stream",
     "text": [
      "1875/1875 [==============================] - ETA: 0s - loss: 0.1007 - accuracy: 1.00 - ETA: 4s - loss: 0.2167 - accuracy: 0.92 - ETA: 4s - loss: 0.2267 - accuracy: 0.91 - ETA: 4s - loss: 0.2196 - accuracy: 0.91 - ETA: 4s - loss: 0.2243 - accuracy: 0.91 - ETA: 4s - loss: 0.2347 - accuracy: 0.91 - ETA: 4s - loss: 0.2369 - accuracy: 0.91 - ETA: 4s - loss: 0.2448 - accuracy: 0.90 - ETA: 4s - loss: 0.2478 - accuracy: 0.90 - ETA: 4s - loss: 0.2440 - accuracy: 0.90 - ETA: 4s - loss: 0.2451 - accuracy: 0.90 - ETA: 4s - loss: 0.2454 - accuracy: 0.90 - ETA: 4s - loss: 0.2490 - accuracy: 0.90 - ETA: 4s - loss: 0.2479 - accuracy: 0.90 - ETA: 4s - loss: 0.2480 - accuracy: 0.90 - ETA: 4s - loss: 0.2492 - accuracy: 0.90 - ETA: 4s - loss: 0.2490 - accuracy: 0.90 - ETA: 4s - loss: 0.2527 - accuracy: 0.90 - ETA: 4s - loss: 0.2530 - accuracy: 0.90 - ETA: 3s - loss: 0.2516 - accuracy: 0.90 - ETA: 3s - loss: 0.2510 - accuracy: 0.90 - ETA: 3s - loss: 0.2510 - accuracy: 0.90 - ETA: 3s - loss: 0.2498 - accuracy: 0.90 - ETA: 3s - loss: 0.2505 - accuracy: 0.90 - ETA: 3s - loss: 0.2508 - accuracy: 0.90 - ETA: 3s - loss: 0.2495 - accuracy: 0.90 - ETA: 3s - loss: 0.2505 - accuracy: 0.90 - ETA: 3s - loss: 0.2519 - accuracy: 0.90 - ETA: 3s - loss: 0.2501 - accuracy: 0.90 - ETA: 3s - loss: 0.2500 - accuracy: 0.90 - ETA: 3s - loss: 0.2505 - accuracy: 0.90 - ETA: 3s - loss: 0.2507 - accuracy: 0.90 - ETA: 3s - loss: 0.2512 - accuracy: 0.90 - ETA: 3s - loss: 0.2500 - accuracy: 0.90 - ETA: 3s - loss: 0.2500 - accuracy: 0.90 - ETA: 3s - loss: 0.2510 - accuracy: 0.90 - ETA: 3s - loss: 0.2517 - accuracy: 0.90 - ETA: 3s - loss: 0.2514 - accuracy: 0.90 - ETA: 3s - loss: 0.2518 - accuracy: 0.90 - ETA: 2s - loss: 0.2513 - accuracy: 0.90 - ETA: 2s - loss: 0.2507 - accuracy: 0.90 - ETA: 2s - loss: 0.2503 - accuracy: 0.90 - ETA: 2s - loss: 0.2498 - accuracy: 0.90 - ETA: 2s - loss: 0.2493 - accuracy: 0.90 - ETA: 2s - loss: 0.2505 - accuracy: 0.90 - ETA: 2s - loss: 0.2507 - accuracy: 0.90 - ETA: 2s - loss: 0.2504 - accuracy: 0.90 - ETA: 2s - loss: 0.2511 - accuracy: 0.90 - ETA: 2s - loss: 0.2519 - accuracy: 0.90 - ETA: 2s - loss: 0.2510 - accuracy: 0.90 - ETA: 2s - loss: 0.2505 - accuracy: 0.90 - ETA: 2s - loss: 0.2501 - accuracy: 0.90 - ETA: 2s - loss: 0.2499 - accuracy: 0.90 - ETA: 2s - loss: 0.2506 - accuracy: 0.90 - ETA: 2s - loss: 0.2515 - accuracy: 0.90 - ETA: 2s - loss: 0.2515 - accuracy: 0.90 - ETA: 2s - loss: 0.2517 - accuracy: 0.90 - ETA: 2s - loss: 0.2518 - accuracy: 0.90 - ETA: 2s - loss: 0.2519 - accuracy: 0.90 - ETA: 1s - loss: 0.2523 - accuracy: 0.90 - ETA: 1s - loss: 0.2521 - accuracy: 0.90 - ETA: 1s - loss: 0.2520 - accuracy: 0.90 - ETA: 1s - loss: 0.2520 - accuracy: 0.90 - ETA: 1s - loss: 0.2519 - accuracy: 0.90 - ETA: 1s - loss: 0.2514 - accuracy: 0.90 - ETA: 1s - loss: 0.2511 - accuracy: 0.90 - ETA: 1s - loss: 0.2517 - accuracy: 0.90 - ETA: 1s - loss: 0.2523 - accuracy: 0.90 - ETA: 1s - loss: 0.2528 - accuracy: 0.90 - ETA: 1s - loss: 0.2525 - accuracy: 0.90 - ETA: 1s - loss: 0.2524 - accuracy: 0.90 - ETA: 1s - loss: 0.2521 - accuracy: 0.90 - ETA: 1s - loss: 0.2522 - accuracy: 0.90 - ETA: 1s - loss: 0.2530 - accuracy: 0.90 - ETA: 1s - loss: 0.2530 - accuracy: 0.90 - ETA: 1s - loss: 0.2529 - accuracy: 0.90 - ETA: 1s - loss: 0.2524 - accuracy: 0.90 - ETA: 1s - loss: 0.2521 - accuracy: 0.90 - ETA: 0s - loss: 0.2524 - accuracy: 0.90 - ETA: 0s - loss: 0.2522 - accuracy: 0.90 - ETA: 0s - loss: 0.2525 - accuracy: 0.90 - ETA: 0s - loss: 0.2527 - accuracy: 0.90 - ETA: 0s - loss: 0.2528 - accuracy: 0.90 - ETA: 0s - loss: 0.2526 - accuracy: 0.90 - ETA: 0s - loss: 0.2527 - accuracy: 0.90 - ETA: 0s - loss: 0.2524 - accuracy: 0.90 - ETA: 0s - loss: 0.2524 - accuracy: 0.90 - ETA: 0s - loss: 0.2528 - accuracy: 0.90 - ETA: 0s - loss: 0.2531 - accuracy: 0.90 - ETA: 0s - loss: 0.2532 - accuracy: 0.90 - ETA: 0s - loss: 0.2528 - accuracy: 0.90 - ETA: 0s - loss: 0.2530 - accuracy: 0.90 - ETA: 0s - loss: 0.2531 - accuracy: 0.90 - ETA: 0s - loss: 0.2534 - accuracy: 0.90 - ETA: 0s - loss: 0.2531 - accuracy: 0.90 - ETA: 0s - loss: 0.2531 - accuracy: 0.90 - ETA: 0s - loss: 0.2532 - accuracy: 0.90 - 5s 3ms/step - loss: 0.2528 - accuracy: 0.9051\n",
      "Epoch 8/10\n"
     ]
    },
    {
     "name": "stdout",
     "output_type": "stream",
     "text": [
      "1875/1875 [==============================] - ETA: 0s - loss: 0.3777 - accuracy: 0.84 - ETA: 4s - loss: 0.2543 - accuracy: 0.90 - ETA: 4s - loss: 0.2477 - accuracy: 0.90 - ETA: 4s - loss: 0.2351 - accuracy: 0.91 - ETA: 4s - loss: 0.2303 - accuracy: 0.91 - ETA: 4s - loss: 0.2303 - accuracy: 0.91 - ETA: 4s - loss: 0.2298 - accuracy: 0.91 - ETA: 4s - loss: 0.2308 - accuracy: 0.91 - ETA: 4s - loss: 0.2302 - accuracy: 0.91 - ETA: 4s - loss: 0.2405 - accuracy: 0.91 - ETA: 4s - loss: 0.2385 - accuracy: 0.91 - ETA: 4s - loss: 0.2330 - accuracy: 0.91 - ETA: 4s - loss: 0.2346 - accuracy: 0.91 - ETA: 4s - loss: 0.2367 - accuracy: 0.91 - ETA: 4s - loss: 0.2375 - accuracy: 0.91 - ETA: 4s - loss: 0.2362 - accuracy: 0.91 - ETA: 4s - loss: 0.2360 - accuracy: 0.91 - ETA: 4s - loss: 0.2380 - accuracy: 0.91 - ETA: 4s - loss: 0.2384 - accuracy: 0.91 - ETA: 3s - loss: 0.2390 - accuracy: 0.91 - ETA: 3s - loss: 0.2398 - accuracy: 0.91 - ETA: 3s - loss: 0.2371 - accuracy: 0.91 - ETA: 3s - loss: 0.2366 - accuracy: 0.91 - ETA: 3s - loss: 0.2363 - accuracy: 0.91 - ETA: 3s - loss: 0.2352 - accuracy: 0.91 - ETA: 3s - loss: 0.2345 - accuracy: 0.91 - ETA: 3s - loss: 0.2351 - accuracy: 0.91 - ETA: 3s - loss: 0.2350 - accuracy: 0.91 - ETA: 3s - loss: 0.2352 - accuracy: 0.91 - ETA: 3s - loss: 0.2358 - accuracy: 0.91 - ETA: 3s - loss: 0.2367 - accuracy: 0.91 - ETA: 3s - loss: 0.2394 - accuracy: 0.91 - ETA: 3s - loss: 0.2409 - accuracy: 0.91 - ETA: 3s - loss: 0.2410 - accuracy: 0.91 - ETA: 3s - loss: 0.2421 - accuracy: 0.91 - ETA: 3s - loss: 0.2416 - accuracy: 0.91 - ETA: 3s - loss: 0.2419 - accuracy: 0.91 - ETA: 3s - loss: 0.2420 - accuracy: 0.91 - ETA: 3s - loss: 0.2428 - accuracy: 0.91 - ETA: 3s - loss: 0.2427 - accuracy: 0.91 - ETA: 2s - loss: 0.2422 - accuracy: 0.91 - ETA: 2s - loss: 0.2421 - accuracy: 0.91 - ETA: 2s - loss: 0.2422 - accuracy: 0.91 - ETA: 2s - loss: 0.2423 - accuracy: 0.91 - ETA: 2s - loss: 0.2423 - accuracy: 0.91 - ETA: 2s - loss: 0.2418 - accuracy: 0.91 - ETA: 2s - loss: 0.2418 - accuracy: 0.91 - ETA: 2s - loss: 0.2411 - accuracy: 0.91 - ETA: 2s - loss: 0.2411 - accuracy: 0.91 - ETA: 2s - loss: 0.2412 - accuracy: 0.91 - ETA: 2s - loss: 0.2415 - accuracy: 0.91 - ETA: 2s - loss: 0.2420 - accuracy: 0.91 - ETA: 2s - loss: 0.2412 - accuracy: 0.91 - ETA: 2s - loss: 0.2408 - accuracy: 0.91 - ETA: 2s - loss: 0.2421 - accuracy: 0.90 - ETA: 2s - loss: 0.2419 - accuracy: 0.90 - ETA: 2s - loss: 0.2417 - accuracy: 0.90 - ETA: 2s - loss: 0.2422 - accuracy: 0.90 - ETA: 2s - loss: 0.2425 - accuracy: 0.90 - ETA: 1s - loss: 0.2425 - accuracy: 0.90 - ETA: 1s - loss: 0.2427 - accuracy: 0.90 - ETA: 1s - loss: 0.2436 - accuracy: 0.90 - ETA: 1s - loss: 0.2433 - accuracy: 0.90 - ETA: 1s - loss: 0.2436 - accuracy: 0.90 - ETA: 1s - loss: 0.2434 - accuracy: 0.90 - ETA: 1s - loss: 0.2431 - accuracy: 0.90 - ETA: 1s - loss: 0.2434 - accuracy: 0.90 - ETA: 1s - loss: 0.2434 - accuracy: 0.90 - ETA: 1s - loss: 0.2432 - accuracy: 0.90 - ETA: 1s - loss: 0.2425 - accuracy: 0.90 - ETA: 1s - loss: 0.2425 - accuracy: 0.90 - ETA: 1s - loss: 0.2423 - accuracy: 0.90 - ETA: 1s - loss: 0.2420 - accuracy: 0.90 - ETA: 1s - loss: 0.2420 - accuracy: 0.90 - ETA: 1s - loss: 0.2419 - accuracy: 0.90 - ETA: 1s - loss: 0.2419 - accuracy: 0.90 - ETA: 1s - loss: 0.2421 - accuracy: 0.90 - ETA: 1s - loss: 0.2418 - accuracy: 0.90 - ETA: 1s - loss: 0.2412 - accuracy: 0.90 - ETA: 0s - loss: 0.2416 - accuracy: 0.90 - ETA: 0s - loss: 0.2422 - accuracy: 0.90 - ETA: 0s - loss: 0.2417 - accuracy: 0.90 - ETA: 0s - loss: 0.2419 - accuracy: 0.90 - ETA: 0s - loss: 0.2415 - accuracy: 0.90 - ETA: 0s - loss: 0.2414 - accuracy: 0.90 - ETA: 0s - loss: 0.2413 - accuracy: 0.90 - ETA: 0s - loss: 0.2413 - accuracy: 0.90 - ETA: 0s - loss: 0.2410 - accuracy: 0.90 - ETA: 0s - loss: 0.2416 - accuracy: 0.90 - ETA: 0s - loss: 0.2417 - accuracy: 0.90 - ETA: 0s - loss: 0.2415 - accuracy: 0.90 - ETA: 0s - loss: 0.2412 - accuracy: 0.90 - ETA: 0s - loss: 0.2413 - accuracy: 0.90 - ETA: 0s - loss: 0.2415 - accuracy: 0.90 - ETA: 0s - loss: 0.2418 - accuracy: 0.90 - ETA: 0s - loss: 0.2417 - accuracy: 0.90 - ETA: 0s - loss: 0.2416 - accuracy: 0.90 - ETA: 0s - loss: 0.2414 - accuracy: 0.90 - ETA: 0s - loss: 0.2416 - accuracy: 0.90 - ETA: 0s - loss: 0.2413 - accuracy: 0.90 - ETA: 0s - loss: 0.2414 - accuracy: 0.90 - ETA: 0s - loss: 0.2413 - accuracy: 0.90 - 5s 3ms/step - loss: 0.2413 - accuracy: 0.9091\n",
      "Epoch 9/10\n"
     ]
    },
    {
     "name": "stdout",
     "output_type": "stream",
     "text": [
      "1875/1875 [==============================] - ETA: 0s - loss: 0.1695 - accuracy: 0.93 - ETA: 5s - loss: 0.2085 - accuracy: 0.92 - ETA: 5s - loss: 0.2167 - accuracy: 0.92 - ETA: 5s - loss: 0.2166 - accuracy: 0.92 - ETA: 5s - loss: 0.2241 - accuracy: 0.92 - ETA: 6s - loss: 0.2329 - accuracy: 0.91 - ETA: 6s - loss: 0.2351 - accuracy: 0.91 - ETA: 6s - loss: 0.2301 - accuracy: 0.91 - ETA: 6s - loss: 0.2290 - accuracy: 0.91 - ETA: 6s - loss: 0.2253 - accuracy: 0.91 - ETA: 6s - loss: 0.2326 - accuracy: 0.91 - ETA: 6s - loss: 0.2324 - accuracy: 0.91 - ETA: 6s - loss: 0.2293 - accuracy: 0.91 - ETA: 6s - loss: 0.2305 - accuracy: 0.91 - ETA: 5s - loss: 0.2315 - accuracy: 0.91 - ETA: 5s - loss: 0.2332 - accuracy: 0.91 - ETA: 5s - loss: 0.2340 - accuracy: 0.91 - ETA: 5s - loss: 0.2296 - accuracy: 0.91 - ETA: 5s - loss: 0.2300 - accuracy: 0.91 - ETA: 5s - loss: 0.2316 - accuracy: 0.91 - ETA: 5s - loss: 0.2292 - accuracy: 0.91 - ETA: 5s - loss: 0.2267 - accuracy: 0.91 - ETA: 5s - loss: 0.2253 - accuracy: 0.91 - ETA: 5s - loss: 0.2263 - accuracy: 0.91 - ETA: 5s - loss: 0.2281 - accuracy: 0.91 - ETA: 5s - loss: 0.2270 - accuracy: 0.91 - ETA: 5s - loss: 0.2264 - accuracy: 0.91 - ETA: 4s - loss: 0.2272 - accuracy: 0.91 - ETA: 4s - loss: 0.2276 - accuracy: 0.91 - ETA: 4s - loss: 0.2282 - accuracy: 0.91 - ETA: 4s - loss: 0.2273 - accuracy: 0.91 - ETA: 4s - loss: 0.2281 - accuracy: 0.91 - ETA: 4s - loss: 0.2280 - accuracy: 0.91 - ETA: 4s - loss: 0.2293 - accuracy: 0.91 - ETA: 4s - loss: 0.2318 - accuracy: 0.91 - ETA: 4s - loss: 0.2324 - accuracy: 0.91 - ETA: 4s - loss: 0.2327 - accuracy: 0.91 - ETA: 4s - loss: 0.2328 - accuracy: 0.91 - ETA: 4s - loss: 0.2325 - accuracy: 0.91 - ETA: 4s - loss: 0.2341 - accuracy: 0.91 - ETA: 4s - loss: 0.2336 - accuracy: 0.91 - ETA: 4s - loss: 0.2345 - accuracy: 0.91 - ETA: 4s - loss: 0.2340 - accuracy: 0.91 - ETA: 3s - loss: 0.2332 - accuracy: 0.91 - ETA: 3s - loss: 0.2326 - accuracy: 0.91 - ETA: 3s - loss: 0.2321 - accuracy: 0.91 - ETA: 3s - loss: 0.2329 - accuracy: 0.91 - ETA: 3s - loss: 0.2317 - accuracy: 0.91 - ETA: 3s - loss: 0.2322 - accuracy: 0.91 - ETA: 3s - loss: 0.2319 - accuracy: 0.91 - ETA: 3s - loss: 0.2315 - accuracy: 0.91 - ETA: 3s - loss: 0.2327 - accuracy: 0.91 - ETA: 3s - loss: 0.2322 - accuracy: 0.91 - ETA: 3s - loss: 0.2314 - accuracy: 0.91 - ETA: 3s - loss: 0.2315 - accuracy: 0.91 - ETA: 3s - loss: 0.2311 - accuracy: 0.91 - ETA: 3s - loss: 0.2308 - accuracy: 0.91 - ETA: 3s - loss: 0.2316 - accuracy: 0.91 - ETA: 2s - loss: 0.2318 - accuracy: 0.91 - ETA: 2s - loss: 0.2322 - accuracy: 0.91 - ETA: 2s - loss: 0.2337 - accuracy: 0.91 - ETA: 2s - loss: 0.2340 - accuracy: 0.91 - ETA: 2s - loss: 0.2336 - accuracy: 0.91 - ETA: 2s - loss: 0.2336 - accuracy: 0.91 - ETA: 2s - loss: 0.2340 - accuracy: 0.91 - ETA: 2s - loss: 0.2345 - accuracy: 0.91 - ETA: 2s - loss: 0.2348 - accuracy: 0.91 - ETA: 2s - loss: 0.2346 - accuracy: 0.91 - ETA: 2s - loss: 0.2344 - accuracy: 0.91 - ETA: 2s - loss: 0.2340 - accuracy: 0.91 - ETA: 2s - loss: 0.2335 - accuracy: 0.91 - ETA: 2s - loss: 0.2333 - accuracy: 0.91 - ETA: 2s - loss: 0.2336 - accuracy: 0.91 - ETA: 2s - loss: 0.2343 - accuracy: 0.91 - ETA: 2s - loss: 0.2336 - accuracy: 0.91 - ETA: 2s - loss: 0.2336 - accuracy: 0.91 - ETA: 2s - loss: 0.2334 - accuracy: 0.91 - ETA: 2s - loss: 0.2336 - accuracy: 0.91 - ETA: 2s - loss: 0.2334 - accuracy: 0.91 - ETA: 2s - loss: 0.2334 - accuracy: 0.91 - ETA: 2s - loss: 0.2330 - accuracy: 0.91 - ETA: 2s - loss: 0.2331 - accuracy: 0.91 - ETA: 2s - loss: 0.2331 - accuracy: 0.91 - ETA: 2s - loss: 0.2332 - accuracy: 0.91 - ETA: 2s - loss: 0.2329 - accuracy: 0.91 - ETA: 1s - loss: 0.2332 - accuracy: 0.91 - ETA: 1s - loss: 0.2332 - accuracy: 0.91 - ETA: 1s - loss: 0.2324 - accuracy: 0.91 - ETA: 1s - loss: 0.2323 - accuracy: 0.91 - ETA: 1s - loss: 0.2322 - accuracy: 0.91 - ETA: 1s - loss: 0.2322 - accuracy: 0.91 - ETA: 1s - loss: 0.2318 - accuracy: 0.91 - ETA: 1s - loss: 0.2315 - accuracy: 0.91 - ETA: 1s - loss: 0.2316 - accuracy: 0.91 - ETA: 1s - loss: 0.2322 - accuracy: 0.91 - ETA: 1s - loss: 0.2325 - accuracy: 0.91 - ETA: 1s - loss: 0.2323 - accuracy: 0.91 - ETA: 1s - loss: 0.2324 - accuracy: 0.91 - ETA: 1s - loss: 0.2324 - accuracy: 0.91 - ETA: 1s - loss: 0.2322 - accuracy: 0.91 - ETA: 1s - loss: 0.2321 - accuracy: 0.91 - ETA: 1s - loss: 0.2324 - accuracy: 0.91 - ETA: 0s - loss: 0.2325 - accuracy: 0.91 - ETA: 0s - loss: 0.2325 - accuracy: 0.91 - ETA: 0s - loss: 0.2327 - accuracy: 0.91 - ETA: 0s - loss: 0.2326 - accuracy: 0.91 - ETA: 0s - loss: 0.2325 - accuracy: 0.91 - ETA: 0s - loss: 0.2322 - accuracy: 0.91 - ETA: 0s - loss: 0.2322 - accuracy: 0.91 - ETA: 0s - loss: 0.2321 - accuracy: 0.91 - ETA: 0s - loss: 0.2316 - accuracy: 0.91 - ETA: 0s - loss: 0.2314 - accuracy: 0.91 - ETA: 0s - loss: 0.2316 - accuracy: 0.91 - ETA: 0s - loss: 0.2316 - accuracy: 0.91 - ETA: 0s - loss: 0.2319 - accuracy: 0.91 - ETA: 0s - loss: 0.2319 - accuracy: 0.91 - ETA: 0s - loss: 0.2319 - accuracy: 0.91 - ETA: 0s - loss: 0.2324 - accuracy: 0.91 - ETA: 0s - loss: 0.2325 - accuracy: 0.91 - 6s 3ms/step - loss: 0.2325 - accuracy: 0.9127\n",
      "Epoch 10/10\n"
     ]
    },
    {
     "name": "stdout",
     "output_type": "stream",
     "text": [
      "1875/1875 [==============================] - ETA: 0s - loss: 0.2816 - accuracy: 0.90 - ETA: 5s - loss: 0.2104 - accuracy: 0.91 - ETA: 5s - loss: 0.2223 - accuracy: 0.90 - ETA: 5s - loss: 0.2180 - accuracy: 0.91 - ETA: 5s - loss: 0.2130 - accuracy: 0.91 - ETA: 5s - loss: 0.2035 - accuracy: 0.92 - ETA: 4s - loss: 0.2040 - accuracy: 0.92 - ETA: 4s - loss: 0.2153 - accuracy: 0.91 - ETA: 4s - loss: 0.2175 - accuracy: 0.91 - ETA: 4s - loss: 0.2189 - accuracy: 0.91 - ETA: 4s - loss: 0.2181 - accuracy: 0.91 - ETA: 4s - loss: 0.2224 - accuracy: 0.91 - ETA: 4s - loss: 0.2199 - accuracy: 0.91 - ETA: 4s - loss: 0.2190 - accuracy: 0.91 - ETA: 4s - loss: 0.2178 - accuracy: 0.91 - ETA: 4s - loss: 0.2188 - accuracy: 0.91 - ETA: 4s - loss: 0.2172 - accuracy: 0.91 - ETA: 4s - loss: 0.2157 - accuracy: 0.91 - ETA: 4s - loss: 0.2147 - accuracy: 0.91 - ETA: 4s - loss: 0.2166 - accuracy: 0.91 - ETA: 4s - loss: 0.2170 - accuracy: 0.91 - ETA: 4s - loss: 0.2159 - accuracy: 0.91 - ETA: 4s - loss: 0.2160 - accuracy: 0.91 - ETA: 4s - loss: 0.2149 - accuracy: 0.91 - ETA: 4s - loss: 0.2161 - accuracy: 0.91 - ETA: 3s - loss: 0.2174 - accuracy: 0.91 - ETA: 3s - loss: 0.2174 - accuracy: 0.91 - ETA: 3s - loss: 0.2177 - accuracy: 0.91 - ETA: 3s - loss: 0.2178 - accuracy: 0.91 - ETA: 3s - loss: 0.2188 - accuracy: 0.91 - ETA: 3s - loss: 0.2197 - accuracy: 0.91 - ETA: 3s - loss: 0.2198 - accuracy: 0.91 - ETA: 3s - loss: 0.2204 - accuracy: 0.91 - ETA: 3s - loss: 0.2210 - accuracy: 0.91 - ETA: 3s - loss: 0.2214 - accuracy: 0.91 - ETA: 3s - loss: 0.2212 - accuracy: 0.91 - ETA: 3s - loss: 0.2207 - accuracy: 0.91 - ETA: 3s - loss: 0.2196 - accuracy: 0.91 - ETA: 3s - loss: 0.2200 - accuracy: 0.91 - ETA: 3s - loss: 0.2204 - accuracy: 0.91 - ETA: 3s - loss: 0.2220 - accuracy: 0.91 - ETA: 3s - loss: 0.2218 - accuracy: 0.91 - ETA: 3s - loss: 0.2214 - accuracy: 0.91 - ETA: 3s - loss: 0.2205 - accuracy: 0.91 - ETA: 2s - loss: 0.2199 - accuracy: 0.91 - ETA: 2s - loss: 0.2202 - accuracy: 0.91 - ETA: 2s - loss: 0.2201 - accuracy: 0.91 - ETA: 2s - loss: 0.2192 - accuracy: 0.91 - ETA: 2s - loss: 0.2197 - accuracy: 0.91 - ETA: 2s - loss: 0.2202 - accuracy: 0.91 - ETA: 2s - loss: 0.2195 - accuracy: 0.91 - ETA: 2s - loss: 0.2184 - accuracy: 0.91 - ETA: 2s - loss: 0.2182 - accuracy: 0.91 - ETA: 2s - loss: 0.2178 - accuracy: 0.91 - ETA: 2s - loss: 0.2179 - accuracy: 0.91 - ETA: 2s - loss: 0.2183 - accuracy: 0.91 - ETA: 2s - loss: 0.2180 - accuracy: 0.91 - ETA: 2s - loss: 0.2180 - accuracy: 0.91 - ETA: 2s - loss: 0.2187 - accuracy: 0.91 - ETA: 2s - loss: 0.2198 - accuracy: 0.91 - ETA: 2s - loss: 0.2194 - accuracy: 0.91 - ETA: 2s - loss: 0.2194 - accuracy: 0.91 - ETA: 2s - loss: 0.2196 - accuracy: 0.91 - ETA: 1s - loss: 0.2198 - accuracy: 0.91 - ETA: 1s - loss: 0.2200 - accuracy: 0.91 - ETA: 1s - loss: 0.2205 - accuracy: 0.91 - ETA: 1s - loss: 0.2200 - accuracy: 0.91 - ETA: 1s - loss: 0.2193 - accuracy: 0.91 - ETA: 1s - loss: 0.2195 - accuracy: 0.91 - ETA: 1s - loss: 0.2198 - accuracy: 0.91 - ETA: 1s - loss: 0.2198 - accuracy: 0.91 - ETA: 1s - loss: 0.2195 - accuracy: 0.91 - ETA: 1s - loss: 0.2196 - accuracy: 0.91 - ETA: 1s - loss: 0.2199 - accuracy: 0.91 - ETA: 1s - loss: 0.2199 - accuracy: 0.91 - ETA: 1s - loss: 0.2194 - accuracy: 0.91 - ETA: 1s - loss: 0.2200 - accuracy: 0.91 - ETA: 1s - loss: 0.2197 - accuracy: 0.91 - ETA: 1s - loss: 0.2194 - accuracy: 0.91 - ETA: 1s - loss: 0.2197 - accuracy: 0.91 - ETA: 1s - loss: 0.2197 - accuracy: 0.91 - ETA: 1s - loss: 0.2202 - accuracy: 0.91 - ETA: 0s - loss: 0.2205 - accuracy: 0.91 - ETA: 0s - loss: 0.2209 - accuracy: 0.91 - ETA: 0s - loss: 0.2205 - accuracy: 0.91 - ETA: 0s - loss: 0.2204 - accuracy: 0.91 - ETA: 0s - loss: 0.2206 - accuracy: 0.91 - ETA: 0s - loss: 0.2203 - accuracy: 0.91 - ETA: 0s - loss: 0.2207 - accuracy: 0.91 - ETA: 0s - loss: 0.2209 - accuracy: 0.91 - ETA: 0s - loss: 0.2210 - accuracy: 0.91 - ETA: 0s - loss: 0.2211 - accuracy: 0.91 - ETA: 0s - loss: 0.2209 - accuracy: 0.91 - ETA: 0s - loss: 0.2217 - accuracy: 0.91 - ETA: 0s - loss: 0.2220 - accuracy: 0.91 - ETA: 0s - loss: 0.2222 - accuracy: 0.91 - ETA: 0s - loss: 0.2219 - accuracy: 0.91 - ETA: 0s - loss: 0.2221 - accuracy: 0.91 - ETA: 0s - loss: 0.2223 - accuracy: 0.91 - ETA: 0s - loss: 0.2220 - accuracy: 0.91 - ETA: 0s - loss: 0.2221 - accuracy: 0.91 - 5s 3ms/step - loss: 0.2227 - accuracy: 0.9168\n"
     ]
    },
    {
     "data": {
      "text/plain": [
       "<tensorflow.python.keras.callbacks.History at 0x21f169480a0>"
      ]
     },
     "execution_count": 5,
     "metadata": {},
     "output_type": "execute_result"
    }
   ],
   "source": [
    "best_hps = tuner.get_best_hyperparameters()[0]\n",
    "best_hps.get('units'), best_hps.get('learning_rate')\n",
    "model = tuner.hypermodel.build(best_hps)\n",
    "model.fit(train_images, train_labels, epochs = 10)"
   ]
  },
  {
   "cell_type": "markdown",
   "metadata": {},
   "source": [
    "To actually see the results of we collected, perform a little [line magic](https://ipython.readthedocs.io/en/stable/interactive/magics.html).    \n",
    "Sometimes Tensorboard doesn't open up immediately and times out (>10 seconds to load), so you might have to run the cell a few times before it does anything. This happens more frequently on Windows. "
   ]
  },
  {
   "cell_type": "code",
   "execution_count": 8,
   "metadata": {
    "scrolled": true
   },
   "outputs": [
    {
     "name": "stdout",
     "output_type": "stream",
     "text": [
      "The tensorboard extension is already loaded. To reload it, use:\n",
      "  %reload_ext tensorboard\n"
     ]
    },
    {
     "data": {
      "text/plain": [
       "Reusing TensorBoard on port 6006 (pid 4204), started 0:01:33 ago. (Use '!kill 4204' to kill it.)"
      ]
     },
     "metadata": {},
     "output_type": "display_data"
    },
    {
     "data": {
      "text/html": [
       "\n",
       "      <iframe id=\"tensorboard-frame-6885dcefe5d441fc\" width=\"100%\" height=\"800\" frameborder=\"0\">\n",
       "      </iframe>\n",
       "      <script>\n",
       "        (function() {\n",
       "          const frame = document.getElementById(\"tensorboard-frame-6885dcefe5d441fc\");\n",
       "          const url = new URL(\"/\", window.location);\n",
       "          url.port = 6006;\n",
       "          frame.src = url;\n",
       "        })();\n",
       "      </script>\n",
       "  "
      ],
      "text/plain": [
       "<IPython.core.display.HTML object>"
      ]
     },
     "metadata": {},
     "output_type": "display_data"
    }
   ],
   "source": [
    "%load_ext tensorboard\n",
    "%tensorboard --logdir logs"
   ]
  }
 ],
 "metadata": {
  "kernelspec": {
   "display_name": "learn_tf",
   "language": "python",
   "name": "learn_tf"
  },
  "language_info": {
   "codemirror_mode": {
    "name": "ipython",
    "version": 3
   },
   "file_extension": ".py",
   "mimetype": "text/x-python",
   "name": "python",
   "nbconvert_exporter": "python",
   "pygments_lexer": "ipython3",
   "version": "3.8.0"
  }
 },
 "nbformat": 4,
 "nbformat_minor": 4
}
